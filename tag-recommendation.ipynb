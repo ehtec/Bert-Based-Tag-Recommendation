{
 "cells": [
  {
   "cell_type": "code",
   "execution_count": 17,
   "metadata": {
    "_cell_guid": "b1076dfc-b9ad-4769-8c92-a6c4dae69d19",
    "_uuid": "8f2839f25d086af736a60e9eeb907d3b93b6e0e5",
    "papermill": {
     "duration": 0.02462,
     "end_time": "2021-01-06T14:24:23.259454",
     "exception": false,
     "start_time": "2021-01-06T14:24:23.234834",
     "status": "completed"
    },
    "tags": []
   },
   "outputs": [],
   "source": [
    "# This Python 3 environment comes with many helpful analytics libraries installed\n",
    "# It is defined by the kaggle/python Docker image: https://github.com/kaggle/docker-python\n",
    "# For example, here's several helpful packages to load\n",
    "\n",
    "import numpy as np # linear algebra\n",
    "import pandas as pd # data processing, CSV file I/O (e.g. pd.read_csv)\n",
    "\n",
    "# Input data files are available in the read-only \"../input/\" directory\n",
    "# For example, running this (by clicking run or pressing Shift+Enter) will list all files under the input directory\n",
    "\n",
    "import os\n",
    "# for dirname, _, filenames in os.walk('/kaggle/input'):\n",
    "#     for filename in filenames:\n",
    "#         print(os.path.join(dirname, filename))\n",
    "\n",
    "# You can write up to 5GB to the current directory (/kaggle/working/) that gets preserved as output when you create a version using \"Save & Run All\" \n",
    "# You can also write temporary files to /kaggle/temp/, but they won't be saved outside of the current session\n",
    "from tqdm import tqdm\n",
    "import copy"
   ]
  },
  {
   "cell_type": "code",
   "execution_count": 2,
   "metadata": {
    "_cell_guid": "79c7e3d0-c299-4dcb-8224-4455121ee9b0",
    "_uuid": "d629ff2d2480ee46fbb7e2d37f6b5fab8052498a",
    "papermill": {
     "duration": null,
     "end_time": null,
     "exception": false,
     "start_time": "2021-01-06T14:24:23.272653",
     "status": "running"
    },
    "tags": []
   },
   "outputs": [],
   "source": [
    "# pip install bert-tensorflow\n",
    "# Do not install this"
   ]
  },
  {
   "cell_type": "code",
   "execution_count": 3,
   "metadata": {
    "papermill": {
     "duration": null,
     "end_time": null,
     "exception": null,
     "start_time": null,
     "status": "pending"
    },
    "tags": []
   },
   "outputs": [],
   "source": [
    "# pip install bert-for-tf2\n",
    "# already installed"
   ]
  },
  {
   "cell_type": "code",
   "execution_count": 4,
   "metadata": {
    "papermill": {
     "duration": null,
     "end_time": null,
     "exception": null,
     "start_time": null,
     "status": "pending"
    },
    "tags": []
   },
   "outputs": [],
   "source": [
    "# pip install sentencepiece\n",
    "# already installed"
   ]
  },
  {
   "cell_type": "code",
   "execution_count": 5,
   "metadata": {
    "papermill": {
     "duration": null,
     "end_time": null,
     "exception": null,
     "start_time": null,
     "status": "pending"
    },
    "tags": []
   },
   "outputs": [],
   "source": [
    "try:\n",
    "    %tensorflow_version 2.x\n",
    "except Exception:\n",
    "    pass\n",
    "import tensorflow as tf\n",
    "\n",
    "import tensorflow_hub as hub\n",
    "\n",
    "from tensorflow.keras import layers\n",
    "import bert"
   ]
  },
  {
   "cell_type": "code",
   "execution_count": 6,
   "metadata": {
    "papermill": {
     "duration": null,
     "end_time": null,
     "exception": null,
     "start_time": null,
     "status": "pending"
    },
    "tags": []
   },
   "outputs": [],
   "source": [
    "import os\n",
    "os.environ['TF_CPP_MIN_LOG_LEVEL'] = '3'\n",
    "import gc\n",
    "import os\n",
    "import numpy as np\n",
    "import collections\n",
    "from sklearn.metrics import confusion_matrix\n",
    "from sklearn.metrics import accuracy_score\n",
    "from sklearn.metrics import precision_recall_fscore_support\n",
    "from keras.callbacks import ModelCheckpoint\n",
    "import random"
   ]
  },
  {
   "cell_type": "code",
   "execution_count": 7,
   "metadata": {},
   "outputs": [],
   "source": [
    "# generator to split list into chunks\n",
    "def chunks(lst, n):\n",
    "    if not n:\n",
    "        raise Exception(\"n must be a positive integer\")\n",
    "\n",
    "    for i in range(0, len(lst), n):\n",
    "        yield lst[i:i + n]\n"
   ]
  },
  {
   "cell_type": "code",
   "execution_count": 8,
   "metadata": {
    "papermill": {
     "duration": null,
     "end_time": null,
     "exception": null,
     "start_time": null,
     "status": "pending"
    },
    "tags": []
   },
   "outputs": [],
   "source": [
    "def transliterate(line):\n",
    "    cedilla2latin = [[u'Á', u'A'], [u'á', u'a'], [u'Č', u'C'], [u'č', u'c'], [u'Š', u'S'], [u'š', u's']]\n",
    "    tr = dict([(a[0], a[1]) for (a) in cedilla2latin])\n",
    "    new_line = \"\"\n",
    "    for letter in line:\n",
    "        if letter in tr:\n",
    "            new_line += tr[letter]\n",
    "        else:\n",
    "            new_line += letter\n",
    "    return new_line"
   ]
  },
  {
   "cell_type": "code",
   "execution_count": 9,
   "metadata": {
    "papermill": {
     "duration": null,
     "end_time": null,
     "exception": null,
     "start_time": null,
     "status": "pending"
    },
    "tags": []
   },
   "outputs": [],
   "source": [
    "def text_cleaner(text,\n",
    "                 deep_clean=True,\n",
    "                 stem= True,\n",
    "                 stop_words=True,\n",
    "                 translite_rate=True):\n",
    "    rules = [\n",
    "        {r'>\\s+': u'>'},  # remove spaces after a tag opens or closes\n",
    "        {r'\\s+': u' '},  # replace consecutive spaces\n",
    "        {r'\\s*<br\\s*/?>\\s*': u'\\n'},  # newline after a <br>\n",
    "        {r'</(div)\\s*>\\s*': u'\\n'},  # newline after </p> and </div> and <h1/>...\n",
    "        {r'</(p|h\\d)\\s*>\\s*': u'\\n\\n'},  # newline after </p> and </div> and <h1/>...\n",
    "        {r'<head>.*<\\s*(/head|body)[^>]*>': u''},  # remove <head> to </head>\n",
    "        {r'<a\\s+href=\"([^\"]+)\"[^>]*>.*</a>': r'\\1'},  # show links instead of texts\n",
    "        {r'[ \\t]*<[^<]*?/?>': u''},  # remove remaining tags\n",
    "        {r'^\\s+': u''}  # remove spaces at the beginning\n",
    "\n",
    "    ]\n",
    "\n",
    "    if deep_clean:\n",
    "        text = text.replace(\".\", \"\")\n",
    "        text = text.replace(\"[\", \" \")\n",
    "        text = text.replace(\",\", \" \")\n",
    "        text = text.replace(\"]\", \" \")\n",
    "        text = text.replace(\"(\", \" \")\n",
    "        text = text.replace(\")\", \" \")\n",
    "        text = text.replace(\"\\\"\", \"\")\n",
    "        text = text.replace(\"-\", \" \")\n",
    "        text = text.replace(\"=\", \" \")\n",
    "        text = text.replace(\"?\", \" \")\n",
    "        text = text.replace(\"!\", \" \")\n",
    "\n",
    "        for rule in rules:\n",
    "            for (k, v) in rule.items():\n",
    "                regex = re.compile(k)\n",
    "                text = regex.sub(v, text)\n",
    "            text = text.rstrip()\n",
    "            text = text.strip()\n",
    "        text = text.replace('+', ' ').replace('.', ' ').replace(',', ' ').replace(':', ' ')\n",
    "        text = re.sub(\"(^|\\W)\\d+($|\\W)\", \" \", text)\n",
    "        if translite_rate:\n",
    "            text = transliterate(text)\n",
    "        if stem:\n",
    "            text = PorterStemmer().stem(text)\n",
    "        text = WordNetLemmatizer().lemmatize(text)\n",
    "        if stop_words:\n",
    "            stop_words = set(stopwords.words('english'))\n",
    "            word_tokens = word_tokenize(text)\n",
    "            text = [w for w in word_tokens if not w in stop_words]\n",
    "            text = ' '.join(str(e) for e in text)\n",
    "    else:\n",
    "        for rule in rules:\n",
    "            for (k, v) in rule.items():\n",
    "                regex = re.compile(k)\n",
    "                text = regex.sub(v, text)\n",
    "            text = text.rstrip()\n",
    "            text = text.strip()\n",
    "    return text.lower()"
   ]
  },
  {
   "cell_type": "code",
   "execution_count": 10,
   "metadata": {
    "papermill": {
     "duration": null,
     "end_time": null,
     "exception": null,
     "start_time": null,
     "status": "pending"
    },
    "tags": []
   },
   "outputs": [],
   "source": [
    "#make pre-train for bert\n",
    "BertTokenizer = bert.bert_tokenization.FullTokenizer\n",
    "bert_layer = hub.KerasLayer(\"https://tfhub.dev/tensorflow/bert_en_uncased_L-12_H-768_A-12/1\",\n",
    "                            trainable=False)\n",
    "vocabulary_file = bert_layer.resolved_object.vocab_file.asset_path.numpy()\n",
    "to_lower_case = bert_layer.resolved_object.do_lower_case.numpy()\n",
    "tokenizer = BertTokenizer(vocabulary_file, to_lower_case)"
   ]
  },
  {
   "cell_type": "code",
   "execution_count": 11,
   "metadata": {
    "papermill": {
     "duration": null,
     "end_time": null,
     "exception": null,
     "start_time": null,
     "status": "pending"
    },
    "tags": []
   },
   "outputs": [
    {
     "name": "stderr",
     "output_type": "stream",
     "text": [
      "[nltk_data] Downloading package stopwords to /home/elias/nltk_data...\n",
      "[nltk_data]   Package stopwords is already up-to-date!\n",
      "/home/elias/.local/lib/python3.7/site-packages/sklearn/utils/deprecation.py:87: FutureWarning: Function get_feature_names is deprecated; get_feature_names is deprecated in 1.0 and will be removed in 1.2. Please use get_feature_names_out instead.\n",
      "  warnings.warn(msg, category=FutureWarning)\n"
     ]
    },
    {
     "name": "stdout",
     "output_type": "stream",
     "text": [
      "                                 tag  Counts\n",
      "0         (devexpress-codegenerator)       1\n",
      "1                               *bsd       1\n",
      "2      .jrxml-specifications-support       1\n",
      "3                               .net      29\n",
      "4  .net-client-profile-compatibility       1\n",
      "                       tag  Counts\n",
      "7395  software-development    9655\n",
      "3790              internet    8171\n",
      "8594                   web    6316\n",
      "4277             libraries    5758\n",
      "5111            multimedia    4833\n",
      "...                    ...     ...\n",
      "304              animation      52\n",
      "8508                  voip      51\n",
      "5738         page-counters      51\n",
      "528         authentication      51\n",
      "5777                parser      51\n",
      "\n",
      "[273 rows x 2 columns] tags are used more than 80 times\n",
      "most_common_tag: 220\n",
      "most_occurs [('Systems-Administration', 1844), ('Information-Management', 1349), ('Issue-Tracking', 197), ('PHP', 491), ('php-classes', 824), ('Security', 1978), ('LDAP', 92), ('SQL', 85), ('Operating-Systems', 492), ('Monitoring', 1875), ('Software-Development', 9655), ('Internet', 8171), ('FTP', 375), ('Mirroring', 107), ('Web', 6316), ('Web-Application', 106), ('Communications', 4478), ('Telephony', 303), ('Office/Business', 1878), ('Point-Of-Sale', 113), ('Game', 185), ('Database', 2215), ('MySQL', 135), ('Desktop-Environment', 2372), ('Terminals', 333), ('Terminal-Emulators/X-Terminals', 125), ('Site-Management', 1360), ('Log-Analysis', 384), ('Libraries', 5758), ('Benchmark', 129), ('Logging', 484), ('Networking', 2841), ('Utilities', 3315), ('PDF', 88), ('Java', 463), ('Embedded-Systems', 272), ('C++', 96), ('Library', 306), ('Interpreters', 475), ('Command-Line', 103), ('Scientific/Engineering', 2687), ('Version-Control', 423), ('C', 103), ('Email', 1668), ('Filters', 636), ('Dynamic-Content', 3232), ('CGI-Tools/Libraries', 795), ('groupware', 389), ('Scheduling', 423), ('Office-Suites', 116), ('News/Diary', 345), ('GPL', 1450), ('Address-Book', 112), ('Front-Ends', 796), ('Email-Clients-(MUA)', 243), ('Workflow-Frameworks', 132), ('multimedia', 4833), ('Sound/Audio', 2106), ('Players', 691), ('MP3', 450), ('HTML', 106), ('Testing', 731), ('Archiving', 949), ('Network', 155), ('Server', 96), ('Linux', 632), ('Windows', 118), ('Financial', 593), ('Accounting', 247), ('Games/Entertainment', 2545), ('Role-Playing', 281), ('Real-Time-Strategy', 102), ('MIDI', 163), ('music', 108), ('Visualization', 652), ('POSIX', 180), ('Debuggers', 286), ('Integrated-Development-Environments-(IDE)', 189), ('Home-Automation', 126), ('Artificial-Intelligence', 350), ('HTTP-Servers', 594), ('Markup', 1196), ('XML', 710), ('Object-Brokering', 153), ('Java-Libraries', 1153), ('Clustering/Distributed-Networks', 356), ('Document-Repositories', 283), ('Python-Modules', 503), ('Hardware', 503), ('Database-Engines/Servers', 379), ('Build-Tools', 520), ('Quality-Assurance', 372), ('Firewalls', 473), ('Cryptography', 609), ('Proxy-Servers', 268), ('Compilers', 502), ('Python', 238), ('Compression', 201), ('Packaging', 163), ('backup', 455), ('DNS', 272), ('Application-Frameworks', 779), ('API', 314), ('Installation/Setup', 411), ('Software-Distribution', 241), ('Software-Distribution-Tools', 231), ('Astronomy', 163), ('Simulation', 252), ('Puzzle-Games', 407), ('Graphics', 2281), ('GUI', 101), ('Games', 120), ('Text-Processing', 2142), ('Medical-Science', 150), ('CMS', 152), ('Wiki', 157), ('GPLv3', 107), ('Linux-Distributions', 307), ('education', 1015), ('Emulators', 233), ('Unix', 85), ('IMAP', 152), ('CD-Audio', 237), ('CD-Writing', 80), ('CD-Ripping', 104), ('Boot', 200), ('Mathematics', 661), ('Chat', 1006), ('Diagnostics', 176), ('CRM', 83), ('File-Sharing', 556), ('Recovery-Tools', 149), ('Bioinformatics', 228), ('tools', 346), ('GNOME', 640), ('POP3', 193), ('User-Interfaces', 465), ('Code-Generators', 642), ('Browsers', 325), ('Filesystems', 466), ('Usenet-News', 160), ('IRC', 452), ('HTML/XHTML', 417), ('Electronic-Design-Automation-(EDA)', 128), ('Editors', 407), ('fonts', 109), ('Indexing', 121), ('php-class', 134), ('Shells', 207), ('File-Managers', 210), ('Metadata/Semantic-Models', 121), ('Records-Management', 205), ('Post-Office', 265), ('First-Person-Shooters', 121), ('Arcade', 402), ('Development', 122), ('Window-Manager', 412), ('Text-Editors', 635), ('CVS', 131), ('JavaScript', 149), ('Perl-Modules', 369), ('Widget-Sets', 305), ('GPLv2', 103), ('Analysis', 169), ('KDE', 421), ('framework', 198), ('Documentation', 508), ('Indexing/Search', 441), ('Applets', 149), ('Video', 825), ('Physics', 110), ('Linguistic', 194), ('General', 165), ('Other/Nonlisted-Topic', 271), ('Viewers', 450), ('Bug-Tracking', 192), ('Capture', 311), ('Conferencing', 171), ('Computer-Aided-Instruction-(CAI)', 137), ('Perl', 104), ('Display', 188), ('Presentation', 362), ('printing', 260), ('Conversion', 338), ('Graphics-Conversion', 283), ('LGPL', 189), ('Geographical', 151), ('3D-Rendering', 292), ('Operating-System-Kernels', 420), ('Vector-Based', 85), ('Message-Boards', 232), ('Audio', 120), ('TeX/LaTeX', 141), ('3D-Modeling', 169), ('Mail-Transport-Agents', 234), ('Turn-Based-Strategy', 249), ('Speech', 94), ('Word-Processors', 81), ('Chemistry', 122), ('CD-Based', 114), ('Localization', 87), ('Mailing-List-Servers', 94), ('Freeware', 102), ('Link-Checking', 103), ('Capture/Recording', 139), ('Subversion', 100), ('mud', 142), ('Emacs', 89), ('XSL/XSLT', 123), ('Ham-Radio', 91), ('Internationalization', 102), ('Internet-Phone', 142), ('BSD-Original', 99), ('Digital-Camera', 93), ('Artistic-Software', 183), ('Sound-Synthesis', 112), ('Window-Maker', 148), ('Ruby-Modules', 113), ('BBS', 128), ('GNUstep', 85), ('AOL-Instant-Messenger', 83)]\n",
      "Number of data points in training data : 32845\n",
      "Number of data points in test data : 10000\n"
     ]
    }
   ],
   "source": [
    "import pandas as pd\n",
    "from bs4 import BeautifulSoup as bs\n",
    "from collections import Counter\n",
    "from nltk.stem import PorterStemmer, WordNetLemmatizer\n",
    "import numpy as np\n",
    "import re\n",
    "from sklearn.feature_extraction.text import TfidfVectorizer, CountVectorizer\n",
    "from keras.preprocessing.text import Tokenizer\n",
    "from keras.preprocessing.sequence import pad_sequences\n",
    "import numpy as np\n",
    "import nltk\n",
    "from nltk import word_tokenize\n",
    "from nltk.corpus import stopwords\n",
    "import re\n",
    "from nltk.stem import PorterStemmer, WordNetLemmatizer\n",
    "nltk.download(\"stopwords\")\n",
    "cachedStopWords = stopwords.words(\"english\")\n",
    "from sklearn.model_selection import train_test_split\n",
    "\n",
    "\n",
    "#Function to convert html body of data to text\n",
    "def convert_html_to_text(data):\n",
    "    soup = bs(data,'html.parser')\n",
    "    body = soup.get_text()\n",
    "    return body\n",
    "\n",
    "#Prepare data\n",
    "mytrain = pd.read_csv(\"../freecode_data.csv\")\n",
    "\n",
    "#print(mytrain['Tags'])\n",
    "\n",
    "mytrain['Title'] = mytrain['title'].apply(text_cleaner)\n",
    "\n",
    "mytrain['Body'] = mytrain['question'].apply(text_cleaner)\n",
    "\n",
    "mytrain['Text'] = mytrain['Title'] + \"\\n\" + mytrain['Body']\n",
    "\n",
    "\n",
    "\n",
    "\n",
    "#Frequency of each tag\n",
    "\n",
    "vectorizer = CountVectorizer(tokenizer = lambda x: x.split())\n",
    "tag_bow = vectorizer.fit_transform(mytrain['tag'])\n",
    "\n",
    "tags = vectorizer.get_feature_names()\n",
    "\n",
    "freq = tag_bow.sum(axis=0).A1\n",
    "tag_to_count_map = dict(zip(tags, freq))\n",
    "\n",
    "lst = []\n",
    "for key, value in tag_to_count_map.items():\n",
    "  lst.append([key, value]) \n",
    "\n",
    "\n",
    "tag_df = pd.DataFrame(lst, columns=['tag', 'Counts'])\n",
    "print(tag_df.head())\n",
    "\n",
    "tag_df_sorted = tag_df.sort_values(['Counts'], ascending=False)\n",
    "\n",
    "\n",
    "print(\"{} tags are used more than 80 times\".format(tag_df_sorted[tag_df_sorted[\"Counts\"]>50]))\n",
    "\n",
    "\n",
    "\n",
    "most_common_tag = tag_df_sorted[tag_df_sorted[\"Counts\"]>80].shape[0]\n",
    "\n",
    "print(\"most_common_tag:\",most_common_tag)\n",
    "\n",
    "\n",
    "X = mytrain['Text'].tolist()\n",
    "#print(X[7])\n",
    "\n",
    "\n",
    "#prepare tags\n",
    "list_of_tags = []\n",
    "for item in mytrain['tag']:\n",
    "    temp = item.split(\" \")\n",
    "    for word in temp:\n",
    "        if not word in list_of_tags:\n",
    "            list_of_tags.append(word)\n",
    "            \n",
    "\n",
    "list_of_all_tags = []\n",
    "for item in mytrain['tag']:\n",
    "    temp = item.split(\" \")\n",
    "    for word in temp:\n",
    "        list_of_all_tags.append(word)\n",
    "\n",
    "\n",
    "counts = Counter(list_of_all_tags)\n",
    "\n",
    "most_occurs = [(k, v) for k, v in counts.items() if v >= 80] # todo: check this with Navid\n",
    "print(\"most_occurs\", most_occurs)\n",
    "\n",
    "tags = []\n",
    "for item in most_occurs:\n",
    "    tags.append(item[0])\n",
    "    #print(\"tags:\",tags)\n",
    "\n",
    "\n",
    "\n",
    "#print(\"tags:\",tags)\n",
    "y = []\n",
    "S=0\n",
    "for item in mytrain['tag']:\n",
    "    self_tags = []\n",
    "    itemsplitted = item.split(\" \")\n",
    "    \n",
    "    for word in tags:\n",
    "        if word in itemsplitted:\n",
    "            self_tags.append(1)\n",
    "        else:\n",
    "            self_tags.append(0)\n",
    "    \n",
    "    values = np.array(self_tags)\n",
    "    \n",
    "    Y=all(values == 0)\n",
    "    if Y==True:\n",
    "        \n",
    "        del X[S]\n",
    "        S=S-1\n",
    "    else:\n",
    "        y.append(np.array(self_tags))\n",
    "    S=S+1    \n",
    "    \n",
    "\n",
    "y_list = []\n",
    "for elem in y:\n",
    "    y_list.append(elem.tolist())\n",
    "    \n",
    "def tokenize_data(data):\n",
    "    return tokenizer.convert_tokens_to_ids(tokenizer.tokenize(data))\n",
    "\n",
    "\n",
    "\n",
    "tokenized_data = [tokenize_data(data) for data in X]\n",
    "\n",
    "\n",
    "tokenized_data_train,tokenized_data_test,y_list_train, y_list_test = train_test_split(tokenized_data, y_list, test_size = 10000,random_state = 42)\n",
    "print(\"Number of data points in training data :\", len(tokenized_data_train))\n",
    "print(\"Number of data points in test data :\", len(tokenized_data_test))\n",
    "\n",
    "for c,item in enumerate(y_list_test):\n",
    "    y_list_test[c] = np.array(item)"
   ]
  },
  {
   "cell_type": "code",
   "execution_count": null,
   "metadata": {
    "papermill": {
     "duration": null,
     "end_time": null,
     "exception": null,
     "start_time": null,
     "status": "pending"
    },
    "tags": []
   },
   "outputs": [],
   "source": []
  },
  {
   "cell_type": "code",
   "execution_count": null,
   "metadata": {
    "papermill": {
     "duration": null,
     "end_time": null,
     "exception": null,
     "start_time": null,
     "status": "pending"
    },
    "tags": []
   },
   "outputs": [],
   "source": []
  },
  {
   "cell_type": "code",
   "execution_count": 12,
   "metadata": {
    "papermill": {
     "duration": null,
     "end_time": null,
     "exception": null,
     "start_time": null,
     "status": "pending"
    },
    "tags": []
   },
   "outputs": [],
   "source": [
    "def column(matrix, i):\n",
    "    return [row[i] for row in matrix]"
   ]
  },
  {
   "cell_type": "code",
   "execution_count": 13,
   "metadata": {
    "papermill": {
     "duration": null,
     "end_time": null,
     "exception": null,
     "start_time": null,
     "status": "pending"
    },
    "tags": []
   },
   "outputs": [],
   "source": [
    "#Function to show progress in consule :)\n",
    "def progress(count, total, status=''):\n",
    "    bar_len = 60\n",
    "    filled_len = int(round(bar_len * count / float(total)))\n",
    "\n",
    "    percents = round(100.0 * count / float(total), 1)\n",
    "    bar = '=' * filled_len + '-' * (bar_len - filled_len)\n",
    "\n",
    "    sys.stdout.write('[%s] %s%s ...%s\\r' % (bar, percents, '%', status))\n",
    "    sys.stdout.flush()"
   ]
  },
  {
   "cell_type": "code",
   "execution_count": 14,
   "metadata": {
    "papermill": {
     "duration": null,
     "end_time": null,
     "exception": null,
     "start_time": null,
     "status": "pending"
    },
    "tags": []
   },
   "outputs": [],
   "source": [
    "#bert text model\n",
    "class TEXT_MODEL(tf.keras.Model):\n",
    "    \n",
    "    def __init__(self,\n",
    "                 vocabulary_size,\n",
    "                 embedding_dimensions=128,\n",
    "                 cnn_filters=50,\n",
    "                 dnn_units=512,\n",
    "                 model_output_classes=2,\n",
    "                 dropout_rate=0.1,\n",
    "                 training=False,\n",
    "                 name=\"text_model\"):\n",
    "        super(TEXT_MODEL, self).__init__(name=name)\n",
    "        \n",
    "        self.embedding = layers.Embedding(vocabulary_size,\n",
    "                                          embedding_dimensions)\n",
    "        self.cnn_layer1 = layers.Conv1D(filters=cnn_filters,\n",
    "                                        kernel_size=2,\n",
    "                                        padding=\"valid\",\n",
    "                                        activation=\"relu\")\n",
    "        self.cnn_layer2 = layers.Conv1D(filters=cnn_filters,\n",
    "                                        kernel_size=3,\n",
    "                                        padding=\"valid\",\n",
    "                                        activation=\"relu\")\n",
    "        self.cnn_layer3 = layers.Conv1D(filters=cnn_filters,\n",
    "                                        kernel_size=4,\n",
    "                                        padding=\"valid\",\n",
    "                                        activation=\"relu\")\n",
    "\n",
    "                                    \n",
    "            \n",
    "\n",
    "        self.pool = layers.GlobalMaxPool1D()\n",
    "        \n",
    "        self.dense_1 = layers.Dense(units=dnn_units, activation=\"relu\")\n",
    "        self.dropout = layers.Dropout(rate=dropout_rate)\n",
    "        if model_output_classes == 2:\n",
    "            self.last_dense = layers.Dense(units=1,\n",
    "                                           activation=\"sigmoid\")\n",
    "        else:\n",
    "            self.last_dense = layers.Dense(units=model_output_classes,\n",
    "                                           activation=\"softmax\")\n",
    "    \n",
    "    def call(self, inputs, training):\n",
    "        l = self.embedding(inputs)\n",
    "        l_1 = self.cnn_layer1(l) \n",
    "        l_1 = self.pool(l_1) \n",
    "        l_2 = self.cnn_layer2(l) \n",
    "        l_2 = self.pool(l_2)\n",
    "        l_3 = self.cnn_layer3(l)\n",
    "        l_3 = self.pool(l_3) \n",
    "\n",
    "\n",
    "        \n",
    "        concatenated = tf.concat([l_1, l_2, l_3], axis=-1) # (batch_size, 3 * cnn_filters)\n",
    "        concatenated = self.dense_1(concatenated)\n",
    "        concatenated = self.dropout(concatenated, training)\n",
    "        model_output = self.last_dense(concatenated)\n",
    "        \n",
    "        return model_output"
   ]
  },
  {
   "cell_type": "code",
   "execution_count": 36,
   "metadata": {
    "papermill": {
     "duration": null,
     "end_time": null,
     "exception": null,
     "start_time": null,
     "status": "pending"
    },
    "tags": []
   },
   "outputs": [
    {
     "name": "stdout",
     "output_type": "stream",
     "text": [
      "\n",
      "0'th label prediction started\n",
      "count_one 1424\n",
      "count_zero 1424\n",
      "Epoch 1/6\n",
      "89/89 [==============================] - 1s 11ms/step - loss: 0.6518 - acc: 0.6545\n",
      "Epoch 2/6\n",
      "89/89 [==============================] - 1s 11ms/step - loss: 0.3041 - acc: 0.8715\n",
      "Epoch 3/6\n",
      "89/89 [==============================] - 1s 11ms/step - loss: 0.0689 - acc: 0.9817\n",
      "Epoch 4/6\n",
      "89/89 [==============================] - 1s 11ms/step - loss: 0.0123 - acc: 0.9979\n",
      "Epoch 5/6\n",
      "89/89 [==============================] - 1s 11ms/step - loss: 0.0040 - acc: 0.9996\n",
      "Epoch 6/6\n",
      "89/89 [==============================] - 1s 11ms/step - loss: 0.0016 - acc: 1.0000\n",
      "Predicting 0th label...\n"
     ]
    },
    {
     "name": "stderr",
     "output_type": "stream",
     "text": [
      "100%|███████████████████████████████████████████████████████████████████████████████████████████████████████████████████████████████████████████████████████████████████████████████████████████████████████| 313/313 [00:19<00:00, 15.88it/s]\n"
     ]
    },
    {
     "name": "stdout",
     "output_type": "stream",
     "text": [
      "\n",
      "1'th label prediction started\n",
      "count_one 1023\n",
      "count_zero 1023\n",
      "Epoch 1/6\n",
      "64/64 [==============================] - 1s 11ms/step - loss: 0.6628 - acc: 0.6183\n",
      "Epoch 2/6\n",
      "64/64 [==============================] - 1s 11ms/step - loss: 0.4102 - acc: 0.8226\n",
      "Epoch 3/6\n",
      "64/64 [==============================] - 1s 11ms/step - loss: 0.0946 - acc: 0.9765\n",
      "Epoch 4/6\n",
      "64/64 [==============================] - 1s 10ms/step - loss: 0.0170 - acc: 0.9990\n",
      "Epoch 5/6\n",
      "64/64 [==============================] - 1s 11ms/step - loss: 0.0048 - acc: 1.0000\n",
      "Epoch 6/6\n",
      "64/64 [==============================] - 1s 11ms/step - loss: 0.0016 - acc: 1.0000\n",
      "Predicting 1th label...\n"
     ]
    },
    {
     "name": "stderr",
     "output_type": "stream",
     "text": [
      "100%|███████████████████████████████████████████████████████████████████████████████████████████████████████████████████████████████████████████████████████████████████████████████████████████████████████| 313/313 [00:19<00:00, 15.88it/s]\n"
     ]
    },
    {
     "name": "stdout",
     "output_type": "stream",
     "text": [
      "\n",
      "2'th label prediction started\n",
      "count_one 144\n",
      "count_zero 144\n",
      "Epoch 1/6\n",
      "9/9 [==============================] - 1s 13ms/step - loss: 0.6961 - acc: 0.5243\n",
      "Epoch 2/6\n",
      "9/9 [==============================] - 0s 10ms/step - loss: 0.5955 - acc: 0.9618\n",
      "Epoch 3/6\n",
      "9/9 [==============================] - 0s 11ms/step - loss: 0.4417 - acc: 0.9965\n",
      "Epoch 4/6\n",
      "9/9 [==============================] - 0s 11ms/step - loss: 0.2289 - acc: 1.0000\n",
      "Epoch 5/6\n",
      "9/9 [==============================] - 0s 11ms/step - loss: 0.0764 - acc: 1.0000\n",
      "Epoch 6/6\n",
      "9/9 [==============================] - 0s 11ms/step - loss: 0.0188 - acc: 1.0000\n",
      "Predicting 2th label...\n"
     ]
    },
    {
     "name": "stderr",
     "output_type": "stream",
     "text": [
      "100%|███████████████████████████████████████████████████████████████████████████████████████████████████████████████████████████████████████████████████████████████████████████████████████████████████████| 313/313 [00:20<00:00, 15.22it/s]\n"
     ]
    },
    {
     "name": "stdout",
     "output_type": "stream",
     "text": [
      "\n",
      "3'th label prediction started\n",
      "count_one 362\n",
      "count_zero 362\n",
      "Epoch 1/6\n",
      "23/23 [==============================] - 1s 20ms/step - loss: 0.6733 - acc: 0.5622\n",
      "Epoch 2/6\n",
      "23/23 [==============================] - 0s 10ms/step - loss: 0.4566 - acc: 0.8439\n",
      "Epoch 3/6\n",
      "23/23 [==============================] - 0s 10ms/step - loss: 0.2134 - acc: 0.9337\n",
      "Epoch 4/6\n",
      "23/23 [==============================] - 0s 10ms/step - loss: 0.0480 - acc: 0.9959\n",
      "Epoch 5/6\n",
      "23/23 [==============================] - 0s 10ms/step - loss: 0.0094 - acc: 1.0000\n",
      "Epoch 6/6\n",
      "23/23 [==============================] - 0s 11ms/step - loss: 0.0040 - acc: 1.0000\n",
      "Predicting 3th label...\n"
     ]
    },
    {
     "name": "stderr",
     "output_type": "stream",
     "text": [
      "100%|███████████████████████████████████████████████████████████████████████████████████████████████████████████████████████████████████████████████████████████████████████████████████████████████████████| 313/313 [00:19<00:00, 15.87it/s]\n"
     ]
    },
    {
     "name": "stdout",
     "output_type": "stream",
     "text": [
      "\n",
      "4'th label prediction started\n",
      "count_one 640\n",
      "count_zero 640\n",
      "Epoch 1/6\n",
      "40/40 [==============================] - 1s 17ms/step - loss: 0.5938 - acc: 0.7070\n",
      "Epoch 2/6\n",
      "40/40 [==============================] - 0s 11ms/step - loss: 0.2839 - acc: 0.8867\n",
      "Epoch 3/6\n",
      "40/40 [==============================] - 0s 11ms/step - loss: 0.1106 - acc: 0.9672\n",
      "Epoch 4/6\n",
      "40/40 [==============================] - 0s 11ms/step - loss: 0.0251 - acc: 0.9977\n",
      "Epoch 5/6\n",
      "40/40 [==============================] - 0s 11ms/step - loss: 0.0108 - acc: 1.0000\n",
      "Epoch 6/6\n",
      "40/40 [==============================] - 0s 10ms/step - loss: 0.0128 - acc: 0.9992\n",
      "Predicting 4th label...\n"
     ]
    },
    {
     "name": "stderr",
     "output_type": "stream",
     "text": [
      "100%|███████████████████████████████████████████████████████████████████████████████████████████████████████████████████████████████████████████████████████████████████████████████████████████████████████| 313/313 [00:22<00:00, 14.04it/s]\n"
     ]
    },
    {
     "name": "stdout",
     "output_type": "stream",
     "text": [
      "\n",
      "5'th label prediction started\n",
      "count_one 1485\n",
      "count_zero 1485\n",
      "Epoch 1/6\n",
      "93/93 [==============================] - 3s 25ms/step - loss: 0.6136 - acc: 0.6906\n",
      "Epoch 2/6\n",
      "93/93 [==============================] - 1s 11ms/step - loss: 0.2414 - acc: 0.9061\n",
      "Epoch 3/6\n",
      "93/93 [==============================] - 1s 11ms/step - loss: 0.0479 - acc: 0.9889\n",
      "Epoch 4/6\n",
      "93/93 [==============================] - 1s 11ms/step - loss: 0.0129 - acc: 0.9987\n",
      "Epoch 5/6\n",
      "93/93 [==============================] - 1s 11ms/step - loss: 0.0033 - acc: 1.0000\n",
      "Epoch 6/6\n",
      "93/93 [==============================] - 1s 11ms/step - loss: 0.0012 - acc: 1.0000\n",
      "Predicting 5th label...\n"
     ]
    },
    {
     "name": "stderr",
     "output_type": "stream",
     "text": [
      "100%|███████████████████████████████████████████████████████████████████████████████████████████████████████████████████████████████████████████████████████████████████████████████████████████████████████| 313/313 [00:20<00:00, 15.30it/s]\n"
     ]
    },
    {
     "name": "stdout",
     "output_type": "stream",
     "text": [
      "\n",
      "6'th label prediction started\n",
      "count_one 65\n",
      "count_zero 65\n",
      "Epoch 1/6\n",
      "5/5 [==============================] - 1s 31ms/step - loss: 0.7078 - acc: 0.4692\n",
      "Epoch 2/6\n",
      "5/5 [==============================] - 0s 10ms/step - loss: 0.6207 - acc: 0.9692\n",
      "Epoch 3/6\n",
      "5/5 [==============================] - 0s 9ms/step - loss: 0.5417 - acc: 1.0000\n",
      "Epoch 4/6\n",
      "5/5 [==============================] - 0s 11ms/step - loss: 0.4209 - acc: 1.0000\n",
      "Epoch 5/6\n",
      "5/5 [==============================] - 0s 10ms/step - loss: 0.2867 - acc: 0.9923\n",
      "Epoch 6/6\n",
      "5/5 [==============================] - 0s 9ms/step - loss: 0.1663 - acc: 1.0000\n",
      "Predicting 6th label...\n"
     ]
    },
    {
     "name": "stderr",
     "output_type": "stream",
     "text": [
      "100%|███████████████████████████████████████████████████████████████████████████████████████████████████████████████████████████████████████████████████████████████████████████████████████████████████████| 313/313 [00:20<00:00, 15.34it/s]\n"
     ]
    },
    {
     "name": "stdout",
     "output_type": "stream",
     "text": [
      "\n",
      "7'th label prediction started\n",
      "count_one 69\n",
      "count_zero 69\n",
      "Epoch 1/6\n",
      "5/5 [==============================] - 1s 31ms/step - loss: 0.7038 - acc: 0.4275\n",
      "Epoch 2/6\n",
      "5/5 [==============================] - 0s 9ms/step - loss: 0.6329 - acc: 0.9710\n",
      "Epoch 3/6\n",
      "5/5 [==============================] - 0s 9ms/step - loss: 0.5660 - acc: 1.0000\n",
      "Epoch 4/6\n",
      "5/5 [==============================] - 0s 10ms/step - loss: 0.4642 - acc: 1.0000\n",
      "Epoch 5/6\n",
      "5/5 [==============================] - 0s 10ms/step - loss: 0.3282 - acc: 1.0000\n",
      "Epoch 6/6\n",
      "5/5 [==============================] - 0s 11ms/step - loss: 0.1933 - acc: 1.0000\n",
      "Predicting 7th label...\n"
     ]
    },
    {
     "name": "stderr",
     "output_type": "stream",
     "text": [
      "100%|███████████████████████████████████████████████████████████████████████████████████████████████████████████████████████████████████████████████████████████████████████████████████████████████████████| 313/313 [00:20<00:00, 15.62it/s]\n"
     ]
    },
    {
     "name": "stdout",
     "output_type": "stream",
     "text": [
      "\n",
      "8'th label prediction started\n",
      "count_one 372\n",
      "count_zero 372\n",
      "Epoch 1/6\n",
      "24/24 [==============================] - 1s 18ms/step - loss: 0.6869 - acc: 0.5860\n",
      "Epoch 2/6\n",
      "24/24 [==============================] - 0s 11ms/step - loss: 0.5298 - acc: 0.7567\n",
      "Epoch 3/6\n",
      "24/24 [==============================] - 0s 11ms/step - loss: 0.2182 - acc: 0.9328\n",
      "Epoch 4/6\n",
      "24/24 [==============================] - 0s 11ms/step - loss: 0.0566 - acc: 0.9946\n",
      "Epoch 5/6\n",
      "24/24 [==============================] - 0s 11ms/step - loss: 0.0111 - acc: 0.9987\n",
      "Epoch 6/6\n",
      "24/24 [==============================] - 0s 11ms/step - loss: 0.0036 - acc: 1.0000\n",
      "Predicting 8th label...\n"
     ]
    },
    {
     "name": "stderr",
     "output_type": "stream",
     "text": [
      "100%|███████████████████████████████████████████████████████████████████████████████████████████████████████████████████████████████████████████████████████████████████████████████████████████████████████| 313/313 [00:21<00:00, 14.52it/s]\n"
     ]
    },
    {
     "name": "stdout",
     "output_type": "stream",
     "text": [
      "\n",
      "9'th label prediction started\n",
      "count_one 1428\n",
      "count_zero 1428\n",
      "Epoch 1/6\n",
      "90/90 [==============================] - 2s 14ms/step - loss: 0.5812 - acc: 0.7125\n",
      "Epoch 2/6\n",
      "90/90 [==============================] - 1s 11ms/step - loss: 0.1889 - acc: 0.9293\n",
      "Epoch 3/6\n",
      "90/90 [==============================] - 1s 11ms/step - loss: 0.0335 - acc: 0.9954\n",
      "Epoch 4/6\n",
      "90/90 [==============================] - 1s 11ms/step - loss: 0.0065 - acc: 0.9993\n",
      "Epoch 5/6\n",
      "90/90 [==============================] - 1s 11ms/step - loss: 0.0021 - acc: 1.0000\n",
      "Epoch 6/6\n",
      "90/90 [==============================] - 1s 11ms/step - loss: 9.3011e-04 - acc: 1.0000\n",
      "Predicting 9th label...\n"
     ]
    },
    {
     "name": "stderr",
     "output_type": "stream",
     "text": [
      "100%|███████████████████████████████████████████████████████████████████████████████████████████████████████████████████████████████████████████████████████████████████████████████████████████████████████| 313/313 [00:20<00:00, 15.20it/s]\n"
     ]
    },
    {
     "name": "stdout",
     "output_type": "stream",
     "text": [
      "\n",
      "10'th label prediction started\n",
      "count_one 7381\n",
      "count_zero 7381\n",
      "Epoch 1/6\n",
      "462/462 [==============================] - 7s 14ms/step - loss: 0.5067 - acc: 0.7542\n",
      "Epoch 2/6\n",
      "462/462 [==============================] - 5s 11ms/step - loss: 0.3153 - acc: 0.8748\n",
      "Epoch 3/6\n",
      "462/462 [==============================] - 5s 11ms/step - loss: 0.1357 - acc: 0.9546\n",
      "Epoch 4/6\n",
      "462/462 [==============================] - 5s 11ms/step - loss: 0.0534 - acc: 0.9843\n",
      "Epoch 5/6\n",
      "462/462 [==============================] - 5s 11ms/step - loss: 0.0515 - acc: 0.9844\n",
      "Epoch 6/6\n",
      "462/462 [==============================] - 5s 10ms/step - loss: 0.0548 - acc: 0.9809\n",
      "Predicting 10th label...\n"
     ]
    },
    {
     "name": "stderr",
     "output_type": "stream",
     "text": [
      "100%|███████████████████████████████████████████████████████████████████████████████████████████████████████████████████████████████████████████████████████████████████████████████████████████████████████| 313/313 [00:20<00:00, 15.39it/s]\n"
     ]
    },
    {
     "name": "stdout",
     "output_type": "stream",
     "text": [
      "\n",
      "11'th label prediction started\n",
      "count_one 6253\n",
      "count_zero 6253\n",
      "Epoch 1/6\n",
      "391/391 [==============================] - 5s 11ms/step - loss: 0.4978 - acc: 0.7601\n",
      "Epoch 2/6\n",
      "391/391 [==============================] - 4s 11ms/step - loss: 0.2969 - acc: 0.8785\n",
      "Epoch 3/6\n",
      "391/391 [==============================] - 4s 11ms/step - loss: 0.1136 - acc: 0.9640\n",
      "Epoch 4/6\n",
      "391/391 [==============================] - 4s 11ms/step - loss: 0.0391 - acc: 0.9883\n",
      "Epoch 5/6\n",
      "391/391 [==============================] - 4s 11ms/step - loss: 0.0322 - acc: 0.9895\n",
      "Epoch 6/6\n",
      "391/391 [==============================] - 4s 11ms/step - loss: 0.0273 - acc: 0.9901\n",
      "Predicting 11th label...\n"
     ]
    },
    {
     "name": "stderr",
     "output_type": "stream",
     "text": [
      "100%|███████████████████████████████████████████████████████████████████████████████████████████████████████████████████████████████████████████████████████████████████████████████████████████████████████| 313/313 [00:21<00:00, 14.63it/s]\n"
     ]
    },
    {
     "name": "stdout",
     "output_type": "stream",
     "text": [
      "\n",
      "12'th label prediction started\n",
      "count_one 284\n",
      "count_zero 284\n",
      "Epoch 1/6\n",
      "18/18 [==============================] - 1s 17ms/step - loss: 0.6465 - acc: 0.6215\n",
      "Epoch 2/6\n",
      "18/18 [==============================] - 0s 11ms/step - loss: 0.3690 - acc: 0.8838\n",
      "Epoch 3/6\n",
      "18/18 [==============================] - 0s 11ms/step - loss: 0.1555 - acc: 0.9560\n",
      "Epoch 4/6\n",
      "18/18 [==============================] - 0s 11ms/step - loss: 0.0408 - acc: 0.9982\n",
      "Epoch 5/6\n",
      "18/18 [==============================] - 0s 10ms/step - loss: 0.0113 - acc: 0.9982\n",
      "Epoch 6/6\n",
      "18/18 [==============================] - 0s 11ms/step - loss: 0.0032 - acc: 1.0000\n",
      "Predicting 12th label...\n"
     ]
    },
    {
     "name": "stderr",
     "output_type": "stream",
     "text": [
      "100%|███████████████████████████████████████████████████████████████████████████████████████████████████████████████████████████████████████████████████████████████████████████████████████████████████████| 313/313 [00:21<00:00, 14.87it/s]\n"
     ]
    },
    {
     "name": "stdout",
     "output_type": "stream",
     "text": [
      "\n",
      "13'th label prediction started\n",
      "count_one 86\n",
      "count_zero 86\n",
      "Epoch 1/6\n",
      "6/6 [==============================] - 1s 27ms/step - loss: 0.6962 - acc: 0.4826\n",
      "Epoch 2/6\n",
      "6/6 [==============================] - 0s 10ms/step - loss: 0.6260 - acc: 0.9419\n",
      "Epoch 3/6\n",
      "6/6 [==============================] - 0s 10ms/step - loss: 0.5336 - acc: 1.0000\n",
      "Epoch 4/6\n",
      "6/6 [==============================] - 0s 10ms/step - loss: 0.3953 - acc: 1.0000\n",
      "Epoch 5/6\n",
      "6/6 [==============================] - 0s 11ms/step - loss: 0.2360 - acc: 1.0000\n",
      "Epoch 6/6\n",
      "6/6 [==============================] - 0s 10ms/step - loss: 0.1106 - acc: 1.0000\n",
      "Predicting 13th label...\n"
     ]
    },
    {
     "name": "stderr",
     "output_type": "stream",
     "text": [
      "100%|███████████████████████████████████████████████████████████████████████████████████████████████████████████████████████████████████████████████████████████████████████████████████████████████████████| 313/313 [00:20<00:00, 15.35it/s]\n"
     ]
    },
    {
     "name": "stdout",
     "output_type": "stream",
     "text": [
      "\n",
      "14'th label prediction started\n",
      "count_one 4850\n",
      "count_zero 4850\n",
      "Epoch 1/6\n",
      "304/304 [==============================] - 4s 12ms/step - loss: 0.4355 - acc: 0.8019\n",
      "Epoch 2/6\n",
      "304/304 [==============================] - 3s 11ms/step - loss: 0.2259 - acc: 0.9116\n",
      "Epoch 3/6\n",
      "304/304 [==============================] - 3s 11ms/step - loss: 0.0682 - acc: 0.9789\n",
      "Epoch 4/6\n",
      "304/304 [==============================] - 3s 11ms/step - loss: 0.0149 - acc: 0.9964\n",
      "Epoch 5/6\n",
      "304/304 [==============================] - 3s 11ms/step - loss: 0.0124 - acc: 0.9961\n",
      "Epoch 6/6\n",
      "304/304 [==============================] - 3s 11ms/step - loss: 0.0070 - acc: 0.9977\n",
      "Predicting 14th label...\n"
     ]
    },
    {
     "name": "stderr",
     "output_type": "stream",
     "text": [
      "100%|███████████████████████████████████████████████████████████████████████████████████████████████████████████████████████████████████████████████████████████████████████████████████████████████████████| 313/313 [00:21<00:00, 14.90it/s]\n"
     ]
    },
    {
     "name": "stdout",
     "output_type": "stream",
     "text": [
      "\n",
      "15'th label prediction started\n",
      "count_one 77\n",
      "count_zero 77\n",
      "Epoch 1/6\n",
      "5/5 [==============================] - 1s 43ms/step - loss: 0.6984 - acc: 0.5000\n",
      "Epoch 2/6\n",
      "5/5 [==============================] - 0s 11ms/step - loss: 0.6274 - acc: 0.9935\n",
      "Epoch 3/6\n",
      "5/5 [==============================] - 0s 11ms/step - loss: 0.5438 - acc: 1.0000\n",
      "Epoch 4/6\n",
      "5/5 [==============================] - 0s 10ms/step - loss: 0.4239 - acc: 0.9935\n",
      "Epoch 5/6\n",
      "5/5 [==============================] - 0s 10ms/step - loss: 0.2813 - acc: 1.0000\n",
      "Epoch 6/6\n",
      "5/5 [==============================] - 0s 10ms/step - loss: 0.1554 - acc: 1.0000\n",
      "Predicting 15th label...\n"
     ]
    },
    {
     "name": "stderr",
     "output_type": "stream",
     "text": [
      "100%|███████████████████████████████████████████████████████████████████████████████████████████████████████████████████████████████████████████████████████████████████████████████████████████████████████| 313/313 [00:20<00:00, 15.28it/s]\n"
     ]
    },
    {
     "name": "stdout",
     "output_type": "stream",
     "text": [
      "\n",
      "16'th label prediction started\n",
      "count_one 3487\n",
      "count_zero 3487\n",
      "Epoch 1/6\n",
      "218/218 [==============================] - 3s 11ms/step - loss: 0.4729 - acc: 0.7822\n",
      "Epoch 2/6\n",
      "218/218 [==============================] - 2s 11ms/step - loss: 0.1986 - acc: 0.9246\n",
      "Epoch 3/6\n",
      "218/218 [==============================] - 2s 11ms/step - loss: 0.0511 - acc: 0.9858\n",
      "Epoch 4/6\n",
      "218/218 [==============================] - 2s 11ms/step - loss: 0.0081 - acc: 0.9989\n",
      "Epoch 5/6\n",
      "218/218 [==============================] - 2s 11ms/step - loss: 0.0020 - acc: 0.9999\n",
      "Epoch 6/6\n",
      "218/218 [==============================] - 2s 11ms/step - loss: 0.0017 - acc: 0.9996\n",
      "Predicting 16th label...\n"
     ]
    },
    {
     "name": "stderr",
     "output_type": "stream",
     "text": [
      "100%|███████████████████████████████████████████████████████████████████████████████████████████████████████████████████████████████████████████████████████████████████████████████████████████████████████| 313/313 [00:20<00:00, 14.91it/s]\n"
     ]
    },
    {
     "name": "stdout",
     "output_type": "stream",
     "text": [
      "\n",
      "17'th label prediction started\n",
      "count_one 231\n",
      "count_zero 231\n",
      "Epoch 1/6\n",
      "15/15 [==============================] - 1s 19ms/step - loss: 0.6848 - acc: 0.5368\n",
      "Epoch 2/6\n",
      "15/15 [==============================] - 0s 11ms/step - loss: 0.5433 - acc: 0.9156\n",
      "Epoch 3/6\n",
      "15/15 [==============================] - 0s 11ms/step - loss: 0.2453 - acc: 0.9957\n",
      "Epoch 4/6\n",
      "15/15 [==============================] - 0s 10ms/step - loss: 0.0491 - acc: 1.0000\n",
      "Epoch 5/6\n",
      "15/15 [==============================] - 0s 10ms/step - loss: 0.0078 - acc: 1.0000\n",
      "Epoch 6/6\n",
      "15/15 [==============================] - 0s 11ms/step - loss: 0.0028 - acc: 1.0000\n",
      "Predicting 17th label...\n"
     ]
    },
    {
     "name": "stderr",
     "output_type": "stream",
     "text": [
      "100%|███████████████████████████████████████████████████████████████████████████████████████████████████████████████████████████████████████████████████████████████████████████████████████████████████████| 313/313 [00:20<00:00, 15.41it/s]\n"
     ]
    },
    {
     "name": "stdout",
     "output_type": "stream",
     "text": [
      "\n",
      "18'th label prediction started\n",
      "count_one 1434\n",
      "count_zero 1434\n",
      "Epoch 1/6\n",
      "90/90 [==============================] - 2s 12ms/step - loss: 0.5941 - acc: 0.6904\n",
      "Epoch 2/6\n",
      "90/90 [==============================] - 1s 10ms/step - loss: 0.2319 - acc: 0.9135\n",
      "Epoch 3/6\n",
      "90/90 [==============================] - 1s 11ms/step - loss: 0.0387 - acc: 0.9927\n",
      "Epoch 4/6\n",
      "90/90 [==============================] - 1s 11ms/step - loss: 0.0075 - acc: 0.9990\n",
      "Epoch 5/6\n",
      "90/90 [==============================] - 1s 11ms/step - loss: 0.0039 - acc: 1.0000\n",
      "Epoch 6/6\n",
      "90/90 [==============================] - 1s 11ms/step - loss: 9.3678e-04 - acc: 1.0000\n",
      "Predicting 18th label...\n"
     ]
    },
    {
     "name": "stderr",
     "output_type": "stream",
     "text": [
      "100%|███████████████████████████████████████████████████████████████████████████████████████████████████████████████████████████████████████████████████████████████████████████████████████████████████████| 313/313 [00:19<00:00, 15.72it/s]\n"
     ]
    },
    {
     "name": "stdout",
     "output_type": "stream",
     "text": [
      "\n",
      "19'th label prediction started\n",
      "count_one 78\n",
      "count_zero 78\n",
      "Epoch 1/6\n",
      "5/5 [==============================] - 1s 45ms/step - loss: 0.6988 - acc: 0.4936\n",
      "Epoch 2/6\n",
      "5/5 [==============================] - 0s 11ms/step - loss: 0.6419 - acc: 0.9936\n",
      "Epoch 3/6\n",
      "5/5 [==============================] - 0s 11ms/step - loss: 0.5721 - acc: 1.0000\n",
      "Epoch 4/6\n",
      "5/5 [==============================] - 0s 11ms/step - loss: 0.4593 - acc: 1.0000\n",
      "Epoch 5/6\n",
      "5/5 [==============================] - 0s 12ms/step - loss: 0.3170 - acc: 1.0000\n",
      "Epoch 6/6\n",
      "5/5 [==============================] - 0s 12ms/step - loss: 0.1843 - acc: 1.0000\n",
      "Predicting 19th label...\n"
     ]
    },
    {
     "name": "stderr",
     "output_type": "stream",
     "text": [
      "100%|███████████████████████████████████████████████████████████████████████████████████████████████████████████████████████████████████████████████████████████████████████████████████████████████████████| 313/313 [00:20<00:00, 15.16it/s]\n"
     ]
    },
    {
     "name": "stdout",
     "output_type": "stream",
     "text": [
      "\n",
      "20'th label prediction started\n",
      "count_one 151\n",
      "count_zero 151\n",
      "Epoch 1/6\n",
      "10/10 [==============================] - 1s 20ms/step - loss: 0.7031 - acc: 0.4735\n",
      "Epoch 2/6\n",
      "10/10 [==============================] - 0s 10ms/step - loss: 0.5874 - acc: 0.9669\n",
      "Epoch 3/6\n",
      "10/10 [==============================] - 0s 10ms/step - loss: 0.3978 - acc: 0.9702\n",
      "Epoch 4/6\n",
      "10/10 [==============================] - 0s 11ms/step - loss: 0.1787 - acc: 0.9768\n",
      "Epoch 5/6\n",
      "10/10 [==============================] - 0s 11ms/step - loss: 0.0666 - acc: 0.9934\n",
      "Epoch 6/6\n",
      "10/10 [==============================] - 0s 10ms/step - loss: 0.0188 - acc: 1.0000\n",
      "Predicting 20th label...\n"
     ]
    },
    {
     "name": "stderr",
     "output_type": "stream",
     "text": [
      "100%|███████████████████████████████████████████████████████████████████████████████████████████████████████████████████████████████████████████████████████████████████████████████████████████████████████| 313/313 [00:22<00:00, 13.96it/s]\n"
     ]
    },
    {
     "name": "stdout",
     "output_type": "stream",
     "text": [
      "\n",
      "21'th label prediction started\n",
      "count_one 1685\n",
      "count_zero 1685\n",
      "Epoch 1/6\n",
      "106/106 [==============================] - 2s 11ms/step - loss: 0.5044 - acc: 0.7596\n",
      "Epoch 2/6\n",
      "106/106 [==============================] - 1s 11ms/step - loss: 0.2110 - acc: 0.9169\n",
      "Epoch 3/6\n",
      "106/106 [==============================] - 1s 11ms/step - loss: 0.0535 - acc: 0.9855\n",
      "Epoch 4/6\n",
      "106/106 [==============================] - 1s 12ms/step - loss: 0.0151 - acc: 0.9964\n",
      "Epoch 5/6\n",
      "106/106 [==============================] - 1s 11ms/step - loss: 0.0077 - acc: 0.9985\n",
      "Epoch 6/6\n",
      "106/106 [==============================] - 1s 11ms/step - loss: 0.0014 - acc: 1.0000\n",
      "Predicting 21th label...\n"
     ]
    },
    {
     "name": "stderr",
     "output_type": "stream",
     "text": [
      "100%|███████████████████████████████████████████████████████████████████████████████████████████████████████████████████████████████████████████████████████████████████████████████████████████████████████| 313/313 [00:20<00:00, 15.01it/s]\n"
     ]
    },
    {
     "name": "stdout",
     "output_type": "stream",
     "text": [
      "\n",
      "22'th label prediction started\n",
      "count_one 106\n",
      "count_zero 106\n",
      "Epoch 1/6\n",
      "7/7 [==============================] - 1s 30ms/step - loss: 0.6849 - acc: 0.4906\n",
      "Epoch 2/6\n",
      "7/7 [==============================] - 0s 10ms/step - loss: 0.5675 - acc: 0.9434\n",
      "Epoch 3/6\n",
      "7/7 [==============================] - 0s 11ms/step - loss: 0.4176 - acc: 0.9811\n",
      "Epoch 4/6\n",
      "7/7 [==============================] - 0s 11ms/step - loss: 0.2546 - acc: 0.9764\n",
      "Epoch 5/6\n",
      "7/7 [==============================] - 0s 11ms/step - loss: 0.1435 - acc: 0.9906\n",
      "Epoch 6/6\n",
      "7/7 [==============================] - 0s 11ms/step - loss: 0.0698 - acc: 0.9906\n",
      "Predicting 22th label...\n"
     ]
    },
    {
     "name": "stderr",
     "output_type": "stream",
     "text": [
      "100%|███████████████████████████████████████████████████████████████████████████████████████████████████████████████████████████████████████████████████████████████████████████████████████████████████████| 313/313 [00:20<00:00, 15.10it/s]\n"
     ]
    },
    {
     "name": "stdout",
     "output_type": "stream",
     "text": [
      "\n",
      "23'th label prediction started\n",
      "count_one 1797\n",
      "count_zero 1797\n",
      "Epoch 1/6\n",
      "113/113 [==============================] - 2s 13ms/step - loss: 0.5360 - acc: 0.7404\n",
      "Epoch 2/6\n",
      "113/113 [==============================] - 1s 11ms/step - loss: 0.2580 - acc: 0.9060\n",
      "Epoch 3/6\n",
      "113/113 [==============================] - 1s 11ms/step - loss: 0.0795 - acc: 0.9794\n",
      "Epoch 4/6\n",
      "113/113 [==============================] - 1s 11ms/step - loss: 0.0178 - acc: 0.9975\n",
      "Epoch 5/6\n",
      "113/113 [==============================] - 1s 10ms/step - loss: 0.0055 - acc: 0.9994\n",
      "Epoch 6/6\n",
      "113/113 [==============================] - 1s 10ms/step - loss: 0.0017 - acc: 1.0000\n",
      "Predicting 23th label...\n"
     ]
    },
    {
     "name": "stderr",
     "output_type": "stream",
     "text": [
      "100%|███████████████████████████████████████████████████████████████████████████████████████████████████████████████████████████████████████████████████████████████████████████████████████████████████████| 313/313 [00:20<00:00, 15.15it/s]\n"
     ]
    },
    {
     "name": "stdout",
     "output_type": "stream",
     "text": [
      "\n",
      "24'th label prediction started\n",
      "count_one 244\n",
      "count_zero 244\n",
      "Epoch 1/6\n",
      "16/16 [==============================] - 1s 16ms/step - loss: 0.6903 - acc: 0.5041\n",
      "Epoch 2/6\n",
      "16/16 [==============================] - 0s 11ms/step - loss: 0.5666 - acc: 0.9734\n",
      "Epoch 3/6\n",
      "16/16 [==============================] - 0s 11ms/step - loss: 0.2864 - acc: 0.9939\n",
      "Epoch 4/6\n",
      "16/16 [==============================] - 0s 11ms/step - loss: 0.0628 - acc: 0.9980\n",
      "Epoch 5/6\n",
      "16/16 [==============================] - 0s 11ms/step - loss: 0.0103 - acc: 1.0000\n",
      "Epoch 6/6\n",
      "16/16 [==============================] - 0s 11ms/step - loss: 0.0034 - acc: 1.0000\n",
      "Predicting 24th label...\n"
     ]
    },
    {
     "name": "stderr",
     "output_type": "stream",
     "text": [
      "100%|███████████████████████████████████████████████████████████████████████████████████████████████████████████████████████████████████████████████████████████████████████████████████████████████████████| 313/313 [00:21<00:00, 14.88it/s]\n"
     ]
    },
    {
     "name": "stdout",
     "output_type": "stream",
     "text": [
      "\n",
      "25'th label prediction started\n",
      "count_one 89\n",
      "count_zero 89\n",
      "Epoch 1/6\n",
      "6/6 [==============================] - 1s 31ms/step - loss: 0.6879 - acc: 0.5843\n",
      "Epoch 2/6\n",
      "6/6 [==============================] - 0s 11ms/step - loss: 0.6077 - acc: 0.9888\n",
      "Epoch 3/6\n",
      "6/6 [==============================] - 0s 12ms/step - loss: 0.4799 - acc: 1.0000\n",
      "Epoch 4/6\n",
      "6/6 [==============================] - 0s 11ms/step - loss: 0.2999 - acc: 1.0000\n",
      "Epoch 5/6\n",
      "6/6 [==============================] - 0s 12ms/step - loss: 0.1408 - acc: 1.0000\n",
      "Epoch 6/6\n",
      "6/6 [==============================] - 0s 11ms/step - loss: 0.0509 - acc: 1.0000\n",
      "Predicting 25th label...\n"
     ]
    },
    {
     "name": "stderr",
     "output_type": "stream",
     "text": [
      "100%|███████████████████████████████████████████████████████████████████████████████████████████████████████████████████████████████████████████████████████████████████████████████████████████████████████| 313/313 [00:19<00:00, 15.98it/s]\n"
     ]
    },
    {
     "name": "stdout",
     "output_type": "stream",
     "text": [
      "\n",
      "26'th label prediction started\n",
      "count_one 1033\n",
      "count_zero 1033\n",
      "Epoch 1/6\n",
      "65/65 [==============================] - 1s 13ms/step - loss: 0.6083 - acc: 0.6825\n",
      "Epoch 2/6\n",
      "65/65 [==============================] - 1s 11ms/step - loss: 0.2620 - acc: 0.8858\n",
      "Epoch 3/6\n",
      "65/65 [==============================] - 1s 10ms/step - loss: 0.0560 - acc: 0.9835\n",
      "Epoch 4/6\n",
      "65/65 [==============================] - 1s 11ms/step - loss: 0.0108 - acc: 1.0000\n",
      "Epoch 5/6\n",
      "65/65 [==============================] - 1s 10ms/step - loss: 0.0033 - acc: 1.0000\n",
      "Epoch 6/6\n",
      "65/65 [==============================] - 1s 11ms/step - loss: 0.0014 - acc: 1.0000\n",
      "Predicting 26th label...\n"
     ]
    },
    {
     "name": "stderr",
     "output_type": "stream",
     "text": [
      "100%|███████████████████████████████████████████████████████████████████████████████████████████████████████████████████████████████████████████████████████████████████████████████████████████████████████| 313/313 [00:20<00:00, 15.36it/s]\n"
     ]
    },
    {
     "name": "stdout",
     "output_type": "stream",
     "text": [
      "\n",
      "27'th label prediction started\n",
      "count_one 295\n",
      "count_zero 295\n",
      "Epoch 1/6\n",
      "19/19 [==============================] - 1s 16ms/step - loss: 0.6915 - acc: 0.5322\n",
      "Epoch 2/6\n",
      "19/19 [==============================] - 0s 11ms/step - loss: 0.5200 - acc: 0.8814\n",
      "Epoch 3/6\n",
      "19/19 [==============================] - 0s 10ms/step - loss: 0.2044 - acc: 0.9780\n",
      "Epoch 4/6\n",
      "19/19 [==============================] - 0s 10ms/step - loss: 0.0376 - acc: 0.9966\n",
      "Epoch 5/6\n",
      "19/19 [==============================] - 0s 10ms/step - loss: 0.0069 - acc: 1.0000\n",
      "Epoch 6/6\n",
      "19/19 [==============================] - 0s 10ms/step - loss: 0.0026 - acc: 1.0000\n",
      "Predicting 27th label...\n"
     ]
    },
    {
     "name": "stderr",
     "output_type": "stream",
     "text": [
      "100%|███████████████████████████████████████████████████████████████████████████████████████████████████████████████████████████████████████████████████████████████████████████████████████████████████████| 313/313 [00:20<00:00, 15.34it/s]\n"
     ]
    },
    {
     "name": "stdout",
     "output_type": "stream",
     "text": [
      "\n",
      "28'th label prediction started\n",
      "count_one 4389\n",
      "count_zero 4389\n",
      "Epoch 1/6\n",
      "275/275 [==============================] - 4s 11ms/step - loss: 0.4636 - acc: 0.7838\n",
      "Epoch 2/6\n",
      "275/275 [==============================] - 3s 10ms/step - loss: 0.2395 - acc: 0.9110\n",
      "Epoch 3/6\n",
      "275/275 [==============================] - 3s 11ms/step - loss: 0.0823 - acc: 0.9768\n",
      "Epoch 4/6\n",
      "275/275 [==============================] - 3s 11ms/step - loss: 0.0184 - acc: 0.9966\n",
      "Epoch 5/6\n",
      "275/275 [==============================] - 3s 11ms/step - loss: 0.0044 - acc: 0.9994\n",
      "Epoch 6/6\n",
      "275/275 [==============================] - 3s 11ms/step - loss: 0.0016 - acc: 0.9998\n",
      "Predicting 28th label...\n"
     ]
    },
    {
     "name": "stderr",
     "output_type": "stream",
     "text": [
      "100%|███████████████████████████████████████████████████████████████████████████████████████████████████████████████████████████████████████████████████████████████████████████████████████████████████████| 313/313 [00:21<00:00, 14.79it/s]\n"
     ]
    },
    {
     "name": "stdout",
     "output_type": "stream",
     "text": [
      "\n",
      "29'th label prediction started\n",
      "count_one 98\n",
      "count_zero 98\n",
      "Epoch 1/6\n",
      "7/7 [==============================] - 1s 35ms/step - loss: 0.7022 - acc: 0.4745\n",
      "Epoch 2/6\n",
      "7/7 [==============================] - 0s 10ms/step - loss: 0.6186 - acc: 0.8367\n",
      "Epoch 3/6\n",
      "7/7 [==============================] - 0s 10ms/step - loss: 0.5233 - acc: 0.9898\n",
      "Epoch 4/6\n",
      "7/7 [==============================] - 0s 11ms/step - loss: 0.3710 - acc: 1.0000\n",
      "Epoch 5/6\n",
      "7/7 [==============================] - 0s 11ms/step - loss: 0.2019 - acc: 1.0000\n",
      "Epoch 6/6\n",
      "7/7 [==============================] - 0s 11ms/step - loss: 0.0821 - acc: 1.0000\n",
      "Predicting 29th label...\n"
     ]
    },
    {
     "name": "stderr",
     "output_type": "stream",
     "text": [
      "100%|███████████████████████████████████████████████████████████████████████████████████████████████████████████████████████████████████████████████████████████████████████████████████████████████████████| 313/313 [00:22<00:00, 13.85it/s]\n"
     ]
    },
    {
     "name": "stdout",
     "output_type": "stream",
     "text": [
      "\n",
      "30'th label prediction started\n",
      "count_one 380\n",
      "count_zero 380\n",
      "Epoch 1/6\n",
      "24/24 [==============================] - 1s 16ms/step - loss: 0.6772 - acc: 0.5592\n",
      "Epoch 2/6\n",
      "24/24 [==============================] - 0s 11ms/step - loss: 0.4914 - acc: 0.7632\n",
      "Epoch 3/6\n",
      "24/24 [==============================] - 0s 10ms/step - loss: 0.1881 - acc: 0.9671\n",
      "Epoch 4/6\n",
      "24/24 [==============================] - 0s 11ms/step - loss: 0.0316 - acc: 0.9987\n",
      "Epoch 5/6\n",
      "24/24 [==============================] - 0s 10ms/step - loss: 0.0050 - acc: 1.0000\n",
      "Epoch 6/6\n",
      "24/24 [==============================] - 0s 10ms/step - loss: 0.0021 - acc: 1.0000\n",
      "Predicting 30th label...\n"
     ]
    },
    {
     "name": "stderr",
     "output_type": "stream",
     "text": [
      "100%|███████████████████████████████████████████████████████████████████████████████████████████████████████████████████████████████████████████████████████████████████████████████████████████████████████| 313/313 [00:20<00:00, 15.08it/s]\n"
     ]
    },
    {
     "name": "stdout",
     "output_type": "stream",
     "text": [
      "\n",
      "31'th label prediction started\n",
      "count_one 2164\n",
      "count_zero 2164\n",
      "Epoch 1/6\n",
      "136/136 [==============================] - 2s 12ms/step - loss: 0.5217 - acc: 0.7433\n",
      "Epoch 2/6\n",
      "136/136 [==============================] - 1s 11ms/step - loss: 0.2088 - acc: 0.9177\n",
      "Epoch 3/6\n",
      "136/136 [==============================] - 1s 11ms/step - loss: 0.0498 - acc: 0.9868\n",
      "Epoch 4/6\n",
      "136/136 [==============================] - 1s 11ms/step - loss: 0.0078 - acc: 0.9993\n",
      "Epoch 5/6\n",
      "136/136 [==============================] - 1s 11ms/step - loss: 0.0020 - acc: 1.0000\n",
      "Epoch 6/6\n",
      "136/136 [==============================] - 1s 11ms/step - loss: 0.0013 - acc: 1.0000\n",
      "Predicting 31th label...\n"
     ]
    },
    {
     "name": "stderr",
     "output_type": "stream",
     "text": [
      "100%|███████████████████████████████████████████████████████████████████████████████████████████████████████████████████████████████████████████████████████████████████████████████████████████████████████| 313/313 [00:19<00:00, 16.18it/s]\n"
     ]
    },
    {
     "name": "stdout",
     "output_type": "stream",
     "text": [
      "\n",
      "32'th label prediction started\n",
      "count_one 2551\n",
      "count_zero 2551\n",
      "Epoch 1/6\n",
      "160/160 [==============================] - 2s 11ms/step - loss: 0.6047 - acc: 0.6801\n",
      "Epoch 2/6\n",
      "160/160 [==============================] - 2s 11ms/step - loss: 0.3785 - acc: 0.8465\n",
      "Epoch 3/6\n",
      "160/160 [==============================] - 2s 11ms/step - loss: 0.1303 - acc: 0.9600\n",
      "Epoch 4/6\n",
      "160/160 [==============================] - 2s 10ms/step - loss: 0.0245 - acc: 0.9945\n",
      "Epoch 5/6\n",
      "160/160 [==============================] - 2s 11ms/step - loss: 0.0079 - acc: 0.9990\n",
      "Epoch 6/6\n",
      "160/160 [==============================] - 2s 11ms/step - loss: 0.0027 - acc: 0.9998\n",
      "Predicting 32th label...\n"
     ]
    },
    {
     "name": "stderr",
     "output_type": "stream",
     "text": [
      "100%|███████████████████████████████████████████████████████████████████████████████████████████████████████████████████████████████████████████████████████████████████████████████████████████████████████| 313/313 [00:19<00:00, 16.16it/s]\n"
     ]
    },
    {
     "name": "stdout",
     "output_type": "stream",
     "text": [
      "\n",
      "33'th label prediction started\n",
      "count_one 69\n",
      "count_zero 69\n",
      "Epoch 1/6\n",
      "5/5 [==============================] - 1s 33ms/step - loss: 0.7141 - acc: 0.4783\n",
      "Epoch 2/6\n",
      "5/5 [==============================] - 0s 10ms/step - loss: 0.6308 - acc: 0.8913\n",
      "Epoch 3/6\n",
      "5/5 [==============================] - 0s 10ms/step - loss: 0.5707 - acc: 0.9855\n",
      "Epoch 4/6\n",
      "5/5 [==============================] - 0s 11ms/step - loss: 0.4760 - acc: 1.0000\n",
      "Epoch 5/6\n",
      "5/5 [==============================] - 0s 10ms/step - loss: 0.3482 - acc: 1.0000\n",
      "Epoch 6/6\n",
      "5/5 [==============================] - 0s 11ms/step - loss: 0.2092 - acc: 1.0000\n",
      "Predicting 33th label...\n"
     ]
    },
    {
     "name": "stderr",
     "output_type": "stream",
     "text": [
      "100%|███████████████████████████████████████████████████████████████████████████████████████████████████████████████████████████████████████████████████████████████████████████████████████████████████████| 313/313 [00:19<00:00, 15.90it/s]\n"
     ]
    },
    {
     "name": "stdout",
     "output_type": "stream",
     "text": [
      "\n",
      "34'th label prediction started\n",
      "count_one 348\n",
      "count_zero 348\n",
      "Epoch 1/6\n",
      "22/22 [==============================] - 1s 16ms/step - loss: 0.6797 - acc: 0.5761\n",
      "Epoch 2/6\n",
      "22/22 [==============================] - 0s 10ms/step - loss: 0.5189 - acc: 0.7126\n",
      "Epoch 3/6\n",
      "22/22 [==============================] - 0s 11ms/step - loss: 0.2729 - acc: 0.9282\n",
      "Epoch 4/6\n",
      "22/22 [==============================] - 0s 11ms/step - loss: 0.0779 - acc: 0.9856\n",
      "Epoch 5/6\n",
      "22/22 [==============================] - 0s 10ms/step - loss: 0.0265 - acc: 0.9986\n",
      "Epoch 6/6\n",
      "22/22 [==============================] - 0s 11ms/step - loss: 0.0055 - acc: 1.0000\n",
      "Predicting 34th label...\n"
     ]
    },
    {
     "name": "stderr",
     "output_type": "stream",
     "text": [
      "100%|███████████████████████████████████████████████████████████████████████████████████████████████████████████████████████████████████████████████████████████████████████████████████████████████████████| 313/313 [00:21<00:00, 14.65it/s]\n"
     ]
    },
    {
     "name": "stdout",
     "output_type": "stream",
     "text": [
      "\n",
      "35'th label prediction started\n",
      "count_one 213\n",
      "count_zero 213\n",
      "Epoch 1/6\n",
      "14/14 [==============================] - 1s 18ms/step - loss: 0.7016 - acc: 0.5399\n",
      "Epoch 2/6\n",
      "14/14 [==============================] - 0s 11ms/step - loss: 0.6231 - acc: 0.6291\n",
      "Epoch 3/6\n",
      "14/14 [==============================] - 0s 10ms/step - loss: 0.4478 - acc: 0.9977\n",
      "Epoch 4/6\n",
      "14/14 [==============================] - 0s 11ms/step - loss: 0.1967 - acc: 0.9977\n",
      "Epoch 5/6\n",
      "14/14 [==============================] - 0s 10ms/step - loss: 0.0469 - acc: 1.0000\n",
      "Epoch 6/6\n",
      "14/14 [==============================] - 0s 11ms/step - loss: 0.0108 - acc: 1.0000\n",
      "Predicting 35th label...\n"
     ]
    },
    {
     "name": "stderr",
     "output_type": "stream",
     "text": [
      "100%|███████████████████████████████████████████████████████████████████████████████████████████████████████████████████████████████████████████████████████████████████████████████████████████████████████| 313/313 [00:21<00:00, 14.86it/s]\n"
     ]
    },
    {
     "name": "stdout",
     "output_type": "stream",
     "text": [
      "\n",
      "36'th label prediction started\n",
      "count_one 74\n",
      "count_zero 74\n",
      "Epoch 1/6\n",
      "5/5 [==============================] - 1s 35ms/step - loss: 0.6966 - acc: 0.4932\n",
      "Epoch 2/6\n",
      "5/5 [==============================] - 0s 11ms/step - loss: 0.6306 - acc: 0.9122\n",
      "Epoch 3/6\n",
      "5/5 [==============================] - 0s 10ms/step - loss: 0.5586 - acc: 0.9865\n",
      "Epoch 4/6\n",
      "5/5 [==============================] - 0s 9ms/step - loss: 0.4560 - acc: 1.0000\n",
      "Epoch 5/6\n",
      "5/5 [==============================] - 0s 10ms/step - loss: 0.3241 - acc: 1.0000\n",
      "Epoch 6/6\n",
      "5/5 [==============================] - 0s 10ms/step - loss: 0.1901 - acc: 1.0000\n",
      "Predicting 36th label...\n"
     ]
    },
    {
     "name": "stderr",
     "output_type": "stream",
     "text": [
      "100%|███████████████████████████████████████████████████████████████████████████████████████████████████████████████████████████████████████████████████████████████████████████████████████████████████████| 313/313 [00:19<00:00, 15.92it/s]\n"
     ]
    },
    {
     "name": "stdout",
     "output_type": "stream",
     "text": [
      "\n",
      "37'th label prediction started\n",
      "count_one 231\n",
      "count_zero 231\n",
      "Epoch 1/6\n",
      "15/15 [==============================] - 1s 11ms/step - loss: 0.6911 - acc: 0.5065\n",
      "Epoch 2/6\n",
      "15/15 [==============================] - 0s 10ms/step - loss: 0.6041 - acc: 0.7922\n",
      "Epoch 3/6\n",
      "15/15 [==============================] - 0s 10ms/step - loss: 0.3652 - acc: 0.9437\n",
      "Epoch 4/6\n",
      "15/15 [==============================] - 0s 11ms/step - loss: 0.1385 - acc: 0.9740\n",
      "Epoch 5/6\n",
      "15/15 [==============================] - 0s 11ms/step - loss: 0.0296 - acc: 0.9978\n",
      "Epoch 6/6\n",
      "15/15 [==============================] - 0s 10ms/step - loss: 0.0068 - acc: 1.0000\n",
      "Predicting 37th label...\n"
     ]
    },
    {
     "name": "stderr",
     "output_type": "stream",
     "text": [
      "100%|███████████████████████████████████████████████████████████████████████████████████████████████████████████████████████████████████████████████████████████████████████████████████████████████████████| 313/313 [00:20<00:00, 15.42it/s]\n"
     ]
    },
    {
     "name": "stdout",
     "output_type": "stream",
     "text": [
      "\n",
      "38'th label prediction started\n",
      "count_one 377\n",
      "count_zero 377\n",
      "Epoch 1/6\n",
      "24/24 [==============================] - 1s 11ms/step - loss: 0.6578 - acc: 0.5968\n",
      "Epoch 2/6\n",
      "24/24 [==============================] - 0s 10ms/step - loss: 0.3516 - acc: 0.9058\n",
      "Epoch 3/6\n",
      "24/24 [==============================] - 0s 10ms/step - loss: 0.0896 - acc: 0.9894\n",
      "Epoch 4/6\n",
      "24/24 [==============================] - 0s 10ms/step - loss: 0.0137 - acc: 0.9987\n",
      "Epoch 5/6\n",
      "24/24 [==============================] - 0s 11ms/step - loss: 0.0036 - acc: 1.0000\n",
      "Epoch 6/6\n",
      "24/24 [==============================] - 0s 11ms/step - loss: 0.0018 - acc: 1.0000\n",
      "Predicting 38th label...\n"
     ]
    },
    {
     "name": "stderr",
     "output_type": "stream",
     "text": [
      "100%|███████████████████████████████████████████████████████████████████████████████████████████████████████████████████████████████████████████████████████████████████████████████████████████████████████| 313/313 [00:20<00:00, 15.46it/s]\n"
     ]
    },
    {
     "name": "stdout",
     "output_type": "stream",
     "text": [
      "\n",
      "39'th label prediction started\n",
      "count_one 82\n",
      "count_zero 82\n",
      "Epoch 1/6\n",
      "6/6 [==============================] - 1s 27ms/step - loss: 0.6950 - acc: 0.4878\n",
      "Epoch 2/6\n",
      "6/6 [==============================] - 0s 10ms/step - loss: 0.6317 - acc: 0.8780\n",
      "Epoch 3/6\n",
      "6/6 [==============================] - 0s 10ms/step - loss: 0.5358 - acc: 0.9756\n",
      "Epoch 4/6\n",
      "6/6 [==============================] - 0s 11ms/step - loss: 0.4046 - acc: 0.9939\n",
      "Epoch 5/6\n",
      "6/6 [==============================] - 0s 10ms/step - loss: 0.2543 - acc: 0.9939\n",
      "Epoch 6/6\n",
      "6/6 [==============================] - 0s 10ms/step - loss: 0.1288 - acc: 0.9939\n",
      "Predicting 39th label...\n"
     ]
    },
    {
     "name": "stderr",
     "output_type": "stream",
     "text": [
      "100%|███████████████████████████████████████████████████████████████████████████████████████████████████████████████████████████████████████████████████████████████████████████████████████████████████████| 313/313 [00:21<00:00, 14.72it/s]\n"
     ]
    },
    {
     "name": "stdout",
     "output_type": "stream",
     "text": [
      "\n",
      "40'th label prediction started\n",
      "count_one 2066\n",
      "count_zero 2066\n",
      "Epoch 1/6\n",
      "130/130 [==============================] - 2s 11ms/step - loss: 0.5610 - acc: 0.7309\n",
      "Epoch 2/6\n",
      "130/130 [==============================] - 1s 10ms/step - loss: 0.2143 - acc: 0.9167\n",
      "Epoch 3/6\n",
      "130/130 [==============================] - 1s 11ms/step - loss: 0.0385 - acc: 0.9915\n",
      "Epoch 4/6\n",
      "130/130 [==============================] - 1s 11ms/step - loss: 0.0058 - acc: 0.9995\n",
      "Epoch 5/6\n",
      "130/130 [==============================] - 1s 11ms/step - loss: 0.0021 - acc: 1.0000\n",
      "Epoch 6/6\n",
      "130/130 [==============================] - 1s 11ms/step - loss: 0.0014 - acc: 1.0000\n",
      "Predicting 40th label...\n"
     ]
    },
    {
     "name": "stderr",
     "output_type": "stream",
     "text": [
      "100%|███████████████████████████████████████████████████████████████████████████████████████████████████████████████████████████████████████████████████████████████████████████████████████████████████████| 313/313 [00:20<00:00, 15.50it/s]\n"
     ]
    },
    {
     "name": "stdout",
     "output_type": "stream",
     "text": [
      "\n",
      "41'th label prediction started\n",
      "count_one 327\n",
      "count_zero 327\n",
      "Epoch 1/6\n",
      "21/21 [==============================] - 1s 11ms/step - loss: 0.6733 - acc: 0.5398\n",
      "Epoch 2/6\n",
      "21/21 [==============================] - 0s 10ms/step - loss: 0.4293 - acc: 0.9220\n",
      "Epoch 3/6\n",
      "21/21 [==============================] - 0s 11ms/step - loss: 0.1095 - acc: 0.9847\n",
      "Epoch 4/6\n",
      "21/21 [==============================] - 0s 11ms/step - loss: 0.0232 - acc: 0.9985\n",
      "Epoch 5/6\n",
      "21/21 [==============================] - 0s 11ms/step - loss: 0.0048 - acc: 1.0000\n",
      "Epoch 6/6\n",
      "21/21 [==============================] - 0s 10ms/step - loss: 0.0021 - acc: 1.0000\n",
      "Predicting 41th label...\n"
     ]
    },
    {
     "name": "stderr",
     "output_type": "stream",
     "text": [
      "100%|███████████████████████████████████████████████████████████████████████████████████████████████████████████████████████████████████████████████████████████████████████████████████████████████████████| 313/313 [00:19<00:00, 16.10it/s]\n"
     ]
    },
    {
     "name": "stdout",
     "output_type": "stream",
     "text": [
      "\n",
      "42'th label prediction started\n",
      "count_one 79\n",
      "count_zero 79\n",
      "Epoch 1/6\n",
      "5/5 [==============================] - 1s 40ms/step - loss: 0.6987 - acc: 0.4873\n",
      "Epoch 2/6\n",
      "5/5 [==============================] - 0s 10ms/step - loss: 0.6377 - acc: 0.9114\n",
      "Epoch 3/6\n",
      "5/5 [==============================] - 0s 11ms/step - loss: 0.5683 - acc: 1.0000\n",
      "Epoch 4/6\n",
      "5/5 [==============================] - 0s 11ms/step - loss: 0.4712 - acc: 1.0000\n",
      "Epoch 5/6\n",
      "5/5 [==============================] - 0s 11ms/step - loss: 0.3465 - acc: 1.0000\n",
      "Epoch 6/6\n",
      "5/5 [==============================] - 0s 12ms/step - loss: 0.2164 - acc: 1.0000\n",
      "Predicting 42th label...\n"
     ]
    },
    {
     "name": "stderr",
     "output_type": "stream",
     "text": [
      "100%|███████████████████████████████████████████████████████████████████████████████████████████████████████████████████████████████████████████████████████████████████████████████████████████████████████| 313/313 [00:19<00:00, 16.29it/s]\n"
     ]
    },
    {
     "name": "stdout",
     "output_type": "stream",
     "text": [
      "\n",
      "43'th label prediction started\n",
      "count_one 1307\n",
      "count_zero 1307\n",
      "Epoch 1/6\n",
      "82/82 [==============================] - 2s 13ms/step - loss: 0.5028 - acc: 0.7594\n",
      "Epoch 2/6\n",
      "82/82 [==============================] - 1s 11ms/step - loss: 0.1363 - acc: 0.9503\n",
      "Epoch 3/6\n",
      "82/82 [==============================] - 1s 11ms/step - loss: 0.0286 - acc: 0.9950\n",
      "Epoch 4/6\n",
      "82/82 [==============================] - 1s 11ms/step - loss: 0.0050 - acc: 0.9996\n",
      "Epoch 5/6\n",
      "82/82 [==============================] - 1s 11ms/step - loss: 0.0010 - acc: 1.0000\n",
      "Epoch 6/6\n",
      "82/82 [==============================] - 1s 11ms/step - loss: 4.7550e-04 - acc: 1.0000\n",
      "Predicting 43th label...\n"
     ]
    },
    {
     "name": "stderr",
     "output_type": "stream",
     "text": [
      "100%|███████████████████████████████████████████████████████████████████████████████████████████████████████████████████████████████████████████████████████████████████████████████████████████████████████| 313/313 [00:20<00:00, 15.31it/s]\n"
     ]
    },
    {
     "name": "stdout",
     "output_type": "stream",
     "text": [
      "\n",
      "44'th label prediction started\n",
      "count_one 502\n",
      "count_zero 502\n",
      "Epoch 1/6\n",
      "32/32 [==============================] - 1s 11ms/step - loss: 0.6824 - acc: 0.5468\n",
      "Epoch 2/6\n",
      "32/32 [==============================] - 0s 11ms/step - loss: 0.4465 - acc: 0.8347\n",
      "Epoch 3/6\n",
      "32/32 [==============================] - 0s 10ms/step - loss: 0.1141 - acc: 0.9781\n",
      "Epoch 4/6\n",
      "32/32 [==============================] - 0s 11ms/step - loss: 0.0121 - acc: 1.0000\n",
      "Epoch 5/6\n",
      "32/32 [==============================] - 0s 11ms/step - loss: 0.0043 - acc: 1.0000\n",
      "Epoch 6/6\n",
      "32/32 [==============================] - 0s 10ms/step - loss: 0.0016 - acc: 1.0000\n",
      "Predicting 44th label...\n"
     ]
    },
    {
     "name": "stderr",
     "output_type": "stream",
     "text": [
      "100%|███████████████████████████████████████████████████████████████████████████████████████████████████████████████████████████████████████████████████████████████████████████████████████████████████████| 313/313 [00:20<00:00, 15.61it/s]\n"
     ]
    },
    {
     "name": "stdout",
     "output_type": "stream",
     "text": [
      "\n",
      "45'th label prediction started\n",
      "count_one 2479\n",
      "count_zero 2479\n",
      "Epoch 1/6\n",
      "155/155 [==============================] - 2s 11ms/step - loss: 0.5062 - acc: 0.7527\n",
      "Epoch 2/6\n",
      "155/155 [==============================] - 2s 11ms/step - loss: 0.2311 - acc: 0.9052\n",
      "Epoch 3/6\n",
      "155/155 [==============================] - 2s 11ms/step - loss: 0.0637 - acc: 0.9825\n",
      "Epoch 4/6\n",
      "155/155 [==============================] - 2s 11ms/step - loss: 0.0085 - acc: 0.9990\n",
      "Epoch 5/6\n",
      "155/155 [==============================] - 2s 11ms/step - loss: 0.0020 - acc: 1.0000\n",
      "Epoch 6/6\n",
      "155/155 [==============================] - 2s 10ms/step - loss: 0.0010 - acc: 1.0000\n",
      "Predicting 45th label...\n"
     ]
    },
    {
     "name": "stderr",
     "output_type": "stream",
     "text": [
      "100%|███████████████████████████████████████████████████████████████████████████████████████████████████████████████████████████████████████████████████████████████████████████████████████████████████████| 313/313 [00:20<00:00, 15.48it/s]\n"
     ]
    },
    {
     "name": "stdout",
     "output_type": "stream",
     "text": [
      "\n",
      "46'th label prediction started\n",
      "count_one 613\n",
      "count_zero 613\n",
      "Epoch 1/6\n",
      "39/39 [==============================] - 1s 11ms/step - loss: 0.6795 - acc: 0.5498\n",
      "Epoch 2/6\n",
      "39/39 [==============================] - 0s 11ms/step - loss: 0.4431 - acc: 0.8409\n",
      "Epoch 3/6\n",
      "39/39 [==============================] - 0s 11ms/step - loss: 0.1287 - acc: 0.9690\n",
      "Epoch 4/6\n",
      "39/39 [==============================] - 0s 11ms/step - loss: 0.0153 - acc: 0.9992\n",
      "Epoch 5/6\n",
      "39/39 [==============================] - 0s 10ms/step - loss: 0.0041 - acc: 1.0000\n",
      "Epoch 6/6\n",
      "39/39 [==============================] - 0s 11ms/step - loss: 0.0017 - acc: 1.0000\n",
      "Predicting 46th label...\n"
     ]
    },
    {
     "name": "stderr",
     "output_type": "stream",
     "text": [
      "100%|███████████████████████████████████████████████████████████████████████████████████████████████████████████████████████████████████████████████████████████████████████████████████████████████████████| 313/313 [00:19<00:00, 15.82it/s]\n"
     ]
    },
    {
     "name": "stdout",
     "output_type": "stream",
     "text": [
      "\n",
      "47'th label prediction started\n",
      "count_one 299\n",
      "count_zero 299\n",
      "Epoch 1/6\n",
      "19/19 [==============================] - 1s 17ms/step - loss: 0.6921 - acc: 0.5518\n",
      "Epoch 2/6\n",
      "19/19 [==============================] - 0s 11ms/step - loss: 0.5868 - acc: 0.7826\n",
      "Epoch 3/6\n",
      "19/19 [==============================] - 0s 11ms/step - loss: 0.2746 - acc: 0.9732\n",
      "Epoch 4/6\n",
      "19/19 [==============================] - 0s 11ms/step - loss: 0.0529 - acc: 0.9950\n",
      "Epoch 5/6\n",
      "19/19 [==============================] - 0s 10ms/step - loss: 0.0084 - acc: 1.0000\n",
      "Epoch 6/6\n",
      "19/19 [==============================] - 0s 11ms/step - loss: 0.0028 - acc: 1.0000\n",
      "Predicting 47th label...\n"
     ]
    },
    {
     "name": "stderr",
     "output_type": "stream",
     "text": [
      "100%|███████████████████████████████████████████████████████████████████████████████████████████████████████████████████████████████████████████████████████████████████████████████████████████████████████| 313/313 [00:19<00:00, 15.98it/s]\n"
     ]
    },
    {
     "name": "stdout",
     "output_type": "stream",
     "text": [
      "\n",
      "48'th label prediction started\n",
      "count_one 330\n",
      "count_zero 330\n",
      "Epoch 1/6\n",
      "21/21 [==============================] - 1s 17ms/step - loss: 0.6847 - acc: 0.5439\n",
      "Epoch 2/6\n",
      "21/21 [==============================] - 0s 11ms/step - loss: 0.4956 - acc: 0.9045\n",
      "Epoch 3/6\n",
      "21/21 [==============================] - 0s 11ms/step - loss: 0.1491 - acc: 0.9879\n",
      "Epoch 4/6\n",
      "21/21 [==============================] - 0s 11ms/step - loss: 0.0188 - acc: 1.0000\n",
      "Epoch 5/6\n",
      "21/21 [==============================] - 0s 11ms/step - loss: 0.0046 - acc: 1.0000\n",
      "Epoch 6/6\n",
      "21/21 [==============================] - 0s 10ms/step - loss: 0.0017 - acc: 1.0000\n",
      "Predicting 48th label...\n"
     ]
    },
    {
     "name": "stderr",
     "output_type": "stream",
     "text": [
      "100%|███████████████████████████████████████████████████████████████████████████████████████████████████████████████████████████████████████████████████████████████████████████████████████████████████████| 313/313 [00:19<00:00, 16.30it/s]\n"
     ]
    },
    {
     "name": "stdout",
     "output_type": "stream",
     "text": [
      "\n",
      "49'th label prediction started\n",
      "count_one 82\n",
      "count_zero 82\n",
      "Epoch 1/6\n",
      "6/6 [==============================] - 1s 11ms/step - loss: 0.6998 - acc: 0.5000\n",
      "Epoch 2/6\n",
      "6/6 [==============================] - 0s 11ms/step - loss: 0.6269 - acc: 0.9756\n",
      "Epoch 3/6\n",
      "6/6 [==============================] - 0s 11ms/step - loss: 0.5433 - acc: 1.0000\n",
      "Epoch 4/6\n",
      "6/6 [==============================] - 0s 10ms/step - loss: 0.4153 - acc: 1.0000\n",
      "Epoch 5/6\n",
      "6/6 [==============================] - 0s 9ms/step - loss: 0.2635 - acc: 1.0000\n",
      "Epoch 6/6\n",
      "6/6 [==============================] - 0s 10ms/step - loss: 0.1376 - acc: 1.0000\n",
      "Predicting 49th label...\n"
     ]
    },
    {
     "name": "stderr",
     "output_type": "stream",
     "text": [
      "100%|███████████████████████████████████████████████████████████████████████████████████████████████████████████████████████████████████████████████████████████████████████████████████████████████████████| 313/313 [00:19<00:00, 15.84it/s]\n"
     ]
    },
    {
     "name": "stdout",
     "output_type": "stream",
     "text": [
      "\n",
      "50'th label prediction started\n",
      "count_one 271\n",
      "count_zero 271\n",
      "Epoch 1/6\n",
      "17/17 [==============================] - 1s 18ms/step - loss: 0.6927 - acc: 0.5055\n",
      "Epoch 2/6\n",
      "17/17 [==============================] - 0s 10ms/step - loss: 0.5567 - acc: 0.9244\n",
      "Epoch 3/6\n",
      "17/17 [==============================] - 0s 10ms/step - loss: 0.2575 - acc: 0.9742\n",
      "Epoch 4/6\n",
      "17/17 [==============================] - 0s 11ms/step - loss: 0.0553 - acc: 0.9982\n",
      "Epoch 5/6\n",
      "17/17 [==============================] - 0s 11ms/step - loss: 0.0079 - acc: 1.0000\n",
      "Epoch 6/6\n",
      "17/17 [==============================] - 0s 11ms/step - loss: 0.0028 - acc: 1.0000\n",
      "Predicting 50th label...\n"
     ]
    },
    {
     "name": "stderr",
     "output_type": "stream",
     "text": [
      "100%|███████████████████████████████████████████████████████████████████████████████████████████████████████████████████████████████████████████████████████████████████████████████████████████████████████| 313/313 [00:21<00:00, 14.78it/s]\n"
     ]
    },
    {
     "name": "stdout",
     "output_type": "stream",
     "text": [
      "\n",
      "51'th label prediction started\n",
      "count_one 1116\n",
      "count_zero 1116\n",
      "Epoch 1/6\n",
      "70/70 [==============================] - 2s 13ms/step - loss: 0.6340 - acc: 0.6344\n",
      "Epoch 2/6\n",
      "70/70 [==============================] - 1s 11ms/step - loss: 0.4339 - acc: 0.8230\n",
      "Epoch 3/6\n",
      "70/70 [==============================] - 1s 11ms/step - loss: 0.1491 - acc: 0.9601\n",
      "Epoch 4/6\n",
      "70/70 [==============================] - 1s 11ms/step - loss: 0.0193 - acc: 0.9996\n",
      "Epoch 5/6\n",
      "70/70 [==============================] - 1s 10ms/step - loss: 0.0066 - acc: 1.0000\n",
      "Epoch 6/6\n",
      "70/70 [==============================] - 1s 10ms/step - loss: 0.0047 - acc: 1.0000\n",
      "Predicting 51th label...\n"
     ]
    },
    {
     "name": "stderr",
     "output_type": "stream",
     "text": [
      "100%|███████████████████████████████████████████████████████████████████████████████████████████████████████████████████████████████████████████████████████████████████████████████████████████████████████| 313/313 [00:20<00:00, 15.62it/s]\n"
     ]
    },
    {
     "name": "stdout",
     "output_type": "stream",
     "text": [
      "\n",
      "52'th label prediction started\n",
      "count_one 92\n",
      "count_zero 92\n",
      "Epoch 1/6\n",
      "6/6 [==============================] - 1s 31ms/step - loss: 0.6986 - acc: 0.4946\n",
      "Epoch 2/6\n",
      "6/6 [==============================] - 0s 9ms/step - loss: 0.6338 - acc: 0.9783\n",
      "Epoch 3/6\n",
      "6/6 [==============================] - 0s 11ms/step - loss: 0.5492 - acc: 1.0000\n",
      "Epoch 4/6\n",
      "6/6 [==============================] - 0s 12ms/step - loss: 0.4043 - acc: 1.0000\n",
      "Epoch 5/6\n",
      "6/6 [==============================] - 0s 11ms/step - loss: 0.2424 - acc: 1.0000\n",
      "Epoch 6/6\n",
      "6/6 [==============================] - 0s 11ms/step - loss: 0.1066 - acc: 1.0000\n",
      "Predicting 52th label...\n"
     ]
    },
    {
     "name": "stderr",
     "output_type": "stream",
     "text": [
      "100%|███████████████████████████████████████████████████████████████████████████████████████████████████████████████████████████████████████████████████████████████████████████████████████████████████████| 313/313 [00:20<00:00, 15.40it/s]\n"
     ]
    },
    {
     "name": "stdout",
     "output_type": "stream",
     "text": [
      "\n",
      "53'th label prediction started\n",
      "count_one 601\n",
      "count_zero 601\n",
      "Epoch 1/6\n",
      "38/38 [==============================] - 1s 11ms/step - loss: 0.6553 - acc: 0.5940\n",
      "Epoch 2/6\n",
      "38/38 [==============================] - 0s 11ms/step - loss: 0.4096 - acc: 0.8295\n",
      "Epoch 3/6\n",
      "38/38 [==============================] - 0s 11ms/step - loss: 0.1262 - acc: 0.9742\n",
      "Epoch 4/6\n",
      "38/38 [==============================] - 0s 11ms/step - loss: 0.0150 - acc: 0.9992\n",
      "Epoch 5/6\n",
      "38/38 [==============================] - 0s 11ms/step - loss: 0.0068 - acc: 1.0000\n",
      "Epoch 6/6\n",
      "38/38 [==============================] - 0s 11ms/step - loss: 0.0042 - acc: 1.0000\n",
      "Predicting 53th label...\n"
     ]
    },
    {
     "name": "stderr",
     "output_type": "stream",
     "text": [
      "100%|███████████████████████████████████████████████████████████████████████████████████████████████████████████████████████████████████████████████████████████████████████████████████████████████████████| 313/313 [00:18<00:00, 16.97it/s]\n"
     ]
    },
    {
     "name": "stdout",
     "output_type": "stream",
     "text": [
      "\n",
      "54'th label prediction started\n",
      "count_one 194\n",
      "count_zero 194\n",
      "Epoch 1/6\n",
      "13/13 [==============================] - 1s 16ms/step - loss: 0.6970 - acc: 0.5412\n",
      "Epoch 2/6\n",
      "13/13 [==============================] - 0s 10ms/step - loss: 0.5868 - acc: 0.6521\n",
      "Epoch 3/6\n",
      "13/13 [==============================] - 0s 11ms/step - loss: 0.3377 - acc: 1.0000\n",
      "Epoch 4/6\n",
      "13/13 [==============================] - 0s 10ms/step - loss: 0.1009 - acc: 0.9948\n",
      "Epoch 5/6\n",
      "13/13 [==============================] - 0s 11ms/step - loss: 0.0218 - acc: 1.0000\n",
      "Epoch 6/6\n",
      "13/13 [==============================] - 0s 11ms/step - loss: 0.0059 - acc: 1.0000\n",
      "Predicting 54th label...\n"
     ]
    },
    {
     "name": "stderr",
     "output_type": "stream",
     "text": [
      "100%|███████████████████████████████████████████████████████████████████████████████████████████████████████████████████████████████████████████████████████████████████████████████████████████████████████| 313/313 [00:20<00:00, 15.55it/s]\n"
     ]
    },
    {
     "name": "stdout",
     "output_type": "stream",
     "text": [
      "\n",
      "55'th label prediction started\n",
      "count_one 101\n",
      "count_zero 101\n",
      "Epoch 1/6\n",
      "7/7 [==============================] - 1s 12ms/step - loss: 0.7048 - acc: 0.5000\n",
      "Epoch 2/6\n",
      "7/7 [==============================] - 0s 11ms/step - loss: 0.6330 - acc: 0.9653\n",
      "Epoch 3/6\n",
      "7/7 [==============================] - 0s 11ms/step - loss: 0.5492 - acc: 0.9950\n",
      "Epoch 4/6\n",
      "7/7 [==============================] - 0s 11ms/step - loss: 0.4041 - acc: 1.0000\n",
      "Epoch 5/6\n",
      "7/7 [==============================] - 0s 11ms/step - loss: 0.2337 - acc: 1.0000\n",
      "Epoch 6/6\n",
      "7/7 [==============================] - 0s 11ms/step - loss: 0.0997 - acc: 1.0000\n",
      "Predicting 55th label...\n"
     ]
    },
    {
     "name": "stderr",
     "output_type": "stream",
     "text": [
      "100%|███████████████████████████████████████████████████████████████████████████████████████████████████████████████████████████████████████████████████████████████████████████████████████████████████████| 313/313 [00:18<00:00, 16.74it/s]\n"
     ]
    },
    {
     "name": "stdout",
     "output_type": "stream",
     "text": [
      "\n",
      "56'th label prediction started\n",
      "count_one 3732\n",
      "count_zero 3732\n",
      "Epoch 1/6\n",
      "234/234 [==============================] - 3s 12ms/step - loss: 0.4234 - acc: 0.8112\n",
      "Epoch 2/6\n",
      "234/234 [==============================] - 2s 10ms/step - loss: 0.1683 - acc: 0.9429\n",
      "Epoch 3/6\n",
      "234/234 [==============================] - 2s 10ms/step - loss: 0.0454 - acc: 0.9879\n",
      "Epoch 4/6\n",
      "234/234 [==============================] - 2s 11ms/step - loss: 0.0095 - acc: 0.9979\n",
      "Epoch 5/6\n",
      "234/234 [==============================] - 2s 11ms/step - loss: 0.0020 - acc: 0.9997\n",
      "Epoch 6/6\n",
      "234/234 [==============================] - 3s 11ms/step - loss: 4.4760e-04 - acc: 1.0000\n",
      "Predicting 56th label...\n"
     ]
    },
    {
     "name": "stderr",
     "output_type": "stream",
     "text": [
      "100%|███████████████████████████████████████████████████████████████████████████████████████████████████████████████████████████████████████████████████████████████████████████████████████████████████████| 313/313 [00:20<00:00, 14.94it/s]\n"
     ]
    },
    {
     "name": "stdout",
     "output_type": "stream",
     "text": [
      "\n",
      "57'th label prediction started\n",
      "count_one 1628\n",
      "count_zero 1628\n",
      "Epoch 1/6\n",
      "102/102 [==============================] - 2s 12ms/step - loss: 0.4409 - acc: 0.8351\n",
      "Epoch 2/6\n",
      "102/102 [==============================] - 1s 11ms/step - loss: 0.1165 - acc: 0.9607\n",
      "Epoch 3/6\n",
      "102/102 [==============================] - 1s 10ms/step - loss: 0.0254 - acc: 0.9945\n",
      "Epoch 4/6\n",
      "102/102 [==============================] - 1s 11ms/step - loss: 0.0061 - acc: 0.9997\n",
      "Epoch 5/6\n",
      "102/102 [==============================] - 1s 11ms/step - loss: 0.0011 - acc: 1.0000\n",
      "Epoch 6/6\n",
      "102/102 [==============================] - 1s 11ms/step - loss: 6.3414e-04 - acc: 1.0000\n",
      "Predicting 57th label...\n"
     ]
    },
    {
     "name": "stderr",
     "output_type": "stream",
     "text": [
      "100%|███████████████████████████████████████████████████████████████████████████████████████████████████████████████████████████████████████████████████████████████████████████████████████████████████████| 313/313 [00:20<00:00, 15.02it/s]\n"
     ]
    },
    {
     "name": "stdout",
     "output_type": "stream",
     "text": [
      "\n",
      "58'th label prediction started\n",
      "count_one 535\n",
      "count_zero 535\n",
      "Epoch 1/6\n",
      "34/34 [==============================] - 1s 11ms/step - loss: 0.6424 - acc: 0.6514\n",
      "Epoch 2/6\n",
      "34/34 [==============================] - 0s 11ms/step - loss: 0.2348 - acc: 0.9486\n",
      "Epoch 3/6\n",
      "34/34 [==============================] - 0s 11ms/step - loss: 0.0595 - acc: 0.9860\n",
      "Epoch 4/6\n",
      "34/34 [==============================] - 0s 11ms/step - loss: 0.0157 - acc: 0.9991\n",
      "Epoch 5/6\n",
      "34/34 [==============================] - 0s 10ms/step - loss: 0.0083 - acc: 0.9991\n",
      "Epoch 6/6\n",
      "34/34 [==============================] - 0s 10ms/step - loss: 0.0021 - acc: 1.0000\n",
      "Predicting 58th label...\n"
     ]
    },
    {
     "name": "stderr",
     "output_type": "stream",
     "text": [
      "100%|███████████████████████████████████████████████████████████████████████████████████████████████████████████████████████████████████████████████████████████████████████████████████████████████████████| 313/313 [00:19<00:00, 16.41it/s]\n"
     ]
    },
    {
     "name": "stdout",
     "output_type": "stream",
     "text": [
      "\n",
      "59'th label prediction started\n",
      "count_one 341\n",
      "count_zero 341\n",
      "Epoch 1/6\n",
      "22/22 [==============================] - 1s 11ms/step - loss: 0.6678 - acc: 0.5792\n",
      "Epoch 2/6\n",
      "22/22 [==============================] - 0s 10ms/step - loss: 0.3588 - acc: 0.9604\n",
      "Epoch 3/6\n",
      "22/22 [==============================] - 0s 11ms/step - loss: 0.0925 - acc: 0.9765\n",
      "Epoch 4/6\n",
      "22/22 [==============================] - 0s 11ms/step - loss: 0.0172 - acc: 0.9985\n",
      "Epoch 5/6\n",
      "22/22 [==============================] - 0s 11ms/step - loss: 0.0046 - acc: 1.0000\n",
      "Epoch 6/6\n",
      "22/22 [==============================] - 0s 10ms/step - loss: 0.0019 - acc: 1.0000\n",
      "Predicting 59th label...\n"
     ]
    },
    {
     "name": "stderr",
     "output_type": "stream",
     "text": [
      "100%|███████████████████████████████████████████████████████████████████████████████████████████████████████████████████████████████████████████████████████████████████████████████████████████████████████| 313/313 [00:18<00:00, 16.73it/s]\n"
     ]
    },
    {
     "name": "stdout",
     "output_type": "stream",
     "text": [
      "\n",
      "60'th label prediction started\n",
      "count_one 77\n",
      "count_zero 77\n",
      "Epoch 1/6\n",
      "5/5 [==============================] - 1s 40ms/step - loss: 0.7003 - acc: 0.4675\n",
      "Epoch 2/6\n",
      "5/5 [==============================] - 0s 11ms/step - loss: 0.6337 - acc: 0.9740\n",
      "Epoch 3/6\n",
      "5/5 [==============================] - 0s 11ms/step - loss: 0.5608 - acc: 1.0000\n",
      "Epoch 4/6\n",
      "5/5 [==============================] - 0s 11ms/step - loss: 0.4392 - acc: 1.0000\n",
      "Epoch 5/6\n",
      "5/5 [==============================] - 0s 10ms/step - loss: 0.2962 - acc: 1.0000\n",
      "Epoch 6/6\n",
      "5/5 [==============================] - 0s 11ms/step - loss: 0.1652 - acc: 1.0000\n",
      "Predicting 60th label...\n"
     ]
    },
    {
     "name": "stderr",
     "output_type": "stream",
     "text": [
      "100%|███████████████████████████████████████████████████████████████████████████████████████████████████████████████████████████████████████████████████████████████████████████████████████████████████████| 313/313 [00:18<00:00, 16.49it/s]\n"
     ]
    },
    {
     "name": "stdout",
     "output_type": "stream",
     "text": [
      "\n",
      "61'th label prediction started\n",
      "count_one 559\n",
      "count_zero 559\n",
      "Epoch 1/6\n",
      "35/35 [==============================] - 1s 15ms/step - loss: 0.6671 - acc: 0.5689\n",
      "Epoch 2/6\n",
      "35/35 [==============================] - 0s 10ms/step - loss: 0.4091 - acc: 0.8605\n",
      "Epoch 3/6\n",
      "35/35 [==============================] - 0s 10ms/step - loss: 0.0920 - acc: 0.9866\n",
      "Epoch 4/6\n",
      "35/35 [==============================] - 0s 10ms/step - loss: 0.0092 - acc: 1.0000\n",
      "Epoch 5/6\n",
      "35/35 [==============================] - 0s 11ms/step - loss: 0.0032 - acc: 1.0000\n",
      "Epoch 6/6\n",
      "35/35 [==============================] - 0s 11ms/step - loss: 0.0013 - acc: 1.0000\n",
      "Predicting 61th label...\n"
     ]
    },
    {
     "name": "stderr",
     "output_type": "stream",
     "text": [
      "100%|███████████████████████████████████████████████████████████████████████████████████████████████████████████████████████████████████████████████████████████████████████████████████████████████████████| 313/313 [00:20<00:00, 15.22it/s]\n"
     ]
    },
    {
     "name": "stdout",
     "output_type": "stream",
     "text": [
      "\n",
      "62'th label prediction started\n",
      "count_one 730\n",
      "count_zero 730\n",
      "Epoch 1/6\n",
      "46/46 [==============================] - 1s 11ms/step - loss: 0.6727 - acc: 0.5664\n",
      "Epoch 2/6\n",
      "46/46 [==============================] - 1s 11ms/step - loss: 0.3864 - acc: 0.8664\n",
      "Epoch 3/6\n",
      "46/46 [==============================] - 1s 11ms/step - loss: 0.0865 - acc: 0.9808\n",
      "Epoch 4/6\n",
      "46/46 [==============================] - 0s 11ms/step - loss: 0.0177 - acc: 0.9979\n",
      "Epoch 5/6\n",
      "46/46 [==============================] - 1s 11ms/step - loss: 0.0032 - acc: 1.0000\n",
      "Epoch 6/6\n",
      "46/46 [==============================] - 1s 11ms/step - loss: 0.0015 - acc: 1.0000\n",
      "Predicting 62th label...\n"
     ]
    },
    {
     "name": "stderr",
     "output_type": "stream",
     "text": [
      "100%|███████████████████████████████████████████████████████████████████████████████████████████████████████████████████████████████████████████████████████████████████████████████████████████████████████| 313/313 [00:20<00:00, 15.24it/s]\n"
     ]
    },
    {
     "name": "stdout",
     "output_type": "stream",
     "text": [
      "\n",
      "63'th label prediction started\n",
      "count_one 125\n",
      "count_zero 125\n",
      "Epoch 1/6\n",
      "8/8 [==============================] - 1s 29ms/step - loss: 0.6950 - acc: 0.5080\n",
      "Epoch 2/6\n",
      "8/8 [==============================] - 0s 11ms/step - loss: 0.6287 - acc: 0.9720\n",
      "Epoch 3/6\n",
      "8/8 [==============================] - 0s 10ms/step - loss: 0.5127 - acc: 1.0000\n",
      "Epoch 4/6\n",
      "8/8 [==============================] - 0s 10ms/step - loss: 0.3228 - acc: 1.0000\n",
      "Epoch 5/6\n",
      "8/8 [==============================] - 0s 10ms/step - loss: 0.1353 - acc: 1.0000\n",
      "Epoch 6/6\n",
      "8/8 [==============================] - 0s 10ms/step - loss: 0.0412 - acc: 1.0000\n",
      "Predicting 63th label...\n"
     ]
    },
    {
     "name": "stderr",
     "output_type": "stream",
     "text": [
      "100%|███████████████████████████████████████████████████████████████████████████████████████████████████████████████████████████████████████████████████████████████████████████████████████████████████████| 313/313 [00:20<00:00, 15.25it/s]\n"
     ]
    },
    {
     "name": "stdout",
     "output_type": "stream",
     "text": [
      "\n",
      "64'th label prediction started\n",
      "count_one 81\n",
      "count_zero 81\n",
      "Epoch 1/6\n",
      "6/6 [==============================] - 1s 11ms/step - loss: 0.7034 - acc: 0.4630\n",
      "Epoch 2/6\n",
      "6/6 [==============================] - 0s 11ms/step - loss: 0.6285 - acc: 0.9815\n",
      "Epoch 3/6\n",
      "6/6 [==============================] - 0s 10ms/step - loss: 0.5522 - acc: 0.9938\n",
      "Epoch 4/6\n",
      "6/6 [==============================] - 0s 9ms/step - loss: 0.4287 - acc: 1.0000\n",
      "Epoch 5/6\n",
      "6/6 [==============================] - 0s 10ms/step - loss: 0.2784 - acc: 1.0000\n",
      "Epoch 6/6\n",
      "6/6 [==============================] - 0s 10ms/step - loss: 0.1440 - acc: 1.0000\n",
      "Predicting 64th label...\n"
     ]
    },
    {
     "name": "stderr",
     "output_type": "stream",
     "text": [
      "100%|███████████████████████████████████████████████████████████████████████████████████████████████████████████████████████████████████████████████████████████████████████████████████████████████████████| 313/313 [00:20<00:00, 14.92it/s]\n"
     ]
    },
    {
     "name": "stdout",
     "output_type": "stream",
     "text": [
      "\n",
      "65'th label prediction started\n",
      "count_one 484\n",
      "count_zero 484\n",
      "Epoch 1/6\n",
      "31/31 [==============================] - 1s 16ms/step - loss: 0.6623 - acc: 0.5702\n",
      "Epoch 2/6\n",
      "31/31 [==============================] - 0s 11ms/step - loss: 0.4383 - acc: 0.8347\n",
      "Epoch 3/6\n",
      "31/31 [==============================] - 0s 10ms/step - loss: 0.1660 - acc: 0.9690\n",
      "Epoch 4/6\n",
      "31/31 [==============================] - 0s 11ms/step - loss: 0.0233 - acc: 0.9990\n",
      "Epoch 5/6\n",
      "31/31 [==============================] - 0s 11ms/step - loss: 0.0055 - acc: 1.0000\n",
      "Epoch 6/6\n",
      "31/31 [==============================] - 0s 11ms/step - loss: 0.0022 - acc: 1.0000\n",
      "Predicting 65th label...\n"
     ]
    },
    {
     "name": "stderr",
     "output_type": "stream",
     "text": [
      "100%|███████████████████████████████████████████████████████████████████████████████████████████████████████████████████████████████████████████████████████████████████████████████████████████████████████| 313/313 [00:21<00:00, 14.62it/s]\n"
     ]
    },
    {
     "name": "stdout",
     "output_type": "stream",
     "text": [
      "\n",
      "66'th label prediction started\n",
      "count_one 86\n",
      "count_zero 86\n",
      "Epoch 1/6\n",
      "6/6 [==============================] - 1s 10ms/step - loss: 0.7079 - acc: 0.5000\n",
      "Epoch 2/6\n",
      "6/6 [==============================] - 0s 9ms/step - loss: 0.6431 - acc: 0.8488\n",
      "Epoch 3/6\n",
      "6/6 [==============================] - 0s 9ms/step - loss: 0.5769 - acc: 1.0000\n",
      "Epoch 4/6\n",
      "6/6 [==============================] - 0s 9ms/step - loss: 0.4732 - acc: 1.0000\n",
      "Epoch 5/6\n",
      "6/6 [==============================] - 0s 9ms/step - loss: 0.3268 - acc: 1.0000\n",
      "Epoch 6/6\n",
      "6/6 [==============================] - 0s 9ms/step - loss: 0.1907 - acc: 1.0000\n",
      "Predicting 66th label...\n"
     ]
    },
    {
     "name": "stderr",
     "output_type": "stream",
     "text": [
      "100%|███████████████████████████████████████████████████████████████████████████████████████████████████████████████████████████████████████████████████████████████████████████████████████████████████████| 313/313 [00:19<00:00, 16.06it/s]\n"
     ]
    },
    {
     "name": "stdout",
     "output_type": "stream",
     "text": [
      "\n",
      "67'th label prediction started\n",
      "count_one 445\n",
      "count_zero 445\n",
      "Epoch 1/6\n",
      "28/28 [==============================] - 1s 15ms/step - loss: 0.6833 - acc: 0.5573\n",
      "Epoch 2/6\n",
      "28/28 [==============================] - 0s 10ms/step - loss: 0.4687 - acc: 0.9472\n",
      "Epoch 3/6\n",
      "28/28 [==============================] - 0s 10ms/step - loss: 0.0909 - acc: 0.9921\n",
      "Epoch 4/6\n",
      "28/28 [==============================] - 0s 10ms/step - loss: 0.0066 - acc: 1.0000\n",
      "Epoch 5/6\n",
      "28/28 [==============================] - 0s 11ms/step - loss: 0.0021 - acc: 1.0000\n",
      "Epoch 6/6\n",
      "28/28 [==============================] - 0s 11ms/step - loss: 0.0012 - acc: 1.0000\n",
      "Predicting 67th label...\n"
     ]
    },
    {
     "name": "stderr",
     "output_type": "stream",
     "text": [
      "100%|███████████████████████████████████████████████████████████████████████████████████████████████████████████████████████████████████████████████████████████████████████████████████████████████████████| 313/313 [00:19<00:00, 16.45it/s]\n"
     ]
    },
    {
     "name": "stdout",
     "output_type": "stream",
     "text": [
      "\n",
      "68'th label prediction started\n",
      "count_one 191\n",
      "count_zero 191\n",
      "Epoch 1/6\n",
      "12/12 [==============================] - 1s 10ms/step - loss: 0.6953 - acc: 0.5079\n",
      "Epoch 2/6\n",
      "12/12 [==============================] - 0s 10ms/step - loss: 0.5954 - acc: 0.9084\n",
      "Epoch 3/6\n",
      "12/12 [==============================] - 0s 11ms/step - loss: 0.3947 - acc: 1.0000\n",
      "Epoch 4/6\n",
      "12/12 [==============================] - 0s 10ms/step - loss: 0.1547 - acc: 1.0000\n",
      "Epoch 5/6\n",
      "12/12 [==============================] - 0s 11ms/step - loss: 0.0357 - acc: 1.0000\n",
      "Epoch 6/6\n",
      "12/12 [==============================] - 0s 11ms/step - loss: 0.0083 - acc: 1.0000\n",
      "Predicting 68th label...\n"
     ]
    },
    {
     "name": "stderr",
     "output_type": "stream",
     "text": [
      "100%|███████████████████████████████████████████████████████████████████████████████████████████████████████████████████████████████████████████████████████████████████████████████████████████████████████| 313/313 [00:19<00:00, 16.12it/s]\n"
     ]
    },
    {
     "name": "stdout",
     "output_type": "stream",
     "text": [
      "\n",
      "69'th label prediction started\n",
      "count_one 1983\n",
      "count_zero 1983\n",
      "Epoch 1/6\n",
      "124/124 [==============================] - 2s 11ms/step - loss: 0.4299 - acc: 0.7864\n",
      "Epoch 2/6\n",
      "124/124 [==============================] - 1s 10ms/step - loss: 0.1535 - acc: 0.9455\n",
      "Epoch 3/6\n",
      "124/124 [==============================] - 1s 11ms/step - loss: 0.0276 - acc: 0.9934\n",
      "Epoch 4/6\n",
      "124/124 [==============================] - 1s 11ms/step - loss: 0.0032 - acc: 0.9997\n",
      "Epoch 5/6\n",
      "124/124 [==============================] - 1s 10ms/step - loss: 8.2896e-04 - acc: 1.0000\n",
      "Epoch 6/6\n",
      "124/124 [==============================] - 1s 10ms/step - loss: 3.9845e-04 - acc: 1.0000\n",
      "Predicting 69th label...\n"
     ]
    },
    {
     "name": "stderr",
     "output_type": "stream",
     "text": [
      "100%|███████████████████████████████████████████████████████████████████████████████████████████████████████████████████████████████████████████████████████████████████████████████████████████████████████| 313/313 [00:19<00:00, 16.24it/s]\n"
     ]
    },
    {
     "name": "stdout",
     "output_type": "stream",
     "text": [
      "\n",
      "70'th label prediction started\n",
      "count_one 206\n",
      "count_zero 206\n",
      "Epoch 1/6\n",
      "13/13 [==============================] - 1s 20ms/step - loss: 0.6905 - acc: 0.5388\n",
      "Epoch 2/6\n",
      "13/13 [==============================] - 0s 11ms/step - loss: 0.5876 - acc: 0.9709\n",
      "Epoch 3/6\n",
      "13/13 [==============================] - 0s 11ms/step - loss: 0.3276 - acc: 0.9709\n",
      "Epoch 4/6\n",
      "13/13 [==============================] - 0s 11ms/step - loss: 0.1111 - acc: 0.9854\n",
      "Epoch 5/6\n",
      "13/13 [==============================] - 0s 11ms/step - loss: 0.0257 - acc: 0.9976\n",
      "Epoch 6/6\n",
      "13/13 [==============================] - 0s 11ms/step - loss: 0.0060 - acc: 1.0000\n",
      "Predicting 70th label...\n"
     ]
    },
    {
     "name": "stderr",
     "output_type": "stream",
     "text": [
      "100%|███████████████████████████████████████████████████████████████████████████████████████████████████████████████████████████████████████████████████████████████████████████████████████████████████████| 313/313 [00:19<00:00, 16.34it/s]\n"
     ]
    },
    {
     "name": "stdout",
     "output_type": "stream",
     "text": [
      "\n",
      "71'th label prediction started\n",
      "count_one 84\n",
      "count_zero 84\n",
      "Epoch 1/6\n",
      "6/6 [==============================] - 1s 12ms/step - loss: 0.6976 - acc: 0.5060\n",
      "Epoch 2/6\n",
      "6/6 [==============================] - 0s 11ms/step - loss: 0.6208 - acc: 0.9583\n",
      "Epoch 3/6\n",
      "6/6 [==============================] - 0s 11ms/step - loss: 0.5333 - acc: 1.0000\n",
      "Epoch 4/6\n",
      "6/6 [==============================] - 0s 10ms/step - loss: 0.3912 - acc: 1.0000\n",
      "Epoch 5/6\n",
      "6/6 [==============================] - 0s 10ms/step - loss: 0.2336 - acc: 1.0000\n",
      "Epoch 6/6\n",
      "6/6 [==============================] - 0s 10ms/step - loss: 0.1071 - acc: 1.0000\n",
      "Predicting 71th label...\n"
     ]
    },
    {
     "name": "stderr",
     "output_type": "stream",
     "text": [
      "100%|███████████████████████████████████████████████████████████████████████████████████████████████████████████████████████████████████████████████████████████████████████████████████████████████████████| 313/313 [00:18<00:00, 16.73it/s]\n"
     ]
    },
    {
     "name": "stdout",
     "output_type": "stream",
     "text": [
      "\n",
      "72'th label prediction started\n",
      "count_one 126\n",
      "count_zero 126\n",
      "Epoch 1/6\n",
      "8/8 [==============================] - 1s 11ms/step - loss: 0.6893 - acc: 0.5516\n",
      "Epoch 2/6\n",
      "8/8 [==============================] - 0s 10ms/step - loss: 0.6071 - acc: 0.9643\n",
      "Epoch 3/6\n",
      "8/8 [==============================] - 0s 10ms/step - loss: 0.4497 - acc: 1.0000\n",
      "Epoch 4/6\n",
      "8/8 [==============================] - 0s 11ms/step - loss: 0.2265 - acc: 1.0000\n",
      "Epoch 5/6\n",
      "8/8 [==============================] - 0s 11ms/step - loss: 0.0783 - acc: 1.0000\n",
      "Epoch 6/6\n",
      "8/8 [==============================] - 0s 11ms/step - loss: 0.0226 - acc: 1.0000\n",
      "Predicting 72th label...\n"
     ]
    },
    {
     "name": "stderr",
     "output_type": "stream",
     "text": [
      "100%|███████████████████████████████████████████████████████████████████████████████████████████████████████████████████████████████████████████████████████████████████████████████████████████████████████| 313/313 [00:19<00:00, 16.05it/s]\n"
     ]
    },
    {
     "name": "stdout",
     "output_type": "stream",
     "text": [
      "\n",
      "73'th label prediction started\n",
      "count_one 88\n",
      "count_zero 88\n",
      "Epoch 1/6\n",
      "6/6 [==============================] - 1s 32ms/step - loss: 0.6931 - acc: 0.4943\n",
      "Epoch 2/6\n",
      "6/6 [==============================] - 0s 11ms/step - loss: 0.6176 - acc: 1.0000\n",
      "Epoch 3/6\n",
      "6/6 [==============================] - 0s 11ms/step - loss: 0.5137 - acc: 1.0000\n",
      "Epoch 4/6\n",
      "6/6 [==============================] - 0s 10ms/step - loss: 0.3555 - acc: 1.0000\n",
      "Epoch 5/6\n",
      "6/6 [==============================] - 0s 9ms/step - loss: 0.1914 - acc: 1.0000\n",
      "Epoch 6/6\n",
      "6/6 [==============================] - 0s 10ms/step - loss: 0.0804 - acc: 1.0000\n",
      "Predicting 73th label...\n"
     ]
    },
    {
     "name": "stderr",
     "output_type": "stream",
     "text": [
      "100%|███████████████████████████████████████████████████████████████████████████████████████████████████████████████████████████████████████████████████████████████████████████████████████████████████████| 313/313 [00:20<00:00, 15.46it/s]\n"
     ]
    },
    {
     "name": "stdout",
     "output_type": "stream",
     "text": [
      "\n",
      "74'th label prediction started\n",
      "count_one 493\n",
      "count_zero 493\n",
      "Epoch 1/6\n",
      "31/31 [==============================] - 1s 11ms/step - loss: 0.6858 - acc: 0.5385\n",
      "Epoch 2/6\n",
      "31/31 [==============================] - 0s 11ms/step - loss: 0.4956 - acc: 0.8164\n",
      "Epoch 3/6\n",
      "31/31 [==============================] - 0s 11ms/step - loss: 0.1429 - acc: 0.9706\n",
      "Epoch 4/6\n",
      "31/31 [==============================] - 0s 11ms/step - loss: 0.0214 - acc: 0.9980\n",
      "Epoch 5/6\n",
      "31/31 [==============================] - 0s 11ms/step - loss: 0.0053 - acc: 0.9990\n",
      "Epoch 6/6\n",
      "31/31 [==============================] - 0s 10ms/step - loss: 0.0016 - acc: 1.0000\n",
      "Predicting 74th label...\n"
     ]
    },
    {
     "name": "stderr",
     "output_type": "stream",
     "text": [
      "100%|███████████████████████████████████████████████████████████████████████████████████████████████████████████████████████████████████████████████████████████████████████████████████████████████████████| 313/313 [00:20<00:00, 15.24it/s]\n"
     ]
    },
    {
     "name": "stdout",
     "output_type": "stream",
     "text": [
      "\n",
      "75'th label prediction started\n",
      "count_one 140\n",
      "count_zero 140\n",
      "Epoch 1/6\n",
      "9/9 [==============================] - 1s 12ms/step - loss: 0.7008 - acc: 0.4821\n",
      "Epoch 2/6\n",
      "9/9 [==============================] - 0s 11ms/step - loss: 0.6425 - acc: 0.9821\n",
      "Epoch 3/6\n",
      "9/9 [==============================] - 0s 11ms/step - loss: 0.5382 - acc: 1.0000\n",
      "Epoch 4/6\n",
      "9/9 [==============================] - 0s 11ms/step - loss: 0.3582 - acc: 1.0000\n",
      "Epoch 5/6\n",
      "9/9 [==============================] - 0s 11ms/step - loss: 0.1568 - acc: 1.0000\n",
      "Epoch 6/6\n",
      "9/9 [==============================] - 0s 10ms/step - loss: 0.0438 - acc: 1.0000\n",
      "Predicting 75th label...\n"
     ]
    },
    {
     "name": "stderr",
     "output_type": "stream",
     "text": [
      "100%|███████████████████████████████████████████████████████████████████████████████████████████████████████████████████████████████████████████████████████████████████████████████████████████████████████| 313/313 [00:19<00:00, 16.30it/s]\n"
     ]
    },
    {
     "name": "stdout",
     "output_type": "stream",
     "text": [
      "\n",
      "76'th label prediction started\n",
      "count_one 218\n",
      "count_zero 218\n",
      "Epoch 1/6\n",
      "14/14 [==============================] - 1s 19ms/step - loss: 0.7080 - acc: 0.5138\n",
      "Epoch 2/6\n",
      "14/14 [==============================] - 0s 13ms/step - loss: 0.6035 - acc: 0.8280\n",
      "Epoch 3/6\n",
      "14/14 [==============================] - 0s 10ms/step - loss: 0.3965 - acc: 0.9702\n",
      "Epoch 4/6\n",
      "14/14 [==============================] - 0s 11ms/step - loss: 0.1667 - acc: 0.9862\n",
      "Epoch 5/6\n",
      "14/14 [==============================] - 0s 10ms/step - loss: 0.0423 - acc: 1.0000\n",
      "Epoch 6/6\n",
      "14/14 [==============================] - 0s 11ms/step - loss: 0.0096 - acc: 1.0000\n",
      "Predicting 76th label...\n"
     ]
    },
    {
     "name": "stderr",
     "output_type": "stream",
     "text": [
      "100%|███████████████████████████████████████████████████████████████████████████████████████████████████████████████████████████████████████████████████████████████████████████████████████████████████████| 313/313 [00:19<00:00, 15.77it/s]\n"
     ]
    },
    {
     "name": "stdout",
     "output_type": "stream",
     "text": [
      "\n",
      "77'th label prediction started\n",
      "count_one 146\n",
      "count_zero 146\n",
      "Epoch 1/6\n",
      "10/10 [==============================] - 1s 20ms/step - loss: 0.7028 - acc: 0.5000\n",
      "Epoch 2/6\n",
      "10/10 [==============================] - 0s 10ms/step - loss: 0.6212 - acc: 0.8733\n",
      "Epoch 3/6\n",
      "10/10 [==============================] - 0s 10ms/step - loss: 0.5004 - acc: 1.0000\n",
      "Epoch 4/6\n",
      "10/10 [==============================] - 0s 11ms/step - loss: 0.2946 - acc: 1.0000\n",
      "Epoch 5/6\n",
      "10/10 [==============================] - 0s 10ms/step - loss: 0.1114 - acc: 1.0000\n",
      "Epoch 6/6\n",
      "10/10 [==============================] - 0s 10ms/step - loss: 0.0297 - acc: 1.0000\n",
      "Predicting 77th label...\n"
     ]
    },
    {
     "name": "stderr",
     "output_type": "stream",
     "text": [
      "100%|███████████████████████████████████████████████████████████████████████████████████████████████████████████████████████████████████████████████████████████████████████████████████████████████████████| 313/313 [00:18<00:00, 16.67it/s]\n"
     ]
    },
    {
     "name": "stdout",
     "output_type": "stream",
     "text": [
      "\n",
      "78'th label prediction started\n",
      "count_one 102\n",
      "count_zero 102\n",
      "Epoch 1/6\n",
      "7/7 [==============================] - 1s 11ms/step - loss: 0.7016 - acc: 0.5000\n",
      "Epoch 2/6\n",
      "7/7 [==============================] - 0s 11ms/step - loss: 0.6347 - acc: 0.9559\n",
      "Epoch 3/6\n",
      "7/7 [==============================] - 0s 11ms/step - loss: 0.5406 - acc: 1.0000\n",
      "Epoch 4/6\n",
      "7/7 [==============================] - 0s 11ms/step - loss: 0.3841 - acc: 1.0000\n",
      "Epoch 5/6\n",
      "7/7 [==============================] - 0s 10ms/step - loss: 0.2084 - acc: 1.0000\n",
      "Epoch 6/6\n",
      "7/7 [==============================] - 0s 11ms/step - loss: 0.0812 - acc: 1.0000\n",
      "Predicting 78th label...\n"
     ]
    },
    {
     "name": "stderr",
     "output_type": "stream",
     "text": [
      "100%|███████████████████████████████████████████████████████████████████████████████████████████████████████████████████████████████████████████████████████████████████████████████████████████████████████| 313/313 [00:18<00:00, 16.52it/s]\n"
     ]
    },
    {
     "name": "stdout",
     "output_type": "stream",
     "text": [
      "\n",
      "79'th label prediction started\n",
      "count_one 276\n",
      "count_zero 276\n",
      "Epoch 1/6\n",
      "18/18 [==============================] - 1s 11ms/step - loss: 0.6948 - acc: 0.5290\n",
      "Epoch 2/6\n",
      "18/18 [==============================] - 0s 11ms/step - loss: 0.5980 - acc: 0.8188\n",
      "Epoch 3/6\n",
      "18/18 [==============================] - 0s 11ms/step - loss: 0.3125 - acc: 0.9982\n",
      "Epoch 4/6\n",
      "18/18 [==============================] - 0s 11ms/step - loss: 0.0585 - acc: 0.9982\n",
      "Epoch 5/6\n",
      "18/18 [==============================] - 0s 11ms/step - loss: 0.0084 - acc: 1.0000\n",
      "Epoch 6/6\n",
      "18/18 [==============================] - 0s 10ms/step - loss: 0.0027 - acc: 1.0000\n",
      "Predicting 79th label...\n"
     ]
    },
    {
     "name": "stderr",
     "output_type": "stream",
     "text": [
      "100%|███████████████████████████████████████████████████████████████████████████████████████████████████████████████████████████████████████████████████████████████████████████████████████████████████████| 313/313 [00:19<00:00, 16.31it/s]\n"
     ]
    },
    {
     "name": "stdout",
     "output_type": "stream",
     "text": [
      "\n",
      "80'th label prediction started\n",
      "count_one 447\n",
      "count_zero 447\n",
      "Epoch 1/6\n",
      "28/28 [==============================] - 1s 15ms/step - loss: 0.6796 - acc: 0.5537\n",
      "Epoch 2/6\n",
      "28/28 [==============================] - 0s 11ms/step - loss: 0.4442 - acc: 0.8758\n",
      "Epoch 3/6\n",
      "28/28 [==============================] - 0s 11ms/step - loss: 0.1668 - acc: 0.9385\n",
      "Epoch 4/6\n",
      "28/28 [==============================] - 0s 11ms/step - loss: 0.0281 - acc: 1.0000\n",
      "Epoch 5/6\n",
      "28/28 [==============================] - 0s 11ms/step - loss: 0.0073 - acc: 1.0000\n",
      "Epoch 6/6\n",
      "28/28 [==============================] - 0s 11ms/step - loss: 0.0030 - acc: 1.0000\n",
      "Predicting 80th label...\n"
     ]
    },
    {
     "name": "stderr",
     "output_type": "stream",
     "text": [
      "100%|███████████████████████████████████████████████████████████████████████████████████████████████████████████████████████████████████████████████████████████████████████████████████████████████████████| 313/313 [00:21<00:00, 14.63it/s]\n"
     ]
    },
    {
     "name": "stdout",
     "output_type": "stream",
     "text": [
      "\n",
      "81'th label prediction started\n",
      "count_one 924\n",
      "count_zero 924\n",
      "Epoch 1/6\n",
      "58/58 [==============================] - 1s 13ms/step - loss: 0.5864 - acc: 0.6986\n",
      "Epoch 2/6\n",
      "58/58 [==============================] - 1s 11ms/step - loss: 0.2260 - acc: 0.9107\n",
      "Epoch 3/6\n",
      "58/58 [==============================] - 1s 11ms/step - loss: 0.0368 - acc: 0.9919\n",
      "Epoch 4/6\n",
      "58/58 [==============================] - 1s 11ms/step - loss: 0.0069 - acc: 1.0000\n",
      "Epoch 5/6\n",
      "58/58 [==============================] - 1s 11ms/step - loss: 0.0021 - acc: 1.0000\n",
      "Epoch 6/6\n",
      "58/58 [==============================] - 1s 11ms/step - loss: 0.0012 - acc: 1.0000\n",
      "Predicting 81th label...\n"
     ]
    },
    {
     "name": "stderr",
     "output_type": "stream",
     "text": [
      "100%|███████████████████████████████████████████████████████████████████████████████████████████████████████████████████████████████████████████████████████████████████████████████████████████████████████| 313/313 [00:19<00:00, 16.01it/s]\n"
     ]
    },
    {
     "name": "stdout",
     "output_type": "stream",
     "text": [
      "\n",
      "82'th label prediction started\n",
      "count_one 538\n",
      "count_zero 538\n",
      "Epoch 1/6\n",
      "34/34 [==============================] - 1s 14ms/step - loss: 0.6025 - acc: 0.6608\n",
      "Epoch 2/6\n",
      "34/34 [==============================] - 0s 11ms/step - loss: 0.2761 - acc: 0.8838\n",
      "Epoch 3/6\n",
      "34/34 [==============================] - 0s 11ms/step - loss: 0.0891 - acc: 0.9777\n",
      "Epoch 4/6\n",
      "34/34 [==============================] - 0s 10ms/step - loss: 0.0137 - acc: 0.9991\n",
      "Epoch 5/6\n",
      "34/34 [==============================] - 0s 11ms/step - loss: 0.0031 - acc: 1.0000\n",
      "Epoch 6/6\n",
      "34/34 [==============================] - 0s 11ms/step - loss: 0.0012 - acc: 1.0000\n",
      "Predicting 82th label...\n"
     ]
    },
    {
     "name": "stderr",
     "output_type": "stream",
     "text": [
      "100%|███████████████████████████████████████████████████████████████████████████████████████████████████████████████████████████████████████████████████████████████████████████████████████████████████████| 313/313 [00:20<00:00, 15.56it/s]\n"
     ]
    },
    {
     "name": "stdout",
     "output_type": "stream",
     "text": [
      "\n",
      "83'th label prediction started\n",
      "count_one 112\n",
      "count_zero 112\n",
      "Epoch 1/6\n",
      "7/7 [==============================] - 1s 12ms/step - loss: 0.6941 - acc: 0.5089\n",
      "Epoch 2/6\n",
      "7/7 [==============================] - 0s 12ms/step - loss: 0.6083 - acc: 0.9732\n",
      "Epoch 3/6\n",
      "7/7 [==============================] - 0s 11ms/step - loss: 0.4711 - acc: 0.9955\n",
      "Epoch 4/6\n",
      "7/7 [==============================] - 0s 11ms/step - loss: 0.2816 - acc: 1.0000\n",
      "Epoch 5/6\n",
      "7/7 [==============================] - 0s 12ms/step - loss: 0.1165 - acc: 1.0000\n",
      "Epoch 6/6\n",
      "7/7 [==============================] - 0s 12ms/step - loss: 0.0366 - acc: 1.0000\n",
      "Predicting 83th label...\n"
     ]
    },
    {
     "name": "stderr",
     "output_type": "stream",
     "text": [
      "100%|███████████████████████████████████████████████████████████████████████████████████████████████████████████████████████████████████████████████████████████████████████████████████████████████████████| 313/313 [00:20<00:00, 15.12it/s]\n"
     ]
    },
    {
     "name": "stdout",
     "output_type": "stream",
     "text": [
      "\n",
      "84'th label prediction started\n",
      "count_one 891\n",
      "count_zero 891\n",
      "Epoch 1/6\n",
      "56/56 [==============================] - 1s 13ms/step - loss: 0.5707 - acc: 0.7301\n",
      "Epoch 2/6\n",
      "56/56 [==============================] - 1s 11ms/step - loss: 0.2437 - acc: 0.8962\n",
      "Epoch 3/6\n",
      "56/56 [==============================] - 1s 11ms/step - loss: 0.0646 - acc: 0.9832\n",
      "Epoch 4/6\n",
      "56/56 [==============================] - 1s 10ms/step - loss: 0.0141 - acc: 0.9989\n",
      "Epoch 5/6\n",
      "56/56 [==============================] - 1s 11ms/step - loss: 0.0066 - acc: 0.9989\n",
      "Epoch 6/6\n",
      "56/56 [==============================] - 1s 11ms/step - loss: 0.0022 - acc: 1.0000\n",
      "Predicting 84th label...\n"
     ]
    },
    {
     "name": "stderr",
     "output_type": "stream",
     "text": [
      "100%|███████████████████████████████████████████████████████████████████████████████████████████████████████████████████████████████████████████████████████████████████████████████████████████████████████| 313/313 [00:20<00:00, 15.31it/s]\n"
     ]
    },
    {
     "name": "stdout",
     "output_type": "stream",
     "text": [
      "\n",
      "85'th label prediction started\n",
      "count_one 256\n",
      "count_zero 256\n",
      "Epoch 1/6\n",
      "16/16 [==============================] - 1s 11ms/step - loss: 0.7097 - acc: 0.5137\n",
      "Epoch 2/6\n",
      "16/16 [==============================] - 0s 11ms/step - loss: 0.6371 - acc: 0.7988\n",
      "Epoch 3/6\n",
      "16/16 [==============================] - 0s 11ms/step - loss: 0.4562 - acc: 0.9961\n",
      "Epoch 4/6\n",
      "16/16 [==============================] - 0s 11ms/step - loss: 0.1726 - acc: 0.9980\n",
      "Epoch 5/6\n",
      "16/16 [==============================] - 0s 11ms/step - loss: 0.0271 - acc: 1.0000\n",
      "Epoch 6/6\n",
      "16/16 [==============================] - 0s 11ms/step - loss: 0.0052 - acc: 1.0000\n",
      "Predicting 85th label...\n"
     ]
    },
    {
     "name": "stderr",
     "output_type": "stream",
     "text": [
      "100%|███████████████████████████████████████████████████████████████████████████████████████████████████████████████████████████████████████████████████████████████████████████████████████████████████████| 313/313 [00:18<00:00, 16.48it/s]\n"
     ]
    },
    {
     "name": "stdout",
     "output_type": "stream",
     "text": [
      "\n",
      "86'th label prediction started\n",
      "count_one 209\n",
      "count_zero 209\n",
      "Epoch 1/6\n",
      "14/14 [==============================] - 1s 11ms/step - loss: 0.7094 - acc: 0.4522\n",
      "Epoch 2/6\n",
      "14/14 [==============================] - 0s 11ms/step - loss: 0.6245 - acc: 0.8900\n",
      "Epoch 3/6\n",
      "14/14 [==============================] - 0s 11ms/step - loss: 0.4757 - acc: 0.9785\n",
      "Epoch 4/6\n",
      "14/14 [==============================] - 0s 11ms/step - loss: 0.2474 - acc: 0.9809\n",
      "Epoch 5/6\n",
      "14/14 [==============================] - 0s 11ms/step - loss: 0.0706 - acc: 0.9976\n",
      "Epoch 6/6\n",
      "14/14 [==============================] - 0s 11ms/step - loss: 0.0151 - acc: 1.0000\n",
      "Predicting 86th label...\n"
     ]
    },
    {
     "name": "stderr",
     "output_type": "stream",
     "text": [
      "100%|███████████████████████████████████████████████████████████████████████████████████████████████████████████████████████████████████████████████████████████████████████████████████████████████████████| 313/313 [00:20<00:00, 15.60it/s]\n"
     ]
    },
    {
     "name": "stdout",
     "output_type": "stream",
     "text": [
      "\n",
      "87'th label prediction started\n",
      "count_one 389\n",
      "count_zero 389\n",
      "Epoch 1/6\n",
      "25/25 [==============================] - 1s 11ms/step - loss: 0.6466 - acc: 0.7262\n",
      "Epoch 2/6\n",
      "25/25 [==============================] - 0s 11ms/step - loss: 0.2923 - acc: 0.9113\n",
      "Epoch 3/6\n",
      "25/25 [==============================] - 0s 10ms/step - loss: 0.0992 - acc: 0.9704\n",
      "Epoch 4/6\n",
      "25/25 [==============================] - 0s 11ms/step - loss: 0.0267 - acc: 0.9987\n",
      "Epoch 5/6\n",
      "25/25 [==============================] - 0s 11ms/step - loss: 0.0063 - acc: 1.0000\n",
      "Epoch 6/6\n",
      "25/25 [==============================] - 0s 11ms/step - loss: 0.0025 - acc: 1.0000\n",
      "Predicting 87th label...\n"
     ]
    },
    {
     "name": "stderr",
     "output_type": "stream",
     "text": [
      "100%|███████████████████████████████████████████████████████████████████████████████████████████████████████████████████████████████████████████████████████████████████████████████████████████████████████| 313/313 [00:19<00:00, 16.00it/s]\n"
     ]
    },
    {
     "name": "stdout",
     "output_type": "stream",
     "text": [
      "\n",
      "88'th label prediction started\n",
      "count_one 385\n",
      "count_zero 385\n",
      "Epoch 1/6\n",
      "25/25 [==============================] - 1s 19ms/step - loss: 0.6840 - acc: 0.5753\n",
      "Epoch 2/6\n",
      "25/25 [==============================] - 0s 11ms/step - loss: 0.5219 - acc: 0.9026\n",
      "Epoch 3/6\n",
      "25/25 [==============================] - 0s 10ms/step - loss: 0.1643 - acc: 0.9818\n",
      "Epoch 4/6\n",
      "25/25 [==============================] - 0s 11ms/step - loss: 0.0190 - acc: 0.9987\n",
      "Epoch 5/6\n",
      "25/25 [==============================] - 0s 11ms/step - loss: 0.0046 - acc: 1.0000\n",
      "Epoch 6/6\n",
      "25/25 [==============================] - 0s 11ms/step - loss: 0.0017 - acc: 1.0000\n",
      "Predicting 88th label...\n"
     ]
    },
    {
     "name": "stderr",
     "output_type": "stream",
     "text": [
      "100%|███████████████████████████████████████████████████████████████████████████████████████████████████████████████████████████████████████████████████████████████████████████████████████████████████████| 313/313 [00:20<00:00, 15.15it/s]\n"
     ]
    },
    {
     "name": "stdout",
     "output_type": "stream",
     "text": [
      "\n",
      "89'th label prediction started\n",
      "count_one 270\n",
      "count_zero 270\n",
      "Epoch 1/6\n",
      "17/17 [==============================] - 1s 11ms/step - loss: 0.6920 - acc: 0.5315\n",
      "Epoch 2/6\n",
      "17/17 [==============================] - 0s 11ms/step - loss: 0.5649 - acc: 0.7444\n",
      "Epoch 3/6\n",
      "17/17 [==============================] - 0s 11ms/step - loss: 0.2793 - acc: 0.9426\n",
      "Epoch 4/6\n",
      "17/17 [==============================] - 0s 11ms/step - loss: 0.0975 - acc: 0.9833\n",
      "Epoch 5/6\n",
      "17/17 [==============================] - 0s 11ms/step - loss: 0.0214 - acc: 0.9981\n",
      "Epoch 6/6\n",
      "17/17 [==============================] - 0s 11ms/step - loss: 0.0058 - acc: 1.0000\n",
      "Predicting 89th label...\n"
     ]
    },
    {
     "name": "stderr",
     "output_type": "stream",
     "text": [
      "100%|███████████████████████████████████████████████████████████████████████████████████████████████████████████████████████████████████████████████████████████████████████████████████████████████████████| 313/313 [00:20<00:00, 15.42it/s]\n"
     ]
    },
    {
     "name": "stdout",
     "output_type": "stream",
     "text": [
      "\n",
      "90'th label prediction started\n",
      "count_one 413\n",
      "count_zero 413\n",
      "Epoch 1/6\n",
      "26/26 [==============================] - 1s 11ms/step - loss: 0.6853 - acc: 0.5448\n",
      "Epoch 2/6\n",
      "26/26 [==============================] - 0s 11ms/step - loss: 0.5452 - acc: 0.7772\n",
      "Epoch 3/6\n",
      "26/26 [==============================] - 0s 10ms/step - loss: 0.1953 - acc: 0.9758\n",
      "Epoch 4/6\n",
      "26/26 [==============================] - 0s 11ms/step - loss: 0.0240 - acc: 1.0000\n",
      "Epoch 5/6\n",
      "26/26 [==============================] - 0s 11ms/step - loss: 0.0049 - acc: 1.0000\n",
      "Epoch 6/6\n",
      "26/26 [==============================] - 0s 11ms/step - loss: 0.0019 - acc: 1.0000\n",
      "Predicting 90th label...\n"
     ]
    },
    {
     "name": "stderr",
     "output_type": "stream",
     "text": [
      "100%|███████████████████████████████████████████████████████████████████████████████████████████████████████████████████████████████████████████████████████████████████████████████████████████████████████| 313/313 [00:20<00:00, 15.60it/s]\n"
     ]
    },
    {
     "name": "stdout",
     "output_type": "stream",
     "text": [
      "\n",
      "91'th label prediction started\n",
      "count_one 293\n",
      "count_zero 293\n",
      "Epoch 1/6\n",
      "19/19 [==============================] - 1s 11ms/step - loss: 0.7028 - acc: 0.5154\n",
      "Epoch 2/6\n",
      "19/19 [==============================] - 0s 11ms/step - loss: 0.6296 - acc: 0.7543\n",
      "Epoch 3/6\n",
      "19/19 [==============================] - 0s 10ms/step - loss: 0.3870 - acc: 0.9881\n",
      "Epoch 4/6\n",
      "19/19 [==============================] - 0s 11ms/step - loss: 0.0947 - acc: 0.9966\n",
      "Epoch 5/6\n",
      "19/19 [==============================] - 0s 10ms/step - loss: 0.0122 - acc: 1.0000\n",
      "Epoch 6/6\n",
      "19/19 [==============================] - 0s 10ms/step - loss: 0.0032 - acc: 1.0000\n",
      "Predicting 91th label...\n"
     ]
    },
    {
     "name": "stderr",
     "output_type": "stream",
     "text": [
      "100%|███████████████████████████████████████████████████████████████████████████████████████████████████████████████████████████████████████████████████████████████████████████████████████████████████████| 313/313 [00:22<00:00, 14.01it/s]\n"
     ]
    },
    {
     "name": "stdout",
     "output_type": "stream",
     "text": [
      "\n",
      "92'th label prediction started\n",
      "count_one 354\n",
      "count_zero 354\n",
      "Epoch 1/6\n",
      "23/23 [==============================] - 1s 14ms/step - loss: 0.6925 - acc: 0.5339\n",
      "Epoch 2/6\n",
      "23/23 [==============================] - 0s 11ms/step - loss: 0.4968 - acc: 0.8347\n",
      "Epoch 3/6\n",
      "23/23 [==============================] - 0s 10ms/step - loss: 0.1832 - acc: 0.9576\n",
      "Epoch 4/6\n",
      "23/23 [==============================] - 0s 11ms/step - loss: 0.0379 - acc: 0.9944\n",
      "Epoch 5/6\n",
      "23/23 [==============================] - 0s 11ms/step - loss: 0.0074 - acc: 1.0000\n",
      "Epoch 6/6\n",
      "23/23 [==============================] - 0s 10ms/step - loss: 0.0025 - acc: 1.0000\n",
      "Predicting 92th label...\n"
     ]
    },
    {
     "name": "stderr",
     "output_type": "stream",
     "text": [
      "100%|███████████████████████████████████████████████████████████████████████████████████████████████████████████████████████████████████████████████████████████████████████████████████████████████████████| 313/313 [00:20<00:00, 15.20it/s]\n"
     ]
    },
    {
     "name": "stdout",
     "output_type": "stream",
     "text": [
      "\n",
      "93'th label prediction started\n",
      "count_one 442\n",
      "count_zero 442\n",
      "Epoch 1/6\n",
      "28/28 [==============================] - 1s 11ms/step - loss: 0.6743 - acc: 0.5588\n",
      "Epoch 2/6\n",
      "28/28 [==============================] - 0s 11ms/step - loss: 0.4373 - acc: 0.8824\n",
      "Epoch 3/6\n",
      "28/28 [==============================] - 0s 11ms/step - loss: 0.1032 - acc: 0.9864\n",
      "Epoch 4/6\n",
      "28/28 [==============================] - 0s 11ms/step - loss: 0.0114 - acc: 0.9989\n",
      "Epoch 5/6\n",
      "28/28 [==============================] - 0s 10ms/step - loss: 0.0036 - acc: 1.0000\n",
      "Epoch 6/6\n",
      "28/28 [==============================] - 0s 11ms/step - loss: 0.0018 - acc: 1.0000\n",
      "Predicting 93th label...\n"
     ]
    },
    {
     "name": "stderr",
     "output_type": "stream",
     "text": [
      "100%|███████████████████████████████████████████████████████████████████████████████████████████████████████████████████████████████████████████████████████████████████████████████████████████████████████| 313/313 [00:20<00:00, 14.94it/s]\n"
     ]
    },
    {
     "name": "stdout",
     "output_type": "stream",
     "text": [
      "\n",
      "94'th label prediction started\n",
      "count_one 212\n",
      "count_zero 212\n",
      "Epoch 1/6\n",
      "14/14 [==============================] - 1s 11ms/step - loss: 0.6933 - acc: 0.5283\n",
      "Epoch 2/6\n",
      "14/14 [==============================] - 0s 11ms/step - loss: 0.5688 - acc: 0.9127\n",
      "Epoch 3/6\n",
      "14/14 [==============================] - 0s 10ms/step - loss: 0.3098 - acc: 0.9811\n",
      "Epoch 4/6\n",
      "14/14 [==============================] - 0s 11ms/step - loss: 0.1013 - acc: 0.9953\n",
      "Epoch 5/6\n",
      "14/14 [==============================] - 0s 11ms/step - loss: 0.0265 - acc: 0.9976\n",
      "Epoch 6/6\n",
      "14/14 [==============================] - 0s 10ms/step - loss: 0.0057 - acc: 1.0000\n",
      "Predicting 94th label...\n"
     ]
    },
    {
     "name": "stderr",
     "output_type": "stream",
     "text": [
      "100%|███████████████████████████████████████████████████████████████████████████████████████████████████████████████████████████████████████████████████████████████████████████████████████████████████████| 313/313 [00:20<00:00, 15.26it/s]\n"
     ]
    },
    {
     "name": "stdout",
     "output_type": "stream",
     "text": [
      "\n",
      "95'th label prediction started\n",
      "count_one 386\n",
      "count_zero 386\n",
      "Epoch 1/6\n",
      "25/25 [==============================] - 1s 14ms/step - loss: 0.6735 - acc: 0.5933\n",
      "Epoch 2/6\n",
      "25/25 [==============================] - 0s 10ms/step - loss: 0.4553 - acc: 0.8446\n",
      "Epoch 3/6\n",
      "25/25 [==============================] - 0s 11ms/step - loss: 0.1586 - acc: 0.9663\n",
      "Epoch 4/6\n",
      "25/25 [==============================] - 0s 10ms/step - loss: 0.0321 - acc: 0.9961\n",
      "Epoch 5/6\n",
      "25/25 [==============================] - 0s 11ms/step - loss: 0.0062 - acc: 1.0000\n",
      "Epoch 6/6\n",
      "25/25 [==============================] - 0s 10ms/step - loss: 0.0023 - acc: 1.0000\n",
      "Predicting 95th label...\n"
     ]
    },
    {
     "name": "stderr",
     "output_type": "stream",
     "text": [
      "100%|███████████████████████████████████████████████████████████████████████████████████████████████████████████████████████████████████████████████████████████████████████████████████████████████████████| 313/313 [00:20<00:00, 15.12it/s]\n"
     ]
    },
    {
     "name": "stdout",
     "output_type": "stream",
     "text": [
      "\n",
      "96'th label prediction started\n",
      "count_one 175\n",
      "count_zero 175\n",
      "Epoch 1/6\n",
      "11/11 [==============================] - 1s 12ms/step - loss: 0.6941 - acc: 0.5057\n",
      "Epoch 2/6\n",
      "11/11 [==============================] - 0s 10ms/step - loss: 0.6059 - acc: 0.9857\n",
      "Epoch 3/6\n",
      "11/11 [==============================] - 0s 10ms/step - loss: 0.4231 - acc: 0.9829\n",
      "Epoch 4/6\n",
      "11/11 [==============================] - 0s 11ms/step - loss: 0.1885 - acc: 0.9800\n",
      "Epoch 5/6\n",
      "11/11 [==============================] - 0s 11ms/step - loss: 0.0603 - acc: 0.9914\n",
      "Epoch 6/6\n",
      "11/11 [==============================] - 0s 11ms/step - loss: 0.0140 - acc: 1.0000\n",
      "Predicting 96th label...\n"
     ]
    },
    {
     "name": "stderr",
     "output_type": "stream",
     "text": [
      "100%|███████████████████████████████████████████████████████████████████████████████████████████████████████████████████████████████████████████████████████████████████████████████████████████████████████| 313/313 [00:19<00:00, 16.05it/s]\n"
     ]
    },
    {
     "name": "stdout",
     "output_type": "stream",
     "text": [
      "\n",
      "97'th label prediction started\n",
      "count_one 161\n",
      "count_zero 161\n",
      "Epoch 1/6\n",
      "11/11 [==============================] - 1s 18ms/step - loss: 0.6946 - acc: 0.5248\n",
      "Epoch 2/6\n",
      "11/11 [==============================] - 0s 11ms/step - loss: 0.5941 - acc: 0.7143\n",
      "Epoch 3/6\n",
      "11/11 [==============================] - 0s 11ms/step - loss: 0.4212 - acc: 1.0000\n",
      "Epoch 4/6\n",
      "11/11 [==============================] - 0s 11ms/step - loss: 0.1920 - acc: 1.0000\n",
      "Epoch 5/6\n",
      "11/11 [==============================] - 0s 11ms/step - loss: 0.0563 - acc: 1.0000\n",
      "Epoch 6/6\n",
      "11/11 [==============================] - 0s 10ms/step - loss: 0.0147 - acc: 1.0000\n",
      "Predicting 97th label...\n"
     ]
    },
    {
     "name": "stderr",
     "output_type": "stream",
     "text": [
      "100%|███████████████████████████████████████████████████████████████████████████████████████████████████████████████████████████████████████████████████████████████████████████████████████████████████████| 313/313 [00:20<00:00, 15.47it/s]\n"
     ]
    },
    {
     "name": "stdout",
     "output_type": "stream",
     "text": [
      "\n",
      "98'th label prediction started\n",
      "count_one 117\n",
      "count_zero 117\n",
      "Epoch 1/6\n",
      "8/8 [==============================] - 1s 11ms/step - loss: 0.6929 - acc: 0.5214\n",
      "Epoch 2/6\n",
      "8/8 [==============================] - 0s 10ms/step - loss: 0.6158 - acc: 0.7735\n",
      "Epoch 3/6\n",
      "8/8 [==============================] - 0s 11ms/step - loss: 0.4967 - acc: 0.9915\n",
      "Epoch 4/6\n",
      "8/8 [==============================] - 0s 11ms/step - loss: 0.3168 - acc: 1.0000\n",
      "Epoch 5/6\n",
      "8/8 [==============================] - 0s 10ms/step - loss: 0.1470 - acc: 1.0000\n",
      "Epoch 6/6\n",
      "8/8 [==============================] - 0s 11ms/step - loss: 0.0502 - acc: 1.0000\n",
      "Predicting 98th label...\n"
     ]
    },
    {
     "name": "stderr",
     "output_type": "stream",
     "text": [
      "100%|███████████████████████████████████████████████████████████████████████████████████████████████████████████████████████████████████████████████████████████████████████████████████████████████████████| 313/313 [00:20<00:00, 15.40it/s]\n"
     ]
    },
    {
     "name": "stdout",
     "output_type": "stream",
     "text": [
      "\n",
      "99'th label prediction started\n",
      "count_one 344\n",
      "count_zero 344\n",
      "Epoch 1/6\n",
      "22/22 [==============================] - 1s 12ms/step - loss: 0.6912 - acc: 0.5436\n",
      "Epoch 2/6\n",
      "22/22 [==============================] - 0s 11ms/step - loss: 0.4998 - acc: 0.8314\n",
      "Epoch 3/6\n",
      "22/22 [==============================] - 0s 11ms/step - loss: 0.1901 - acc: 0.9709\n",
      "Epoch 4/6\n",
      "22/22 [==============================] - 0s 11ms/step - loss: 0.0377 - acc: 0.9971\n",
      "Epoch 5/6\n",
      "22/22 [==============================] - 0s 10ms/step - loss: 0.0080 - acc: 1.0000\n",
      "Epoch 6/6\n",
      "22/22 [==============================] - 0s 11ms/step - loss: 0.0027 - acc: 1.0000\n",
      "Predicting 99th label...\n"
     ]
    },
    {
     "name": "stderr",
     "output_type": "stream",
     "text": [
      "100%|███████████████████████████████████████████████████████████████████████████████████████████████████████████████████████████████████████████████████████████████████████████████████████████████████████| 313/313 [00:21<00:00, 14.57it/s]\n"
     ]
    },
    {
     "name": "stdout",
     "output_type": "stream",
     "text": [
      "\n",
      "100'th label prediction started\n",
      "count_one 197\n",
      "count_zero 197\n",
      "Epoch 1/6\n",
      "13/13 [==============================] - 1s 11ms/step - loss: 0.6901 - acc: 0.5635\n",
      "Epoch 2/6\n",
      "13/13 [==============================] - 0s 11ms/step - loss: 0.4950 - acc: 0.8959\n",
      "Epoch 3/6\n",
      "13/13 [==============================] - 0s 10ms/step - loss: 0.2281 - acc: 0.9391\n",
      "Epoch 4/6\n",
      "13/13 [==============================] - 0s 10ms/step - loss: 0.0925 - acc: 0.9924\n",
      "Epoch 5/6\n",
      "13/13 [==============================] - 0s 11ms/step - loss: 0.0390 - acc: 0.9949\n",
      "Epoch 6/6\n",
      "13/13 [==============================] - 0s 10ms/step - loss: 0.0121 - acc: 0.9975\n",
      "Predicting 100th label...\n"
     ]
    },
    {
     "name": "stderr",
     "output_type": "stream",
     "text": [
      "100%|███████████████████████████████████████████████████████████████████████████████████████████████████████████████████████████████████████████████████████████████████████████████████████████████████████| 313/313 [00:20<00:00, 15.32it/s]\n"
     ]
    },
    {
     "name": "stdout",
     "output_type": "stream",
     "text": [
      "\n",
      "101'th label prediction started\n",
      "count_one 587\n",
      "count_zero 587\n",
      "Epoch 1/6\n",
      "37/37 [==============================] - 1s 14ms/step - loss: 0.6792 - acc: 0.5843\n",
      "Epoch 2/6\n",
      "37/37 [==============================] - 0s 11ms/step - loss: 0.5148 - acc: 0.7181\n",
      "Epoch 3/6\n",
      "37/37 [==============================] - 0s 11ms/step - loss: 0.2111 - acc: 0.9353\n",
      "Epoch 4/6\n",
      "37/37 [==============================] - 0s 11ms/step - loss: 0.0403 - acc: 0.9957\n",
      "Epoch 5/6\n",
      "37/37 [==============================] - 0s 11ms/step - loss: 0.0122 - acc: 0.9991\n",
      "Epoch 6/6\n",
      "37/37 [==============================] - 0s 11ms/step - loss: 0.0057 - acc: 1.0000\n",
      "Predicting 101th label...\n"
     ]
    },
    {
     "name": "stderr",
     "output_type": "stream",
     "text": [
      "100%|███████████████████████████████████████████████████████████████████████████████████████████████████████████████████████████████████████████████████████████████████████████████████████████████████████| 313/313 [00:20<00:00, 15.39it/s]\n"
     ]
    },
    {
     "name": "stdout",
     "output_type": "stream",
     "text": [
      "\n",
      "102'th label prediction started\n",
      "count_one 241\n",
      "count_zero 241\n",
      "Epoch 1/6\n",
      "16/16 [==============================] - 1s 11ms/step - loss: 0.6931 - acc: 0.5353\n",
      "Epoch 2/6\n",
      "16/16 [==============================] - 0s 11ms/step - loss: 0.5971 - acc: 0.9066\n",
      "Epoch 3/6\n",
      "16/16 [==============================] - 0s 11ms/step - loss: 0.3857 - acc: 0.9689\n",
      "Epoch 4/6\n",
      "16/16 [==============================] - 0s 11ms/step - loss: 0.1490 - acc: 0.9855\n",
      "Epoch 5/6\n",
      "16/16 [==============================] - 0s 11ms/step - loss: 0.0340 - acc: 0.9979\n",
      "Epoch 6/6\n",
      "16/16 [==============================] - 0s 10ms/step - loss: 0.0089 - acc: 1.0000\n",
      "Predicting 102th label...\n"
     ]
    },
    {
     "name": "stderr",
     "output_type": "stream",
     "text": [
      "100%|███████████████████████████████████████████████████████████████████████████████████████████████████████████████████████████████████████████████████████████████████████████████████████████████████████| 313/313 [00:20<00:00, 14.99it/s]\n"
     ]
    },
    {
     "name": "stdout",
     "output_type": "stream",
     "text": [
      "\n",
      "103'th label prediction started\n",
      "count_one 321\n",
      "count_zero 321\n",
      "Epoch 1/6\n",
      "21/21 [==============================] - 1s 10ms/step - loss: 0.6874 - acc: 0.5265\n",
      "Epoch 2/6\n",
      "21/21 [==============================] - 0s 10ms/step - loss: 0.5923 - acc: 0.7944\n",
      "Epoch 3/6\n",
      "21/21 [==============================] - 0s 11ms/step - loss: 0.3092 - acc: 0.9766\n",
      "Epoch 4/6\n",
      "21/21 [==============================] - 0s 11ms/step - loss: 0.0710 - acc: 0.9938\n",
      "Epoch 5/6\n",
      "21/21 [==============================] - 0s 11ms/step - loss: 0.0102 - acc: 1.0000\n",
      "Epoch 6/6\n",
      "21/21 [==============================] - 0s 11ms/step - loss: 0.0035 - acc: 1.0000\n",
      "Predicting 103th label...\n"
     ]
    },
    {
     "name": "stderr",
     "output_type": "stream",
     "text": [
      "100%|███████████████████████████████████████████████████████████████████████████████████████████████████████████████████████████████████████████████████████████████████████████████████████████████████████| 313/313 [00:20<00:00, 15.09it/s]\n"
     ]
    },
    {
     "name": "stdout",
     "output_type": "stream",
     "text": [
      "\n",
      "104'th label prediction started\n",
      "count_one 172\n",
      "count_zero 172\n",
      "Epoch 1/6\n",
      "11/11 [==============================] - 1s 12ms/step - loss: 0.7053 - acc: 0.4477\n",
      "Epoch 2/6\n",
      "11/11 [==============================] - 0s 12ms/step - loss: 0.6322 - acc: 0.9709\n",
      "Epoch 3/6\n",
      "11/11 [==============================] - 0s 11ms/step - loss: 0.5119 - acc: 1.0000\n",
      "Epoch 4/6\n",
      "11/11 [==============================] - 0s 11ms/step - loss: 0.2909 - acc: 1.0000\n",
      "Epoch 5/6\n",
      "11/11 [==============================] - 0s 11ms/step - loss: 0.0970 - acc: 1.0000\n",
      "Epoch 6/6\n",
      "11/11 [==============================] - 0s 11ms/step - loss: 0.0217 - acc: 1.0000\n",
      "Predicting 104th label...\n"
     ]
    },
    {
     "name": "stderr",
     "output_type": "stream",
     "text": [
      "100%|███████████████████████████████████████████████████████████████████████████████████████████████████████████████████████████████████████████████████████████████████████████████████████████████████████| 313/313 [00:20<00:00, 15.56it/s]\n"
     ]
    },
    {
     "name": "stdout",
     "output_type": "stream",
     "text": [
      "\n",
      "105'th label prediction started\n",
      "count_one 187\n",
      "count_zero 187\n",
      "Epoch 1/6\n",
      "12/12 [==============================] - 1s 21ms/step - loss: 0.7102 - acc: 0.5134\n",
      "Epoch 2/6\n",
      "12/12 [==============================] - 0s 11ms/step - loss: 0.6304 - acc: 0.8583\n",
      "Epoch 3/6\n",
      "12/12 [==============================] - 0s 11ms/step - loss: 0.4989 - acc: 0.9973\n",
      "Epoch 4/6\n",
      "12/12 [==============================] - 0s 11ms/step - loss: 0.2606 - acc: 0.9973\n",
      "Epoch 5/6\n",
      "12/12 [==============================] - 0s 10ms/step - loss: 0.0740 - acc: 0.9973\n",
      "Epoch 6/6\n",
      "12/12 [==============================] - 0s 11ms/step - loss: 0.0154 - acc: 1.0000\n",
      "Predicting 105th label...\n"
     ]
    },
    {
     "name": "stderr",
     "output_type": "stream",
     "text": [
      "100%|███████████████████████████████████████████████████████████████████████████████████████████████████████████████████████████████████████████████████████████████████████████████████████████████████████| 313/313 [00:21<00:00, 14.70it/s]\n"
     ]
    },
    {
     "name": "stdout",
     "output_type": "stream",
     "text": [
      "\n",
      "106'th label prediction started\n",
      "count_one 128\n",
      "count_zero 128\n",
      "Epoch 1/6\n",
      "8/8 [==============================] - 1s 13ms/step - loss: 0.7007 - acc: 0.4727\n",
      "Epoch 2/6\n",
      "8/8 [==============================] - 0s 11ms/step - loss: 0.6268 - acc: 0.9453\n",
      "Epoch 3/6\n",
      "8/8 [==============================] - 0s 10ms/step - loss: 0.5021 - acc: 1.0000\n",
      "Epoch 4/6\n",
      "8/8 [==============================] - 0s 10ms/step - loss: 0.3027 - acc: 1.0000\n",
      "Epoch 5/6\n",
      "8/8 [==============================] - 0s 11ms/step - loss: 0.1206 - acc: 1.0000\n",
      "Epoch 6/6\n",
      "8/8 [==============================] - 0s 11ms/step - loss: 0.0317 - acc: 1.0000\n",
      "Predicting 106th label...\n"
     ]
    },
    {
     "name": "stderr",
     "output_type": "stream",
     "text": [
      "100%|███████████████████████████████████████████████████████████████████████████████████████████████████████████████████████████████████████████████████████████████████████████████████████████████████████| 313/313 [00:20<00:00, 15.21it/s]\n"
     ]
    },
    {
     "name": "stdout",
     "output_type": "stream",
     "text": [
      "\n",
      "107'th label prediction started\n",
      "count_one 191\n",
      "count_zero 191\n",
      "Epoch 1/6\n",
      "12/12 [==============================] - 1s 11ms/step - loss: 0.6962 - acc: 0.5052\n",
      "Epoch 2/6\n",
      "12/12 [==============================] - 0s 11ms/step - loss: 0.6061 - acc: 0.9843\n",
      "Epoch 3/6\n",
      "12/12 [==============================] - 0s 11ms/step - loss: 0.4026 - acc: 0.9974\n",
      "Epoch 4/6\n",
      "12/12 [==============================] - 0s 11ms/step - loss: 0.1413 - acc: 1.0000\n",
      "Epoch 5/6\n",
      "12/12 [==============================] - 0s 10ms/step - loss: 0.0270 - acc: 1.0000\n",
      "Epoch 6/6\n",
      "12/12 [==============================] - 0s 11ms/step - loss: 0.0058 - acc: 1.0000\n",
      "Predicting 107th label...\n"
     ]
    },
    {
     "name": "stderr",
     "output_type": "stream",
     "text": [
      "100%|███████████████████████████████████████████████████████████████████████████████████████████████████████████████████████████████████████████████████████████████████████████████████████████████████████| 313/313 [00:22<00:00, 14.02it/s]\n"
     ]
    },
    {
     "name": "stdout",
     "output_type": "stream",
     "text": [
      "\n",
      "108'th label prediction started\n",
      "count_one 326\n",
      "count_zero 326\n",
      "Epoch 1/6\n",
      "21/21 [==============================] - 1s 11ms/step - loss: 0.6709 - acc: 0.5660\n",
      "Epoch 2/6\n",
      "21/21 [==============================] - 0s 10ms/step - loss: 0.4304 - acc: 0.9340\n",
      "Epoch 3/6\n",
      "21/21 [==============================] - 0s 11ms/step - loss: 0.1437 - acc: 0.9525\n",
      "Epoch 4/6\n",
      "21/21 [==============================] - 0s 11ms/step - loss: 0.0291 - acc: 0.9969\n",
      "Epoch 5/6\n",
      "21/21 [==============================] - 0s 11ms/step - loss: 0.0063 - acc: 1.0000\n",
      "Epoch 6/6\n",
      "21/21 [==============================] - 0s 11ms/step - loss: 0.0027 - acc: 1.0000\n",
      "Predicting 108th label...\n"
     ]
    },
    {
     "name": "stderr",
     "output_type": "stream",
     "text": [
      "100%|███████████████████████████████████████████████████████████████████████████████████████████████████████████████████████████████████████████████████████████████████████████████████████████████████████| 313/313 [00:20<00:00, 15.34it/s]\n"
     ]
    },
    {
     "name": "stdout",
     "output_type": "stream",
     "text": [
      "\n",
      "109'th label prediction started\n",
      "count_one 1754\n",
      "count_zero 1754\n",
      "Epoch 1/6\n",
      "110/110 [==============================] - 2s 11ms/step - loss: 0.5076 - acc: 0.7620\n",
      "Epoch 2/6\n",
      "110/110 [==============================] - 1s 11ms/step - loss: 0.1867 - acc: 0.9322\n",
      "Epoch 3/6\n",
      "110/110 [==============================] - 1s 11ms/step - loss: 0.0505 - acc: 0.9863\n",
      "Epoch 4/6\n",
      "110/110 [==============================] - 1s 11ms/step - loss: 0.0077 - acc: 0.9989\n",
      "Epoch 5/6\n",
      "110/110 [==============================] - 1s 11ms/step - loss: 0.0017 - acc: 1.0000\n",
      "Epoch 6/6\n",
      "110/110 [==============================] - 1s 11ms/step - loss: 0.0011 - acc: 1.0000\n",
      "Predicting 109th label...\n"
     ]
    },
    {
     "name": "stderr",
     "output_type": "stream",
     "text": [
      "100%|███████████████████████████████████████████████████████████████████████████████████████████████████████████████████████████████████████████████████████████████████████████████████████████████████████| 313/313 [00:20<00:00, 15.22it/s]\n"
     ]
    },
    {
     "name": "stdout",
     "output_type": "stream",
     "text": [
      "\n",
      "110'th label prediction started\n",
      "count_one 78\n",
      "count_zero 78\n",
      "Epoch 1/6\n",
      "5/5 [==============================] - 1s 45ms/step - loss: 0.7026 - acc: 0.4744\n",
      "Epoch 2/6\n",
      "5/5 [==============================] - 0s 11ms/step - loss: 0.6393 - acc: 0.8526\n",
      "Epoch 3/6\n",
      "5/5 [==============================] - 0s 11ms/step - loss: 0.5736 - acc: 0.9936\n",
      "Epoch 4/6\n",
      "5/5 [==============================] - 0s 11ms/step - loss: 0.4749 - acc: 1.0000\n",
      "Epoch 5/6\n",
      "5/5 [==============================] - 0s 11ms/step - loss: 0.3448 - acc: 1.0000\n",
      "Epoch 6/6\n",
      "5/5 [==============================] - 0s 11ms/step - loss: 0.2167 - acc: 1.0000\n",
      "Predicting 110th label...\n"
     ]
    },
    {
     "name": "stderr",
     "output_type": "stream",
     "text": [
      "100%|███████████████████████████████████████████████████████████████████████████████████████████████████████████████████████████████████████████████████████████████████████████████████████████████████████| 313/313 [00:20<00:00, 15.10it/s]\n"
     ]
    },
    {
     "name": "stdout",
     "output_type": "stream",
     "text": [
      "\n",
      "111'th label prediction started\n",
      "count_one 94\n",
      "count_zero 94\n",
      "Epoch 1/6\n",
      "6/6 [==============================] - 1s 35ms/step - loss: 0.6936 - acc: 0.4734\n",
      "Epoch 2/6\n",
      "6/6 [==============================] - 0s 11ms/step - loss: 0.6265 - acc: 0.9574\n",
      "Epoch 3/6\n",
      "6/6 [==============================] - 0s 11ms/step - loss: 0.5150 - acc: 1.0000\n",
      "Epoch 4/6\n",
      "6/6 [==============================] - 0s 12ms/step - loss: 0.3421 - acc: 1.0000\n",
      "Epoch 5/6\n",
      "6/6 [==============================] - 0s 11ms/step - loss: 0.1699 - acc: 1.0000\n",
      "Epoch 6/6\n",
      "6/6 [==============================] - 0s 12ms/step - loss: 0.0634 - acc: 1.0000\n",
      "Predicting 111th label...\n"
     ]
    },
    {
     "name": "stderr",
     "output_type": "stream",
     "text": [
      "100%|███████████████████████████████████████████████████████████████████████████████████████████████████████████████████████████████████████████████████████████████████████████████████████████████████████| 313/313 [00:20<00:00, 15.44it/s]\n"
     ]
    },
    {
     "name": "stdout",
     "output_type": "stream",
     "text": [
      "\n",
      "112'th label prediction started\n",
      "count_one 1658\n",
      "count_zero 1658\n",
      "Epoch 1/6\n",
      "104/104 [==============================] - 2s 11ms/step - loss: 0.5499 - acc: 0.7229\n",
      "Epoch 2/6\n",
      "104/104 [==============================] - 1s 11ms/step - loss: 0.2140 - acc: 0.9207\n",
      "Epoch 3/6\n",
      "104/104 [==============================] - 1s 10ms/step - loss: 0.0396 - acc: 0.9916\n",
      "Epoch 4/6\n",
      "104/104 [==============================] - 1s 11ms/step - loss: 0.0065 - acc: 0.9997\n",
      "Epoch 5/6\n",
      "104/104 [==============================] - 1s 11ms/step - loss: 0.0024 - acc: 1.0000\n",
      "Epoch 6/6\n",
      "104/104 [==============================] - 1s 11ms/step - loss: 9.7423e-04 - acc: 1.0000\n",
      "Predicting 112th label...\n"
     ]
    },
    {
     "name": "stderr",
     "output_type": "stream",
     "text": [
      "100%|███████████████████████████████████████████████████████████████████████████████████████████████████████████████████████████████████████████████████████████████████████████████████████████████████████| 313/313 [00:19<00:00, 15.70it/s]\n"
     ]
    },
    {
     "name": "stdout",
     "output_type": "stream",
     "text": [
      "\n",
      "113'th label prediction started\n",
      "count_one 116\n",
      "count_zero 116\n",
      "Epoch 1/6\n",
      "8/8 [==============================] - 1s 22ms/step - loss: 0.6964 - acc: 0.4828\n",
      "Epoch 2/6\n",
      "8/8 [==============================] - 0s 10ms/step - loss: 0.6235 - acc: 0.9310\n",
      "Epoch 3/6\n",
      "8/8 [==============================] - 0s 10ms/step - loss: 0.5358 - acc: 0.9828\n",
      "Epoch 4/6\n",
      "8/8 [==============================] - 0s 11ms/step - loss: 0.3769 - acc: 1.0000\n",
      "Epoch 5/6\n",
      "8/8 [==============================] - 0s 10ms/step - loss: 0.1988 - acc: 1.0000\n",
      "Epoch 6/6\n",
      "8/8 [==============================] - 0s 11ms/step - loss: 0.0718 - acc: 1.0000\n",
      "Predicting 113th label...\n"
     ]
    },
    {
     "name": "stderr",
     "output_type": "stream",
     "text": [
      "100%|███████████████████████████████████████████████████████████████████████████████████████████████████████████████████████████████████████████████████████████████████████████████████████████████████████| 313/313 [00:19<00:00, 16.11it/s]\n"
     ]
    },
    {
     "name": "stdout",
     "output_type": "stream",
     "text": [
      "\n",
      "114'th label prediction started\n",
      "count_one 110\n",
      "count_zero 110\n",
      "Epoch 1/6\n",
      "7/7 [==============================] - 1s 12ms/step - loss: 0.6984 - acc: 0.5000\n",
      "Epoch 2/6\n",
      "7/7 [==============================] - 0s 12ms/step - loss: 0.6045 - acc: 0.9864\n",
      "Epoch 3/6\n",
      "7/7 [==============================] - 0s 11ms/step - loss: 0.4855 - acc: 0.9955\n",
      "Epoch 4/6\n",
      "7/7 [==============================] - 0s 10ms/step - loss: 0.3072 - acc: 0.9955\n",
      "Epoch 5/6\n",
      "7/7 [==============================] - 0s 10ms/step - loss: 0.1418 - acc: 0.9955\n",
      "Epoch 6/6\n",
      "7/7 [==============================] - 0s 10ms/step - loss: 0.0501 - acc: 1.0000\n",
      "Predicting 114th label...\n"
     ]
    },
    {
     "name": "stderr",
     "output_type": "stream",
     "text": [
      "100%|███████████████████████████████████████████████████████████████████████████████████████████████████████████████████████████████████████████████████████████████████████████████████████████████████████| 313/313 [00:20<00:00, 15.47it/s]\n"
     ]
    },
    {
     "name": "stdout",
     "output_type": "stream",
     "text": [
      "\n",
      "115'th label prediction started\n",
      "count_one 129\n",
      "count_zero 129\n",
      "Epoch 1/6\n",
      "9/9 [==============================] - 1s 11ms/step - loss: 0.6936 - acc: 0.5039\n",
      "Epoch 2/6\n",
      "9/9 [==============================] - 0s 10ms/step - loss: 0.5743 - acc: 0.9884\n",
      "Epoch 3/6\n",
      "9/9 [==============================] - 0s 11ms/step - loss: 0.3749 - acc: 0.9961\n",
      "Epoch 4/6\n",
      "9/9 [==============================] - 0s 10ms/step - loss: 0.1629 - acc: 0.9961\n",
      "Epoch 5/6\n",
      "9/9 [==============================] - 0s 11ms/step - loss: 0.0576 - acc: 1.0000\n",
      "Epoch 6/6\n",
      "9/9 [==============================] - 0s 11ms/step - loss: 0.0194 - acc: 1.0000\n",
      "Predicting 115th label...\n"
     ]
    },
    {
     "name": "stderr",
     "output_type": "stream",
     "text": [
      "100%|███████████████████████████████████████████████████████████████████████████████████████████████████████████████████████████████████████████████████████████████████████████████████████████████████████| 313/313 [00:19<00:00, 15.76it/s]\n"
     ]
    },
    {
     "name": "stdout",
     "output_type": "stream",
     "text": [
      "\n",
      "116'th label prediction started\n",
      "count_one 81\n",
      "count_zero 81\n",
      "Epoch 1/6\n",
      "6/6 [==============================] - 1s 25ms/step - loss: 0.7000 - acc: 0.4753\n",
      "Epoch 2/6\n",
      "6/6 [==============================] - 0s 10ms/step - loss: 0.6490 - acc: 0.9691\n",
      "Epoch 3/6\n",
      "6/6 [==============================] - 0s 10ms/step - loss: 0.5870 - acc: 1.0000\n",
      "Epoch 4/6\n",
      "6/6 [==============================] - 0s 10ms/step - loss: 0.4907 - acc: 1.0000\n",
      "Epoch 5/6\n",
      "6/6 [==============================] - 0s 11ms/step - loss: 0.3649 - acc: 1.0000\n",
      "Epoch 6/6\n",
      "6/6 [==============================] - 0s 9ms/step - loss: 0.2197 - acc: 1.0000\n",
      "Predicting 116th label...\n"
     ]
    },
    {
     "name": "stderr",
     "output_type": "stream",
     "text": [
      "100%|███████████████████████████████████████████████████████████████████████████████████████████████████████████████████████████████████████████████████████████████████████████████████████████████████████| 313/313 [00:18<00:00, 16.84it/s]\n"
     ]
    },
    {
     "name": "stdout",
     "output_type": "stream",
     "text": [
      "\n",
      "117'th label prediction started\n",
      "count_one 226\n",
      "count_zero 226\n",
      "Epoch 1/6\n",
      "15/15 [==============================] - 1s 16ms/step - loss: 0.7050 - acc: 0.5066\n",
      "Epoch 2/6\n",
      "15/15 [==============================] - 0s 11ms/step - loss: 0.6097 - acc: 0.8673\n",
      "Epoch 3/6\n",
      "15/15 [==============================] - 0s 11ms/step - loss: 0.3801 - acc: 0.9712\n",
      "Epoch 4/6\n",
      "15/15 [==============================] - 0s 11ms/step - loss: 0.1349 - acc: 0.9845\n",
      "Epoch 5/6\n",
      "15/15 [==============================] - 0s 10ms/step - loss: 0.0362 - acc: 0.9956\n",
      "Epoch 6/6\n",
      "15/15 [==============================] - 0s 11ms/step - loss: 0.0091 - acc: 1.0000\n",
      "Predicting 117th label...\n"
     ]
    },
    {
     "name": "stderr",
     "output_type": "stream",
     "text": [
      "100%|███████████████████████████████████████████████████████████████████████████████████████████████████████████████████████████████████████████████████████████████████████████████████████████████████████| 313/313 [00:19<00:00, 15.87it/s]\n"
     ]
    },
    {
     "name": "stdout",
     "output_type": "stream",
     "text": [
      "\n",
      "118'th label prediction started\n",
      "count_one 789\n",
      "count_zero 789\n",
      "Epoch 1/6\n",
      "50/50 [==============================] - 1s 14ms/step - loss: 0.6633 - acc: 0.6179\n",
      "Epoch 2/6\n",
      "50/50 [==============================] - 1s 11ms/step - loss: 0.3085 - acc: 0.9018\n",
      "Epoch 3/6\n",
      "50/50 [==============================] - 1s 11ms/step - loss: 0.0413 - acc: 0.9918\n",
      "Epoch 4/6\n",
      "50/50 [==============================] - 1s 11ms/step - loss: 0.0093 - acc: 1.0000\n",
      "Epoch 5/6\n",
      "50/50 [==============================] - 1s 11ms/step - loss: 0.0017 - acc: 1.0000\n",
      "Epoch 6/6\n",
      "50/50 [==============================] - 1s 11ms/step - loss: 8.2115e-04 - acc: 1.0000\n",
      "Predicting 118th label...\n"
     ]
    },
    {
     "name": "stderr",
     "output_type": "stream",
     "text": [
      "100%|███████████████████████████████████████████████████████████████████████████████████████████████████████████████████████████████████████████████████████████████████████████████████████████████████████| 313/313 [00:19<00:00, 15.72it/s]\n"
     ]
    },
    {
     "name": "stdout",
     "output_type": "stream",
     "text": [
      "\n",
      "119'th label prediction started\n",
      "count_one 176\n",
      "count_zero 176\n",
      "Epoch 1/6\n",
      "11/11 [==============================] - 1s 12ms/step - loss: 0.6813 - acc: 0.6222\n",
      "Epoch 2/6\n",
      "11/11 [==============================] - 0s 11ms/step - loss: 0.5337 - acc: 0.9801\n",
      "Epoch 3/6\n",
      "11/11 [==============================] - 0s 11ms/step - loss: 0.2917 - acc: 0.9830\n",
      "Epoch 4/6\n",
      "11/11 [==============================] - 0s 12ms/step - loss: 0.1127 - acc: 0.9915\n",
      "Epoch 5/6\n",
      "11/11 [==============================] - 0s 10ms/step - loss: 0.0273 - acc: 0.9972\n",
      "Epoch 6/6\n",
      "11/11 [==============================] - 0s 11ms/step - loss: 0.0079 - acc: 1.0000\n",
      "Predicting 119th label...\n"
     ]
    },
    {
     "name": "stderr",
     "output_type": "stream",
     "text": [
      "100%|███████████████████████████████████████████████████████████████████████████████████████████████████████████████████████████████████████████████████████████████████████████████████████████████████████| 313/313 [00:20<00:00, 15.19it/s]\n"
     ]
    },
    {
     "name": "stdout",
     "output_type": "stream",
     "text": [
      "\n",
      "120'th label prediction started\n",
      "count_one 68\n",
      "count_zero 68\n",
      "Epoch 1/6\n",
      "5/5 [==============================] - 1s 12ms/step - loss: 0.6936 - acc: 0.4632\n",
      "Epoch 2/6\n",
      "5/5 [==============================] - 0s 11ms/step - loss: 0.6480 - acc: 0.8750\n",
      "Epoch 3/6\n",
      "5/5 [==============================] - 0s 11ms/step - loss: 0.5827 - acc: 0.9926\n",
      "Epoch 4/6\n",
      "5/5 [==============================] - 0s 10ms/step - loss: 0.4838 - acc: 1.0000\n",
      "Epoch 5/6\n",
      "5/5 [==============================] - 0s 9ms/step - loss: 0.3570 - acc: 1.0000\n",
      "Epoch 6/6\n",
      "5/5 [==============================] - 0s 10ms/step - loss: 0.2165 - acc: 1.0000\n",
      "Predicting 120th label...\n"
     ]
    },
    {
     "name": "stderr",
     "output_type": "stream",
     "text": [
      "100%|███████████████████████████████████████████████████████████████████████████████████████████████████████████████████████████████████████████████████████████████████████████████████████████████████████| 313/313 [00:20<00:00, 15.09it/s]\n"
     ]
    },
    {
     "name": "stdout",
     "output_type": "stream",
     "text": [
      "\n",
      "121'th label prediction started\n",
      "count_one 115\n",
      "count_zero 115\n",
      "Epoch 1/6\n",
      "8/8 [==============================] - 1s 22ms/step - loss: 0.7116 - acc: 0.4783\n",
      "Epoch 2/6\n",
      "8/8 [==============================] - 0s 10ms/step - loss: 0.6134 - acc: 0.9348\n",
      "Epoch 3/6\n",
      "8/8 [==============================] - 0s 10ms/step - loss: 0.5021 - acc: 0.9913\n",
      "Epoch 4/6\n",
      "8/8 [==============================] - 0s 11ms/step - loss: 0.3221 - acc: 1.0000\n",
      "Epoch 5/6\n",
      "8/8 [==============================] - 0s 11ms/step - loss: 0.1533 - acc: 1.0000\n",
      "Epoch 6/6\n",
      "8/8 [==============================] - 0s 10ms/step - loss: 0.0585 - acc: 1.0000\n",
      "Predicting 121th label...\n"
     ]
    },
    {
     "name": "stderr",
     "output_type": "stream",
     "text": [
      "100%|███████████████████████████████████████████████████████████████████████████████████████████████████████████████████████████████████████████████████████████████████████████████████████████████████████| 313/313 [00:20<00:00, 15.21it/s]\n"
     ]
    },
    {
     "name": "stdout",
     "output_type": "stream",
     "text": [
      "\n",
      "122'th label prediction started\n",
      "count_one 171\n",
      "count_zero 171\n",
      "Epoch 1/6\n",
      "11/11 [==============================] - 1s 24ms/step - loss: 0.6866 - acc: 0.5205\n",
      "Epoch 2/6\n",
      "11/11 [==============================] - 0s 10ms/step - loss: 0.5650 - acc: 0.9620\n",
      "Epoch 3/6\n",
      "11/11 [==============================] - 0s 11ms/step - loss: 0.3204 - acc: 0.9854\n",
      "Epoch 4/6\n",
      "11/11 [==============================] - 0s 11ms/step - loss: 0.1110 - acc: 0.9883\n",
      "Epoch 5/6\n",
      "11/11 [==============================] - 0s 11ms/step - loss: 0.0286 - acc: 0.9971\n",
      "Epoch 6/6\n",
      "11/11 [==============================] - 0s 11ms/step - loss: 0.0063 - acc: 1.0000\n",
      "Predicting 122th label...\n"
     ]
    },
    {
     "name": "stderr",
     "output_type": "stream",
     "text": [
      "100%|███████████████████████████████████████████████████████████████████████████████████████████████████████████████████████████████████████████████████████████████████████████████████████████████████████| 313/313 [00:20<00:00, 15.25it/s]\n"
     ]
    },
    {
     "name": "stdout",
     "output_type": "stream",
     "text": [
      "\n",
      "123'th label prediction started\n",
      "count_one 62\n",
      "count_zero 62\n",
      "Epoch 1/6\n",
      "4/4 [==============================] - 1s 13ms/step - loss: 0.7024 - acc: 0.4435\n",
      "Epoch 2/6\n",
      "4/4 [==============================] - 0s 11ms/step - loss: 0.6272 - acc: 0.9032\n",
      "Epoch 3/6\n",
      "4/4 [==============================] - 0s 10ms/step - loss: 0.5563 - acc: 1.0000\n",
      "Epoch 4/6\n",
      "4/4 [==============================] - 0s 11ms/step - loss: 0.4561 - acc: 1.0000\n",
      "Epoch 5/6\n",
      "4/4 [==============================] - 0s 11ms/step - loss: 0.3392 - acc: 1.0000\n",
      "Epoch 6/6\n",
      "4/4 [==============================] - 0s 11ms/step - loss: 0.2069 - acc: 1.0000\n",
      "Predicting 123th label...\n"
     ]
    },
    {
     "name": "stderr",
     "output_type": "stream",
     "text": [
      "100%|███████████████████████████████████████████████████████████████████████████████████████████████████████████████████████████████████████████████████████████████████████████████████████████████████████| 313/313 [00:20<00:00, 15.49it/s]\n"
     ]
    },
    {
     "name": "stdout",
     "output_type": "stream",
     "text": [
      "\n",
      "124'th label prediction started\n",
      "count_one 72\n",
      "count_zero 72\n",
      "Epoch 1/6\n",
      "5/5 [==============================] - 1s 42ms/step - loss: 0.7026 - acc: 0.4097\n",
      "Epoch 2/6\n",
      "5/5 [==============================] - 0s 11ms/step - loss: 0.6147 - acc: 0.9861\n",
      "Epoch 3/6\n",
      "5/5 [==============================] - 0s 10ms/step - loss: 0.5343 - acc: 1.0000\n",
      "Epoch 4/6\n",
      "5/5 [==============================] - 0s 10ms/step - loss: 0.4174 - acc: 1.0000\n",
      "Epoch 5/6\n",
      "5/5 [==============================] - 0s 10ms/step - loss: 0.2739 - acc: 1.0000\n",
      "Epoch 6/6\n",
      "5/5 [==============================] - 0s 11ms/step - loss: 0.1457 - acc: 1.0000\n",
      "Predicting 124th label...\n"
     ]
    },
    {
     "name": "stderr",
     "output_type": "stream",
     "text": [
      "100%|███████████████████████████████████████████████████████████████████████████████████████████████████████████████████████████████████████████████████████████████████████████████████████████████████████| 313/313 [00:22<00:00, 14.05it/s]\n"
     ]
    },
    {
     "name": "stdout",
     "output_type": "stream",
     "text": [
      "\n",
      "125'th label prediction started\n",
      "count_one 162\n",
      "count_zero 162\n",
      "Epoch 1/6\n",
      "11/11 [==============================] - 1s 11ms/step - loss: 0.6966 - acc: 0.4691\n",
      "Epoch 2/6\n",
      "11/11 [==============================] - 0s 10ms/step - loss: 0.6176 - acc: 0.6327\n",
      "Epoch 3/6\n",
      "11/11 [==============================] - 0s 11ms/step - loss: 0.4707 - acc: 0.9907\n",
      "Epoch 4/6\n",
      "11/11 [==============================] - 0s 10ms/step - loss: 0.2435 - acc: 1.0000\n",
      "Epoch 5/6\n",
      "11/11 [==============================] - 0s 10ms/step - loss: 0.0788 - acc: 1.0000\n",
      "Epoch 6/6\n",
      "11/11 [==============================] - 0s 11ms/step - loss: 0.0210 - acc: 1.0000\n",
      "Predicting 125th label...\n"
     ]
    },
    {
     "name": "stderr",
     "output_type": "stream",
     "text": [
      "100%|███████████████████████████████████████████████████████████████████████████████████████████████████████████████████████████████████████████████████████████████████████████████████████████████████████| 313/313 [00:20<00:00, 15.40it/s]\n"
     ]
    },
    {
     "name": "stdout",
     "output_type": "stream",
     "text": [
      "\n",
      "126'th label prediction started\n",
      "count_one 514\n",
      "count_zero 514\n",
      "Epoch 1/6\n",
      "33/33 [==============================] - 1s 11ms/step - loss: 0.6773 - acc: 0.6002\n",
      "Epoch 2/6\n",
      "33/33 [==============================] - 0s 11ms/step - loss: 0.3730 - acc: 0.9562\n",
      "Epoch 3/6\n",
      "33/33 [==============================] - 0s 11ms/step - loss: 0.0429 - acc: 0.9942\n",
      "Epoch 4/6\n",
      "33/33 [==============================] - 0s 11ms/step - loss: 0.0035 - acc: 1.0000\n",
      "Epoch 5/6\n",
      "33/33 [==============================] - 0s 11ms/step - loss: 0.0014 - acc: 1.0000\n",
      "Epoch 6/6\n",
      "33/33 [==============================] - 0s 11ms/step - loss: 8.7439e-04 - acc: 1.0000\n",
      "Predicting 126th label...\n"
     ]
    },
    {
     "name": "stderr",
     "output_type": "stream",
     "text": [
      "100%|███████████████████████████████████████████████████████████████████████████████████████████████████████████████████████████████████████████████████████████████████████████████████████████████████████| 313/313 [00:20<00:00, 15.53it/s]\n"
     ]
    },
    {
     "name": "stdout",
     "output_type": "stream",
     "text": [
      "\n",
      "127'th label prediction started\n",
      "count_one 779\n",
      "count_zero 779\n",
      "Epoch 1/6\n",
      "49/49 [==============================] - 1s 13ms/step - loss: 0.5498 - acc: 0.7522\n",
      "Epoch 2/6\n",
      "49/49 [==============================] - 1s 11ms/step - loss: 0.1518 - acc: 0.9409\n",
      "Epoch 3/6\n",
      "49/49 [==============================] - 1s 11ms/step - loss: 0.0216 - acc: 0.9961\n",
      "Epoch 4/6\n",
      "49/49 [==============================] - 1s 11ms/step - loss: 0.0045 - acc: 1.0000\n",
      "Epoch 5/6\n",
      "49/49 [==============================] - 1s 11ms/step - loss: 0.0015 - acc: 1.0000\n",
      "Epoch 6/6\n",
      "49/49 [==============================] - 1s 11ms/step - loss: 8.3062e-04 - acc: 1.0000\n",
      "Predicting 127th label...\n"
     ]
    },
    {
     "name": "stderr",
     "output_type": "stream",
     "text": [
      "100%|███████████████████████████████████████████████████████████████████████████████████████████████████████████████████████████████████████████████████████████████████████████████████████████████████████| 313/313 [00:20<00:00, 15.48it/s]\n"
     ]
    },
    {
     "name": "stdout",
     "output_type": "stream",
     "text": [
      "\n",
      "128'th label prediction started\n",
      "count_one 139\n",
      "count_zero 139\n",
      "Epoch 1/6\n",
      "9/9 [==============================] - 1s 11ms/step - loss: 0.7058 - acc: 0.4892\n",
      "Epoch 2/6\n",
      "9/9 [==============================] - 0s 11ms/step - loss: 0.6290 - acc: 0.8885\n",
      "Epoch 3/6\n",
      "9/9 [==============================] - 0s 11ms/step - loss: 0.5149 - acc: 1.0000\n",
      "Epoch 4/6\n",
      "9/9 [==============================] - 0s 12ms/step - loss: 0.3215 - acc: 1.0000\n",
      "Epoch 5/6\n",
      "9/9 [==============================] - 0s 11ms/step - loss: 0.1308 - acc: 1.0000\n",
      "Epoch 6/6\n",
      "9/9 [==============================] - 0s 10ms/step - loss: 0.0394 - acc: 1.0000\n",
      "Predicting 128th label...\n"
     ]
    },
    {
     "name": "stderr",
     "output_type": "stream",
     "text": [
      "100%|███████████████████████████████████████████████████████████████████████████████████████████████████████████████████████████████████████████████████████████████████████████████████████████████████████| 313/313 [00:20<00:00, 14.98it/s]\n"
     ]
    },
    {
     "name": "stdout",
     "output_type": "stream",
     "text": [
      "\n",
      "129'th label prediction started\n",
      "count_one 60\n",
      "count_zero 60\n",
      "Epoch 1/6\n",
      "4/4 [==============================] - 1s 12ms/step - loss: 0.6903 - acc: 0.5333\n",
      "Epoch 2/6\n",
      "4/4 [==============================] - 0s 11ms/step - loss: 0.6391 - acc: 0.9917\n",
      "Epoch 3/6\n",
      "4/4 [==============================] - 0s 10ms/step - loss: 0.5704 - acc: 1.0000\n",
      "Epoch 4/6\n",
      "4/4 [==============================] - 0s 12ms/step - loss: 0.4672 - acc: 1.0000\n",
      "Epoch 5/6\n",
      "4/4 [==============================] - 0s 11ms/step - loss: 0.3376 - acc: 1.0000\n",
      "Epoch 6/6\n",
      "4/4 [==============================] - 0s 11ms/step - loss: 0.2103 - acc: 1.0000\n",
      "Predicting 129th label...\n"
     ]
    },
    {
     "name": "stderr",
     "output_type": "stream",
     "text": [
      "100%|███████████████████████████████████████████████████████████████████████████████████████████████████████████████████████████████████████████████████████████████████████████████████████████████████████| 313/313 [00:20<00:00, 15.03it/s]\n"
     ]
    },
    {
     "name": "stdout",
     "output_type": "stream",
     "text": [
      "\n",
      "130'th label prediction started\n",
      "count_one 438\n",
      "count_zero 438\n",
      "Epoch 1/6\n",
      "28/28 [==============================] - 1s 14ms/step - loss: 0.6849 - acc: 0.5354\n",
      "Epoch 2/6\n",
      "28/28 [==============================] - 0s 10ms/step - loss: 0.4731 - acc: 0.9018\n",
      "Epoch 3/6\n",
      "28/28 [==============================] - 0s 11ms/step - loss: 0.1136 - acc: 0.9840\n",
      "Epoch 4/6\n",
      "28/28 [==============================] - 0s 11ms/step - loss: 0.0115 - acc: 0.9989\n",
      "Epoch 5/6\n",
      "28/28 [==============================] - 0s 11ms/step - loss: 0.0029 - acc: 1.0000\n",
      "Epoch 6/6\n",
      "28/28 [==============================] - 0s 11ms/step - loss: 0.0014 - acc: 1.0000\n",
      "Predicting 130th label...\n"
     ]
    },
    {
     "name": "stderr",
     "output_type": "stream",
     "text": [
      "100%|███████████████████████████████████████████████████████████████████████████████████████████████████████████████████████████████████████████████████████████████████████████████████████████████████████| 313/313 [00:20<00:00, 15.59it/s]\n"
     ]
    },
    {
     "name": "stdout",
     "output_type": "stream",
     "text": [
      "\n",
      "131'th label prediction started\n",
      "count_one 110\n",
      "count_zero 110\n",
      "Epoch 1/6\n",
      "7/7 [==============================] - 1s 12ms/step - loss: 0.7043 - acc: 0.4682\n",
      "Epoch 2/6\n",
      "7/7 [==============================] - 0s 11ms/step - loss: 0.6249 - acc: 0.9591\n",
      "Epoch 3/6\n",
      "7/7 [==============================] - 0s 11ms/step - loss: 0.5290 - acc: 1.0000\n",
      "Epoch 4/6\n",
      "7/7 [==============================] - 0s 11ms/step - loss: 0.3786 - acc: 1.0000\n",
      "Epoch 5/6\n",
      "7/7 [==============================] - 0s 12ms/step - loss: 0.1959 - acc: 1.0000\n",
      "Epoch 6/6\n",
      "7/7 [==============================] - 0s 12ms/step - loss: 0.0756 - acc: 1.0000\n",
      "Predicting 131th label...\n"
     ]
    },
    {
     "name": "stderr",
     "output_type": "stream",
     "text": [
      "100%|███████████████████████████████████████████████████████████████████████████████████████████████████████████████████████████████████████████████████████████████████████████████████████████████████████| 313/313 [00:19<00:00, 15.86it/s]\n"
     ]
    },
    {
     "name": "stdout",
     "output_type": "stream",
     "text": [
      "\n",
      "132'th label prediction started\n",
      "count_one 177\n",
      "count_zero 177\n",
      "Epoch 1/6\n",
      "12/12 [==============================] - 1s 18ms/step - loss: 0.7082 - acc: 0.5000\n",
      "Epoch 2/6\n",
      "12/12 [==============================] - 0s 11ms/step - loss: 0.6338 - acc: 0.9492\n",
      "Epoch 3/6\n",
      "12/12 [==============================] - 0s 10ms/step - loss: 0.5110 - acc: 0.9972\n",
      "Epoch 4/6\n",
      "12/12 [==============================] - 0s 10ms/step - loss: 0.2846 - acc: 1.0000\n",
      "Epoch 5/6\n",
      "12/12 [==============================] - 0s 11ms/step - loss: 0.0884 - acc: 1.0000\n",
      "Epoch 6/6\n",
      "12/12 [==============================] - 0s 10ms/step - loss: 0.0200 - acc: 1.0000\n",
      "Predicting 132th label...\n"
     ]
    },
    {
     "name": "stderr",
     "output_type": "stream",
     "text": [
      "100%|███████████████████████████████████████████████████████████████████████████████████████████████████████████████████████████████████████████████████████████████████████████████████████████████████████| 313/313 [00:19<00:00, 15.90it/s]\n"
     ]
    },
    {
     "name": "stdout",
     "output_type": "stream",
     "text": [
      "\n",
      "133'th label prediction started\n",
      "count_one 261\n",
      "count_zero 261\n",
      "Epoch 1/6\n",
      "17/17 [==============================] - 1s 11ms/step - loss: 0.7025 - acc: 0.4655\n",
      "Epoch 2/6\n",
      "17/17 [==============================] - 0s 10ms/step - loss: 0.6366 - acc: 0.8525\n",
      "Epoch 3/6\n",
      "17/17 [==============================] - 0s 10ms/step - loss: 0.4708 - acc: 0.9904\n",
      "Epoch 4/6\n",
      "17/17 [==============================] - 0s 11ms/step - loss: 0.1912 - acc: 0.9981\n",
      "Epoch 5/6\n",
      "17/17 [==============================] - 0s 10ms/step - loss: 0.0370 - acc: 1.0000\n",
      "Epoch 6/6\n",
      "17/17 [==============================] - 0s 10ms/step - loss: 0.0077 - acc: 1.0000\n",
      "Predicting 133th label...\n"
     ]
    },
    {
     "name": "stderr",
     "output_type": "stream",
     "text": [
      "100%|███████████████████████████████████████████████████████████████████████████████████████████████████████████████████████████████████████████████████████████████████████████████████████████████████████| 313/313 [00:19<00:00, 16.32it/s]\n"
     ]
    },
    {
     "name": "stdout",
     "output_type": "stream",
     "text": [
      "\n",
      "134'th label prediction started\n",
      "count_one 484\n",
      "count_zero 484\n",
      "Epoch 1/6\n",
      "31/31 [==============================] - 1s 11ms/step - loss: 0.6384 - acc: 0.6705\n",
      "Epoch 2/6\n",
      "31/31 [==============================] - 0s 9ms/step - loss: 0.2986 - acc: 0.8895\n",
      "Epoch 3/6\n",
      "31/31 [==============================] - 0s 11ms/step - loss: 0.0874 - acc: 0.9824\n",
      "Epoch 4/6\n",
      "31/31 [==============================] - 0s 11ms/step - loss: 0.0130 - acc: 0.9990\n",
      "Epoch 5/6\n",
      "31/31 [==============================] - 0s 10ms/step - loss: 0.0045 - acc: 1.0000\n",
      "Epoch 6/6\n",
      "31/31 [==============================] - 0s 10ms/step - loss: 0.0017 - acc: 1.0000\n",
      "Predicting 134th label...\n"
     ]
    },
    {
     "name": "stderr",
     "output_type": "stream",
     "text": [
      "100%|███████████████████████████████████████████████████████████████████████████████████████████████████████████████████████████████████████████████████████████████████████████████████████████████████████| 313/313 [00:21<00:00, 14.26it/s]\n"
     ]
    },
    {
     "name": "stdout",
     "output_type": "stream",
     "text": [
      "\n",
      "135'th label prediction started\n",
      "count_one 161\n",
      "count_zero 161\n",
      "Epoch 1/6\n",
      "11/11 [==============================] - 1s 10ms/step - loss: 0.7014 - acc: 0.5000\n",
      "Epoch 2/6\n",
      "11/11 [==============================] - 0s 10ms/step - loss: 0.5864 - acc: 0.9876\n",
      "Epoch 3/6\n",
      "11/11 [==============================] - 0s 11ms/step - loss: 0.3717 - acc: 0.9969\n",
      "Epoch 4/6\n",
      "11/11 [==============================] - 0s 11ms/step - loss: 0.1306 - acc: 1.0000\n",
      "Epoch 5/6\n",
      "11/11 [==============================] - 0s 10ms/step - loss: 0.0301 - acc: 1.0000\n",
      "Epoch 6/6\n",
      "11/11 [==============================] - 0s 11ms/step - loss: 0.0080 - acc: 1.0000\n",
      "Predicting 135th label...\n"
     ]
    },
    {
     "name": "stderr",
     "output_type": "stream",
     "text": [
      "100%|███████████████████████████████████████████████████████████████████████████████████████████████████████████████████████████████████████████████████████████████████████████████████████████████████████| 313/313 [00:20<00:00, 15.12it/s]\n"
     ]
    },
    {
     "name": "stdout",
     "output_type": "stream",
     "text": [
      "\n",
      "136'th label prediction started\n",
      "count_one 353\n",
      "count_zero 353\n",
      "Epoch 1/6\n",
      "23/23 [==============================] - 1s 11ms/step - loss: 0.7035 - acc: 0.4986\n",
      "Epoch 2/6\n",
      "23/23 [==============================] - 0s 11ms/step - loss: 0.6596 - acc: 0.6969\n",
      "Epoch 3/6\n",
      "23/23 [==============================] - 0s 11ms/step - loss: 0.4665 - acc: 0.9575\n",
      "Epoch 4/6\n",
      "23/23 [==============================] - 0s 11ms/step - loss: 0.1565 - acc: 0.9830\n",
      "Epoch 5/6\n",
      "23/23 [==============================] - 0s 10ms/step - loss: 0.0261 - acc: 0.9986\n",
      "Epoch 6/6\n",
      "23/23 [==============================] - 0s 10ms/step - loss: 0.0059 - acc: 1.0000\n",
      "Predicting 136th label...\n"
     ]
    },
    {
     "name": "stderr",
     "output_type": "stream",
     "text": [
      "100%|███████████████████████████████████████████████████████████████████████████████████████████████████████████████████████████████████████████████████████████████████████████████████████████████████████| 313/313 [00:21<00:00, 14.82it/s]\n"
     ]
    },
    {
     "name": "stdout",
     "output_type": "stream",
     "text": [
      "\n",
      "137'th label prediction started\n",
      "count_one 499\n",
      "count_zero 499\n",
      "Epoch 1/6\n",
      "32/32 [==============================] - 1s 13ms/step - loss: 0.6865 - acc: 0.5721\n",
      "Epoch 2/6\n",
      "32/32 [==============================] - 0s 11ms/step - loss: 0.5577 - acc: 0.7265\n",
      "Epoch 3/6\n",
      "32/32 [==============================] - 0s 11ms/step - loss: 0.2187 - acc: 0.9419\n",
      "Epoch 4/6\n",
      "32/32 [==============================] - 0s 10ms/step - loss: 0.0280 - acc: 0.9990\n",
      "Epoch 5/6\n",
      "32/32 [==============================] - 0s 11ms/step - loss: 0.0078 - acc: 1.0000\n",
      "Epoch 6/6\n",
      "32/32 [==============================] - 0s 11ms/step - loss: 0.0021 - acc: 1.0000\n",
      "Predicting 137th label...\n"
     ]
    },
    {
     "name": "stderr",
     "output_type": "stream",
     "text": [
      "100%|███████████████████████████████████████████████████████████████████████████████████████████████████████████████████████████████████████████████████████████████████████████████████████████████████████| 313/313 [00:20<00:00, 15.27it/s]\n"
     ]
    },
    {
     "name": "stdout",
     "output_type": "stream",
     "text": [
      "\n",
      "138'th label prediction started\n",
      "count_one 243\n",
      "count_zero 243\n",
      "Epoch 1/6\n",
      "16/16 [==============================] - 1s 10ms/step - loss: 0.6925 - acc: 0.5309\n",
      "Epoch 2/6\n",
      "16/16 [==============================] - 0s 10ms/step - loss: 0.6010 - acc: 0.8395\n",
      "Epoch 3/6\n",
      "16/16 [==============================] - 0s 10ms/step - loss: 0.3519 - acc: 0.9650\n",
      "Epoch 4/6\n",
      "16/16 [==============================] - 0s 11ms/step - loss: 0.1116 - acc: 0.9877\n",
      "Epoch 5/6\n",
      "16/16 [==============================] - 0s 11ms/step - loss: 0.0202 - acc: 1.0000\n",
      "Epoch 6/6\n",
      "16/16 [==============================] - 0s 10ms/step - loss: 0.0057 - acc: 1.0000\n",
      "Predicting 138th label...\n"
     ]
    },
    {
     "name": "stderr",
     "output_type": "stream",
     "text": [
      "100%|███████████████████████████████████████████████████████████████████████████████████████████████████████████████████████████████████████████████████████████████████████████████████████████████████████| 313/313 [00:20<00:00, 15.31it/s]\n"
     ]
    },
    {
     "name": "stdout",
     "output_type": "stream",
     "text": [
      "\n",
      "139'th label prediction started\n",
      "count_one 354\n",
      "count_zero 354\n",
      "Epoch 1/6\n",
      "23/23 [==============================] - 1s 11ms/step - loss: 0.6535 - acc: 0.5805\n",
      "Epoch 2/6\n",
      "23/23 [==============================] - 0s 11ms/step - loss: 0.4020 - acc: 0.8545\n",
      "Epoch 3/6\n",
      "23/23 [==============================] - 0s 10ms/step - loss: 0.1447 - acc: 0.9746\n",
      "Epoch 4/6\n",
      "23/23 [==============================] - 0s 10ms/step - loss: 0.0304 - acc: 0.9986\n",
      "Epoch 5/6\n",
      "23/23 [==============================] - 0s 11ms/step - loss: 0.0087 - acc: 1.0000\n",
      "Epoch 6/6\n",
      "23/23 [==============================] - 0s 11ms/step - loss: 0.0026 - acc: 1.0000\n",
      "Predicting 139th label...\n"
     ]
    },
    {
     "name": "stderr",
     "output_type": "stream",
     "text": [
      "100%|███████████████████████████████████████████████████████████████████████████████████████████████████████████████████████████████████████████████████████████████████████████████████████████████████████| 313/313 [00:19<00:00, 15.74it/s]\n"
     ]
    },
    {
     "name": "stdout",
     "output_type": "stream",
     "text": [
      "\n",
      "140'th label prediction started\n",
      "count_one 124\n",
      "count_zero 124\n",
      "Epoch 1/6\n",
      "8/8 [==============================] - 1s 12ms/step - loss: 0.6903 - acc: 0.5403\n",
      "Epoch 2/6\n",
      "8/8 [==============================] - 0s 10ms/step - loss: 0.6036 - acc: 0.9516\n",
      "Epoch 3/6\n",
      "8/8 [==============================] - 0s 11ms/step - loss: 0.4451 - acc: 1.0000\n",
      "Epoch 4/6\n",
      "8/8 [==============================] - 0s 11ms/step - loss: 0.2229 - acc: 1.0000\n",
      "Epoch 5/6\n",
      "8/8 [==============================] - 0s 10ms/step - loss: 0.0768 - acc: 1.0000\n",
      "Epoch 6/6\n",
      "8/8 [==============================] - 0s 10ms/step - loss: 0.0220 - acc: 1.0000\n",
      "Predicting 140th label...\n"
     ]
    },
    {
     "name": "stderr",
     "output_type": "stream",
     "text": [
      "100%|███████████████████████████████████████████████████████████████████████████████████████████████████████████████████████████████████████████████████████████████████████████████████████████████████████| 313/313 [00:20<00:00, 15.32it/s]\n"
     ]
    },
    {
     "name": "stdout",
     "output_type": "stream",
     "text": [
      "\n",
      "141'th label prediction started\n",
      "count_one 351\n",
      "count_zero 351\n",
      "Epoch 1/6\n",
      "22/22 [==============================] - 1s 11ms/step - loss: 0.5751 - acc: 0.8006\n",
      "Epoch 2/6\n",
      "22/22 [==============================] - 0s 11ms/step - loss: 0.1719 - acc: 0.9473\n",
      "Epoch 3/6\n",
      "22/22 [==============================] - 0s 11ms/step - loss: 0.0428 - acc: 0.9886\n",
      "Epoch 4/6\n",
      "22/22 [==============================] - 0s 11ms/step - loss: 0.0097 - acc: 0.9986\n",
      "Epoch 5/6\n",
      "22/22 [==============================] - 0s 11ms/step - loss: 0.0024 - acc: 1.0000\n",
      "Epoch 6/6\n",
      "22/22 [==============================] - 0s 11ms/step - loss: 0.0012 - acc: 1.0000\n",
      "Predicting 141th label...\n"
     ]
    },
    {
     "name": "stderr",
     "output_type": "stream",
     "text": [
      "100%|███████████████████████████████████████████████████████████████████████████████████████████████████████████████████████████████████████████████████████████████████████████████████████████████████████| 313/313 [00:20<00:00, 15.34it/s]\n"
     ]
    },
    {
     "name": "stdout",
     "output_type": "stream",
     "text": [
      "\n",
      "142'th label prediction started\n",
      "count_one 320\n",
      "count_zero 320\n",
      "Epoch 1/6\n",
      "20/20 [==============================] - 1s 12ms/step - loss: 0.6848 - acc: 0.5437\n",
      "Epoch 2/6\n",
      "20/20 [==============================] - 0s 11ms/step - loss: 0.4955 - acc: 0.9125\n",
      "Epoch 3/6\n",
      "20/20 [==============================] - 0s 11ms/step - loss: 0.2291 - acc: 0.9594\n",
      "Epoch 4/6\n",
      "20/20 [==============================] - 0s 12ms/step - loss: 0.0584 - acc: 0.9937\n",
      "Epoch 5/6\n",
      "20/20 [==============================] - 0s 11ms/step - loss: 0.0122 - acc: 1.0000\n",
      "Epoch 6/6\n",
      "20/20 [==============================] - 0s 11ms/step - loss: 0.0039 - acc: 1.0000\n",
      "Predicting 142th label...\n"
     ]
    },
    {
     "name": "stderr",
     "output_type": "stream",
     "text": [
      "100%|███████████████████████████████████████████████████████████████████████████████████████████████████████████████████████████████████████████████████████████████████████████████████████████████████████| 313/313 [00:20<00:00, 15.19it/s]\n"
     ]
    },
    {
     "name": "stdout",
     "output_type": "stream",
     "text": [
      "\n",
      "143'th label prediction started\n",
      "count_one 100\n",
      "count_zero 100\n",
      "Epoch 1/6\n",
      "7/7 [==============================] - 1s 11ms/step - loss: 0.6977 - acc: 0.4600\n",
      "Epoch 2/6\n",
      "7/7 [==============================] - 0s 10ms/step - loss: 0.6305 - acc: 1.0000\n",
      "Epoch 3/6\n",
      "7/7 [==============================] - 0s 11ms/step - loss: 0.5193 - acc: 1.0000\n",
      "Epoch 4/6\n",
      "7/7 [==============================] - 0s 11ms/step - loss: 0.3573 - acc: 1.0000\n",
      "Epoch 5/6\n",
      "7/7 [==============================] - 0s 10ms/step - loss: 0.1787 - acc: 1.0000\n",
      "Epoch 6/6\n",
      "7/7 [==============================] - 0s 11ms/step - loss: 0.0654 - acc: 1.0000\n",
      "Predicting 143th label...\n"
     ]
    },
    {
     "name": "stderr",
     "output_type": "stream",
     "text": [
      "100%|███████████████████████████████████████████████████████████████████████████████████████████████████████████████████████████████████████████████████████████████████████████████████████████████████████| 313/313 [00:20<00:00, 15.22it/s]\n"
     ]
    },
    {
     "name": "stdout",
     "output_type": "stream",
     "text": [
      "\n",
      "144'th label prediction started\n",
      "count_one 305\n",
      "count_zero 305\n",
      "Epoch 1/6\n",
      "20/20 [==============================] - 2s 15ms/step - loss: 0.6881 - acc: 0.5475\n",
      "Epoch 2/6\n",
      "20/20 [==============================] - 0s 11ms/step - loss: 0.5634 - acc: 0.9410\n",
      "Epoch 3/6\n",
      "20/20 [==============================] - 0s 11ms/step - loss: 0.2433 - acc: 0.9852\n",
      "Epoch 4/6\n",
      "20/20 [==============================] - 0s 10ms/step - loss: 0.0358 - acc: 0.9984\n",
      "Epoch 5/6\n",
      "20/20 [==============================] - 0s 11ms/step - loss: 0.0056 - acc: 1.0000\n",
      "Epoch 6/6\n",
      "20/20 [==============================] - 0s 10ms/step - loss: 0.0023 - acc: 1.0000\n",
      "Predicting 144th label...\n"
     ]
    },
    {
     "name": "stderr",
     "output_type": "stream",
     "text": [
      "100%|███████████████████████████████████████████████████████████████████████████████████████████████████████████████████████████████████████████████████████████████████████████████████████████████████████| 313/313 [00:20<00:00, 15.31it/s]\n"
     ]
    },
    {
     "name": "stdout",
     "output_type": "stream",
     "text": [
      "\n",
      "145'th label prediction started\n",
      "count_one 84\n",
      "count_zero 84\n",
      "Epoch 1/6\n",
      "6/6 [==============================] - 1s 11ms/step - loss: 0.6961 - acc: 0.5000\n",
      "Epoch 2/6\n",
      "6/6 [==============================] - 0s 11ms/step - loss: 0.6146 - acc: 0.9881\n",
      "Epoch 3/6\n",
      "6/6 [==============================] - 0s 11ms/step - loss: 0.4929 - acc: 1.0000\n",
      "Epoch 4/6\n",
      "6/6 [==============================] - 0s 9ms/step - loss: 0.3181 - acc: 1.0000\n",
      "Epoch 5/6\n",
      "6/6 [==============================] - 0s 10ms/step - loss: 0.1477 - acc: 1.0000\n",
      "Epoch 6/6\n",
      "6/6 [==============================] - 0s 11ms/step - loss: 0.0557 - acc: 1.0000\n",
      "Predicting 145th label...\n"
     ]
    },
    {
     "name": "stderr",
     "output_type": "stream",
     "text": [
      "100%|███████████████████████████████████████████████████████████████████████████████████████████████████████████████████████████████████████████████████████████████████████████████████████████████████████| 313/313 [00:20<00:00, 15.29it/s]\n"
     ]
    },
    {
     "name": "stdout",
     "output_type": "stream",
     "text": [
      "\n",
      "146'th label prediction started\n",
      "count_one 87\n",
      "count_zero 87\n",
      "Epoch 1/6\n",
      "6/6 [==============================] - 1s 12ms/step - loss: 0.7000 - acc: 0.4828\n",
      "Epoch 2/6\n",
      "6/6 [==============================] - 0s 10ms/step - loss: 0.6330 - acc: 0.9885\n",
      "Epoch 3/6\n",
      "6/6 [==============================] - 0s 10ms/step - loss: 0.5523 - acc: 0.9943\n",
      "Epoch 4/6\n",
      "6/6 [==============================] - 0s 10ms/step - loss: 0.4164 - acc: 1.0000\n",
      "Epoch 5/6\n",
      "6/6 [==============================] - 0s 10ms/step - loss: 0.2650 - acc: 0.9943\n",
      "Epoch 6/6\n",
      "6/6 [==============================] - 0s 9ms/step - loss: 0.1297 - acc: 1.0000\n",
      "Predicting 146th label...\n"
     ]
    },
    {
     "name": "stderr",
     "output_type": "stream",
     "text": [
      "100%|███████████████████████████████████████████████████████████████████████████████████████████████████████████████████████████████████████████████████████████████████████████████████████████████████████| 313/313 [00:20<00:00, 15.20it/s]\n"
     ]
    },
    {
     "name": "stdout",
     "output_type": "stream",
     "text": [
      "\n",
      "147'th label prediction started\n",
      "count_one 97\n",
      "count_zero 97\n",
      "Epoch 1/6\n",
      "7/7 [==============================] - 1s 24ms/step - loss: 0.7239 - acc: 0.4845\n",
      "Epoch 2/6\n",
      "7/7 [==============================] - 0s 10ms/step - loss: 0.6050 - acc: 0.8144\n",
      "Epoch 3/6\n",
      "7/7 [==============================] - 0s 11ms/step - loss: 0.4941 - acc: 0.9897\n",
      "Epoch 4/6\n",
      "7/7 [==============================] - 0s 11ms/step - loss: 0.3319 - acc: 0.9897\n",
      "Epoch 5/6\n",
      "7/7 [==============================] - 0s 11ms/step - loss: 0.1746 - acc: 0.9897\n",
      "Epoch 6/6\n",
      "7/7 [==============================] - 0s 10ms/step - loss: 0.0808 - acc: 0.9948\n",
      "Predicting 147th label...\n"
     ]
    },
    {
     "name": "stderr",
     "output_type": "stream",
     "text": [
      "100%|███████████████████████████████████████████████████████████████████████████████████████████████████████████████████████████████████████████████████████████████████████████████████████████████████████| 313/313 [00:20<00:00, 15.60it/s]\n"
     ]
    },
    {
     "name": "stdout",
     "output_type": "stream",
     "text": [
      "\n",
      "148'th label prediction started\n",
      "count_one 162\n",
      "count_zero 162\n",
      "Epoch 1/6\n",
      "11/11 [==============================] - 1s 18ms/step - loss: 0.6940 - acc: 0.4815\n",
      "Epoch 2/6\n",
      "11/11 [==============================] - 0s 11ms/step - loss: 0.6281 - acc: 0.7685\n",
      "Epoch 3/6\n",
      "11/11 [==============================] - 0s 11ms/step - loss: 0.4673 - acc: 0.9907\n",
      "Epoch 4/6\n",
      "11/11 [==============================] - 0s 11ms/step - loss: 0.2266 - acc: 0.9907\n",
      "Epoch 5/6\n",
      "11/11 [==============================] - 0s 11ms/step - loss: 0.0752 - acc: 0.9907\n",
      "Epoch 6/6\n",
      "11/11 [==============================] - 0s 11ms/step - loss: 0.0198 - acc: 0.9969\n",
      "Predicting 148th label...\n"
     ]
    },
    {
     "name": "stderr",
     "output_type": "stream",
     "text": [
      "100%|███████████████████████████████████████████████████████████████████████████████████████████████████████████████████████████████████████████████████████████████████████████████████████████████████████| 313/313 [00:20<00:00, 15.13it/s]\n"
     ]
    },
    {
     "name": "stdout",
     "output_type": "stream",
     "text": [
      "\n",
      "149'th label prediction started\n",
      "count_one 154\n",
      "count_zero 154\n",
      "Epoch 1/6\n",
      "10/10 [==============================] - 1s 11ms/step - loss: 0.6927 - acc: 0.4968\n",
      "Epoch 2/6\n",
      "10/10 [==============================] - 0s 10ms/step - loss: 0.6087 - acc: 0.9286\n",
      "Epoch 3/6\n",
      "10/10 [==============================] - 0s 10ms/step - loss: 0.4420 - acc: 0.9903\n",
      "Epoch 4/6\n",
      "10/10 [==============================] - 0s 11ms/step - loss: 0.2217 - acc: 0.9968\n",
      "Epoch 5/6\n",
      "10/10 [==============================] - 0s 11ms/step - loss: 0.0794 - acc: 0.9968\n",
      "Epoch 6/6\n",
      "10/10 [==============================] - 0s 11ms/step - loss: 0.0216 - acc: 0.9968\n",
      "Predicting 149th label...\n"
     ]
    },
    {
     "name": "stderr",
     "output_type": "stream",
     "text": [
      "100%|███████████████████████████████████████████████████████████████████████████████████████████████████████████████████████████████████████████████████████████████████████████████████████████████████████| 313/313 [00:20<00:00, 15.31it/s]\n"
     ]
    },
    {
     "name": "stdout",
     "output_type": "stream",
     "text": [
      "\n",
      "150'th label prediction started\n",
      "count_one 86\n",
      "count_zero 86\n",
      "Epoch 1/6\n",
      "6/6 [==============================] - 1s 11ms/step - loss: 0.7113 - acc: 0.5000\n",
      "Epoch 2/6\n",
      "6/6 [==============================] - 0s 10ms/step - loss: 0.6513 - acc: 0.8721\n",
      "Epoch 3/6\n",
      "6/6 [==============================] - 0s 10ms/step - loss: 0.5994 - acc: 1.0000\n",
      "Epoch 4/6\n",
      "6/6 [==============================] - 0s 10ms/step - loss: 0.5095 - acc: 1.0000\n",
      "Epoch 5/6\n",
      "6/6 [==============================] - 0s 10ms/step - loss: 0.3749 - acc: 1.0000\n",
      "Epoch 6/6\n",
      "6/6 [==============================] - 0s 10ms/step - loss: 0.2280 - acc: 1.0000\n",
      "Predicting 150th label...\n"
     ]
    },
    {
     "name": "stderr",
     "output_type": "stream",
     "text": [
      "100%|███████████████████████████████████████████████████████████████████████████████████████████████████████████████████████████████████████████████████████████████████████████████████████████████████████| 313/313 [00:21<00:00, 14.75it/s]\n"
     ]
    },
    {
     "name": "stdout",
     "output_type": "stream",
     "text": [
      "\n",
      "151'th label prediction started\n",
      "count_one 151\n",
      "count_zero 151\n",
      "Epoch 1/6\n",
      "10/10 [==============================] - 1s 12ms/step - loss: 0.6947 - acc: 0.4967\n",
      "Epoch 2/6\n",
      "10/10 [==============================] - 0s 12ms/step - loss: 0.6197 - acc: 0.9834\n",
      "Epoch 3/6\n",
      "10/10 [==============================] - 0s 11ms/step - loss: 0.4856 - acc: 0.9934\n",
      "Epoch 4/6\n",
      "10/10 [==============================] - 0s 10ms/step - loss: 0.2756 - acc: 1.0000\n",
      "Epoch 5/6\n",
      "10/10 [==============================] - 0s 9ms/step - loss: 0.0993 - acc: 1.0000\n",
      "Epoch 6/6\n",
      "10/10 [==============================] - 0s 10ms/step - loss: 0.0248 - acc: 1.0000\n",
      "Predicting 151th label...\n"
     ]
    },
    {
     "name": "stderr",
     "output_type": "stream",
     "text": [
      "100%|███████████████████████████████████████████████████████████████████████████████████████████████████████████████████████████████████████████████████████████████████████████████████████████████████████| 313/313 [00:20<00:00, 15.53it/s]\n"
     ]
    },
    {
     "name": "stdout",
     "output_type": "stream",
     "text": [
      "\n",
      "152'th label prediction started\n",
      "count_one 204\n",
      "count_zero 204\n",
      "Epoch 1/6\n",
      "13/13 [==============================] - 1s 11ms/step - loss: 0.7054 - acc: 0.5172\n",
      "Epoch 2/6\n",
      "13/13 [==============================] - 0s 11ms/step - loss: 0.5971 - acc: 0.7990\n",
      "Epoch 3/6\n",
      "13/13 [==============================] - 0s 11ms/step - loss: 0.3542 - acc: 0.9877\n",
      "Epoch 4/6\n",
      "13/13 [==============================] - 0s 9ms/step - loss: 0.1050 - acc: 1.0000\n",
      "Epoch 5/6\n",
      "13/13 [==============================] - 0s 11ms/step - loss: 0.0198 - acc: 1.0000\n",
      "Epoch 6/6\n",
      "13/13 [==============================] - 0s 11ms/step - loss: 0.0051 - acc: 1.0000\n",
      "Predicting 152th label...\n"
     ]
    },
    {
     "name": "stderr",
     "output_type": "stream",
     "text": [
      "100%|███████████████████████████████████████████████████████████████████████████████████████████████████████████████████████████████████████████████████████████████████████████████████████████████████████| 313/313 [00:20<00:00, 15.52it/s]\n"
     ]
    },
    {
     "name": "stdout",
     "output_type": "stream",
     "text": [
      "\n",
      "153'th label prediction started\n",
      "count_one 89\n",
      "count_zero 89\n",
      "Epoch 1/6\n",
      "6/6 [==============================] - 1s 12ms/step - loss: 0.6938 - acc: 0.4551\n",
      "Epoch 2/6\n",
      "6/6 [==============================] - 0s 11ms/step - loss: 0.6191 - acc: 0.9944\n",
      "Epoch 3/6\n",
      "6/6 [==============================] - 0s 11ms/step - loss: 0.5053 - acc: 1.0000\n",
      "Epoch 4/6\n",
      "6/6 [==============================] - 0s 9ms/step - loss: 0.3422 - acc: 1.0000\n",
      "Epoch 5/6\n",
      "6/6 [==============================] - 0s 10ms/step - loss: 0.1734 - acc: 1.0000\n",
      "Epoch 6/6\n",
      "6/6 [==============================] - 0s 11ms/step - loss: 0.0649 - acc: 1.0000\n",
      "Predicting 153th label...\n"
     ]
    },
    {
     "name": "stderr",
     "output_type": "stream",
     "text": [
      "100%|███████████████████████████████████████████████████████████████████████████████████████████████████████████████████████████████████████████████████████████████████████████████████████████████████████| 313/313 [00:20<00:00, 15.55it/s]\n"
     ]
    },
    {
     "name": "stdout",
     "output_type": "stream",
     "text": [
      "\n",
      "154'th label prediction started\n",
      "count_one 318\n",
      "count_zero 318\n",
      "Epoch 1/6\n",
      "20/20 [==============================] - 1s 11ms/step - loss: 0.6768 - acc: 0.5440\n",
      "Epoch 2/6\n",
      "20/20 [==============================] - 0s 10ms/step - loss: 0.4414 - acc: 0.9465\n",
      "Epoch 3/6\n",
      "20/20 [==============================] - 0s 10ms/step - loss: 0.1452 - acc: 0.9607\n",
      "Epoch 4/6\n",
      "20/20 [==============================] - 0s 10ms/step - loss: 0.0235 - acc: 0.9984\n",
      "Epoch 5/6\n",
      "20/20 [==============================] - 0s 10ms/step - loss: 0.0046 - acc: 1.0000\n",
      "Epoch 6/6\n",
      "20/20 [==============================] - 0s 11ms/step - loss: 0.0017 - acc: 1.0000\n",
      "Predicting 154th label...\n"
     ]
    },
    {
     "name": "stderr",
     "output_type": "stream",
     "text": [
      "100%|███████████████████████████████████████████████████████████████████████████████████████████████████████████████████████████████████████████████████████████████████████████████████████████████████████| 313/313 [00:23<00:00, 13.52it/s]\n"
     ]
    },
    {
     "name": "stdout",
     "output_type": "stream",
     "text": [
      "\n",
      "155'th label prediction started\n",
      "count_one 91\n",
      "count_zero 91\n",
      "Epoch 1/6\n",
      "6/6 [==============================] - 1s 37ms/step - loss: 0.7018 - acc: 0.4835\n",
      "Epoch 2/6\n",
      "6/6 [==============================] - 0s 11ms/step - loss: 0.6387 - acc: 0.9670\n",
      "Epoch 3/6\n",
      "6/6 [==============================] - 0s 11ms/step - loss: 0.5665 - acc: 1.0000\n",
      "Epoch 4/6\n",
      "6/6 [==============================] - 0s 11ms/step - loss: 0.4423 - acc: 1.0000\n",
      "Epoch 5/6\n",
      "6/6 [==============================] - 0s 11ms/step - loss: 0.2889 - acc: 1.0000\n",
      "Epoch 6/6\n",
      "6/6 [==============================] - 0s 12ms/step - loss: 0.1513 - acc: 1.0000\n",
      "Predicting 155th label...\n"
     ]
    },
    {
     "name": "stderr",
     "output_type": "stream",
     "text": [
      "100%|███████████████████████████████████████████████████████████████████████████████████████████████████████████████████████████████████████████████████████████████████████████████████████████████████████| 313/313 [00:20<00:00, 15.55it/s]\n"
     ]
    },
    {
     "name": "stdout",
     "output_type": "stream",
     "text": [
      "\n",
      "156'th label prediction started\n",
      "count_one 317\n",
      "count_zero 317\n",
      "Epoch 1/6\n",
      "20/20 [==============================] - 1s 11ms/step - loss: 0.6620 - acc: 0.5946\n",
      "Epoch 2/6\n",
      "20/20 [==============================] - 0s 11ms/step - loss: 0.3703 - acc: 0.9401\n",
      "Epoch 3/6\n",
      "20/20 [==============================] - 0s 11ms/step - loss: 0.1216 - acc: 0.9732\n",
      "Epoch 4/6\n",
      "20/20 [==============================] - 0s 10ms/step - loss: 0.0229 - acc: 0.9984\n",
      "Epoch 5/6\n",
      "20/20 [==============================] - 0s 11ms/step - loss: 0.0047 - acc: 1.0000\n",
      "Epoch 6/6\n",
      "20/20 [==============================] - 0s 11ms/step - loss: 0.0023 - acc: 1.0000\n",
      "Predicting 156th label...\n"
     ]
    },
    {
     "name": "stderr",
     "output_type": "stream",
     "text": [
      "100%|███████████████████████████████████████████████████████████████████████████████████████████████████████████████████████████████████████████████████████████████████████████████████████████████████████| 313/313 [00:21<00:00, 14.87it/s]\n"
     ]
    },
    {
     "name": "stdout",
     "output_type": "stream",
     "text": [
      "\n",
      "157'th label prediction started\n",
      "count_one 493\n",
      "count_zero 493\n",
      "Epoch 1/6\n",
      "31/31 [==============================] - 1s 15ms/step - loss: 0.6695 - acc: 0.5791\n",
      "Epoch 2/6\n",
      "31/31 [==============================] - 0s 10ms/step - loss: 0.3840 - acc: 0.8945\n",
      "Epoch 3/6\n",
      "31/31 [==============================] - 0s 10ms/step - loss: 0.0776 - acc: 0.9888\n",
      "Epoch 4/6\n",
      "31/31 [==============================] - 0s 11ms/step - loss: 0.0064 - acc: 1.0000\n",
      "Epoch 5/6\n",
      "31/31 [==============================] - 0s 10ms/step - loss: 0.0020 - acc: 1.0000\n",
      "Epoch 6/6\n",
      "31/31 [==============================] - 0s 10ms/step - loss: 0.0012 - acc: 1.0000\n",
      "Predicting 157th label...\n"
     ]
    },
    {
     "name": "stderr",
     "output_type": "stream",
     "text": [
      "100%|███████████████████████████████████████████████████████████████████████████████████████████████████████████████████████████████████████████████████████████████████████████████████████████████████████| 313/313 [00:20<00:00, 15.52it/s]\n"
     ]
    },
    {
     "name": "stdout",
     "output_type": "stream",
     "text": [
      "\n",
      "158'th label prediction started\n",
      "count_one 98\n",
      "count_zero 98\n",
      "Epoch 1/6\n",
      "7/7 [==============================] - 1s 11ms/step - loss: 0.6853 - acc: 0.6429\n",
      "Epoch 2/6\n",
      "7/7 [==============================] - 0s 11ms/step - loss: 0.5700 - acc: 0.9898\n",
      "Epoch 3/6\n",
      "7/7 [==============================] - 0s 10ms/step - loss: 0.3936 - acc: 0.9949\n",
      "Epoch 4/6\n",
      "7/7 [==============================] - 0s 12ms/step - loss: 0.1967 - acc: 1.0000\n",
      "Epoch 5/6\n",
      "7/7 [==============================] - 0s 10ms/step - loss: 0.0709 - acc: 1.0000\n",
      "Epoch 6/6\n",
      "7/7 [==============================] - 0s 10ms/step - loss: 0.0237 - acc: 1.0000\n",
      "Predicting 158th label...\n"
     ]
    },
    {
     "name": "stderr",
     "output_type": "stream",
     "text": [
      "100%|███████████████████████████████████████████████████████████████████████████████████████████████████████████████████████████████████████████████████████████████████████████████████████████████████████| 313/313 [00:20<00:00, 15.39it/s]\n"
     ]
    },
    {
     "name": "stdout",
     "output_type": "stream",
     "text": [
      "\n",
      "159'th label prediction started\n",
      "count_one 117\n",
      "count_zero 117\n",
      "Epoch 1/6\n",
      "8/8 [==============================] - 1s 12ms/step - loss: 0.6954 - acc: 0.4957\n",
      "Epoch 2/6\n",
      "8/8 [==============================] - 0s 9ms/step - loss: 0.6226 - acc: 0.8291\n",
      "Epoch 3/6\n",
      "8/8 [==============================] - 0s 10ms/step - loss: 0.4956 - acc: 0.9786\n",
      "Epoch 4/6\n",
      "8/8 [==============================] - 0s 11ms/step - loss: 0.3041 - acc: 0.9872\n",
      "Epoch 5/6\n",
      "8/8 [==============================] - 0s 11ms/step - loss: 0.1472 - acc: 0.9872\n",
      "Epoch 6/6\n",
      "8/8 [==============================] - 0s 11ms/step - loss: 0.0537 - acc: 1.0000\n",
      "Predicting 159th label...\n"
     ]
    },
    {
     "name": "stderr",
     "output_type": "stream",
     "text": [
      "100%|███████████████████████████████████████████████████████████████████████████████████████████████████████████████████████████████████████████████████████████████████████████████████████████████████████| 313/313 [00:20<00:00, 15.47it/s]\n"
     ]
    },
    {
     "name": "stdout",
     "output_type": "stream",
     "text": [
      "\n",
      "160'th label prediction started\n",
      "count_one 276\n",
      "count_zero 276\n",
      "Epoch 1/6\n",
      "18/18 [==============================] - 1s 11ms/step - loss: 0.6789 - acc: 0.5380\n",
      "Epoch 2/6\n",
      "18/18 [==============================] - 0s 10ms/step - loss: 0.4667 - acc: 0.8678\n",
      "Epoch 3/6\n",
      "18/18 [==============================] - 0s 11ms/step - loss: 0.2314 - acc: 0.8841\n",
      "Epoch 4/6\n",
      "18/18 [==============================] - 0s 11ms/step - loss: 0.0811 - acc: 0.9928\n",
      "Epoch 5/6\n",
      "18/18 [==============================] - 0s 11ms/step - loss: 0.0187 - acc: 1.0000\n",
      "Epoch 6/6\n",
      "18/18 [==============================] - 0s 11ms/step - loss: 0.0052 - acc: 1.0000\n",
      "Predicting 160th label...\n"
     ]
    },
    {
     "name": "stderr",
     "output_type": "stream",
     "text": [
      "100%|███████████████████████████████████████████████████████████████████████████████████████████████████████████████████████████████████████████████████████████████████████████████████████████████████████| 313/313 [00:20<00:00, 15.13it/s]\n"
     ]
    },
    {
     "name": "stdout",
     "output_type": "stream",
     "text": [
      "\n",
      "161'th label prediction started\n",
      "count_one 236\n",
      "count_zero 236\n",
      "Epoch 1/6\n",
      "15/15 [==============================] - 1s 11ms/step - loss: 0.6889 - acc: 0.5445\n",
      "Epoch 2/6\n",
      "15/15 [==============================] - 0s 11ms/step - loss: 0.5677 - acc: 0.8877\n",
      "Epoch 3/6\n",
      "15/15 [==============================] - 0s 11ms/step - loss: 0.2953 - acc: 0.9915\n",
      "Epoch 4/6\n",
      "15/15 [==============================] - 0s 11ms/step - loss: 0.0752 - acc: 0.9958\n",
      "Epoch 5/6\n",
      "15/15 [==============================] - 0s 11ms/step - loss: 0.0116 - acc: 1.0000\n",
      "Epoch 6/6\n",
      "15/15 [==============================] - 0s 11ms/step - loss: 0.0035 - acc: 1.0000\n",
      "Predicting 161th label...\n"
     ]
    },
    {
     "name": "stderr",
     "output_type": "stream",
     "text": [
      "100%|███████████████████████████████████████████████████████████████████████████████████████████████████████████████████████████████████████████████████████████████████████████████████████████████████████| 313/313 [00:19<00:00, 15.72it/s]\n"
     ]
    },
    {
     "name": "stdout",
     "output_type": "stream",
     "text": [
      "\n",
      "162'th label prediction started\n",
      "count_one 79\n",
      "count_zero 79\n",
      "Epoch 1/6\n",
      "5/5 [==============================] - 1s 12ms/step - loss: 0.6937 - acc: 0.5127\n",
      "Epoch 2/6\n",
      "5/5 [==============================] - 0s 10ms/step - loss: 0.6375 - acc: 0.9494\n",
      "Epoch 3/6\n",
      "5/5 [==============================] - 0s 9ms/step - loss: 0.5559 - acc: 1.0000\n",
      "Epoch 4/6\n",
      "5/5 [==============================] - 0s 11ms/step - loss: 0.4305 - acc: 1.0000\n",
      "Epoch 5/6\n",
      "5/5 [==============================] - 0s 11ms/step - loss: 0.2854 - acc: 1.0000\n",
      "Epoch 6/6\n",
      "5/5 [==============================] - 0s 11ms/step - loss: 0.1505 - acc: 1.0000\n",
      "Predicting 162th label...\n"
     ]
    },
    {
     "name": "stderr",
     "output_type": "stream",
     "text": [
      "100%|███████████████████████████████████████████████████████████████████████████████████████████████████████████████████████████████████████████████████████████████████████████████████████████████████████| 313/313 [00:20<00:00, 15.34it/s]\n"
     ]
    },
    {
     "name": "stdout",
     "output_type": "stream",
     "text": [
      "\n",
      "163'th label prediction started\n",
      "count_one 136\n",
      "count_zero 136\n",
      "Epoch 1/6\n",
      "9/9 [==============================] - 1s 23ms/step - loss: 0.6946 - acc: 0.4816\n",
      "Epoch 2/6\n",
      "9/9 [==============================] - 0s 10ms/step - loss: 0.6296 - acc: 0.8051\n",
      "Epoch 3/6\n",
      "9/9 [==============================] - 0s 11ms/step - loss: 0.5006 - acc: 1.0000\n",
      "Epoch 4/6\n",
      "9/9 [==============================] - 0s 11ms/step - loss: 0.2904 - acc: 1.0000\n",
      "Epoch 5/6\n",
      "9/9 [==============================] - 0s 11ms/step - loss: 0.0989 - acc: 1.0000\n",
      "Epoch 6/6\n",
      "9/9 [==============================] - 0s 11ms/step - loss: 0.0261 - acc: 1.0000\n",
      "Predicting 163th label...\n"
     ]
    },
    {
     "name": "stderr",
     "output_type": "stream",
     "text": [
      "100%|███████████████████████████████████████████████████████████████████████████████████████████████████████████████████████████████████████████████████████████████████████████████████████████████████████| 313/313 [00:20<00:00, 15.42it/s]\n"
     ]
    },
    {
     "name": "stdout",
     "output_type": "stream",
     "text": [
      "\n",
      "164'th label prediction started\n",
      "count_one 328\n",
      "count_zero 328\n",
      "Epoch 1/6\n",
      "21/21 [==============================] - 1s 12ms/step - loss: 0.6550 - acc: 0.6189\n",
      "Epoch 2/6\n",
      "21/21 [==============================] - 0s 11ms/step - loss: 0.3697 - acc: 0.8796\n",
      "Epoch 3/6\n",
      "21/21 [==============================] - 0s 11ms/step - loss: 0.1548 - acc: 0.9543\n",
      "Epoch 4/6\n",
      "21/21 [==============================] - 0s 11ms/step - loss: 0.0328 - acc: 0.9970\n",
      "Epoch 5/6\n",
      "21/21 [==============================] - 0s 11ms/step - loss: 0.0072 - acc: 1.0000\n",
      "Epoch 6/6\n",
      "21/21 [==============================] - 0s 11ms/step - loss: 0.0028 - acc: 1.0000\n",
      "Predicting 164th label...\n"
     ]
    },
    {
     "name": "stderr",
     "output_type": "stream",
     "text": [
      "100%|███████████████████████████████████████████████████████████████████████████████████████████████████████████████████████████████████████████████████████████████████████████████████████████████████████| 313/313 [00:20<00:00, 15.58it/s]\n"
     ]
    },
    {
     "name": "stdout",
     "output_type": "stream",
     "text": [
      "\n",
      "165'th label prediction started\n",
      "count_one 141\n",
      "count_zero 141\n",
      "Epoch 1/6\n",
      "9/9 [==============================] - 3s 12ms/step - loss: 0.7069 - acc: 0.4716\n",
      "Epoch 2/6\n",
      "9/9 [==============================] - 0s 11ms/step - loss: 0.6152 - acc: 0.9787\n",
      "Epoch 3/6\n",
      "9/9 [==============================] - 0s 11ms/step - loss: 0.4791 - acc: 0.9858\n",
      "Epoch 4/6\n",
      "9/9 [==============================] - 0s 10ms/step - loss: 0.2696 - acc: 0.9787\n",
      "Epoch 5/6\n",
      "9/9 [==============================] - 0s 10ms/step - loss: 0.1104 - acc: 0.9823\n",
      "Epoch 6/6\n",
      "9/9 [==============================] - 0s 11ms/step - loss: 0.0377 - acc: 0.9965\n",
      "Predicting 165th label...\n"
     ]
    },
    {
     "name": "stderr",
     "output_type": "stream",
     "text": [
      "100%|███████████████████████████████████████████████████████████████████████████████████████████████████████████████████████████████████████████████████████████████████████████████████████████████████████| 313/313 [00:20<00:00, 15.38it/s]\n"
     ]
    },
    {
     "name": "stdout",
     "output_type": "stream",
     "text": [
      "\n",
      "166'th label prediction started\n",
      "count_one 381\n",
      "count_zero 381\n",
      "Epoch 1/6\n",
      "24/24 [==============================] - 1s 11ms/step - loss: 0.6869 - acc: 0.5315\n",
      "Epoch 2/6\n",
      "24/24 [==============================] - 0s 11ms/step - loss: 0.5624 - acc: 0.7861\n",
      "Epoch 3/6\n",
      "24/24 [==============================] - 0s 10ms/step - loss: 0.2521 - acc: 0.9764\n",
      "Epoch 4/6\n",
      "24/24 [==============================] - 0s 10ms/step - loss: 0.0466 - acc: 0.9974\n",
      "Epoch 5/6\n",
      "24/24 [==============================] - 0s 10ms/step - loss: 0.0114 - acc: 0.9987\n",
      "Epoch 6/6\n",
      "24/24 [==============================] - 0s 10ms/step - loss: 0.0031 - acc: 1.0000\n",
      "Predicting 166th label...\n"
     ]
    },
    {
     "name": "stderr",
     "output_type": "stream",
     "text": [
      "100%|███████████████████████████████████████████████████████████████████████████████████████████████████████████████████████████████████████████████████████████████████████████████████████████████████████| 313/313 [00:20<00:00, 15.65it/s]\n"
     ]
    },
    {
     "name": "stdout",
     "output_type": "stream",
     "text": [
      "\n",
      "167'th label prediction started\n",
      "count_one 342\n",
      "count_zero 342\n",
      "Epoch 1/6\n",
      "22/22 [==============================] - 1s 11ms/step - loss: 0.6940 - acc: 0.5219\n",
      "Epoch 2/6\n",
      "22/22 [==============================] - 0s 11ms/step - loss: 0.5716 - acc: 0.7222\n",
      "Epoch 3/6\n",
      "22/22 [==============================] - 0s 11ms/step - loss: 0.2520 - acc: 0.9298\n",
      "Epoch 4/6\n",
      "22/22 [==============================] - 0s 11ms/step - loss: 0.0510 - acc: 0.9956\n",
      "Epoch 5/6\n",
      "22/22 [==============================] - 0s 11ms/step - loss: 0.0089 - acc: 1.0000\n",
      "Epoch 6/6\n",
      "22/22 [==============================] - 0s 12ms/step - loss: 0.0030 - acc: 1.0000\n",
      "Predicting 167th label...\n"
     ]
    },
    {
     "name": "stderr",
     "output_type": "stream",
     "text": [
      "100%|███████████████████████████████████████████████████████████████████████████████████████████████████████████████████████████████████████████████████████████████████████████████████████████████████████| 313/313 [00:19<00:00, 15.73it/s]\n"
     ]
    },
    {
     "name": "stdout",
     "output_type": "stream",
     "text": [
      "\n",
      "168'th label prediction started\n",
      "count_one 112\n",
      "count_zero 112\n",
      "Epoch 1/6\n",
      "7/7 [==============================] - 1s 14ms/step - loss: 0.6949 - acc: 0.4554\n",
      "Epoch 2/6\n",
      "7/7 [==============================] - 0s 11ms/step - loss: 0.5830 - acc: 0.9955\n",
      "Epoch 3/6\n",
      "7/7 [==============================] - 0s 11ms/step - loss: 0.4337 - acc: 0.9955\n",
      "Epoch 4/6\n",
      "7/7 [==============================] - 0s 12ms/step - loss: 0.2357 - acc: 1.0000\n",
      "Epoch 5/6\n",
      "7/7 [==============================] - 0s 12ms/step - loss: 0.0992 - acc: 1.0000\n",
      "Epoch 6/6\n",
      "7/7 [==============================] - 0s 13ms/step - loss: 0.0342 - acc: 1.0000\n",
      "Predicting 168th label...\n"
     ]
    },
    {
     "name": "stderr",
     "output_type": "stream",
     "text": [
      "100%|███████████████████████████████████████████████████████████████████████████████████████████████████████████████████████████████████████████████████████████████████████████████████████████████████████| 313/313 [00:20<00:00, 15.10it/s]\n"
     ]
    },
    {
     "name": "stdout",
     "output_type": "stream",
     "text": [
      "\n",
      "169'th label prediction started\n",
      "count_one 659\n",
      "count_zero 659\n",
      "Epoch 1/6\n",
      "42/42 [==============================] - 1s 13ms/step - loss: 0.6182 - acc: 0.6775\n",
      "Epoch 2/6\n",
      "42/42 [==============================] - 0s 11ms/step - loss: 0.2336 - acc: 0.9173\n",
      "Epoch 3/6\n",
      "42/42 [==============================] - 0s 10ms/step - loss: 0.0398 - acc: 0.9901\n",
      "Epoch 4/6\n",
      "42/42 [==============================] - 0s 11ms/step - loss: 0.0048 - acc: 1.0000\n",
      "Epoch 5/6\n",
      "42/42 [==============================] - 0s 11ms/step - loss: 0.0017 - acc: 1.0000\n",
      "Epoch 6/6\n",
      "42/42 [==============================] - 0s 11ms/step - loss: 7.9990e-04 - acc: 1.0000\n",
      "Predicting 169th label...\n"
     ]
    },
    {
     "name": "stderr",
     "output_type": "stream",
     "text": [
      "100%|███████████████████████████████████████████████████████████████████████████████████████████████████████████████████████████████████████████████████████████████████████████████████████████████████████| 313/313 [00:19<00:00, 16.16it/s]\n"
     ]
    },
    {
     "name": "stdout",
     "output_type": "stream",
     "text": [
      "\n",
      "170'th label prediction started\n",
      "count_one 92\n",
      "count_zero 92\n",
      "Epoch 1/6\n",
      "6/6 [==============================] - 1s 11ms/step - loss: 0.7083 - acc: 0.4837\n",
      "Epoch 2/6\n",
      "6/6 [==============================] - 0s 10ms/step - loss: 0.6249 - acc: 0.9783\n",
      "Epoch 3/6\n",
      "6/6 [==============================] - 0s 9ms/step - loss: 0.5368 - acc: 1.0000\n",
      "Epoch 4/6\n",
      "6/6 [==============================] - 0s 11ms/step - loss: 0.4040 - acc: 1.0000\n",
      "Epoch 5/6\n",
      "6/6 [==============================] - 0s 11ms/step - loss: 0.2450 - acc: 1.0000\n",
      "Epoch 6/6\n",
      "6/6 [==============================] - 0s 11ms/step - loss: 0.1178 - acc: 1.0000\n",
      "Predicting 170th label...\n"
     ]
    },
    {
     "name": "stderr",
     "output_type": "stream",
     "text": [
      "100%|███████████████████████████████████████████████████████████████████████████████████████████████████████████████████████████████████████████████████████████████████████████████████████████████████████| 313/313 [00:19<00:00, 15.93it/s]\n"
     ]
    },
    {
     "name": "stdout",
     "output_type": "stream",
     "text": [
      "\n",
      "171'th label prediction started\n",
      "count_one 151\n",
      "count_zero 151\n",
      "Epoch 1/6\n",
      "10/10 [==============================] - 1s 11ms/step - loss: 0.6916 - acc: 0.5331\n",
      "Epoch 2/6\n",
      "10/10 [==============================] - 0s 11ms/step - loss: 0.6167 - acc: 0.9801\n",
      "Epoch 3/6\n",
      "10/10 [==============================] - 0s 11ms/step - loss: 0.4599 - acc: 1.0000\n",
      "Epoch 4/6\n",
      "10/10 [==============================] - 0s 12ms/step - loss: 0.2209 - acc: 1.0000\n",
      "Epoch 5/6\n",
      "10/10 [==============================] - 0s 10ms/step - loss: 0.0598 - acc: 1.0000\n",
      "Epoch 6/6\n",
      "10/10 [==============================] - 0s 10ms/step - loss: 0.0130 - acc: 1.0000\n",
      "Predicting 171th label...\n"
     ]
    },
    {
     "name": "stderr",
     "output_type": "stream",
     "text": [
      "100%|███████████████████████████████████████████████████████████████████████████████████████████████████████████████████████████████████████████████████████████████████████████████████████████████████████| 313/313 [00:20<00:00, 15.15it/s]\n"
     ]
    },
    {
     "name": "stdout",
     "output_type": "stream",
     "text": [
      "\n",
      "172'th label prediction started\n",
      "count_one 128\n",
      "count_zero 128\n",
      "Epoch 1/6\n",
      "8/8 [==============================] - 1s 12ms/step - loss: 0.6980 - acc: 0.4883\n",
      "Epoch 2/6\n",
      "8/8 [==============================] - 0s 11ms/step - loss: 0.6219 - acc: 0.9844\n",
      "Epoch 3/6\n",
      "8/8 [==============================] - 0s 11ms/step - loss: 0.5065 - acc: 1.0000\n",
      "Epoch 4/6\n",
      "8/8 [==============================] - 0s 12ms/step - loss: 0.3206 - acc: 1.0000\n",
      "Epoch 5/6\n",
      "8/8 [==============================] - 0s 11ms/step - loss: 0.1388 - acc: 1.0000\n",
      "Epoch 6/6\n",
      "8/8 [==============================] - 0s 11ms/step - loss: 0.0433 - acc: 1.0000\n",
      "Predicting 172th label...\n"
     ]
    },
    {
     "name": "stderr",
     "output_type": "stream",
     "text": [
      "100%|███████████████████████████████████████████████████████████████████████████████████████████████████████████████████████████████████████████████████████████████████████████████████████████████████████| 313/313 [00:20<00:00, 15.39it/s]\n"
     ]
    },
    {
     "name": "stdout",
     "output_type": "stream",
     "text": [
      "\n",
      "173'th label prediction started\n",
      "count_one 203\n",
      "count_zero 203\n",
      "Epoch 1/6\n",
      "13/13 [==============================] - 1s 11ms/step - loss: 0.6947 - acc: 0.5074\n",
      "Epoch 2/6\n",
      "13/13 [==============================] - 0s 11ms/step - loss: 0.6233 - acc: 0.8695\n",
      "Epoch 3/6\n",
      "13/13 [==============================] - 0s 10ms/step - loss: 0.4582 - acc: 1.0000\n",
      "Epoch 4/6\n",
      "13/13 [==============================] - 0s 11ms/step - loss: 0.1990 - acc: 1.0000\n",
      "Epoch 5/6\n",
      "13/13 [==============================] - 0s 11ms/step - loss: 0.0435 - acc: 1.0000\n",
      "Epoch 6/6\n",
      "13/13 [==============================] - 0s 12ms/step - loss: 0.0099 - acc: 1.0000\n",
      "Predicting 173th label...\n"
     ]
    },
    {
     "name": "stderr",
     "output_type": "stream",
     "text": [
      "100%|███████████████████████████████████████████████████████████████████████████████████████████████████████████████████████████████████████████████████████████████████████████████████████████████████████| 313/313 [00:21<00:00, 14.86it/s]\n"
     ]
    },
    {
     "name": "stdout",
     "output_type": "stream",
     "text": [
      "\n",
      "174'th label prediction started\n",
      "count_one 350\n",
      "count_zero 350\n",
      "Epoch 1/6\n",
      "22/22 [==============================] - 1s 11ms/step - loss: 0.6791 - acc: 0.5814\n",
      "Epoch 2/6\n",
      "22/22 [==============================] - 0s 11ms/step - loss: 0.4803 - acc: 0.8229\n",
      "Epoch 3/6\n",
      "22/22 [==============================] - 0s 11ms/step - loss: 0.1549 - acc: 0.9814\n",
      "Epoch 4/6\n",
      "22/22 [==============================] - 0s 11ms/step - loss: 0.0223 - acc: 0.9971\n",
      "Epoch 5/6\n",
      "22/22 [==============================] - 0s 10ms/step - loss: 0.0055 - acc: 1.0000\n",
      "Epoch 6/6\n",
      "22/22 [==============================] - 0s 11ms/step - loss: 0.0020 - acc: 1.0000\n",
      "Predicting 174th label...\n"
     ]
    },
    {
     "name": "stderr",
     "output_type": "stream",
     "text": [
      "100%|███████████████████████████████████████████████████████████████████████████████████████████████████████████████████████████████████████████████████████████████████████████████████████████████████████| 313/313 [00:20<00:00, 15.05it/s]\n"
     ]
    },
    {
     "name": "stdout",
     "output_type": "stream",
     "text": [
      "\n",
      "175'th label prediction started\n",
      "count_one 151\n",
      "count_zero 151\n",
      "Epoch 1/6\n",
      "10/10 [==============================] - 1s 11ms/step - loss: 0.7017 - acc: 0.5099\n",
      "Epoch 2/6\n",
      "10/10 [==============================] - 0s 10ms/step - loss: 0.6168 - acc: 0.9536\n",
      "Epoch 3/6\n",
      "10/10 [==============================] - 0s 11ms/step - loss: 0.4505 - acc: 1.0000\n",
      "Epoch 4/6\n",
      "10/10 [==============================] - 0s 10ms/step - loss: 0.2195 - acc: 1.0000\n",
      "Epoch 5/6\n",
      "10/10 [==============================] - 0s 11ms/step - loss: 0.0661 - acc: 1.0000\n",
      "Epoch 6/6\n",
      "10/10 [==============================] - 0s 10ms/step - loss: 0.0167 - acc: 1.0000\n",
      "Predicting 175th label...\n"
     ]
    },
    {
     "name": "stderr",
     "output_type": "stream",
     "text": [
      "100%|███████████████████████████████████████████████████████████████████████████████████████████████████████████████████████████████████████████████████████████████████████████████████████████████████████| 313/313 [00:20<00:00, 15.13it/s]\n"
     ]
    },
    {
     "name": "stdout",
     "output_type": "stream",
     "text": [
      "\n",
      "176'th label prediction started\n",
      "count_one 243\n",
      "count_zero 243\n",
      "Epoch 1/6\n",
      "16/16 [==============================] - 1s 11ms/step - loss: 0.6906 - acc: 0.5082\n",
      "Epoch 2/6\n",
      "16/16 [==============================] - 0s 10ms/step - loss: 0.5680 - acc: 0.9938\n",
      "Epoch 3/6\n",
      "16/16 [==============================] - 0s 11ms/step - loss: 0.2669 - acc: 0.9979\n",
      "Epoch 4/6\n",
      "16/16 [==============================] - 0s 10ms/step - loss: 0.0480 - acc: 0.9979\n",
      "Epoch 5/6\n",
      "16/16 [==============================] - 0s 11ms/step - loss: 0.0072 - acc: 1.0000\n",
      "Epoch 6/6\n",
      "16/16 [==============================] - 0s 10ms/step - loss: 0.0025 - acc: 1.0000\n",
      "Predicting 176th label...\n"
     ]
    },
    {
     "name": "stderr",
     "output_type": "stream",
     "text": [
      "100%|███████████████████████████████████████████████████████████████████████████████████████████████████████████████████████████████████████████████████████████████████████████████████████████████████████| 313/313 [00:22<00:00, 13.64it/s]\n"
     ]
    },
    {
     "name": "stdout",
     "output_type": "stream",
     "text": [
      "\n",
      "177'th label prediction started\n",
      "count_one 137\n",
      "count_zero 137\n",
      "Epoch 1/6\n",
      "9/9 [==============================] - 1s 24ms/step - loss: 0.6996 - acc: 0.4635\n",
      "Epoch 2/6\n",
      "9/9 [==============================] - 0s 10ms/step - loss: 0.6263 - acc: 0.9051\n",
      "Epoch 3/6\n",
      "9/9 [==============================] - 0s 11ms/step - loss: 0.5135 - acc: 0.9964\n",
      "Epoch 4/6\n",
      "9/9 [==============================] - 0s 11ms/step - loss: 0.3253 - acc: 1.0000\n",
      "Epoch 5/6\n",
      "9/9 [==============================] - 0s 11ms/step - loss: 0.1380 - acc: 1.0000\n",
      "Epoch 6/6\n",
      "9/9 [==============================] - 0s 11ms/step - loss: 0.0413 - acc: 1.0000\n",
      "Predicting 177th label...\n"
     ]
    },
    {
     "name": "stderr",
     "output_type": "stream",
     "text": [
      "100%|███████████████████████████████████████████████████████████████████████████████████████████████████████████████████████████████████████████████████████████████████████████████████████████████████████| 313/313 [00:19<00:00, 15.69it/s]\n"
     ]
    },
    {
     "name": "stdout",
     "output_type": "stream",
     "text": [
      "\n",
      "178'th label prediction started\n",
      "count_one 110\n",
      "count_zero 110\n",
      "Epoch 1/6\n",
      "7/7 [==============================] - 1s 12ms/step - loss: 0.6942 - acc: 0.4955\n",
      "Epoch 2/6\n",
      "7/7 [==============================] - 0s 11ms/step - loss: 0.6253 - acc: 0.9591\n",
      "Epoch 3/6\n",
      "7/7 [==============================] - 0s 11ms/step - loss: 0.5151 - acc: 1.0000\n",
      "Epoch 4/6\n",
      "7/7 [==============================] - 0s 11ms/step - loss: 0.3465 - acc: 1.0000\n",
      "Epoch 5/6\n",
      "7/7 [==============================] - 0s 11ms/step - loss: 0.1679 - acc: 1.0000\n",
      "Epoch 6/6\n",
      "7/7 [==============================] - 0s 11ms/step - loss: 0.0597 - acc: 1.0000\n",
      "Predicting 178th label...\n"
     ]
    },
    {
     "name": "stderr",
     "output_type": "stream",
     "text": [
      "100%|███████████████████████████████████████████████████████████████████████████████████████████████████████████████████████████████████████████████████████████████████████████████████████████████████████| 313/313 [00:20<00:00, 14.95it/s]\n"
     ]
    },
    {
     "name": "stdout",
     "output_type": "stream",
     "text": [
      "\n",
      "179'th label prediction started\n",
      "count_one 77\n",
      "count_zero 77\n",
      "Epoch 1/6\n",
      "5/5 [==============================] - 1s 12ms/step - loss: 0.7037 - acc: 0.5000\n",
      "Epoch 2/6\n",
      "5/5 [==============================] - 0s 10ms/step - loss: 0.6355 - acc: 0.9481\n",
      "Epoch 3/6\n",
      "5/5 [==============================] - 0s 11ms/step - loss: 0.5620 - acc: 0.9935\n",
      "Epoch 4/6\n",
      "5/5 [==============================] - 0s 10ms/step - loss: 0.4461 - acc: 1.0000\n",
      "Epoch 5/6\n",
      "5/5 [==============================] - 0s 10ms/step - loss: 0.3018 - acc: 1.0000\n",
      "Epoch 6/6\n",
      "5/5 [==============================] - 0s 11ms/step - loss: 0.1679 - acc: 1.0000\n",
      "Predicting 179th label...\n"
     ]
    },
    {
     "name": "stderr",
     "output_type": "stream",
     "text": [
      "100%|███████████████████████████████████████████████████████████████████████████████████████████████████████████████████████████████████████████████████████████████████████████████████████████████████████| 313/313 [00:18<00:00, 16.63it/s]\n"
     ]
    },
    {
     "name": "stdout",
     "output_type": "stream",
     "text": [
      "\n",
      "180'th label prediction started\n",
      "count_one 156\n",
      "count_zero 156\n",
      "Epoch 1/6\n",
      "10/10 [==============================] - 1s 11ms/step - loss: 0.6952 - acc: 0.5288\n",
      "Epoch 2/6\n",
      "10/10 [==============================] - 0s 11ms/step - loss: 0.6001 - acc: 0.8878\n",
      "Epoch 3/6\n",
      "10/10 [==============================] - 0s 11ms/step - loss: 0.4170 - acc: 0.9968\n",
      "Epoch 4/6\n",
      "10/10 [==============================] - 0s 11ms/step - loss: 0.1862 - acc: 0.9936\n",
      "Epoch 5/6\n",
      "10/10 [==============================] - 0s 12ms/step - loss: 0.0521 - acc: 1.0000\n",
      "Epoch 6/6\n",
      "10/10 [==============================] - 0s 11ms/step - loss: 0.0126 - acc: 1.0000\n",
      "Predicting 180th label...\n"
     ]
    },
    {
     "name": "stderr",
     "output_type": "stream",
     "text": [
      "100%|███████████████████████████████████████████████████████████████████████████████████████████████████████████████████████████████████████████████████████████████████████████████████████████████████████| 313/313 [00:18<00:00, 17.18it/s]\n"
     ]
    },
    {
     "name": "stdout",
     "output_type": "stream",
     "text": [
      "\n",
      "181'th label prediction started\n",
      "count_one 279\n",
      "count_zero 279\n",
      "Epoch 1/6\n",
      "18/18 [==============================] - 1s 11ms/step - loss: 0.6908 - acc: 0.5484\n",
      "Epoch 2/6\n",
      "18/18 [==============================] - 0s 11ms/step - loss: 0.5771 - acc: 0.8118\n",
      "Epoch 3/6\n",
      "18/18 [==============================] - 0s 11ms/step - loss: 0.2675 - acc: 0.9946\n",
      "Epoch 4/6\n",
      "18/18 [==============================] - 0s 10ms/step - loss: 0.0459 - acc: 0.9982\n",
      "Epoch 5/6\n",
      "18/18 [==============================] - 0s 11ms/step - loss: 0.0064 - acc: 1.0000\n",
      "Epoch 6/6\n",
      "18/18 [==============================] - 0s 11ms/step - loss: 0.0025 - acc: 1.0000\n",
      "Predicting 181th label...\n"
     ]
    },
    {
     "name": "stderr",
     "output_type": "stream",
     "text": [
      "100%|███████████████████████████████████████████████████████████████████████████████████████████████████████████████████████████████████████████████████████████████████████████████████████████████████████| 313/313 [00:18<00:00, 16.66it/s]\n"
     ]
    },
    {
     "name": "stdout",
     "output_type": "stream",
     "text": [
      "\n",
      "182'th label prediction started\n",
      "count_one 207\n",
      "count_zero 207\n",
      "Epoch 1/6\n",
      "13/13 [==============================] - 1s 23ms/step - loss: 0.6995 - acc: 0.4952\n",
      "Epoch 2/6\n",
      "13/13 [==============================] - 0s 10ms/step - loss: 0.6092 - acc: 0.9420\n",
      "Epoch 3/6\n",
      "13/13 [==============================] - 0s 11ms/step - loss: 0.3858 - acc: 0.9976\n",
      "Epoch 4/6\n",
      "13/13 [==============================] - 0s 11ms/step - loss: 0.1202 - acc: 0.9976\n",
      "Epoch 5/6\n",
      "13/13 [==============================] - 0s 11ms/step - loss: 0.0252 - acc: 0.9976\n",
      "Epoch 6/6\n",
      "13/13 [==============================] - 0s 11ms/step - loss: 0.0057 - acc: 1.0000\n",
      "Predicting 182th label...\n"
     ]
    },
    {
     "name": "stderr",
     "output_type": "stream",
     "text": [
      "100%|███████████████████████████████████████████████████████████████████████████████████████████████████████████████████████████████████████████████████████████████████████████████████████████████████████| 313/313 [00:20<00:00, 15.62it/s]\n"
     ]
    },
    {
     "name": "stdout",
     "output_type": "stream",
     "text": [
      "\n",
      "183'th label prediction started\n",
      "count_one 273\n",
      "count_zero 273\n",
      "Epoch 1/6\n",
      "18/18 [==============================] - 1s 15ms/step - loss: 0.6953 - acc: 0.5330\n",
      "Epoch 2/6\n",
      "18/18 [==============================] - 0s 11ms/step - loss: 0.6088 - acc: 0.6978\n",
      "Epoch 3/6\n",
      "18/18 [==============================] - 0s 11ms/step - loss: 0.3366 - acc: 0.9799\n",
      "Epoch 4/6\n",
      "18/18 [==============================] - 0s 11ms/step - loss: 0.0887 - acc: 0.9908\n",
      "Epoch 5/6\n",
      "18/18 [==============================] - 0s 15ms/step - loss: 0.0129 - acc: 1.0000\n",
      "Epoch 6/6\n",
      "18/18 [==============================] - 0s 14ms/step - loss: 0.0040 - acc: 1.0000\n",
      "Predicting 183th label...\n"
     ]
    },
    {
     "name": "stderr",
     "output_type": "stream",
     "text": [
      "100%|███████████████████████████████████████████████████████████████████████████████████████████████████████████████████████████████████████████████████████████████████████████████████████████████████████| 313/313 [00:19<00:00, 15.75it/s]\n"
     ]
    },
    {
     "name": "stdout",
     "output_type": "stream",
     "text": [
      "\n",
      "184'th label prediction started\n",
      "count_one 226\n",
      "count_zero 226\n",
      "Epoch 1/6\n",
      "15/15 [==============================] - 1s 11ms/step - loss: 0.6900 - acc: 0.5332\n",
      "Epoch 2/6\n",
      "15/15 [==============================] - 0s 11ms/step - loss: 0.5713 - acc: 0.9712\n",
      "Epoch 3/6\n",
      "15/15 [==============================] - 0s 11ms/step - loss: 0.3157 - acc: 0.9889\n",
      "Epoch 4/6\n",
      "15/15 [==============================] - 0s 11ms/step - loss: 0.0918 - acc: 0.9912\n",
      "Epoch 5/6\n",
      "15/15 [==============================] - 0s 11ms/step - loss: 0.0163 - acc: 1.0000\n",
      "Epoch 6/6\n",
      "15/15 [==============================] - 0s 11ms/step - loss: 0.0047 - acc: 1.0000\n",
      "Predicting 184th label...\n"
     ]
    },
    {
     "name": "stderr",
     "output_type": "stream",
     "text": [
      "100%|███████████████████████████████████████████████████████████████████████████████████████████████████████████████████████████████████████████████████████████████████████████████████████████████████████| 313/313 [00:20<00:00, 15.52it/s]\n"
     ]
    },
    {
     "name": "stdout",
     "output_type": "stream",
     "text": [
      "\n",
      "185'th label prediction started\n",
      "count_one 136\n",
      "count_zero 136\n",
      "Epoch 1/6\n",
      "9/9 [==============================] - 1s 11ms/step - loss: 0.6947 - acc: 0.4816\n",
      "Epoch 2/6\n",
      "9/9 [==============================] - 0s 10ms/step - loss: 0.6271 - acc: 0.9779\n",
      "Epoch 3/6\n",
      "9/9 [==============================] - 0s 10ms/step - loss: 0.5063 - acc: 1.0000\n",
      "Epoch 4/6\n",
      "9/9 [==============================] - 0s 10ms/step - loss: 0.3177 - acc: 1.0000\n",
      "Epoch 5/6\n",
      "9/9 [==============================] - 0s 11ms/step - loss: 0.1277 - acc: 1.0000\n",
      "Epoch 6/6\n",
      "9/9 [==============================] - 0s 11ms/step - loss: 0.0375 - acc: 1.0000\n",
      "Predicting 185th label...\n"
     ]
    },
    {
     "name": "stderr",
     "output_type": "stream",
     "text": [
      "100%|███████████████████████████████████████████████████████████████████████████████████████████████████████████████████████████████████████████████████████████████████████████████████████████████████████| 313/313 [00:18<00:00, 17.14it/s]\n"
     ]
    },
    {
     "name": "stdout",
     "output_type": "stream",
     "text": [
      "\n",
      "186'th label prediction started\n",
      "count_one 111\n",
      "count_zero 111\n",
      "Epoch 1/6\n",
      "7/7 [==============================] - 1s 12ms/step - loss: 0.6969 - acc: 0.5000\n",
      "Epoch 2/6\n",
      "7/7 [==============================] - 0s 11ms/step - loss: 0.6277 - acc: 0.9234\n",
      "Epoch 3/6\n",
      "7/7 [==============================] - 0s 10ms/step - loss: 0.5153 - acc: 1.0000\n",
      "Epoch 4/6\n",
      "7/7 [==============================] - 0s 11ms/step - loss: 0.3349 - acc: 1.0000\n",
      "Epoch 5/6\n",
      "7/7 [==============================] - 0s 11ms/step - loss: 0.1600 - acc: 1.0000\n",
      "Epoch 6/6\n",
      "7/7 [==============================] - 0s 11ms/step - loss: 0.0562 - acc: 1.0000\n",
      "Predicting 186th label...\n"
     ]
    },
    {
     "name": "stderr",
     "output_type": "stream",
     "text": [
      "100%|███████████████████████████████████████████████████████████████████████████████████████████████████████████████████████████████████████████████████████████████████████████████████████████████████████| 313/313 [00:19<00:00, 16.03it/s]\n"
     ]
    },
    {
     "name": "stdout",
     "output_type": "stream",
     "text": [
      "\n",
      "187'th label prediction started\n",
      "count_one 228\n",
      "count_zero 228\n",
      "Epoch 1/6\n",
      "15/15 [==============================] - 1s 18ms/step - loss: 0.6906 - acc: 0.5263\n",
      "Epoch 2/6\n",
      "15/15 [==============================] - 0s 10ms/step - loss: 0.5404 - acc: 0.9408\n",
      "Epoch 3/6\n",
      "15/15 [==============================] - 0s 11ms/step - loss: 0.2472 - acc: 0.9759\n",
      "Epoch 4/6\n",
      "15/15 [==============================] - 0s 11ms/step - loss: 0.0677 - acc: 0.9956\n",
      "Epoch 5/6\n",
      "15/15 [==============================] - 0s 10ms/step - loss: 0.0169 - acc: 0.9978\n",
      "Epoch 6/6\n",
      "15/15 [==============================] - 0s 11ms/step - loss: 0.0048 - acc: 1.0000\n",
      "Predicting 187th label...\n"
     ]
    },
    {
     "name": "stderr",
     "output_type": "stream",
     "text": [
      "100%|███████████████████████████████████████████████████████████████████████████████████████████████████████████████████████████████████████████████████████████████████████████████████████████████████████| 313/313 [00:20<00:00, 14.97it/s]\n"
     ]
    },
    {
     "name": "stdout",
     "output_type": "stream",
     "text": [
      "\n",
      "188'th label prediction started\n",
      "count_one 314\n",
      "count_zero 314\n",
      "Epoch 1/6\n",
      "20/20 [==============================] - 1s 16ms/step - loss: 0.6897 - acc: 0.5287\n",
      "Epoch 2/6\n",
      "20/20 [==============================] - 0s 11ms/step - loss: 0.5521 - acc: 0.8567\n",
      "Epoch 3/6\n",
      "20/20 [==============================] - 0s 11ms/step - loss: 0.2448 - acc: 0.9538\n",
      "Epoch 4/6\n",
      "20/20 [==============================] - 0s 10ms/step - loss: 0.0535 - acc: 0.9920\n",
      "Epoch 5/6\n",
      "20/20 [==============================] - 0s 11ms/step - loss: 0.0095 - acc: 1.0000\n",
      "Epoch 6/6\n",
      "20/20 [==============================] - 0s 11ms/step - loss: 0.0033 - acc: 1.0000\n",
      "Predicting 188th label...\n"
     ]
    },
    {
     "name": "stderr",
     "output_type": "stream",
     "text": [
      "100%|███████████████████████████████████████████████████████████████████████████████████████████████████████████████████████████████████████████████████████████████████████████████████████████████████████| 313/313 [00:19<00:00, 15.65it/s]\n"
     ]
    },
    {
     "name": "stdout",
     "output_type": "stream",
     "text": [
      "\n",
      "189'th label prediction started\n",
      "count_one 57\n",
      "count_zero 57\n",
      "Epoch 1/6\n",
      "4/4 [==============================] - 1s 47ms/step - loss: 0.6987 - acc: 0.5000\n",
      "Epoch 2/6\n",
      "4/4 [==============================] - 0s 10ms/step - loss: 0.6401 - acc: 1.0000\n",
      "Epoch 3/6\n",
      "4/4 [==============================] - 0s 10ms/step - loss: 0.5809 - acc: 0.9912\n",
      "Epoch 4/6\n",
      "4/4 [==============================] - 0s 10ms/step - loss: 0.4995 - acc: 1.0000\n",
      "Epoch 5/6\n",
      "4/4 [==============================] - 0s 9ms/step - loss: 0.3964 - acc: 1.0000\n",
      "Epoch 6/6\n",
      "4/4 [==============================] - 0s 10ms/step - loss: 0.2814 - acc: 1.0000\n",
      "Predicting 189th label...\n"
     ]
    },
    {
     "name": "stderr",
     "output_type": "stream",
     "text": [
      "100%|███████████████████████████████████████████████████████████████████████████████████████████████████████████████████████████████████████████████████████████████████████████████████████████████████████| 313/313 [00:19<00:00, 15.90it/s]\n"
     ]
    },
    {
     "name": "stdout",
     "output_type": "stream",
     "text": [
      "\n",
      "190'th label prediction started\n",
      "count_one 181\n",
      "count_zero 181\n",
      "Epoch 1/6\n",
      "12/12 [==============================] - 1s 11ms/step - loss: 0.6969 - acc: 0.5028\n",
      "Epoch 2/6\n",
      "12/12 [==============================] - 0s 11ms/step - loss: 0.5933 - acc: 0.9337\n",
      "Epoch 3/6\n",
      "12/12 [==============================] - 0s 11ms/step - loss: 0.3891 - acc: 0.9917\n",
      "Epoch 4/6\n",
      "12/12 [==============================] - 0s 11ms/step - loss: 0.1453 - acc: 0.9972\n",
      "Epoch 5/6\n",
      "12/12 [==============================] - 0s 11ms/step - loss: 0.0313 - acc: 1.0000\n",
      "Epoch 6/6\n",
      "12/12 [==============================] - 0s 11ms/step - loss: 0.0075 - acc: 1.0000\n",
      "Predicting 190th label...\n"
     ]
    },
    {
     "name": "stderr",
     "output_type": "stream",
     "text": [
      "100%|███████████████████████████████████████████████████████████████████████████████████████████████████████████████████████████████████████████████████████████████████████████████████████████████████████| 313/313 [00:19<00:00, 15.71it/s]\n"
     ]
    },
    {
     "name": "stdout",
     "output_type": "stream",
     "text": [
      "\n",
      "191'th label prediction started\n",
      "count_one 92\n",
      "count_zero 92\n",
      "Epoch 1/6\n",
      "6/6 [==============================] - 1s 12ms/step - loss: 0.6937 - acc: 0.4565\n",
      "Epoch 2/6\n",
      "6/6 [==============================] - 0s 10ms/step - loss: 0.6332 - acc: 0.9728\n",
      "Epoch 3/6\n",
      "6/6 [==============================] - 0s 11ms/step - loss: 0.5378 - acc: 1.0000\n",
      "Epoch 4/6\n",
      "6/6 [==============================] - 0s 11ms/step - loss: 0.3983 - acc: 1.0000\n",
      "Epoch 5/6\n",
      "6/6 [==============================] - 0s 11ms/step - loss: 0.2281 - acc: 1.0000\n",
      "Epoch 6/6\n",
      "6/6 [==============================] - 0s 11ms/step - loss: 0.1047 - acc: 1.0000\n",
      "Predicting 191th label...\n"
     ]
    },
    {
     "name": "stderr",
     "output_type": "stream",
     "text": [
      "100%|███████████████████████████████████████████████████████████████████████████████████████████████████████████████████████████████████████████████████████████████████████████████████████████████████████| 313/313 [00:20<00:00, 14.97it/s]\n"
     ]
    },
    {
     "name": "stdout",
     "output_type": "stream",
     "text": [
      "\n",
      "192'th label prediction started\n",
      "count_one 109\n",
      "count_zero 109\n",
      "Epoch 1/6\n",
      "7/7 [==============================] - 1s 12ms/step - loss: 0.6848 - acc: 0.5872\n",
      "Epoch 2/6\n",
      "7/7 [==============================] - 0s 10ms/step - loss: 0.5713 - acc: 0.9771\n",
      "Epoch 3/6\n",
      "7/7 [==============================] - 0s 10ms/step - loss: 0.3835 - acc: 1.0000\n",
      "Epoch 4/6\n",
      "7/7 [==============================] - 0s 12ms/step - loss: 0.1921 - acc: 1.0000\n",
      "Epoch 5/6\n",
      "7/7 [==============================] - 0s 12ms/step - loss: 0.0764 - acc: 1.0000\n",
      "Epoch 6/6\n",
      "7/7 [==============================] - 0s 11ms/step - loss: 0.0240 - acc: 1.0000\n",
      "Predicting 192th label...\n"
     ]
    },
    {
     "name": "stderr",
     "output_type": "stream",
     "text": [
      "100%|███████████████████████████████████████████████████████████████████████████████████████████████████████████████████████████████████████████████████████████████████████████████████████████████████████| 313/313 [00:21<00:00, 14.76it/s]\n"
     ]
    },
    {
     "name": "stdout",
     "output_type": "stream",
     "text": [
      "\n",
      "193'th label prediction started\n",
      "count_one 132\n",
      "count_zero 132\n",
      "Epoch 1/6\n",
      "9/9 [==============================] - 1s 12ms/step - loss: 0.6964 - acc: 0.4470\n",
      "Epoch 2/6\n",
      "9/9 [==============================] - 0s 11ms/step - loss: 0.6145 - acc: 0.9053\n",
      "Epoch 3/6\n",
      "9/9 [==============================] - 0s 11ms/step - loss: 0.4834 - acc: 0.9924\n",
      "Epoch 4/6\n",
      "9/9 [==============================] - 0s 10ms/step - loss: 0.2711 - acc: 1.0000\n",
      "Epoch 5/6\n",
      "9/9 [==============================] - 0s 11ms/step - loss: 0.0975 - acc: 1.0000\n",
      "Epoch 6/6\n",
      "9/9 [==============================] - 0s 10ms/step - loss: 0.0276 - acc: 1.0000\n",
      "Predicting 193th label...\n"
     ]
    },
    {
     "name": "stderr",
     "output_type": "stream",
     "text": [
      "100%|███████████████████████████████████████████████████████████████████████████████████████████████████████████████████████████████████████████████████████████████████████████████████████████████████████| 313/313 [00:20<00:00, 15.06it/s]\n"
     ]
    },
    {
     "name": "stdout",
     "output_type": "stream",
     "text": [
      "\n",
      "194'th label prediction started\n",
      "count_one 183\n",
      "count_zero 183\n",
      "Epoch 1/6\n",
      "12/12 [==============================] - 1s 11ms/step - loss: 0.7009 - acc: 0.5164\n",
      "Epoch 2/6\n",
      "12/12 [==============================] - 0s 11ms/step - loss: 0.5805 - acc: 0.8880\n",
      "Epoch 3/6\n",
      "12/12 [==============================] - 0s 12ms/step - loss: 0.3305 - acc: 0.9945\n",
      "Epoch 4/6\n",
      "12/12 [==============================] - 0s 11ms/step - loss: 0.0926 - acc: 0.9973\n",
      "Epoch 5/6\n",
      "12/12 [==============================] - 0s 11ms/step - loss: 0.0183 - acc: 1.0000\n",
      "Epoch 6/6\n",
      "12/12 [==============================] - 0s 10ms/step - loss: 0.0048 - acc: 1.0000\n",
      "Predicting 194th label...\n"
     ]
    },
    {
     "name": "stderr",
     "output_type": "stream",
     "text": [
      "100%|███████████████████████████████████████████████████████████████████████████████████████████████████████████████████████████████████████████████████████████████████████████████████████████████████████| 313/313 [00:20<00:00, 15.30it/s]\n"
     ]
    },
    {
     "name": "stdout",
     "output_type": "stream",
     "text": [
      "\n",
      "195'th label prediction started\n",
      "count_one 194\n",
      "count_zero 194\n",
      "Epoch 1/6\n",
      "13/13 [==============================] - 1s 11ms/step - loss: 0.6929 - acc: 0.4820\n",
      "Epoch 2/6\n",
      "13/13 [==============================] - 0s 11ms/step - loss: 0.5720 - acc: 0.9072\n",
      "Epoch 3/6\n",
      "13/13 [==============================] - 0s 10ms/step - loss: 0.3133 - acc: 0.9691\n",
      "Epoch 4/6\n",
      "13/13 [==============================] - 0s 10ms/step - loss: 0.1091 - acc: 0.9845\n",
      "Epoch 5/6\n",
      "13/13 [==============================] - 0s 10ms/step - loss: 0.0278 - acc: 0.9974\n",
      "Epoch 6/6\n",
      "13/13 [==============================] - 0s 10ms/step - loss: 0.0073 - acc: 1.0000\n",
      "Predicting 195th label...\n"
     ]
    },
    {
     "name": "stderr",
     "output_type": "stream",
     "text": [
      "100%|███████████████████████████████████████████████████████████████████████████████████████████████████████████████████████████████████████████████████████████████████████████████████████████████████████| 313/313 [00:20<00:00, 15.35it/s]\n"
     ]
    },
    {
     "name": "stdout",
     "output_type": "stream",
     "text": [
      "\n",
      "196'th label prediction started\n",
      "count_one 77\n",
      "count_zero 77\n",
      "Epoch 1/6\n",
      "5/5 [==============================] - 1s 11ms/step - loss: 0.6919 - acc: 0.4935\n",
      "Epoch 2/6\n",
      "5/5 [==============================] - 0s 11ms/step - loss: 0.6390 - acc: 0.9870\n",
      "Epoch 3/6\n",
      "5/5 [==============================] - 0s 11ms/step - loss: 0.5703 - acc: 1.0000\n",
      "Epoch 4/6\n",
      "5/5 [==============================] - 0s 10ms/step - loss: 0.4589 - acc: 1.0000\n",
      "Epoch 5/6\n",
      "5/5 [==============================] - 0s 10ms/step - loss: 0.3193 - acc: 1.0000\n",
      "Epoch 6/6\n",
      "5/5 [==============================] - 0s 10ms/step - loss: 0.1796 - acc: 1.0000\n",
      "Predicting 196th label...\n"
     ]
    },
    {
     "name": "stderr",
     "output_type": "stream",
     "text": [
      "100%|███████████████████████████████████████████████████████████████████████████████████████████████████████████████████████████████████████████████████████████████████████████████████████████████████████| 313/313 [00:20<00:00, 15.15it/s]\n"
     ]
    },
    {
     "name": "stdout",
     "output_type": "stream",
     "text": [
      "\n",
      "197'th label prediction started\n",
      "count_one 58\n",
      "count_zero 58\n",
      "Epoch 1/6\n",
      "4/4 [==============================] - 1s 12ms/step - loss: 0.7007 - acc: 0.4138\n",
      "Epoch 2/6\n",
      "4/4 [==============================] - 0s 11ms/step - loss: 0.6429 - acc: 0.9224\n",
      "Epoch 3/6\n",
      "4/4 [==============================] - 0s 10ms/step - loss: 0.5813 - acc: 1.0000\n",
      "Epoch 4/6\n",
      "4/4 [==============================] - 0s 10ms/step - loss: 0.4949 - acc: 1.0000\n",
      "Epoch 5/6\n",
      "4/4 [==============================] - 0s 11ms/step - loss: 0.3897 - acc: 1.0000\n",
      "Epoch 6/6\n",
      "4/4 [==============================] - 0s 12ms/step - loss: 0.2692 - acc: 1.0000\n",
      "Predicting 197th label...\n"
     ]
    },
    {
     "name": "stderr",
     "output_type": "stream",
     "text": [
      "100%|███████████████████████████████████████████████████████████████████████████████████████████████████████████████████████████████████████████████████████████████████████████████████████████████████████| 313/313 [00:20<00:00, 15.26it/s]\n"
     ]
    },
    {
     "name": "stdout",
     "output_type": "stream",
     "text": [
      "\n",
      "198'th label prediction started\n",
      "count_one 100\n",
      "count_zero 100\n",
      "Epoch 1/6\n",
      "7/7 [==============================] - 1s 11ms/step - loss: 0.6954 - acc: 0.5050\n",
      "Epoch 2/6\n",
      "7/7 [==============================] - 0s 10ms/step - loss: 0.6251 - acc: 0.9100\n",
      "Epoch 3/6\n",
      "7/7 [==============================] - 0s 11ms/step - loss: 0.5393 - acc: 0.9650\n",
      "Epoch 4/6\n",
      "7/7 [==============================] - 0s 11ms/step - loss: 0.3863 - acc: 1.0000\n",
      "Epoch 5/6\n",
      "7/7 [==============================] - 0s 10ms/step - loss: 0.2121 - acc: 1.0000\n",
      "Epoch 6/6\n",
      "7/7 [==============================] - 0s 10ms/step - loss: 0.0835 - acc: 1.0000\n",
      "Predicting 198th label...\n"
     ]
    },
    {
     "name": "stderr",
     "output_type": "stream",
     "text": [
      "100%|███████████████████████████████████████████████████████████████████████████████████████████████████████████████████████████████████████████████████████████████████████████████████████████████████████| 313/313 [00:19<00:00, 16.40it/s]\n"
     ]
    },
    {
     "name": "stdout",
     "output_type": "stream",
     "text": [
      "\n",
      "199'th label prediction started\n",
      "count_one 93\n",
      "count_zero 93\n",
      "Epoch 1/6\n",
      "6/6 [==============================] - 1s 12ms/step - loss: 0.7089 - acc: 0.4677\n",
      "Epoch 2/6\n",
      "6/6 [==============================] - 0s 12ms/step - loss: 0.6036 - acc: 0.9570\n",
      "Epoch 3/6\n",
      "6/6 [==============================] - 0s 10ms/step - loss: 0.5047 - acc: 0.9731\n",
      "Epoch 4/6\n",
      "6/6 [==============================] - 0s 11ms/step - loss: 0.3663 - acc: 0.9839\n",
      "Epoch 5/6\n",
      "6/6 [==============================] - 0s 11ms/step - loss: 0.2141 - acc: 0.9946\n",
      "Epoch 6/6\n",
      "6/6 [==============================] - 0s 11ms/step - loss: 0.0966 - acc: 0.9946\n",
      "Predicting 199th label...\n"
     ]
    },
    {
     "name": "stderr",
     "output_type": "stream",
     "text": [
      "100%|███████████████████████████████████████████████████████████████████████████████████████████████████████████████████████████████████████████████████████████████████████████████████████████████████████| 313/313 [00:20<00:00, 15.39it/s]\n"
     ]
    },
    {
     "name": "stdout",
     "output_type": "stream",
     "text": [
      "\n",
      "200'th label prediction started\n",
      "count_one 61\n",
      "count_zero 61\n",
      "Epoch 1/6\n",
      "4/4 [==============================] - 1s 54ms/step - loss: 0.7051 - acc: 0.5164\n",
      "Epoch 2/6\n",
      "4/4 [==============================] - 0s 12ms/step - loss: 0.6486 - acc: 0.7459\n",
      "Epoch 3/6\n",
      "4/4 [==============================] - 0s 10ms/step - loss: 0.5958 - acc: 1.0000\n",
      "Epoch 4/6\n",
      "4/4 [==============================] - 0s 9ms/step - loss: 0.5238 - acc: 1.0000\n",
      "Epoch 5/6\n",
      "4/4 [==============================] - 0s 11ms/step - loss: 0.4228 - acc: 1.0000\n",
      "Epoch 6/6\n",
      "4/4 [==============================] - 0s 11ms/step - loss: 0.3100 - acc: 1.0000\n",
      "Predicting 200th label...\n"
     ]
    },
    {
     "name": "stderr",
     "output_type": "stream",
     "text": [
      "100%|███████████████████████████████████████████████████████████████████████████████████████████████████████████████████████████████████████████████████████████████████████████████████████████████████████| 313/313 [00:21<00:00, 14.28it/s]\n"
     ]
    },
    {
     "name": "stdout",
     "output_type": "stream",
     "text": [
      "\n",
      "201'th label prediction started\n",
      "count_one 74\n",
      "count_zero 74\n",
      "Epoch 1/6\n",
      "5/5 [==============================] - 1s 11ms/step - loss: 0.6992 - acc: 0.4932\n",
      "Epoch 2/6\n",
      "5/5 [==============================] - 0s 11ms/step - loss: 0.6308 - acc: 0.9595\n",
      "Epoch 3/6\n",
      "5/5 [==============================] - 0s 10ms/step - loss: 0.5452 - acc: 1.0000\n",
      "Epoch 4/6\n",
      "5/5 [==============================] - 0s 11ms/step - loss: 0.4246 - acc: 1.0000\n",
      "Epoch 5/6\n",
      "5/5 [==============================] - 0s 11ms/step - loss: 0.2712 - acc: 1.0000\n",
      "Epoch 6/6\n",
      "5/5 [==============================] - 0s 11ms/step - loss: 0.1425 - acc: 1.0000\n",
      "Predicting 201th label...\n"
     ]
    },
    {
     "name": "stderr",
     "output_type": "stream",
     "text": [
      "100%|███████████████████████████████████████████████████████████████████████████████████████████████████████████████████████████████████████████████████████████████████████████████████████████████████████| 313/313 [00:21<00:00, 14.68it/s]\n"
     ]
    },
    {
     "name": "stdout",
     "output_type": "stream",
     "text": [
      "\n",
      "202'th label prediction started\n",
      "count_one 73\n",
      "count_zero 73\n",
      "Epoch 1/6\n",
      "5/5 [==============================] - 1s 11ms/step - loss: 0.6975 - acc: 0.4452\n",
      "Epoch 2/6\n",
      "5/5 [==============================] - 0s 11ms/step - loss: 0.6454 - acc: 0.9795\n",
      "Epoch 3/6\n",
      "5/5 [==============================] - 0s 11ms/step - loss: 0.5797 - acc: 1.0000\n",
      "Epoch 4/6\n",
      "5/5 [==============================] - 0s 10ms/step - loss: 0.4758 - acc: 1.0000\n",
      "Epoch 5/6\n",
      "5/5 [==============================] - 0s 12ms/step - loss: 0.3426 - acc: 1.0000\n",
      "Epoch 6/6\n",
      "5/5 [==============================] - 0s 11ms/step - loss: 0.2032 - acc: 1.0000\n",
      "Predicting 202th label...\n"
     ]
    },
    {
     "name": "stderr",
     "output_type": "stream",
     "text": [
      "100%|███████████████████████████████████████████████████████████████████████████████████████████████████████████████████████████████████████████████████████████████████████████████████████████████████████| 313/313 [00:20<00:00, 15.46it/s]\n"
     ]
    },
    {
     "name": "stdout",
     "output_type": "stream",
     "text": [
      "\n",
      "203'th label prediction started\n",
      "count_one 74\n",
      "count_zero 74\n",
      "Epoch 1/6\n",
      "5/5 [==============================] - 1s 11ms/step - loss: 0.7008 - acc: 0.4595\n",
      "Epoch 2/6\n",
      "5/5 [==============================] - 0s 9ms/step - loss: 0.6316 - acc: 0.9595\n",
      "Epoch 3/6\n",
      "5/5 [==============================] - 0s 9ms/step - loss: 0.5543 - acc: 1.0000\n",
      "Epoch 4/6\n",
      "5/5 [==============================] - 0s 10ms/step - loss: 0.4523 - acc: 1.0000\n",
      "Epoch 5/6\n",
      "5/5 [==============================] - 0s 10ms/step - loss: 0.3187 - acc: 1.0000\n",
      "Epoch 6/6\n",
      "5/5 [==============================] - 0s 9ms/step - loss: 0.1864 - acc: 1.0000\n",
      "Predicting 203th label...\n"
     ]
    },
    {
     "name": "stderr",
     "output_type": "stream",
     "text": [
      "100%|███████████████████████████████████████████████████████████████████████████████████████████████████████████████████████████████████████████████████████████████████████████████████████████████████████| 313/313 [00:18<00:00, 16.63it/s]\n"
     ]
    },
    {
     "name": "stdout",
     "output_type": "stream",
     "text": [
      "\n",
      "204'th label prediction started\n",
      "count_one 110\n",
      "count_zero 110\n",
      "Epoch 1/6\n",
      "7/7 [==============================] - 1s 12ms/step - loss: 0.6915 - acc: 0.5000\n",
      "Epoch 2/6\n",
      "7/7 [==============================] - 0s 10ms/step - loss: 0.6292 - acc: 0.9864\n",
      "Epoch 3/6\n",
      "7/7 [==============================] - 0s 10ms/step - loss: 0.5186 - acc: 1.0000\n",
      "Epoch 4/6\n",
      "7/7 [==============================] - 0s 10ms/step - loss: 0.3494 - acc: 1.0000\n",
      "Epoch 5/6\n",
      "7/7 [==============================] - 0s 10ms/step - loss: 0.1690 - acc: 1.0000\n",
      "Epoch 6/6\n",
      "7/7 [==============================] - 0s 11ms/step - loss: 0.0570 - acc: 1.0000\n",
      "Predicting 204th label...\n"
     ]
    },
    {
     "name": "stderr",
     "output_type": "stream",
     "text": [
      "100%|███████████████████████████████████████████████████████████████████████████████████████████████████████████████████████████████████████████████████████████████████████████████████████████████████████| 313/313 [00:20<00:00, 15.61it/s]\n"
     ]
    },
    {
     "name": "stdout",
     "output_type": "stream",
     "text": [
      "\n",
      "205'th label prediction started\n",
      "count_one 81\n",
      "count_zero 81\n",
      "Epoch 1/6\n",
      "6/6 [==============================] - 1s 11ms/step - loss: 0.6946 - acc: 0.5185\n",
      "Epoch 2/6\n",
      "6/6 [==============================] - 0s 9ms/step - loss: 0.6107 - acc: 0.9877\n",
      "Epoch 3/6\n",
      "6/6 [==============================] - 0s 10ms/step - loss: 0.4962 - acc: 1.0000\n",
      "Epoch 4/6\n",
      "6/6 [==============================] - 0s 10ms/step - loss: 0.3322 - acc: 1.0000\n",
      "Epoch 5/6\n",
      "6/6 [==============================] - 0s 11ms/step - loss: 0.1711 - acc: 1.0000\n",
      "Epoch 6/6\n",
      "6/6 [==============================] - 0s 11ms/step - loss: 0.0661 - acc: 1.0000\n",
      "Predicting 205th label...\n"
     ]
    },
    {
     "name": "stderr",
     "output_type": "stream",
     "text": [
      "100%|███████████████████████████████████████████████████████████████████████████████████████████████████████████████████████████████████████████████████████████████████████████████████████████████████████| 313/313 [00:19<00:00, 16.24it/s]\n"
     ]
    },
    {
     "name": "stdout",
     "output_type": "stream",
     "text": [
      "\n",
      "206'th label prediction started\n",
      "count_one 114\n",
      "count_zero 114\n",
      "Epoch 1/6\n",
      "8/8 [==============================] - 1s 12ms/step - loss: 0.6957 - acc: 0.4868\n",
      "Epoch 2/6\n",
      "8/8 [==============================] - 0s 10ms/step - loss: 0.6267 - acc: 0.9781\n",
      "Epoch 3/6\n",
      "8/8 [==============================] - 0s 10ms/step - loss: 0.5219 - acc: 0.9956\n",
      "Epoch 4/6\n",
      "8/8 [==============================] - 0s 11ms/step - loss: 0.3483 - acc: 1.0000\n",
      "Epoch 5/6\n",
      "8/8 [==============================] - 0s 11ms/step - loss: 0.1651 - acc: 1.0000\n",
      "Epoch 6/6\n",
      "8/8 [==============================] - 0s 10ms/step - loss: 0.0556 - acc: 1.0000\n",
      "Predicting 206th label...\n"
     ]
    },
    {
     "name": "stderr",
     "output_type": "stream",
     "text": [
      "100%|███████████████████████████████████████████████████████████████████████████████████████████████████████████████████████████████████████████████████████████████████████████████████████████████████████| 313/313 [00:20<00:00, 15.37it/s]\n"
     ]
    },
    {
     "name": "stdout",
     "output_type": "stream",
     "text": [
      "\n",
      "207'th label prediction started\n",
      "count_one 71\n",
      "count_zero 71\n",
      "Epoch 1/6\n",
      "5/5 [==============================] - 1s 10ms/step - loss: 0.6933 - acc: 0.5000\n",
      "Epoch 2/6\n",
      "5/5 [==============================] - 0s 9ms/step - loss: 0.6229 - acc: 0.9859\n",
      "Epoch 3/6\n",
      "5/5 [==============================] - 0s 9ms/step - loss: 0.5315 - acc: 1.0000\n",
      "Epoch 4/6\n",
      "5/5 [==============================] - 0s 9ms/step - loss: 0.4027 - acc: 1.0000\n",
      "Epoch 5/6\n",
      "5/5 [==============================] - 0s 10ms/step - loss: 0.2476 - acc: 1.0000\n",
      "Epoch 6/6\n",
      "5/5 [==============================] - 0s 10ms/step - loss: 0.1188 - acc: 1.0000\n",
      "Predicting 207th label...\n"
     ]
    },
    {
     "name": "stderr",
     "output_type": "stream",
     "text": [
      "100%|███████████████████████████████████████████████████████████████████████████████████████████████████████████████████████████████████████████████████████████████████████████████████████████████████████| 313/313 [00:19<00:00, 16.43it/s]\n"
     ]
    },
    {
     "name": "stdout",
     "output_type": "stream",
     "text": [
      "\n",
      "208'th label prediction started\n",
      "count_one 97\n",
      "count_zero 97\n",
      "Epoch 1/6\n",
      "7/7 [==============================] - 1s 11ms/step - loss: 0.7190 - acc: 0.4897\n",
      "Epoch 2/6\n",
      "7/7 [==============================] - 0s 11ms/step - loss: 0.6291 - acc: 0.8041\n",
      "Epoch 3/6\n",
      "7/7 [==============================] - 0s 11ms/step - loss: 0.5479 - acc: 0.9948\n",
      "Epoch 4/6\n",
      "7/7 [==============================] - 0s 11ms/step - loss: 0.4055 - acc: 0.9897\n",
      "Epoch 5/6\n",
      "7/7 [==============================] - 0s 11ms/step - loss: 0.2427 - acc: 0.9948\n",
      "Epoch 6/6\n",
      "7/7 [==============================] - 0s 11ms/step - loss: 0.1145 - acc: 0.9897\n",
      "Predicting 208th label...\n"
     ]
    },
    {
     "name": "stderr",
     "output_type": "stream",
     "text": [
      "100%|███████████████████████████████████████████████████████████████████████████████████████████████████████████████████████████████████████████████████████████████████████████████████████████████████████| 313/313 [00:18<00:00, 16.66it/s]\n"
     ]
    },
    {
     "name": "stdout",
     "output_type": "stream",
     "text": [
      "\n",
      "209'th label prediction started\n",
      "count_one 75\n",
      "count_zero 75\n",
      "Epoch 1/6\n",
      "5/5 [==============================] - 1s 11ms/step - loss: 0.6912 - acc: 0.4867\n",
      "Epoch 2/6\n",
      "5/5 [==============================] - 0s 9ms/step - loss: 0.6250 - acc: 0.9733\n",
      "Epoch 3/6\n",
      "5/5 [==============================] - 0s 11ms/step - loss: 0.5303 - acc: 1.0000\n",
      "Epoch 4/6\n",
      "5/5 [==============================] - 0s 11ms/step - loss: 0.3860 - acc: 1.0000\n",
      "Epoch 5/6\n",
      "5/5 [==============================] - 0s 11ms/step - loss: 0.2264 - acc: 1.0000\n",
      "Epoch 6/6\n",
      "5/5 [==============================] - 0s 11ms/step - loss: 0.1028 - acc: 1.0000\n",
      "Predicting 209th label...\n"
     ]
    },
    {
     "name": "stderr",
     "output_type": "stream",
     "text": [
      "100%|███████████████████████████████████████████████████████████████████████████████████████████████████████████████████████████████████████████████████████████████████████████████████████████████████████| 313/313 [00:19<00:00, 16.20it/s]\n"
     ]
    },
    {
     "name": "stdout",
     "output_type": "stream",
     "text": [
      "\n",
      "210'th label prediction started\n",
      "count_one 77\n",
      "count_zero 77\n",
      "Epoch 1/6\n",
      "5/5 [==============================] - 1s 11ms/step - loss: 0.7014 - acc: 0.4935\n",
      "Epoch 2/6\n",
      "5/5 [==============================] - 0s 10ms/step - loss: 0.6382 - acc: 0.8896\n",
      "Epoch 3/6\n",
      "5/5 [==============================] - 0s 11ms/step - loss: 0.5773 - acc: 1.0000\n",
      "Epoch 4/6\n",
      "5/5 [==============================] - 0s 10ms/step - loss: 0.4847 - acc: 1.0000\n",
      "Epoch 5/6\n",
      "5/5 [==============================] - 0s 10ms/step - loss: 0.3591 - acc: 1.0000\n",
      "Epoch 6/6\n",
      "5/5 [==============================] - 0s 11ms/step - loss: 0.2261 - acc: 1.0000\n",
      "Predicting 210th label...\n"
     ]
    },
    {
     "name": "stderr",
     "output_type": "stream",
     "text": [
      "100%|███████████████████████████████████████████████████████████████████████████████████████████████████████████████████████████████████████████████████████████████████████████████████████████████████████| 313/313 [00:19<00:00, 16.42it/s]\n"
     ]
    },
    {
     "name": "stdout",
     "output_type": "stream",
     "text": [
      "\n",
      "211'th label prediction started\n",
      "count_one 114\n",
      "count_zero 114\n",
      "Epoch 1/6\n",
      "8/8 [==============================] - 1s 22ms/step - loss: 0.6949 - acc: 0.4825\n",
      "Epoch 2/6\n",
      "8/8 [==============================] - 0s 11ms/step - loss: 0.6191 - acc: 0.9868\n",
      "Epoch 3/6\n",
      "8/8 [==============================] - 0s 10ms/step - loss: 0.4920 - acc: 1.0000\n",
      "Epoch 4/6\n",
      "8/8 [==============================] - 0s 11ms/step - loss: 0.3039 - acc: 1.0000\n",
      "Epoch 5/6\n",
      "8/8 [==============================] - 0s 11ms/step - loss: 0.1286 - acc: 1.0000\n",
      "Epoch 6/6\n",
      "8/8 [==============================] - 0s 10ms/step - loss: 0.0415 - acc: 1.0000\n",
      "Predicting 211th label...\n"
     ]
    },
    {
     "name": "stderr",
     "output_type": "stream",
     "text": [
      "100%|███████████████████████████████████████████████████████████████████████████████████████████████████████████████████████████████████████████████████████████████████████████████████████████████████████| 313/313 [00:20<00:00, 15.48it/s]\n"
     ]
    },
    {
     "name": "stdout",
     "output_type": "stream",
     "text": [
      "\n",
      "212'th label prediction started\n",
      "count_one 82\n",
      "count_zero 82\n",
      "Epoch 1/6\n",
      "6/6 [==============================] - 1s 12ms/step - loss: 0.6975 - acc: 0.4207\n",
      "Epoch 2/6\n",
      "6/6 [==============================] - 0s 11ms/step - loss: 0.6412 - acc: 0.9695\n",
      "Epoch 3/6\n",
      "6/6 [==============================] - 0s 10ms/step - loss: 0.5667 - acc: 1.0000\n",
      "Epoch 4/6\n",
      "6/6 [==============================] - 0s 11ms/step - loss: 0.4485 - acc: 1.0000\n",
      "Epoch 5/6\n",
      "6/6 [==============================] - 0s 10ms/step - loss: 0.2991 - acc: 1.0000\n",
      "Epoch 6/6\n",
      "6/6 [==============================] - 0s 10ms/step - loss: 0.1599 - acc: 1.0000\n",
      "Predicting 212th label...\n"
     ]
    },
    {
     "name": "stderr",
     "output_type": "stream",
     "text": [
      "100%|███████████████████████████████████████████████████████████████████████████████████████████████████████████████████████████████████████████████████████████████████████████████████████████████████████| 313/313 [00:20<00:00, 15.16it/s]\n"
     ]
    },
    {
     "name": "stdout",
     "output_type": "stream",
     "text": [
      "\n",
      "213'th label prediction started\n",
      "count_one 63\n",
      "count_zero 63\n",
      "Epoch 1/6\n",
      "4/4 [==============================] - 3s 12ms/step - loss: 0.6966 - acc: 0.4762\n",
      "Epoch 2/6\n",
      "4/4 [==============================] - 0s 10ms/step - loss: 0.6432 - acc: 0.9683\n",
      "Epoch 3/6\n",
      "4/4 [==============================] - 0s 11ms/step - loss: 0.5814 - acc: 1.0000\n",
      "Epoch 4/6\n",
      "4/4 [==============================] - 0s 11ms/step - loss: 0.4928 - acc: 1.0000\n",
      "Epoch 5/6\n",
      "4/4 [==============================] - 0s 10ms/step - loss: 0.3763 - acc: 1.0000\n",
      "Epoch 6/6\n",
      "4/4 [==============================] - 0s 10ms/step - loss: 0.2526 - acc: 1.0000\n",
      "Predicting 213th label...\n"
     ]
    },
    {
     "name": "stderr",
     "output_type": "stream",
     "text": [
      "100%|███████████████████████████████████████████████████████████████████████████████████████████████████████████████████████████████████████████████████████████████████████████████████████████████████████| 313/313 [00:19<00:00, 16.03it/s]\n"
     ]
    },
    {
     "name": "stdout",
     "output_type": "stream",
     "text": [
      "\n",
      "214'th label prediction started\n",
      "count_one 145\n",
      "count_zero 145\n",
      "Epoch 1/6\n",
      "10/10 [==============================] - 1s 10ms/step - loss: 0.6943 - acc: 0.4483\n",
      "Epoch 2/6\n",
      "10/10 [==============================] - 0s 10ms/step - loss: 0.6257 - acc: 0.9931\n",
      "Epoch 3/6\n",
      "10/10 [==============================] - 0s 11ms/step - loss: 0.4948 - acc: 1.0000\n",
      "Epoch 4/6\n",
      "10/10 [==============================] - 0s 10ms/step - loss: 0.2788 - acc: 1.0000\n",
      "Epoch 5/6\n",
      "10/10 [==============================] - 0s 10ms/step - loss: 0.0958 - acc: 1.0000\n",
      "Epoch 6/6\n",
      "10/10 [==============================] - 0s 10ms/step - loss: 0.0250 - acc: 1.0000\n",
      "Predicting 214th label...\n"
     ]
    },
    {
     "name": "stderr",
     "output_type": "stream",
     "text": [
      "100%|███████████████████████████████████████████████████████████████████████████████████████████████████████████████████████████████████████████████████████████████████████████████████████████████████████| 313/313 [00:19<00:00, 16.32it/s]\n"
     ]
    },
    {
     "name": "stdout",
     "output_type": "stream",
     "text": [
      "\n",
      "215'th label prediction started\n",
      "count_one 89\n",
      "count_zero 89\n",
      "Epoch 1/6\n",
      "6/6 [==============================] - 1s 12ms/step - loss: 0.6945 - acc: 0.4888\n",
      "Epoch 2/6\n",
      "6/6 [==============================] - 0s 11ms/step - loss: 0.6404 - acc: 0.9663\n",
      "Epoch 3/6\n",
      "6/6 [==============================] - 0s 11ms/step - loss: 0.5481 - acc: 1.0000\n",
      "Epoch 4/6\n",
      "6/6 [==============================] - 0s 10ms/step - loss: 0.4037 - acc: 1.0000\n",
      "Epoch 5/6\n",
      "6/6 [==============================] - 0s 11ms/step - loss: 0.2274 - acc: 1.0000\n",
      "Epoch 6/6\n",
      "6/6 [==============================] - 0s 10ms/step - loss: 0.0970 - acc: 1.0000\n",
      "Predicting 215th label...\n"
     ]
    },
    {
     "name": "stderr",
     "output_type": "stream",
     "text": [
      "100%|███████████████████████████████████████████████████████████████████████████████████████████████████████████████████████████████████████████████████████████████████████████████████████████████████████| 313/313 [00:19<00:00, 15.75it/s]\n"
     ]
    },
    {
     "name": "stdout",
     "output_type": "stream",
     "text": [
      "\n",
      "216'th label prediction started\n",
      "count_one 111\n",
      "count_zero 111\n",
      "Epoch 1/6\n",
      "7/7 [==============================] - 1s 12ms/step - loss: 0.6957 - acc: 0.5045\n",
      "Epoch 2/6\n",
      "7/7 [==============================] - 0s 10ms/step - loss: 0.5856 - acc: 0.9910\n",
      "Epoch 3/6\n",
      "7/7 [==============================] - 0s 11ms/step - loss: 0.4185 - acc: 0.9955\n",
      "Epoch 4/6\n",
      "7/7 [==============================] - 0s 10ms/step - loss: 0.2140 - acc: 1.0000\n",
      "Epoch 5/6\n",
      "7/7 [==============================] - 0s 11ms/step - loss: 0.0791 - acc: 1.0000\n",
      "Epoch 6/6\n",
      "7/7 [==============================] - 0s 11ms/step - loss: 0.0266 - acc: 1.0000\n",
      "Predicting 216th label...\n"
     ]
    },
    {
     "name": "stderr",
     "output_type": "stream",
     "text": [
      "100%|███████████████████████████████████████████████████████████████████████████████████████████████████████████████████████████████████████████████████████████████████████████████████████████████████████| 313/313 [00:19<00:00, 15.67it/s]\n"
     ]
    },
    {
     "name": "stdout",
     "output_type": "stream",
     "text": [
      "\n",
      "217'th label prediction started\n",
      "count_one 87\n",
      "count_zero 87\n",
      "Epoch 1/6\n",
      "6/6 [==============================] - 1s 12ms/step - loss: 0.7007 - acc: 0.4713\n",
      "Epoch 2/6\n",
      "6/6 [==============================] - 0s 10ms/step - loss: 0.6124 - acc: 0.9713\n",
      "Epoch 3/6\n",
      "6/6 [==============================] - 0s 11ms/step - loss: 0.5139 - acc: 0.9943\n",
      "Epoch 4/6\n",
      "6/6 [==============================] - 0s 10ms/step - loss: 0.3604 - acc: 1.0000\n",
      "Epoch 5/6\n",
      "6/6 [==============================] - 0s 10ms/step - loss: 0.1985 - acc: 1.0000\n",
      "Epoch 6/6\n",
      "6/6 [==============================] - 0s 9ms/step - loss: 0.0862 - acc: 1.0000\n",
      "Predicting 217th label...\n"
     ]
    },
    {
     "name": "stderr",
     "output_type": "stream",
     "text": [
      "100%|███████████████████████████████████████████████████████████████████████████████████████████████████████████████████████████████████████████████████████████████████████████████████████████████████████| 313/313 [00:19<00:00, 15.96it/s]\n"
     ]
    },
    {
     "name": "stdout",
     "output_type": "stream",
     "text": [
      "\n",
      "218'th label prediction started\n",
      "count_one 108\n",
      "count_zero 108\n",
      "Epoch 1/6\n",
      "7/7 [==============================] - 1s 12ms/step - loss: 0.6940 - acc: 0.5231\n",
      "Epoch 2/6\n",
      "7/7 [==============================] - 0s 11ms/step - loss: 0.6200 - acc: 0.9954\n",
      "Epoch 3/6\n",
      "7/7 [==============================] - 0s 11ms/step - loss: 0.5033 - acc: 1.0000\n",
      "Epoch 4/6\n",
      "7/7 [==============================] - 0s 11ms/step - loss: 0.3226 - acc: 1.0000\n",
      "Epoch 5/6\n",
      "7/7 [==============================] - 0s 12ms/step - loss: 0.1470 - acc: 1.0000\n",
      "Epoch 6/6\n",
      "7/7 [==============================] - 0s 10ms/step - loss: 0.0462 - acc: 1.0000\n",
      "Predicting 218th label...\n"
     ]
    },
    {
     "name": "stderr",
     "output_type": "stream",
     "text": [
      "100%|███████████████████████████████████████████████████████████████████████████████████████████████████████████████████████████████████████████████████████████████████████████████████████████████████████| 313/313 [00:19<00:00, 16.17it/s]\n"
     ]
    },
    {
     "name": "stdout",
     "output_type": "stream",
     "text": [
      "\n",
      "219'th label prediction started\n",
      "count_one 63\n",
      "count_zero 63\n",
      "Epoch 1/6\n",
      "4/4 [==============================] - 1s 14ms/step - loss: 0.7108 - acc: 0.4286\n",
      "Epoch 2/6\n",
      "4/4 [==============================] - 0s 11ms/step - loss: 0.6364 - acc: 0.5317\n",
      "Epoch 3/6\n",
      "4/4 [==============================] - 0s 9ms/step - loss: 0.5619 - acc: 1.0000\n",
      "Epoch 4/6\n",
      "4/4 [==============================] - 0s 11ms/step - loss: 0.4646 - acc: 1.0000\n",
      "Epoch 5/6\n",
      "4/4 [==============================] - 0s 12ms/step - loss: 0.3434 - acc: 1.0000\n",
      "Epoch 6/6\n",
      "4/4 [==============================] - 0s 11ms/step - loss: 0.2273 - acc: 1.0000\n",
      "Predicting 219th label...\n"
     ]
    },
    {
     "name": "stderr",
     "output_type": "stream",
     "text": [
      "100%|███████████████████████████████████████████████████████████████████████████████████████████████████████████████████████████████████████████████████████████████████████████████████████████████████████| 313/313 [00:20<00:00, 15.09it/s]\n"
     ]
    },
    {
     "name": "stdout",
     "output_type": "stream",
     "text": [
      "\n",
      "220'th label prediction started\n",
      "count_one 62\n",
      "count_zero 62\n",
      "Epoch 1/6\n",
      "4/4 [==============================] - 1s 11ms/step - loss: 0.6942 - acc: 0.5484\n",
      "Epoch 2/6\n",
      "4/4 [==============================] - 0s 12ms/step - loss: 0.6318 - acc: 1.0000\n",
      "Epoch 3/6\n",
      "4/4 [==============================] - 0s 11ms/step - loss: 0.5544 - acc: 1.0000\n",
      "Epoch 4/6\n",
      "4/4 [==============================] - 0s 11ms/step - loss: 0.4430 - acc: 1.0000\n",
      "Epoch 5/6\n",
      "4/4 [==============================] - 0s 10ms/step - loss: 0.3131 - acc: 1.0000\n",
      "Epoch 6/6\n",
      "4/4 [==============================] - 0s 10ms/step - loss: 0.1859 - acc: 1.0000\n",
      "Predicting 220th label...\n"
     ]
    },
    {
     "name": "stderr",
     "output_type": "stream",
     "text": [
      "100%|███████████████████████████████████████████████████████████████████████████████████████████████████████████████████████████████████████████████████████████████████████████████████████████████████████| 313/313 [00:20<00:00, 15.42it/s]\n"
     ]
    }
   ],
   "source": [
    "import sys\n",
    "import os\n",
    "import nltk\n",
    "from nltk.corpus import reuters\n",
    "from sklearn.preprocessing import MultiLabelBinarizer\n",
    "import numpy as np\n",
    "import random\n",
    "import math\n",
    "from sklearn.metrics import accuracy_score\n",
    "from sklearn.metrics import precision_score\n",
    "from sklearn.metrics import recall_score\n",
    "from sklearn.metrics import f1_score\n",
    "from sklearn.metrics import precision_recall_fscore_support\n",
    "from sklearn.metrics import hamming_loss\n",
    "import statistics \n",
    "\n",
    "\n",
    "whole_predictions = []\n",
    "whole_real_predictions = []\n",
    "whole_threshold_predictions = []\n",
    "\n",
    "one=0\n",
    "\n",
    "#predict for each label individualy\n",
    "\n",
    "for i in range(len(y_list_train[0])):\n",
    "    print(\"\\n\" + str(i)+\"\\'th label prediction started\")\n",
    "    count_zero=0\n",
    "    count_one=0\n",
    "    new_label=[]\n",
    "    new_tokenized_data_train=[]\n",
    "    label = column(y_list_train,i)\n",
    "    count_one=sum(label)\n",
    "    print(\"count_one\",count_one)\n",
    "    \n",
    "    for k in range(len(label)):\n",
    "        if count_zero< count_one and label[k]==0:\n",
    "            new_label.append(0)\n",
    "            new_tokenized_data_train.append(tokenized_data_train[k])\n",
    "            count_zero=count_zero+1\n",
    "        if label[k]==1:\n",
    "            new_label.append(1)\n",
    "            new_tokenized_data_train.append(tokenized_data_train[k])\n",
    "\n",
    "            \n",
    "    print(\"count_zero\",count_zero)        \n",
    "    data_with_len = [[data,new_label[j],len(data)]\n",
    "                     for j,data in enumerate(new_tokenized_data_train)]\n",
    "\n",
    "    data_with_len.sort(key=lambda x: x[2])\n",
    "    sorted_data_labels = [(data_lab[0], data_lab[1]) for data_lab in data_with_len]\n",
    "    processed_dataset = tf.data.Dataset.from_generator(lambda: sorted_data_labels, output_types=(tf.int32, tf.int32))\n",
    "    BATCH_SIZE = 32\n",
    "    batched_dataset = processed_dataset.padded_batch(BATCH_SIZE, padded_shapes=((None, ), ()))\n",
    "    TOTAL_BATCHES = math.ceil(len(sorted_data_labels) / BATCH_SIZE)\n",
    "#     TEST_BATCHES = TOTAL_BATCHES // TOTAL_BATCHES\n",
    "#     batched_dataset.shuffle(TOTAL_BATCHES)\n",
    "#     test_data = batched_dataset.take(TEST_BATCHES)\n",
    "#     train_data = batched_dataset.skip(TEST_BATCHES)\n",
    "    train_data = batched_dataset\n",
    "    \n",
    "   \n",
    "    VOCAB_LENGTH = len(tokenizer.vocab)\n",
    "    EMB_DIM = 260\n",
    "    CNN_FILTERS = 50\n",
    "    DNN_UNITS = 256\n",
    "    OUTPUT_CLASSES = 2\n",
    "\n",
    "    DROPOUT_RATE = 0.2\n",
    "\n",
    "    NB_EPOCHS = 6\n",
    "\n",
    "    text_model = TEXT_MODEL(vocabulary_size=VOCAB_LENGTH,\n",
    "                        embedding_dimensions=EMB_DIM,\n",
    "                        cnn_filters=CNN_FILTERS,\n",
    "                        dnn_units=DNN_UNITS,\n",
    "                        model_output_classes=OUTPUT_CLASSES,\n",
    "                        dropout_rate=DROPOUT_RATE)\n",
    "\n",
    "    if OUTPUT_CLASSES == 2:\n",
    "        text_model.compile(loss=\"binary_crossentropy\",\n",
    "                           optimizer=\"adam\",\n",
    "                           metrics=[\"acc\"])\n",
    "    else:\n",
    "        text_model.compile(loss=\"sparse_categorical_crossentropy\",\n",
    "                           optimizer=\"adam\",\n",
    "                           metrics=[\"sparse_categorical_acc\"])\n",
    "\n",
    "    text_model.fit(train_data, epochs=NB_EPOCHS)\n",
    "\n",
    "    self_label_predictions = []\n",
    "    self_threshold_predictions = []\n",
    "    self_label_real_values = []\n",
    "    print(\"Predicting \" + str(i) + \"th label...\")\n",
    "    \n",
    "    for chunk in tqdm(list(chunks(tokenized_data_test, BATCH_SIZE))):\n",
    "#         if e%2==0:\n",
    "#             progress(e,len(tokenized_data_test))\n",
    "#         print(\"type(chunk[0]): {0}\".format(type(chunk[0])))\n",
    "    \n",
    "        processed_chunk_dataset = tf.data.Dataset.from_generator(lambda: chunk, output_types=(tf.int32))\n",
    "        batched_chunk_dataset = processed_chunk_dataset.padded_batch(BATCH_SIZE, padded_shapes=(None,))\n",
    "    \n",
    "        rows = text_model.predict(batched_chunk_dataset, batch_size=len(chunk))\n",
    "        for res in rows:\n",
    "            self_label_real_values.append(res[0])\n",
    "\n",
    "            if res[0] > 0.93:\n",
    "                self_threshold_predictions.append(res[0])\n",
    "            else :\n",
    "                self_threshold_predictions.append(0.0)\n",
    "\n",
    "    whole_threshold_predictions.append(self_threshold_predictions)\n",
    "    whole_real_predictions.append(self_label_real_values)\n"
   ]
  },
  {
   "cell_type": "code",
   "execution_count": null,
   "metadata": {
    "papermill": {
     "duration": null,
     "end_time": null,
     "exception": null,
     "start_time": null,
     "status": "pending"
    },
    "tags": []
   },
   "outputs": [],
   "source": [
    "whole_threshold_predictions = list(map(list, zip(*whole_threshold_predictions)))\n",
    "whole_real_predictions = list(map(list, zip(*whole_real_predictions)))\n",
    "\n",
    "\n",
    "\n",
    "\n",
    "        \n",
    "#@k Formulas :\n",
    "K_list= [3,5,10]\n",
    "for U in range(len(K_list)):\n",
    "    K_tag_y_list_test = []\n",
    "    k = K_list[U]\n",
    "    sigma_recalls = 0\n",
    "    sigma_precisions = 0\n",
    "    sigma_f1score = 0\n",
    "\n",
    "    K_tag_y_list_test = y_list_test\n",
    "    for f in tqdm(range(len(K_tag_y_list_test))):\n",
    "#         progress(f,len(K_tag_y_list_test))\n",
    "        currentitem = np.array(whole_threshold_predictions[f])\n",
    "\n",
    "        top_k_indexes = (-currentitem).argsort()[:k]\n",
    "        \n",
    "        for C in top_k_indexes:\n",
    "            if whole_threshold_predictions[f][C] == 0.0 :\n",
    "                top_k_indexes = top_k_indexes[top_k_indexes != C]\n",
    "      \n",
    "        intercep = 0\n",
    "        for numb in top_k_indexes:\n",
    "            if K_tag_y_list_test[f][numb] == 1 :\n",
    "                intercep += 1\n",
    "        num_of_exists_tags = np.count_nonzero(K_tag_y_list_test[f] == 1)\n",
    "\n",
    "        if len(top_k_indexes) == 0 :\n",
    "            self_recall_k=0\n",
    "        elif len(top_k_indexes) >= num_of_exists_tags :\n",
    "            self_recall_k = intercep / num_of_exists_tags\n",
    "        elif len(top_k_indexes) < num_of_exists_tags :\n",
    "            self_recall_k = intercep / len(top_k_indexes)\n",
    "        if len(top_k_indexes)==0:\n",
    "             self_precisions_k=0 \n",
    "        else:    \n",
    "            self_precisions_k = intercep / len(top_k_indexes)\n",
    "        if self_precisions_k==0 and self_recall_k==0:\n",
    "            self_f1_score_k=0\n",
    "        else:    \n",
    "            self_f1_score_k = 2 * ((self_precisions_k*self_recall_k)/(self_precisions_k+self_recall_k))\n",
    "        sigma_recalls += self_recall_k\n",
    "        sigma_precisions += self_precisions_k\n",
    "        sigma_f1score += self_f1_score_k\n",
    "\n",
    "    recall_k = sigma_recalls / len(K_tag_y_list_test)\n",
    "    precisions_k = sigma_precisions / len(K_tag_y_list_test)\n",
    "    f1score_k = sigma_f1score / len(K_tag_y_list_test)\n",
    "    print(\"\\n\")\n",
    "    print(\"Recall@\"+ str(K_list[U])+\" = \" + str(recall_k))\n",
    "    print(\"Precision@\"+ str(K_list[U])+\" = \" + str(precisions_k))\n",
    "    print(\"f1score@\"+ str(K_list[U])+\" = \" + str(f1score_k))"
   ]
  },
  {
   "cell_type": "code",
   "execution_count": 27,
   "metadata": {
    "papermill": {
     "duration": null,
     "end_time": null,
     "exception": null,
     "start_time": null,
     "status": "pending"
    },
    "tags": []
   },
   "outputs": [
    {
     "name": "stdout",
     "output_type": "stream",
     "text": [
      "Model: \"text_model\"\n",
      "_________________________________________________________________\n",
      "Layer (type)                 Output Shape              Param #   \n",
      "=================================================================\n",
      "embedding_6 (Embedding)      multiple                  7935720   \n",
      "_________________________________________________________________\n",
      "conv1d_18 (Conv1D)           multiple                  26050     \n",
      "_________________________________________________________________\n",
      "conv1d_19 (Conv1D)           multiple                  39050     \n",
      "_________________________________________________________________\n",
      "conv1d_20 (Conv1D)           multiple                  52050     \n",
      "_________________________________________________________________\n",
      "global_max_pooling1d_6 (Glob multiple                  0         \n",
      "_________________________________________________________________\n",
      "dense_12 (Dense)             multiple                  38656     \n",
      "_________________________________________________________________\n",
      "dropout_6 (Dropout)          multiple                  0         \n",
      "_________________________________________________________________\n",
      "dense_13 (Dense)             multiple                  257       \n",
      "=================================================================\n",
      "Total params: 8,091,783\n",
      "Trainable params: 8,091,783\n",
      "Non-trainable params: 0\n",
      "_________________________________________________________________\n"
     ]
    }
   ],
   "source": [
    "text_model.summary()"
   ]
  },
  {
   "cell_type": "code",
   "execution_count": null,
   "metadata": {},
   "outputs": [],
   "source": []
  }
 ],
 "metadata": {
  "kernelspec": {
   "display_name": "Python 3 (ipykernel)",
   "language": "python",
   "name": "python3"
  },
  "language_info": {
   "codemirror_mode": {
    "name": "ipython",
    "version": 3
   },
   "file_extension": ".py",
   "mimetype": "text/x-python",
   "name": "python",
   "nbconvert_exporter": "python",
   "pygments_lexer": "ipython3",
   "version": "3.7.3"
  },
  "papermill": {
   "duration": null,
   "end_time": null,
   "environment_variables": {},
   "exception": null,
   "input_path": "__notebook__.ipynb",
   "output_path": "__notebook__.ipynb",
   "parameters": {},
   "start_time": "2021-01-06T14:24:18.249969",
   "version": "1.2.1"
  }
 },
 "nbformat": 4,
 "nbformat_minor": 4
}
