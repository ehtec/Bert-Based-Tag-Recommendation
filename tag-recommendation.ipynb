{
 "cells": [
  {
   "cell_type": "code",
   "execution_count": 1,
   "metadata": {
    "_cell_guid": "b1076dfc-b9ad-4769-8c92-a6c4dae69d19",
    "_uuid": "8f2839f25d086af736a60e9eeb907d3b93b6e0e5",
    "papermill": {
     "duration": 0.02462,
     "end_time": "2021-01-06T14:24:23.259454",
     "exception": false,
     "start_time": "2021-01-06T14:24:23.234834",
     "status": "completed"
    },
    "tags": []
   },
   "outputs": [],
   "source": [
    "# This Python 3 environment comes with many helpful analytics libraries installed\n",
    "# It is defined by the kaggle/python Docker image: https://github.com/kaggle/docker-python\n",
    "# For example, here's several helpful packages to load\n",
    "\n",
    "import numpy as np # linear algebra\n",
    "import pandas as pd # data processing, CSV file I/O (e.g. pd.read_csv)\n",
    "\n",
    "# Input data files are available in the read-only \"../input/\" directory\n",
    "# For example, running this (by clicking run or pressing Shift+Enter) will list all files under the input directory\n",
    "\n",
    "import os\n",
    "# for dirname, _, filenames in os.walk('/kaggle/input'):\n",
    "#     for filename in filenames:\n",
    "#         print(os.path.join(dirname, filename))\n",
    "\n",
    "# You can write up to 5GB to the current directory (/kaggle/working/) that gets preserved as output when you create a version using \"Save & Run All\" \n",
    "# You can also write temporary files to /kaggle/temp/, but they won't be saved outside of the current session\n",
    "from tqdm.auto import tqdm\n",
    "import copy"
   ]
  },
  {
   "cell_type": "code",
   "execution_count": 2,
   "metadata": {
    "_cell_guid": "79c7e3d0-c299-4dcb-8224-4455121ee9b0",
    "_uuid": "d629ff2d2480ee46fbb7e2d37f6b5fab8052498a",
    "papermill": {
     "duration": null,
     "end_time": null,
     "exception": false,
     "start_time": "2021-01-06T14:24:23.272653",
     "status": "running"
    },
    "tags": []
   },
   "outputs": [],
   "source": [
    "# pip install bert-tensorflow\n",
    "# Do not install this"
   ]
  },
  {
   "cell_type": "code",
   "execution_count": 3,
   "metadata": {
    "papermill": {
     "duration": null,
     "end_time": null,
     "exception": null,
     "start_time": null,
     "status": "pending"
    },
    "tags": []
   },
   "outputs": [],
   "source": [
    "# pip install bert-for-tf2\n",
    "# already installed"
   ]
  },
  {
   "cell_type": "code",
   "execution_count": 4,
   "metadata": {
    "papermill": {
     "duration": null,
     "end_time": null,
     "exception": null,
     "start_time": null,
     "status": "pending"
    },
    "tags": []
   },
   "outputs": [],
   "source": [
    "# pip install sentencepiece\n",
    "# already installed"
   ]
  },
  {
   "cell_type": "code",
   "execution_count": 5,
   "metadata": {
    "papermill": {
     "duration": null,
     "end_time": null,
     "exception": null,
     "start_time": null,
     "status": "pending"
    },
    "tags": []
   },
   "outputs": [],
   "source": [
    "try:\n",
    "    %tensorflow_version 2.x\n",
    "except Exception:\n",
    "    pass\n",
    "import tensorflow as tf\n",
    "\n",
    "import tensorflow_hub as hub\n",
    "\n",
    "from tensorflow.keras import layers\n",
    "import bert"
   ]
  },
  {
   "cell_type": "code",
   "execution_count": 6,
   "metadata": {
    "papermill": {
     "duration": null,
     "end_time": null,
     "exception": null,
     "start_time": null,
     "status": "pending"
    },
    "tags": []
   },
   "outputs": [],
   "source": [
    "import os\n",
    "os.environ['TF_CPP_MIN_LOG_LEVEL'] = '3'\n",
    "import gc\n",
    "import os\n",
    "import numpy as np\n",
    "import collections\n",
    "from sklearn.metrics import confusion_matrix\n",
    "from sklearn.metrics import accuracy_score\n",
    "from sklearn.metrics import precision_recall_fscore_support\n",
    "from keras.callbacks import ModelCheckpoint\n",
    "import random"
   ]
  },
  {
   "cell_type": "code",
   "execution_count": 7,
   "metadata": {},
   "outputs": [],
   "source": [
    "# generator to split list into chunks\n",
    "def chunks(lst, n):\n",
    "    if not n:\n",
    "        raise Exception(\"n must be a positive integer\")\n",
    "\n",
    "    for i in range(0, len(lst), n):\n",
    "        yield lst[i:i + n]\n"
   ]
  },
  {
   "cell_type": "code",
   "execution_count": 8,
   "metadata": {
    "papermill": {
     "duration": null,
     "end_time": null,
     "exception": null,
     "start_time": null,
     "status": "pending"
    },
    "tags": []
   },
   "outputs": [],
   "source": [
    "def transliterate(line):\n",
    "    cedilla2latin = [[u'Á', u'A'], [u'á', u'a'], [u'Č', u'C'], [u'č', u'c'], [u'Š', u'S'], [u'š', u's']]\n",
    "    tr = dict([(a[0], a[1]) for (a) in cedilla2latin])\n",
    "    new_line = \"\"\n",
    "    for letter in line:\n",
    "        if letter in tr:\n",
    "            new_line += tr[letter]\n",
    "        else:\n",
    "            new_line += letter\n",
    "    return new_line"
   ]
  },
  {
   "cell_type": "code",
   "execution_count": 9,
   "metadata": {
    "papermill": {
     "duration": null,
     "end_time": null,
     "exception": null,
     "start_time": null,
     "status": "pending"
    },
    "tags": []
   },
   "outputs": [],
   "source": [
    "def text_cleaner(text,\n",
    "                 deep_clean=True,\n",
    "                 stem= True,\n",
    "                 stop_words=True,\n",
    "                 translite_rate=True):\n",
    "    rules = [\n",
    "        {r'>\\s+': u'>'},  # remove spaces after a tag opens or closes\n",
    "        {r'\\s+': u' '},  # replace consecutive spaces\n",
    "        {r'\\s*<br\\s*/?>\\s*': u'\\n'},  # newline after a <br>\n",
    "        {r'</(div)\\s*>\\s*': u'\\n'},  # newline after </p> and </div> and <h1/>...\n",
    "        {r'</(p|h\\d)\\s*>\\s*': u'\\n\\n'},  # newline after </p> and </div> and <h1/>...\n",
    "        {r'<head>.*<\\s*(/head|body)[^>]*>': u''},  # remove <head> to </head>\n",
    "        {r'<a\\s+href=\"([^\"]+)\"[^>]*>.*</a>': r'\\1'},  # show links instead of texts\n",
    "        {r'[ \\t]*<[^<]*?/?>': u''},  # remove remaining tags\n",
    "        {r'^\\s+': u''}  # remove spaces at the beginning\n",
    "\n",
    "    ]\n",
    "\n",
    "    if deep_clean:\n",
    "        text = text.replace(\".\", \"\")\n",
    "        text = text.replace(\"[\", \" \")\n",
    "        text = text.replace(\",\", \" \")\n",
    "        text = text.replace(\"]\", \" \")\n",
    "        text = text.replace(\"(\", \" \")\n",
    "        text = text.replace(\")\", \" \")\n",
    "        text = text.replace(\"\\\"\", \"\")\n",
    "        text = text.replace(\"-\", \" \")\n",
    "        text = text.replace(\"=\", \" \")\n",
    "        text = text.replace(\"?\", \" \")\n",
    "        text = text.replace(\"!\", \" \")\n",
    "\n",
    "        for rule in rules:\n",
    "            for (k, v) in rule.items():\n",
    "                regex = re.compile(k)\n",
    "                text = regex.sub(v, text)\n",
    "            text = text.rstrip()\n",
    "            text = text.strip()\n",
    "        text = text.replace('+', ' ').replace('.', ' ').replace(',', ' ').replace(':', ' ')\n",
    "        text = re.sub(\"(^|\\W)\\d+($|\\W)\", \" \", text)\n",
    "        if translite_rate:\n",
    "            text = transliterate(text)\n",
    "        if stem:\n",
    "            text = PorterStemmer().stem(text)\n",
    "        text = WordNetLemmatizer().lemmatize(text)\n",
    "        if stop_words:\n",
    "            stop_words = set(stopwords.words('english'))\n",
    "            word_tokens = word_tokenize(text)\n",
    "            text = [w for w in word_tokens if not w in stop_words]\n",
    "            text = ' '.join(str(e) for e in text)\n",
    "    else:\n",
    "        for rule in rules:\n",
    "            for (k, v) in rule.items():\n",
    "                regex = re.compile(k)\n",
    "                text = regex.sub(v, text)\n",
    "            text = text.rstrip()\n",
    "            text = text.strip()\n",
    "    return text.lower()"
   ]
  },
  {
   "cell_type": "code",
   "execution_count": 10,
   "metadata": {
    "papermill": {
     "duration": null,
     "end_time": null,
     "exception": null,
     "start_time": null,
     "status": "pending"
    },
    "tags": []
   },
   "outputs": [],
   "source": [
    "#make pre-train for bert\n",
    "BertTokenizer = bert.bert_tokenization.FullTokenizer\n",
    "bert_layer = hub.KerasLayer(\"https://tfhub.dev/tensorflow/bert_en_uncased_L-12_H-768_A-12/1\",\n",
    "                            trainable=False)\n",
    "vocabulary_file = bert_layer.resolved_object.vocab_file.asset_path.numpy()\n",
    "to_lower_case = bert_layer.resolved_object.do_lower_case.numpy()\n",
    "tokenizer = BertTokenizer(vocabulary_file, to_lower_case)"
   ]
  },
  {
   "cell_type": "code",
   "execution_count": 11,
   "metadata": {
    "papermill": {
     "duration": null,
     "end_time": null,
     "exception": null,
     "start_time": null,
     "status": "pending"
    },
    "tags": []
   },
   "outputs": [
    {
     "name": "stderr",
     "output_type": "stream",
     "text": [
      "[nltk_data] Downloading package stopwords to /home/elias/nltk_data...\n",
      "[nltk_data]   Package stopwords is already up-to-date!\n",
      "/home/elias/.local/lib/python3.7/site-packages/sklearn/utils/deprecation.py:87: FutureWarning: Function get_feature_names is deprecated; get_feature_names is deprecated in 1.0 and will be removed in 1.2. Please use get_feature_names_out instead.\n",
      "  warnings.warn(msg, category=FutureWarning)\n"
     ]
    },
    {
     "name": "stdout",
     "output_type": "stream",
     "text": [
      "                                 tag  Counts\n",
      "0         (devexpress-codegenerator)       1\n",
      "1                               *bsd       1\n",
      "2      .jrxml-specifications-support       1\n",
      "3                               .net      29\n",
      "4  .net-client-profile-compatibility       1\n",
      "                       tag  Counts\n",
      "7395  software-development    9655\n",
      "3790              internet    8171\n",
      "8594                   web    6316\n",
      "4277             libraries    5758\n",
      "5111            multimedia    4833\n",
      "...                    ...     ...\n",
      "304              animation      52\n",
      "8508                  voip      51\n",
      "5738         page-counters      51\n",
      "528         authentication      51\n",
      "5777                parser      51\n",
      "\n",
      "[273 rows x 2 columns] tags are used more than 80 times\n",
      "most_common_tag: 220\n",
      "most_occurs [('Systems-Administration', 1844), ('Information-Management', 1349), ('Issue-Tracking', 197), ('PHP', 491), ('php-classes', 824), ('Security', 1978), ('LDAP', 92), ('SQL', 85), ('Operating-Systems', 492), ('Monitoring', 1875), ('Software-Development', 9655), ('Internet', 8171), ('FTP', 375), ('Mirroring', 107), ('Web', 6316), ('Web-Application', 106), ('Communications', 4478), ('Telephony', 303), ('Office/Business', 1878), ('Point-Of-Sale', 113), ('Game', 185), ('Database', 2215), ('MySQL', 135), ('Desktop-Environment', 2372), ('Terminals', 333), ('Terminal-Emulators/X-Terminals', 125), ('Site-Management', 1360), ('Log-Analysis', 384), ('Libraries', 5758), ('Benchmark', 129), ('Logging', 484), ('Networking', 2841), ('Utilities', 3315), ('PDF', 88), ('Java', 463), ('Embedded-Systems', 272), ('C++', 96), ('Library', 306), ('Interpreters', 475), ('Command-Line', 103), ('Scientific/Engineering', 2687), ('Version-Control', 423), ('C', 103), ('Email', 1668), ('Filters', 636), ('Dynamic-Content', 3232), ('CGI-Tools/Libraries', 795), ('groupware', 389), ('Scheduling', 423), ('Office-Suites', 116), ('News/Diary', 345), ('GPL', 1450), ('Address-Book', 112), ('Front-Ends', 796), ('Email-Clients-(MUA)', 243), ('Workflow-Frameworks', 132), ('multimedia', 4833), ('Sound/Audio', 2106), ('Players', 691), ('MP3', 450), ('HTML', 106), ('Testing', 731), ('Archiving', 949), ('Network', 155), ('Server', 96), ('Linux', 632), ('Windows', 118), ('Financial', 593), ('Accounting', 247), ('Games/Entertainment', 2545), ('Role-Playing', 281), ('Real-Time-Strategy', 102), ('MIDI', 163), ('music', 108), ('Visualization', 652), ('POSIX', 180), ('Debuggers', 286), ('Integrated-Development-Environments-(IDE)', 189), ('Home-Automation', 126), ('Artificial-Intelligence', 350), ('HTTP-Servers', 594), ('Markup', 1196), ('XML', 710), ('Object-Brokering', 153), ('Java-Libraries', 1153), ('Clustering/Distributed-Networks', 356), ('Document-Repositories', 283), ('Python-Modules', 503), ('Hardware', 503), ('Database-Engines/Servers', 379), ('Build-Tools', 520), ('Quality-Assurance', 372), ('Firewalls', 473), ('Cryptography', 609), ('Proxy-Servers', 268), ('Compilers', 502), ('Python', 238), ('Compression', 201), ('Packaging', 163), ('backup', 455), ('DNS', 272), ('Application-Frameworks', 779), ('API', 314), ('Installation/Setup', 411), ('Software-Distribution', 241), ('Software-Distribution-Tools', 231), ('Astronomy', 163), ('Simulation', 252), ('Puzzle-Games', 407), ('Graphics', 2281), ('GUI', 101), ('Games', 120), ('Text-Processing', 2142), ('Medical-Science', 150), ('CMS', 152), ('Wiki', 157), ('GPLv3', 107), ('Linux-Distributions', 307), ('education', 1015), ('Emulators', 233), ('Unix', 85), ('IMAP', 152), ('CD-Audio', 237), ('CD-Writing', 80), ('CD-Ripping', 104), ('Boot', 200), ('Mathematics', 661), ('Chat', 1006), ('Diagnostics', 176), ('CRM', 83), ('File-Sharing', 556), ('Recovery-Tools', 149), ('Bioinformatics', 228), ('tools', 346), ('GNOME', 640), ('POP3', 193), ('User-Interfaces', 465), ('Code-Generators', 642), ('Browsers', 325), ('Filesystems', 466), ('Usenet-News', 160), ('IRC', 452), ('HTML/XHTML', 417), ('Electronic-Design-Automation-(EDA)', 128), ('Editors', 407), ('fonts', 109), ('Indexing', 121), ('php-class', 134), ('Shells', 207), ('File-Managers', 210), ('Metadata/Semantic-Models', 121), ('Records-Management', 205), ('Post-Office', 265), ('First-Person-Shooters', 121), ('Arcade', 402), ('Development', 122), ('Window-Manager', 412), ('Text-Editors', 635), ('CVS', 131), ('JavaScript', 149), ('Perl-Modules', 369), ('Widget-Sets', 305), ('GPLv2', 103), ('Analysis', 169), ('KDE', 421), ('framework', 198), ('Documentation', 508), ('Indexing/Search', 441), ('Applets', 149), ('Video', 825), ('Physics', 110), ('Linguistic', 194), ('General', 165), ('Other/Nonlisted-Topic', 271), ('Viewers', 450), ('Bug-Tracking', 192), ('Capture', 311), ('Conferencing', 171), ('Computer-Aided-Instruction-(CAI)', 137), ('Perl', 104), ('Display', 188), ('Presentation', 362), ('printing', 260), ('Conversion', 338), ('Graphics-Conversion', 283), ('LGPL', 189), ('Geographical', 151), ('3D-Rendering', 292), ('Operating-System-Kernels', 420), ('Vector-Based', 85), ('Message-Boards', 232), ('Audio', 120), ('TeX/LaTeX', 141), ('3D-Modeling', 169), ('Mail-Transport-Agents', 234), ('Turn-Based-Strategy', 249), ('Speech', 94), ('Word-Processors', 81), ('Chemistry', 122), ('CD-Based', 114), ('Localization', 87), ('Mailing-List-Servers', 94), ('Freeware', 102), ('Link-Checking', 103), ('Capture/Recording', 139), ('Subversion', 100), ('mud', 142), ('Emacs', 89), ('XSL/XSLT', 123), ('Ham-Radio', 91), ('Internationalization', 102), ('Internet-Phone', 142), ('BSD-Original', 99), ('Digital-Camera', 93), ('Artistic-Software', 183), ('Sound-Synthesis', 112), ('Window-Maker', 148), ('Ruby-Modules', 113), ('BBS', 128), ('GNUstep', 85), ('AOL-Instant-Messenger', 83)]\n",
      "Number of data points in training data : 32845\n",
      "Number of data points in test data : 10000\n"
     ]
    }
   ],
   "source": [
    "import pandas as pd\n",
    "from bs4 import BeautifulSoup as bs\n",
    "from collections import Counter\n",
    "from nltk.stem import PorterStemmer, WordNetLemmatizer\n",
    "import numpy as np\n",
    "import re\n",
    "from sklearn.feature_extraction.text import TfidfVectorizer, CountVectorizer\n",
    "from keras.preprocessing.text import Tokenizer\n",
    "from keras.preprocessing.sequence import pad_sequences\n",
    "import numpy as np\n",
    "import nltk\n",
    "from nltk import word_tokenize\n",
    "from nltk.corpus import stopwords\n",
    "import re\n",
    "from nltk.stem import PorterStemmer, WordNetLemmatizer\n",
    "nltk.download(\"stopwords\")\n",
    "cachedStopWords = stopwords.words(\"english\")\n",
    "from sklearn.model_selection import train_test_split\n",
    "\n",
    "\n",
    "#Function to convert html body of data to text\n",
    "def convert_html_to_text(data):\n",
    "    soup = bs(data,'html.parser')\n",
    "    body = soup.get_text()\n",
    "    return body\n",
    "\n",
    "#Prepare data\n",
    "mytrain = pd.read_csv(\"../freecode_data.csv\")\n",
    "\n",
    "#print(mytrain['Tags'])\n",
    "\n",
    "mytrain['Title'] = mytrain['title'].apply(text_cleaner)\n",
    "\n",
    "mytrain['Body'] = mytrain['question'].apply(text_cleaner)\n",
    "\n",
    "mytrain['Text'] = mytrain['Title'] + \"\\n\" + mytrain['Body']\n",
    "\n",
    "\n",
    "\n",
    "\n",
    "#Frequency of each tag\n",
    "\n",
    "vectorizer = CountVectorizer(tokenizer = lambda x: x.split())\n",
    "tag_bow = vectorizer.fit_transform(mytrain['tag'])\n",
    "\n",
    "tags = vectorizer.get_feature_names()\n",
    "\n",
    "freq = tag_bow.sum(axis=0).A1\n",
    "tag_to_count_map = dict(zip(tags, freq))\n",
    "\n",
    "lst = []\n",
    "for key, value in tag_to_count_map.items():\n",
    "  lst.append([key, value]) \n",
    "\n",
    "\n",
    "tag_df = pd.DataFrame(lst, columns=['tag', 'Counts'])\n",
    "print(tag_df.head())\n",
    "\n",
    "tag_df_sorted = tag_df.sort_values(['Counts'], ascending=False)\n",
    "\n",
    "\n",
    "print(\"{} tags are used more than 80 times\".format(tag_df_sorted[tag_df_sorted[\"Counts\"]>50]))\n",
    "\n",
    "\n",
    "\n",
    "most_common_tag = tag_df_sorted[tag_df_sorted[\"Counts\"]>80].shape[0]\n",
    "\n",
    "print(\"most_common_tag:\",most_common_tag)\n",
    "\n",
    "\n",
    "X = mytrain['Text'].tolist()\n",
    "#print(X[7])\n",
    "\n",
    "\n",
    "#prepare tags\n",
    "list_of_tags = []\n",
    "for item in mytrain['tag']:\n",
    "    temp = item.split(\" \")\n",
    "    for word in temp:\n",
    "        if not word in list_of_tags:\n",
    "            list_of_tags.append(word)\n",
    "            \n",
    "\n",
    "list_of_all_tags = []\n",
    "for item in mytrain['tag']:\n",
    "    temp = item.split(\" \")\n",
    "    for word in temp:\n",
    "        list_of_all_tags.append(word)\n",
    "\n",
    "\n",
    "counts = Counter(list_of_all_tags)\n",
    "\n",
    "most_occurs = [(k, v) for k, v in counts.items() if v >= 80] # todo: check this with Navid\n",
    "print(\"most_occurs\", most_occurs)\n",
    "\n",
    "tags = []\n",
    "for item in most_occurs:\n",
    "    tags.append(item[0])\n",
    "    #print(\"tags:\",tags)\n",
    "\n",
    "\n",
    "\n",
    "#print(\"tags:\",tags)\n",
    "y = []\n",
    "S=0\n",
    "for item in mytrain['tag']:\n",
    "    self_tags = []\n",
    "    itemsplitted = item.split(\" \")\n",
    "    \n",
    "    for word in tags:\n",
    "        if word in itemsplitted:\n",
    "            self_tags.append(1)\n",
    "        else:\n",
    "            self_tags.append(0)\n",
    "    \n",
    "    values = np.array(self_tags)\n",
    "    \n",
    "    Y=all(values == 0)\n",
    "    if Y==True:\n",
    "        \n",
    "        del X[S]\n",
    "        S=S-1\n",
    "    else:\n",
    "        y.append(np.array(self_tags))\n",
    "    S=S+1    \n",
    "    \n",
    "\n",
    "y_list = []\n",
    "for elem in y:\n",
    "    y_list.append(elem.tolist())\n",
    "    \n",
    "def tokenize_data(data):\n",
    "    return tokenizer.convert_tokens_to_ids(tokenizer.tokenize(data))\n",
    "\n",
    "\n",
    "\n",
    "tokenized_data = [tokenize_data(data) for data in X]\n",
    "\n",
    "\n",
    "tokenized_data_train,tokenized_data_test,y_list_train, y_list_test = train_test_split(tokenized_data, y_list, test_size = 10000,random_state = 42)\n",
    "print(\"Number of data points in training data :\", len(tokenized_data_train))\n",
    "print(\"Number of data points in test data :\", len(tokenized_data_test))\n",
    "\n",
    "for c,item in enumerate(y_list_test):\n",
    "    y_list_test[c] = np.array(item)"
   ]
  },
  {
   "cell_type": "code",
   "execution_count": null,
   "metadata": {
    "papermill": {
     "duration": null,
     "end_time": null,
     "exception": null,
     "start_time": null,
     "status": "pending"
    },
    "tags": []
   },
   "outputs": [],
   "source": []
  },
  {
   "cell_type": "code",
   "execution_count": null,
   "metadata": {
    "papermill": {
     "duration": null,
     "end_time": null,
     "exception": null,
     "start_time": null,
     "status": "pending"
    },
    "tags": []
   },
   "outputs": [],
   "source": []
  },
  {
   "cell_type": "code",
   "execution_count": 12,
   "metadata": {
    "papermill": {
     "duration": null,
     "end_time": null,
     "exception": null,
     "start_time": null,
     "status": "pending"
    },
    "tags": []
   },
   "outputs": [],
   "source": [
    "def column(matrix, i):\n",
    "    return [row[i] for row in matrix]"
   ]
  },
  {
   "cell_type": "code",
   "execution_count": 13,
   "metadata": {
    "papermill": {
     "duration": null,
     "end_time": null,
     "exception": null,
     "start_time": null,
     "status": "pending"
    },
    "tags": []
   },
   "outputs": [],
   "source": [
    "#Function to show progress in consule :)\n",
    "def progress(count, total, status=''):\n",
    "    bar_len = 60\n",
    "    filled_len = int(round(bar_len * count / float(total)))\n",
    "\n",
    "    percents = round(100.0 * count / float(total), 1)\n",
    "    bar = '=' * filled_len + '-' * (bar_len - filled_len)\n",
    "\n",
    "    sys.stdout.write('[%s] %s%s ...%s\\r' % (bar, percents, '%', status))\n",
    "    sys.stdout.flush()"
   ]
  },
  {
   "cell_type": "code",
   "execution_count": 14,
   "metadata": {
    "papermill": {
     "duration": null,
     "end_time": null,
     "exception": null,
     "start_time": null,
     "status": "pending"
    },
    "tags": []
   },
   "outputs": [],
   "source": [
    "#bert text model\n",
    "class TEXT_MODEL(tf.keras.Model):\n",
    "    \n",
    "    def __init__(self,\n",
    "                 vocabulary_size,\n",
    "                 embedding_dimensions=128,\n",
    "                 cnn_filters=50,\n",
    "                 dnn_units=512,\n",
    "                 model_output_classes=2,\n",
    "                 dropout_rate=0.1,\n",
    "                 training=False,\n",
    "                 name=\"text_model\"):\n",
    "        super(TEXT_MODEL, self).__init__(name=name)\n",
    "        \n",
    "        self.embedding = layers.Embedding(vocabulary_size,\n",
    "                                          embedding_dimensions)\n",
    "        self.cnn_layer1 = layers.Conv1D(filters=cnn_filters,\n",
    "                                        kernel_size=2,\n",
    "                                        padding=\"valid\",\n",
    "                                        activation=\"relu\")\n",
    "        self.cnn_layer2 = layers.Conv1D(filters=cnn_filters,\n",
    "                                        kernel_size=3,\n",
    "                                        padding=\"valid\",\n",
    "                                        activation=\"relu\")\n",
    "        self.cnn_layer3 = layers.Conv1D(filters=cnn_filters,\n",
    "                                        kernel_size=4,\n",
    "                                        padding=\"valid\",\n",
    "                                        activation=\"relu\")\n",
    "\n",
    "                                    \n",
    "            \n",
    "\n",
    "        self.pool = layers.GlobalMaxPool1D()\n",
    "        \n",
    "        self.dense_1 = layers.Dense(units=dnn_units, activation=\"relu\")\n",
    "        self.dropout = layers.Dropout(rate=dropout_rate)\n",
    "        if model_output_classes == 2:\n",
    "            self.last_dense = layers.Dense(units=1,\n",
    "                                           activation=\"sigmoid\")\n",
    "        else:\n",
    "            self.last_dense = layers.Dense(units=model_output_classes,\n",
    "                                           activation=\"softmax\")\n",
    "    \n",
    "    def call(self, inputs, training):\n",
    "        l = self.embedding(inputs)\n",
    "        l_1 = self.cnn_layer1(l) \n",
    "        l_1 = self.pool(l_1) \n",
    "        l_2 = self.cnn_layer2(l) \n",
    "        l_2 = self.pool(l_2)\n",
    "        l_3 = self.cnn_layer3(l)\n",
    "        l_3 = self.pool(l_3) \n",
    "\n",
    "\n",
    "        \n",
    "        concatenated = tf.concat([l_1, l_2, l_3], axis=-1) # (batch_size, 3 * cnn_filters)\n",
    "        concatenated = self.dense_1(concatenated)\n",
    "        concatenated = self.dropout(concatenated, training)\n",
    "        model_output = self.last_dense(concatenated)\n",
    "        \n",
    "        return model_output"
   ]
  },
  {
   "cell_type": "code",
   "execution_count": 15,
   "metadata": {
    "papermill": {
     "duration": null,
     "end_time": null,
     "exception": null,
     "start_time": null,
     "status": "pending"
    },
    "tags": []
   },
   "outputs": [
    {
     "name": "stdout",
     "output_type": "stream",
     "text": [
      "\n",
      "0'th label prediction started\n",
      "count_one 1424\n",
      "count_zero 1424\n",
      "Epoch 1/6\n",
      "89/89 [==============================] - 14s 121ms/step - loss: 0.6541 - acc: 0.6538\n",
      "Epoch 2/6\n",
      "89/89 [==============================] - 1s 11ms/step - loss: 0.3085 - acc: 0.8722\n",
      "Epoch 3/6\n",
      "89/89 [==============================] - 1s 10ms/step - loss: 0.0695 - acc: 0.9807\n",
      "Epoch 4/6\n",
      "89/89 [==============================] - 1s 10ms/step - loss: 0.0131 - acc: 0.9979\n",
      "Epoch 5/6\n",
      "89/89 [==============================] - 1s 11ms/step - loss: 0.0034 - acc: 1.0000\n",
      "Epoch 6/6\n",
      "89/89 [==============================] - 1s 11ms/step - loss: 0.0015 - acc: 1.0000\n",
      "Predicting 0th label...\n"
     ]
    },
    {
     "data": {
      "application/vnd.jupyter.widget-view+json": {
       "model_id": "e416108171ad43608f739587180f3d36",
       "version_major": 2,
       "version_minor": 0
      },
      "text/plain": [
       "  0%|          | 0/20 [00:00<?, ?it/s]"
      ]
     },
     "metadata": {},
     "output_type": "display_data"
    },
    {
     "name": "stdout",
     "output_type": "stream",
     "text": [
      "\n",
      "1'th label prediction started\n",
      "count_one 1023\n",
      "count_zero 1023\n",
      "Epoch 1/6\n",
      "64/64 [==============================] - 3s 33ms/step - loss: 0.6529 - acc: 0.6369\n",
      "Epoch 2/6\n",
      "64/64 [==============================] - 1s 11ms/step - loss: 0.3949 - acc: 0.8216\n",
      "Epoch 3/6\n",
      "64/64 [==============================] - 1s 10ms/step - loss: 0.0997 - acc: 0.9765\n",
      "Epoch 4/6\n",
      "64/64 [==============================] - 1s 11ms/step - loss: 0.0302 - acc: 0.9961\n",
      "Epoch 5/6\n",
      "64/64 [==============================] - 1s 11ms/step - loss: 0.0114 - acc: 0.9985\n",
      "Epoch 6/6\n",
      "64/64 [==============================] - 1s 11ms/step - loss: 0.0021 - acc: 1.0000\n",
      "Predicting 1th label...\n"
     ]
    },
    {
     "data": {
      "application/vnd.jupyter.widget-view+json": {
       "model_id": "3e1e213129634040bc87a6762c6ab324",
       "version_major": 2,
       "version_minor": 0
      },
      "text/plain": [
       "  0%|          | 0/20 [00:00<?, ?it/s]"
      ]
     },
     "metadata": {},
     "output_type": "display_data"
    },
    {
     "name": "stdout",
     "output_type": "stream",
     "text": [
      "\n",
      "2'th label prediction started\n",
      "count_one 144\n",
      "count_zero 144\n",
      "Epoch 1/6\n",
      "9/9 [==============================] - 1s 25ms/step - loss: 0.6948 - acc: 0.5347\n",
      "Epoch 2/6\n",
      "9/9 [==============================] - 0s 11ms/step - loss: 0.6061 - acc: 0.9792\n",
      "Epoch 3/6\n",
      "9/9 [==============================] - 0s 10ms/step - loss: 0.4585 - acc: 1.0000\n",
      "Epoch 4/6\n",
      "9/9 [==============================] - 0s 11ms/step - loss: 0.2394 - acc: 1.0000\n",
      "Epoch 5/6\n",
      "9/9 [==============================] - 0s 11ms/step - loss: 0.0768 - acc: 1.0000\n",
      "Epoch 6/6\n",
      "9/9 [==============================] - 0s 11ms/step - loss: 0.0194 - acc: 1.0000\n",
      "Predicting 2th label...\n"
     ]
    },
    {
     "data": {
      "application/vnd.jupyter.widget-view+json": {
       "model_id": "8445c021b8dd47e8a5053d2405d1b49b",
       "version_major": 2,
       "version_minor": 0
      },
      "text/plain": [
       "  0%|          | 0/20 [00:00<?, ?it/s]"
      ]
     },
     "metadata": {},
     "output_type": "display_data"
    },
    {
     "name": "stdout",
     "output_type": "stream",
     "text": [
      "\n",
      "3'th label prediction started\n",
      "count_one 362\n",
      "count_zero 362\n",
      "Epoch 1/6\n",
      "23/23 [==============================] - 2s 39ms/step - loss: 0.6670 - acc: 0.5718\n",
      "Epoch 2/6\n",
      "23/23 [==============================] - 0s 10ms/step - loss: 0.4384 - acc: 0.8591\n",
      "Epoch 3/6\n",
      "23/23 [==============================] - 0s 11ms/step - loss: 0.2088 - acc: 0.9517\n",
      "Epoch 4/6\n",
      "23/23 [==============================] - 0s 11ms/step - loss: 0.0490 - acc: 0.9945\n",
      "Epoch 5/6\n",
      "23/23 [==============================] - 0s 10ms/step - loss: 0.0099 - acc: 1.0000\n",
      "Epoch 6/6\n",
      "23/23 [==============================] - 0s 11ms/step - loss: 0.0039 - acc: 1.0000\n",
      "Predicting 3th label...\n"
     ]
    },
    {
     "data": {
      "application/vnd.jupyter.widget-view+json": {
       "model_id": "5647c4a9ef984a03b811c7671d9cbd67",
       "version_major": 2,
       "version_minor": 0
      },
      "text/plain": [
       "  0%|          | 0/20 [00:00<?, ?it/s]"
      ]
     },
     "metadata": {},
     "output_type": "display_data"
    },
    {
     "name": "stdout",
     "output_type": "stream",
     "text": [
      "\n",
      "4'th label prediction started\n",
      "count_one 640\n",
      "count_zero 640\n",
      "Epoch 1/6\n",
      "40/40 [==============================] - 2s 34ms/step - loss: 0.6210 - acc: 0.6547\n",
      "Epoch 2/6\n",
      "40/40 [==============================] - 0s 10ms/step - loss: 0.3001 - acc: 0.8914\n",
      "Epoch 3/6\n",
      "40/40 [==============================] - 0s 11ms/step - loss: 0.1140 - acc: 0.9680\n",
      "Epoch 4/6\n",
      "40/40 [==============================] - 0s 11ms/step - loss: 0.0196 - acc: 0.9984\n",
      "Epoch 5/6\n",
      "40/40 [==============================] - 0s 11ms/step - loss: 0.0101 - acc: 1.0000\n",
      "Epoch 6/6\n",
      "40/40 [==============================] - 0s 11ms/step - loss: 0.0167 - acc: 0.9969\n",
      "Predicting 4th label...\n"
     ]
    },
    {
     "data": {
      "application/vnd.jupyter.widget-view+json": {
       "model_id": "f3c9d528f14a4276800b3bb3868a00a7",
       "version_major": 2,
       "version_minor": 0
      },
      "text/plain": [
       "  0%|          | 0/20 [00:00<?, ?it/s]"
      ]
     },
     "metadata": {},
     "output_type": "display_data"
    },
    {
     "name": "stdout",
     "output_type": "stream",
     "text": [
      "\n",
      "5'th label prediction started\n",
      "count_one 1485\n",
      "count_zero 1485\n",
      "Epoch 1/6\n",
      "93/93 [==============================] - 4s 35ms/step - loss: 0.6170 - acc: 0.6936\n",
      "Epoch 2/6\n",
      "93/93 [==============================] - 1s 11ms/step - loss: 0.2439 - acc: 0.8997\n",
      "Epoch 3/6\n",
      "93/93 [==============================] - 1s 11ms/step - loss: 0.0510 - acc: 0.9892\n",
      "Epoch 4/6\n",
      "93/93 [==============================] - 1s 11ms/step - loss: 0.0162 - acc: 0.9973\n",
      "Epoch 5/6\n",
      "93/93 [==============================] - 1s 11ms/step - loss: 0.0040 - acc: 0.9997\n",
      "Epoch 6/6\n",
      "93/93 [==============================] - 1s 11ms/step - loss: 0.0012 - acc: 1.0000\n",
      "Predicting 5th label...\n"
     ]
    },
    {
     "data": {
      "application/vnd.jupyter.widget-view+json": {
       "model_id": "bfc9bf17108246c586a00210d3f8ab42",
       "version_major": 2,
       "version_minor": 0
      },
      "text/plain": [
       "  0%|          | 0/20 [00:00<?, ?it/s]"
      ]
     },
     "metadata": {},
     "output_type": "display_data"
    },
    {
     "name": "stdout",
     "output_type": "stream",
     "text": [
      "\n",
      "6'th label prediction started\n",
      "count_one 65\n",
      "count_zero 65\n",
      "Epoch 1/6\n",
      "5/5 [==============================] - 1s 30ms/step - loss: 0.7077 - acc: 0.4077\n",
      "Epoch 2/6\n",
      "5/5 [==============================] - 0s 10ms/step - loss: 0.6356 - acc: 0.9385\n",
      "Epoch 3/6\n",
      "5/5 [==============================] - 0s 10ms/step - loss: 0.5640 - acc: 0.9923\n",
      "Epoch 4/6\n",
      "5/5 [==============================] - 0s 9ms/step - loss: 0.4554 - acc: 0.9923\n",
      "Epoch 5/6\n",
      "5/5 [==============================] - 0s 10ms/step - loss: 0.3168 - acc: 0.9923\n",
      "Epoch 6/6\n",
      "5/5 [==============================] - 0s 10ms/step - loss: 0.1853 - acc: 1.0000\n",
      "Predicting 6th label...\n"
     ]
    },
    {
     "data": {
      "application/vnd.jupyter.widget-view+json": {
       "model_id": "bd4eca38e99b4971aaaffa61c14a4751",
       "version_major": 2,
       "version_minor": 0
      },
      "text/plain": [
       "  0%|          | 0/20 [00:00<?, ?it/s]"
      ]
     },
     "metadata": {},
     "output_type": "display_data"
    },
    {
     "name": "stdout",
     "output_type": "stream",
     "text": [
      "\n",
      "7'th label prediction started\n",
      "count_one 69\n",
      "count_zero 69\n",
      "Epoch 1/6\n",
      "5/5 [==============================] - 1s 30ms/step - loss: 0.7088 - acc: 0.5000\n",
      "Epoch 2/6\n",
      "5/5 [==============================] - 0s 10ms/step - loss: 0.6265 - acc: 0.9638\n",
      "Epoch 3/6\n",
      "5/5 [==============================] - 0s 11ms/step - loss: 0.5562 - acc: 1.0000\n",
      "Epoch 4/6\n",
      "5/5 [==============================] - 0s 10ms/step - loss: 0.4445 - acc: 1.0000\n",
      "Epoch 5/6\n",
      "5/5 [==============================] - 0s 10ms/step - loss: 0.3127 - acc: 1.0000\n",
      "Epoch 6/6\n",
      "5/5 [==============================] - 0s 10ms/step - loss: 0.1848 - acc: 1.0000\n",
      "Predicting 7th label...\n"
     ]
    },
    {
     "data": {
      "application/vnd.jupyter.widget-view+json": {
       "model_id": "4054c97a101444728dd6bb1b62429a27",
       "version_major": 2,
       "version_minor": 0
      },
      "text/plain": [
       "  0%|          | 0/20 [00:00<?, ?it/s]"
      ]
     },
     "metadata": {},
     "output_type": "display_data"
    },
    {
     "name": "stdout",
     "output_type": "stream",
     "text": [
      "\n",
      "8'th label prediction started\n",
      "count_one 372\n",
      "count_zero 372\n",
      "Epoch 1/6\n",
      "24/24 [==============================] - 1s 26ms/step - loss: 0.6821 - acc: 0.5605\n",
      "Epoch 2/6\n",
      "24/24 [==============================] - 0s 11ms/step - loss: 0.5089 - acc: 0.7890\n",
      "Epoch 3/6\n",
      "24/24 [==============================] - 0s 10ms/step - loss: 0.1983 - acc: 0.9422\n",
      "Epoch 4/6\n",
      "24/24 [==============================] - 0s 11ms/step - loss: 0.0512 - acc: 0.9946\n",
      "Epoch 5/6\n",
      "24/24 [==============================] - 0s 10ms/step - loss: 0.0100 - acc: 1.0000\n",
      "Epoch 6/6\n",
      "24/24 [==============================] - 0s 11ms/step - loss: 0.0035 - acc: 1.0000\n",
      "Predicting 8th label...\n"
     ]
    },
    {
     "data": {
      "application/vnd.jupyter.widget-view+json": {
       "model_id": "6b7fb39a46ce45668de06016e60dd93d",
       "version_major": 2,
       "version_minor": 0
      },
      "text/plain": [
       "  0%|          | 0/20 [00:00<?, ?it/s]"
      ]
     },
     "metadata": {},
     "output_type": "display_data"
    },
    {
     "name": "stdout",
     "output_type": "stream",
     "text": [
      "\n",
      "9'th label prediction started\n",
      "count_one 1428\n",
      "count_zero 1428\n",
      "Epoch 1/6\n",
      "90/90 [==============================] - 2s 19ms/step - loss: 0.5770 - acc: 0.7181\n",
      "Epoch 2/6\n",
      "90/90 [==============================] - 1s 11ms/step - loss: 0.1901 - acc: 0.9314\n",
      "Epoch 3/6\n",
      "90/90 [==============================] - 1s 11ms/step - loss: 0.0348 - acc: 0.9933\n",
      "Epoch 4/6\n",
      "90/90 [==============================] - 1s 11ms/step - loss: 0.0064 - acc: 0.9993\n",
      "Epoch 5/6\n",
      "90/90 [==============================] - 1s 11ms/step - loss: 0.0026 - acc: 1.0000\n",
      "Epoch 6/6\n",
      "90/90 [==============================] - 1s 11ms/step - loss: 9.8243e-04 - acc: 1.0000\n",
      "Predicting 9th label...\n"
     ]
    },
    {
     "data": {
      "application/vnd.jupyter.widget-view+json": {
       "model_id": "f8da172e0dba4c678d1306893a022773",
       "version_major": 2,
       "version_minor": 0
      },
      "text/plain": [
       "  0%|          | 0/20 [00:00<?, ?it/s]"
      ]
     },
     "metadata": {},
     "output_type": "display_data"
    },
    {
     "name": "stdout",
     "output_type": "stream",
     "text": [
      "\n",
      "10'th label prediction started\n",
      "count_one 7381\n",
      "count_zero 7381\n",
      "Epoch 1/6\n",
      "462/462 [==============================] - 10s 20ms/step - loss: 0.4995 - acc: 0.7636\n",
      "Epoch 2/6\n",
      "462/462 [==============================] - 5s 11ms/step - loss: 0.3048 - acc: 0.8802\n",
      "Epoch 3/6\n",
      "462/462 [==============================] - 5s 11ms/step - loss: 0.1268 - acc: 0.9599\n",
      "Epoch 4/6\n",
      "462/462 [==============================] - 5s 11ms/step - loss: 0.0535 - acc: 0.9833\n",
      "Epoch 5/6\n",
      "462/462 [==============================] - 5s 11ms/step - loss: 0.0510 - acc: 0.9841\n",
      "Epoch 6/6\n",
      "462/462 [==============================] - 5s 11ms/step - loss: 0.0790 - acc: 0.9720\n",
      "Predicting 10th label...\n"
     ]
    },
    {
     "data": {
      "application/vnd.jupyter.widget-view+json": {
       "model_id": "32c48914c36140cc944c8b880f91433f",
       "version_major": 2,
       "version_minor": 0
      },
      "text/plain": [
       "  0%|          | 0/20 [00:00<?, ?it/s]"
      ]
     },
     "metadata": {},
     "output_type": "display_data"
    },
    {
     "name": "stdout",
     "output_type": "stream",
     "text": [
      "\n",
      "11'th label prediction started\n",
      "count_one 6253\n",
      "count_zero 6253\n",
      "Epoch 1/6\n",
      "391/391 [==============================] - 5s 12ms/step - loss: 0.4987 - acc: 0.7582\n",
      "Epoch 2/6\n",
      "391/391 [==============================] - 4s 10ms/step - loss: 0.2969 - acc: 0.8748\n",
      "Epoch 3/6\n",
      "391/391 [==============================] - 4s 10ms/step - loss: 0.1085 - acc: 0.9661\n",
      "Epoch 4/6\n",
      "391/391 [==============================] - 4s 11ms/step - loss: 0.0339 - acc: 0.9900\n",
      "Epoch 5/6\n",
      "391/391 [==============================] - 4s 11ms/step - loss: 0.0246 - acc: 0.9930\n",
      "Epoch 6/6\n",
      "391/391 [==============================] - 4s 11ms/step - loss: 0.0228 - acc: 0.9929\n",
      "Predicting 11th label...\n"
     ]
    },
    {
     "data": {
      "application/vnd.jupyter.widget-view+json": {
       "model_id": "489edc5c04f849608006ff6ecc4ab232",
       "version_major": 2,
       "version_minor": 0
      },
      "text/plain": [
       "  0%|          | 0/20 [00:00<?, ?it/s]"
      ]
     },
     "metadata": {},
     "output_type": "display_data"
    },
    {
     "name": "stdout",
     "output_type": "stream",
     "text": [
      "\n",
      "12'th label prediction started\n",
      "count_one 284\n",
      "count_zero 284\n",
      "Epoch 1/6\n",
      "18/18 [==============================] - 1s 17ms/step - loss: 0.6647 - acc: 0.5827\n",
      "Epoch 2/6\n",
      "18/18 [==============================] - 0s 11ms/step - loss: 0.3902 - acc: 0.9032\n",
      "Epoch 3/6\n",
      "18/18 [==============================] - 0s 11ms/step - loss: 0.1462 - acc: 0.9560\n",
      "Epoch 4/6\n",
      "18/18 [==============================] - 0s 11ms/step - loss: 0.0348 - acc: 0.9965\n",
      "Epoch 5/6\n",
      "18/18 [==============================] - 0s 11ms/step - loss: 0.0066 - acc: 1.0000\n",
      "Epoch 6/6\n",
      "18/18 [==============================] - 0s 11ms/step - loss: 0.0027 - acc: 1.0000\n",
      "Predicting 12th label...\n"
     ]
    },
    {
     "data": {
      "application/vnd.jupyter.widget-view+json": {
       "model_id": "c435846b90b94712844722d473d0bca4",
       "version_major": 2,
       "version_minor": 0
      },
      "text/plain": [
       "  0%|          | 0/20 [00:00<?, ?it/s]"
      ]
     },
     "metadata": {},
     "output_type": "display_data"
    },
    {
     "name": "stdout",
     "output_type": "stream",
     "text": [
      "\n",
      "13'th label prediction started\n",
      "count_one 86\n",
      "count_zero 86\n",
      "Epoch 1/6\n",
      "6/6 [==============================] - 1s 27ms/step - loss: 0.6975 - acc: 0.5000\n",
      "Epoch 2/6\n",
      "6/6 [==============================] - 0s 9ms/step - loss: 0.6280 - acc: 0.8837\n",
      "Epoch 3/6\n",
      "6/6 [==============================] - 0s 11ms/step - loss: 0.5387 - acc: 1.0000\n",
      "Epoch 4/6\n",
      "6/6 [==============================] - 0s 10ms/step - loss: 0.4016 - acc: 1.0000\n",
      "Epoch 5/6\n",
      "6/6 [==============================] - 0s 11ms/step - loss: 0.2404 - acc: 1.0000\n",
      "Epoch 6/6\n",
      "6/6 [==============================] - 0s 10ms/step - loss: 0.1093 - acc: 1.0000\n",
      "Predicting 13th label...\n"
     ]
    },
    {
     "data": {
      "application/vnd.jupyter.widget-view+json": {
       "model_id": "1886957fbf8443dab5c0a6800575f13a",
       "version_major": 2,
       "version_minor": 0
      },
      "text/plain": [
       "  0%|          | 0/20 [00:00<?, ?it/s]"
      ]
     },
     "metadata": {},
     "output_type": "display_data"
    },
    {
     "name": "stdout",
     "output_type": "stream",
     "text": [
      "\n",
      "14'th label prediction started\n",
      "count_one 4850\n",
      "count_zero 4850\n",
      "Epoch 1/6\n",
      "304/304 [==============================] - 5s 14ms/step - loss: 0.4365 - acc: 0.7992\n",
      "Epoch 2/6\n",
      "304/304 [==============================] - 3s 11ms/step - loss: 0.2318 - acc: 0.9079\n",
      "Epoch 3/6\n",
      "304/304 [==============================] - 3s 11ms/step - loss: 0.0745 - acc: 0.9761\n",
      "Epoch 4/6\n",
      "304/304 [==============================] - 3s 11ms/step - loss: 0.0167 - acc: 0.9957\n",
      "Epoch 5/6\n",
      "304/304 [==============================] - 3s 11ms/step - loss: 0.0133 - acc: 0.9960\n",
      "Epoch 6/6\n",
      "304/304 [==============================] - 3s 11ms/step - loss: 0.0073 - acc: 0.9984\n",
      "Predicting 14th label...\n"
     ]
    },
    {
     "data": {
      "application/vnd.jupyter.widget-view+json": {
       "model_id": "1af2ac7df6434e23914826e170a2ad9c",
       "version_major": 2,
       "version_minor": 0
      },
      "text/plain": [
       "  0%|          | 0/20 [00:00<?, ?it/s]"
      ]
     },
     "metadata": {},
     "output_type": "display_data"
    },
    {
     "name": "stdout",
     "output_type": "stream",
     "text": [
      "\n",
      "15'th label prediction started\n",
      "count_one 77\n",
      "count_zero 77\n",
      "Epoch 1/6\n",
      "5/5 [==============================] - 1s 38ms/step - loss: 0.6968 - acc: 0.4805\n",
      "Epoch 2/6\n",
      "5/5 [==============================] - 0s 10ms/step - loss: 0.6293 - acc: 0.9870\n",
      "Epoch 3/6\n",
      "5/5 [==============================] - 0s 11ms/step - loss: 0.5470 - acc: 1.0000\n",
      "Epoch 4/6\n",
      "5/5 [==============================] - 0s 11ms/step - loss: 0.4191 - acc: 1.0000\n",
      "Epoch 5/6\n",
      "5/5 [==============================] - 0s 11ms/step - loss: 0.2797 - acc: 1.0000\n",
      "Epoch 6/6\n",
      "5/5 [==============================] - 0s 11ms/step - loss: 0.1476 - acc: 1.0000\n",
      "Predicting 15th label...\n"
     ]
    },
    {
     "data": {
      "application/vnd.jupyter.widget-view+json": {
       "model_id": "faa53350a7d64013981cc78551386582",
       "version_major": 2,
       "version_minor": 0
      },
      "text/plain": [
       "  0%|          | 0/20 [00:00<?, ?it/s]"
      ]
     },
     "metadata": {},
     "output_type": "display_data"
    },
    {
     "name": "stdout",
     "output_type": "stream",
     "text": [
      "\n",
      "16'th label prediction started\n",
      "count_one 3487\n",
      "count_zero 3487\n",
      "Epoch 1/6\n",
      "218/218 [==============================] - 3s 12ms/step - loss: 0.4665 - acc: 0.7863\n",
      "Epoch 2/6\n",
      "218/218 [==============================] - 2s 11ms/step - loss: 0.2018 - acc: 0.9217\n",
      "Epoch 3/6\n",
      "218/218 [==============================] - 2s 11ms/step - loss: 0.0550 - acc: 0.9848\n",
      "Epoch 4/6\n",
      "218/218 [==============================] - 2s 11ms/step - loss: 0.0080 - acc: 0.9989\n",
      "Epoch 5/6\n",
      "218/218 [==============================] - 2s 11ms/step - loss: 0.0025 - acc: 0.9996\n",
      "Epoch 6/6\n",
      "218/218 [==============================] - 2s 11ms/step - loss: 0.0015 - acc: 0.9999\n",
      "Predicting 16th label...\n"
     ]
    },
    {
     "data": {
      "application/vnd.jupyter.widget-view+json": {
       "model_id": "b0e0a15f3553490985991fd210d57faf",
       "version_major": 2,
       "version_minor": 0
      },
      "text/plain": [
       "  0%|          | 0/20 [00:00<?, ?it/s]"
      ]
     },
     "metadata": {},
     "output_type": "display_data"
    },
    {
     "name": "stdout",
     "output_type": "stream",
     "text": [
      "\n",
      "17'th label prediction started\n",
      "count_one 231\n",
      "count_zero 231\n",
      "Epoch 1/6\n",
      "15/15 [==============================] - 1s 18ms/step - loss: 0.6900 - acc: 0.5433\n",
      "Epoch 2/6\n",
      "15/15 [==============================] - 0s 11ms/step - loss: 0.5858 - acc: 0.8939\n",
      "Epoch 3/6\n",
      "15/15 [==============================] - 0s 10ms/step - loss: 0.2991 - acc: 1.0000\n",
      "Epoch 4/6\n",
      "15/15 [==============================] - 0s 11ms/step - loss: 0.0575 - acc: 1.0000\n",
      "Epoch 5/6\n",
      "15/15 [==============================] - 0s 10ms/step - loss: 0.0072 - acc: 1.0000\n",
      "Epoch 6/6\n",
      "15/15 [==============================] - 0s 10ms/step - loss: 0.0023 - acc: 1.0000\n",
      "Predicting 17th label...\n"
     ]
    },
    {
     "data": {
      "application/vnd.jupyter.widget-view+json": {
       "model_id": "2651c39bfbeb4088bbd54203c72889ec",
       "version_major": 2,
       "version_minor": 0
      },
      "text/plain": [
       "  0%|          | 0/20 [00:00<?, ?it/s]"
      ]
     },
     "metadata": {},
     "output_type": "display_data"
    },
    {
     "name": "stdout",
     "output_type": "stream",
     "text": [
      "\n",
      "18'th label prediction started\n",
      "count_one 1434\n",
      "count_zero 1434\n",
      "Epoch 1/6\n",
      "90/90 [==============================] - 2s 12ms/step - loss: 0.5853 - acc: 0.7043\n",
      "Epoch 2/6\n",
      "90/90 [==============================] - 1s 11ms/step - loss: 0.2211 - acc: 0.9219\n",
      "Epoch 3/6\n",
      "90/90 [==============================] - 1s 10ms/step - loss: 0.0326 - acc: 0.9944\n",
      "Epoch 4/6\n",
      "90/90 [==============================] - 1s 10ms/step - loss: 0.0071 - acc: 0.9993\n",
      "Epoch 5/6\n",
      "90/90 [==============================] - 1s 11ms/step - loss: 0.0033 - acc: 1.0000\n",
      "Epoch 6/6\n",
      "90/90 [==============================] - 1s 10ms/step - loss: 8.9637e-04 - acc: 1.0000\n",
      "Predicting 18th label...\n"
     ]
    },
    {
     "data": {
      "application/vnd.jupyter.widget-view+json": {
       "model_id": "b22c34cbe0c14cad8700eab9a0040747",
       "version_major": 2,
       "version_minor": 0
      },
      "text/plain": [
       "  0%|          | 0/20 [00:00<?, ?it/s]"
      ]
     },
     "metadata": {},
     "output_type": "display_data"
    },
    {
     "name": "stdout",
     "output_type": "stream",
     "text": [
      "\n",
      "19'th label prediction started\n",
      "count_one 78\n",
      "count_zero 78\n",
      "Epoch 1/6\n",
      "5/5 [==============================] - 1s 42ms/step - loss: 0.6988 - acc: 0.4808\n",
      "Epoch 2/6\n",
      "5/5 [==============================] - 0s 12ms/step - loss: 0.6303 - acc: 0.9744\n",
      "Epoch 3/6\n",
      "5/5 [==============================] - 0s 11ms/step - loss: 0.5490 - acc: 1.0000\n",
      "Epoch 4/6\n",
      "5/5 [==============================] - 0s 11ms/step - loss: 0.4297 - acc: 1.0000\n",
      "Epoch 5/6\n",
      "5/5 [==============================] - 0s 11ms/step - loss: 0.2852 - acc: 1.0000\n",
      "Epoch 6/6\n",
      "5/5 [==============================] - 0s 10ms/step - loss: 0.1518 - acc: 1.0000\n",
      "Predicting 19th label...\n"
     ]
    },
    {
     "data": {
      "application/vnd.jupyter.widget-view+json": {
       "model_id": "bceaabf710c245409b048664c30a97dd",
       "version_major": 2,
       "version_minor": 0
      },
      "text/plain": [
       "  0%|          | 0/20 [00:00<?, ?it/s]"
      ]
     },
     "metadata": {},
     "output_type": "display_data"
    },
    {
     "name": "stdout",
     "output_type": "stream",
     "text": [
      "\n",
      "20'th label prediction started\n",
      "count_one 151\n",
      "count_zero 151\n",
      "Epoch 1/6\n",
      "10/10 [==============================] - 1s 21ms/step - loss: 0.7036 - acc: 0.4934\n",
      "Epoch 2/6\n",
      "10/10 [==============================] - 0s 10ms/step - loss: 0.6026 - acc: 0.9735\n",
      "Epoch 3/6\n",
      "10/10 [==============================] - 0s 10ms/step - loss: 0.4257 - acc: 0.9801\n",
      "Epoch 4/6\n",
      "10/10 [==============================] - 0s 10ms/step - loss: 0.1908 - acc: 0.9768\n",
      "Epoch 5/6\n",
      "10/10 [==============================] - 0s 11ms/step - loss: 0.0615 - acc: 0.9967\n",
      "Epoch 6/6\n",
      "10/10 [==============================] - 0s 9ms/step - loss: 0.0173 - acc: 1.0000\n",
      "Predicting 20th label...\n"
     ]
    },
    {
     "data": {
      "application/vnd.jupyter.widget-view+json": {
       "model_id": "aefb11772ea341d8b1655a8fe99764fd",
       "version_major": 2,
       "version_minor": 0
      },
      "text/plain": [
       "  0%|          | 0/20 [00:00<?, ?it/s]"
      ]
     },
     "metadata": {},
     "output_type": "display_data"
    },
    {
     "name": "stdout",
     "output_type": "stream",
     "text": [
      "\n",
      "21'th label prediction started\n",
      "count_one 1685\n",
      "count_zero 1685\n",
      "Epoch 1/6\n",
      "106/106 [==============================] - 2s 12ms/step - loss: 0.4956 - acc: 0.7677\n",
      "Epoch 2/6\n",
      "106/106 [==============================] - 1s 11ms/step - loss: 0.2068 - acc: 0.9270\n",
      "Epoch 3/6\n",
      "106/106 [==============================] - 1s 11ms/step - loss: 0.0575 - acc: 0.9849\n",
      "Epoch 4/6\n",
      "106/106 [==============================] - 1s 11ms/step - loss: 0.0227 - acc: 0.9947\n",
      "Epoch 5/6\n",
      "106/106 [==============================] - 1s 11ms/step - loss: 0.0116 - acc: 0.9973\n",
      "Epoch 6/6\n",
      "106/106 [==============================] - 1s 11ms/step - loss: 0.0020 - acc: 1.0000\n",
      "Predicting 21th label...\n"
     ]
    },
    {
     "data": {
      "application/vnd.jupyter.widget-view+json": {
       "model_id": "053745268eb3432aa144b5eb92caaf01",
       "version_major": 2,
       "version_minor": 0
      },
      "text/plain": [
       "  0%|          | 0/20 [00:00<?, ?it/s]"
      ]
     },
     "metadata": {},
     "output_type": "display_data"
    },
    {
     "name": "stdout",
     "output_type": "stream",
     "text": [
      "\n",
      "22'th label prediction started\n",
      "count_one 106\n",
      "count_zero 106\n",
      "Epoch 1/6\n",
      "7/7 [==============================] - 1s 31ms/step - loss: 0.6840 - acc: 0.5142\n",
      "Epoch 2/6\n",
      "7/7 [==============================] - 0s 11ms/step - loss: 0.5797 - acc: 0.9575\n",
      "Epoch 3/6\n",
      "7/7 [==============================] - 0s 12ms/step - loss: 0.4374 - acc: 0.9906\n",
      "Epoch 4/6\n",
      "7/7 [==============================] - 0s 11ms/step - loss: 0.2678 - acc: 0.9906\n",
      "Epoch 5/6\n",
      "7/7 [==============================] - 0s 12ms/step - loss: 0.1544 - acc: 0.9906\n",
      "Epoch 6/6\n",
      "7/7 [==============================] - 0s 11ms/step - loss: 0.0734 - acc: 0.9906\n",
      "Predicting 22th label...\n"
     ]
    },
    {
     "data": {
      "application/vnd.jupyter.widget-view+json": {
       "model_id": "f196f38d70b44e18aad024bba128bf5d",
       "version_major": 2,
       "version_minor": 0
      },
      "text/plain": [
       "  0%|          | 0/20 [00:00<?, ?it/s]"
      ]
     },
     "metadata": {},
     "output_type": "display_data"
    },
    {
     "name": "stdout",
     "output_type": "stream",
     "text": [
      "\n",
      "23'th label prediction started\n",
      "count_one 1797\n",
      "count_zero 1797\n",
      "Epoch 1/6\n",
      "113/113 [==============================] - 2s 15ms/step - loss: 0.5373 - acc: 0.7382\n",
      "Epoch 2/6\n",
      "113/113 [==============================] - 1s 10ms/step - loss: 0.2470 - acc: 0.9090\n",
      "Epoch 3/6\n",
      "113/113 [==============================] - 1s 10ms/step - loss: 0.0730 - acc: 0.9802\n",
      "Epoch 4/6\n",
      "113/113 [==============================] - 1s 11ms/step - loss: 0.0145 - acc: 0.9983\n",
      "Epoch 5/6\n",
      "113/113 [==============================] - 1s 11ms/step - loss: 0.0041 - acc: 0.9994\n",
      "Epoch 6/6\n",
      "113/113 [==============================] - 1s 10ms/step - loss: 0.0017 - acc: 1.0000\n",
      "Predicting 23th label...\n"
     ]
    },
    {
     "data": {
      "application/vnd.jupyter.widget-view+json": {
       "model_id": "f4adc53d2196450b886da98d46f7c95d",
       "version_major": 2,
       "version_minor": 0
      },
      "text/plain": [
       "  0%|          | 0/20 [00:00<?, ?it/s]"
      ]
     },
     "metadata": {},
     "output_type": "display_data"
    },
    {
     "name": "stdout",
     "output_type": "stream",
     "text": [
      "\n",
      "24'th label prediction started\n",
      "count_one 244\n",
      "count_zero 244\n",
      "Epoch 1/6\n",
      "16/16 [==============================] - 2s 16ms/step - loss: 0.6893 - acc: 0.5102\n",
      "Epoch 2/6\n",
      "16/16 [==============================] - 0s 11ms/step - loss: 0.5572 - acc: 0.9652\n",
      "Epoch 3/6\n",
      "16/16 [==============================] - ETA: 0s - loss: 0.2739 - acc: 0.989 - 0s 11ms/step - loss: 0.2739 - acc: 0.9898\n",
      "Epoch 4/6\n",
      "16/16 [==============================] - 0s 11ms/step - loss: 0.0574 - acc: 0.9980\n",
      "Epoch 5/6\n",
      "16/16 [==============================] - 0s 11ms/step - loss: 0.0090 - acc: 1.0000\n",
      "Epoch 6/6\n",
      "16/16 [==============================] - 0s 11ms/step - loss: 0.0031 - acc: 1.0000\n",
      "Predicting 24th label...\n"
     ]
    },
    {
     "data": {
      "application/vnd.jupyter.widget-view+json": {
       "model_id": "616ecf1129444da7b0909a2043a00712",
       "version_major": 2,
       "version_minor": 0
      },
      "text/plain": [
       "  0%|          | 0/20 [00:00<?, ?it/s]"
      ]
     },
     "metadata": {},
     "output_type": "display_data"
    },
    {
     "name": "stdout",
     "output_type": "stream",
     "text": [
      "\n",
      "25'th label prediction started\n",
      "count_one 89\n",
      "count_zero 89\n",
      "Epoch 1/6\n",
      "6/6 [==============================] - 1s 29ms/step - loss: 0.6891 - acc: 0.5281\n",
      "Epoch 2/6\n",
      "6/6 [==============================] - 0s 11ms/step - loss: 0.6309 - acc: 0.9382\n",
      "Epoch 3/6\n",
      "6/6 [==============================] - 0s 9ms/step - loss: 0.5198 - acc: 1.0000\n",
      "Epoch 4/6\n",
      "6/6 [==============================] - 0s 10ms/step - loss: 0.3594 - acc: 1.0000\n",
      "Epoch 5/6\n",
      "6/6 [==============================] - 0s 11ms/step - loss: 0.1841 - acc: 1.0000\n",
      "Epoch 6/6\n",
      "6/6 [==============================] - 0s 11ms/step - loss: 0.0707 - acc: 1.0000\n",
      "Predicting 25th label...\n"
     ]
    },
    {
     "data": {
      "application/vnd.jupyter.widget-view+json": {
       "model_id": "d39a4e67f4bd4d35b18c4f937f4f74f4",
       "version_major": 2,
       "version_minor": 0
      },
      "text/plain": [
       "  0%|          | 0/20 [00:00<?, ?it/s]"
      ]
     },
     "metadata": {},
     "output_type": "display_data"
    },
    {
     "name": "stdout",
     "output_type": "stream",
     "text": [
      "\n",
      "26'th label prediction started\n",
      "count_one 1033\n",
      "count_zero 1033\n",
      "Epoch 1/6\n",
      "65/65 [==============================] - 2s 17ms/step - loss: 0.5885 - acc: 0.7023\n",
      "Epoch 2/6\n",
      "65/65 [==============================] - 1s 11ms/step - loss: 0.2665 - acc: 0.8824\n",
      "Epoch 3/6\n",
      "65/65 [==============================] - 1s 11ms/step - loss: 0.0437 - acc: 0.9918\n",
      "Epoch 4/6\n",
      "65/65 [==============================] - 1s 11ms/step - loss: 0.0086 - acc: 0.9990\n",
      "Epoch 5/6\n",
      "65/65 [==============================] - 1s 11ms/step - loss: 0.0027 - acc: 1.0000\n",
      "Epoch 6/6\n",
      "65/65 [==============================] - 1s 11ms/step - loss: 9.7737e-04 - acc: 1.0000\n",
      "Predicting 26th label...\n"
     ]
    },
    {
     "data": {
      "application/vnd.jupyter.widget-view+json": {
       "model_id": "8494e0024ea6450a884be058cf927fbc",
       "version_major": 2,
       "version_minor": 0
      },
      "text/plain": [
       "  0%|          | 0/20 [00:00<?, ?it/s]"
      ]
     },
     "metadata": {},
     "output_type": "display_data"
    },
    {
     "name": "stdout",
     "output_type": "stream",
     "text": [
      "\n",
      "27'th label prediction started\n",
      "count_one 295\n",
      "count_zero 295\n",
      "Epoch 1/6\n",
      "19/19 [==============================] - 1s 17ms/step - loss: 0.6928 - acc: 0.5373\n",
      "Epoch 2/6\n",
      "19/19 [==============================] - 0s 11ms/step - loss: 0.5566 - acc: 0.8441\n",
      "Epoch 3/6\n",
      "19/19 [==============================] - 0s 10ms/step - loss: 0.2270 - acc: 0.9729\n",
      "Epoch 4/6\n",
      "19/19 [==============================] - 0s 11ms/step - loss: 0.0378 - acc: 0.9966\n",
      "Epoch 5/6\n",
      "19/19 [==============================] - 0s 10ms/step - loss: 0.0061 - acc: 1.0000\n",
      "Epoch 6/6\n",
      "19/19 [==============================] - 0s 11ms/step - loss: 0.0022 - acc: 1.0000\n",
      "Predicting 27th label...\n"
     ]
    },
    {
     "data": {
      "application/vnd.jupyter.widget-view+json": {
       "model_id": "4bd19aec80ad438d93d03603e2f7bc41",
       "version_major": 2,
       "version_minor": 0
      },
      "text/plain": [
       "  0%|          | 0/20 [00:00<?, ?it/s]"
      ]
     },
     "metadata": {},
     "output_type": "display_data"
    },
    {
     "name": "stdout",
     "output_type": "stream",
     "text": [
      "\n",
      "28'th label prediction started\n",
      "count_one 4389\n",
      "count_zero 4389\n",
      "Epoch 1/6\n",
      "275/275 [==============================] - 4s 11ms/step - loss: 0.4748 - acc: 0.7720\n",
      "Epoch 2/6\n",
      "275/275 [==============================] - 3s 11ms/step - loss: 0.2521 - acc: 0.9017\n",
      "Epoch 3/6\n",
      "275/275 [==============================] - 3s 11ms/step - loss: 0.0893 - acc: 0.9736\n",
      "Epoch 4/6\n",
      "275/275 [==============================] - 3s 11ms/step - loss: 0.0222 - acc: 0.9958\n",
      "Epoch 5/6\n",
      "275/275 [==============================] - 3s 11ms/step - loss: 0.0050 - acc: 0.9995\n",
      "Epoch 6/6\n",
      "275/275 [==============================] - 3s 11ms/step - loss: 0.0024 - acc: 0.9995\n",
      "Predicting 28th label...\n"
     ]
    },
    {
     "data": {
      "application/vnd.jupyter.widget-view+json": {
       "model_id": "066175b096bf45c580d53e200d51c0f2",
       "version_major": 2,
       "version_minor": 0
      },
      "text/plain": [
       "  0%|          | 0/20 [00:00<?, ?it/s]"
      ]
     },
     "metadata": {},
     "output_type": "display_data"
    },
    {
     "name": "stdout",
     "output_type": "stream",
     "text": [
      "\n",
      "29'th label prediction started\n",
      "count_one 98\n",
      "count_zero 98\n",
      "Epoch 1/6\n",
      "7/7 [==============================] - 1s 67ms/step - loss: 0.6960 - acc: 0.5000\n",
      "Epoch 2/6\n",
      "7/7 [==============================] - 0s 11ms/step - loss: 0.6306 - acc: 0.7857\n",
      "Epoch 3/6\n",
      "7/7 [==============================] - 0s 11ms/step - loss: 0.5463 - acc: 0.9694\n",
      "Epoch 4/6\n",
      "7/7 [==============================] - 0s 11ms/step - loss: 0.3926 - acc: 1.0000\n",
      "Epoch 5/6\n",
      "7/7 [==============================] - 0s 11ms/step - loss: 0.2230 - acc: 1.0000\n",
      "Epoch 6/6\n",
      "7/7 [==============================] - 0s 11ms/step - loss: 0.0917 - acc: 1.0000\n",
      "Predicting 29th label...\n"
     ]
    },
    {
     "data": {
      "application/vnd.jupyter.widget-view+json": {
       "model_id": "afe4cfa546f54701843dfb43b9c58a6b",
       "version_major": 2,
       "version_minor": 0
      },
      "text/plain": [
       "  0%|          | 0/20 [00:00<?, ?it/s]"
      ]
     },
     "metadata": {},
     "output_type": "display_data"
    },
    {
     "name": "stdout",
     "output_type": "stream",
     "text": [
      "\n",
      "30'th label prediction started\n",
      "count_one 380\n",
      "count_zero 380\n",
      "Epoch 1/6\n",
      "24/24 [==============================] - 1s 16ms/step - loss: 0.6834 - acc: 0.5487\n",
      "Epoch 2/6\n",
      "24/24 [==============================] - 0s 11ms/step - loss: 0.5170 - acc: 0.7447\n",
      "Epoch 3/6\n",
      "24/24 [==============================] - 0s 11ms/step - loss: 0.2046 - acc: 0.9737\n",
      "Epoch 4/6\n",
      "24/24 [==============================] - 0s 11ms/step - loss: 0.0328 - acc: 0.9987\n",
      "Epoch 5/6\n",
      "24/24 [==============================] - 0s 11ms/step - loss: 0.0058 - acc: 1.0000\n",
      "Epoch 6/6\n",
      "24/24 [==============================] - 0s 11ms/step - loss: 0.0022 - acc: 1.0000\n",
      "Predicting 30th label...\n"
     ]
    },
    {
     "data": {
      "application/vnd.jupyter.widget-view+json": {
       "model_id": "bd52e04b7415420599a51f0d2023f1eb",
       "version_major": 2,
       "version_minor": 0
      },
      "text/plain": [
       "  0%|          | 0/20 [00:00<?, ?it/s]"
      ]
     },
     "metadata": {},
     "output_type": "display_data"
    },
    {
     "name": "stdout",
     "output_type": "stream",
     "text": [
      "\n",
      "31'th label prediction started\n",
      "count_one 2164\n",
      "count_zero 2164\n",
      "Epoch 1/6\n",
      "136/136 [==============================] - 2s 11ms/step - loss: 0.5238 - acc: 0.7408\n",
      "Epoch 2/6\n",
      "136/136 [==============================] - 2s 11ms/step - loss: 0.2051 - acc: 0.9198\n",
      "Epoch 3/6\n",
      "136/136 [==============================] - 1s 11ms/step - loss: 0.0476 - acc: 0.9878\n",
      "Epoch 4/6\n",
      "136/136 [==============================] - 1s 11ms/step - loss: 0.0075 - acc: 0.9993\n",
      "Epoch 5/6\n",
      "136/136 [==============================] - 2s 11ms/step - loss: 0.0015 - acc: 1.0000\n",
      "Epoch 6/6\n",
      "136/136 [==============================] - 1s 11ms/step - loss: 9.2398e-04 - acc: 1.0000\n",
      "Predicting 31th label...\n"
     ]
    },
    {
     "data": {
      "application/vnd.jupyter.widget-view+json": {
       "model_id": "ceebc854b5fc461892239a9cb4a61922",
       "version_major": 2,
       "version_minor": 0
      },
      "text/plain": [
       "  0%|          | 0/20 [00:00<?, ?it/s]"
      ]
     },
     "metadata": {},
     "output_type": "display_data"
    },
    {
     "name": "stdout",
     "output_type": "stream",
     "text": [
      "\n",
      "32'th label prediction started\n",
      "count_one 2551\n",
      "count_zero 2551\n",
      "Epoch 1/6\n",
      "160/160 [==============================] - 2s 12ms/step - loss: 0.6106 - acc: 0.6672\n",
      "Epoch 2/6\n",
      "160/160 [==============================] - 2s 11ms/step - loss: 0.3880 - acc: 0.8399\n",
      "Epoch 3/6\n",
      "160/160 [==============================] - 2s 11ms/step - loss: 0.1388 - acc: 0.9559\n",
      "Epoch 4/6\n",
      "160/160 [==============================] - 2s 11ms/step - loss: 0.0329 - acc: 0.9908\n",
      "Epoch 5/6\n",
      "160/160 [==============================] - 2s 10ms/step - loss: 0.0091 - acc: 0.9984\n",
      "Epoch 6/6\n",
      "160/160 [==============================] - 2s 11ms/step - loss: 0.0035 - acc: 1.0000\n",
      "Predicting 32th label...\n"
     ]
    },
    {
     "data": {
      "application/vnd.jupyter.widget-view+json": {
       "model_id": "554972dcf50248c8b9ef9e3b3a44d50d",
       "version_major": 2,
       "version_minor": 0
      },
      "text/plain": [
       "  0%|          | 0/20 [00:00<?, ?it/s]"
      ]
     },
     "metadata": {},
     "output_type": "display_data"
    },
    {
     "name": "stdout",
     "output_type": "stream",
     "text": [
      "\n",
      "33'th label prediction started\n",
      "count_one 69\n",
      "count_zero 69\n",
      "Epoch 1/6\n",
      "5/5 [==============================] - 1s 31ms/step - loss: 0.7178 - acc: 0.4348\n",
      "Epoch 2/6\n",
      "5/5 [==============================] - 0s 10ms/step - loss: 0.6367 - acc: 0.7681\n",
      "Epoch 3/6\n",
      "5/5 [==============================] - 0s 11ms/step - loss: 0.5828 - acc: 0.9928\n",
      "Epoch 4/6\n",
      "5/5 [==============================] - 0s 10ms/step - loss: 0.4945 - acc: 1.0000\n",
      "Epoch 5/6\n",
      "5/5 [==============================] - 0s 11ms/step - loss: 0.3683 - acc: 1.0000\n",
      "Epoch 6/6\n",
      "5/5 [==============================] - 0s 11ms/step - loss: 0.2331 - acc: 1.0000\n",
      "Predicting 33th label...\n"
     ]
    },
    {
     "data": {
      "application/vnd.jupyter.widget-view+json": {
       "model_id": "acfe7a299af643caa94c9de9b02b2bf8",
       "version_major": 2,
       "version_minor": 0
      },
      "text/plain": [
       "  0%|          | 0/20 [00:00<?, ?it/s]"
      ]
     },
     "metadata": {},
     "output_type": "display_data"
    },
    {
     "name": "stdout",
     "output_type": "stream",
     "text": [
      "\n",
      "34'th label prediction started\n",
      "count_one 348\n",
      "count_zero 348\n",
      "Epoch 1/6\n",
      "22/22 [==============================] - 1s 16ms/step - loss: 0.6711 - acc: 0.5963\n",
      "Epoch 2/6\n",
      "22/22 [==============================] - 0s 11ms/step - loss: 0.4777 - acc: 0.7759\n",
      "Epoch 3/6\n",
      "22/22 [==============================] - 0s 11ms/step - loss: 0.2595 - acc: 0.9411\n",
      "Epoch 4/6\n",
      "22/22 [==============================] - 0s 11ms/step - loss: 0.0727 - acc: 0.9885\n",
      "Epoch 5/6\n",
      "22/22 [==============================] - 0s 11ms/step - loss: 0.0248 - acc: 0.9986\n",
      "Epoch 6/6\n",
      "22/22 [==============================] - 0s 11ms/step - loss: 0.0055 - acc: 1.0000\n",
      "Predicting 34th label...\n"
     ]
    },
    {
     "data": {
      "application/vnd.jupyter.widget-view+json": {
       "model_id": "39a2f8284e33452482da0b618b7ce605",
       "version_major": 2,
       "version_minor": 0
      },
      "text/plain": [
       "  0%|          | 0/20 [00:00<?, ?it/s]"
      ]
     },
     "metadata": {},
     "output_type": "display_data"
    },
    {
     "name": "stdout",
     "output_type": "stream",
     "text": [
      "\n",
      "35'th label prediction started\n",
      "count_one 213\n",
      "count_zero 213\n",
      "Epoch 1/6\n",
      "14/14 [==============================] - 1s 17ms/step - loss: 0.7010 - acc: 0.5329\n",
      "Epoch 2/6\n",
      "14/14 [==============================] - 0s 11ms/step - loss: 0.6199 - acc: 0.6901\n",
      "Epoch 3/6\n",
      "14/14 [==============================] - 0s 10ms/step - loss: 0.4314 - acc: 0.9977\n",
      "Epoch 4/6\n",
      "14/14 [==============================] - 0s 10ms/step - loss: 0.1729 - acc: 1.0000\n",
      "Epoch 5/6\n",
      "14/14 [==============================] - 0s 10ms/step - loss: 0.0357 - acc: 1.0000\n",
      "Epoch 6/6\n",
      "14/14 [==============================] - 0s 11ms/step - loss: 0.0084 - acc: 1.0000\n",
      "Predicting 35th label...\n"
     ]
    },
    {
     "data": {
      "application/vnd.jupyter.widget-view+json": {
       "model_id": "8df149ffe72a4a3ba16786a08dff6125",
       "version_major": 2,
       "version_minor": 0
      },
      "text/plain": [
       "  0%|          | 0/20 [00:00<?, ?it/s]"
      ]
     },
     "metadata": {},
     "output_type": "display_data"
    },
    {
     "name": "stdout",
     "output_type": "stream",
     "text": [
      "\n",
      "36'th label prediction started\n",
      "count_one 74\n",
      "count_zero 74\n",
      "Epoch 1/6\n",
      "5/5 [==============================] - 1s 34ms/step - loss: 0.6965 - acc: 0.5135\n",
      "Epoch 2/6\n",
      "5/5 [==============================] - 0s 11ms/step - loss: 0.6364 - acc: 0.9392\n",
      "Epoch 3/6\n",
      "5/5 [==============================] - 0s 11ms/step - loss: 0.5707 - acc: 0.9932\n",
      "Epoch 4/6\n",
      "5/5 [==============================] - 0s 10ms/step - loss: 0.4722 - acc: 1.0000\n",
      "Epoch 5/6\n",
      "5/5 [==============================] - 0s 10ms/step - loss: 0.3450 - acc: 1.0000\n",
      "Epoch 6/6\n",
      "5/5 [==============================] - 0s 10ms/step - loss: 0.2138 - acc: 1.0000\n",
      "Predicting 36th label...\n"
     ]
    },
    {
     "data": {
      "application/vnd.jupyter.widget-view+json": {
       "model_id": "96cb6e22dffa404695fe7e8936b401df",
       "version_major": 2,
       "version_minor": 0
      },
      "text/plain": [
       "  0%|          | 0/20 [00:00<?, ?it/s]"
      ]
     },
     "metadata": {},
     "output_type": "display_data"
    },
    {
     "name": "stdout",
     "output_type": "stream",
     "text": [
      "\n",
      "37'th label prediction started\n",
      "count_one 231\n",
      "count_zero 231\n",
      "Epoch 1/6\n",
      "15/15 [==============================] - 1s 11ms/step - loss: 0.6892 - acc: 0.5195\n",
      "Epoch 2/6\n",
      "15/15 [==============================] - 0s 10ms/step - loss: 0.5702 - acc: 0.8636\n",
      "Epoch 3/6\n",
      "15/15 [==============================] - 0s 11ms/step - loss: 0.3131 - acc: 0.9524\n",
      "Epoch 4/6\n",
      "15/15 [==============================] - 0s 11ms/step - loss: 0.1098 - acc: 0.9805\n",
      "Epoch 5/6\n",
      "15/15 [==============================] - 0s 11ms/step - loss: 0.0220 - acc: 1.0000\n",
      "Epoch 6/6\n",
      "15/15 [==============================] - 0s 11ms/step - loss: 0.0059 - acc: 1.0000\n",
      "Predicting 37th label...\n"
     ]
    },
    {
     "data": {
      "application/vnd.jupyter.widget-view+json": {
       "model_id": "a270e82a70bf4fddac72a03a84f63400",
       "version_major": 2,
       "version_minor": 0
      },
      "text/plain": [
       "  0%|          | 0/20 [00:00<?, ?it/s]"
      ]
     },
     "metadata": {},
     "output_type": "display_data"
    },
    {
     "name": "stdout",
     "output_type": "stream",
     "text": [
      "\n",
      "38'th label prediction started\n",
      "count_one 377\n",
      "count_zero 377\n",
      "Epoch 1/6\n",
      "24/24 [==============================] - 1s 11ms/step - loss: 0.6658 - acc: 0.6260\n",
      "Epoch 2/6\n",
      "24/24 [==============================] - 0s 11ms/step - loss: 0.3687 - acc: 0.9151\n",
      "Epoch 3/6\n",
      "24/24 [==============================] - 0s 11ms/step - loss: 0.0859 - acc: 0.9841\n",
      "Epoch 4/6\n",
      "24/24 [==============================] - 0s 11ms/step - loss: 0.0133 - acc: 0.9987\n",
      "Epoch 5/6\n",
      "24/24 [==============================] - 0s 11ms/step - loss: 0.0035 - acc: 1.0000\n",
      "Epoch 6/6\n",
      "24/24 [==============================] - 0s 10ms/step - loss: 0.0016 - acc: 1.0000\n",
      "Predicting 38th label...\n"
     ]
    },
    {
     "data": {
      "application/vnd.jupyter.widget-view+json": {
       "model_id": "bda1d4bd41b44832a84cc78b7769111d",
       "version_major": 2,
       "version_minor": 0
      },
      "text/plain": [
       "  0%|          | 0/20 [00:00<?, ?it/s]"
      ]
     },
     "metadata": {},
     "output_type": "display_data"
    },
    {
     "name": "stdout",
     "output_type": "stream",
     "text": [
      "\n",
      "39'th label prediction started\n",
      "count_one 82\n",
      "count_zero 82\n",
      "Epoch 1/6\n",
      "6/6 [==============================] - 1s 25ms/step - loss: 0.6945 - acc: 0.4695\n",
      "Epoch 2/6\n",
      "6/6 [==============================] - 0s 10ms/step - loss: 0.6191 - acc: 0.9146\n",
      "Epoch 3/6\n",
      "6/6 [==============================] - 0s 10ms/step - loss: 0.5146 - acc: 0.9939\n",
      "Epoch 4/6\n",
      "6/6 [==============================] - 0s 10ms/step - loss: 0.3607 - acc: 0.9939\n",
      "Epoch 5/6\n",
      "6/6 [==============================] - 0s 10ms/step - loss: 0.2014 - acc: 0.9939\n",
      "Epoch 6/6\n",
      "6/6 [==============================] - 0s 11ms/step - loss: 0.0975 - acc: 0.9939\n",
      "Predicting 39th label...\n"
     ]
    },
    {
     "data": {
      "application/vnd.jupyter.widget-view+json": {
       "model_id": "849536cc360a479a8e06881a1255a0ed",
       "version_major": 2,
       "version_minor": 0
      },
      "text/plain": [
       "  0%|          | 0/20 [00:00<?, ?it/s]"
      ]
     },
     "metadata": {},
     "output_type": "display_data"
    },
    {
     "name": "stdout",
     "output_type": "stream",
     "text": [
      "\n",
      "40'th label prediction started\n",
      "count_one 2066\n",
      "count_zero 2066\n",
      "Epoch 1/6\n",
      "130/130 [==============================] - 2s 11ms/step - loss: 0.5525 - acc: 0.7461\n",
      "Epoch 2/6\n",
      "130/130 [==============================] - 1s 10ms/step - loss: 0.2043 - acc: 0.9197\n",
      "Epoch 3/6\n",
      "130/130 [==============================] - 1s 11ms/step - loss: 0.0328 - acc: 0.9932\n",
      "Epoch 4/6\n",
      "130/130 [==============================] - 1s 10ms/step - loss: 0.0069 - acc: 0.9993\n",
      "Epoch 5/6\n",
      "130/130 [==============================] - 1s 10ms/step - loss: 0.0019 - acc: 1.0000\n",
      "Epoch 6/6\n",
      "130/130 [==============================] - 1s 11ms/step - loss: 0.0011 - acc: 1.0000\n",
      "Predicting 40th label...\n"
     ]
    },
    {
     "data": {
      "application/vnd.jupyter.widget-view+json": {
       "model_id": "2ce414cf54b54cdb95b5b8f980f86035",
       "version_major": 2,
       "version_minor": 0
      },
      "text/plain": [
       "  0%|          | 0/20 [00:00<?, ?it/s]"
      ]
     },
     "metadata": {},
     "output_type": "display_data"
    },
    {
     "name": "stdout",
     "output_type": "stream",
     "text": [
      "\n",
      "41'th label prediction started\n",
      "count_one 327\n",
      "count_zero 327\n",
      "Epoch 1/6\n",
      "21/21 [==============================] - 1s 11ms/step - loss: 0.6683 - acc: 0.5612\n",
      "Epoch 2/6\n",
      "21/21 [==============================] - 0s 10ms/step - loss: 0.4217 - acc: 0.9159\n",
      "Epoch 3/6\n",
      "21/21 [==============================] - 0s 11ms/step - loss: 0.1145 - acc: 0.9847\n",
      "Epoch 4/6\n",
      "21/21 [==============================] - 0s 11ms/step - loss: 0.0243 - acc: 0.9985\n",
      "Epoch 5/6\n",
      "21/21 [==============================] - 0s 11ms/step - loss: 0.0059 - acc: 0.9985\n",
      "Epoch 6/6\n",
      "21/21 [==============================] - 0s 11ms/step - loss: 0.0023 - acc: 1.0000\n",
      "Predicting 41th label...\n"
     ]
    },
    {
     "data": {
      "application/vnd.jupyter.widget-view+json": {
       "model_id": "4bb31a16f66a49aa834ae59faf470a6f",
       "version_major": 2,
       "version_minor": 0
      },
      "text/plain": [
       "  0%|          | 0/20 [00:00<?, ?it/s]"
      ]
     },
     "metadata": {},
     "output_type": "display_data"
    },
    {
     "name": "stdout",
     "output_type": "stream",
     "text": [
      "\n",
      "42'th label prediction started\n",
      "count_one 79\n",
      "count_zero 79\n",
      "Epoch 1/6\n",
      "5/5 [==============================] - 1s 39ms/step - loss: 0.6999 - acc: 0.5000\n",
      "Epoch 2/6\n",
      "5/5 [==============================] - 0s 9ms/step - loss: 0.6385 - acc: 0.9684\n",
      "Epoch 3/6\n",
      "5/5 [==============================] - 0s 10ms/step - loss: 0.5707 - acc: 1.0000\n",
      "Epoch 4/6\n",
      "5/5 [==============================] - 0s 11ms/step - loss: 0.4749 - acc: 1.0000\n",
      "Epoch 5/6\n",
      "5/5 [==============================] - 0s 10ms/step - loss: 0.3487 - acc: 1.0000\n",
      "Epoch 6/6\n",
      "5/5 [==============================] - 0s 10ms/step - loss: 0.2185 - acc: 1.0000\n",
      "Predicting 42th label...\n"
     ]
    },
    {
     "data": {
      "application/vnd.jupyter.widget-view+json": {
       "model_id": "dd9f232040d141c892d88441aac870d8",
       "version_major": 2,
       "version_minor": 0
      },
      "text/plain": [
       "  0%|          | 0/20 [00:00<?, ?it/s]"
      ]
     },
     "metadata": {},
     "output_type": "display_data"
    },
    {
     "name": "stdout",
     "output_type": "stream",
     "text": [
      "\n",
      "43'th label prediction started\n",
      "count_one 1307\n",
      "count_zero 1307\n",
      "Epoch 1/6\n",
      "82/82 [==============================] - 2s 15ms/step - loss: 0.4696 - acc: 0.7862\n",
      "Epoch 2/6\n",
      "82/82 [==============================] - 1s 11ms/step - loss: 0.1241 - acc: 0.9537\n",
      "Epoch 3/6\n",
      "82/82 [==============================] - 1s 11ms/step - loss: 0.0216 - acc: 0.9954\n",
      "Epoch 4/6\n",
      "82/82 [==============================] - 1s 10ms/step - loss: 0.0044 - acc: 0.9996\n",
      "Epoch 5/6\n",
      "82/82 [==============================] - 1s 11ms/step - loss: 9.8538e-04 - acc: 1.0000\n",
      "Epoch 6/6\n",
      "82/82 [==============================] - 1s 11ms/step - loss: 5.1876e-04 - acc: 1.0000\n",
      "Predicting 43th label...\n"
     ]
    },
    {
     "data": {
      "application/vnd.jupyter.widget-view+json": {
       "model_id": "3d5c05bfbac7403c85ea9cfbb19d8b6a",
       "version_major": 2,
       "version_minor": 0
      },
      "text/plain": [
       "  0%|          | 0/20 [00:00<?, ?it/s]"
      ]
     },
     "metadata": {},
     "output_type": "display_data"
    },
    {
     "name": "stdout",
     "output_type": "stream",
     "text": [
      "\n",
      "44'th label prediction started\n",
      "count_one 502\n",
      "count_zero 502\n",
      "Epoch 1/6\n",
      "32/32 [==============================] - 1s 10ms/step - loss: 0.6848 - acc: 0.5548\n",
      "Epoch 2/6\n",
      "32/32 [==============================] - 0s 10ms/step - loss: 0.4661 - acc: 0.7988\n",
      "Epoch 3/6\n",
      "32/32 [==============================] - 0s 10ms/step - loss: 0.1323 - acc: 0.9761\n",
      "Epoch 4/6\n",
      "32/32 [==============================] - 0s 10ms/step - loss: 0.0138 - acc: 1.0000\n",
      "Epoch 5/6\n",
      "32/32 [==============================] - 0s 11ms/step - loss: 0.0049 - acc: 1.0000\n",
      "Epoch 6/6\n",
      "32/32 [==============================] - 0s 10ms/step - loss: 0.0015 - acc: 1.0000\n",
      "Predicting 44th label...\n"
     ]
    },
    {
     "data": {
      "application/vnd.jupyter.widget-view+json": {
       "model_id": "dfce7a4afeda41cf87e9223e56db7eb6",
       "version_major": 2,
       "version_minor": 0
      },
      "text/plain": [
       "  0%|          | 0/20 [00:00<?, ?it/s]"
      ]
     },
     "metadata": {},
     "output_type": "display_data"
    },
    {
     "name": "stdout",
     "output_type": "stream",
     "text": [
      "\n",
      "45'th label prediction started\n",
      "count_one 2479\n",
      "count_zero 2479\n",
      "Epoch 1/6\n",
      "155/155 [==============================] - 2s 12ms/step - loss: 0.5098 - acc: 0.7541\n",
      "Epoch 2/6\n",
      "155/155 [==============================] - 2s 11ms/step - loss: 0.2311 - acc: 0.9106\n",
      "Epoch 3/6\n",
      "155/155 [==============================] - 2s 10ms/step - loss: 0.0601 - acc: 0.9847\n",
      "Epoch 4/6\n",
      "155/155 [==============================] - 2s 11ms/step - loss: 0.0077 - acc: 0.9990\n",
      "Epoch 5/6\n",
      "155/155 [==============================] - 2s 11ms/step - loss: 0.0018 - acc: 1.0000\n",
      "Epoch 6/6\n",
      "155/155 [==============================] - 2s 11ms/step - loss: 8.4742e-04 - acc: 1.0000\n",
      "Predicting 45th label...\n"
     ]
    },
    {
     "data": {
      "application/vnd.jupyter.widget-view+json": {
       "model_id": "00f2eeb99a73419cafdf8c09e97c07ad",
       "version_major": 2,
       "version_minor": 0
      },
      "text/plain": [
       "  0%|          | 0/20 [00:00<?, ?it/s]"
      ]
     },
     "metadata": {},
     "output_type": "display_data"
    },
    {
     "name": "stdout",
     "output_type": "stream",
     "text": [
      "\n",
      "46'th label prediction started\n",
      "count_one 613\n",
      "count_zero 613\n",
      "Epoch 1/6\n",
      "39/39 [==============================] - 1s 11ms/step - loss: 0.6757 - acc: 0.5563\n",
      "Epoch 2/6\n",
      "39/39 [==============================] - 0s 11ms/step - loss: 0.4183 - acc: 0.8556\n",
      "Epoch 3/6\n",
      "39/39 [==============================] - 0s 10ms/step - loss: 0.1070 - acc: 0.9788\n",
      "Epoch 4/6\n",
      "39/39 [==============================] - 0s 11ms/step - loss: 0.0134 - acc: 0.9992\n",
      "Epoch 5/6\n",
      "39/39 [==============================] - 0s 10ms/step - loss: 0.0037 - acc: 1.0000\n",
      "Epoch 6/6\n",
      "39/39 [==============================] - 0s 11ms/step - loss: 0.0019 - acc: 1.0000\n",
      "Predicting 46th label...\n"
     ]
    },
    {
     "data": {
      "application/vnd.jupyter.widget-view+json": {
       "model_id": "31f19dbe2b09474191dd9c54714cf326",
       "version_major": 2,
       "version_minor": 0
      },
      "text/plain": [
       "  0%|          | 0/20 [00:00<?, ?it/s]"
      ]
     },
     "metadata": {},
     "output_type": "display_data"
    },
    {
     "name": "stdout",
     "output_type": "stream",
     "text": [
      "\n",
      "47'th label prediction started\n",
      "count_one 299\n",
      "count_zero 299\n",
      "Epoch 1/6\n",
      "19/19 [==============================] - 1s 16ms/step - loss: 0.6956 - acc: 0.5385\n",
      "Epoch 2/6\n",
      "19/19 [==============================] - 0s 10ms/step - loss: 0.5775 - acc: 0.7809\n",
      "Epoch 3/6\n",
      "19/19 [==============================] - 0s 10ms/step - loss: 0.2647 - acc: 0.9632\n",
      "Epoch 4/6\n",
      "19/19 [==============================] - 0s 10ms/step - loss: 0.0501 - acc: 0.9983\n",
      "Epoch 5/6\n",
      "19/19 [==============================] - 0s 11ms/step - loss: 0.0085 - acc: 1.0000\n",
      "Epoch 6/6\n",
      "19/19 [==============================] - 0s 10ms/step - loss: 0.0031 - acc: 1.0000\n",
      "Predicting 47th label...\n"
     ]
    },
    {
     "data": {
      "application/vnd.jupyter.widget-view+json": {
       "model_id": "8a431f96be5f415088d26bdc090faf6d",
       "version_major": 2,
       "version_minor": 0
      },
      "text/plain": [
       "  0%|          | 0/20 [00:00<?, ?it/s]"
      ]
     },
     "metadata": {},
     "output_type": "display_data"
    },
    {
     "name": "stdout",
     "output_type": "stream",
     "text": [
      "\n",
      "48'th label prediction started\n",
      "count_one 330\n",
      "count_zero 330\n",
      "Epoch 1/6\n",
      "21/21 [==============================] - 1s 16ms/step - loss: 0.6893 - acc: 0.5197\n",
      "Epoch 2/6\n",
      "21/21 [==============================] - 0s 10ms/step - loss: 0.5086 - acc: 0.9348\n",
      "Epoch 3/6\n",
      "21/21 [==============================] - 0s 10ms/step - loss: 0.1460 - acc: 0.9909\n",
      "Epoch 4/6\n",
      "21/21 [==============================] - 0s 10ms/step - loss: 0.0152 - acc: 1.0000\n",
      "Epoch 5/6\n",
      "21/21 [==============================] - 0s 10ms/step - loss: 0.0039 - acc: 1.0000\n",
      "Epoch 6/6\n",
      "21/21 [==============================] - 0s 10ms/step - loss: 0.0020 - acc: 1.0000\n",
      "Predicting 48th label...\n"
     ]
    },
    {
     "data": {
      "application/vnd.jupyter.widget-view+json": {
       "model_id": "925ad2816e644020afb9bbca96bf76a8",
       "version_major": 2,
       "version_minor": 0
      },
      "text/plain": [
       "  0%|          | 0/20 [00:00<?, ?it/s]"
      ]
     },
     "metadata": {},
     "output_type": "display_data"
    },
    {
     "name": "stdout",
     "output_type": "stream",
     "text": [
      "\n",
      "49'th label prediction started\n",
      "count_one 82\n",
      "count_zero 82\n",
      "Epoch 1/6\n",
      "6/6 [==============================] - 1s 12ms/step - loss: 0.6991 - acc: 0.4939\n",
      "Epoch 2/6\n",
      "6/6 [==============================] - 0s 9ms/step - loss: 0.6202 - acc: 0.9939\n",
      "Epoch 3/6\n",
      "6/6 [==============================] - 0s 9ms/step - loss: 0.5262 - acc: 1.0000\n",
      "Epoch 4/6\n",
      "6/6 [==============================] - 0s 9ms/step - loss: 0.3927 - acc: 1.0000\n",
      "Epoch 5/6\n",
      "6/6 [==============================] - 0s 10ms/step - loss: 0.2452 - acc: 1.0000\n",
      "Epoch 6/6\n",
      "6/6 [==============================] - 0s 10ms/step - loss: 0.1228 - acc: 1.0000\n",
      "Predicting 49th label...\n"
     ]
    },
    {
     "data": {
      "application/vnd.jupyter.widget-view+json": {
       "model_id": "508817c917ef4c44bbb58bb9f7f7a0a7",
       "version_major": 2,
       "version_minor": 0
      },
      "text/plain": [
       "  0%|          | 0/20 [00:00<?, ?it/s]"
      ]
     },
     "metadata": {},
     "output_type": "display_data"
    },
    {
     "name": "stdout",
     "output_type": "stream",
     "text": [
      "\n",
      "50'th label prediction started\n",
      "count_one 271\n",
      "count_zero 271\n",
      "Epoch 1/6\n",
      "17/17 [==============================] - 1s 19ms/step - loss: 0.6865 - acc: 0.4963\n",
      "Epoch 2/6\n",
      "17/17 [==============================] - 0s 10ms/step - loss: 0.5287 - acc: 0.9133\n",
      "Epoch 3/6\n",
      "17/17 [==============================] - 0s 11ms/step - loss: 0.2408 - acc: 0.9760\n",
      "Epoch 4/6\n",
      "17/17 [==============================] - 0s 11ms/step - loss: 0.0559 - acc: 0.9982\n",
      "Epoch 5/6\n",
      "17/17 [==============================] - 0s 11ms/step - loss: 0.0094 - acc: 1.0000\n",
      "Epoch 6/6\n",
      "17/17 [==============================] - 0s 11ms/step - loss: 0.0033 - acc: 1.0000\n",
      "Predicting 50th label...\n"
     ]
    },
    {
     "data": {
      "application/vnd.jupyter.widget-view+json": {
       "model_id": "2a013c27048e4ffcaf19071bf2fa60b7",
       "version_major": 2,
       "version_minor": 0
      },
      "text/plain": [
       "  0%|          | 0/20 [00:00<?, ?it/s]"
      ]
     },
     "metadata": {},
     "output_type": "display_data"
    },
    {
     "name": "stdout",
     "output_type": "stream",
     "text": [
      "\n",
      "51'th label prediction started\n",
      "count_one 1116\n",
      "count_zero 1116\n",
      "Epoch 1/6\n",
      "70/70 [==============================] - 1s 12ms/step - loss: 0.6321 - acc: 0.6461\n",
      "Epoch 2/6\n",
      "70/70 [==============================] - 1s 11ms/step - loss: 0.4279 - acc: 0.8266\n",
      "Epoch 3/6\n",
      "70/70 [==============================] - 1s 11ms/step - loss: 0.1427 - acc: 0.9615\n",
      "Epoch 4/6\n",
      "70/70 [==============================] - 1s 11ms/step - loss: 0.0188 - acc: 0.9987\n",
      "Epoch 5/6\n",
      "70/70 [==============================] - 1s 10ms/step - loss: 0.0065 - acc: 1.0000\n",
      "Epoch 6/6\n",
      "70/70 [==============================] - 1s 10ms/step - loss: 0.0044 - acc: 1.0000\n",
      "Predicting 51th label...\n"
     ]
    },
    {
     "data": {
      "application/vnd.jupyter.widget-view+json": {
       "model_id": "c650a851ebe949c1a99bfd114cc5f3d8",
       "version_major": 2,
       "version_minor": 0
      },
      "text/plain": [
       "  0%|          | 0/20 [00:00<?, ?it/s]"
      ]
     },
     "metadata": {},
     "output_type": "display_data"
    },
    {
     "name": "stdout",
     "output_type": "stream",
     "text": [
      "\n",
      "52'th label prediction started\n",
      "count_one 92\n",
      "count_zero 92\n",
      "Epoch 1/6\n",
      "6/6 [==============================] - 1s 31ms/step - loss: 0.6961 - acc: 0.4511\n",
      "Epoch 2/6\n",
      "6/6 [==============================] - 0s 11ms/step - loss: 0.6335 - acc: 0.9946\n",
      "Epoch 3/6\n",
      "6/6 [==============================] - 0s 11ms/step - loss: 0.5421 - acc: 1.0000\n",
      "Epoch 4/6\n",
      "6/6 [==============================] - 0s 11ms/step - loss: 0.4003 - acc: 1.0000\n",
      "Epoch 5/6\n",
      "6/6 [==============================] - 0s 11ms/step - loss: 0.2309 - acc: 1.0000\n",
      "Epoch 6/6\n",
      "6/6 [==============================] - 0s 11ms/step - loss: 0.0995 - acc: 1.0000\n",
      "Predicting 52th label...\n"
     ]
    },
    {
     "data": {
      "application/vnd.jupyter.widget-view+json": {
       "model_id": "93854ef0bf1a4001a3083580f65975db",
       "version_major": 2,
       "version_minor": 0
      },
      "text/plain": [
       "  0%|          | 0/20 [00:00<?, ?it/s]"
      ]
     },
     "metadata": {},
     "output_type": "display_data"
    },
    {
     "name": "stdout",
     "output_type": "stream",
     "text": [
      "\n",
      "53'th label prediction started\n",
      "count_one 601\n",
      "count_zero 601\n",
      "Epoch 1/6\n",
      "38/38 [==============================] - 1s 11ms/step - loss: 0.6535 - acc: 0.5932\n",
      "Epoch 2/6\n",
      "38/38 [==============================] - 0s 11ms/step - loss: 0.3887 - acc: 0.8411\n",
      "Epoch 3/6\n",
      "38/38 [==============================] - 0s 11ms/step - loss: 0.1098 - acc: 0.9834\n",
      "Epoch 4/6\n",
      "38/38 [==============================] - 0s 11ms/step - loss: 0.0134 - acc: 0.9992\n",
      "Epoch 5/6\n",
      "38/38 [==============================] - 0s 10ms/step - loss: 0.0053 - acc: 1.0000\n",
      "Epoch 6/6\n",
      "38/38 [==============================] - 0s 10ms/step - loss: 0.0024 - acc: 1.0000\n",
      "Predicting 53th label...\n"
     ]
    },
    {
     "data": {
      "application/vnd.jupyter.widget-view+json": {
       "model_id": "c8b69eaa9ed3454c85008962e53d9300",
       "version_major": 2,
       "version_minor": 0
      },
      "text/plain": [
       "  0%|          | 0/20 [00:00<?, ?it/s]"
      ]
     },
     "metadata": {},
     "output_type": "display_data"
    },
    {
     "name": "stdout",
     "output_type": "stream",
     "text": [
      "\n",
      "54'th label prediction started\n",
      "count_one 194\n",
      "count_zero 194\n",
      "Epoch 1/6\n",
      "13/13 [==============================] - 1s 33ms/step - loss: 0.6977 - acc: 0.5258\n",
      "Epoch 2/6\n",
      "13/13 [==============================] - 0s 10ms/step - loss: 0.5813 - acc: 0.7526\n",
      "Epoch 3/6\n",
      "13/13 [==============================] - 0s 8ms/step - loss: 0.3250 - acc: 0.9923\n",
      "Epoch 4/6\n",
      "13/13 [==============================] - 0s 10ms/step - loss: 0.1028 - acc: 0.9923\n",
      "Epoch 5/6\n",
      "13/13 [==============================] - 0s 10ms/step - loss: 0.0224 - acc: 0.9974\n",
      "Epoch 6/6\n",
      "13/13 [==============================] - 0s 10ms/step - loss: 0.0061 - acc: 1.0000\n",
      "Predicting 54th label...\n"
     ]
    },
    {
     "data": {
      "application/vnd.jupyter.widget-view+json": {
       "model_id": "7a7de71d53034a7d9ecbe61287438416",
       "version_major": 2,
       "version_minor": 0
      },
      "text/plain": [
       "  0%|          | 0/20 [00:00<?, ?it/s]"
      ]
     },
     "metadata": {},
     "output_type": "display_data"
    },
    {
     "name": "stdout",
     "output_type": "stream",
     "text": [
      "\n",
      "55'th label prediction started\n",
      "count_one 101\n",
      "count_zero 101\n",
      "Epoch 1/6\n",
      "7/7 [==============================] - 1s 11ms/step - loss: 0.7045 - acc: 0.4455\n",
      "Epoch 2/6\n",
      "7/7 [==============================] - 0s 10ms/step - loss: 0.6306 - acc: 0.9703\n",
      "Epoch 3/6\n",
      "7/7 [==============================] - 0s 11ms/step - loss: 0.5438 - acc: 0.9901\n",
      "Epoch 4/6\n",
      "7/7 [==============================] - 0s 9ms/step - loss: 0.3898 - acc: 0.9901\n",
      "Epoch 5/6\n",
      "7/7 [==============================] - 0s 9ms/step - loss: 0.2179 - acc: 0.9901\n",
      "Epoch 6/6\n",
      "7/7 [==============================] - 0s 9ms/step - loss: 0.0899 - acc: 0.9950\n",
      "Predicting 55th label...\n"
     ]
    },
    {
     "data": {
      "application/vnd.jupyter.widget-view+json": {
       "model_id": "536d05f9e988481bbef017783b99581f",
       "version_major": 2,
       "version_minor": 0
      },
      "text/plain": [
       "  0%|          | 0/20 [00:00<?, ?it/s]"
      ]
     },
     "metadata": {},
     "output_type": "display_data"
    },
    {
     "name": "stdout",
     "output_type": "stream",
     "text": [
      "\n",
      "56'th label prediction started\n",
      "count_one 3732\n",
      "count_zero 3732\n",
      "Epoch 1/6\n",
      "234/234 [==============================] - 3s 12ms/step - loss: 0.4213 - acc: 0.8248\n",
      "Epoch 2/6\n",
      "234/234 [==============================] - 3s 11ms/step - loss: 0.1700 - acc: 0.9405\n",
      "Epoch 3/6\n",
      "234/234 [==============================] - 3s 11ms/step - loss: 0.0427 - acc: 0.9889\n",
      "Epoch 4/6\n",
      "234/234 [==============================] - 3s 11ms/step - loss: 0.0058 - acc: 0.9989\n",
      "Epoch 5/6\n",
      "234/234 [==============================] - 3s 11ms/step - loss: 0.0014 - acc: 0.9999\n",
      "Epoch 6/6\n",
      "234/234 [==============================] - 2s 11ms/step - loss: 4.9782e-04 - acc: 1.0000\n",
      "Predicting 56th label...\n"
     ]
    },
    {
     "data": {
      "application/vnd.jupyter.widget-view+json": {
       "model_id": "3bd1876ab7c14a3bb9dda1170a00d162",
       "version_major": 2,
       "version_minor": 0
      },
      "text/plain": [
       "  0%|          | 0/20 [00:00<?, ?it/s]"
      ]
     },
     "metadata": {},
     "output_type": "display_data"
    },
    {
     "name": "stdout",
     "output_type": "stream",
     "text": [
      "\n",
      "57'th label prediction started\n",
      "count_one 1628\n",
      "count_zero 1628\n",
      "Epoch 1/6\n",
      "102/102 [==============================] - 2s 12ms/step - loss: 0.4391 - acc: 0.8354\n",
      "Epoch 2/6\n",
      "102/102 [==============================] - 1s 11ms/step - loss: 0.1193 - acc: 0.9625\n",
      "Epoch 3/6\n",
      "102/102 [==============================] - 1s 11ms/step - loss: 0.0295 - acc: 0.9942\n",
      "Epoch 4/6\n",
      "102/102 [==============================] - 1s 11ms/step - loss: 0.0096 - acc: 0.9982\n",
      "Epoch 5/6\n",
      "102/102 [==============================] - 1s 11ms/step - loss: 0.0017 - acc: 1.0000\n",
      "Epoch 6/6\n",
      "102/102 [==============================] - 1s 11ms/step - loss: 8.7271e-04 - acc: 1.0000\n",
      "Predicting 57th label...\n"
     ]
    },
    {
     "data": {
      "application/vnd.jupyter.widget-view+json": {
       "model_id": "901bc6da90714a2ab753178f62290db4",
       "version_major": 2,
       "version_minor": 0
      },
      "text/plain": [
       "  0%|          | 0/20 [00:00<?, ?it/s]"
      ]
     },
     "metadata": {},
     "output_type": "display_data"
    },
    {
     "name": "stdout",
     "output_type": "stream",
     "text": [
      "\n",
      "58'th label prediction started\n",
      "count_one 535\n",
      "count_zero 535\n",
      "Epoch 1/6\n",
      "34/34 [==============================] - 1s 11ms/step - loss: 0.6239 - acc: 0.6645\n",
      "Epoch 2/6\n",
      "34/34 [==============================] - 0s 11ms/step - loss: 0.2217 - acc: 0.9439\n",
      "Epoch 3/6\n",
      "34/34 [==============================] - 0s 11ms/step - loss: 0.0583 - acc: 0.9850\n",
      "Epoch 4/6\n",
      "34/34 [==============================] - 0s 11ms/step - loss: 0.0120 - acc: 1.0000\n",
      "Epoch 5/6\n",
      "34/34 [==============================] - 0s 11ms/step - loss: 0.0054 - acc: 1.0000\n",
      "Epoch 6/6\n",
      "34/34 [==============================] - 0s 10ms/step - loss: 0.0014 - acc: 1.0000\n",
      "Predicting 58th label...\n"
     ]
    },
    {
     "data": {
      "application/vnd.jupyter.widget-view+json": {
       "model_id": "18a9a5e2b1ca43f2a37d9db9c3e9b2fd",
       "version_major": 2,
       "version_minor": 0
      },
      "text/plain": [
       "  0%|          | 0/20 [00:00<?, ?it/s]"
      ]
     },
     "metadata": {},
     "output_type": "display_data"
    },
    {
     "name": "stdout",
     "output_type": "stream",
     "text": [
      "\n",
      "59'th label prediction started\n",
      "count_one 341\n",
      "count_zero 341\n",
      "Epoch 1/6\n",
      "22/22 [==============================] - 1s 11ms/step - loss: 0.6698 - acc: 0.6114\n",
      "Epoch 2/6\n",
      "22/22 [==============================] - 0s 11ms/step - loss: 0.3802 - acc: 0.9575\n",
      "Epoch 3/6\n",
      "22/22 [==============================] - 0s 11ms/step - loss: 0.1041 - acc: 0.9751\n",
      "Epoch 4/6\n",
      "22/22 [==============================] - 0s 11ms/step - loss: 0.0246 - acc: 0.9956\n",
      "Epoch 5/6\n",
      "22/22 [==============================] - 0s 11ms/step - loss: 0.0057 - acc: 1.0000\n",
      "Epoch 6/6\n",
      "22/22 [==============================] - 0s 10ms/step - loss: 0.0022 - acc: 1.0000\n",
      "Predicting 59th label...\n"
     ]
    },
    {
     "data": {
      "application/vnd.jupyter.widget-view+json": {
       "model_id": "0f90030291cf477abda81f59ce31b4e9",
       "version_major": 2,
       "version_minor": 0
      },
      "text/plain": [
       "  0%|          | 0/20 [00:00<?, ?it/s]"
      ]
     },
     "metadata": {},
     "output_type": "display_data"
    },
    {
     "name": "stdout",
     "output_type": "stream",
     "text": [
      "\n",
      "60'th label prediction started\n",
      "count_one 77\n",
      "count_zero 77\n",
      "Epoch 1/6\n",
      "5/5 [==============================] - 1s 39ms/step - loss: 0.7031 - acc: 0.4545\n",
      "Epoch 2/6\n",
      "5/5 [==============================] - 0s 10ms/step - loss: 0.6295 - acc: 0.9351\n",
      "Epoch 3/6\n",
      "5/5 [==============================] - 0s 10ms/step - loss: 0.5568 - acc: 1.0000\n",
      "Epoch 4/6\n",
      "5/5 [==============================] - 0s 9ms/step - loss: 0.4443 - acc: 1.0000\n",
      "Epoch 5/6\n",
      "5/5 [==============================] - 0s 11ms/step - loss: 0.3054 - acc: 1.0000\n",
      "Epoch 6/6\n",
      "5/5 [==============================] - 0s 12ms/step - loss: 0.1741 - acc: 1.0000\n",
      "Predicting 60th label...\n"
     ]
    },
    {
     "data": {
      "application/vnd.jupyter.widget-view+json": {
       "model_id": "76a6da530c5b490ba7a0980d093ce5fa",
       "version_major": 2,
       "version_minor": 0
      },
      "text/plain": [
       "  0%|          | 0/20 [00:00<?, ?it/s]"
      ]
     },
     "metadata": {},
     "output_type": "display_data"
    },
    {
     "name": "stdout",
     "output_type": "stream",
     "text": [
      "\n",
      "61'th label prediction started\n",
      "count_one 559\n",
      "count_zero 559\n",
      "Epoch 1/6\n",
      "35/35 [==============================] - 1s 14ms/step - loss: 0.6692 - acc: 0.5590\n",
      "Epoch 2/6\n",
      "35/35 [==============================] - 0s 11ms/step - loss: 0.4035 - acc: 0.8667\n",
      "Epoch 3/6\n",
      "35/35 [==============================] - 0s 11ms/step - loss: 0.0798 - acc: 0.9902\n",
      "Epoch 4/6\n",
      "35/35 [==============================] - 0s 11ms/step - loss: 0.0076 - acc: 1.0000\n",
      "Epoch 5/6\n",
      "35/35 [==============================] - 0s 11ms/step - loss: 0.0027 - acc: 1.0000\n",
      "Epoch 6/6\n",
      "35/35 [==============================] - 0s 10ms/step - loss: 0.0014 - acc: 1.0000\n",
      "Predicting 61th label...\n"
     ]
    },
    {
     "data": {
      "application/vnd.jupyter.widget-view+json": {
       "model_id": "de1c0dfbe6684f37bc397232ef24ed50",
       "version_major": 2,
       "version_minor": 0
      },
      "text/plain": [
       "  0%|          | 0/20 [00:00<?, ?it/s]"
      ]
     },
     "metadata": {},
     "output_type": "display_data"
    },
    {
     "name": "stdout",
     "output_type": "stream",
     "text": [
      "\n",
      "62'th label prediction started\n",
      "count_one 730\n",
      "count_zero 730\n",
      "Epoch 1/6\n",
      "46/46 [==============================] - 1s 11ms/step - loss: 0.6615 - acc: 0.5918\n",
      "Epoch 2/6\n",
      "46/46 [==============================] - 1s 11ms/step - loss: 0.3338 - acc: 0.9007\n",
      "Epoch 3/6\n",
      "46/46 [==============================] - 0s 10ms/step - loss: 0.0626 - acc: 0.9863\n",
      "Epoch 4/6\n",
      "46/46 [==============================] - 1s 11ms/step - loss: 0.0125 - acc: 0.9993\n",
      "Epoch 5/6\n",
      "46/46 [==============================] - 1s 11ms/step - loss: 0.0022 - acc: 1.0000\n",
      "Epoch 6/6\n",
      "46/46 [==============================] - 1s 11ms/step - loss: 0.0013 - acc: 1.0000\n",
      "Predicting 62th label...\n"
     ]
    },
    {
     "data": {
      "application/vnd.jupyter.widget-view+json": {
       "model_id": "b96080adfd9e438ea0573df5393a0a31",
       "version_major": 2,
       "version_minor": 0
      },
      "text/plain": [
       "  0%|          | 0/20 [00:00<?, ?it/s]"
      ]
     },
     "metadata": {},
     "output_type": "display_data"
    },
    {
     "name": "stdout",
     "output_type": "stream",
     "text": [
      "\n",
      "63'th label prediction started\n",
      "count_one 125\n",
      "count_zero 125\n",
      "Epoch 1/6\n",
      "8/8 [==============================] - 1s 26ms/step - loss: 0.6966 - acc: 0.4880\n",
      "Epoch 2/6\n",
      "8/8 [==============================] - 0s 10ms/step - loss: 0.6256 - acc: 0.9760\n",
      "Epoch 3/6\n",
      "8/8 [==============================] - 0s 10ms/step - loss: 0.5134 - acc: 0.9960\n",
      "Epoch 4/6\n",
      "8/8 [==============================] - ETA: 0s - loss: 0.3369 - acc: 1.000 - 0s 10ms/step - loss: 0.3242 - acc: 0.9960\n",
      "Epoch 5/6\n",
      "8/8 [==============================] - 0s 11ms/step - loss: 0.1406 - acc: 1.0000\n",
      "Epoch 6/6\n",
      "8/8 [==============================] - 0s 11ms/step - loss: 0.0440 - acc: 1.0000\n",
      "Predicting 63th label...\n"
     ]
    },
    {
     "data": {
      "application/vnd.jupyter.widget-view+json": {
       "model_id": "1493fb9106434b64b256152b81f523e0",
       "version_major": 2,
       "version_minor": 0
      },
      "text/plain": [
       "  0%|          | 0/20 [00:00<?, ?it/s]"
      ]
     },
     "metadata": {},
     "output_type": "display_data"
    },
    {
     "name": "stdout",
     "output_type": "stream",
     "text": [
      "\n",
      "64'th label prediction started\n",
      "count_one 81\n",
      "count_zero 81\n",
      "Epoch 1/6\n",
      "6/6 [==============================] - 1s 11ms/step - loss: 0.7022 - acc: 0.4815\n",
      "Epoch 2/6\n",
      "6/6 [==============================] - 0s 11ms/step - loss: 0.6458 - acc: 0.9321\n",
      "Epoch 3/6\n",
      "6/6 [==============================] - 0s 9ms/step - loss: 0.5764 - acc: 1.0000\n",
      "Epoch 4/6\n",
      "6/6 [==============================] - 0s 10ms/step - loss: 0.4669 - acc: 1.0000\n",
      "Epoch 5/6\n",
      "6/6 [==============================] - 0s 10ms/step - loss: 0.3206 - acc: 1.0000\n",
      "Epoch 6/6\n",
      "6/6 [==============================] - 0s 10ms/step - loss: 0.1698 - acc: 1.0000\n",
      "Predicting 64th label...\n"
     ]
    },
    {
     "data": {
      "application/vnd.jupyter.widget-view+json": {
       "model_id": "94cb86db794746bcb07d61e0f913f179",
       "version_major": 2,
       "version_minor": 0
      },
      "text/plain": [
       "  0%|          | 0/20 [00:00<?, ?it/s]"
      ]
     },
     "metadata": {},
     "output_type": "display_data"
    },
    {
     "name": "stdout",
     "output_type": "stream",
     "text": [
      "\n",
      "65'th label prediction started\n",
      "count_one 484\n",
      "count_zero 484\n",
      "Epoch 1/6\n",
      "31/31 [==============================] - 1s 17ms/step - loss: 0.6642 - acc: 0.5754\n",
      "Epoch 2/6\n",
      "31/31 [==============================] - 0s 11ms/step - loss: 0.4417 - acc: 0.8295\n",
      "Epoch 3/6\n",
      "31/31 [==============================] - 0s 10ms/step - loss: 0.1618 - acc: 0.9711\n",
      "Epoch 4/6\n",
      "31/31 [==============================] - 0s 10ms/step - loss: 0.0218 - acc: 1.0000\n",
      "Epoch 5/6\n",
      "31/31 [==============================] - 0s 10ms/step - loss: 0.0052 - acc: 1.0000\n",
      "Epoch 6/6\n",
      "31/31 [==============================] - 0s 10ms/step - loss: 0.0022 - acc: 1.0000\n",
      "Predicting 65th label...\n"
     ]
    },
    {
     "data": {
      "application/vnd.jupyter.widget-view+json": {
       "model_id": "b32d80ecb2444579824aa842511fe8d9",
       "version_major": 2,
       "version_minor": 0
      },
      "text/plain": [
       "  0%|          | 0/20 [00:00<?, ?it/s]"
      ]
     },
     "metadata": {},
     "output_type": "display_data"
    },
    {
     "name": "stdout",
     "output_type": "stream",
     "text": [
      "\n",
      "66'th label prediction started\n",
      "count_one 86\n",
      "count_zero 86\n",
      "Epoch 1/6\n",
      "6/6 [==============================] - 1s 10ms/step - loss: 0.7141 - acc: 0.5000\n",
      "Epoch 2/6\n",
      "6/6 [==============================] - 0s 10ms/step - loss: 0.6417 - acc: 0.8430\n",
      "Epoch 3/6\n",
      "6/6 [==============================] - 0s 10ms/step - loss: 0.5763 - acc: 1.0000\n",
      "Epoch 4/6\n",
      "6/6 [==============================] - 0s 10ms/step - loss: 0.4771 - acc: 1.0000\n",
      "Epoch 5/6\n",
      "6/6 [==============================] - 0s 11ms/step - loss: 0.3285 - acc: 1.0000\n",
      "Epoch 6/6\n",
      "6/6 [==============================] - 0s 9ms/step - loss: 0.1934 - acc: 1.0000\n",
      "Predicting 66th label...\n"
     ]
    },
    {
     "data": {
      "application/vnd.jupyter.widget-view+json": {
       "model_id": "f825278f7163438f8fae2bbeef5d4436",
       "version_major": 2,
       "version_minor": 0
      },
      "text/plain": [
       "  0%|          | 0/20 [00:00<?, ?it/s]"
      ]
     },
     "metadata": {},
     "output_type": "display_data"
    },
    {
     "name": "stdout",
     "output_type": "stream",
     "text": [
      "\n",
      "67'th label prediction started\n",
      "count_one 445\n",
      "count_zero 445\n",
      "Epoch 1/6\n",
      "28/28 [==============================] - 1s 15ms/step - loss: 0.6852 - acc: 0.5348\n",
      "Epoch 2/6\n",
      "28/28 [==============================] - 0s 11ms/step - loss: 0.4840 - acc: 0.9360\n",
      "Epoch 3/6\n",
      "28/28 [==============================] - 0s 10ms/step - loss: 0.1070 - acc: 0.9899\n",
      "Epoch 4/6\n",
      "28/28 [==============================] - 0s 11ms/step - loss: 0.0079 - acc: 1.0000\n",
      "Epoch 5/6\n",
      "28/28 [==============================] - 0s 11ms/step - loss: 0.0026 - acc: 1.0000\n",
      "Epoch 6/6\n",
      "28/28 [==============================] - 0s 11ms/step - loss: 0.0014 - acc: 1.0000\n",
      "Predicting 67th label...\n"
     ]
    },
    {
     "data": {
      "application/vnd.jupyter.widget-view+json": {
       "model_id": "3ff73db9158d4710991830ff59708330",
       "version_major": 2,
       "version_minor": 0
      },
      "text/plain": [
       "  0%|          | 0/20 [00:00<?, ?it/s]"
      ]
     },
     "metadata": {},
     "output_type": "display_data"
    },
    {
     "name": "stdout",
     "output_type": "stream",
     "text": [
      "\n",
      "68'th label prediction started\n",
      "count_one 191\n",
      "count_zero 191\n",
      "Epoch 1/6\n",
      "12/12 [==============================] - 1s 12ms/step - loss: 0.6964 - acc: 0.5209\n",
      "Epoch 2/6\n",
      "12/12 [==============================] - 0s 11ms/step - loss: 0.6069 - acc: 0.9058\n",
      "Epoch 3/6\n",
      "12/12 [==============================] - 0s 10ms/step - loss: 0.4179 - acc: 1.0000\n",
      "Epoch 4/6\n",
      "12/12 [==============================] - 0s 10ms/step - loss: 0.1636 - acc: 1.0000\n",
      "Epoch 5/6\n",
      "12/12 [==============================] - 0s 11ms/step - loss: 0.0324 - acc: 1.0000\n",
      "Epoch 6/6\n",
      "12/12 [==============================] - 0s 11ms/step - loss: 0.0072 - acc: 1.0000\n",
      "Predicting 68th label...\n"
     ]
    },
    {
     "data": {
      "application/vnd.jupyter.widget-view+json": {
       "model_id": "b7c0d80ffe534360b46b23dda7ca324f",
       "version_major": 2,
       "version_minor": 0
      },
      "text/plain": [
       "  0%|          | 0/20 [00:00<?, ?it/s]"
      ]
     },
     "metadata": {},
     "output_type": "display_data"
    },
    {
     "name": "stdout",
     "output_type": "stream",
     "text": [
      "\n",
      "69'th label prediction started\n",
      "count_one 1983\n",
      "count_zero 1983\n",
      "Epoch 1/6\n",
      "124/124 [==============================] - 2s 12ms/step - loss: 0.4151 - acc: 0.7978\n",
      "Epoch 2/6\n",
      "124/124 [==============================] - 1s 11ms/step - loss: 0.1501 - acc: 0.9503\n",
      "Epoch 3/6\n",
      "124/124 [==============================] - 1s 11ms/step - loss: 0.0267 - acc: 0.9939\n",
      "Epoch 4/6\n",
      "124/124 [==============================] - 1s 11ms/step - loss: 0.0029 - acc: 1.0000\n",
      "Epoch 5/6\n",
      "124/124 [==============================] - 1s 11ms/step - loss: 9.9911e-04 - acc: 1.0000\n",
      "Epoch 6/6\n",
      "124/124 [==============================] - 1s 11ms/step - loss: 3.1507e-04 - acc: 1.0000\n",
      "Predicting 69th label...\n"
     ]
    },
    {
     "data": {
      "application/vnd.jupyter.widget-view+json": {
       "model_id": "79db4e121288439bb78453d122292ace",
       "version_major": 2,
       "version_minor": 0
      },
      "text/plain": [
       "  0%|          | 0/20 [00:00<?, ?it/s]"
      ]
     },
     "metadata": {},
     "output_type": "display_data"
    },
    {
     "name": "stdout",
     "output_type": "stream",
     "text": [
      "\n",
      "70'th label prediction started\n",
      "count_one 206\n",
      "count_zero 206\n",
      "Epoch 1/6\n",
      "13/13 [==============================] - 1s 21ms/step - loss: 0.6911 - acc: 0.4976\n",
      "Epoch 2/6\n",
      "13/13 [==============================] - 0s 11ms/step - loss: 0.5883 - acc: 0.9782\n",
      "Epoch 3/6\n",
      "13/13 [==============================] - 0s 10ms/step - loss: 0.3461 - acc: 0.9806\n",
      "Epoch 4/6\n",
      "13/13 [==============================] - 0s 11ms/step - loss: 0.1100 - acc: 0.9854\n",
      "Epoch 5/6\n",
      "13/13 [==============================] - 0s 10ms/step - loss: 0.0237 - acc: 0.9951\n",
      "Epoch 6/6\n",
      "13/13 [==============================] - 0s 11ms/step - loss: 0.0053 - acc: 1.0000\n",
      "Predicting 70th label...\n"
     ]
    },
    {
     "data": {
      "application/vnd.jupyter.widget-view+json": {
       "model_id": "edc5a2f502eb43e68c6be29b3211e2a6",
       "version_major": 2,
       "version_minor": 0
      },
      "text/plain": [
       "  0%|          | 0/20 [00:00<?, ?it/s]"
      ]
     },
     "metadata": {},
     "output_type": "display_data"
    },
    {
     "name": "stdout",
     "output_type": "stream",
     "text": [
      "\n",
      "71'th label prediction started\n",
      "count_one 84\n",
      "count_zero 84\n",
      "Epoch 1/6\n",
      "6/6 [==============================] - 1s 10ms/step - loss: 0.6948 - acc: 0.4881\n",
      "Epoch 2/6\n",
      "6/6 [==============================] - 0s 10ms/step - loss: 0.6143 - acc: 0.9821\n",
      "Epoch 3/6\n",
      "6/6 [==============================] - 0s 11ms/step - loss: 0.5172 - acc: 1.0000\n",
      "Epoch 4/6\n",
      "6/6 [==============================] - 0s 11ms/step - loss: 0.3685 - acc: 1.0000\n",
      "Epoch 5/6\n",
      "6/6 [==============================] - 0s 10ms/step - loss: 0.2121 - acc: 1.0000\n",
      "Epoch 6/6\n",
      "6/6 [==============================] - 0s 10ms/step - loss: 0.0951 - acc: 1.0000\n",
      "Predicting 71th label...\n"
     ]
    },
    {
     "data": {
      "application/vnd.jupyter.widget-view+json": {
       "model_id": "211449f30a7541adb814e0b74935c635",
       "version_major": 2,
       "version_minor": 0
      },
      "text/plain": [
       "  0%|          | 0/20 [00:00<?, ?it/s]"
      ]
     },
     "metadata": {},
     "output_type": "display_data"
    },
    {
     "name": "stdout",
     "output_type": "stream",
     "text": [
      "\n",
      "72'th label prediction started\n",
      "count_one 126\n",
      "count_zero 126\n",
      "Epoch 1/6\n",
      "8/8 [==============================] - 1s 12ms/step - loss: 0.6882 - acc: 0.5714\n",
      "Epoch 2/6\n",
      "8/8 [==============================] - 0s 11ms/step - loss: 0.6053 - acc: 0.9802\n",
      "Epoch 3/6\n",
      "8/8 [==============================] - 0s 11ms/step - loss: 0.4414 - acc: 1.0000\n",
      "Epoch 4/6\n",
      "8/8 [==============================] - 0s 11ms/step - loss: 0.2168 - acc: 1.0000\n",
      "Epoch 5/6\n",
      "8/8 [==============================] - 0s 10ms/step - loss: 0.0797 - acc: 1.0000\n",
      "Epoch 6/6\n",
      "8/8 [==============================] - 0s 11ms/step - loss: 0.0243 - acc: 1.0000\n",
      "Predicting 72th label...\n"
     ]
    },
    {
     "data": {
      "application/vnd.jupyter.widget-view+json": {
       "model_id": "1c8c8a5de60f431eb3849846e4f06551",
       "version_major": 2,
       "version_minor": 0
      },
      "text/plain": [
       "  0%|          | 0/20 [00:00<?, ?it/s]"
      ]
     },
     "metadata": {},
     "output_type": "display_data"
    },
    {
     "name": "stdout",
     "output_type": "stream",
     "text": [
      "\n",
      "73'th label prediction started\n",
      "count_one 88\n",
      "count_zero 88\n",
      "Epoch 1/6\n",
      "6/6 [==============================] - 1s 29ms/step - loss: 0.6965 - acc: 0.5114\n",
      "Epoch 2/6\n",
      "6/6 [==============================] - 0s 11ms/step - loss: 0.6188 - acc: 0.9489\n",
      "Epoch 3/6\n",
      "6/6 [==============================] - 0s 11ms/step - loss: 0.5152 - acc: 1.0000\n",
      "Epoch 4/6\n",
      "6/6 [==============================] - 0s 10ms/step - loss: 0.3559 - acc: 1.0000\n",
      "Epoch 5/6\n",
      "6/6 [==============================] - 0s 11ms/step - loss: 0.1879 - acc: 1.0000\n",
      "Epoch 6/6\n",
      "6/6 [==============================] - 0s 12ms/step - loss: 0.0783 - acc: 1.0000\n",
      "Predicting 73th label...\n"
     ]
    },
    {
     "data": {
      "application/vnd.jupyter.widget-view+json": {
       "model_id": "3525d34998444299b69de97d490a1636",
       "version_major": 2,
       "version_minor": 0
      },
      "text/plain": [
       "  0%|          | 0/20 [00:00<?, ?it/s]"
      ]
     },
     "metadata": {},
     "output_type": "display_data"
    },
    {
     "name": "stdout",
     "output_type": "stream",
     "text": [
      "\n",
      "74'th label prediction started\n",
      "count_one 493\n",
      "count_zero 493\n",
      "Epoch 1/6\n",
      "31/31 [==============================] - 1s 11ms/step - loss: 0.6877 - acc: 0.5477\n",
      "Epoch 2/6\n",
      "31/31 [==============================] - 0s 11ms/step - loss: 0.5385 - acc: 0.7840\n",
      "Epoch 3/6\n",
      "31/31 [==============================] - 0s 11ms/step - loss: 0.1621 - acc: 0.9736\n",
      "Epoch 4/6\n",
      "31/31 [==============================] - 0s 10ms/step - loss: 0.0221 - acc: 0.9980\n",
      "Epoch 5/6\n",
      "31/31 [==============================] - 0s 11ms/step - loss: 0.0052 - acc: 1.0000\n",
      "Epoch 6/6\n",
      "31/31 [==============================] - 0s 10ms/step - loss: 0.0016 - acc: 1.0000\n",
      "Predicting 74th label...\n"
     ]
    },
    {
     "data": {
      "application/vnd.jupyter.widget-view+json": {
       "model_id": "c2fc2ae600c74eb9bc104ec4d9fbbd45",
       "version_major": 2,
       "version_minor": 0
      },
      "text/plain": [
       "  0%|          | 0/20 [00:00<?, ?it/s]"
      ]
     },
     "metadata": {},
     "output_type": "display_data"
    },
    {
     "name": "stdout",
     "output_type": "stream",
     "text": [
      "\n",
      "75'th label prediction started\n",
      "count_one 140\n",
      "count_zero 140\n",
      "Epoch 1/6\n",
      "9/9 [==============================] - 1s 12ms/step - loss: 0.6970 - acc: 0.4893\n",
      "Epoch 2/6\n",
      "9/9 [==============================] - 0s 11ms/step - loss: 0.6381 - acc: 0.9750\n",
      "Epoch 3/6\n",
      "9/9 [==============================] - 0s 10ms/step - loss: 0.5270 - acc: 1.0000\n",
      "Epoch 4/6\n",
      "9/9 [==============================] - 0s 11ms/step - loss: 0.3427 - acc: 1.0000\n",
      "Epoch 5/6\n",
      "9/9 [==============================] - 0s 10ms/step - loss: 0.1441 - acc: 1.0000\n",
      "Epoch 6/6\n",
      "9/9 [==============================] - 0s 11ms/step - loss: 0.0405 - acc: 1.0000\n",
      "Predicting 75th label...\n"
     ]
    },
    {
     "data": {
      "application/vnd.jupyter.widget-view+json": {
       "model_id": "e42037589b834fa891370b57c55a2cef",
       "version_major": 2,
       "version_minor": 0
      },
      "text/plain": [
       "  0%|          | 0/20 [00:00<?, ?it/s]"
      ]
     },
     "metadata": {},
     "output_type": "display_data"
    },
    {
     "name": "stdout",
     "output_type": "stream",
     "text": [
      "\n",
      "76'th label prediction started\n",
      "count_one 218\n",
      "count_zero 218\n",
      "Epoch 1/6\n",
      "14/14 [==============================] - 1s 19ms/step - loss: 0.7078 - acc: 0.5275\n",
      "Epoch 2/6\n",
      "14/14 [==============================] - 0s 10ms/step - loss: 0.6007 - acc: 0.7615\n",
      "Epoch 3/6\n",
      "14/14 [==============================] - 0s 10ms/step - loss: 0.3782 - acc: 0.9633\n",
      "Epoch 4/6\n",
      "14/14 [==============================] - 0s 10ms/step - loss: 0.1612 - acc: 0.9908\n",
      "Epoch 5/6\n",
      "14/14 [==============================] - 0s 11ms/step - loss: 0.0396 - acc: 1.0000\n",
      "Epoch 6/6\n",
      "14/14 [==============================] - 0s 11ms/step - loss: 0.0093 - acc: 1.0000\n",
      "Predicting 76th label...\n"
     ]
    },
    {
     "data": {
      "application/vnd.jupyter.widget-view+json": {
       "model_id": "d98a90f81e2247ffa72637d9a15ed16f",
       "version_major": 2,
       "version_minor": 0
      },
      "text/plain": [
       "  0%|          | 0/20 [00:00<?, ?it/s]"
      ]
     },
     "metadata": {},
     "output_type": "display_data"
    },
    {
     "name": "stdout",
     "output_type": "stream",
     "text": [
      "\n",
      "77'th label prediction started\n",
      "count_one 146\n",
      "count_zero 146\n",
      "Epoch 1/6\n",
      "10/10 [==============================] - 1s 20ms/step - loss: 0.7057 - acc: 0.4932\n",
      "Epoch 2/6\n",
      "10/10 [==============================] - 0s 11ms/step - loss: 0.6225 - acc: 0.8288\n",
      "Epoch 3/6\n",
      "10/10 [==============================] - 0s 11ms/step - loss: 0.5024 - acc: 0.9932\n",
      "Epoch 4/6\n",
      "10/10 [==============================] - 0s 13ms/step - loss: 0.2896 - acc: 1.0000\n",
      "Epoch 5/6\n",
      "10/10 [==============================] - 0s 11ms/step - loss: 0.1067 - acc: 1.0000\n",
      "Epoch 6/6\n",
      "10/10 [==============================] - 0s 11ms/step - loss: 0.0305 - acc: 1.0000\n",
      "Predicting 77th label...\n"
     ]
    },
    {
     "data": {
      "application/vnd.jupyter.widget-view+json": {
       "model_id": "a660e0fe757b471ebed683a2f7662419",
       "version_major": 2,
       "version_minor": 0
      },
      "text/plain": [
       "  0%|          | 0/20 [00:00<?, ?it/s]"
      ]
     },
     "metadata": {},
     "output_type": "display_data"
    },
    {
     "name": "stdout",
     "output_type": "stream",
     "text": [
      "\n",
      "78'th label prediction started\n",
      "count_one 102\n",
      "count_zero 102\n",
      "Epoch 1/6\n",
      "7/7 [==============================] - 1s 12ms/step - loss: 0.7015 - acc: 0.4853\n",
      "Epoch 2/6\n",
      "7/7 [==============================] - 0s 11ms/step - loss: 0.6336 - acc: 1.0000\n",
      "Epoch 3/6\n",
      "7/7 [==============================] - 0s 11ms/step - loss: 0.5422 - acc: 1.0000\n",
      "Epoch 4/6\n",
      "7/7 [==============================] - 0s 11ms/step - loss: 0.3935 - acc: 1.0000\n",
      "Epoch 5/6\n",
      "7/7 [==============================] - 0s 10ms/step - loss: 0.2130 - acc: 1.0000\n",
      "Epoch 6/6\n",
      "7/7 [==============================] - 0s 10ms/step - loss: 0.0826 - acc: 1.0000\n",
      "Predicting 78th label...\n"
     ]
    },
    {
     "data": {
      "application/vnd.jupyter.widget-view+json": {
       "model_id": "5492c62e6fe84ce3a0a82d0e70db717e",
       "version_major": 2,
       "version_minor": 0
      },
      "text/plain": [
       "  0%|          | 0/20 [00:00<?, ?it/s]"
      ]
     },
     "metadata": {},
     "output_type": "display_data"
    },
    {
     "name": "stdout",
     "output_type": "stream",
     "text": [
      "\n",
      "79'th label prediction started\n",
      "count_one 276\n",
      "count_zero 276\n",
      "Epoch 1/6\n",
      "18/18 [==============================] - 1s 11ms/step - loss: 0.6919 - acc: 0.5417\n",
      "Epoch 2/6\n",
      "18/18 [==============================] - 0s 10ms/step - loss: 0.5845 - acc: 0.8696\n",
      "Epoch 3/6\n",
      "18/18 [==============================] - 0s 11ms/step - loss: 0.2991 - acc: 0.9928\n",
      "Epoch 4/6\n",
      "18/18 [==============================] - 0s 10ms/step - loss: 0.0572 - acc: 0.9982\n",
      "Epoch 5/6\n",
      "18/18 [==============================] - 0s 10ms/step - loss: 0.0084 - acc: 1.0000\n",
      "Epoch 6/6\n",
      "18/18 [==============================] - 0s 10ms/step - loss: 0.0029 - acc: 1.0000\n",
      "Predicting 79th label...\n"
     ]
    },
    {
     "data": {
      "application/vnd.jupyter.widget-view+json": {
       "model_id": "a685703452be463986a0b77192260148",
       "version_major": 2,
       "version_minor": 0
      },
      "text/plain": [
       "  0%|          | 0/20 [00:00<?, ?it/s]"
      ]
     },
     "metadata": {},
     "output_type": "display_data"
    },
    {
     "name": "stdout",
     "output_type": "stream",
     "text": [
      "\n",
      "80'th label prediction started\n",
      "count_one 447\n",
      "count_zero 447\n",
      "Epoch 1/6\n",
      "28/28 [==============================] - 1s 15ms/step - loss: 0.6786 - acc: 0.5503\n",
      "Epoch 2/6\n",
      "28/28 [==============================] - 0s 11ms/step - loss: 0.4501 - acc: 0.8523\n",
      "Epoch 3/6\n",
      "28/28 [==============================] - 0s 10ms/step - loss: 0.1643 - acc: 0.9396\n",
      "Epoch 4/6\n",
      "28/28 [==============================] - 0s 10ms/step - loss: 0.0240 - acc: 1.0000\n",
      "Epoch 5/6\n",
      "28/28 [==============================] - 0s 11ms/step - loss: 0.0056 - acc: 1.0000\n",
      "Epoch 6/6\n",
      "28/28 [==============================] - 0s 11ms/step - loss: 0.0023 - acc: 1.0000\n",
      "Predicting 80th label...\n"
     ]
    },
    {
     "data": {
      "application/vnd.jupyter.widget-view+json": {
       "model_id": "8b2a2a2bacbf4ef9be0049a4c8c614c5",
       "version_major": 2,
       "version_minor": 0
      },
      "text/plain": [
       "  0%|          | 0/20 [00:00<?, ?it/s]"
      ]
     },
     "metadata": {},
     "output_type": "display_data"
    },
    {
     "name": "stdout",
     "output_type": "stream",
     "text": [
      "\n",
      "81'th label prediction started\n",
      "count_one 924\n",
      "count_zero 924\n",
      "Epoch 1/6\n",
      "58/58 [==============================] - 1s 13ms/step - loss: 0.5862 - acc: 0.7132\n",
      "Epoch 2/6\n",
      "58/58 [==============================] - 1s 11ms/step - loss: 0.2486 - acc: 0.9015\n",
      "Epoch 3/6\n",
      "58/58 [==============================] - 1s 11ms/step - loss: 0.0350 - acc: 0.9940\n",
      "Epoch 4/6\n",
      "58/58 [==============================] - 1s 11ms/step - loss: 0.0046 - acc: 1.0000\n",
      "Epoch 5/6\n",
      "58/58 [==============================] - 1s 11ms/step - loss: 0.0017 - acc: 1.0000\n",
      "Epoch 6/6\n",
      "58/58 [==============================] - 1s 11ms/step - loss: 9.0048e-04 - acc: 1.0000\n",
      "Predicting 81th label...\n"
     ]
    },
    {
     "data": {
      "application/vnd.jupyter.widget-view+json": {
       "model_id": "688bc29f335043cf889e87c150180f90",
       "version_major": 2,
       "version_minor": 0
      },
      "text/plain": [
       "  0%|          | 0/20 [00:00<?, ?it/s]"
      ]
     },
     "metadata": {},
     "output_type": "display_data"
    },
    {
     "name": "stdout",
     "output_type": "stream",
     "text": [
      "\n",
      "82'th label prediction started\n",
      "count_one 538\n",
      "count_zero 538\n",
      "Epoch 1/6\n",
      "34/34 [==============================] - 1s 14ms/step - loss: 0.6022 - acc: 0.6701\n",
      "Epoch 2/6\n",
      "34/34 [==============================] - 0s 11ms/step - loss: 0.2800 - acc: 0.8801\n",
      "Epoch 3/6\n",
      "34/34 [==============================] - 0s 11ms/step - loss: 0.0882 - acc: 0.9833\n",
      "Epoch 4/6\n",
      "34/34 [==============================] - 0s 11ms/step - loss: 0.0111 - acc: 1.0000\n",
      "Epoch 5/6\n",
      "34/34 [==============================] - 0s 11ms/step - loss: 0.0031 - acc: 1.0000\n",
      "Epoch 6/6\n",
      "34/34 [==============================] - 0s 11ms/step - loss: 0.0012 - acc: 1.0000\n",
      "Predicting 82th label...\n"
     ]
    },
    {
     "data": {
      "application/vnd.jupyter.widget-view+json": {
       "model_id": "4841007969b94c24926d732271ecca89",
       "version_major": 2,
       "version_minor": 0
      },
      "text/plain": [
       "  0%|          | 0/20 [00:00<?, ?it/s]"
      ]
     },
     "metadata": {},
     "output_type": "display_data"
    },
    {
     "name": "stdout",
     "output_type": "stream",
     "text": [
      "\n",
      "83'th label prediction started\n",
      "count_one 112\n",
      "count_zero 112\n",
      "Epoch 1/6\n",
      "7/7 [==============================] - 1s 12ms/step - loss: 0.6920 - acc: 0.4866\n",
      "Epoch 2/6\n",
      "7/7 [==============================] - 0s 10ms/step - loss: 0.6209 - acc: 0.9911\n",
      "Epoch 3/6\n",
      "7/7 [==============================] - 0s 10ms/step - loss: 0.5099 - acc: 0.9955\n",
      "Epoch 4/6\n",
      "7/7 [==============================] - ETA: 0s - loss: 0.3311 - acc: 1.000 - 0s 10ms/step - loss: 0.3311 - acc: 1.0000\n",
      "Epoch 5/6\n",
      "7/7 [==============================] - 0s 11ms/step - loss: 0.1579 - acc: 1.0000\n",
      "Epoch 6/6\n",
      "7/7 [==============================] - 0s 10ms/step - loss: 0.0562 - acc: 1.0000\n",
      "Predicting 83th label...\n"
     ]
    },
    {
     "data": {
      "application/vnd.jupyter.widget-view+json": {
       "model_id": "1084c95001934995a6455d26990af430",
       "version_major": 2,
       "version_minor": 0
      },
      "text/plain": [
       "  0%|          | 0/20 [00:00<?, ?it/s]"
      ]
     },
     "metadata": {},
     "output_type": "display_data"
    },
    {
     "name": "stdout",
     "output_type": "stream",
     "text": [
      "\n",
      "84'th label prediction started\n",
      "count_one 891\n",
      "count_zero 891\n",
      "Epoch 1/6\n",
      "56/56 [==============================] - 1s 13ms/step - loss: 0.5804 - acc: 0.7211\n",
      "Epoch 2/6\n",
      "56/56 [==============================] - 1s 11ms/step - loss: 0.2370 - acc: 0.9018\n",
      "Epoch 3/6\n",
      "56/56 [==============================] - 1s 10ms/step - loss: 0.0599 - acc: 0.9854\n",
      "Epoch 4/6\n",
      "56/56 [==============================] - 1s 10ms/step - loss: 0.0239 - acc: 0.9955\n",
      "Epoch 5/6\n",
      "56/56 [==============================] - 1s 11ms/step - loss: 0.0125 - acc: 0.9966\n",
      "Epoch 6/6\n",
      "56/56 [==============================] - 1s 11ms/step - loss: 0.0019 - acc: 1.0000\n",
      "Predicting 84th label...\n"
     ]
    },
    {
     "data": {
      "application/vnd.jupyter.widget-view+json": {
       "model_id": "ea8554e9b7544e488b2e6b438aac7bf5",
       "version_major": 2,
       "version_minor": 0
      },
      "text/plain": [
       "  0%|          | 0/20 [00:00<?, ?it/s]"
      ]
     },
     "metadata": {},
     "output_type": "display_data"
    },
    {
     "name": "stdout",
     "output_type": "stream",
     "text": [
      "\n",
      "85'th label prediction started\n",
      "count_one 256\n",
      "count_zero 256\n",
      "Epoch 1/6\n",
      "16/16 [==============================] - 1s 12ms/step - loss: 0.7090 - acc: 0.5176\n",
      "Epoch 2/6\n",
      "16/16 [==============================] - 0s 12ms/step - loss: 0.6324 - acc: 0.7617\n",
      "Epoch 3/6\n",
      "16/16 [==============================] - 0s 11ms/step - loss: 0.4442 - acc: 0.9980\n",
      "Epoch 4/6\n",
      "16/16 [==============================] - 0s 11ms/step - loss: 0.1584 - acc: 0.9980\n",
      "Epoch 5/6\n",
      "16/16 [==============================] - 0s 11ms/step - loss: 0.0235 - acc: 1.0000\n",
      "Epoch 6/6\n",
      "16/16 [==============================] - 0s 11ms/step - loss: 0.0053 - acc: 1.0000\n",
      "Predicting 85th label...\n"
     ]
    },
    {
     "data": {
      "application/vnd.jupyter.widget-view+json": {
       "model_id": "5faa813c73624957affe75adc1cc2732",
       "version_major": 2,
       "version_minor": 0
      },
      "text/plain": [
       "  0%|          | 0/20 [00:00<?, ?it/s]"
      ]
     },
     "metadata": {},
     "output_type": "display_data"
    },
    {
     "name": "stdout",
     "output_type": "stream",
     "text": [
      "\n",
      "86'th label prediction started\n",
      "count_one 209\n",
      "count_zero 209\n",
      "Epoch 1/6\n",
      "14/14 [==============================] - 1s 10ms/step - loss: 0.7139 - acc: 0.4952\n",
      "Epoch 2/6\n",
      "14/14 [==============================] - 0s 11ms/step - loss: 0.6327 - acc: 0.9163\n",
      "Epoch 3/6\n",
      "14/14 [==============================] - 0s 11ms/step - loss: 0.4907 - acc: 0.9761\n",
      "Epoch 4/6\n",
      "14/14 [==============================] - 0s 10ms/step - loss: 0.2486 - acc: 0.9880\n",
      "Epoch 5/6\n",
      "14/14 [==============================] - 0s 11ms/step - loss: 0.0705 - acc: 0.9952\n",
      "Epoch 6/6\n",
      "14/14 [==============================] - 0s 11ms/step - loss: 0.0164 - acc: 1.0000\n",
      "Predicting 86th label...\n"
     ]
    },
    {
     "data": {
      "application/vnd.jupyter.widget-view+json": {
       "model_id": "9f5403c1d80b409a84224147ada3ca1d",
       "version_major": 2,
       "version_minor": 0
      },
      "text/plain": [
       "  0%|          | 0/20 [00:00<?, ?it/s]"
      ]
     },
     "metadata": {},
     "output_type": "display_data"
    },
    {
     "name": "stdout",
     "output_type": "stream",
     "text": [
      "\n",
      "87'th label prediction started\n",
      "count_one 389\n",
      "count_zero 389\n",
      "Epoch 1/6\n",
      "25/25 [==============================] - 1s 11ms/step - loss: 0.6440 - acc: 0.7249\n",
      "Epoch 2/6\n",
      "25/25 [==============================] - 0s 11ms/step - loss: 0.2881 - acc: 0.9075\n",
      "Epoch 3/6\n",
      "25/25 [==============================] - 0s 10ms/step - loss: 0.0979 - acc: 0.9692\n",
      "Epoch 4/6\n",
      "25/25 [==============================] - 0s 11ms/step - loss: 0.0264 - acc: 0.9974\n",
      "Epoch 5/6\n",
      "25/25 [==============================] - 0s 11ms/step - loss: 0.0058 - acc: 1.0000\n",
      "Epoch 6/6\n",
      "25/25 [==============================] - 0s 11ms/step - loss: 0.0023 - acc: 1.0000\n",
      "Predicting 87th label...\n"
     ]
    },
    {
     "data": {
      "application/vnd.jupyter.widget-view+json": {
       "model_id": "effba09d5c2c48b08ffd99c61485ae94",
       "version_major": 2,
       "version_minor": 0
      },
      "text/plain": [
       "  0%|          | 0/20 [00:00<?, ?it/s]"
      ]
     },
     "metadata": {},
     "output_type": "display_data"
    },
    {
     "name": "stdout",
     "output_type": "stream",
     "text": [
      "\n",
      "88'th label prediction started\n",
      "count_one 385\n",
      "count_zero 385\n",
      "Epoch 1/6\n",
      "25/25 [==============================] - 1s 18ms/step - loss: 0.6810 - acc: 0.5831\n",
      "Epoch 2/6\n",
      "25/25 [==============================] - 0s 11ms/step - loss: 0.4856 - acc: 0.9065\n",
      "Epoch 3/6\n",
      "25/25 [==============================] - 0s 10ms/step - loss: 0.1417 - acc: 0.9805\n",
      "Epoch 4/6\n",
      "25/25 [==============================] - 0s 11ms/step - loss: 0.0200 - acc: 1.0000\n",
      "Epoch 5/6\n",
      "25/25 [==============================] - 0s 10ms/step - loss: 0.0046 - acc: 1.0000\n",
      "Epoch 6/6\n",
      "25/25 [==============================] - 0s 10ms/step - loss: 0.0020 - acc: 1.0000\n",
      "Predicting 88th label...\n"
     ]
    },
    {
     "data": {
      "application/vnd.jupyter.widget-view+json": {
       "model_id": "fd78b1b6050b44d5b4faf0fa9d0cee62",
       "version_major": 2,
       "version_minor": 0
      },
      "text/plain": [
       "  0%|          | 0/20 [00:00<?, ?it/s]"
      ]
     },
     "metadata": {},
     "output_type": "display_data"
    },
    {
     "name": "stdout",
     "output_type": "stream",
     "text": [
      "\n",
      "89'th label prediction started\n",
      "count_one 270\n",
      "count_zero 270\n",
      "Epoch 1/6\n",
      "17/17 [==============================] - 1s 11ms/step - loss: 0.6916 - acc: 0.5556\n",
      "Epoch 2/6\n",
      "17/17 [==============================] - 0s 11ms/step - loss: 0.5744 - acc: 0.7222\n",
      "Epoch 3/6\n",
      "17/17 [==============================] - 0s 11ms/step - loss: 0.2942 - acc: 0.9315\n",
      "Epoch 4/6\n",
      "17/17 [==============================] - 0s 11ms/step - loss: 0.0998 - acc: 0.9833\n",
      "Epoch 5/6\n",
      "17/17 [==============================] - 0s 10ms/step - loss: 0.0227 - acc: 0.9981\n",
      "Epoch 6/6\n",
      "17/17 [==============================] - 0s 11ms/step - loss: 0.0055 - acc: 1.0000\n",
      "Predicting 89th label...\n"
     ]
    },
    {
     "data": {
      "application/vnd.jupyter.widget-view+json": {
       "model_id": "adc6175beb76453f83b128ad220d0674",
       "version_major": 2,
       "version_minor": 0
      },
      "text/plain": [
       "  0%|          | 0/20 [00:00<?, ?it/s]"
      ]
     },
     "metadata": {},
     "output_type": "display_data"
    },
    {
     "name": "stdout",
     "output_type": "stream",
     "text": [
      "\n",
      "90'th label prediction started\n",
      "count_one 413\n",
      "count_zero 413\n",
      "Epoch 1/6\n",
      "26/26 [==============================] - 1s 11ms/step - loss: 0.6811 - acc: 0.5460\n",
      "Epoch 2/6\n",
      "26/26 [==============================] - 0s 10ms/step - loss: 0.5225 - acc: 0.8111\n",
      "Epoch 3/6\n",
      "26/26 [==============================] - 0s 10ms/step - loss: 0.1779 - acc: 0.9818\n",
      "Epoch 4/6\n",
      "26/26 [==============================] - 0s 11ms/step - loss: 0.0242 - acc: 0.9976\n",
      "Epoch 5/6\n",
      "26/26 [==============================] - 0s 11ms/step - loss: 0.0060 - acc: 1.0000\n",
      "Epoch 6/6\n",
      "26/26 [==============================] - 0s 11ms/step - loss: 0.0020 - acc: 1.0000\n",
      "Predicting 90th label...\n"
     ]
    },
    {
     "data": {
      "application/vnd.jupyter.widget-view+json": {
       "model_id": "2028069770204a8dad04bdff24fbbb1c",
       "version_major": 2,
       "version_minor": 0
      },
      "text/plain": [
       "  0%|          | 0/20 [00:00<?, ?it/s]"
      ]
     },
     "metadata": {},
     "output_type": "display_data"
    },
    {
     "name": "stdout",
     "output_type": "stream",
     "text": [
      "\n",
      "91'th label prediction started\n",
      "count_one 293\n",
      "count_zero 293\n",
      "Epoch 1/6\n",
      "19/19 [==============================] - 1s 11ms/step - loss: 0.7031 - acc: 0.5375\n",
      "Epoch 2/6\n",
      "19/19 [==============================] - 0s 10ms/step - loss: 0.6253 - acc: 0.7440\n",
      "Epoch 3/6\n",
      "19/19 [==============================] - 0s 11ms/step - loss: 0.3607 - acc: 0.9983\n",
      "Epoch 4/6\n",
      "19/19 [==============================] - 0s 11ms/step - loss: 0.0813 - acc: 0.9983\n",
      "Epoch 5/6\n",
      "19/19 [==============================] - 0s 11ms/step - loss: 0.0105 - acc: 1.0000\n",
      "Epoch 6/6\n",
      "19/19 [==============================] - 0s 11ms/step - loss: 0.0035 - acc: 1.0000\n",
      "Predicting 91th label...\n"
     ]
    },
    {
     "data": {
      "application/vnd.jupyter.widget-view+json": {
       "model_id": "c7598bc7ebbd4450b2a99864f9d5f3e8",
       "version_major": 2,
       "version_minor": 0
      },
      "text/plain": [
       "  0%|          | 0/20 [00:00<?, ?it/s]"
      ]
     },
     "metadata": {},
     "output_type": "display_data"
    },
    {
     "name": "stdout",
     "output_type": "stream",
     "text": [
      "\n",
      "92'th label prediction started\n",
      "count_one 354\n",
      "count_zero 354\n",
      "Epoch 1/6\n",
      "23/23 [==============================] - 1s 15ms/step - loss: 0.6958 - acc: 0.5395\n",
      "Epoch 2/6\n",
      "23/23 [==============================] - 0s 11ms/step - loss: 0.5065 - acc: 0.8559\n",
      "Epoch 3/6\n",
      "23/23 [==============================] - 0s 11ms/step - loss: 0.1931 - acc: 0.9463\n",
      "Epoch 4/6\n",
      "23/23 [==============================] - 0s 11ms/step - loss: 0.0453 - acc: 0.9929\n",
      "Epoch 5/6\n",
      "23/23 [==============================] - 0s 11ms/step - loss: 0.0083 - acc: 1.0000\n",
      "Epoch 6/6\n",
      "23/23 [==============================] - 0s 11ms/step - loss: 0.0031 - acc: 1.0000\n",
      "Predicting 92th label...\n"
     ]
    },
    {
     "data": {
      "application/vnd.jupyter.widget-view+json": {
       "model_id": "af2bb66d6f6442439bfe6075c4dfe59f",
       "version_major": 2,
       "version_minor": 0
      },
      "text/plain": [
       "  0%|          | 0/20 [00:00<?, ?it/s]"
      ]
     },
     "metadata": {},
     "output_type": "display_data"
    },
    {
     "name": "stdout",
     "output_type": "stream",
     "text": [
      "\n",
      "93'th label prediction started\n",
      "count_one 442\n",
      "count_zero 442\n",
      "Epoch 1/6\n",
      "28/28 [==============================] - 1s 11ms/step - loss: 0.6685 - acc: 0.5419\n",
      "Epoch 2/6\n",
      "28/28 [==============================] - 0s 11ms/step - loss: 0.4117 - acc: 0.8971\n",
      "Epoch 3/6\n",
      "28/28 [==============================] - 0s 11ms/step - loss: 0.0948 - acc: 0.9921\n",
      "Epoch 4/6\n",
      "28/28 [==============================] - 0s 11ms/step - loss: 0.0116 - acc: 1.0000\n",
      "Epoch 5/6\n",
      "28/28 [==============================] - 0s 11ms/step - loss: 0.0035 - acc: 1.0000\n",
      "Epoch 6/6\n",
      "28/28 [==============================] - 0s 11ms/step - loss: 0.0017 - acc: 1.0000\n",
      "Predicting 93th label...\n"
     ]
    },
    {
     "data": {
      "application/vnd.jupyter.widget-view+json": {
       "model_id": "fea022c36def429290cd7ec69543e028",
       "version_major": 2,
       "version_minor": 0
      },
      "text/plain": [
       "  0%|          | 0/20 [00:00<?, ?it/s]"
      ]
     },
     "metadata": {},
     "output_type": "display_data"
    },
    {
     "name": "stdout",
     "output_type": "stream",
     "text": [
      "\n",
      "94'th label prediction started\n",
      "count_one 212\n",
      "count_zero 212\n",
      "Epoch 1/6\n",
      "14/14 [==============================] - 1s 12ms/step - loss: 0.6937 - acc: 0.5307\n",
      "Epoch 2/6\n",
      "14/14 [==============================] - 0s 11ms/step - loss: 0.5562 - acc: 0.9528\n",
      "Epoch 3/6\n",
      "14/14 [==============================] - 0s 11ms/step - loss: 0.2845 - acc: 0.9882\n",
      "Epoch 4/6\n",
      "14/14 [==============================] - 0s 11ms/step - loss: 0.0884 - acc: 0.9953\n",
      "Epoch 5/6\n",
      "14/14 [==============================] - 0s 11ms/step - loss: 0.0199 - acc: 0.9976\n",
      "Epoch 6/6\n",
      "14/14 [==============================] - 0s 11ms/step - loss: 0.0049 - acc: 1.0000\n",
      "Predicting 94th label...\n"
     ]
    },
    {
     "data": {
      "application/vnd.jupyter.widget-view+json": {
       "model_id": "8a41691d197241bdbcd7ea3cb9beb90a",
       "version_major": 2,
       "version_minor": 0
      },
      "text/plain": [
       "  0%|          | 0/20 [00:00<?, ?it/s]"
      ]
     },
     "metadata": {},
     "output_type": "display_data"
    },
    {
     "name": "stdout",
     "output_type": "stream",
     "text": [
      "\n",
      "95'th label prediction started\n",
      "count_one 386\n",
      "count_zero 386\n",
      "Epoch 1/6\n",
      "25/25 [==============================] - 1s 16ms/step - loss: 0.6715 - acc: 0.5777\n",
      "Epoch 2/6\n",
      "25/25 [==============================] - 0s 11ms/step - loss: 0.4527 - acc: 0.8420\n",
      "Epoch 3/6\n",
      "25/25 [==============================] - 0s 11ms/step - loss: 0.1481 - acc: 0.9728\n",
      "Epoch 4/6\n",
      "25/25 [==============================] - 0s 10ms/step - loss: 0.0271 - acc: 0.9961\n",
      "Epoch 5/6\n",
      "25/25 [==============================] - 0s 11ms/step - loss: 0.0064 - acc: 1.0000\n",
      "Epoch 6/6\n",
      "25/25 [==============================] - 0s 12ms/step - loss: 0.0024 - acc: 1.0000\n",
      "Predicting 95th label...\n"
     ]
    },
    {
     "data": {
      "application/vnd.jupyter.widget-view+json": {
       "model_id": "0ca3af2b29c84ae98ddf74aa99d24602",
       "version_major": 2,
       "version_minor": 0
      },
      "text/plain": [
       "  0%|          | 0/20 [00:00<?, ?it/s]"
      ]
     },
     "metadata": {},
     "output_type": "display_data"
    },
    {
     "name": "stdout",
     "output_type": "stream",
     "text": [
      "\n",
      "96'th label prediction started\n",
      "count_one 175\n",
      "count_zero 175\n",
      "Epoch 1/6\n",
      "11/11 [==============================] - 1s 12ms/step - loss: 0.6961 - acc: 0.5143\n",
      "Epoch 2/6\n",
      "11/11 [==============================] - 0s 11ms/step - loss: 0.6074 - acc: 0.9600\n",
      "Epoch 3/6\n",
      "11/11 [==============================] - 0s 12ms/step - loss: 0.4132 - acc: 0.9800\n",
      "Epoch 4/6\n",
      "11/11 [==============================] - 0s 11ms/step - loss: 0.1819 - acc: 0.9800\n",
      "Epoch 5/6\n",
      "11/11 [==============================] - 0s 11ms/step - loss: 0.0570 - acc: 0.9914\n",
      "Epoch 6/6\n",
      "11/11 [==============================] - 0s 11ms/step - loss: 0.0123 - acc: 1.0000\n",
      "Predicting 96th label...\n"
     ]
    },
    {
     "data": {
      "application/vnd.jupyter.widget-view+json": {
       "model_id": "efba98fc3f1a447d84027090e52e5383",
       "version_major": 2,
       "version_minor": 0
      },
      "text/plain": [
       "  0%|          | 0/20 [00:00<?, ?it/s]"
      ]
     },
     "metadata": {},
     "output_type": "display_data"
    },
    {
     "name": "stdout",
     "output_type": "stream",
     "text": [
      "\n",
      "97'th label prediction started\n",
      "count_one 161\n",
      "count_zero 161\n",
      "Epoch 1/6\n",
      "11/11 [==============================] - 1s 19ms/step - loss: 0.6952 - acc: 0.5217\n",
      "Epoch 2/6\n",
      "11/11 [==============================] - 0s 11ms/step - loss: 0.6089 - acc: 0.6801\n",
      "Epoch 3/6\n",
      "11/11 [==============================] - 0s 11ms/step - loss: 0.4385 - acc: 1.0000\n",
      "Epoch 4/6\n",
      "11/11 [==============================] - 0s 10ms/step - loss: 0.2074 - acc: 0.9969\n",
      "Epoch 5/6\n",
      "11/11 [==============================] - 0s 10ms/step - loss: 0.0610 - acc: 1.0000\n",
      "Epoch 6/6\n",
      "11/11 [==============================] - 0s 10ms/step - loss: 0.0158 - acc: 1.0000\n",
      "Predicting 97th label...\n"
     ]
    },
    {
     "data": {
      "application/vnd.jupyter.widget-view+json": {
       "model_id": "d33fc8255a3d4af5b0af584a61c3a2b3",
       "version_major": 2,
       "version_minor": 0
      },
      "text/plain": [
       "  0%|          | 0/20 [00:00<?, ?it/s]"
      ]
     },
     "metadata": {},
     "output_type": "display_data"
    },
    {
     "name": "stdout",
     "output_type": "stream",
     "text": [
      "\n",
      "98'th label prediction started\n",
      "count_one 117\n",
      "count_zero 117\n",
      "Epoch 1/6\n",
      "8/8 [==============================] - 1s 12ms/step - loss: 0.6990 - acc: 0.4744\n",
      "Epoch 2/6\n",
      "8/8 [==============================] - 0s 11ms/step - loss: 0.6260 - acc: 0.8718\n",
      "Epoch 3/6\n",
      "8/8 [==============================] - 0s 11ms/step - loss: 0.5280 - acc: 0.9915\n",
      "Epoch 4/6\n",
      "8/8 [==============================] - 0s 11ms/step - loss: 0.3610 - acc: 0.9957\n",
      "Epoch 5/6\n",
      "8/8 [==============================] - 0s 11ms/step - loss: 0.1807 - acc: 1.0000\n",
      "Epoch 6/6\n",
      "8/8 [==============================] - 0s 11ms/step - loss: 0.0646 - acc: 1.0000\n",
      "Predicting 98th label...\n"
     ]
    },
    {
     "data": {
      "application/vnd.jupyter.widget-view+json": {
       "model_id": "5914b2366df34228bc61607587894092",
       "version_major": 2,
       "version_minor": 0
      },
      "text/plain": [
       "  0%|          | 0/20 [00:00<?, ?it/s]"
      ]
     },
     "metadata": {},
     "output_type": "display_data"
    },
    {
     "name": "stdout",
     "output_type": "stream",
     "text": [
      "\n",
      "99'th label prediction started\n",
      "count_one 344\n",
      "count_zero 344\n",
      "Epoch 1/6\n",
      "22/22 [==============================] - 1s 11ms/step - loss: 0.6914 - acc: 0.5538\n",
      "Epoch 2/6\n",
      "22/22 [==============================] - 0s 9ms/step - loss: 0.5156 - acc: 0.8169\n",
      "Epoch 3/6\n",
      "22/22 [==============================] - 0s 10ms/step - loss: 0.1816 - acc: 0.9738\n",
      "Epoch 4/6\n",
      "22/22 [==============================] - 0s 11ms/step - loss: 0.0324 - acc: 0.9956\n",
      "Epoch 5/6\n",
      "22/22 [==============================] - 0s 11ms/step - loss: 0.0069 - acc: 1.0000\n",
      "Epoch 6/6\n",
      "22/22 [==============================] - 0s 11ms/step - loss: 0.0026 - acc: 1.0000\n",
      "Predicting 99th label...\n"
     ]
    },
    {
     "data": {
      "application/vnd.jupyter.widget-view+json": {
       "model_id": "c6f3961007f048e69e36a6fd7d15b5ab",
       "version_major": 2,
       "version_minor": 0
      },
      "text/plain": [
       "  0%|          | 0/20 [00:00<?, ?it/s]"
      ]
     },
     "metadata": {},
     "output_type": "display_data"
    },
    {
     "name": "stdout",
     "output_type": "stream",
     "text": [
      "\n",
      "100'th label prediction started\n",
      "count_one 197\n",
      "count_zero 197\n",
      "Epoch 1/6\n",
      "13/13 [==============================] - 1s 11ms/step - loss: 0.6887 - acc: 0.5508\n",
      "Epoch 2/6\n",
      "13/13 [==============================] - 0s 11ms/step - loss: 0.5140 - acc: 0.9264\n",
      "Epoch 3/6\n",
      "13/13 [==============================] - 0s 10ms/step - loss: 0.2438 - acc: 0.9315\n",
      "Epoch 4/6\n",
      "13/13 [==============================] - 0s 10ms/step - loss: 0.1038 - acc: 0.9873\n",
      "Epoch 5/6\n",
      "13/13 [==============================] - 0s 11ms/step - loss: 0.0443 - acc: 0.9949\n",
      "Epoch 6/6\n",
      "13/13 [==============================] - 0s 11ms/step - loss: 0.0143 - acc: 0.9975\n",
      "Predicting 100th label...\n"
     ]
    },
    {
     "data": {
      "application/vnd.jupyter.widget-view+json": {
       "model_id": "56a6eed11da64019a196a86e8111469c",
       "version_major": 2,
       "version_minor": 0
      },
      "text/plain": [
       "  0%|          | 0/20 [00:00<?, ?it/s]"
      ]
     },
     "metadata": {},
     "output_type": "display_data"
    },
    {
     "name": "stdout",
     "output_type": "stream",
     "text": [
      "\n",
      "101'th label prediction started\n",
      "count_one 587\n",
      "count_zero 587\n",
      "Epoch 1/6\n",
      "37/37 [==============================] - 1s 13ms/step - loss: 0.6911 - acc: 0.5767\n",
      "Epoch 2/6\n",
      "37/37 [==============================] - 0s 11ms/step - loss: 0.5620 - acc: 0.7104\n",
      "Epoch 3/6\n",
      "37/37 [==============================] - 0s 10ms/step - loss: 0.2588 - acc: 0.9072\n",
      "Epoch 4/6\n",
      "37/37 [==============================] - 0s 10ms/step - loss: 0.0649 - acc: 0.9923\n",
      "Epoch 5/6\n",
      "37/37 [==============================] - 0s 11ms/step - loss: 0.0189 - acc: 0.9983\n",
      "Epoch 6/6\n",
      "37/37 [==============================] - 0s 11ms/step - loss: 0.0094 - acc: 0.9983\n",
      "Predicting 101th label...\n"
     ]
    },
    {
     "data": {
      "application/vnd.jupyter.widget-view+json": {
       "model_id": "9c33e19ed6864c3eadac363f588f9691",
       "version_major": 2,
       "version_minor": 0
      },
      "text/plain": [
       "  0%|          | 0/20 [00:00<?, ?it/s]"
      ]
     },
     "metadata": {},
     "output_type": "display_data"
    },
    {
     "name": "stdout",
     "output_type": "stream",
     "text": [
      "\n",
      "102'th label prediction started\n",
      "count_one 241\n",
      "count_zero 241\n",
      "Epoch 1/6\n",
      "16/16 [==============================] - 1s 11ms/step - loss: 0.6893 - acc: 0.5539\n",
      "Epoch 2/6\n",
      "16/16 [==============================] - 0s 11ms/step - loss: 0.5911 - acc: 0.9129\n",
      "Epoch 3/6\n",
      "16/16 [==============================] - 0s 10ms/step - loss: 0.3791 - acc: 0.9834\n",
      "Epoch 4/6\n",
      "16/16 [==============================] - 0s 10ms/step - loss: 0.1473 - acc: 0.9855\n",
      "Epoch 5/6\n",
      "16/16 [==============================] - 0s 11ms/step - loss: 0.0339 - acc: 1.0000\n",
      "Epoch 6/6\n",
      "16/16 [==============================] - 0s 11ms/step - loss: 0.0087 - acc: 1.0000\n",
      "Predicting 102th label...\n"
     ]
    },
    {
     "data": {
      "application/vnd.jupyter.widget-view+json": {
       "model_id": "8ea3132e581b4d738eed4a9d38aa0bd6",
       "version_major": 2,
       "version_minor": 0
      },
      "text/plain": [
       "  0%|          | 0/20 [00:00<?, ?it/s]"
      ]
     },
     "metadata": {},
     "output_type": "display_data"
    },
    {
     "name": "stdout",
     "output_type": "stream",
     "text": [
      "\n",
      "103'th label prediction started\n",
      "count_one 321\n",
      "count_zero 321\n",
      "Epoch 1/6\n",
      "21/21 [==============================] - 1s 11ms/step - loss: 0.6902 - acc: 0.5265\n",
      "Epoch 2/6\n",
      "21/21 [==============================] - 0s 10ms/step - loss: 0.5757 - acc: 0.8567\n",
      "Epoch 3/6\n",
      "21/21 [==============================] - 0s 11ms/step - loss: 0.2735 - acc: 0.9829\n",
      "Epoch 4/6\n",
      "21/21 [==============================] - 0s 11ms/step - loss: 0.0540 - acc: 0.9969\n",
      "Epoch 5/6\n",
      "21/21 [==============================] - 0s 10ms/step - loss: 0.0085 - acc: 1.0000\n",
      "Epoch 6/6\n",
      "21/21 [==============================] - 0s 11ms/step - loss: 0.0034 - acc: 1.0000\n",
      "Predicting 103th label...\n"
     ]
    },
    {
     "data": {
      "application/vnd.jupyter.widget-view+json": {
       "model_id": "3f1308fe5b9447649178b04f7b61316a",
       "version_major": 2,
       "version_minor": 0
      },
      "text/plain": [
       "  0%|          | 0/20 [00:00<?, ?it/s]"
      ]
     },
     "metadata": {},
     "output_type": "display_data"
    },
    {
     "name": "stdout",
     "output_type": "stream",
     "text": [
      "\n",
      "104'th label prediction started\n",
      "count_one 172\n",
      "count_zero 172\n",
      "Epoch 1/6\n",
      "11/11 [==============================] - 1s 11ms/step - loss: 0.7042 - acc: 0.5058\n",
      "Epoch 2/6\n",
      "11/11 [==============================] - 0s 10ms/step - loss: 0.6281 - acc: 0.9477\n",
      "Epoch 3/6\n",
      "11/11 [==============================] - 0s 11ms/step - loss: 0.4967 - acc: 1.0000\n",
      "Epoch 4/6\n",
      "11/11 [==============================] - 0s 10ms/step - loss: 0.2769 - acc: 1.0000\n",
      "Epoch 5/6\n",
      "11/11 [==============================] - 0s 11ms/step - loss: 0.0894 - acc: 1.0000\n",
      "Epoch 6/6\n",
      "11/11 [==============================] - 0s 11ms/step - loss: 0.0210 - acc: 1.0000\n",
      "Predicting 104th label...\n"
     ]
    },
    {
     "data": {
      "application/vnd.jupyter.widget-view+json": {
       "model_id": "294636502de647609f9b46231c4fe4f6",
       "version_major": 2,
       "version_minor": 0
      },
      "text/plain": [
       "  0%|          | 0/20 [00:00<?, ?it/s]"
      ]
     },
     "metadata": {},
     "output_type": "display_data"
    },
    {
     "name": "stdout",
     "output_type": "stream",
     "text": [
      "\n",
      "105'th label prediction started\n",
      "count_one 187\n",
      "count_zero 187\n",
      "Epoch 1/6\n",
      "12/12 [==============================] - 1s 22ms/step - loss: 0.7055 - acc: 0.5027\n",
      "Epoch 2/6\n",
      "12/12 [==============================] - 0s 11ms/step - loss: 0.6371 - acc: 0.9358\n",
      "Epoch 3/6\n",
      "12/12 [==============================] - 0s 11ms/step - loss: 0.5062 - acc: 0.9947\n",
      "Epoch 4/6\n",
      "12/12 [==============================] - 0s 10ms/step - loss: 0.2692 - acc: 0.9973\n",
      "Epoch 5/6\n",
      "12/12 [==============================] - 0s 10ms/step - loss: 0.0751 - acc: 0.9973\n",
      "Epoch 6/6\n",
      "12/12 [==============================] - 0s 11ms/step - loss: 0.0148 - acc: 1.0000\n",
      "Predicting 105th label...\n"
     ]
    },
    {
     "data": {
      "application/vnd.jupyter.widget-view+json": {
       "model_id": "f5ace6b5c4744628a15bd55de2805a67",
       "version_major": 2,
       "version_minor": 0
      },
      "text/plain": [
       "  0%|          | 0/20 [00:00<?, ?it/s]"
      ]
     },
     "metadata": {},
     "output_type": "display_data"
    },
    {
     "name": "stdout",
     "output_type": "stream",
     "text": [
      "\n",
      "106'th label prediction started\n",
      "count_one 128\n",
      "count_zero 128\n",
      "Epoch 1/6\n",
      "8/8 [==============================] - 1s 33ms/step - loss: 0.6986 - acc: 0.5039\n",
      "Epoch 2/6\n",
      "8/8 [==============================] - 0s 10ms/step - loss: 0.6189 - acc: 0.9883\n",
      "Epoch 3/6\n",
      "8/8 [==============================] - 0s 11ms/step - loss: 0.4920 - acc: 1.0000\n",
      "Epoch 4/6\n",
      "8/8 [==============================] - 0s 11ms/step - loss: 0.3007 - acc: 1.0000\n",
      "Epoch 5/6\n",
      "8/8 [==============================] - 0s 11ms/step - loss: 0.1217 - acc: 1.0000\n",
      "Epoch 6/6\n",
      "8/8 [==============================] - 0s 11ms/step - loss: 0.0342 - acc: 1.0000\n",
      "Predicting 106th label...\n"
     ]
    },
    {
     "data": {
      "application/vnd.jupyter.widget-view+json": {
       "model_id": "7c685bc97e9643328eb54a07abb7f3de",
       "version_major": 2,
       "version_minor": 0
      },
      "text/plain": [
       "  0%|          | 0/20 [00:00<?, ?it/s]"
      ]
     },
     "metadata": {},
     "output_type": "display_data"
    },
    {
     "name": "stdout",
     "output_type": "stream",
     "text": [
      "\n",
      "107'th label prediction started\n",
      "count_one 191\n",
      "count_zero 191\n",
      "Epoch 1/6\n",
      "12/12 [==============================] - 1s 11ms/step - loss: 0.6937 - acc: 0.5288\n",
      "Epoch 2/6\n",
      "12/12 [==============================] - 0s 10ms/step - loss: 0.6092 - acc: 0.9869\n",
      "Epoch 3/6\n",
      "12/12 [==============================] - 0s 11ms/step - loss: 0.4182 - acc: 0.9869\n",
      "Epoch 4/6\n",
      "12/12 [==============================] - 0s 11ms/step - loss: 0.1608 - acc: 0.9948\n",
      "Epoch 5/6\n",
      "12/12 [==============================] - 0s 11ms/step - loss: 0.0339 - acc: 1.0000\n",
      "Epoch 6/6\n",
      "12/12 [==============================] - 0s 12ms/step - loss: 0.0068 - acc: 1.0000\n",
      "Predicting 107th label...\n"
     ]
    },
    {
     "data": {
      "application/vnd.jupyter.widget-view+json": {
       "model_id": "4e11671f5b484c088c67816f792c12b2",
       "version_major": 2,
       "version_minor": 0
      },
      "text/plain": [
       "  0%|          | 0/20 [00:00<?, ?it/s]"
      ]
     },
     "metadata": {},
     "output_type": "display_data"
    },
    {
     "name": "stdout",
     "output_type": "stream",
     "text": [
      "\n",
      "108'th label prediction started\n",
      "count_one 326\n",
      "count_zero 326\n",
      "Epoch 1/6\n",
      "21/21 [==============================] - 1s 11ms/step - loss: 0.6797 - acc: 0.5230\n",
      "Epoch 2/6\n",
      "21/21 [==============================] - 0s 10ms/step - loss: 0.4731 - acc: 0.9310\n",
      "Epoch 3/6\n",
      "21/21 [==============================] - 0s 11ms/step - loss: 0.1633 - acc: 0.9540\n",
      "Epoch 4/6\n",
      "21/21 [==============================] - 0s 10ms/step - loss: 0.0303 - acc: 0.9969\n",
      "Epoch 5/6\n",
      "21/21 [==============================] - 0s 10ms/step - loss: 0.0059 - acc: 1.0000\n",
      "Epoch 6/6\n",
      "21/21 [==============================] - 0s 11ms/step - loss: 0.0022 - acc: 1.0000\n",
      "Predicting 108th label...\n"
     ]
    },
    {
     "data": {
      "application/vnd.jupyter.widget-view+json": {
       "model_id": "25f8b66bcaec481b8797f7656b046c19",
       "version_major": 2,
       "version_minor": 0
      },
      "text/plain": [
       "  0%|          | 0/20 [00:00<?, ?it/s]"
      ]
     },
     "metadata": {},
     "output_type": "display_data"
    },
    {
     "name": "stdout",
     "output_type": "stream",
     "text": [
      "\n",
      "109'th label prediction started\n",
      "count_one 1754\n",
      "count_zero 1754\n",
      "Epoch 1/6\n",
      "110/110 [==============================] - 2s 11ms/step - loss: 0.5042 - acc: 0.7614\n",
      "Epoch 2/6\n",
      "110/110 [==============================] - 1s 11ms/step - loss: 0.1883 - acc: 0.9322\n",
      "Epoch 3/6\n",
      "110/110 [==============================] - 1s 11ms/step - loss: 0.0536 - acc: 0.9866\n",
      "Epoch 4/6\n",
      "110/110 [==============================] - 1s 11ms/step - loss: 0.0087 - acc: 0.9989\n",
      "Epoch 5/6\n",
      "110/110 [==============================] - 1s 11ms/step - loss: 0.0014 - acc: 1.0000\n",
      "Epoch 6/6\n",
      "110/110 [==============================] - 1s 11ms/step - loss: 6.8594e-04 - acc: 1.0000\n",
      "Predicting 109th label...\n"
     ]
    },
    {
     "data": {
      "application/vnd.jupyter.widget-view+json": {
       "model_id": "84827e9cfb2d4193a144a4ca49b19feb",
       "version_major": 2,
       "version_minor": 0
      },
      "text/plain": [
       "  0%|          | 0/20 [00:00<?, ?it/s]"
      ]
     },
     "metadata": {},
     "output_type": "display_data"
    },
    {
     "name": "stdout",
     "output_type": "stream",
     "text": [
      "\n",
      "110'th label prediction started\n",
      "count_one 78\n",
      "count_zero 78\n",
      "Epoch 1/6\n",
      "5/5 [==============================] - 1s 40ms/step - loss: 0.7028 - acc: 0.4679\n",
      "Epoch 2/6\n",
      "5/5 [==============================] - 0s 11ms/step - loss: 0.6436 - acc: 0.9038\n",
      "Epoch 3/6\n",
      "5/5 [==============================] - 0s 11ms/step - loss: 0.5774 - acc: 1.0000\n",
      "Epoch 4/6\n",
      "5/5 [==============================] - 0s 11ms/step - loss: 0.4803 - acc: 1.0000\n",
      "Epoch 5/6\n",
      "5/5 [==============================] - 0s 11ms/step - loss: 0.3479 - acc: 1.0000\n",
      "Epoch 6/6\n",
      "5/5 [==============================] - 0s 11ms/step - loss: 0.2108 - acc: 1.0000\n",
      "Predicting 110th label...\n"
     ]
    },
    {
     "data": {
      "application/vnd.jupyter.widget-view+json": {
       "model_id": "5fd7e7467cbb45ca98688628383f929c",
       "version_major": 2,
       "version_minor": 0
      },
      "text/plain": [
       "  0%|          | 0/20 [00:00<?, ?it/s]"
      ]
     },
     "metadata": {},
     "output_type": "display_data"
    },
    {
     "name": "stdout",
     "output_type": "stream",
     "text": [
      "\n",
      "111'th label prediction started\n",
      "count_one 94\n",
      "count_zero 94\n",
      "Epoch 1/6\n",
      "6/6 [==============================] - 1s 36ms/step - loss: 0.6955 - acc: 0.4947\n",
      "Epoch 2/6\n",
      "6/6 [==============================] - 0s 10ms/step - loss: 0.6237 - acc: 0.9734\n",
      "Epoch 3/6\n",
      "6/6 [==============================] - 0s 11ms/step - loss: 0.5085 - acc: 1.0000\n",
      "Epoch 4/6\n",
      "6/6 [==============================] - 0s 11ms/step - loss: 0.3407 - acc: 0.9947\n",
      "Epoch 5/6\n",
      "6/6 [==============================] - 0s 11ms/step - loss: 0.1732 - acc: 0.9947\n",
      "Epoch 6/6\n",
      "6/6 [==============================] - 0s 11ms/step - loss: 0.0695 - acc: 1.0000\n",
      "Predicting 111th label...\n"
     ]
    },
    {
     "data": {
      "application/vnd.jupyter.widget-view+json": {
       "model_id": "99552d9b0984401fb29ed800ac3ae576",
       "version_major": 2,
       "version_minor": 0
      },
      "text/plain": [
       "  0%|          | 0/20 [00:00<?, ?it/s]"
      ]
     },
     "metadata": {},
     "output_type": "display_data"
    },
    {
     "name": "stdout",
     "output_type": "stream",
     "text": [
      "\n",
      "112'th label prediction started\n",
      "count_one 1658\n",
      "count_zero 1658\n",
      "Epoch 1/6\n",
      "104/104 [==============================] - 2s 11ms/step - loss: 0.5614 - acc: 0.7307\n",
      "Epoch 2/6\n",
      "104/104 [==============================] - 1s 11ms/step - loss: 0.2272 - acc: 0.9131\n",
      "Epoch 3/6\n",
      "104/104 [==============================] - 1s 11ms/step - loss: 0.0476 - acc: 0.9882\n",
      "Epoch 4/6\n",
      "104/104 [==============================] - 1s 11ms/step - loss: 0.0075 - acc: 0.9994\n",
      "Epoch 5/6\n",
      "104/104 [==============================] - 1s 11ms/step - loss: 0.0026 - acc: 1.0000\n",
      "Epoch 6/6\n",
      "104/104 [==============================] - 1s 11ms/step - loss: 0.0010 - acc: 1.0000\n",
      "Predicting 112th label...\n"
     ]
    },
    {
     "data": {
      "application/vnd.jupyter.widget-view+json": {
       "model_id": "5d2454ff51874016ba7f9e2bcb3ec740",
       "version_major": 2,
       "version_minor": 0
      },
      "text/plain": [
       "  0%|          | 0/20 [00:00<?, ?it/s]"
      ]
     },
     "metadata": {},
     "output_type": "display_data"
    },
    {
     "name": "stdout",
     "output_type": "stream",
     "text": [
      "\n",
      "113'th label prediction started\n",
      "count_one 116\n",
      "count_zero 116\n",
      "Epoch 1/6\n",
      "8/8 [==============================] - 1s 22ms/step - loss: 0.6961 - acc: 0.4957\n",
      "Epoch 2/6\n",
      "8/8 [==============================] - 0s 10ms/step - loss: 0.6357 - acc: 0.7802\n",
      "Epoch 3/6\n",
      "8/8 [==============================] - 0s 11ms/step - loss: 0.5399 - acc: 0.9957\n",
      "Epoch 4/6\n",
      "8/8 [==============================] - 0s 11ms/step - loss: 0.3757 - acc: 1.0000\n",
      "Epoch 5/6\n",
      "8/8 [==============================] - 0s 11ms/step - loss: 0.1927 - acc: 1.0000\n",
      "Epoch 6/6\n",
      "8/8 [==============================] - 0s 11ms/step - loss: 0.0695 - acc: 1.0000\n",
      "Predicting 113th label...\n"
     ]
    },
    {
     "data": {
      "application/vnd.jupyter.widget-view+json": {
       "model_id": "192723007f34456e94c8a46d04d5872b",
       "version_major": 2,
       "version_minor": 0
      },
      "text/plain": [
       "  0%|          | 0/20 [00:00<?, ?it/s]"
      ]
     },
     "metadata": {},
     "output_type": "display_data"
    },
    {
     "name": "stdout",
     "output_type": "stream",
     "text": [
      "\n",
      "114'th label prediction started\n",
      "count_one 110\n",
      "count_zero 110\n",
      "Epoch 1/6\n",
      "7/7 [==============================] - 1s 12ms/step - loss: 0.7006 - acc: 0.4909\n",
      "Epoch 2/6\n",
      "7/7 [==============================] - 0s 11ms/step - loss: 0.6078 - acc: 0.9591\n",
      "Epoch 3/6\n",
      "7/7 [==============================] - 0s 11ms/step - loss: 0.4911 - acc: 0.9864\n",
      "Epoch 4/6\n",
      "7/7 [==============================] - 0s 11ms/step - loss: 0.3093 - acc: 1.0000\n",
      "Epoch 5/6\n",
      "7/7 [==============================] - 0s 10ms/step - loss: 0.1434 - acc: 0.9955\n",
      "Epoch 6/6\n",
      "7/7 [==============================] - 0s 10ms/step - loss: 0.0472 - acc: 1.0000\n",
      "Predicting 114th label...\n"
     ]
    },
    {
     "data": {
      "application/vnd.jupyter.widget-view+json": {
       "model_id": "996a97964b4b4bff87a281ebefcdc7c1",
       "version_major": 2,
       "version_minor": 0
      },
      "text/plain": [
       "  0%|          | 0/20 [00:00<?, ?it/s]"
      ]
     },
     "metadata": {},
     "output_type": "display_data"
    },
    {
     "name": "stdout",
     "output_type": "stream",
     "text": [
      "\n",
      "115'th label prediction started\n",
      "count_one 129\n",
      "count_zero 129\n",
      "Epoch 1/6\n",
      "9/9 [==============================] - 1s 11ms/step - loss: 0.6969 - acc: 0.5000\n",
      "Epoch 2/6\n",
      "9/9 [==============================] - 0s 11ms/step - loss: 0.5963 - acc: 0.8953\n",
      "Epoch 3/6\n",
      "9/9 [==============================] - 0s 11ms/step - loss: 0.4219 - acc: 0.9961\n",
      "Epoch 4/6\n",
      "9/9 [==============================] - 0s 10ms/step - loss: 0.2029 - acc: 0.9961\n",
      "Epoch 5/6\n",
      "9/9 [==============================] - 0s 11ms/step - loss: 0.0805 - acc: 1.0000\n",
      "Epoch 6/6\n",
      "9/9 [==============================] - 0s 11ms/step - loss: 0.0273 - acc: 1.0000\n",
      "Predicting 115th label...\n"
     ]
    },
    {
     "data": {
      "application/vnd.jupyter.widget-view+json": {
       "model_id": "71b0bd49cfb549f1afb288dac8418c43",
       "version_major": 2,
       "version_minor": 0
      },
      "text/plain": [
       "  0%|          | 0/20 [00:00<?, ?it/s]"
      ]
     },
     "metadata": {},
     "output_type": "display_data"
    },
    {
     "name": "stdout",
     "output_type": "stream",
     "text": [
      "\n",
      "116'th label prediction started\n",
      "count_one 81\n",
      "count_zero 81\n",
      "Epoch 1/6\n",
      "6/6 [==============================] - 1s 66ms/step - loss: 0.6969 - acc: 0.4691\n",
      "Epoch 2/6\n",
      "6/6 [==============================] - 0s 11ms/step - loss: 0.6405 - acc: 0.9753\n",
      "Epoch 3/6\n",
      "6/6 [==============================] - 0s 11ms/step - loss: 0.5780 - acc: 1.0000\n",
      "Epoch 4/6\n",
      "6/6 [==============================] - 0s 11ms/step - loss: 0.4796 - acc: 1.0000\n",
      "Epoch 5/6\n",
      "6/6 [==============================] - 0s 10ms/step - loss: 0.3477 - acc: 1.0000\n",
      "Epoch 6/6\n",
      "6/6 [==============================] - 0s 10ms/step - loss: 0.2043 - acc: 1.0000\n",
      "Predicting 116th label...\n"
     ]
    },
    {
     "data": {
      "application/vnd.jupyter.widget-view+json": {
       "model_id": "615774d686264b688dac6f23ca3d2dba",
       "version_major": 2,
       "version_minor": 0
      },
      "text/plain": [
       "  0%|          | 0/20 [00:00<?, ?it/s]"
      ]
     },
     "metadata": {},
     "output_type": "display_data"
    },
    {
     "name": "stdout",
     "output_type": "stream",
     "text": [
      "\n",
      "117'th label prediction started\n",
      "count_one 226\n",
      "count_zero 226\n",
      "Epoch 1/6\n",
      "15/15 [==============================] - 1s 16ms/step - loss: 0.7059 - acc: 0.4845\n",
      "Epoch 2/6\n",
      "15/15 [==============================] - 0s 10ms/step - loss: 0.6168 - acc: 0.9712\n",
      "Epoch 3/6\n",
      "15/15 [==============================] - 0s 11ms/step - loss: 0.3934 - acc: 0.9779\n",
      "Epoch 4/6\n",
      "15/15 [==============================] - 0s 10ms/step - loss: 0.1455 - acc: 0.9845\n",
      "Epoch 5/6\n",
      "15/15 [==============================] - 0s 11ms/step - loss: 0.0427 - acc: 0.9934\n",
      "Epoch 6/6\n",
      "15/15 [==============================] - 0s 11ms/step - loss: 0.0101 - acc: 1.0000\n",
      "Predicting 117th label...\n"
     ]
    },
    {
     "data": {
      "application/vnd.jupyter.widget-view+json": {
       "model_id": "3768b03e2bcb450aa7f1eb8d96b2e550",
       "version_major": 2,
       "version_minor": 0
      },
      "text/plain": [
       "  0%|          | 0/20 [00:00<?, ?it/s]"
      ]
     },
     "metadata": {},
     "output_type": "display_data"
    },
    {
     "name": "stdout",
     "output_type": "stream",
     "text": [
      "\n",
      "118'th label prediction started\n",
      "count_one 789\n",
      "count_zero 789\n",
      "Epoch 1/6\n",
      "50/50 [==============================] - 1s 18ms/step - loss: 0.6595 - acc: 0.6362\n",
      "Epoch 2/6\n",
      "50/50 [==============================] - 1s 11ms/step - loss: 0.3044 - acc: 0.9062\n",
      "Epoch 3/6\n",
      "50/50 [==============================] - 1s 11ms/step - loss: 0.0471 - acc: 0.9880\n",
      "Epoch 4/6\n",
      "50/50 [==============================] - 1s 11ms/step - loss: 0.0105 - acc: 0.9994\n",
      "Epoch 5/6\n",
      "50/50 [==============================] - 1s 11ms/step - loss: 0.0015 - acc: 1.0000\n",
      "Epoch 6/6\n",
      "50/50 [==============================] - 1s 11ms/step - loss: 8.5981e-04 - acc: 1.0000\n",
      "Predicting 118th label...\n"
     ]
    },
    {
     "data": {
      "application/vnd.jupyter.widget-view+json": {
       "model_id": "47a9cdd523104819bbb9e645c9af8c11",
       "version_major": 2,
       "version_minor": 0
      },
      "text/plain": [
       "  0%|          | 0/20 [00:00<?, ?it/s]"
      ]
     },
     "metadata": {},
     "output_type": "display_data"
    },
    {
     "name": "stdout",
     "output_type": "stream",
     "text": [
      "\n",
      "119'th label prediction started\n",
      "count_one 176\n",
      "count_zero 176\n",
      "Epoch 1/6\n",
      "11/11 [==============================] - 1s 11ms/step - loss: 0.6870 - acc: 0.5483\n",
      "Epoch 2/6\n",
      "11/11 [==============================] - 0s 11ms/step - loss: 0.5675 - acc: 0.9858\n",
      "Epoch 3/6\n",
      "11/11 [==============================] - 0s 11ms/step - loss: 0.3444 - acc: 0.9830\n",
      "Epoch 4/6\n",
      "11/11 [==============================] - 0s 11ms/step - loss: 0.1498 - acc: 0.9943\n",
      "Epoch 5/6\n",
      "11/11 [==============================] - 0s 11ms/step - loss: 0.0421 - acc: 0.9972\n",
      "Epoch 6/6\n",
      "11/11 [==============================] - 0s 11ms/step - loss: 0.0105 - acc: 1.0000\n",
      "Predicting 119th label...\n"
     ]
    },
    {
     "data": {
      "application/vnd.jupyter.widget-view+json": {
       "model_id": "c183bd4a82db4fb39597ced2215646eb",
       "version_major": 2,
       "version_minor": 0
      },
      "text/plain": [
       "  0%|          | 0/20 [00:00<?, ?it/s]"
      ]
     },
     "metadata": {},
     "output_type": "display_data"
    },
    {
     "name": "stdout",
     "output_type": "stream",
     "text": [
      "\n",
      "120'th label prediction started\n",
      "count_one 68\n",
      "count_zero 68\n",
      "Epoch 1/6\n",
      "5/5 [==============================] - 1s 11ms/step - loss: 0.6939 - acc: 0.5000\n",
      "Epoch 2/6\n",
      "5/5 [==============================] - 0s 9ms/step - loss: 0.6372 - acc: 0.8309\n",
      "Epoch 3/6\n",
      "5/5 [==============================] - 0s 10ms/step - loss: 0.5631 - acc: 0.9779\n",
      "Epoch 4/6\n",
      "5/5 [==============================] - 0s 10ms/step - loss: 0.4504 - acc: 1.0000\n",
      "Epoch 5/6\n",
      "5/5 [==============================] - 0s 10ms/step - loss: 0.3114 - acc: 1.0000\n",
      "Epoch 6/6\n",
      "5/5 [==============================] - 0s 11ms/step - loss: 0.1827 - acc: 1.0000\n",
      "Predicting 120th label...\n"
     ]
    },
    {
     "data": {
      "application/vnd.jupyter.widget-view+json": {
       "model_id": "91d22f42a55a48d698d8e09c10c1b9e7",
       "version_major": 2,
       "version_minor": 0
      },
      "text/plain": [
       "  0%|          | 0/20 [00:00<?, ?it/s]"
      ]
     },
     "metadata": {},
     "output_type": "display_data"
    },
    {
     "name": "stdout",
     "output_type": "stream",
     "text": [
      "\n",
      "121'th label prediction started\n",
      "count_one 115\n",
      "count_zero 115\n",
      "Epoch 1/6\n",
      "8/8 [==============================] - 1s 21ms/step - loss: 0.7258 - acc: 0.5000\n",
      "Epoch 2/6\n",
      "8/8 [==============================] - 0s 10ms/step - loss: 0.6188 - acc: 0.8696\n",
      "Epoch 3/6\n",
      "8/8 [==============================] - 0s 11ms/step - loss: 0.5309 - acc: 0.9957\n",
      "Epoch 4/6\n",
      "8/8 [==============================] - 0s 10ms/step - loss: 0.3548 - acc: 0.9957\n",
      "Epoch 5/6\n",
      "8/8 [==============================] - 0s 9ms/step - loss: 0.1693 - acc: 1.0000\n",
      "Epoch 6/6\n",
      "8/8 [==============================] - 0s 11ms/step - loss: 0.0681 - acc: 1.0000\n",
      "Predicting 121th label...\n"
     ]
    },
    {
     "data": {
      "application/vnd.jupyter.widget-view+json": {
       "model_id": "0f85bf94dbd74970a35b855f492b47bf",
       "version_major": 2,
       "version_minor": 0
      },
      "text/plain": [
       "  0%|          | 0/20 [00:00<?, ?it/s]"
      ]
     },
     "metadata": {},
     "output_type": "display_data"
    },
    {
     "name": "stdout",
     "output_type": "stream",
     "text": [
      "\n",
      "122'th label prediction started\n",
      "count_one 171\n",
      "count_zero 171\n",
      "Epoch 1/6\n",
      "11/11 [==============================] - 1s 25ms/step - loss: 0.6883 - acc: 0.5058\n",
      "Epoch 2/6\n",
      "11/11 [==============================] - 0s 11ms/step - loss: 0.5634 - acc: 0.9766\n",
      "Epoch 3/6\n",
      "11/11 [==============================] - 0s 11ms/step - loss: 0.3301 - acc: 0.9883\n",
      "Epoch 4/6\n",
      "11/11 [==============================] - 0s 11ms/step - loss: 0.1120 - acc: 0.9883\n",
      "Epoch 5/6\n",
      "11/11 [==============================] - 0s 11ms/step - loss: 0.0284 - acc: 0.9971\n",
      "Epoch 6/6\n",
      "11/11 [==============================] - 0s 10ms/step - loss: 0.0064 - acc: 1.0000\n",
      "Predicting 122th label...\n"
     ]
    },
    {
     "data": {
      "application/vnd.jupyter.widget-view+json": {
       "model_id": "537be93e7fba4cf8835356d0de5c8772",
       "version_major": 2,
       "version_minor": 0
      },
      "text/plain": [
       "  0%|          | 0/20 [00:00<?, ?it/s]"
      ]
     },
     "metadata": {},
     "output_type": "display_data"
    },
    {
     "name": "stdout",
     "output_type": "stream",
     "text": [
      "\n",
      "123'th label prediction started\n",
      "count_one 62\n",
      "count_zero 62\n",
      "Epoch 1/6\n",
      "4/4 [==============================] - 1s 12ms/step - loss: 0.7005 - acc: 0.4435\n",
      "Epoch 2/6\n",
      "4/4 [==============================] - 0s 9ms/step - loss: 0.6366 - acc: 0.9274\n",
      "Epoch 3/6\n",
      "4/4 [==============================] - 0s 11ms/step - loss: 0.5707 - acc: 1.0000\n",
      "Epoch 4/6\n",
      "4/4 [==============================] - 0s 12ms/step - loss: 0.4740 - acc: 1.0000\n",
      "Epoch 5/6\n",
      "4/4 [==============================] - 0s 12ms/step - loss: 0.3490 - acc: 1.0000\n",
      "Epoch 6/6\n",
      "4/4 [==============================] - 0s 10ms/step - loss: 0.2179 - acc: 1.0000\n",
      "Predicting 123th label...\n"
     ]
    },
    {
     "data": {
      "application/vnd.jupyter.widget-view+json": {
       "model_id": "26a155c801964b3ba2255a5482fb4739",
       "version_major": 2,
       "version_minor": 0
      },
      "text/plain": [
       "  0%|          | 0/20 [00:00<?, ?it/s]"
      ]
     },
     "metadata": {},
     "output_type": "display_data"
    },
    {
     "name": "stdout",
     "output_type": "stream",
     "text": [
      "\n",
      "124'th label prediction started\n",
      "count_one 72\n",
      "count_zero 72\n",
      "Epoch 1/6\n",
      "5/5 [==============================] - 1s 36ms/step - loss: 0.7076 - acc: 0.4097\n",
      "Epoch 2/6\n",
      "5/5 [==============================] - 0s 11ms/step - loss: 0.6350 - acc: 0.9375\n",
      "Epoch 3/6\n",
      "5/5 [==============================] - 0s 9ms/step - loss: 0.5650 - acc: 0.9931\n",
      "Epoch 4/6\n",
      "5/5 [==============================] - 0s 11ms/step - loss: 0.4652 - acc: 1.0000\n",
      "Epoch 5/6\n",
      "5/5 [==============================] - 0s 10ms/step - loss: 0.3256 - acc: 1.0000\n",
      "Epoch 6/6\n",
      "5/5 [==============================] - 0s 10ms/step - loss: 0.1910 - acc: 1.0000\n",
      "Predicting 124th label...\n"
     ]
    },
    {
     "data": {
      "application/vnd.jupyter.widget-view+json": {
       "model_id": "f3e323b9e6744526988b4148759a936a",
       "version_major": 2,
       "version_minor": 0
      },
      "text/plain": [
       "  0%|          | 0/20 [00:00<?, ?it/s]"
      ]
     },
     "metadata": {},
     "output_type": "display_data"
    },
    {
     "name": "stdout",
     "output_type": "stream",
     "text": [
      "\n",
      "125'th label prediction started\n",
      "count_one 162\n",
      "count_zero 162\n",
      "Epoch 1/6\n",
      "11/11 [==============================] - 1s 12ms/step - loss: 0.6980 - acc: 0.4630\n",
      "Epoch 2/6\n",
      "11/11 [==============================] - 0s 11ms/step - loss: 0.6189 - acc: 0.7191\n",
      "Epoch 3/6\n",
      "11/11 [==============================] - 0s 11ms/step - loss: 0.4783 - acc: 0.9784\n",
      "Epoch 4/6\n",
      "11/11 [==============================] - 0s 11ms/step - loss: 0.2451 - acc: 0.9969\n",
      "Epoch 5/6\n",
      "11/11 [==============================] - 0s 10ms/step - loss: 0.0777 - acc: 1.0000\n",
      "Epoch 6/6\n",
      "11/11 [==============================] - 0s 11ms/step - loss: 0.0201 - acc: 1.0000\n",
      "Predicting 125th label...\n"
     ]
    },
    {
     "data": {
      "application/vnd.jupyter.widget-view+json": {
       "model_id": "f3833316f9d2493da743436a77bec840",
       "version_major": 2,
       "version_minor": 0
      },
      "text/plain": [
       "  0%|          | 0/20 [00:00<?, ?it/s]"
      ]
     },
     "metadata": {},
     "output_type": "display_data"
    },
    {
     "name": "stdout",
     "output_type": "stream",
     "text": [
      "\n",
      "126'th label prediction started\n",
      "count_one 514\n",
      "count_zero 514\n",
      "Epoch 1/6\n",
      "33/33 [==============================] - 1s 10ms/step - loss: 0.6767 - acc: 0.6411\n",
      "Epoch 2/6\n",
      "33/33 [==============================] - 0s 11ms/step - loss: 0.3899 - acc: 0.9533\n",
      "Epoch 3/6\n",
      "33/33 [==============================] - 0s 11ms/step - loss: 0.0487 - acc: 0.9903\n",
      "Epoch 4/6\n",
      "33/33 [==============================] - 0s 11ms/step - loss: 0.0039 - acc: 1.0000\n",
      "Epoch 5/6\n",
      "33/33 [==============================] - 0s 12ms/step - loss: 0.0015 - acc: 1.0000\n",
      "Epoch 6/6\n",
      "33/33 [==============================] - 0s 11ms/step - loss: 8.2568e-04 - acc: 1.0000\n",
      "Predicting 126th label...\n"
     ]
    },
    {
     "data": {
      "application/vnd.jupyter.widget-view+json": {
       "model_id": "5843b585be814c4aa585cb7ac25c2d14",
       "version_major": 2,
       "version_minor": 0
      },
      "text/plain": [
       "  0%|          | 0/20 [00:00<?, ?it/s]"
      ]
     },
     "metadata": {},
     "output_type": "display_data"
    },
    {
     "name": "stdout",
     "output_type": "stream",
     "text": [
      "\n",
      "127'th label prediction started\n",
      "count_one 779\n",
      "count_zero 779\n",
      "Epoch 1/6\n",
      "49/49 [==============================] - 1s 13ms/step - loss: 0.5300 - acc: 0.7689\n",
      "Epoch 2/6\n",
      "49/49 [==============================] - 1s 10ms/step - loss: 0.1410 - acc: 0.9531\n",
      "Epoch 3/6\n",
      "49/49 [==============================] - 1s 11ms/step - loss: 0.0181 - acc: 0.9981\n",
      "Epoch 4/6\n",
      "49/49 [==============================] - 1s 11ms/step - loss: 0.0033 - acc: 1.0000\n",
      "Epoch 5/6\n",
      "49/49 [==============================] - 1s 11ms/step - loss: 0.0013 - acc: 1.0000\n",
      "Epoch 6/6\n",
      "49/49 [==============================] - 1s 11ms/step - loss: 7.0883e-04 - acc: 1.0000\n",
      "Predicting 127th label...\n"
     ]
    },
    {
     "data": {
      "application/vnd.jupyter.widget-view+json": {
       "model_id": "a547ae2f867d4257b121fbde9e78c68e",
       "version_major": 2,
       "version_minor": 0
      },
      "text/plain": [
       "  0%|          | 0/20 [00:00<?, ?it/s]"
      ]
     },
     "metadata": {},
     "output_type": "display_data"
    },
    {
     "name": "stdout",
     "output_type": "stream",
     "text": [
      "\n",
      "128'th label prediction started\n",
      "count_one 139\n",
      "count_zero 139\n",
      "Epoch 1/6\n",
      "9/9 [==============================] - 1s 11ms/step - loss: 0.7065 - acc: 0.4856\n",
      "Epoch 2/6\n",
      "9/9 [==============================] - 0s 10ms/step - loss: 0.6315 - acc: 0.8993\n",
      "Epoch 3/6\n",
      "9/9 [==============================] - 0s 9ms/step - loss: 0.5269 - acc: 1.0000\n",
      "Epoch 4/6\n",
      "9/9 [==============================] - 0s 11ms/step - loss: 0.3396 - acc: 1.0000\n",
      "Epoch 5/6\n",
      "9/9 [==============================] - 0s 11ms/step - loss: 0.1440 - acc: 1.0000\n",
      "Epoch 6/6\n",
      "9/9 [==============================] - 0s 11ms/step - loss: 0.0413 - acc: 1.0000\n",
      "Predicting 128th label...\n"
     ]
    },
    {
     "data": {
      "application/vnd.jupyter.widget-view+json": {
       "model_id": "ecd1a4d47f92401c834ae52b0dbc4952",
       "version_major": 2,
       "version_minor": 0
      },
      "text/plain": [
       "  0%|          | 0/20 [00:00<?, ?it/s]"
      ]
     },
     "metadata": {},
     "output_type": "display_data"
    },
    {
     "name": "stdout",
     "output_type": "stream",
     "text": [
      "\n",
      "129'th label prediction started\n",
      "count_one 60\n",
      "count_zero 60\n",
      "Epoch 1/6\n",
      "4/4 [==============================] - 1s 11ms/step - loss: 0.6891 - acc: 0.6250\n",
      "Epoch 2/6\n",
      "4/4 [==============================] - 0s 10ms/step - loss: 0.6368 - acc: 0.9833\n",
      "Epoch 3/6\n",
      "4/4 [==============================] - 0s 10ms/step - loss: 0.5605 - acc: 1.0000\n",
      "Epoch 4/6\n",
      "4/4 [==============================] - 0s 10ms/step - loss: 0.4497 - acc: 1.0000\n",
      "Epoch 5/6\n",
      "4/4 [==============================] - 0s 11ms/step - loss: 0.3198 - acc: 1.0000\n",
      "Epoch 6/6\n",
      "4/4 [==============================] - 0s 10ms/step - loss: 0.1948 - acc: 1.0000\n",
      "Predicting 129th label...\n"
     ]
    },
    {
     "data": {
      "application/vnd.jupyter.widget-view+json": {
       "model_id": "d075a9572ba44401b3399975d39a1a81",
       "version_major": 2,
       "version_minor": 0
      },
      "text/plain": [
       "  0%|          | 0/20 [00:00<?, ?it/s]"
      ]
     },
     "metadata": {},
     "output_type": "display_data"
    },
    {
     "name": "stdout",
     "output_type": "stream",
     "text": [
      "\n",
      "130'th label prediction started\n",
      "count_one 438\n",
      "count_zero 438\n",
      "Epoch 1/6\n",
      "28/28 [==============================] - 1s 14ms/step - loss: 0.6896 - acc: 0.5205\n",
      "Epoch 2/6\n",
      "28/28 [==============================] - 0s 10ms/step - loss: 0.5098 - acc: 0.8836\n",
      "Epoch 3/6\n",
      "28/28 [==============================] - 0s 11ms/step - loss: 0.1432 - acc: 0.9817\n",
      "Epoch 4/6\n",
      "28/28 [==============================] - 0s 11ms/step - loss: 0.0168 - acc: 0.9989\n",
      "Epoch 5/6\n",
      "28/28 [==============================] - 0s 10ms/step - loss: 0.0033 - acc: 1.0000\n",
      "Epoch 6/6\n",
      "28/28 [==============================] - 0s 11ms/step - loss: 0.0016 - acc: 1.0000\n",
      "Predicting 130th label...\n"
     ]
    },
    {
     "data": {
      "application/vnd.jupyter.widget-view+json": {
       "model_id": "be64747f62e54f6a9ddf43c2a41faa7f",
       "version_major": 2,
       "version_minor": 0
      },
      "text/plain": [
       "  0%|          | 0/20 [00:00<?, ?it/s]"
      ]
     },
     "metadata": {},
     "output_type": "display_data"
    },
    {
     "name": "stdout",
     "output_type": "stream",
     "text": [
      "\n",
      "131'th label prediction started\n",
      "count_one 110\n",
      "count_zero 110\n",
      "Epoch 1/6\n",
      "7/7 [==============================] - 1s 11ms/step - loss: 0.7058 - acc: 0.5000\n",
      "Epoch 2/6\n",
      "7/7 [==============================] - 0s 10ms/step - loss: 0.6337 - acc: 0.9773\n",
      "Epoch 3/6\n",
      "7/7 [==============================] - 0s 11ms/step - loss: 0.5537 - acc: 0.9955\n",
      "Epoch 4/6\n",
      "7/7 [==============================] - 0s 11ms/step - loss: 0.4093 - acc: 1.0000\n",
      "Epoch 5/6\n",
      "7/7 [==============================] - 0s 12ms/step - loss: 0.2353 - acc: 1.0000\n",
      "Epoch 6/6\n",
      "7/7 [==============================] - 0s 11ms/step - loss: 0.0944 - acc: 1.0000\n",
      "Predicting 131th label...\n"
     ]
    },
    {
     "data": {
      "application/vnd.jupyter.widget-view+json": {
       "model_id": "fbf1e3a099b3456285f789b9c9c439aa",
       "version_major": 2,
       "version_minor": 0
      },
      "text/plain": [
       "  0%|          | 0/20 [00:00<?, ?it/s]"
      ]
     },
     "metadata": {},
     "output_type": "display_data"
    },
    {
     "name": "stdout",
     "output_type": "stream",
     "text": [
      "\n",
      "132'th label prediction started\n",
      "count_one 177\n",
      "count_zero 177\n",
      "Epoch 1/6\n",
      "12/12 [==============================] - 1s 17ms/step - loss: 0.7104 - acc: 0.5028\n",
      "Epoch 2/6\n",
      "12/12 [==============================] - 0s 11ms/step - loss: 0.6324 - acc: 0.8757\n",
      "Epoch 3/6\n",
      "12/12 [==============================] - 0s 11ms/step - loss: 0.5059 - acc: 0.9972\n",
      "Epoch 4/6\n",
      "12/12 [==============================] - 0s 11ms/step - loss: 0.2802 - acc: 1.0000\n",
      "Epoch 5/6\n",
      "12/12 [==============================] - 0s 11ms/step - loss: 0.0880 - acc: 1.0000\n",
      "Epoch 6/6\n",
      "12/12 [==============================] - 0s 11ms/step - loss: 0.0214 - acc: 1.0000\n",
      "Predicting 132th label...\n"
     ]
    },
    {
     "data": {
      "application/vnd.jupyter.widget-view+json": {
       "model_id": "3d0bb76515d7483f90e4eaf2bf81eb7b",
       "version_major": 2,
       "version_minor": 0
      },
      "text/plain": [
       "  0%|          | 0/20 [00:00<?, ?it/s]"
      ]
     },
     "metadata": {},
     "output_type": "display_data"
    },
    {
     "name": "stdout",
     "output_type": "stream",
     "text": [
      "\n",
      "133'th label prediction started\n",
      "count_one 261\n",
      "count_zero 261\n",
      "Epoch 1/6\n",
      "17/17 [==============================] - 1s 11ms/step - loss: 0.7030 - acc: 0.4674\n",
      "Epoch 2/6\n",
      "17/17 [==============================] - 0s 9ms/step - loss: 0.6290 - acc: 0.9195\n",
      "Epoch 3/6\n",
      "17/17 [==============================] - 0s 10ms/step - loss: 0.4657 - acc: 0.9847\n",
      "Epoch 4/6\n",
      "17/17 [==============================] - 0s 10ms/step - loss: 0.1907 - acc: 0.9981\n",
      "Epoch 5/6\n",
      "17/17 [==============================] - 0s 11ms/step - loss: 0.0362 - acc: 1.0000\n",
      "Epoch 6/6\n",
      "17/17 [==============================] - 0s 10ms/step - loss: 0.0082 - acc: 1.0000\n",
      "Predicting 133th label...\n"
     ]
    },
    {
     "data": {
      "application/vnd.jupyter.widget-view+json": {
       "model_id": "4d38c857663f4d5e9cfd04aef5a9f38b",
       "version_major": 2,
       "version_minor": 0
      },
      "text/plain": [
       "  0%|          | 0/20 [00:00<?, ?it/s]"
      ]
     },
     "metadata": {},
     "output_type": "display_data"
    },
    {
     "name": "stdout",
     "output_type": "stream",
     "text": [
      "\n",
      "134'th label prediction started\n",
      "count_one 484\n",
      "count_zero 484\n",
      "Epoch 1/6\n",
      "31/31 [==============================] - 1s 10ms/step - loss: 0.6564 - acc: 0.6353\n",
      "Epoch 2/6\n",
      "31/31 [==============================] - 0s 10ms/step - loss: 0.3332 - acc: 0.8967\n",
      "Epoch 3/6\n",
      "31/31 [==============================] - 0s 10ms/step - loss: 0.0954 - acc: 0.9793\n",
      "Epoch 4/6\n",
      "31/31 [==============================] - 0s 10ms/step - loss: 0.0131 - acc: 0.9990\n",
      "Epoch 5/6\n",
      "31/31 [==============================] - 0s 10ms/step - loss: 0.0048 - acc: 1.0000\n",
      "Epoch 6/6\n",
      "31/31 [==============================] - 0s 11ms/step - loss: 0.0024 - acc: 1.0000\n",
      "Predicting 134th label...\n"
     ]
    },
    {
     "data": {
      "application/vnd.jupyter.widget-view+json": {
       "model_id": "2fcb5078f3ac4a93b97bc3de511934f4",
       "version_major": 2,
       "version_minor": 0
      },
      "text/plain": [
       "  0%|          | 0/20 [00:00<?, ?it/s]"
      ]
     },
     "metadata": {},
     "output_type": "display_data"
    },
    {
     "name": "stdout",
     "output_type": "stream",
     "text": [
      "\n",
      "135'th label prediction started\n",
      "count_one 161\n",
      "count_zero 161\n",
      "Epoch 1/6\n",
      "11/11 [==============================] - 1s 11ms/step - loss: 0.7008 - acc: 0.5062\n",
      "Epoch 2/6\n",
      "11/11 [==============================] - 0s 10ms/step - loss: 0.5742 - acc: 0.9845\n",
      "Epoch 3/6\n",
      "11/11 [==============================] - 0s 11ms/step - loss: 0.3550 - acc: 1.0000\n",
      "Epoch 4/6\n",
      "11/11 [==============================] - 0s 10ms/step - loss: 0.1311 - acc: 1.0000\n",
      "Epoch 5/6\n",
      "11/11 [==============================] - 0s 10ms/step - loss: 0.0343 - acc: 1.0000\n",
      "Epoch 6/6\n",
      "11/11 [==============================] - 0s 11ms/step - loss: 0.0088 - acc: 1.0000\n",
      "Predicting 135th label...\n"
     ]
    },
    {
     "data": {
      "application/vnd.jupyter.widget-view+json": {
       "model_id": "cdebe395595c4ca187a52146005dd637",
       "version_major": 2,
       "version_minor": 0
      },
      "text/plain": [
       "  0%|          | 0/20 [00:00<?, ?it/s]"
      ]
     },
     "metadata": {},
     "output_type": "display_data"
    },
    {
     "name": "stdout",
     "output_type": "stream",
     "text": [
      "\n",
      "136'th label prediction started\n",
      "count_one 353\n",
      "count_zero 353\n",
      "Epoch 1/6\n",
      "23/23 [==============================] - 2s 12ms/step - loss: 0.7054 - acc: 0.4943\n",
      "Epoch 2/6\n",
      "23/23 [==============================] - 0s 11ms/step - loss: 0.6373 - acc: 0.7450\n",
      "Epoch 3/6\n",
      "23/23 [==============================] - 0s 10ms/step - loss: 0.4159 - acc: 0.9490\n",
      "Epoch 4/6\n",
      "23/23 [==============================] - 0s 11ms/step - loss: 0.1309 - acc: 0.9873\n",
      "Epoch 5/6\n",
      "23/23 [==============================] - 0s 10ms/step - loss: 0.0223 - acc: 1.0000\n",
      "Epoch 6/6\n",
      "23/23 [==============================] - 0s 11ms/step - loss: 0.0061 - acc: 1.0000\n",
      "Predicting 136th label...\n"
     ]
    },
    {
     "data": {
      "application/vnd.jupyter.widget-view+json": {
       "model_id": "506c63bdfa85479b8e210cd93e1e5fa7",
       "version_major": 2,
       "version_minor": 0
      },
      "text/plain": [
       "  0%|          | 0/20 [00:00<?, ?it/s]"
      ]
     },
     "metadata": {},
     "output_type": "display_data"
    },
    {
     "name": "stdout",
     "output_type": "stream",
     "text": [
      "\n",
      "137'th label prediction started\n",
      "count_one 499\n",
      "count_zero 499\n",
      "Epoch 1/6\n",
      "32/32 [==============================] - 1s 20ms/step - loss: 0.6815 - acc: 0.5812\n",
      "Epoch 2/6\n",
      "32/32 [==============================] - 0s 11ms/step - loss: 0.5364 - acc: 0.7285\n",
      "Epoch 3/6\n",
      "32/32 [==============================] - 0s 11ms/step - loss: 0.1974 - acc: 0.9419\n",
      "Epoch 4/6\n",
      "32/32 [==============================] - 0s 11ms/step - loss: 0.0257 - acc: 0.9970\n",
      "Epoch 5/6\n",
      "32/32 [==============================] - 0s 11ms/step - loss: 0.0084 - acc: 1.0000\n",
      "Epoch 6/6\n",
      "32/32 [==============================] - 0s 10ms/step - loss: 0.0023 - acc: 1.0000\n",
      "Predicting 137th label...\n"
     ]
    },
    {
     "data": {
      "application/vnd.jupyter.widget-view+json": {
       "model_id": "756378800a824b22a42a8c9daea50ab1",
       "version_major": 2,
       "version_minor": 0
      },
      "text/plain": [
       "  0%|          | 0/20 [00:00<?, ?it/s]"
      ]
     },
     "metadata": {},
     "output_type": "display_data"
    },
    {
     "name": "stdout",
     "output_type": "stream",
     "text": [
      "\n",
      "138'th label prediction started\n",
      "count_one 243\n",
      "count_zero 243\n",
      "Epoch 1/6\n",
      "16/16 [==============================] - 1s 12ms/step - loss: 0.6931 - acc: 0.5288\n",
      "Epoch 2/6\n",
      "16/16 [==============================] - 0s 11ms/step - loss: 0.5858 - acc: 0.8148\n",
      "Epoch 3/6\n",
      "16/16 [==============================] - 0s 10ms/step - loss: 0.3297 - acc: 0.9342\n",
      "Epoch 4/6\n",
      "16/16 [==============================] - 0s 11ms/step - loss: 0.1053 - acc: 0.9856\n",
      "Epoch 5/6\n",
      "16/16 [==============================] - 0s 11ms/step - loss: 0.0220 - acc: 1.0000\n",
      "Epoch 6/6\n",
      "16/16 [==============================] - 0s 11ms/step - loss: 0.0064 - acc: 1.0000\n",
      "Predicting 138th label...\n"
     ]
    },
    {
     "data": {
      "application/vnd.jupyter.widget-view+json": {
       "model_id": "ab21093c05b7436eaacf6a11f987ad28",
       "version_major": 2,
       "version_minor": 0
      },
      "text/plain": [
       "  0%|          | 0/20 [00:00<?, ?it/s]"
      ]
     },
     "metadata": {},
     "output_type": "display_data"
    },
    {
     "name": "stdout",
     "output_type": "stream",
     "text": [
      "\n",
      "139'th label prediction started\n",
      "count_one 354\n",
      "count_zero 354\n",
      "Epoch 1/6\n",
      "23/23 [==============================] - 1s 12ms/step - loss: 0.6585 - acc: 0.5621\n",
      "Epoch 2/6\n",
      "23/23 [==============================] - 0s 11ms/step - loss: 0.4017 - acc: 0.8644\n",
      "Epoch 3/6\n",
      "23/23 [==============================] - 0s 11ms/step - loss: 0.1313 - acc: 0.9774\n",
      "Epoch 4/6\n",
      "23/23 [==============================] - 0s 11ms/step - loss: 0.0265 - acc: 0.9986\n",
      "Epoch 5/6\n",
      "23/23 [==============================] - 0s 10ms/step - loss: 0.0080 - acc: 1.0000\n",
      "Epoch 6/6\n",
      "23/23 [==============================] - 0s 11ms/step - loss: 0.0023 - acc: 1.0000\n",
      "Predicting 139th label...\n"
     ]
    },
    {
     "data": {
      "application/vnd.jupyter.widget-view+json": {
       "model_id": "3e9b0ffe89aa40ce8f9cc54fee01b05b",
       "version_major": 2,
       "version_minor": 0
      },
      "text/plain": [
       "  0%|          | 0/20 [00:00<?, ?it/s]"
      ]
     },
     "metadata": {},
     "output_type": "display_data"
    },
    {
     "name": "stdout",
     "output_type": "stream",
     "text": [
      "\n",
      "140'th label prediction started\n",
      "count_one 124\n",
      "count_zero 124\n",
      "Epoch 1/6\n",
      "8/8 [==============================] - 1s 11ms/step - loss: 0.6890 - acc: 0.5565\n",
      "Epoch 2/6\n",
      "8/8 [==============================] - 0s 10ms/step - loss: 0.5987 - acc: 0.9879\n",
      "Epoch 3/6\n",
      "8/8 [==============================] - 0s 11ms/step - loss: 0.4217 - acc: 1.0000\n",
      "Epoch 4/6\n",
      "8/8 [==============================] - 0s 11ms/step - loss: 0.2020 - acc: 1.0000\n",
      "Epoch 5/6\n",
      "8/8 [==============================] - 0s 11ms/step - loss: 0.0677 - acc: 1.0000\n",
      "Epoch 6/6\n",
      "8/8 [==============================] - 0s 11ms/step - loss: 0.0196 - acc: 1.0000\n",
      "Predicting 140th label...\n"
     ]
    },
    {
     "data": {
      "application/vnd.jupyter.widget-view+json": {
       "model_id": "7ad7357742394f08aea6160d95184d07",
       "version_major": 2,
       "version_minor": 0
      },
      "text/plain": [
       "  0%|          | 0/20 [00:00<?, ?it/s]"
      ]
     },
     "metadata": {},
     "output_type": "display_data"
    },
    {
     "name": "stdout",
     "output_type": "stream",
     "text": [
      "\n",
      "141'th label prediction started\n",
      "count_one 351\n",
      "count_zero 351\n",
      "Epoch 1/6\n",
      "22/22 [==============================] - 1s 11ms/step - loss: 0.6043 - acc: 0.7493\n",
      "Epoch 2/6\n",
      "22/22 [==============================] - 0s 10ms/step - loss: 0.1838 - acc: 0.9487\n",
      "Epoch 3/6\n",
      "22/22 [==============================] - 0s 11ms/step - loss: 0.0455 - acc: 0.9872\n",
      "Epoch 4/6\n",
      "22/22 [==============================] - 0s 11ms/step - loss: 0.0082 - acc: 0.9986\n",
      "Epoch 5/6\n",
      "22/22 [==============================] - 0s 10ms/step - loss: 0.0024 - acc: 1.0000\n",
      "Epoch 6/6\n",
      "22/22 [==============================] - 0s 10ms/step - loss: 0.0013 - acc: 1.0000\n",
      "Predicting 141th label...\n"
     ]
    },
    {
     "data": {
      "application/vnd.jupyter.widget-view+json": {
       "model_id": "3377ceec797b42068cb4038bbe80e575",
       "version_major": 2,
       "version_minor": 0
      },
      "text/plain": [
       "  0%|          | 0/20 [00:00<?, ?it/s]"
      ]
     },
     "metadata": {},
     "output_type": "display_data"
    },
    {
     "name": "stdout",
     "output_type": "stream",
     "text": [
      "\n",
      "142'th label prediction started\n",
      "count_one 320\n",
      "count_zero 320\n",
      "Epoch 1/6\n",
      "20/20 [==============================] - 1s 11ms/step - loss: 0.6864 - acc: 0.5453\n",
      "Epoch 2/6\n",
      "20/20 [==============================] - 0s 10ms/step - loss: 0.5071 - acc: 0.8859\n",
      "Epoch 3/6\n",
      "20/20 [==============================] - 0s 11ms/step - loss: 0.2389 - acc: 0.9469\n",
      "Epoch 4/6\n",
      "20/20 [==============================] - 0s 11ms/step - loss: 0.0566 - acc: 0.9937\n",
      "Epoch 5/6\n",
      "20/20 [==============================] - 0s 10ms/step - loss: 0.0109 - acc: 1.0000\n",
      "Epoch 6/6\n",
      "20/20 [==============================] - 0s 11ms/step - loss: 0.0033 - acc: 1.0000\n",
      "Predicting 142th label...\n"
     ]
    },
    {
     "data": {
      "application/vnd.jupyter.widget-view+json": {
       "model_id": "5cc089c6456a47e6964d75e546cd3a9e",
       "version_major": 2,
       "version_minor": 0
      },
      "text/plain": [
       "  0%|          | 0/20 [00:00<?, ?it/s]"
      ]
     },
     "metadata": {},
     "output_type": "display_data"
    },
    {
     "name": "stdout",
     "output_type": "stream",
     "text": [
      "\n",
      "143'th label prediction started\n",
      "count_one 100\n",
      "count_zero 100\n",
      "Epoch 1/6\n",
      "7/7 [==============================] - 1s 11ms/step - loss: 0.6959 - acc: 0.4900\n",
      "Epoch 2/6\n",
      "7/7 [==============================] - 0s 9ms/step - loss: 0.6293 - acc: 0.9700\n",
      "Epoch 3/6\n",
      "7/7 [==============================] - 0s 10ms/step - loss: 0.5249 - acc: 1.0000\n",
      "Epoch 4/6\n",
      "7/7 [==============================] - 0s 10ms/step - loss: 0.3635 - acc: 1.0000\n",
      "Epoch 5/6\n",
      "7/7 [==============================] - 0s 10ms/step - loss: 0.1891 - acc: 1.0000\n",
      "Epoch 6/6\n",
      "7/7 [==============================] - 0s 11ms/step - loss: 0.0686 - acc: 1.0000\n",
      "Predicting 143th label...\n"
     ]
    },
    {
     "data": {
      "application/vnd.jupyter.widget-view+json": {
       "model_id": "cb3b234960c449b697a377f0b9960b6e",
       "version_major": 2,
       "version_minor": 0
      },
      "text/plain": [
       "  0%|          | 0/20 [00:00<?, ?it/s]"
      ]
     },
     "metadata": {},
     "output_type": "display_data"
    },
    {
     "name": "stdout",
     "output_type": "stream",
     "text": [
      "\n",
      "144'th label prediction started\n",
      "count_one 305\n",
      "count_zero 305\n",
      "Epoch 1/6\n",
      "20/20 [==============================] - 1s 14ms/step - loss: 0.6849 - acc: 0.5574\n",
      "Epoch 2/6\n",
      "20/20 [==============================] - 0s 11ms/step - loss: 0.5283 - acc: 0.9508\n",
      "Epoch 3/6\n",
      "20/20 [==============================] - 0s 11ms/step - loss: 0.1938 - acc: 0.9852\n",
      "Epoch 4/6\n",
      "20/20 [==============================] - 0s 10ms/step - loss: 0.0260 - acc: 0.9984\n",
      "Epoch 5/6\n",
      "20/20 [==============================] - 0s 10ms/step - loss: 0.0049 - acc: 1.0000\n",
      "Epoch 6/6\n",
      "20/20 [==============================] - 0s 11ms/step - loss: 0.0022 - acc: 1.0000\n",
      "Predicting 144th label...\n"
     ]
    },
    {
     "data": {
      "application/vnd.jupyter.widget-view+json": {
       "model_id": "22175a0d56404056bd72d4f5345ad9db",
       "version_major": 2,
       "version_minor": 0
      },
      "text/plain": [
       "  0%|          | 0/20 [00:00<?, ?it/s]"
      ]
     },
     "metadata": {},
     "output_type": "display_data"
    },
    {
     "name": "stdout",
     "output_type": "stream",
     "text": [
      "\n",
      "145'th label prediction started\n",
      "count_one 84\n",
      "count_zero 84\n",
      "Epoch 1/6\n",
      "6/6 [==============================] - 1s 10ms/step - loss: 0.6993 - acc: 0.4702\n",
      "Epoch 2/6\n",
      "6/6 [==============================] - 0s 9ms/step - loss: 0.6139 - acc: 0.9940\n",
      "Epoch 3/6\n",
      "6/6 [==============================] - 0s 11ms/step - loss: 0.4966 - acc: 1.0000\n",
      "Epoch 4/6\n",
      "6/6 [==============================] - 0s 11ms/step - loss: 0.3248 - acc: 1.0000\n",
      "Epoch 5/6\n",
      "6/6 [==============================] - 0s 10ms/step - loss: 0.1606 - acc: 1.0000\n",
      "Epoch 6/6\n",
      "6/6 [==============================] - 0s 11ms/step - loss: 0.0647 - acc: 1.0000\n",
      "Predicting 145th label...\n"
     ]
    },
    {
     "data": {
      "application/vnd.jupyter.widget-view+json": {
       "model_id": "e6b737bbdcf247359c5b20fd7b8ef4d8",
       "version_major": 2,
       "version_minor": 0
      },
      "text/plain": [
       "  0%|          | 0/20 [00:00<?, ?it/s]"
      ]
     },
     "metadata": {},
     "output_type": "display_data"
    },
    {
     "name": "stdout",
     "output_type": "stream",
     "text": [
      "\n",
      "146'th label prediction started\n",
      "count_one 87\n",
      "count_zero 87\n",
      "Epoch 1/6\n",
      "6/6 [==============================] - 1s 12ms/step - loss: 0.7010 - acc: 0.4770\n",
      "Epoch 2/6\n",
      "6/6 [==============================] - 0s 11ms/step - loss: 0.6197 - acc: 0.9713\n",
      "Epoch 3/6\n",
      "6/6 [==============================] - 0s 10ms/step - loss: 0.5262 - acc: 0.9828\n",
      "Epoch 4/6\n",
      "6/6 [==============================] - 0s 10ms/step - loss: 0.3842 - acc: 0.9943\n",
      "Epoch 5/6\n",
      "6/6 [==============================] - 0s 11ms/step - loss: 0.2276 - acc: 1.0000\n",
      "Epoch 6/6\n",
      "6/6 [==============================] - 0s 9ms/step - loss: 0.1090 - acc: 1.0000\n",
      "Predicting 146th label...\n"
     ]
    },
    {
     "data": {
      "application/vnd.jupyter.widget-view+json": {
       "model_id": "ffd6af3ca31e4370ab0902047ccb8856",
       "version_major": 2,
       "version_minor": 0
      },
      "text/plain": [
       "  0%|          | 0/20 [00:00<?, ?it/s]"
      ]
     },
     "metadata": {},
     "output_type": "display_data"
    },
    {
     "name": "stdout",
     "output_type": "stream",
     "text": [
      "\n",
      "147'th label prediction started\n",
      "count_one 97\n",
      "count_zero 97\n",
      "Epoch 1/6\n",
      "7/7 [==============================] - 1s 24ms/step - loss: 0.7229 - acc: 0.4278\n",
      "Epoch 2/6\n",
      "7/7 [==============================] - 0s 11ms/step - loss: 0.6193 - acc: 0.8093\n",
      "Epoch 3/6\n",
      "7/7 [==============================] - 0s 11ms/step - loss: 0.5171 - acc: 0.9897\n",
      "Epoch 4/6\n",
      "7/7 [==============================] - 0s 10ms/step - loss: 0.3511 - acc: 0.9845\n",
      "Epoch 5/6\n",
      "7/7 [==============================] - 0s 10ms/step - loss: 0.1827 - acc: 0.9897\n",
      "Epoch 6/6\n",
      "7/7 [==============================] - 0s 10ms/step - loss: 0.0801 - acc: 0.9897\n",
      "Predicting 147th label...\n"
     ]
    },
    {
     "data": {
      "application/vnd.jupyter.widget-view+json": {
       "model_id": "eabb6751fa8f4046bdf20ce11b16d465",
       "version_major": 2,
       "version_minor": 0
      },
      "text/plain": [
       "  0%|          | 0/20 [00:00<?, ?it/s]"
      ]
     },
     "metadata": {},
     "output_type": "display_data"
    },
    {
     "name": "stdout",
     "output_type": "stream",
     "text": [
      "\n",
      "148'th label prediction started\n",
      "count_one 162\n",
      "count_zero 162\n",
      "Epoch 1/6\n",
      "11/11 [==============================] - 1s 18ms/step - loss: 0.6943 - acc: 0.5185\n",
      "Epoch 2/6\n",
      "11/11 [==============================] - 0s 11ms/step - loss: 0.6066 - acc: 0.7006\n",
      "Epoch 3/6\n",
      "11/11 [==============================] - 0s 10ms/step - loss: 0.4168 - acc: 0.9907\n",
      "Epoch 4/6\n",
      "11/11 [==============================] - 0s 10ms/step - loss: 0.1784 - acc: 0.9907\n",
      "Epoch 5/6\n",
      "11/11 [==============================] - 0s 10ms/step - loss: 0.0572 - acc: 0.9938\n",
      "Epoch 6/6\n",
      "11/11 [==============================] - 0s 11ms/step - loss: 0.0141 - acc: 1.0000\n",
      "Predicting 148th label...\n"
     ]
    },
    {
     "data": {
      "application/vnd.jupyter.widget-view+json": {
       "model_id": "b7baf8fcec5546a3bf82bfbdc6afcbee",
       "version_major": 2,
       "version_minor": 0
      },
      "text/plain": [
       "  0%|          | 0/20 [00:00<?, ?it/s]"
      ]
     },
     "metadata": {},
     "output_type": "display_data"
    },
    {
     "name": "stdout",
     "output_type": "stream",
     "text": [
      "\n",
      "149'th label prediction started\n",
      "count_one 154\n",
      "count_zero 154\n",
      "Epoch 1/6\n",
      "10/10 [==============================] - 1s 11ms/step - loss: 0.6906 - acc: 0.4870\n",
      "Epoch 2/6\n",
      "10/10 [==============================] - 0s 10ms/step - loss: 0.5847 - acc: 0.9286\n",
      "Epoch 3/6\n",
      "10/10 [==============================] - 0s 11ms/step - loss: 0.3946 - acc: 0.9903\n",
      "Epoch 4/6\n",
      "10/10 [==============================] - 0s 12ms/step - loss: 0.1848 - acc: 0.9870\n",
      "Epoch 5/6\n",
      "10/10 [==============================] - 0s 11ms/step - loss: 0.0610 - acc: 0.9968\n",
      "Epoch 6/6\n",
      "10/10 [==============================] - 0s 11ms/step - loss: 0.0164 - acc: 1.0000\n",
      "Predicting 149th label...\n"
     ]
    },
    {
     "data": {
      "application/vnd.jupyter.widget-view+json": {
       "model_id": "90193bf4fdc747a8acd1d86c9b6826d1",
       "version_major": 2,
       "version_minor": 0
      },
      "text/plain": [
       "  0%|          | 0/20 [00:00<?, ?it/s]"
      ]
     },
     "metadata": {},
     "output_type": "display_data"
    },
    {
     "name": "stdout",
     "output_type": "stream",
     "text": [
      "\n",
      "150'th label prediction started\n",
      "count_one 86\n",
      "count_zero 86\n",
      "Epoch 1/6\n",
      "6/6 [==============================] - 1s 12ms/step - loss: 0.7095 - acc: 0.4942\n",
      "Epoch 2/6\n",
      "6/6 [==============================] - 0s 10ms/step - loss: 0.6373 - acc: 0.9302\n",
      "Epoch 3/6\n",
      "6/6 [==============================] - 0s 11ms/step - loss: 0.5741 - acc: 0.9942\n",
      "Epoch 4/6\n",
      "6/6 [==============================] - 0s 11ms/step - loss: 0.4792 - acc: 1.0000\n",
      "Epoch 5/6\n",
      "6/6 [==============================] - 0s 11ms/step - loss: 0.3444 - acc: 1.0000\n",
      "Epoch 6/6\n",
      "6/6 [==============================] - 0s 11ms/step - loss: 0.2057 - acc: 1.0000\n",
      "Predicting 150th label...\n"
     ]
    },
    {
     "data": {
      "application/vnd.jupyter.widget-view+json": {
       "model_id": "236796fc18fd4b5fa40590bf671e9f3e",
       "version_major": 2,
       "version_minor": 0
      },
      "text/plain": [
       "  0%|          | 0/20 [00:00<?, ?it/s]"
      ]
     },
     "metadata": {},
     "output_type": "display_data"
    },
    {
     "name": "stdout",
     "output_type": "stream",
     "text": [
      "\n",
      "151'th label prediction started\n",
      "count_one 151\n",
      "count_zero 151\n",
      "Epoch 1/6\n",
      "10/10 [==============================] - 1s 11ms/step - loss: 0.6941 - acc: 0.4934\n",
      "Epoch 2/6\n",
      "10/10 [==============================] - 0s 10ms/step - loss: 0.6157 - acc: 0.9768\n",
      "Epoch 3/6\n",
      "10/10 [==============================] - 0s 10ms/step - loss: 0.4648 - acc: 0.9967\n",
      "Epoch 4/6\n",
      "10/10 [==============================] - 0s 10ms/step - loss: 0.2432 - acc: 1.0000\n",
      "Epoch 5/6\n",
      "10/10 [==============================] - 0s 10ms/step - loss: 0.0802 - acc: 1.0000\n",
      "Epoch 6/6\n",
      "10/10 [==============================] - 0s 10ms/step - loss: 0.0198 - acc: 1.0000\n",
      "Predicting 151th label...\n"
     ]
    },
    {
     "data": {
      "application/vnd.jupyter.widget-view+json": {
       "model_id": "0617d7ceb34245a8a19a5ba1378b4656",
       "version_major": 2,
       "version_minor": 0
      },
      "text/plain": [
       "  0%|          | 0/20 [00:00<?, ?it/s]"
      ]
     },
     "metadata": {},
     "output_type": "display_data"
    },
    {
     "name": "stdout",
     "output_type": "stream",
     "text": [
      "\n",
      "152'th label prediction started\n",
      "count_one 204\n",
      "count_zero 204\n",
      "Epoch 1/6\n",
      "13/13 [==============================] - 1s 11ms/step - loss: 0.6981 - acc: 0.5319\n",
      "Epoch 2/6\n",
      "13/13 [==============================] - 0s 11ms/step - loss: 0.5732 - acc: 0.8897\n",
      "Epoch 3/6\n",
      "13/13 [==============================] - 0s 10ms/step - loss: 0.3145 - acc: 0.9853\n",
      "Epoch 4/6\n",
      "13/13 [==============================] - 0s 11ms/step - loss: 0.0902 - acc: 0.9926\n",
      "Epoch 5/6\n",
      "13/13 [==============================] - 0s 11ms/step - loss: 0.0177 - acc: 1.0000\n",
      "Epoch 6/6\n",
      "13/13 [==============================] - 0s 11ms/step - loss: 0.0045 - acc: 1.0000\n",
      "Predicting 152th label...\n"
     ]
    },
    {
     "data": {
      "application/vnd.jupyter.widget-view+json": {
       "model_id": "848f325cd805488aa12f4a4e8cc6c7cb",
       "version_major": 2,
       "version_minor": 0
      },
      "text/plain": [
       "  0%|          | 0/20 [00:00<?, ?it/s]"
      ]
     },
     "metadata": {},
     "output_type": "display_data"
    },
    {
     "name": "stdout",
     "output_type": "stream",
     "text": [
      "\n",
      "153'th label prediction started\n",
      "count_one 89\n",
      "count_zero 89\n",
      "Epoch 1/6\n",
      "6/6 [==============================] - 1s 11ms/step - loss: 0.6937 - acc: 0.5000\n",
      "Epoch 2/6\n",
      "6/6 [==============================] - 0s 9ms/step - loss: 0.6219 - acc: 1.0000\n",
      "Epoch 3/6\n",
      "6/6 [==============================] - 0s 11ms/step - loss: 0.5096 - acc: 1.0000\n",
      "Epoch 4/6\n",
      "6/6 [==============================] - 0s 11ms/step - loss: 0.3535 - acc: 1.0000\n",
      "Epoch 5/6\n",
      "6/6 [==============================] - 0s 10ms/step - loss: 0.1861 - acc: 1.0000\n",
      "Epoch 6/6\n",
      "6/6 [==============================] - 0s 11ms/step - loss: 0.0757 - acc: 1.0000\n",
      "Predicting 153th label...\n"
     ]
    },
    {
     "data": {
      "application/vnd.jupyter.widget-view+json": {
       "model_id": "2d1596913af345b4b1226bb8b190b32b",
       "version_major": 2,
       "version_minor": 0
      },
      "text/plain": [
       "  0%|          | 0/20 [00:00<?, ?it/s]"
      ]
     },
     "metadata": {},
     "output_type": "display_data"
    },
    {
     "name": "stdout",
     "output_type": "stream",
     "text": [
      "\n",
      "154'th label prediction started\n",
      "count_one 318\n",
      "count_zero 318\n",
      "Epoch 1/6\n",
      "20/20 [==============================] - 1s 11ms/step - loss: 0.6804 - acc: 0.5865\n",
      "Epoch 2/6\n",
      "20/20 [==============================] - 0s 10ms/step - loss: 0.4825 - acc: 0.9277\n",
      "Epoch 3/6\n",
      "20/20 [==============================] - 0s 10ms/step - loss: 0.1631 - acc: 0.9607\n",
      "Epoch 4/6\n",
      "20/20 [==============================] - 0s 10ms/step - loss: 0.0313 - acc: 0.9984\n",
      "Epoch 5/6\n",
      "20/20 [==============================] - 0s 10ms/step - loss: 0.0057 - acc: 1.0000\n",
      "Epoch 6/6\n",
      "20/20 [==============================] - 0s 11ms/step - loss: 0.0020 - acc: 1.0000\n",
      "Predicting 154th label...\n"
     ]
    },
    {
     "data": {
      "application/vnd.jupyter.widget-view+json": {
       "model_id": "709ec8fb5a3b4b6888efedddb6a73bf7",
       "version_major": 2,
       "version_minor": 0
      },
      "text/plain": [
       "  0%|          | 0/20 [00:00<?, ?it/s]"
      ]
     },
     "metadata": {},
     "output_type": "display_data"
    },
    {
     "name": "stdout",
     "output_type": "stream",
     "text": [
      "\n",
      "155'th label prediction started\n",
      "count_one 91\n",
      "count_zero 91\n",
      "Epoch 1/6\n",
      "6/6 [==============================] - 1s 32ms/step - loss: 0.7003 - acc: 0.4945\n",
      "Epoch 2/6\n",
      "6/6 [==============================] - 0s 9ms/step - loss: 0.6402 - acc: 0.9341\n",
      "Epoch 3/6\n",
      "6/6 [==============================] - 0s 9ms/step - loss: 0.5639 - acc: 1.0000\n",
      "Epoch 4/6\n",
      "6/6 [==============================] - 0s 11ms/step - loss: 0.4406 - acc: 1.0000\n",
      "Epoch 5/6\n",
      "6/6 [==============================] - 0s 9ms/step - loss: 0.2828 - acc: 1.0000\n",
      "Epoch 6/6\n",
      "6/6 [==============================] - 0s 10ms/step - loss: 0.1396 - acc: 1.0000\n",
      "Predicting 155th label...\n"
     ]
    },
    {
     "data": {
      "application/vnd.jupyter.widget-view+json": {
       "model_id": "9d758316876447638fa5f026b6d10922",
       "version_major": 2,
       "version_minor": 0
      },
      "text/plain": [
       "  0%|          | 0/20 [00:00<?, ?it/s]"
      ]
     },
     "metadata": {},
     "output_type": "display_data"
    },
    {
     "name": "stdout",
     "output_type": "stream",
     "text": [
      "\n",
      "156'th label prediction started\n",
      "count_one 317\n",
      "count_zero 317\n",
      "Epoch 1/6\n",
      "20/20 [==============================] - 1s 10ms/step - loss: 0.6603 - acc: 0.5994\n",
      "Epoch 2/6\n",
      "20/20 [==============================] - 0s 10ms/step - loss: 0.3746 - acc: 0.9322\n",
      "Epoch 3/6\n",
      "20/20 [==============================] - 0s 11ms/step - loss: 0.1155 - acc: 0.9763\n",
      "Epoch 4/6\n",
      "20/20 [==============================] - 0s 10ms/step - loss: 0.0252 - acc: 0.9968\n",
      "Epoch 5/6\n",
      "20/20 [==============================] - 0s 10ms/step - loss: 0.0048 - acc: 1.0000\n",
      "Epoch 6/6\n",
      "20/20 [==============================] - 0s 10ms/step - loss: 0.0023 - acc: 1.0000\n",
      "Predicting 156th label...\n"
     ]
    },
    {
     "data": {
      "application/vnd.jupyter.widget-view+json": {
       "model_id": "83f4d17410d345978b12f4845daa0d13",
       "version_major": 2,
       "version_minor": 0
      },
      "text/plain": [
       "  0%|          | 0/20 [00:00<?, ?it/s]"
      ]
     },
     "metadata": {},
     "output_type": "display_data"
    },
    {
     "name": "stdout",
     "output_type": "stream",
     "text": [
      "\n",
      "157'th label prediction started\n",
      "count_one 493\n",
      "count_zero 493\n",
      "Epoch 1/6\n",
      "31/31 [==============================] - 1s 15ms/step - loss: 0.6680 - acc: 0.6055\n",
      "Epoch 2/6\n",
      "31/31 [==============================] - 0s 10ms/step - loss: 0.3885 - acc: 0.8712\n",
      "Epoch 3/6\n",
      "31/31 [==============================] - 0s 10ms/step - loss: 0.0839 - acc: 0.9909\n",
      "Epoch 4/6\n",
      "31/31 [==============================] - 0s 10ms/step - loss: 0.0078 - acc: 1.0000\n",
      "Epoch 5/6\n",
      "31/31 [==============================] - 0s 11ms/step - loss: 0.0025 - acc: 1.0000\n",
      "Epoch 6/6\n",
      "31/31 [==============================] - 0s 11ms/step - loss: 0.0013 - acc: 1.0000\n",
      "Predicting 157th label...\n"
     ]
    },
    {
     "data": {
      "application/vnd.jupyter.widget-view+json": {
       "model_id": "5693dbbc421a4d7eb0b1beb32292c927",
       "version_major": 2,
       "version_minor": 0
      },
      "text/plain": [
       "  0%|          | 0/20 [00:00<?, ?it/s]"
      ]
     },
     "metadata": {},
     "output_type": "display_data"
    },
    {
     "name": "stdout",
     "output_type": "stream",
     "text": [
      "\n",
      "158'th label prediction started\n",
      "count_one 98\n",
      "count_zero 98\n",
      "Epoch 1/6\n",
      "7/7 [==============================] - 1s 11ms/step - loss: 0.6846 - acc: 0.5663\n",
      "Epoch 2/6\n",
      "7/7 [==============================] - 0s 10ms/step - loss: 0.5683 - acc: 0.9847\n",
      "Epoch 3/6\n",
      "7/7 [==============================] - 0s 11ms/step - loss: 0.3809 - acc: 0.9949\n",
      "Epoch 4/6\n",
      "7/7 [==============================] - 0s 11ms/step - loss: 0.1713 - acc: 0.9949\n",
      "Epoch 5/6\n",
      "7/7 [==============================] - 0s 10ms/step - loss: 0.0605 - acc: 1.0000\n",
      "Epoch 6/6\n",
      "7/7 [==============================] - 0s 10ms/step - loss: 0.0209 - acc: 1.0000\n",
      "Predicting 158th label...\n"
     ]
    },
    {
     "data": {
      "application/vnd.jupyter.widget-view+json": {
       "model_id": "65f1d144fbdd4232ae5b9db47b5a6f45",
       "version_major": 2,
       "version_minor": 0
      },
      "text/plain": [
       "  0%|          | 0/20 [00:00<?, ?it/s]"
      ]
     },
     "metadata": {},
     "output_type": "display_data"
    },
    {
     "name": "stdout",
     "output_type": "stream",
     "text": [
      "\n",
      "159'th label prediction started\n",
      "count_one 117\n",
      "count_zero 117\n",
      "Epoch 1/6\n",
      "8/8 [==============================] - 1s 12ms/step - loss: 0.6968 - acc: 0.5043\n",
      "Epoch 2/6\n",
      "8/8 [==============================] - 0s 11ms/step - loss: 0.6080 - acc: 0.9573\n",
      "Epoch 3/6\n",
      "8/8 [==============================] - 0s 10ms/step - loss: 0.4673 - acc: 0.9829\n",
      "Epoch 4/6\n",
      "8/8 [==============================] - 0s 10ms/step - loss: 0.2718 - acc: 0.9872\n",
      "Epoch 5/6\n",
      "8/8 [==============================] - 0s 10ms/step - loss: 0.1190 - acc: 0.9957\n",
      "Epoch 6/6\n",
      "8/8 [==============================] - 0s 10ms/step - loss: 0.0395 - acc: 1.0000\n",
      "Predicting 159th label...\n"
     ]
    },
    {
     "data": {
      "application/vnd.jupyter.widget-view+json": {
       "model_id": "621ad02f9eef4ee0945e015eb8e0a137",
       "version_major": 2,
       "version_minor": 0
      },
      "text/plain": [
       "  0%|          | 0/20 [00:00<?, ?it/s]"
      ]
     },
     "metadata": {},
     "output_type": "display_data"
    },
    {
     "name": "stdout",
     "output_type": "stream",
     "text": [
      "\n",
      "160'th label prediction started\n",
      "count_one 276\n",
      "count_zero 276\n",
      "Epoch 1/6\n",
      "18/18 [==============================] - 1s 11ms/step - loss: 0.6687 - acc: 0.5471\n",
      "Epoch 2/6\n",
      "18/18 [==============================] - 0s 11ms/step - loss: 0.4464 - acc: 0.8623\n",
      "Epoch 3/6\n",
      "18/18 [==============================] - 0s 11ms/step - loss: 0.2303 - acc: 0.8750\n",
      "Epoch 4/6\n",
      "18/18 [==============================] - 0s 11ms/step - loss: 0.0745 - acc: 0.9946\n",
      "Epoch 5/6\n",
      "18/18 [==============================] - 0s 11ms/step - loss: 0.0178 - acc: 0.9982\n",
      "Epoch 6/6\n",
      "18/18 [==============================] - 0s 10ms/step - loss: 0.0044 - acc: 1.0000\n",
      "Predicting 160th label...\n"
     ]
    },
    {
     "data": {
      "application/vnd.jupyter.widget-view+json": {
       "model_id": "e33d4ac0b5b8405096c3b34e6cff37ff",
       "version_major": 2,
       "version_minor": 0
      },
      "text/plain": [
       "  0%|          | 0/20 [00:00<?, ?it/s]"
      ]
     },
     "metadata": {},
     "output_type": "display_data"
    },
    {
     "name": "stdout",
     "output_type": "stream",
     "text": [
      "\n",
      "161'th label prediction started\n",
      "count_one 236\n",
      "count_zero 236\n",
      "Epoch 1/6\n",
      "15/15 [==============================] - 1s 12ms/step - loss: 0.6893 - acc: 0.5487\n",
      "Epoch 2/6\n",
      "15/15 [==============================] - 0s 11ms/step - loss: 0.5779 - acc: 0.8750\n",
      "Epoch 3/6\n",
      "15/15 [==============================] - 0s 11ms/step - loss: 0.3079 - acc: 0.9915\n",
      "Epoch 4/6\n",
      "15/15 [==============================] - 0s 11ms/step - loss: 0.0782 - acc: 0.9979\n",
      "Epoch 5/6\n",
      "15/15 [==============================] - 0s 12ms/step - loss: 0.0125 - acc: 1.0000\n",
      "Epoch 6/6\n",
      "15/15 [==============================] - 0s 11ms/step - loss: 0.0040 - acc: 1.0000\n",
      "Predicting 161th label...\n"
     ]
    },
    {
     "data": {
      "application/vnd.jupyter.widget-view+json": {
       "model_id": "25eb90c7b3b742f09b6fa252eff6c48d",
       "version_major": 2,
       "version_minor": 0
      },
      "text/plain": [
       "  0%|          | 0/20 [00:00<?, ?it/s]"
      ]
     },
     "metadata": {},
     "output_type": "display_data"
    },
    {
     "name": "stdout",
     "output_type": "stream",
     "text": [
      "\n",
      "162'th label prediction started\n",
      "count_one 79\n",
      "count_zero 79\n",
      "Epoch 1/6\n",
      "5/5 [==============================] - 1s 12ms/step - loss: 0.6939 - acc: 0.5127\n",
      "Epoch 2/6\n",
      "5/5 [==============================] - 0s 11ms/step - loss: 0.6440 - acc: 0.9810\n",
      "Epoch 3/6\n",
      "5/5 [==============================] - 0s 11ms/step - loss: 0.5669 - acc: 1.0000\n",
      "Epoch 4/6\n",
      "5/5 [==============================] - 0s 12ms/step - loss: 0.4517 - acc: 1.0000\n",
      "Epoch 5/6\n",
      "5/5 [==============================] - 0s 11ms/step - loss: 0.3003 - acc: 1.0000\n",
      "Epoch 6/6\n",
      "5/5 [==============================] - 0s 12ms/step - loss: 0.1643 - acc: 1.0000\n",
      "Predicting 162th label...\n"
     ]
    },
    {
     "data": {
      "application/vnd.jupyter.widget-view+json": {
       "model_id": "3999f88ea1d14db787ad32bee26b5054",
       "version_major": 2,
       "version_minor": 0
      },
      "text/plain": [
       "  0%|          | 0/20 [00:00<?, ?it/s]"
      ]
     },
     "metadata": {},
     "output_type": "display_data"
    },
    {
     "name": "stdout",
     "output_type": "stream",
     "text": [
      "\n",
      "163'th label prediction started\n",
      "count_one 136\n",
      "count_zero 136\n",
      "Epoch 1/6\n",
      "9/9 [==============================] - 1s 23ms/step - loss: 0.6921 - acc: 0.5147\n",
      "Epoch 2/6\n",
      "9/9 [==============================] - 0s 11ms/step - loss: 0.6331 - acc: 0.8162\n",
      "Epoch 3/6\n",
      "9/9 [==============================] - 0s 11ms/step - loss: 0.5046 - acc: 1.0000\n",
      "Epoch 4/6\n",
      "9/9 [==============================] - 0s 11ms/step - loss: 0.2900 - acc: 1.0000\n",
      "Epoch 5/6\n",
      "9/9 [==============================] - 0s 11ms/step - loss: 0.1025 - acc: 1.0000\n",
      "Epoch 6/6\n",
      "9/9 [==============================] - 0s 11ms/step - loss: 0.0265 - acc: 1.0000\n",
      "Predicting 163th label...\n"
     ]
    },
    {
     "data": {
      "application/vnd.jupyter.widget-view+json": {
       "model_id": "ea64bc563d034ec2921e5a35be668729",
       "version_major": 2,
       "version_minor": 0
      },
      "text/plain": [
       "  0%|          | 0/20 [00:00<?, ?it/s]"
      ]
     },
     "metadata": {},
     "output_type": "display_data"
    },
    {
     "name": "stdout",
     "output_type": "stream",
     "text": [
      "\n",
      "164'th label prediction started\n",
      "count_one 328\n",
      "count_zero 328\n",
      "Epoch 1/6\n",
      "21/21 [==============================] - 1s 11ms/step - loss: 0.6389 - acc: 0.6418\n",
      "Epoch 2/6\n",
      "21/21 [==============================] - 0s 11ms/step - loss: 0.3342 - acc: 0.8567\n",
      "Epoch 3/6\n",
      "21/21 [==============================] - 0s 11ms/step - loss: 0.1357 - acc: 0.9787\n",
      "Epoch 4/6\n",
      "21/21 [==============================] - 0s 11ms/step - loss: 0.0279 - acc: 0.9985\n",
      "Epoch 5/6\n",
      "21/21 [==============================] - 0s 11ms/step - loss: 0.0069 - acc: 1.0000\n",
      "Epoch 6/6\n",
      "21/21 [==============================] - 0s 11ms/step - loss: 0.0029 - acc: 1.0000\n",
      "Predicting 164th label...\n"
     ]
    },
    {
     "data": {
      "application/vnd.jupyter.widget-view+json": {
       "model_id": "197e7280f9074d3c9f1cd348344befac",
       "version_major": 2,
       "version_minor": 0
      },
      "text/plain": [
       "  0%|          | 0/20 [00:00<?, ?it/s]"
      ]
     },
     "metadata": {},
     "output_type": "display_data"
    },
    {
     "name": "stdout",
     "output_type": "stream",
     "text": [
      "\n",
      "165'th label prediction started\n",
      "count_one 141\n",
      "count_zero 141\n",
      "Epoch 1/6\n",
      "9/9 [==============================] - 1s 12ms/step - loss: 0.7045 - acc: 0.4433\n",
      "Epoch 2/6\n",
      "9/9 [==============================] - 0s 10ms/step - loss: 0.6247 - acc: 0.9574\n",
      "Epoch 3/6\n",
      "9/9 [==============================] - 0s 11ms/step - loss: 0.5007 - acc: 0.9823\n",
      "Epoch 4/6\n",
      "9/9 [==============================] - 0s 10ms/step - loss: 0.2854 - acc: 0.9787\n",
      "Epoch 5/6\n",
      "9/9 [==============================] - 0s 11ms/step - loss: 0.1200 - acc: 0.9787\n",
      "Epoch 6/6\n",
      "9/9 [==============================] - 0s 11ms/step - loss: 0.0401 - acc: 0.9965\n",
      "Predicting 165th label...\n"
     ]
    },
    {
     "data": {
      "application/vnd.jupyter.widget-view+json": {
       "model_id": "eae94bc2936d41cc8beda39ea9a3e8c9",
       "version_major": 2,
       "version_minor": 0
      },
      "text/plain": [
       "  0%|          | 0/20 [00:00<?, ?it/s]"
      ]
     },
     "metadata": {},
     "output_type": "display_data"
    },
    {
     "name": "stdout",
     "output_type": "stream",
     "text": [
      "\n",
      "166'th label prediction started\n",
      "count_one 381\n",
      "count_zero 381\n",
      "Epoch 1/6\n",
      "24/24 [==============================] - 1s 12ms/step - loss: 0.6906 - acc: 0.5315\n",
      "Epoch 2/6\n",
      "24/24 [==============================] - 0s 11ms/step - loss: 0.5653 - acc: 0.7782\n",
      "Epoch 3/6\n",
      "24/24 [==============================] - 0s 10ms/step - loss: 0.2317 - acc: 0.9751\n",
      "Epoch 4/6\n",
      "24/24 [==============================] - 0s 11ms/step - loss: 0.0377 - acc: 0.9974\n",
      "Epoch 5/6\n",
      "24/24 [==============================] - 0s 11ms/step - loss: 0.0074 - acc: 1.0000\n",
      "Epoch 6/6\n",
      "24/24 [==============================] - 0s 10ms/step - loss: 0.0027 - acc: 1.0000\n",
      "Predicting 166th label...\n"
     ]
    },
    {
     "data": {
      "application/vnd.jupyter.widget-view+json": {
       "model_id": "cfc36eff386f46dc9a8a2818cf433897",
       "version_major": 2,
       "version_minor": 0
      },
      "text/plain": [
       "  0%|          | 0/20 [00:00<?, ?it/s]"
      ]
     },
     "metadata": {},
     "output_type": "display_data"
    },
    {
     "name": "stdout",
     "output_type": "stream",
     "text": [
      "\n",
      "167'th label prediction started\n",
      "count_one 342\n",
      "count_zero 342\n",
      "Epoch 1/6\n",
      "22/22 [==============================] - 1s 11ms/step - loss: 0.6952 - acc: 0.5322\n",
      "Epoch 2/6\n",
      "22/22 [==============================] - 0s 11ms/step - loss: 0.5939 - acc: 0.7222\n",
      "Epoch 3/6\n",
      "22/22 [==============================] - 0s 10ms/step - loss: 0.3003 - acc: 0.9123\n",
      "Epoch 4/6\n",
      "22/22 [==============================] - 0s 10ms/step - loss: 0.0725 - acc: 0.9912\n",
      "Epoch 5/6\n",
      "22/22 [==============================] - 0s 11ms/step - loss: 0.0112 - acc: 1.0000: 0s - loss: 0.0156 - acc: 1.0\n",
      "Epoch 6/6\n",
      "22/22 [==============================] - 0s 11ms/step - loss: 0.0032 - acc: 1.0000\n",
      "Predicting 167th label...\n"
     ]
    },
    {
     "data": {
      "application/vnd.jupyter.widget-view+json": {
       "model_id": "b6aaa008be2742388ec9220301558e0e",
       "version_major": 2,
       "version_minor": 0
      },
      "text/plain": [
       "  0%|          | 0/20 [00:00<?, ?it/s]"
      ]
     },
     "metadata": {},
     "output_type": "display_data"
    },
    {
     "name": "stdout",
     "output_type": "stream",
     "text": [
      "\n",
      "168'th label prediction started\n",
      "count_one 112\n",
      "count_zero 112\n",
      "Epoch 1/6\n",
      "7/7 [==============================] - 1s 12ms/step - loss: 0.6930 - acc: 0.4955\n",
      "Epoch 2/6\n",
      "7/7 [==============================] - 0s 10ms/step - loss: 0.5859 - acc: 0.9598\n",
      "Epoch 3/6\n",
      "7/7 [==============================] - 0s 10ms/step - loss: 0.4210 - acc: 0.9955\n",
      "Epoch 4/6\n",
      "7/7 [==============================] - 0s 10ms/step - loss: 0.2197 - acc: 1.0000\n",
      "Epoch 5/6\n",
      "7/7 [==============================] - 0s 10ms/step - loss: 0.0905 - acc: 1.0000\n",
      "Epoch 6/6\n",
      "7/7 [==============================] - 0s 9ms/step - loss: 0.0314 - acc: 1.0000\n",
      "Predicting 168th label...\n"
     ]
    },
    {
     "data": {
      "application/vnd.jupyter.widget-view+json": {
       "model_id": "866a5ad0fe56434d9198eb423c98092d",
       "version_major": 2,
       "version_minor": 0
      },
      "text/plain": [
       "  0%|          | 0/20 [00:00<?, ?it/s]"
      ]
     },
     "metadata": {},
     "output_type": "display_data"
    },
    {
     "name": "stdout",
     "output_type": "stream",
     "text": [
      "\n",
      "169'th label prediction started\n",
      "count_one 659\n",
      "count_zero 659\n",
      "Epoch 1/6\n",
      "42/42 [==============================] - 1s 13ms/step - loss: 0.6162 - acc: 0.6502\n",
      "Epoch 2/6\n",
      "42/42 [==============================] - 0s 11ms/step - loss: 0.2314 - acc: 0.9219\n",
      "Epoch 3/6\n",
      "42/42 [==============================] - 0s 10ms/step - loss: 0.0342 - acc: 0.9954\n",
      "Epoch 4/6\n",
      "42/42 [==============================] - 0s 10ms/step - loss: 0.0042 - acc: 1.0000\n",
      "Epoch 5/6\n",
      "42/42 [==============================] - 0s 11ms/step - loss: 0.0015 - acc: 1.0000\n",
      "Epoch 6/6\n",
      "42/42 [==============================] - 0s 10ms/step - loss: 6.6987e-04 - acc: 1.0000\n",
      "Predicting 169th label...\n"
     ]
    },
    {
     "data": {
      "application/vnd.jupyter.widget-view+json": {
       "model_id": "28ae1521ca264d3187976bdd8a64f8cf",
       "version_major": 2,
       "version_minor": 0
      },
      "text/plain": [
       "  0%|          | 0/20 [00:00<?, ?it/s]"
      ]
     },
     "metadata": {},
     "output_type": "display_data"
    },
    {
     "name": "stdout",
     "output_type": "stream",
     "text": [
      "\n",
      "170'th label prediction started\n",
      "count_one 92\n",
      "count_zero 92\n",
      "Epoch 1/6\n",
      "6/6 [==============================] - 1s 12ms/step - loss: 0.7065 - acc: 0.4946\n",
      "Epoch 2/6\n",
      "6/6 [==============================] - 0s 10ms/step - loss: 0.6391 - acc: 0.9022\n",
      "Epoch 3/6\n",
      "6/6 [==============================] - 0s 12ms/step - loss: 0.5670 - acc: 1.0000\n",
      "Epoch 4/6\n",
      "6/6 [==============================] - 0s 11ms/step - loss: 0.4427 - acc: 1.0000\n",
      "Epoch 5/6\n",
      "6/6 [==============================] - 0s 11ms/step - loss: 0.2875 - acc: 1.0000\n",
      "Epoch 6/6\n",
      "6/6 [==============================] - 0s 11ms/step - loss: 0.1443 - acc: 1.0000\n",
      "Predicting 170th label...\n"
     ]
    },
    {
     "data": {
      "application/vnd.jupyter.widget-view+json": {
       "model_id": "89f503b27df5436f868b25ed128a9668",
       "version_major": 2,
       "version_minor": 0
      },
      "text/plain": [
       "  0%|          | 0/20 [00:00<?, ?it/s]"
      ]
     },
     "metadata": {},
     "output_type": "display_data"
    },
    {
     "name": "stdout",
     "output_type": "stream",
     "text": [
      "\n",
      "171'th label prediction started\n",
      "count_one 151\n",
      "count_zero 151\n",
      "Epoch 1/6\n",
      "10/10 [==============================] - 1s 11ms/step - loss: 0.6960 - acc: 0.4669\n",
      "Epoch 2/6\n",
      "10/10 [==============================] - 0s 10ms/step - loss: 0.6310 - acc: 0.9636\n",
      "Epoch 3/6\n",
      "10/10 [==============================] - 0s 11ms/step - loss: 0.4859 - acc: 1.0000\n",
      "Epoch 4/6\n",
      "10/10 [==============================] - 0s 10ms/step - loss: 0.2426 - acc: 1.0000\n",
      "Epoch 5/6\n",
      "10/10 [==============================] - 0s 11ms/step - loss: 0.0658 - acc: 1.0000\n",
      "Epoch 6/6\n",
      "10/10 [==============================] - 0s 10ms/step - loss: 0.0145 - acc: 1.0000\n",
      "Predicting 171th label...\n"
     ]
    },
    {
     "data": {
      "application/vnd.jupyter.widget-view+json": {
       "model_id": "1290625ae33f49e4b76a613bced9309c",
       "version_major": 2,
       "version_minor": 0
      },
      "text/plain": [
       "  0%|          | 0/20 [00:00<?, ?it/s]"
      ]
     },
     "metadata": {},
     "output_type": "display_data"
    },
    {
     "name": "stdout",
     "output_type": "stream",
     "text": [
      "\n",
      "172'th label prediction started\n",
      "count_one 128\n",
      "count_zero 128\n",
      "Epoch 1/6\n",
      "8/8 [==============================] - 1s 11ms/step - loss: 0.6951 - acc: 0.5000\n",
      "Epoch 2/6\n",
      "8/8 [==============================] - 0s 11ms/step - loss: 0.6287 - acc: 0.9648\n",
      "Epoch 3/6\n",
      "8/8 [==============================] - 0s 11ms/step - loss: 0.5141 - acc: 1.0000\n",
      "Epoch 4/6\n",
      "8/8 [==============================] - 0s 11ms/step - loss: 0.3259 - acc: 1.0000\n",
      "Epoch 5/6\n",
      "8/8 [==============================] - 0s 11ms/step - loss: 0.1359 - acc: 1.0000\n",
      "Epoch 6/6\n",
      "8/8 [==============================] - 0s 11ms/step - loss: 0.0407 - acc: 1.0000\n",
      "Predicting 172th label...\n"
     ]
    },
    {
     "data": {
      "application/vnd.jupyter.widget-view+json": {
       "model_id": "83fa429b8b6546fe9edb9c72974e31f4",
       "version_major": 2,
       "version_minor": 0
      },
      "text/plain": [
       "  0%|          | 0/20 [00:00<?, ?it/s]"
      ]
     },
     "metadata": {},
     "output_type": "display_data"
    },
    {
     "name": "stdout",
     "output_type": "stream",
     "text": [
      "\n",
      "173'th label prediction started\n",
      "count_one 203\n",
      "count_zero 203\n",
      "Epoch 1/6\n",
      "13/13 [==============================] - 1s 11ms/step - loss: 0.6951 - acc: 0.5148\n",
      "Epoch 2/6\n",
      "13/13 [==============================] - 0s 10ms/step - loss: 0.6275 - acc: 0.8744\n",
      "Epoch 3/6\n",
      "13/13 [==============================] - 0s 11ms/step - loss: 0.4711 - acc: 1.0000\n",
      "Epoch 4/6\n",
      "13/13 [==============================] - 0s 11ms/step - loss: 0.2107 - acc: 1.0000\n",
      "Epoch 5/6\n",
      "13/13 [==============================] - 0s 11ms/step - loss: 0.0452 - acc: 1.0000\n",
      "Epoch 6/6\n",
      "13/13 [==============================] - 0s 11ms/step - loss: 0.0097 - acc: 1.0000\n",
      "Predicting 173th label...\n"
     ]
    },
    {
     "data": {
      "application/vnd.jupyter.widget-view+json": {
       "model_id": "33b14033a46345e6a043b9b3a39da0c2",
       "version_major": 2,
       "version_minor": 0
      },
      "text/plain": [
       "  0%|          | 0/20 [00:00<?, ?it/s]"
      ]
     },
     "metadata": {},
     "output_type": "display_data"
    },
    {
     "name": "stdout",
     "output_type": "stream",
     "text": [
      "\n",
      "174'th label prediction started\n",
      "count_one 350\n",
      "count_zero 350\n",
      "Epoch 1/6\n",
      "22/22 [==============================] - 1s 12ms/step - loss: 0.6781 - acc: 0.5700\n",
      "Epoch 2/6\n",
      "22/22 [==============================] - 0s 11ms/step - loss: 0.4717 - acc: 0.8371\n",
      "Epoch 3/6\n",
      "22/22 [==============================] - 0s 11ms/step - loss: 0.1450 - acc: 0.9786\n",
      "Epoch 4/6\n",
      "22/22 [==============================] - 0s 11ms/step - loss: 0.0226 - acc: 0.9971\n",
      "Epoch 5/6\n",
      "22/22 [==============================] - 0s 10ms/step - loss: 0.0055 - acc: 1.0000\n",
      "Epoch 6/6\n",
      "22/22 [==============================] - 0s 11ms/step - loss: 0.0021 - acc: 1.0000\n",
      "Predicting 174th label...\n"
     ]
    },
    {
     "data": {
      "application/vnd.jupyter.widget-view+json": {
       "model_id": "395d0eb0d936434886cebe4c78cd6a5b",
       "version_major": 2,
       "version_minor": 0
      },
      "text/plain": [
       "  0%|          | 0/20 [00:00<?, ?it/s]"
      ]
     },
     "metadata": {},
     "output_type": "display_data"
    },
    {
     "name": "stdout",
     "output_type": "stream",
     "text": [
      "\n",
      "175'th label prediction started\n",
      "count_one 151\n",
      "count_zero 151\n",
      "Epoch 1/6\n",
      "10/10 [==============================] - 1s 12ms/step - loss: 0.7064 - acc: 0.4901\n",
      "Epoch 2/6\n",
      "10/10 [==============================] - 0s 11ms/step - loss: 0.6287 - acc: 0.9172\n",
      "Epoch 3/6\n",
      "10/10 [==============================] - 0s 11ms/step - loss: 0.4808 - acc: 1.0000\n",
      "Epoch 4/6\n",
      "10/10 [==============================] - 0s 11ms/step - loss: 0.2444 - acc: 1.0000\n",
      "Epoch 5/6\n",
      "10/10 [==============================] - 0s 10ms/step - loss: 0.0730 - acc: 1.0000\n",
      "Epoch 6/6\n",
      "10/10 [==============================] - 0s 10ms/step - loss: 0.0180 - acc: 1.0000\n",
      "Predicting 175th label...\n"
     ]
    },
    {
     "data": {
      "application/vnd.jupyter.widget-view+json": {
       "model_id": "fe17f3c4beba42c792561c3ad4de516c",
       "version_major": 2,
       "version_minor": 0
      },
      "text/plain": [
       "  0%|          | 0/20 [00:00<?, ?it/s]"
      ]
     },
     "metadata": {},
     "output_type": "display_data"
    },
    {
     "name": "stdout",
     "output_type": "stream",
     "text": [
      "\n",
      "176'th label prediction started\n",
      "count_one 243\n",
      "count_zero 243\n",
      "Epoch 1/6\n",
      "16/16 [==============================] - 1s 11ms/step - loss: 0.6873 - acc: 0.5350\n",
      "Epoch 2/6\n",
      "16/16 [==============================] - 0s 10ms/step - loss: 0.5528 - acc: 0.9609\n",
      "Epoch 3/6\n",
      "16/16 [==============================] - 0s 10ms/step - loss: 0.2548 - acc: 0.9959\n",
      "Epoch 4/6\n",
      "16/16 [==============================] - 0s 10ms/step - loss: 0.0479 - acc: 1.0000\n",
      "Epoch 5/6\n",
      "16/16 [==============================] - 0s 10ms/step - loss: 0.0072 - acc: 1.0000\n",
      "Epoch 6/6\n",
      "16/16 [==============================] - 0s 10ms/step - loss: 0.0026 - acc: 1.0000\n",
      "Predicting 176th label...\n"
     ]
    },
    {
     "data": {
      "application/vnd.jupyter.widget-view+json": {
       "model_id": "49e9aa559c29479e95aa2f7b96db6c67",
       "version_major": 2,
       "version_minor": 0
      },
      "text/plain": [
       "  0%|          | 0/20 [00:00<?, ?it/s]"
      ]
     },
     "metadata": {},
     "output_type": "display_data"
    },
    {
     "name": "stdout",
     "output_type": "stream",
     "text": [
      "\n",
      "177'th label prediction started\n",
      "count_one 137\n",
      "count_zero 137\n",
      "Epoch 1/6\n",
      "9/9 [==============================] - 1s 24ms/step - loss: 0.6979 - acc: 0.4672\n",
      "Epoch 2/6\n",
      "9/9 [==============================] - 0s 10ms/step - loss: 0.6188 - acc: 0.9124\n",
      "Epoch 3/6\n",
      "9/9 [==============================] - 0s 11ms/step - loss: 0.4961 - acc: 0.9927\n",
      "Epoch 4/6\n",
      "9/9 [==============================] - 0s 11ms/step - loss: 0.2919 - acc: 1.0000\n",
      "Epoch 5/6\n",
      "9/9 [==============================] - 0s 10ms/step - loss: 0.1159 - acc: 1.0000\n",
      "Epoch 6/6\n",
      "9/9 [==============================] - 0s 9ms/step - loss: 0.0316 - acc: 1.0000\n",
      "Predicting 177th label...\n"
     ]
    },
    {
     "data": {
      "application/vnd.jupyter.widget-view+json": {
       "model_id": "500a94d2424a406b84349e9b889a1c54",
       "version_major": 2,
       "version_minor": 0
      },
      "text/plain": [
       "  0%|          | 0/20 [00:00<?, ?it/s]"
      ]
     },
     "metadata": {},
     "output_type": "display_data"
    },
    {
     "name": "stdout",
     "output_type": "stream",
     "text": [
      "\n",
      "178'th label prediction started\n",
      "count_one 110\n",
      "count_zero 110\n",
      "Epoch 1/6\n",
      "7/7 [==============================] - 1s 11ms/step - loss: 0.6938 - acc: 0.5000\n",
      "Epoch 2/6\n",
      "7/7 [==============================] - 0s 11ms/step - loss: 0.6258 - acc: 0.9909\n",
      "Epoch 3/6\n",
      "7/7 [==============================] - 0s 10ms/step - loss: 0.5142 - acc: 1.0000\n",
      "Epoch 4/6\n",
      "7/7 [==============================] - 0s 11ms/step - loss: 0.3476 - acc: 1.0000\n",
      "Epoch 5/6\n",
      "7/7 [==============================] - 0s 11ms/step - loss: 0.1716 - acc: 1.0000\n",
      "Epoch 6/6\n",
      "7/7 [==============================] - 0s 11ms/step - loss: 0.0606 - acc: 1.0000\n",
      "Predicting 178th label...\n"
     ]
    },
    {
     "data": {
      "application/vnd.jupyter.widget-view+json": {
       "model_id": "fa60f6fd24814f42a1eb98675531d740",
       "version_major": 2,
       "version_minor": 0
      },
      "text/plain": [
       "  0%|          | 0/20 [00:00<?, ?it/s]"
      ]
     },
     "metadata": {},
     "output_type": "display_data"
    },
    {
     "name": "stdout",
     "output_type": "stream",
     "text": [
      "\n",
      "179'th label prediction started\n",
      "count_one 77\n",
      "count_zero 77\n",
      "Epoch 1/6\n",
      "5/5 [==============================] - 1s 12ms/step - loss: 0.6990 - acc: 0.4740\n",
      "Epoch 2/6\n",
      "5/5 [==============================] - 0s 12ms/step - loss: 0.6340 - acc: 0.9870\n",
      "Epoch 3/6\n",
      "5/5 [==============================] - 0s 11ms/step - loss: 0.5503 - acc: 0.9870\n",
      "Epoch 4/6\n",
      "5/5 [==============================] - 0s 11ms/step - loss: 0.4281 - acc: 0.9935\n",
      "Epoch 5/6\n",
      "5/5 [==============================] - 0s 11ms/step - loss: 0.2826 - acc: 0.9935\n",
      "Epoch 6/6\n",
      "5/5 [==============================] - 0s 10ms/step - loss: 0.1586 - acc: 0.9870\n",
      "Predicting 179th label...\n"
     ]
    },
    {
     "data": {
      "application/vnd.jupyter.widget-view+json": {
       "model_id": "a201be53be2a48448a5ae36f3f225ff1",
       "version_major": 2,
       "version_minor": 0
      },
      "text/plain": [
       "  0%|          | 0/20 [00:00<?, ?it/s]"
      ]
     },
     "metadata": {},
     "output_type": "display_data"
    },
    {
     "name": "stdout",
     "output_type": "stream",
     "text": [
      "\n",
      "180'th label prediction started\n",
      "count_one 156\n",
      "count_zero 156\n",
      "Epoch 1/6\n",
      "10/10 [==============================] - 1s 12ms/step - loss: 0.6946 - acc: 0.5096\n",
      "Epoch 2/6\n",
      "10/10 [==============================] - 0s 11ms/step - loss: 0.6108 - acc: 0.9872\n",
      "Epoch 3/6\n",
      "10/10 [==============================] - 0s 12ms/step - loss: 0.4476 - acc: 0.9968\n",
      "Epoch 4/6\n",
      "10/10 [==============================] - 0s 11ms/step - loss: 0.2193 - acc: 0.9968\n",
      "Epoch 5/6\n",
      "10/10 [==============================] - 0s 9ms/step - loss: 0.0666 - acc: 1.0000\n",
      "Epoch 6/6\n",
      "10/10 [==============================] - 0s 10ms/step - loss: 0.0159 - acc: 1.0000\n",
      "Predicting 180th label...\n"
     ]
    },
    {
     "data": {
      "application/vnd.jupyter.widget-view+json": {
       "model_id": "f6da7671964c42cbbba4be6e1b34a6b5",
       "version_major": 2,
       "version_minor": 0
      },
      "text/plain": [
       "  0%|          | 0/20 [00:00<?, ?it/s]"
      ]
     },
     "metadata": {},
     "output_type": "display_data"
    },
    {
     "name": "stdout",
     "output_type": "stream",
     "text": [
      "\n",
      "181'th label prediction started\n",
      "count_one 279\n",
      "count_zero 279\n",
      "Epoch 1/6\n",
      "18/18 [==============================] - 1s 11ms/step - loss: 0.6897 - acc: 0.5609\n",
      "Epoch 2/6\n",
      "18/18 [==============================] - 0s 11ms/step - loss: 0.5725 - acc: 0.8297\n",
      "Epoch 3/6\n",
      "18/18 [==============================] - 0s 10ms/step - loss: 0.2740 - acc: 0.9946\n",
      "Epoch 4/6\n",
      "18/18 [==============================] - 0s 10ms/step - loss: 0.0533 - acc: 0.9982\n",
      "Epoch 5/6\n",
      "18/18 [==============================] - 0s 11ms/step - loss: 0.0077 - acc: 1.0000\n",
      "Epoch 6/6\n",
      "18/18 [==============================] - 0s 10ms/step - loss: 0.0024 - acc: 1.0000\n",
      "Predicting 181th label...\n"
     ]
    },
    {
     "data": {
      "application/vnd.jupyter.widget-view+json": {
       "model_id": "1155c8a1a5af4d9eaab9fc4b29b689b7",
       "version_major": 2,
       "version_minor": 0
      },
      "text/plain": [
       "  0%|          | 0/20 [00:00<?, ?it/s]"
      ]
     },
     "metadata": {},
     "output_type": "display_data"
    },
    {
     "name": "stdout",
     "output_type": "stream",
     "text": [
      "\n",
      "182'th label prediction started\n",
      "count_one 207\n",
      "count_zero 207\n",
      "Epoch 1/6\n",
      "13/13 [==============================] - 1s 22ms/step - loss: 0.6981 - acc: 0.4879\n",
      "Epoch 2/6\n",
      "13/13 [==============================] - 0s 9ms/step - loss: 0.6081 - acc: 0.9638\n",
      "Epoch 3/6\n",
      "13/13 [==============================] - 0s 9ms/step - loss: 0.4072 - acc: 0.9976\n",
      "Epoch 4/6\n",
      "13/13 [==============================] - 0s 10ms/step - loss: 0.1388 - acc: 0.9976\n",
      "Epoch 5/6\n",
      "13/13 [==============================] - 0s 10ms/step - loss: 0.0274 - acc: 0.9976\n",
      "Epoch 6/6\n",
      "13/13 [==============================] - 0s 11ms/step - loss: 0.0064 - acc: 1.0000\n",
      "Predicting 182th label...\n"
     ]
    },
    {
     "data": {
      "application/vnd.jupyter.widget-view+json": {
       "model_id": "98821f6adb854c18a3116131546913e5",
       "version_major": 2,
       "version_minor": 0
      },
      "text/plain": [
       "  0%|          | 0/20 [00:00<?, ?it/s]"
      ]
     },
     "metadata": {},
     "output_type": "display_data"
    },
    {
     "name": "stdout",
     "output_type": "stream",
     "text": [
      "\n",
      "183'th label prediction started\n",
      "count_one 273\n",
      "count_zero 273\n",
      "Epoch 1/6\n",
      "18/18 [==============================] - 1s 15ms/step - loss: 0.6967 - acc: 0.5458\n",
      "Epoch 2/6\n",
      "18/18 [==============================] - 0s 10ms/step - loss: 0.5944 - acc: 0.6978\n",
      "Epoch 3/6\n",
      "18/18 [==============================] - 0s 11ms/step - loss: 0.3328 - acc: 0.9853\n",
      "Epoch 4/6\n",
      "18/18 [==============================] - 0s 10ms/step - loss: 0.0874 - acc: 0.9927\n",
      "Epoch 5/6\n",
      "18/18 [==============================] - 0s 10ms/step - loss: 0.0133 - acc: 1.0000\n",
      "Epoch 6/6\n",
      "18/18 [==============================] - 0s 11ms/step - loss: 0.0039 - acc: 1.0000\n",
      "Predicting 183th label...\n"
     ]
    },
    {
     "data": {
      "application/vnd.jupyter.widget-view+json": {
       "model_id": "47e2a74129f8448387aae4e022a70c6c",
       "version_major": 2,
       "version_minor": 0
      },
      "text/plain": [
       "  0%|          | 0/20 [00:00<?, ?it/s]"
      ]
     },
     "metadata": {},
     "output_type": "display_data"
    },
    {
     "name": "stdout",
     "output_type": "stream",
     "text": [
      "\n",
      "184'th label prediction started\n",
      "count_one 226\n",
      "count_zero 226\n",
      "Epoch 1/6\n",
      "15/15 [==============================] - 2s 11ms/step - loss: 0.6903 - acc: 0.5442\n",
      "Epoch 2/6\n",
      "15/15 [==============================] - 0s 11ms/step - loss: 0.5822 - acc: 0.9558\n",
      "Epoch 3/6\n",
      "15/15 [==============================] - 0s 11ms/step - loss: 0.3326 - acc: 0.9889\n",
      "Epoch 4/6\n",
      "15/15 [==============================] - 0s 11ms/step - loss: 0.0992 - acc: 0.9889\n",
      "Epoch 5/6\n",
      "15/15 [==============================] - 0s 10ms/step - loss: 0.0184 - acc: 1.0000\n",
      "Epoch 6/6\n",
      "15/15 [==============================] - 0s 11ms/step - loss: 0.0053 - acc: 1.0000\n",
      "Predicting 184th label...\n"
     ]
    },
    {
     "data": {
      "application/vnd.jupyter.widget-view+json": {
       "model_id": "4cbccee0a555438db71cae1e4d0bf764",
       "version_major": 2,
       "version_minor": 0
      },
      "text/plain": [
       "  0%|          | 0/20 [00:00<?, ?it/s]"
      ]
     },
     "metadata": {},
     "output_type": "display_data"
    },
    {
     "name": "stdout",
     "output_type": "stream",
     "text": [
      "\n",
      "185'th label prediction started\n",
      "count_one 136\n",
      "count_zero 136\n",
      "Epoch 1/6\n",
      "9/9 [==============================] - 1s 11ms/step - loss: 0.6951 - acc: 0.4853\n",
      "Epoch 2/6\n",
      "9/9 [==============================] - 0s 11ms/step - loss: 0.6347 - acc: 0.9853\n",
      "Epoch 3/6\n",
      "9/9 [==============================] - 0s 11ms/step - loss: 0.5276 - acc: 0.9963\n",
      "Epoch 4/6\n",
      "9/9 [==============================] - 0s 10ms/step - loss: 0.3396 - acc: 0.9963\n",
      "Epoch 5/6\n",
      "9/9 [==============================] - 0s 10ms/step - loss: 0.1527 - acc: 0.9963\n",
      "Epoch 6/6\n",
      "9/9 [==============================] - 0s 10ms/step - loss: 0.0481 - acc: 1.0000\n",
      "Predicting 185th label...\n"
     ]
    },
    {
     "data": {
      "application/vnd.jupyter.widget-view+json": {
       "model_id": "e8644464d70548e5b3d801eae54f41be",
       "version_major": 2,
       "version_minor": 0
      },
      "text/plain": [
       "  0%|          | 0/20 [00:00<?, ?it/s]"
      ]
     },
     "metadata": {},
     "output_type": "display_data"
    },
    {
     "name": "stdout",
     "output_type": "stream",
     "text": [
      "\n",
      "186'th label prediction started\n",
      "count_one 111\n",
      "count_zero 111\n",
      "Epoch 1/6\n",
      "7/7 [==============================] - 1s 11ms/step - loss: 0.6949 - acc: 0.4910\n",
      "Epoch 2/6\n",
      "7/7 [==============================] - 0s 10ms/step - loss: 0.6275 - acc: 0.8739\n",
      "Epoch 3/6\n",
      "7/7 [==============================] - 0s 10ms/step - loss: 0.5134 - acc: 1.0000\n",
      "Epoch 4/6\n",
      "7/7 [==============================] - 0s 11ms/step - loss: 0.3364 - acc: 1.0000\n",
      "Epoch 5/6\n",
      "7/7 [==============================] - 0s 12ms/step - loss: 0.1566 - acc: 1.0000\n",
      "Epoch 6/6\n",
      "7/7 [==============================] - 0s 10ms/step - loss: 0.0526 - acc: 1.0000\n",
      "Predicting 186th label...\n"
     ]
    },
    {
     "data": {
      "application/vnd.jupyter.widget-view+json": {
       "model_id": "8e665abb8183478abe0bfc09cf4a4133",
       "version_major": 2,
       "version_minor": 0
      },
      "text/plain": [
       "  0%|          | 0/20 [00:00<?, ?it/s]"
      ]
     },
     "metadata": {},
     "output_type": "display_data"
    },
    {
     "name": "stdout",
     "output_type": "stream",
     "text": [
      "\n",
      "187'th label prediction started\n",
      "count_one 228\n",
      "count_zero 228\n",
      "Epoch 1/6\n",
      "15/15 [==============================] - 1s 16ms/step - loss: 0.6907 - acc: 0.5219\n",
      "Epoch 2/6\n",
      "15/15 [==============================] - 0s 10ms/step - loss: 0.5556 - acc: 0.9079\n",
      "Epoch 3/6\n",
      "15/15 [==============================] - 0s 10ms/step - loss: 0.2636 - acc: 0.9890\n",
      "Epoch 4/6\n",
      "15/15 [==============================] - 0s 10ms/step - loss: 0.0652 - acc: 0.9956\n",
      "Epoch 5/6\n",
      "15/15 [==============================] - 0s 11ms/step - loss: 0.0132 - acc: 0.9978\n",
      "Epoch 6/6\n",
      "15/15 [==============================] - 0s 11ms/step - loss: 0.0039 - acc: 1.0000\n",
      "Predicting 187th label...\n"
     ]
    },
    {
     "data": {
      "application/vnd.jupyter.widget-view+json": {
       "model_id": "27cf6f3959ca4e3da5f99cf9852b5330",
       "version_major": 2,
       "version_minor": 0
      },
      "text/plain": [
       "  0%|          | 0/20 [00:00<?, ?it/s]"
      ]
     },
     "metadata": {},
     "output_type": "display_data"
    },
    {
     "name": "stdout",
     "output_type": "stream",
     "text": [
      "\n",
      "188'th label prediction started\n",
      "count_one 314\n",
      "count_zero 314\n",
      "Epoch 1/6\n",
      "20/20 [==============================] - 1s 16ms/step - loss: 0.6851 - acc: 0.5525\n",
      "Epoch 2/6\n",
      "20/20 [==============================] - 0s 11ms/step - loss: 0.5120 - acc: 0.8519\n",
      "Epoch 3/6\n",
      "20/20 [==============================] - 0s 11ms/step - loss: 0.2148 - acc: 0.9538\n",
      "Epoch 4/6\n",
      "20/20 [==============================] - 0s 10ms/step - loss: 0.0504 - acc: 0.9920\n",
      "Epoch 5/6\n",
      "20/20 [==============================] - 0s 11ms/step - loss: 0.0096 - acc: 1.0000\n",
      "Epoch 6/6\n",
      "20/20 [==============================] - 0s 11ms/step - loss: 0.0037 - acc: 1.0000\n",
      "Predicting 188th label...\n"
     ]
    },
    {
     "data": {
      "application/vnd.jupyter.widget-view+json": {
       "model_id": "03494f459dd644faa1697198f16b4345",
       "version_major": 2,
       "version_minor": 0
      },
      "text/plain": [
       "  0%|          | 0/20 [00:00<?, ?it/s]"
      ]
     },
     "metadata": {},
     "output_type": "display_data"
    },
    {
     "name": "stdout",
     "output_type": "stream",
     "text": [
      "\n",
      "189'th label prediction started\n",
      "count_one 57\n",
      "count_zero 57\n",
      "Epoch 1/6\n",
      "4/4 [==============================] - 1s 44ms/step - loss: 0.6985 - acc: 0.4912\n",
      "Epoch 2/6\n",
      "4/4 [==============================] - 0s 10ms/step - loss: 0.6418 - acc: 0.9298\n",
      "Epoch 3/6\n",
      "4/4 [==============================] - 0s 10ms/step - loss: 0.5803 - acc: 0.9825\n",
      "Epoch 4/6\n",
      "4/4 [==============================] - 0s 10ms/step - loss: 0.4923 - acc: 1.0000\n",
      "Epoch 5/6\n",
      "4/4 [==============================] - 0s 10ms/step - loss: 0.3834 - acc: 1.0000\n",
      "Epoch 6/6\n",
      "4/4 [==============================] - 0s 11ms/step - loss: 0.2652 - acc: 1.0000\n",
      "Predicting 189th label...\n"
     ]
    },
    {
     "data": {
      "application/vnd.jupyter.widget-view+json": {
       "model_id": "018b7aa4b2cf4937baf33a2854cba20f",
       "version_major": 2,
       "version_minor": 0
      },
      "text/plain": [
       "  0%|          | 0/20 [00:00<?, ?it/s]"
      ]
     },
     "metadata": {},
     "output_type": "display_data"
    },
    {
     "name": "stdout",
     "output_type": "stream",
     "text": [
      "\n",
      "190'th label prediction started\n",
      "count_one 181\n",
      "count_zero 181\n",
      "Epoch 1/6\n",
      "12/12 [==============================] - 1s 12ms/step - loss: 0.7007 - acc: 0.4834\n",
      "Epoch 2/6\n",
      "12/12 [==============================] - 0s 12ms/step - loss: 0.6125 - acc: 0.9282\n",
      "Epoch 3/6\n",
      "12/12 [==============================] - 0s 12ms/step - loss: 0.4319 - acc: 0.9890\n",
      "Epoch 4/6\n",
      "12/12 [==============================] - 0s 12ms/step - loss: 0.1886 - acc: 0.9972\n",
      "Epoch 5/6\n",
      "12/12 [==============================] - 0s 11ms/step - loss: 0.0439 - acc: 1.0000\n",
      "Epoch 6/6\n",
      "12/12 [==============================] - 0s 11ms/step - loss: 0.0097 - acc: 1.0000\n",
      "Predicting 190th label...\n"
     ]
    },
    {
     "data": {
      "application/vnd.jupyter.widget-view+json": {
       "model_id": "c1d94f17f0cc4f3899f51e5e36bf0bce",
       "version_major": 2,
       "version_minor": 0
      },
      "text/plain": [
       "  0%|          | 0/20 [00:00<?, ?it/s]"
      ]
     },
     "metadata": {},
     "output_type": "display_data"
    },
    {
     "name": "stdout",
     "output_type": "stream",
     "text": [
      "\n",
      "191'th label prediction started\n",
      "count_one 92\n",
      "count_zero 92\n",
      "Epoch 1/6\n",
      "6/6 [==============================] - 1s 12ms/step - loss: 0.6941 - acc: 0.4946\n",
      "Epoch 2/6\n",
      "6/6 [==============================] - 0s 11ms/step - loss: 0.6304 - acc: 0.9891\n",
      "Epoch 3/6\n",
      "6/6 [==============================] - 0s 12ms/step - loss: 0.5375 - acc: 1.0000\n",
      "Epoch 4/6\n",
      "6/6 [==============================] - 0s 11ms/step - loss: 0.3928 - acc: 1.0000\n",
      "Epoch 5/6\n",
      "6/6 [==============================] - 0s 10ms/step - loss: 0.2274 - acc: 1.0000\n",
      "Epoch 6/6\n",
      "6/6 [==============================] - 0s 10ms/step - loss: 0.0995 - acc: 1.0000\n",
      "Predicting 191th label...\n"
     ]
    },
    {
     "data": {
      "application/vnd.jupyter.widget-view+json": {
       "model_id": "99bfebb6b168449a8d39b0c386d4fa8c",
       "version_major": 2,
       "version_minor": 0
      },
      "text/plain": [
       "  0%|          | 0/20 [00:00<?, ?it/s]"
      ]
     },
     "metadata": {},
     "output_type": "display_data"
    },
    {
     "name": "stdout",
     "output_type": "stream",
     "text": [
      "\n",
      "192'th label prediction started\n",
      "count_one 109\n",
      "count_zero 109\n",
      "Epoch 1/6\n",
      "7/7 [==============================] - 1s 11ms/step - loss: 0.6891 - acc: 0.5321\n",
      "Epoch 2/6\n",
      "7/7 [==============================] - 0s 11ms/step - loss: 0.6018 - acc: 0.9954\n",
      "Epoch 3/6\n",
      "7/7 [==============================] - 0s 11ms/step - loss: 0.4349 - acc: 1.0000\n",
      "Epoch 4/6\n",
      "7/7 [==============================] - 0s 11ms/step - loss: 0.2286 - acc: 1.0000\n",
      "Epoch 5/6\n",
      "7/7 [==============================] - 0s 11ms/step - loss: 0.0859 - acc: 1.0000\n",
      "Epoch 6/6\n",
      "7/7 [==============================] - 0s 11ms/step - loss: 0.0264 - acc: 1.0000\n",
      "Predicting 192th label...\n"
     ]
    },
    {
     "data": {
      "application/vnd.jupyter.widget-view+json": {
       "model_id": "e419982540164dc78a6e7b8783603c9c",
       "version_major": 2,
       "version_minor": 0
      },
      "text/plain": [
       "  0%|          | 0/20 [00:00<?, ?it/s]"
      ]
     },
     "metadata": {},
     "output_type": "display_data"
    },
    {
     "name": "stdout",
     "output_type": "stream",
     "text": [
      "\n",
      "193'th label prediction started\n",
      "count_one 132\n",
      "count_zero 132\n",
      "Epoch 1/6\n",
      "9/9 [==============================] - 1s 12ms/step - loss: 0.6955 - acc: 0.4242\n",
      "Epoch 2/6\n",
      "9/9 [==============================] - 0s 12ms/step - loss: 0.6156 - acc: 0.9356\n",
      "Epoch 3/6\n",
      "9/9 [==============================] - 0s 11ms/step - loss: 0.4810 - acc: 1.0000\n",
      "Epoch 4/6\n",
      "9/9 [==============================] - 0s 11ms/step - loss: 0.2669 - acc: 1.0000\n",
      "Epoch 5/6\n",
      "9/9 [==============================] - 0s 11ms/step - loss: 0.0941 - acc: 0.9962\n",
      "Epoch 6/6\n",
      "9/9 [==============================] - 0s 11ms/step - loss: 0.0262 - acc: 1.0000\n",
      "Predicting 193th label...\n"
     ]
    },
    {
     "data": {
      "application/vnd.jupyter.widget-view+json": {
       "model_id": "2324ee1678424f32bfcacab1d67267c2",
       "version_major": 2,
       "version_minor": 0
      },
      "text/plain": [
       "  0%|          | 0/20 [00:00<?, ?it/s]"
      ]
     },
     "metadata": {},
     "output_type": "display_data"
    },
    {
     "name": "stdout",
     "output_type": "stream",
     "text": [
      "\n",
      "194'th label prediction started\n",
      "count_one 183\n",
      "count_zero 183\n",
      "Epoch 1/6\n",
      "12/12 [==============================] - 1s 11ms/step - loss: 0.7050 - acc: 0.5137\n",
      "Epoch 2/6\n",
      "12/12 [==============================] - 0s 11ms/step - loss: 0.5906 - acc: 0.8142\n",
      "Epoch 3/6\n",
      "12/12 [==============================] - 0s 11ms/step - loss: 0.3412 - acc: 0.9918\n",
      "Epoch 4/6\n",
      "12/12 [==============================] - 0s 11ms/step - loss: 0.1012 - acc: 0.9973\n",
      "Epoch 5/6\n",
      "12/12 [==============================] - 0s 11ms/step - loss: 0.0208 - acc: 1.0000\n",
      "Epoch 6/6\n",
      "12/12 [==============================] - 0s 11ms/step - loss: 0.0051 - acc: 1.0000\n",
      "Predicting 194th label...\n"
     ]
    },
    {
     "data": {
      "application/vnd.jupyter.widget-view+json": {
       "model_id": "a2cf82278e0742df8cb35491d331628b",
       "version_major": 2,
       "version_minor": 0
      },
      "text/plain": [
       "  0%|          | 0/20 [00:00<?, ?it/s]"
      ]
     },
     "metadata": {},
     "output_type": "display_data"
    },
    {
     "name": "stdout",
     "output_type": "stream",
     "text": [
      "\n",
      "195'th label prediction started\n",
      "count_one 194\n",
      "count_zero 194\n",
      "Epoch 1/6\n",
      "13/13 [==============================] - 1s 12ms/step - loss: 0.6962 - acc: 0.4716\n",
      "Epoch 2/6\n",
      "13/13 [==============================] - 0s 10ms/step - loss: 0.5867 - acc: 0.9046\n",
      "Epoch 3/6\n",
      "13/13 [==============================] - 0s 11ms/step - loss: 0.3369 - acc: 0.9742\n",
      "Epoch 4/6\n",
      "13/13 [==============================] - 0s 11ms/step - loss: 0.1080 - acc: 0.9820\n",
      "Epoch 5/6\n",
      "13/13 [==============================] - 0s 10ms/step - loss: 0.0236 - acc: 1.0000\n",
      "Epoch 6/6\n",
      "13/13 [==============================] - 0s 11ms/step - loss: 0.0058 - acc: 1.0000\n",
      "Predicting 195th label...\n"
     ]
    },
    {
     "data": {
      "application/vnd.jupyter.widget-view+json": {
       "model_id": "128d58248e5c48139148b5b9f019c098",
       "version_major": 2,
       "version_minor": 0
      },
      "text/plain": [
       "  0%|          | 0/20 [00:00<?, ?it/s]"
      ]
     },
     "metadata": {},
     "output_type": "display_data"
    },
    {
     "name": "stdout",
     "output_type": "stream",
     "text": [
      "\n",
      "196'th label prediction started\n",
      "count_one 77\n",
      "count_zero 77\n",
      "Epoch 1/6\n",
      "5/5 [==============================] - 1s 12ms/step - loss: 0.6943 - acc: 0.5195\n",
      "Epoch 2/6\n",
      "5/5 [==============================] - 0s 10ms/step - loss: 0.6383 - acc: 1.0000\n",
      "Epoch 3/6\n",
      "5/5 [==============================] - 0s 11ms/step - loss: 0.5609 - acc: 1.0000\n",
      "Epoch 4/6\n",
      "5/5 [==============================] - 0s 11ms/step - loss: 0.4468 - acc: 1.0000\n",
      "Epoch 5/6\n",
      "5/5 [==============================] - 0s 10ms/step - loss: 0.3045 - acc: 1.0000\n",
      "Epoch 6/6\n",
      "5/5 [==============================] - 0s 11ms/step - loss: 0.1658 - acc: 1.0000\n",
      "Predicting 196th label...\n"
     ]
    },
    {
     "data": {
      "application/vnd.jupyter.widget-view+json": {
       "model_id": "e1b74a4f83da446192669e75abf8ae80",
       "version_major": 2,
       "version_minor": 0
      },
      "text/plain": [
       "  0%|          | 0/20 [00:00<?, ?it/s]"
      ]
     },
     "metadata": {},
     "output_type": "display_data"
    },
    {
     "name": "stdout",
     "output_type": "stream",
     "text": [
      "\n",
      "197'th label prediction started\n",
      "count_one 58\n",
      "count_zero 58\n",
      "Epoch 1/6\n",
      "4/4 [==============================] - 1s 12ms/step - loss: 0.7035 - acc: 0.4569\n",
      "Epoch 2/6\n",
      "4/4 [==============================] - 0s 11ms/step - loss: 0.6371 - acc: 0.9224\n",
      "Epoch 3/6\n",
      "4/4 [==============================] - 0s 10ms/step - loss: 0.5731 - acc: 1.0000\n",
      "Epoch 4/6\n",
      "4/4 [==============================] - 0s 11ms/step - loss: 0.4872 - acc: 1.0000\n",
      "Epoch 5/6\n",
      "4/4 [==============================] - 0s 11ms/step - loss: 0.3743 - acc: 1.0000\n",
      "Epoch 6/6\n",
      "4/4 [==============================] - 0s 11ms/step - loss: 0.2524 - acc: 1.0000\n",
      "Predicting 197th label...\n"
     ]
    },
    {
     "data": {
      "application/vnd.jupyter.widget-view+json": {
       "model_id": "f5277f4aca554a28abf49931b2eec71c",
       "version_major": 2,
       "version_minor": 0
      },
      "text/plain": [
       "  0%|          | 0/20 [00:00<?, ?it/s]"
      ]
     },
     "metadata": {},
     "output_type": "display_data"
    },
    {
     "name": "stdout",
     "output_type": "stream",
     "text": [
      "\n",
      "198'th label prediction started\n",
      "count_one 100\n",
      "count_zero 100\n",
      "Epoch 1/6\n",
      "7/7 [==============================] - 1s 12ms/step - loss: 0.6985 - acc: 0.4900\n",
      "Epoch 2/6\n",
      "7/7 [==============================] - 0s 10ms/step - loss: 0.6225 - acc: 0.8800\n",
      "Epoch 3/6\n",
      "7/7 [==============================] - 0s 11ms/step - loss: 0.5329 - acc: 0.9950\n",
      "Epoch 4/6\n",
      "7/7 [==============================] - 0s 9ms/step - loss: 0.3850 - acc: 1.0000\n",
      "Epoch 5/6\n",
      "7/7 [==============================] - 0s 11ms/step - loss: 0.2111 - acc: 1.0000\n",
      "Epoch 6/6\n",
      "7/7 [==============================] - 0s 11ms/step - loss: 0.0853 - acc: 1.0000\n",
      "Predicting 198th label...\n"
     ]
    },
    {
     "data": {
      "application/vnd.jupyter.widget-view+json": {
       "model_id": "980b38c3a0b6496e8993a673eee299d4",
       "version_major": 2,
       "version_minor": 0
      },
      "text/plain": [
       "  0%|          | 0/20 [00:00<?, ?it/s]"
      ]
     },
     "metadata": {},
     "output_type": "display_data"
    },
    {
     "name": "stdout",
     "output_type": "stream",
     "text": [
      "\n",
      "199'th label prediction started\n",
      "count_one 93\n",
      "count_zero 93\n",
      "Epoch 1/6\n",
      "6/6 [==============================] - 1s 12ms/step - loss: 0.7081 - acc: 0.4355\n",
      "Epoch 2/6\n",
      "6/6 [==============================] - 0s 11ms/step - loss: 0.6156 - acc: 0.9086\n",
      "Epoch 3/6\n",
      "6/6 [==============================] - 0s 12ms/step - loss: 0.5270 - acc: 0.9839\n",
      "Epoch 4/6\n",
      "6/6 [==============================] - 0s 12ms/step - loss: 0.3990 - acc: 0.9892\n",
      "Epoch 5/6\n",
      "6/6 [==============================] - 0s 11ms/step - loss: 0.2417 - acc: 0.9946\n",
      "Epoch 6/6\n",
      "6/6 [==============================] - 0s 11ms/step - loss: 0.1222 - acc: 0.9946\n",
      "Predicting 199th label...\n"
     ]
    },
    {
     "data": {
      "application/vnd.jupyter.widget-view+json": {
       "model_id": "0039d24fd7934c95b882bca137a39504",
       "version_major": 2,
       "version_minor": 0
      },
      "text/plain": [
       "  0%|          | 0/20 [00:00<?, ?it/s]"
      ]
     },
     "metadata": {},
     "output_type": "display_data"
    },
    {
     "name": "stdout",
     "output_type": "stream",
     "text": [
      "\n",
      "200'th label prediction started\n",
      "count_one 61\n",
      "count_zero 61\n",
      "Epoch 1/6\n",
      "4/4 [==============================] - 1s 49ms/step - loss: 0.7079 - acc: 0.4508\n",
      "Epoch 2/6\n",
      "4/4 [==============================] - 0s 13ms/step - loss: 0.6428 - acc: 0.7623\n",
      "Epoch 3/6\n",
      "4/4 [==============================] - 0s 12ms/step - loss: 0.5868 - acc: 1.0000\n",
      "Epoch 4/6\n",
      "4/4 [==============================] - 0s 11ms/step - loss: 0.5072 - acc: 1.0000\n",
      "Epoch 5/6\n",
      "4/4 [==============================] - 0s 11ms/step - loss: 0.4068 - acc: 1.0000\n",
      "Epoch 6/6\n",
      "4/4 [==============================] - 0s 12ms/step - loss: 0.2936 - acc: 1.0000\n",
      "Predicting 200th label...\n"
     ]
    },
    {
     "data": {
      "application/vnd.jupyter.widget-view+json": {
       "model_id": "6007cd3a55bc4a09ad5f8713f9e3a214",
       "version_major": 2,
       "version_minor": 0
      },
      "text/plain": [
       "  0%|          | 0/20 [00:00<?, ?it/s]"
      ]
     },
     "metadata": {},
     "output_type": "display_data"
    },
    {
     "name": "stdout",
     "output_type": "stream",
     "text": [
      "\n",
      "201'th label prediction started\n",
      "count_one 74\n",
      "count_zero 74\n",
      "Epoch 1/6\n",
      "5/5 [==============================] - 2s 12ms/step - loss: 0.6950 - acc: 0.4595\n",
      "Epoch 2/6\n",
      "5/5 [==============================] - 0s 11ms/step - loss: 0.6286 - acc: 1.0000\n",
      "Epoch 3/6\n",
      "5/5 [==============================] - 0s 11ms/step - loss: 0.5451 - acc: 1.0000\n",
      "Epoch 4/6\n",
      "5/5 [==============================] - 0s 11ms/step - loss: 0.4152 - acc: 1.0000\n",
      "Epoch 5/6\n",
      "5/5 [==============================] - 0s 11ms/step - loss: 0.2657 - acc: 1.0000\n",
      "Epoch 6/6\n",
      "5/5 [==============================] - 0s 11ms/step - loss: 0.1417 - acc: 1.0000\n",
      "Predicting 201th label...\n"
     ]
    },
    {
     "data": {
      "application/vnd.jupyter.widget-view+json": {
       "model_id": "997c86a52f044f6eaa8e9ef8b8671d9b",
       "version_major": 2,
       "version_minor": 0
      },
      "text/plain": [
       "  0%|          | 0/20 [00:00<?, ?it/s]"
      ]
     },
     "metadata": {},
     "output_type": "display_data"
    },
    {
     "name": "stdout",
     "output_type": "stream",
     "text": [
      "\n",
      "202'th label prediction started\n",
      "count_one 73\n",
      "count_zero 73\n",
      "Epoch 1/6\n",
      "5/5 [==============================] - 1s 13ms/step - loss: 0.6987 - acc: 0.4726\n",
      "Epoch 2/6\n",
      "5/5 [==============================] - 0s 12ms/step - loss: 0.6513 - acc: 0.9589\n",
      "Epoch 3/6\n",
      "5/5 [==============================] - 0s 10ms/step - loss: 0.5815 - acc: 1.0000\n",
      "Epoch 4/6\n",
      "5/5 [==============================] - 0s 11ms/step - loss: 0.4859 - acc: 1.0000\n",
      "Epoch 5/6\n",
      "5/5 [==============================] - 0s 9ms/step - loss: 0.3500 - acc: 1.0000\n",
      "Epoch 6/6\n",
      "5/5 [==============================] - 0s 9ms/step - loss: 0.2209 - acc: 1.0000\n",
      "Predicting 202th label...\n"
     ]
    },
    {
     "data": {
      "application/vnd.jupyter.widget-view+json": {
       "model_id": "ce161395dc314acc8756910850b4b7d2",
       "version_major": 2,
       "version_minor": 0
      },
      "text/plain": [
       "  0%|          | 0/20 [00:00<?, ?it/s]"
      ]
     },
     "metadata": {},
     "output_type": "display_data"
    },
    {
     "name": "stdout",
     "output_type": "stream",
     "text": [
      "\n",
      "203'th label prediction started\n",
      "count_one 74\n",
      "count_zero 74\n",
      "Epoch 1/6\n",
      "5/5 [==============================] - 1s 12ms/step - loss: 0.6968 - acc: 0.4865\n",
      "Epoch 2/6\n",
      "5/5 [==============================] - 0s 10ms/step - loss: 0.6443 - acc: 0.9797\n",
      "Epoch 3/6\n",
      "5/5 [==============================] - 0s 11ms/step - loss: 0.5739 - acc: 1.0000\n",
      "Epoch 4/6\n",
      "5/5 [==============================] - 0s 10ms/step - loss: 0.4744 - acc: 1.0000\n",
      "Epoch 5/6\n",
      "5/5 [==============================] - 0s 11ms/step - loss: 0.3417 - acc: 1.0000\n",
      "Epoch 6/6\n",
      "5/5 [==============================] - 0s 11ms/step - loss: 0.2025 - acc: 1.0000\n",
      "Predicting 203th label...\n"
     ]
    },
    {
     "data": {
      "application/vnd.jupyter.widget-view+json": {
       "model_id": "009e58e2bd824a6ca8d2d82afad9583c",
       "version_major": 2,
       "version_minor": 0
      },
      "text/plain": [
       "  0%|          | 0/20 [00:00<?, ?it/s]"
      ]
     },
     "metadata": {},
     "output_type": "display_data"
    },
    {
     "name": "stdout",
     "output_type": "stream",
     "text": [
      "\n",
      "204'th label prediction started\n",
      "count_one 110\n",
      "count_zero 110\n",
      "Epoch 1/6\n",
      "7/7 [==============================] - 1s 12ms/step - loss: 0.6892 - acc: 0.5773\n",
      "Epoch 2/6\n",
      "7/7 [==============================] - 0s 11ms/step - loss: 0.6095 - acc: 1.0000\n",
      "Epoch 3/6\n",
      "7/7 [==============================] - 0s 11ms/step - loss: 0.4762 - acc: 1.0000\n",
      "Epoch 4/6\n",
      "7/7 [==============================] - 0s 11ms/step - loss: 0.2792 - acc: 1.0000\n",
      "Epoch 5/6\n",
      "7/7 [==============================] - 0s 10ms/step - loss: 0.1164 - acc: 1.0000\n",
      "Epoch 6/6\n",
      "7/7 [==============================] - 0s 11ms/step - loss: 0.0362 - acc: 1.0000\n",
      "Predicting 204th label...\n"
     ]
    },
    {
     "data": {
      "application/vnd.jupyter.widget-view+json": {
       "model_id": "60b7c85cca08482b84a1f4f3da506525",
       "version_major": 2,
       "version_minor": 0
      },
      "text/plain": [
       "  0%|          | 0/20 [00:00<?, ?it/s]"
      ]
     },
     "metadata": {},
     "output_type": "display_data"
    },
    {
     "name": "stdout",
     "output_type": "stream",
     "text": [
      "\n",
      "205'th label prediction started\n",
      "count_one 81\n",
      "count_zero 81\n",
      "Epoch 1/6\n",
      "6/6 [==============================] - 1s 13ms/step - loss: 0.6929 - acc: 0.5123\n",
      "Epoch 2/6\n",
      "6/6 [==============================] - 0s 10ms/step - loss: 0.6151 - acc: 0.9136\n",
      "Epoch 3/6\n",
      "6/6 [==============================] - 0s 11ms/step - loss: 0.4994 - acc: 1.0000\n",
      "Epoch 4/6\n",
      "6/6 [==============================] - 0s 11ms/step - loss: 0.3324 - acc: 1.0000\n",
      "Epoch 5/6\n",
      "6/6 [==============================] - 0s 11ms/step - loss: 0.1728 - acc: 1.0000\n",
      "Epoch 6/6\n",
      "6/6 [==============================] - 0s 11ms/step - loss: 0.0720 - acc: 1.0000\n",
      "Predicting 205th label...\n"
     ]
    },
    {
     "data": {
      "application/vnd.jupyter.widget-view+json": {
       "model_id": "90642c03b44241a08bcc1cac175bc1c7",
       "version_major": 2,
       "version_minor": 0
      },
      "text/plain": [
       "  0%|          | 0/20 [00:00<?, ?it/s]"
      ]
     },
     "metadata": {},
     "output_type": "display_data"
    },
    {
     "name": "stdout",
     "output_type": "stream",
     "text": [
      "\n",
      "206'th label prediction started\n",
      "count_one 114\n",
      "count_zero 114\n",
      "Epoch 1/6\n",
      "8/8 [==============================] - 1s 12ms/step - loss: 0.6971 - acc: 0.5000\n",
      "Epoch 2/6\n",
      "8/8 [==============================] - 0s 10ms/step - loss: 0.6164 - acc: 0.9868\n",
      "Epoch 3/6\n",
      "8/8 [==============================] - 0s 10ms/step - loss: 0.4988 - acc: 1.0000\n",
      "Epoch 4/6\n",
      "8/8 [==============================] - 0s 11ms/step - loss: 0.3156 - acc: 1.0000\n",
      "Epoch 5/6\n",
      "8/8 [==============================] - 0s 10ms/step - loss: 0.1366 - acc: 1.0000\n",
      "Epoch 6/6\n",
      "8/8 [==============================] - 0s 11ms/step - loss: 0.0434 - acc: 1.0000\n",
      "Predicting 206th label...\n"
     ]
    },
    {
     "data": {
      "application/vnd.jupyter.widget-view+json": {
       "model_id": "94034b337fbc4571874215ea296f01ba",
       "version_major": 2,
       "version_minor": 0
      },
      "text/plain": [
       "  0%|          | 0/20 [00:00<?, ?it/s]"
      ]
     },
     "metadata": {},
     "output_type": "display_data"
    },
    {
     "name": "stdout",
     "output_type": "stream",
     "text": [
      "\n",
      "207'th label prediction started\n",
      "count_one 71\n",
      "count_zero 71\n",
      "Epoch 1/6\n",
      "5/5 [==============================] - 1s 12ms/step - loss: 0.6894 - acc: 0.5000\n",
      "Epoch 2/6\n",
      "5/5 [==============================] - 0s 10ms/step - loss: 0.5965 - acc: 0.9930\n",
      "Epoch 3/6\n",
      "5/5 [==============================] - 0s 11ms/step - loss: 0.4711 - acc: 1.0000\n",
      "Epoch 4/6\n",
      "5/5 [==============================] - 0s 9ms/step - loss: 0.3103 - acc: 1.0000\n",
      "Epoch 5/6\n",
      "5/5 [==============================] - 0s 8ms/step - loss: 0.1684 - acc: 1.0000\n",
      "Epoch 6/6\n",
      "5/5 [==============================] - 0s 10ms/step - loss: 0.0829 - acc: 1.0000\n",
      "Predicting 207th label...\n"
     ]
    },
    {
     "data": {
      "application/vnd.jupyter.widget-view+json": {
       "model_id": "2cc4b6f143004ce09ac243faef3ef39e",
       "version_major": 2,
       "version_minor": 0
      },
      "text/plain": [
       "  0%|          | 0/20 [00:00<?, ?it/s]"
      ]
     },
     "metadata": {},
     "output_type": "display_data"
    },
    {
     "name": "stdout",
     "output_type": "stream",
     "text": [
      "\n",
      "208'th label prediction started\n",
      "count_one 97\n",
      "count_zero 97\n",
      "Epoch 1/6\n",
      "7/7 [==============================] - 1s 10ms/step - loss: 0.7122 - acc: 0.4639\n",
      "Epoch 2/6\n",
      "7/7 [==============================] - 0s 11ms/step - loss: 0.6200 - acc: 0.8402\n",
      "Epoch 3/6\n",
      "7/7 [==============================] - 0s 11ms/step - loss: 0.5267 - acc: 0.9948\n",
      "Epoch 4/6\n",
      "7/7 [==============================] - 0s 11ms/step - loss: 0.3855 - acc: 0.9897\n",
      "Epoch 5/6\n",
      "7/7 [==============================] - 0s 11ms/step - loss: 0.2302 - acc: 0.9948\n",
      "Epoch 6/6\n",
      "7/7 [==============================] - 0s 11ms/step - loss: 0.1104 - acc: 1.0000\n",
      "Predicting 208th label...\n"
     ]
    },
    {
     "data": {
      "application/vnd.jupyter.widget-view+json": {
       "model_id": "24c47acd549d4ed093efa4ff2d685424",
       "version_major": 2,
       "version_minor": 0
      },
      "text/plain": [
       "  0%|          | 0/20 [00:00<?, ?it/s]"
      ]
     },
     "metadata": {},
     "output_type": "display_data"
    },
    {
     "name": "stdout",
     "output_type": "stream",
     "text": [
      "\n",
      "209'th label prediction started\n",
      "count_one 75\n",
      "count_zero 75\n",
      "Epoch 1/6\n",
      "5/5 [==============================] - 1s 11ms/step - loss: 0.6931 - acc: 0.5000\n",
      "Epoch 2/6\n",
      "5/5 [==============================] - 0s 10ms/step - loss: 0.6311 - acc: 0.9933\n",
      "Epoch 3/6\n",
      "5/5 [==============================] - 0s 11ms/step - loss: 0.5426 - acc: 1.0000\n",
      "Epoch 4/6\n",
      "5/5 [==============================] - 0s 12ms/step - loss: 0.4084 - acc: 1.0000\n",
      "Epoch 5/6\n",
      "5/5 [==============================] - 0s 11ms/step - loss: 0.2555 - acc: 1.0000\n",
      "Epoch 6/6\n",
      "5/5 [==============================] - 0s 11ms/step - loss: 0.1288 - acc: 1.0000\n",
      "Predicting 209th label...\n"
     ]
    },
    {
     "data": {
      "application/vnd.jupyter.widget-view+json": {
       "model_id": "5a2e6b1405a243e6bff47dbbcd52256a",
       "version_major": 2,
       "version_minor": 0
      },
      "text/plain": [
       "  0%|          | 0/20 [00:00<?, ?it/s]"
      ]
     },
     "metadata": {},
     "output_type": "display_data"
    },
    {
     "name": "stdout",
     "output_type": "stream",
     "text": [
      "\n",
      "210'th label prediction started\n",
      "count_one 77\n",
      "count_zero 77\n",
      "Epoch 1/6\n",
      "5/5 [==============================] - 1s 12ms/step - loss: 0.7008 - acc: 0.5000\n",
      "Epoch 2/6\n",
      "5/5 [==============================] - 0s 10ms/step - loss: 0.6398 - acc: 0.8766\n",
      "Epoch 3/6\n",
      "5/5 [==============================] - 0s 11ms/step - loss: 0.5817 - acc: 1.0000\n",
      "Epoch 4/6\n",
      "5/5 [==============================] - 0s 10ms/step - loss: 0.4935 - acc: 1.0000\n",
      "Epoch 5/6\n",
      "5/5 [==============================] - 0s 10ms/step - loss: 0.3716 - acc: 1.0000\n",
      "Epoch 6/6\n",
      "5/5 [==============================] - 0s 11ms/step - loss: 0.2435 - acc: 1.0000\n",
      "Predicting 210th label...\n"
     ]
    },
    {
     "data": {
      "application/vnd.jupyter.widget-view+json": {
       "model_id": "c509ddad7ea8448186f0820a2fa7125e",
       "version_major": 2,
       "version_minor": 0
      },
      "text/plain": [
       "  0%|          | 0/20 [00:00<?, ?it/s]"
      ]
     },
     "metadata": {},
     "output_type": "display_data"
    },
    {
     "name": "stdout",
     "output_type": "stream",
     "text": [
      "\n",
      "211'th label prediction started\n",
      "count_one 114\n",
      "count_zero 114\n",
      "Epoch 1/6\n",
      "8/8 [==============================] - 1s 21ms/step - loss: 0.6938 - acc: 0.5263\n",
      "Epoch 2/6\n",
      "8/8 [==============================] - 0s 11ms/step - loss: 0.6186 - acc: 0.9474\n",
      "Epoch 3/6\n",
      "8/8 [==============================] - 0s 10ms/step - loss: 0.5015 - acc: 1.0000\n",
      "Epoch 4/6\n",
      "8/8 [==============================] - 0s 10ms/step - loss: 0.3209 - acc: 1.0000\n",
      "Epoch 5/6\n",
      "8/8 [==============================] - 0s 11ms/step - loss: 0.1442 - acc: 1.0000\n",
      "Epoch 6/6\n",
      "8/8 [==============================] - 0s 11ms/step - loss: 0.0487 - acc: 1.0000\n",
      "Predicting 211th label...\n"
     ]
    },
    {
     "data": {
      "application/vnd.jupyter.widget-view+json": {
       "model_id": "66ea69b4553a4b33b26cfdcfac7bb1ab",
       "version_major": 2,
       "version_minor": 0
      },
      "text/plain": [
       "  0%|          | 0/20 [00:00<?, ?it/s]"
      ]
     },
     "metadata": {},
     "output_type": "display_data"
    },
    {
     "name": "stdout",
     "output_type": "stream",
     "text": [
      "\n",
      "212'th label prediction started\n",
      "count_one 82\n",
      "count_zero 82\n",
      "Epoch 1/6\n",
      "6/6 [==============================] - 1s 11ms/step - loss: 0.6956 - acc: 0.4939\n",
      "Epoch 2/6\n",
      "6/6 [==============================] - 0s 10ms/step - loss: 0.6424 - acc: 0.9329\n",
      "Epoch 3/6\n",
      "6/6 [==============================] - 0s 11ms/step - loss: 0.5677 - acc: 1.0000\n",
      "Epoch 4/6\n",
      "6/6 [==============================] - 0s 11ms/step - loss: 0.4554 - acc: 1.0000\n",
      "Epoch 5/6\n",
      "6/6 [==============================] - 0s 11ms/step - loss: 0.3040 - acc: 1.0000\n",
      "Epoch 6/6\n",
      "6/6 [==============================] - 0s 11ms/step - loss: 0.1649 - acc: 1.0000\n",
      "Predicting 212th label...\n"
     ]
    },
    {
     "data": {
      "application/vnd.jupyter.widget-view+json": {
       "model_id": "6fb16a9275a0464fafa26f7d1081a497",
       "version_major": 2,
       "version_minor": 0
      },
      "text/plain": [
       "  0%|          | 0/20 [00:00<?, ?it/s]"
      ]
     },
     "metadata": {},
     "output_type": "display_data"
    },
    {
     "name": "stdout",
     "output_type": "stream",
     "text": [
      "\n",
      "213'th label prediction started\n",
      "count_one 63\n",
      "count_zero 63\n",
      "Epoch 1/6\n",
      "4/4 [==============================] - 1s 14ms/step - loss: 0.6992 - acc: 0.4206\n",
      "Epoch 2/6\n",
      "4/4 [==============================] - 0s 12ms/step - loss: 0.6484 - acc: 0.9127\n",
      "Epoch 3/6\n",
      "4/4 [==============================] - 0s 11ms/step - loss: 0.5867 - acc: 1.0000\n",
      "Epoch 4/6\n",
      "4/4 [==============================] - 0s 11ms/step - loss: 0.4950 - acc: 1.0000\n",
      "Epoch 5/6\n",
      "4/4 [==============================] - 0s 13ms/step - loss: 0.3743 - acc: 1.0000\n",
      "Epoch 6/6\n",
      "4/4 [==============================] - 0s 11ms/step - loss: 0.2425 - acc: 1.0000\n",
      "Predicting 213th label...\n"
     ]
    },
    {
     "data": {
      "application/vnd.jupyter.widget-view+json": {
       "model_id": "7176e28f8d8f45d69637e579919558ac",
       "version_major": 2,
       "version_minor": 0
      },
      "text/plain": [
       "  0%|          | 0/20 [00:00<?, ?it/s]"
      ]
     },
     "metadata": {},
     "output_type": "display_data"
    },
    {
     "name": "stdout",
     "output_type": "stream",
     "text": [
      "\n",
      "214'th label prediction started\n",
      "count_one 145\n",
      "count_zero 145\n",
      "Epoch 1/6\n",
      "10/10 [==============================] - 1s 11ms/step - loss: 0.6945 - acc: 0.4724\n",
      "Epoch 2/6\n",
      "10/10 [==============================] - 0s 10ms/step - loss: 0.6210 - acc: 0.9931\n",
      "Epoch 3/6\n",
      "10/10 [==============================] - 0s 10ms/step - loss: 0.4864 - acc: 1.0000\n",
      "Epoch 4/6\n",
      "10/10 [==============================] - 0s 10ms/step - loss: 0.2698 - acc: 1.0000\n",
      "Epoch 5/6\n",
      "10/10 [==============================] - 0s 10ms/step - loss: 0.0911 - acc: 1.0000\n",
      "Epoch 6/6\n",
      "10/10 [==============================] - 0s 10ms/step - loss: 0.0227 - acc: 1.0000\n",
      "Predicting 214th label...\n"
     ]
    },
    {
     "data": {
      "application/vnd.jupyter.widget-view+json": {
       "model_id": "eee60c06ba3c4739850075186777f153",
       "version_major": 2,
       "version_minor": 0
      },
      "text/plain": [
       "  0%|          | 0/20 [00:00<?, ?it/s]"
      ]
     },
     "metadata": {},
     "output_type": "display_data"
    },
    {
     "name": "stdout",
     "output_type": "stream",
     "text": [
      "\n",
      "215'th label prediction started\n",
      "count_one 89\n",
      "count_zero 89\n",
      "Epoch 1/6\n",
      "6/6 [==============================] - 1s 14ms/step - loss: 0.6977 - acc: 0.5056\n",
      "Epoch 2/6\n",
      "6/6 [==============================] - 0s 11ms/step - loss: 0.6272 - acc: 0.9888\n",
      "Epoch 3/6\n",
      "6/6 [==============================] - 0s 11ms/step - loss: 0.5329 - acc: 1.0000\n",
      "Epoch 4/6\n",
      "6/6 [==============================] - 0s 10ms/step - loss: 0.3891 - acc: 1.0000\n",
      "Epoch 5/6\n",
      "6/6 [==============================] - 0s 9ms/step - loss: 0.2196 - acc: 1.0000\n",
      "Epoch 6/6\n",
      "6/6 [==============================] - 0s 11ms/step - loss: 0.0926 - acc: 1.0000\n",
      "Predicting 215th label...\n"
     ]
    },
    {
     "data": {
      "application/vnd.jupyter.widget-view+json": {
       "model_id": "5dd2f06dfa4d4cda92f2070d05983558",
       "version_major": 2,
       "version_minor": 0
      },
      "text/plain": [
       "  0%|          | 0/20 [00:00<?, ?it/s]"
      ]
     },
     "metadata": {},
     "output_type": "display_data"
    },
    {
     "name": "stdout",
     "output_type": "stream",
     "text": [
      "\n",
      "216'th label prediction started\n",
      "count_one 111\n",
      "count_zero 111\n",
      "Epoch 1/6\n",
      "7/7 [==============================] - 1s 12ms/step - loss: 0.7004 - acc: 0.4730\n",
      "Epoch 2/6\n",
      "7/7 [==============================] - 0s 11ms/step - loss: 0.6062 - acc: 0.9820\n",
      "Epoch 3/6\n",
      "7/7 [==============================] - 0s 11ms/step - loss: 0.4612 - acc: 1.0000\n",
      "Epoch 4/6\n",
      "7/7 [==============================] - 0s 10ms/step - loss: 0.2563 - acc: 1.0000\n",
      "Epoch 5/6\n",
      "7/7 [==============================] - 0s 10ms/step - loss: 0.1024 - acc: 1.0000\n",
      "Epoch 6/6\n",
      "7/7 [==============================] - 0s 9ms/step - loss: 0.0335 - acc: 1.0000\n",
      "Predicting 216th label...\n"
     ]
    },
    {
     "data": {
      "application/vnd.jupyter.widget-view+json": {
       "model_id": "5846f02de09343908757e30149f9315e",
       "version_major": 2,
       "version_minor": 0
      },
      "text/plain": [
       "  0%|          | 0/20 [00:00<?, ?it/s]"
      ]
     },
     "metadata": {},
     "output_type": "display_data"
    },
    {
     "name": "stdout",
     "output_type": "stream",
     "text": [
      "\n",
      "217'th label prediction started\n",
      "count_one 87\n",
      "count_zero 87\n",
      "Epoch 1/6\n",
      "6/6 [==============================] - 1s 12ms/step - loss: 0.7009 - acc: 0.4368\n",
      "Epoch 2/6\n",
      "6/6 [==============================] - 0s 11ms/step - loss: 0.6321 - acc: 0.9828\n",
      "Epoch 3/6\n",
      "6/6 [==============================] - 0s 10ms/step - loss: 0.5475 - acc: 1.0000\n",
      "Epoch 4/6\n",
      "6/6 [==============================] - 0s 10ms/step - loss: 0.4062 - acc: 1.0000\n",
      "Epoch 5/6\n",
      "6/6 [==============================] - 0s 10ms/step - loss: 0.2389 - acc: 1.0000\n",
      "Epoch 6/6\n",
      "6/6 [==============================] - 0s 10ms/step - loss: 0.1023 - acc: 1.0000\n",
      "Predicting 217th label...\n"
     ]
    },
    {
     "data": {
      "application/vnd.jupyter.widget-view+json": {
       "model_id": "f59568a7926c4eb0885a4374801ce5cf",
       "version_major": 2,
       "version_minor": 0
      },
      "text/plain": [
       "  0%|          | 0/20 [00:00<?, ?it/s]"
      ]
     },
     "metadata": {},
     "output_type": "display_data"
    },
    {
     "name": "stdout",
     "output_type": "stream",
     "text": [
      "\n",
      "218'th label prediction started\n",
      "count_one 108\n",
      "count_zero 108\n",
      "Epoch 1/6\n",
      "7/7 [==============================] - 1s 12ms/step - loss: 0.6944 - acc: 0.4954\n",
      "Epoch 2/6\n",
      "7/7 [==============================] - 0s 10ms/step - loss: 0.6214 - acc: 1.0000\n",
      "Epoch 3/6\n",
      "7/7 [==============================] - 0s 10ms/step - loss: 0.5055 - acc: 1.0000\n",
      "Epoch 4/6\n",
      "7/7 [==============================] - 0s 10ms/step - loss: 0.3262 - acc: 1.0000\n",
      "Epoch 5/6\n",
      "7/7 [==============================] - 0s 11ms/step - loss: 0.1499 - acc: 1.0000\n",
      "Epoch 6/6\n",
      "7/7 [==============================] - 0s 11ms/step - loss: 0.0504 - acc: 1.0000\n",
      "Predicting 218th label...\n"
     ]
    },
    {
     "data": {
      "application/vnd.jupyter.widget-view+json": {
       "model_id": "37dd4afba0404f65872a74ab2de91e56",
       "version_major": 2,
       "version_minor": 0
      },
      "text/plain": [
       "  0%|          | 0/20 [00:00<?, ?it/s]"
      ]
     },
     "metadata": {},
     "output_type": "display_data"
    },
    {
     "name": "stdout",
     "output_type": "stream",
     "text": [
      "\n",
      "219'th label prediction started\n",
      "count_one 63\n",
      "count_zero 63\n",
      "Epoch 1/6\n",
      "4/4 [==============================] - 1s 12ms/step - loss: 0.7111 - acc: 0.3889\n",
      "Epoch 2/6\n",
      "4/4 [==============================] - 0s 12ms/step - loss: 0.6397 - acc: 0.5635\n",
      "Epoch 3/6\n",
      "4/4 [==============================] - 0s 11ms/step - loss: 0.5651 - acc: 1.0000\n",
      "Epoch 4/6\n",
      "4/4 [==============================] - 0s 10ms/step - loss: 0.4649 - acc: 1.0000\n",
      "Epoch 5/6\n",
      "4/4 [==============================] - 0s 10ms/step - loss: 0.3422 - acc: 1.0000\n",
      "Epoch 6/6\n",
      "4/4 [==============================] - 0s 11ms/step - loss: 0.2181 - acc: 1.0000\n",
      "Predicting 219th label...\n"
     ]
    },
    {
     "data": {
      "application/vnd.jupyter.widget-view+json": {
       "model_id": "f1f12b5b6cbe471bb756b4be270a8013",
       "version_major": 2,
       "version_minor": 0
      },
      "text/plain": [
       "  0%|          | 0/20 [00:00<?, ?it/s]"
      ]
     },
     "metadata": {},
     "output_type": "display_data"
    },
    {
     "name": "stdout",
     "output_type": "stream",
     "text": [
      "\n",
      "220'th label prediction started\n",
      "count_one 62\n",
      "count_zero 62\n",
      "Epoch 1/6\n",
      "4/4 [==============================] - 1s 13ms/step - loss: 0.6958 - acc: 0.4919\n",
      "Epoch 2/6\n",
      "4/4 [==============================] - 0s 12ms/step - loss: 0.6316 - acc: 0.9919\n",
      "Epoch 3/6\n",
      "4/4 [==============================] - 0s 10ms/step - loss: 0.5494 - acc: 1.0000\n",
      "Epoch 4/6\n",
      "4/4 [==============================] - 0s 11ms/step - loss: 0.4508 - acc: 1.0000\n",
      "Epoch 5/6\n",
      "4/4 [==============================] - 0s 10ms/step - loss: 0.3251 - acc: 1.0000\n",
      "Epoch 6/6\n",
      "4/4 [==============================] - 0s 11ms/step - loss: 0.2067 - acc: 1.0000\n",
      "Predicting 220th label...\n"
     ]
    },
    {
     "data": {
      "application/vnd.jupyter.widget-view+json": {
       "model_id": "c37406575b084fbeaaeaf8fbd581fbb5",
       "version_major": 2,
       "version_minor": 0
      },
      "text/plain": [
       "  0%|          | 0/20 [00:00<?, ?it/s]"
      ]
     },
     "metadata": {},
     "output_type": "display_data"
    }
   ],
   "source": [
    "import sys\n",
    "import os\n",
    "import nltk\n",
    "from nltk.corpus import reuters\n",
    "from sklearn.preprocessing import MultiLabelBinarizer\n",
    "import numpy as np\n",
    "import random\n",
    "import math\n",
    "from sklearn.metrics import accuracy_score\n",
    "from sklearn.metrics import precision_score\n",
    "from sklearn.metrics import recall_score\n",
    "from sklearn.metrics import f1_score\n",
    "from sklearn.metrics import precision_recall_fscore_support\n",
    "from sklearn.metrics import hamming_loss\n",
    "import statistics \n",
    "\n",
    "\n",
    "whole_predictions = []\n",
    "whole_real_predictions = []\n",
    "whole_threshold_predictions = []\n",
    "\n",
    "one=0\n",
    "\n",
    "#predict for each label individualy\n",
    "\n",
    "for i in range(len(y_list_train[0])):\n",
    "    print(\"\\n\" + str(i)+\"\\'th label prediction started\")\n",
    "    count_zero=0\n",
    "    count_one=0\n",
    "    new_label=[]\n",
    "    new_tokenized_data_train=[]\n",
    "    label = column(y_list_train,i)\n",
    "    count_one=sum(label)\n",
    "    print(\"count_one\",count_one)\n",
    "    \n",
    "    for k in range(len(label)):\n",
    "        if count_zero< count_one and label[k]==0:\n",
    "            new_label.append(0)\n",
    "            new_tokenized_data_train.append(tokenized_data_train[k])\n",
    "            count_zero=count_zero+1\n",
    "        if label[k]==1:\n",
    "            new_label.append(1)\n",
    "            new_tokenized_data_train.append(tokenized_data_train[k])\n",
    "\n",
    "            \n",
    "    print(\"count_zero\",count_zero)        \n",
    "    data_with_len = [[data,new_label[j],len(data)]\n",
    "                     for j,data in enumerate(new_tokenized_data_train)]\n",
    "\n",
    "    data_with_len.sort(key=lambda x: x[2])\n",
    "    sorted_data_labels = [(data_lab[0], data_lab[1]) for data_lab in data_with_len]\n",
    "    processed_dataset = tf.data.Dataset.from_generator(lambda: sorted_data_labels, output_types=(tf.int32, tf.int32))\n",
    "    BATCH_SIZE = 32\n",
    "    batched_dataset = processed_dataset.padded_batch(BATCH_SIZE, padded_shapes=((None, ), ()))\n",
    "    TOTAL_BATCHES = math.ceil(len(sorted_data_labels) / BATCH_SIZE)\n",
    "#     TEST_BATCHES = TOTAL_BATCHES // TOTAL_BATCHES\n",
    "#     batched_dataset.shuffle(TOTAL_BATCHES)\n",
    "#     test_data = batched_dataset.take(TEST_BATCHES)\n",
    "#     train_data = batched_dataset.skip(TEST_BATCHES)\n",
    "    train_data = batched_dataset\n",
    "    \n",
    "   \n",
    "    VOCAB_LENGTH = len(tokenizer.vocab)\n",
    "    EMB_DIM = 260\n",
    "    CNN_FILTERS = 50\n",
    "    DNN_UNITS = 256\n",
    "    OUTPUT_CLASSES = 2\n",
    "\n",
    "    DROPOUT_RATE = 0.2\n",
    "\n",
    "    NB_EPOCHS = 6\n",
    "\n",
    "    text_model = TEXT_MODEL(vocabulary_size=VOCAB_LENGTH,\n",
    "                        embedding_dimensions=EMB_DIM,\n",
    "                        cnn_filters=CNN_FILTERS,\n",
    "                        dnn_units=DNN_UNITS,\n",
    "                        model_output_classes=OUTPUT_CLASSES,\n",
    "                        dropout_rate=DROPOUT_RATE)\n",
    "\n",
    "    if OUTPUT_CLASSES == 2:\n",
    "        text_model.compile(loss=\"binary_crossentropy\",\n",
    "                           optimizer=\"adam\",\n",
    "                           metrics=[\"acc\"])\n",
    "    else:\n",
    "        text_model.compile(loss=\"sparse_categorical_crossentropy\",\n",
    "                           optimizer=\"adam\",\n",
    "                           metrics=[\"sparse_categorical_acc\"])\n",
    "\n",
    "    text_model.fit(train_data, epochs=NB_EPOCHS)\n",
    "\n",
    "    self_label_predictions = []\n",
    "    self_threshold_predictions = []\n",
    "    self_label_real_values = []\n",
    "    print(\"Predicting \" + str(i) + \"th label...\")\n",
    "    \n",
    "    PREDICTION_BATCH_SIZE = 512\n",
    "    \n",
    "    for chunk in tqdm(list(chunks(tokenized_data_test, PREDICTION_BATCH_SIZE))):\n",
    "#         if e%2==0:\n",
    "#             progress(e,len(tokenized_data_test))\n",
    "#         print(\"type(chunk[0]): {0}\".format(type(chunk[0])))\n",
    "    \n",
    "        processed_chunk_dataset = tf.data.Dataset.from_generator(lambda: chunk, output_types=(tf.int32))\n",
    "        batched_chunk_dataset = processed_chunk_dataset.padded_batch(PREDICTION_BATCH_SIZE, padded_shapes=(None,))\n",
    "    \n",
    "        rows = text_model.predict(batched_chunk_dataset, batch_size=len(chunk))\n",
    "        for res in rows:\n",
    "            self_label_real_values.append(res[0])\n",
    "\n",
    "            if res[0] > 0.93:\n",
    "                self_threshold_predictions.append(res[0])\n",
    "            else :\n",
    "                self_threshold_predictions.append(0.0)\n",
    "\n",
    "    whole_threshold_predictions.append(self_threshold_predictions)\n",
    "    whole_real_predictions.append(self_label_real_values)\n"
   ]
  },
  {
   "cell_type": "code",
   "execution_count": 16,
   "metadata": {
    "papermill": {
     "duration": null,
     "end_time": null,
     "exception": null,
     "start_time": null,
     "status": "pending"
    },
    "tags": []
   },
   "outputs": [
    {
     "data": {
      "application/vnd.jupyter.widget-view+json": {
       "model_id": "2775c005312a4a959b4306d3bb4fd16c",
       "version_major": 2,
       "version_minor": 0
      },
      "text/plain": [
       "  0%|          | 0/10000 [00:00<?, ?it/s]"
      ]
     },
     "metadata": {},
     "output_type": "display_data"
    },
    {
     "name": "stdout",
     "output_type": "stream",
     "text": [
      "\n",
      "\n",
      "Recall@3 = 0.5191333333333347\n",
      "Precision@3 = 0.4147666666666707\n",
      "f1score@3 = 0.44726333333334195\n"
     ]
    },
    {
     "data": {
      "application/vnd.jupyter.widget-view+json": {
       "model_id": "73f56d1ffd8e4efa9a457b7cc632334c",
       "version_major": 2,
       "version_minor": 0
      },
      "text/plain": [
       "  0%|          | 0/10000 [00:00<?, ?it/s]"
      ]
     },
     "metadata": {},
     "output_type": "display_data"
    },
    {
     "name": "stdout",
     "output_type": "stream",
     "text": [
      "\n",
      "\n",
      "Recall@5 = 0.5833383333333414\n",
      "Precision@5 = 0.33347666666666265\n",
      "f1score@5 = 0.3994545238095175\n"
     ]
    },
    {
     "data": {
      "application/vnd.jupyter.widget-view+json": {
       "model_id": "2b0e9658471940c3a79c70eb260ea9e0",
       "version_major": 2,
       "version_minor": 0
      },
      "text/plain": [
       "  0%|          | 0/10000 [00:00<?, ?it/s]"
      ]
     },
     "metadata": {},
     "output_type": "display_data"
    },
    {
     "name": "stdout",
     "output_type": "stream",
     "text": [
      "\n",
      "\n",
      "Recall@10 = 0.708526547619054\n",
      "Precision@10 = 0.2382816666666599\n",
      "f1score@10 = 0.3321800534192348\n"
     ]
    }
   ],
   "source": [
    "whole_threshold_predictions = list(map(list, zip(*whole_threshold_predictions)))\n",
    "whole_real_predictions = list(map(list, zip(*whole_real_predictions)))\n",
    "\n",
    "\n",
    "\n",
    "\n",
    "        \n",
    "#@k Formulas :\n",
    "K_list= [3,5,10]\n",
    "for U in range(len(K_list)):\n",
    "    K_tag_y_list_test = []\n",
    "    k = K_list[U]\n",
    "    sigma_recalls = 0\n",
    "    sigma_precisions = 0\n",
    "    sigma_f1score = 0\n",
    "\n",
    "    K_tag_y_list_test = y_list_test\n",
    "    for f in tqdm(range(len(K_tag_y_list_test))):\n",
    "#         progress(f,len(K_tag_y_list_test))\n",
    "        currentitem = np.array(whole_threshold_predictions[f])\n",
    "\n",
    "        top_k_indexes = (-currentitem).argsort()[:k]\n",
    "        \n",
    "        for C in top_k_indexes:\n",
    "            if whole_threshold_predictions[f][C] == 0.0 :\n",
    "                top_k_indexes = top_k_indexes[top_k_indexes != C]\n",
    "      \n",
    "        intercep = 0\n",
    "        for numb in top_k_indexes:\n",
    "            if K_tag_y_list_test[f][numb] == 1 :\n",
    "                intercep += 1\n",
    "        num_of_exists_tags = np.count_nonzero(K_tag_y_list_test[f] == 1)\n",
    "\n",
    "        if len(top_k_indexes) == 0 :\n",
    "            self_recall_k=0\n",
    "        elif len(top_k_indexes) >= num_of_exists_tags :\n",
    "            self_recall_k = intercep / num_of_exists_tags\n",
    "        elif len(top_k_indexes) < num_of_exists_tags :\n",
    "            self_recall_k = intercep / len(top_k_indexes)\n",
    "        if len(top_k_indexes)==0:\n",
    "             self_precisions_k=0 \n",
    "        else:    \n",
    "            self_precisions_k = intercep / len(top_k_indexes)\n",
    "        if self_precisions_k==0 and self_recall_k==0:\n",
    "            self_f1_score_k=0\n",
    "        else:    \n",
    "            self_f1_score_k = 2 * ((self_precisions_k*self_recall_k)/(self_precisions_k+self_recall_k))\n",
    "        sigma_recalls += self_recall_k\n",
    "        sigma_precisions += self_precisions_k\n",
    "        sigma_f1score += self_f1_score_k\n",
    "\n",
    "    recall_k = sigma_recalls / len(K_tag_y_list_test)\n",
    "    precisions_k = sigma_precisions / len(K_tag_y_list_test)\n",
    "    f1score_k = sigma_f1score / len(K_tag_y_list_test)\n",
    "    print(\"\\n\")\n",
    "    print(\"Recall@\"+ str(K_list[U])+\" = \" + str(recall_k))\n",
    "    print(\"Precision@\"+ str(K_list[U])+\" = \" + str(precisions_k))\n",
    "    print(\"f1score@\"+ str(K_list[U])+\" = \" + str(f1score_k))"
   ]
  },
  {
   "cell_type": "code",
   "execution_count": 17,
   "metadata": {
    "papermill": {
     "duration": null,
     "end_time": null,
     "exception": null,
     "start_time": null,
     "status": "pending"
    },
    "tags": []
   },
   "outputs": [
    {
     "name": "stdout",
     "output_type": "stream",
     "text": [
      "Model: \"text_model\"\n",
      "_________________________________________________________________\n",
      "Layer (type)                 Output Shape              Param #   \n",
      "=================================================================\n",
      "embedding_220 (Embedding)    multiple                  7935720   \n",
      "_________________________________________________________________\n",
      "conv1d_660 (Conv1D)          multiple                  26050     \n",
      "_________________________________________________________________\n",
      "conv1d_661 (Conv1D)          multiple                  39050     \n",
      "_________________________________________________________________\n",
      "conv1d_662 (Conv1D)          multiple                  52050     \n",
      "_________________________________________________________________\n",
      "global_max_pooling1d_220 (Gl multiple                  0         \n",
      "_________________________________________________________________\n",
      "dense_440 (Dense)            multiple                  38656     \n",
      "_________________________________________________________________\n",
      "dropout_220 (Dropout)        multiple                  0         \n",
      "_________________________________________________________________\n",
      "dense_441 (Dense)            multiple                  257       \n",
      "=================================================================\n",
      "Total params: 8,091,783\n",
      "Trainable params: 8,091,783\n",
      "Non-trainable params: 0\n",
      "_________________________________________________________________\n"
     ]
    }
   ],
   "source": [
    "text_model.summary()"
   ]
  },
  {
   "cell_type": "code",
   "execution_count": null,
   "metadata": {},
   "outputs": [],
   "source": []
  }
 ],
 "metadata": {
  "kernelspec": {
   "display_name": "Python 3 (ipykernel)",
   "language": "python",
   "name": "python3"
  },
  "language_info": {
   "codemirror_mode": {
    "name": "ipython",
    "version": 3
   },
   "file_extension": ".py",
   "mimetype": "text/x-python",
   "name": "python",
   "nbconvert_exporter": "python",
   "pygments_lexer": "ipython3",
   "version": "3.7.3"
  },
  "papermill": {
   "duration": null,
   "end_time": null,
   "environment_variables": {},
   "exception": null,
   "input_path": "__notebook__.ipynb",
   "output_path": "__notebook__.ipynb",
   "parameters": {},
   "start_time": "2021-01-06T14:24:18.249969",
   "version": "1.2.1"
  }
 },
 "nbformat": 4,
 "nbformat_minor": 4
}
