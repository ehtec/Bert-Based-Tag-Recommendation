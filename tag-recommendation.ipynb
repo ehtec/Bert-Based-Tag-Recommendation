{
 "cells": [
  {
   "cell_type": "code",
   "execution_count": 1,
   "metadata": {
    "_cell_guid": "b1076dfc-b9ad-4769-8c92-a6c4dae69d19",
    "_uuid": "8f2839f25d086af736a60e9eeb907d3b93b6e0e5",
    "papermill": {
     "duration": 0.02462,
     "end_time": "2021-01-06T14:24:23.259454",
     "exception": false,
     "start_time": "2021-01-06T14:24:23.234834",
     "status": "completed"
    },
    "tags": []
   },
   "outputs": [],
   "source": [
    "# This Python 3 environment comes with many helpful analytics libraries installed\n",
    "# It is defined by the kaggle/python Docker image: https://github.com/kaggle/docker-python\n",
    "# For example, here's several helpful packages to load\n",
    "\n",
    "import numpy as np # linear algebra\n",
    "import pandas as pd # data processing, CSV file I/O (e.g. pd.read_csv)\n",
    "\n",
    "# Input data files are available in the read-only \"../input/\" directory\n",
    "# For example, running this (by clicking run or pressing Shift+Enter) will list all files under the input directory\n",
    "\n",
    "import os\n",
    "# for dirname, _, filenames in os.walk('/kaggle/input'):\n",
    "#     for filename in filenames:\n",
    "#         print(os.path.join(dirname, filename))\n",
    "\n",
    "# You can write up to 5GB to the current directory (/kaggle/working/) that gets preserved as output when you create a version using \"Save & Run All\" \n",
    "# You can also write temporary files to /kaggle/temp/, but they won't be saved outside of the current session\n",
    "from tqdm.auto import tqdm\n",
    "import copy"
   ]
  },
  {
   "cell_type": "code",
   "execution_count": 2,
   "metadata": {
    "_cell_guid": "79c7e3d0-c299-4dcb-8224-4455121ee9b0",
    "_uuid": "d629ff2d2480ee46fbb7e2d37f6b5fab8052498a",
    "papermill": {
     "duration": null,
     "end_time": null,
     "exception": false,
     "start_time": "2021-01-06T14:24:23.272653",
     "status": "running"
    },
    "tags": []
   },
   "outputs": [],
   "source": [
    "# pip install bert-tensorflow\n",
    "# Do not install this"
   ]
  },
  {
   "cell_type": "code",
   "execution_count": 3,
   "metadata": {
    "papermill": {
     "duration": null,
     "end_time": null,
     "exception": null,
     "start_time": null,
     "status": "pending"
    },
    "tags": []
   },
   "outputs": [],
   "source": [
    "# pip install bert-for-tf2\n",
    "# already installed"
   ]
  },
  {
   "cell_type": "code",
   "execution_count": 4,
   "metadata": {
    "papermill": {
     "duration": null,
     "end_time": null,
     "exception": null,
     "start_time": null,
     "status": "pending"
    },
    "tags": []
   },
   "outputs": [],
   "source": [
    "# pip install sentencepiece\n",
    "# already installed"
   ]
  },
  {
   "cell_type": "code",
   "execution_count": 5,
   "metadata": {
    "papermill": {
     "duration": null,
     "end_time": null,
     "exception": null,
     "start_time": null,
     "status": "pending"
    },
    "tags": []
   },
   "outputs": [],
   "source": [
    "try:\n",
    "    %tensorflow_version 2.x\n",
    "except Exception:\n",
    "    pass\n",
    "import tensorflow as tf\n",
    "\n",
    "import tensorflow_hub as hub\n",
    "\n",
    "from tensorflow.keras import layers\n",
    "import bert"
   ]
  },
  {
   "cell_type": "code",
   "execution_count": 6,
   "metadata": {
    "papermill": {
     "duration": null,
     "end_time": null,
     "exception": null,
     "start_time": null,
     "status": "pending"
    },
    "tags": []
   },
   "outputs": [],
   "source": [
    "import os\n",
    "os.environ['TF_CPP_MIN_LOG_LEVEL'] = '3'\n",
    "import gc\n",
    "import os\n",
    "import numpy as np\n",
    "import collections\n",
    "from sklearn.metrics import confusion_matrix\n",
    "from sklearn.metrics import accuracy_score\n",
    "from sklearn.metrics import precision_recall_fscore_support\n",
    "from keras.callbacks import ModelCheckpoint\n",
    "import random"
   ]
  },
  {
   "cell_type": "code",
   "execution_count": 7,
   "metadata": {},
   "outputs": [],
   "source": [
    "# generator to split list into chunks\n",
    "def chunks(lst, n):\n",
    "    if not n:\n",
    "        raise Exception(\"n must be a positive integer\")\n",
    "\n",
    "    for i in range(0, len(lst), n):\n",
    "        yield lst[i:i + n]\n"
   ]
  },
  {
   "cell_type": "code",
   "execution_count": 8,
   "metadata": {
    "papermill": {
     "duration": null,
     "end_time": null,
     "exception": null,
     "start_time": null,
     "status": "pending"
    },
    "tags": []
   },
   "outputs": [],
   "source": [
    "def transliterate(line):\n",
    "    cedilla2latin = [[u'Á', u'A'], [u'á', u'a'], [u'Č', u'C'], [u'č', u'c'], [u'Š', u'S'], [u'š', u's']]\n",
    "    tr = dict([(a[0], a[1]) for (a) in cedilla2latin])\n",
    "    new_line = \"\"\n",
    "    for letter in line:\n",
    "        if letter in tr:\n",
    "            new_line += tr[letter]\n",
    "        else:\n",
    "            new_line += letter\n",
    "    return new_line"
   ]
  },
  {
   "cell_type": "code",
   "execution_count": 9,
   "metadata": {
    "papermill": {
     "duration": null,
     "end_time": null,
     "exception": null,
     "start_time": null,
     "status": "pending"
    },
    "tags": []
   },
   "outputs": [],
   "source": [
    "def text_cleaner(text,\n",
    "                 deep_clean=True,\n",
    "                 stem= True,\n",
    "                 stop_words=True,\n",
    "                 translite_rate=True):\n",
    "    rules = [\n",
    "        {r'>\\s+': u'>'},  # remove spaces after a tag opens or closes\n",
    "        {r'\\s+': u' '},  # replace consecutive spaces\n",
    "        {r'\\s*<br\\s*/?>\\s*': u'\\n'},  # newline after a <br>\n",
    "        {r'</(div)\\s*>\\s*': u'\\n'},  # newline after </p> and </div> and <h1/>...\n",
    "        {r'</(p|h\\d)\\s*>\\s*': u'\\n\\n'},  # newline after </p> and </div> and <h1/>...\n",
    "        {r'<head>.*<\\s*(/head|body)[^>]*>': u''},  # remove <head> to </head>\n",
    "        {r'<a\\s+href=\"([^\"]+)\"[^>]*>.*</a>': r'\\1'},  # show links instead of texts\n",
    "        {r'[ \\t]*<[^<]*?/?>': u''},  # remove remaining tags\n",
    "        {r'^\\s+': u''}  # remove spaces at the beginning\n",
    "\n",
    "    ]\n",
    "\n",
    "    if deep_clean:\n",
    "        text = text.replace(\".\", \"\")\n",
    "        text = text.replace(\"[\", \" \")\n",
    "        text = text.replace(\",\", \" \")\n",
    "        text = text.replace(\"]\", \" \")\n",
    "        text = text.replace(\"(\", \" \")\n",
    "        text = text.replace(\")\", \" \")\n",
    "        text = text.replace(\"\\\"\", \"\")\n",
    "        text = text.replace(\"-\", \" \")\n",
    "        text = text.replace(\"=\", \" \")\n",
    "        text = text.replace(\"?\", \" \")\n",
    "        text = text.replace(\"!\", \" \")\n",
    "\n",
    "        for rule in rules:\n",
    "            for (k, v) in rule.items():\n",
    "                regex = re.compile(k)\n",
    "                text = regex.sub(v, text)\n",
    "            text = text.rstrip()\n",
    "            text = text.strip()\n",
    "        text = text.replace('+', ' ').replace('.', ' ').replace(',', ' ').replace(':', ' ')\n",
    "        text = re.sub(\"(^|\\W)\\d+($|\\W)\", \" \", text)\n",
    "        if translite_rate:\n",
    "            text = transliterate(text)\n",
    "        if stem:\n",
    "            text = PorterStemmer().stem(text)\n",
    "        text = WordNetLemmatizer().lemmatize(text)\n",
    "        if stop_words:\n",
    "            stop_words = set(stopwords.words('english'))\n",
    "            word_tokens = word_tokenize(text)\n",
    "            text = [w for w in word_tokens if not w in stop_words]\n",
    "            text = ' '.join(str(e) for e in text)\n",
    "    else:\n",
    "        for rule in rules:\n",
    "            for (k, v) in rule.items():\n",
    "                regex = re.compile(k)\n",
    "                text = regex.sub(v, text)\n",
    "            text = text.rstrip()\n",
    "            text = text.strip()\n",
    "    return text.lower()"
   ]
  },
  {
   "cell_type": "code",
   "execution_count": 10,
   "metadata": {
    "papermill": {
     "duration": null,
     "end_time": null,
     "exception": null,
     "start_time": null,
     "status": "pending"
    },
    "tags": []
   },
   "outputs": [],
   "source": [
    "#make pre-train for bert\n",
    "BertTokenizer = bert.bert_tokenization.FullTokenizer\n",
    "bert_layer = hub.KerasLayer(\"https://tfhub.dev/tensorflow/bert_en_uncased_L-12_H-768_A-12/1\",\n",
    "                            trainable=False)\n",
    "vocabulary_file = bert_layer.resolved_object.vocab_file.asset_path.numpy()\n",
    "to_lower_case = bert_layer.resolved_object.do_lower_case.numpy()\n",
    "tokenizer = BertTokenizer(vocabulary_file, to_lower_case)"
   ]
  },
  {
   "cell_type": "code",
   "execution_count": 11,
   "metadata": {
    "papermill": {
     "duration": null,
     "end_time": null,
     "exception": null,
     "start_time": null,
     "status": "pending"
    },
    "tags": []
   },
   "outputs": [
    {
     "name": "stderr",
     "output_type": "stream",
     "text": [
      "[nltk_data] Downloading package stopwords to /home/elias/nltk_data...\n",
      "[nltk_data]   Package stopwords is already up-to-date!\n",
      "/home/elias/.local/lib/python3.7/site-packages/sklearn/utils/deprecation.py:87: FutureWarning: Function get_feature_names is deprecated; get_feature_names is deprecated in 1.0 and will be removed in 1.2. Please use get_feature_names_out instead.\n",
      "  warnings.warn(msg, category=FutureWarning)\n"
     ]
    },
    {
     "name": "stdout",
     "output_type": "stream",
     "text": [
      "                                 tag  Counts\n",
      "0         (devexpress-codegenerator)       1\n",
      "1                               *bsd       1\n",
      "2      .jrxml-specifications-support       1\n",
      "3                               .net      29\n",
      "4  .net-client-profile-compatibility       1\n",
      "                       tag  Counts\n",
      "7395  software-development    9655\n",
      "3790              internet    8171\n",
      "8594                   web    6316\n",
      "4277             libraries    5758\n",
      "5111            multimedia    4833\n",
      "...                    ...     ...\n",
      "304              animation      52\n",
      "8508                  voip      51\n",
      "5738         page-counters      51\n",
      "528         authentication      51\n",
      "5777                parser      51\n",
      "\n",
      "[273 rows x 2 columns] tags are used more than 80 times\n",
      "most_common_tag: 220\n",
      "most_occurs [('Systems-Administration', 1844), ('Information-Management', 1349), ('Issue-Tracking', 197), ('PHP', 491), ('php-classes', 824), ('Security', 1978), ('LDAP', 92), ('SQL', 85), ('Operating-Systems', 492), ('Monitoring', 1875), ('Software-Development', 9655), ('Internet', 8171), ('FTP', 375), ('Mirroring', 107), ('Web', 6316), ('Web-Application', 106), ('Communications', 4478), ('Telephony', 303), ('Office/Business', 1878), ('Point-Of-Sale', 113), ('Game', 185), ('Database', 2215), ('MySQL', 135), ('Desktop-Environment', 2372), ('Terminals', 333), ('Terminal-Emulators/X-Terminals', 125), ('Site-Management', 1360), ('Log-Analysis', 384), ('Libraries', 5758), ('Benchmark', 129), ('Logging', 484), ('Networking', 2841), ('Utilities', 3315), ('PDF', 88), ('Java', 463), ('Embedded-Systems', 272), ('C++', 96), ('Library', 306), ('Interpreters', 475), ('Command-Line', 103), ('Scientific/Engineering', 2687), ('Version-Control', 423), ('C', 103), ('Email', 1668), ('Filters', 636), ('Dynamic-Content', 3232), ('CGI-Tools/Libraries', 795), ('groupware', 389), ('Scheduling', 423), ('Office-Suites', 116), ('News/Diary', 345), ('GPL', 1450), ('Address-Book', 112), ('Front-Ends', 796), ('Email-Clients-(MUA)', 243), ('Workflow-Frameworks', 132), ('multimedia', 4833), ('Sound/Audio', 2106), ('Players', 691), ('MP3', 450), ('HTML', 106), ('Testing', 731), ('Archiving', 949), ('Network', 155), ('Server', 96), ('Linux', 632), ('Windows', 118), ('Financial', 593), ('Accounting', 247), ('Games/Entertainment', 2545), ('Role-Playing', 281), ('Real-Time-Strategy', 102), ('MIDI', 163), ('music', 108), ('Visualization', 652), ('POSIX', 180), ('Debuggers', 286), ('Integrated-Development-Environments-(IDE)', 189), ('Home-Automation', 126), ('Artificial-Intelligence', 350), ('HTTP-Servers', 594), ('Markup', 1196), ('XML', 710), ('Object-Brokering', 153), ('Java-Libraries', 1153), ('Clustering/Distributed-Networks', 356), ('Document-Repositories', 283), ('Python-Modules', 503), ('Hardware', 503), ('Database-Engines/Servers', 379), ('Build-Tools', 520), ('Quality-Assurance', 372), ('Firewalls', 473), ('Cryptography', 609), ('Proxy-Servers', 268), ('Compilers', 502), ('Python', 238), ('Compression', 201), ('Packaging', 163), ('backup', 455), ('DNS', 272), ('Application-Frameworks', 779), ('API', 314), ('Installation/Setup', 411), ('Software-Distribution', 241), ('Software-Distribution-Tools', 231), ('Astronomy', 163), ('Simulation', 252), ('Puzzle-Games', 407), ('Graphics', 2281), ('GUI', 101), ('Games', 120), ('Text-Processing', 2142), ('Medical-Science', 150), ('CMS', 152), ('Wiki', 157), ('GPLv3', 107), ('Linux-Distributions', 307), ('education', 1015), ('Emulators', 233), ('Unix', 85), ('IMAP', 152), ('CD-Audio', 237), ('CD-Writing', 80), ('CD-Ripping', 104), ('Boot', 200), ('Mathematics', 661), ('Chat', 1006), ('Diagnostics', 176), ('CRM', 83), ('File-Sharing', 556), ('Recovery-Tools', 149), ('Bioinformatics', 228), ('tools', 346), ('GNOME', 640), ('POP3', 193), ('User-Interfaces', 465), ('Code-Generators', 642), ('Browsers', 325), ('Filesystems', 466), ('Usenet-News', 160), ('IRC', 452), ('HTML/XHTML', 417), ('Electronic-Design-Automation-(EDA)', 128), ('Editors', 407), ('fonts', 109), ('Indexing', 121), ('php-class', 134), ('Shells', 207), ('File-Managers', 210), ('Metadata/Semantic-Models', 121), ('Records-Management', 205), ('Post-Office', 265), ('First-Person-Shooters', 121), ('Arcade', 402), ('Development', 122), ('Window-Manager', 412), ('Text-Editors', 635), ('CVS', 131), ('JavaScript', 149), ('Perl-Modules', 369), ('Widget-Sets', 305), ('GPLv2', 103), ('Analysis', 169), ('KDE', 421), ('framework', 198), ('Documentation', 508), ('Indexing/Search', 441), ('Applets', 149), ('Video', 825), ('Physics', 110), ('Linguistic', 194), ('General', 165), ('Other/Nonlisted-Topic', 271), ('Viewers', 450), ('Bug-Tracking', 192), ('Capture', 311), ('Conferencing', 171), ('Computer-Aided-Instruction-(CAI)', 137), ('Perl', 104), ('Display', 188), ('Presentation', 362), ('printing', 260), ('Conversion', 338), ('Graphics-Conversion', 283), ('LGPL', 189), ('Geographical', 151), ('3D-Rendering', 292), ('Operating-System-Kernels', 420), ('Vector-Based', 85), ('Message-Boards', 232), ('Audio', 120), ('TeX/LaTeX', 141), ('3D-Modeling', 169), ('Mail-Transport-Agents', 234), ('Turn-Based-Strategy', 249), ('Speech', 94), ('Word-Processors', 81), ('Chemistry', 122), ('CD-Based', 114), ('Localization', 87), ('Mailing-List-Servers', 94), ('Freeware', 102), ('Link-Checking', 103), ('Capture/Recording', 139), ('Subversion', 100), ('mud', 142), ('Emacs', 89), ('XSL/XSLT', 123), ('Ham-Radio', 91), ('Internationalization', 102), ('Internet-Phone', 142), ('BSD-Original', 99), ('Digital-Camera', 93), ('Artistic-Software', 183), ('Sound-Synthesis', 112), ('Window-Maker', 148), ('Ruby-Modules', 113), ('BBS', 128), ('GNUstep', 85), ('AOL-Instant-Messenger', 83)]\n",
      "Number of data points in training data : 32845\n",
      "Number of data points in test data : 10000\n"
     ]
    }
   ],
   "source": [
    "import pandas as pd\n",
    "from bs4 import BeautifulSoup as bs\n",
    "from collections import Counter\n",
    "from nltk.stem import PorterStemmer, WordNetLemmatizer\n",
    "import numpy as np\n",
    "import re\n",
    "from sklearn.feature_extraction.text import TfidfVectorizer, CountVectorizer\n",
    "from keras.preprocessing.text import Tokenizer\n",
    "from keras.preprocessing.sequence import pad_sequences\n",
    "import numpy as np\n",
    "import nltk\n",
    "from nltk import word_tokenize\n",
    "from nltk.corpus import stopwords\n",
    "import re\n",
    "from nltk.stem import PorterStemmer, WordNetLemmatizer\n",
    "nltk.download(\"stopwords\")\n",
    "cachedStopWords = stopwords.words(\"english\")\n",
    "from sklearn.model_selection import train_test_split\n",
    "\n",
    "\n",
    "#Function to convert html body of data to text\n",
    "def convert_html_to_text(data):\n",
    "    soup = bs(data,'html.parser')\n",
    "    body = soup.get_text()\n",
    "    return body\n",
    "\n",
    "#Prepare data\n",
    "mytrain = pd.read_csv(\"../freecode_data.csv\")\n",
    "\n",
    "#print(mytrain['Tags'])\n",
    "\n",
    "mytrain['Title'] = mytrain['title'].apply(text_cleaner)\n",
    "\n",
    "mytrain['Body'] = mytrain['question'].apply(text_cleaner)\n",
    "\n",
    "mytrain['Text'] = mytrain['Title'] + \"\\n\" + mytrain['Body']\n",
    "\n",
    "\n",
    "\n",
    "\n",
    "#Frequency of each tag\n",
    "\n",
    "vectorizer = CountVectorizer(tokenizer = lambda x: x.split())\n",
    "tag_bow = vectorizer.fit_transform(mytrain['tag'])\n",
    "\n",
    "tags = vectorizer.get_feature_names()\n",
    "\n",
    "freq = tag_bow.sum(axis=0).A1\n",
    "tag_to_count_map = dict(zip(tags, freq))\n",
    "\n",
    "lst = []\n",
    "for key, value in tag_to_count_map.items():\n",
    "  lst.append([key, value]) \n",
    "\n",
    "\n",
    "tag_df = pd.DataFrame(lst, columns=['tag', 'Counts'])\n",
    "print(tag_df.head())\n",
    "\n",
    "tag_df_sorted = tag_df.sort_values(['Counts'], ascending=False)\n",
    "\n",
    "\n",
    "print(\"{} tags are used more than 80 times\".format(tag_df_sorted[tag_df_sorted[\"Counts\"]>50]))\n",
    "\n",
    "\n",
    "\n",
    "most_common_tag = tag_df_sorted[tag_df_sorted[\"Counts\"]>80].shape[0]\n",
    "\n",
    "print(\"most_common_tag:\",most_common_tag)\n",
    "\n",
    "\n",
    "X = mytrain['Text'].tolist()\n",
    "#print(X[7])\n",
    "\n",
    "\n",
    "#prepare tags\n",
    "list_of_tags = []\n",
    "for item in mytrain['tag']:\n",
    "    temp = item.split(\" \")\n",
    "    for word in temp:\n",
    "        if not word in list_of_tags:\n",
    "            list_of_tags.append(word)\n",
    "            \n",
    "\n",
    "list_of_all_tags = []\n",
    "for item in mytrain['tag']:\n",
    "    temp = item.split(\" \")\n",
    "    for word in temp:\n",
    "        list_of_all_tags.append(word)\n",
    "\n",
    "\n",
    "counts = Counter(list_of_all_tags)\n",
    "\n",
    "most_occurs = [(k, v) for k, v in counts.items() if v >= 80] # todo: check this with Navid\n",
    "print(\"most_occurs\", most_occurs)\n",
    "\n",
    "tags = []\n",
    "for item in most_occurs:\n",
    "    tags.append(item[0])\n",
    "    #print(\"tags:\",tags)\n",
    "\n",
    "\n",
    "\n",
    "#print(\"tags:\",tags)\n",
    "y = []\n",
    "S=0\n",
    "for item in mytrain['tag']:\n",
    "    self_tags = []\n",
    "    itemsplitted = item.split(\" \")\n",
    "    \n",
    "    for word in tags:\n",
    "        if word in itemsplitted:\n",
    "            self_tags.append(1)\n",
    "        else:\n",
    "            self_tags.append(0)\n",
    "    \n",
    "    values = np.array(self_tags)\n",
    "    \n",
    "    Y=all(values == 0)\n",
    "    if Y==True:\n",
    "        \n",
    "        del X[S]\n",
    "        S=S-1\n",
    "    else:\n",
    "        y.append(np.array(self_tags))\n",
    "    S=S+1    \n",
    "    \n",
    "\n",
    "y_list = []\n",
    "for elem in y:\n",
    "    y_list.append(elem.tolist())\n",
    "    \n",
    "def tokenize_data(data):\n",
    "    return tokenizer.convert_tokens_to_ids(tokenizer.tokenize(data))\n",
    "\n",
    "\n",
    "\n",
    "tokenized_data = [tokenize_data(data) for data in X]\n",
    "\n",
    "\n",
    "tokenized_data_train,tokenized_data_test,y_list_train, y_list_test = train_test_split(tokenized_data, y_list, test_size = 10000,random_state = 42)\n",
    "print(\"Number of data points in training data :\", len(tokenized_data_train))\n",
    "print(\"Number of data points in test data :\", len(tokenized_data_test))\n",
    "\n",
    "for c,item in enumerate(y_list_test):\n",
    "    y_list_test[c] = np.array(item)"
   ]
  },
  {
   "cell_type": "code",
   "execution_count": null,
   "metadata": {
    "papermill": {
     "duration": null,
     "end_time": null,
     "exception": null,
     "start_time": null,
     "status": "pending"
    },
    "tags": []
   },
   "outputs": [],
   "source": []
  },
  {
   "cell_type": "code",
   "execution_count": null,
   "metadata": {
    "papermill": {
     "duration": null,
     "end_time": null,
     "exception": null,
     "start_time": null,
     "status": "pending"
    },
    "tags": []
   },
   "outputs": [],
   "source": []
  },
  {
   "cell_type": "code",
   "execution_count": 12,
   "metadata": {
    "papermill": {
     "duration": null,
     "end_time": null,
     "exception": null,
     "start_time": null,
     "status": "pending"
    },
    "tags": []
   },
   "outputs": [],
   "source": [
    "def column(matrix, i):\n",
    "    return [row[i] for row in matrix]"
   ]
  },
  {
   "cell_type": "code",
   "execution_count": 13,
   "metadata": {
    "papermill": {
     "duration": null,
     "end_time": null,
     "exception": null,
     "start_time": null,
     "status": "pending"
    },
    "tags": []
   },
   "outputs": [],
   "source": [
    "#Function to show progress in consule :)\n",
    "def progress(count, total, status=''):\n",
    "    bar_len = 60\n",
    "    filled_len = int(round(bar_len * count / float(total)))\n",
    "\n",
    "    percents = round(100.0 * count / float(total), 1)\n",
    "    bar = '=' * filled_len + '-' * (bar_len - filled_len)\n",
    "\n",
    "    sys.stdout.write('[%s] %s%s ...%s\\r' % (bar, percents, '%', status))\n",
    "    sys.stdout.flush()"
   ]
  },
  {
   "cell_type": "code",
   "execution_count": 14,
   "metadata": {
    "papermill": {
     "duration": null,
     "end_time": null,
     "exception": null,
     "start_time": null,
     "status": "pending"
    },
    "tags": []
   },
   "outputs": [],
   "source": [
    "#bert text model\n",
    "class TEXT_MODEL(tf.keras.Model):\n",
    "    \n",
    "    def __init__(self,\n",
    "                 vocabulary_size,\n",
    "                 embedding_dimensions=128,\n",
    "                 cnn_filters=50,\n",
    "                 dnn_units=512,\n",
    "                 model_output_classes=2,\n",
    "                 dropout_rate=0.1,\n",
    "                 training=False,\n",
    "                 name=\"text_model\"):\n",
    "        super(TEXT_MODEL, self).__init__(name=name)\n",
    "        \n",
    "        self.embedding = layers.Embedding(vocabulary_size,\n",
    "                                          embedding_dimensions)\n",
    "        self.cnn_layer1 = layers.Conv1D(filters=cnn_filters,\n",
    "                                        kernel_size=2,\n",
    "                                        padding=\"valid\",\n",
    "                                        activation=\"relu\")\n",
    "        self.cnn_layer2 = layers.Conv1D(filters=cnn_filters,\n",
    "                                        kernel_size=3,\n",
    "                                        padding=\"valid\",\n",
    "                                        activation=\"relu\")\n",
    "        self.cnn_layer3 = layers.Conv1D(filters=cnn_filters,\n",
    "                                        kernel_size=4,\n",
    "                                        padding=\"valid\",\n",
    "                                        activation=\"relu\")\n",
    "\n",
    "                                    \n",
    "            \n",
    "\n",
    "        self.pool = layers.GlobalMaxPool1D()\n",
    "        \n",
    "        self.dense_1 = layers.Dense(units=dnn_units, activation=\"relu\")\n",
    "        self.dropout = layers.Dropout(rate=dropout_rate)\n",
    "        if model_output_classes == 2:\n",
    "            self.last_dense = layers.Dense(units=1,\n",
    "                                           activation=\"sigmoid\")\n",
    "        else:\n",
    "            self.last_dense = layers.Dense(units=model_output_classes,\n",
    "                                           activation=\"softmax\")\n",
    "    \n",
    "    def call(self, inputs, training):\n",
    "        l = self.embedding(inputs)\n",
    "        l_1 = self.cnn_layer1(l) \n",
    "        l_1 = self.pool(l_1) \n",
    "        l_2 = self.cnn_layer2(l) \n",
    "        l_2 = self.pool(l_2)\n",
    "        l_3 = self.cnn_layer3(l)\n",
    "        l_3 = self.pool(l_3) \n",
    "\n",
    "\n",
    "        \n",
    "        concatenated = tf.concat([l_1, l_2, l_3], axis=-1) # (batch_size, 3 * cnn_filters)\n",
    "        concatenated = self.dense_1(concatenated)\n",
    "        concatenated = self.dropout(concatenated, training)\n",
    "        model_output = self.last_dense(concatenated)\n",
    "        \n",
    "        return model_output"
   ]
  },
  {
   "cell_type": "code",
   "execution_count": 15,
   "metadata": {
    "papermill": {
     "duration": null,
     "end_time": null,
     "exception": null,
     "start_time": null,
     "status": "pending"
    },
    "tags": []
   },
   "outputs": [
    {
     "name": "stdout",
     "output_type": "stream",
     "text": [
      "\n",
      "0'th label prediction started\n",
      "count_one 1424\n",
      "count_zero 1424\n",
      "Epoch 1/6\n",
      "89/89 [==============================] - 16s 134ms/step - loss: 0.6579 - acc: 0.6426\n",
      "Epoch 2/6\n",
      "89/89 [==============================] - 1s 11ms/step - loss: 0.3143 - acc: 0.8757\n",
      "Epoch 3/6\n",
      "89/89 [==============================] - 1s 11ms/step - loss: 0.0700 - acc: 0.9838\n",
      "Epoch 4/6\n",
      "89/89 [==============================] - 1s 11ms/step - loss: 0.0154 - acc: 0.9979\n",
      "Epoch 5/6\n",
      "89/89 [==============================] - 1s 11ms/step - loss: 0.0043 - acc: 0.9996\n",
      "Epoch 6/6\n",
      "89/89 [==============================] - 1s 11ms/step - loss: 0.0015 - acc: 1.0000\n",
      "Predicting 0th label...\n"
     ]
    },
    {
     "data": {
      "application/vnd.jupyter.widget-view+json": {
       "model_id": "f2faf4cc368746b0ade55b629ec40358",
       "version_major": 2,
       "version_minor": 0
      },
      "text/plain": [
       "  0%|          | 0/20 [00:00<?, ?it/s]"
      ]
     },
     "metadata": {},
     "output_type": "display_data"
    },
    {
     "name": "stdout",
     "output_type": "stream",
     "text": [
      "INFO:tensorflow:Assets written to: models/text_model_group_1/text_model_0/assets\n"
     ]
    },
    {
     "name": "stderr",
     "output_type": "stream",
     "text": [
      "INFO:tensorflow:Assets written to: models/text_model_group_1/text_model_0/assets\n"
     ]
    },
    {
     "name": "stdout",
     "output_type": "stream",
     "text": [
      "\n",
      "1'th label prediction started\n",
      "count_one 1023\n",
      "count_zero 1023\n",
      "Epoch 1/6\n",
      "64/64 [==============================] - 3s 34ms/step - loss: 0.6621 - acc: 0.6080\n",
      "Epoch 2/6\n",
      "64/64 [==============================] - 1s 11ms/step - loss: 0.4043 - acc: 0.8289\n",
      "Epoch 3/6\n",
      "64/64 [==============================] - 1s 11ms/step - loss: 0.0938 - acc: 0.9736\n",
      "Epoch 4/6\n",
      "64/64 [==============================] - 1s 11ms/step - loss: 0.0179 - acc: 0.9985\n",
      "Epoch 5/6\n",
      "64/64 [==============================] - 1s 11ms/step - loss: 0.0085 - acc: 0.9990\n",
      "Epoch 6/6\n",
      "64/64 [==============================] - 1s 10ms/step - loss: 0.0017 - acc: 1.0000\n",
      "Predicting 1th label...\n"
     ]
    },
    {
     "data": {
      "application/vnd.jupyter.widget-view+json": {
       "model_id": "bd8db67392954b12a1315c1294a3d601",
       "version_major": 2,
       "version_minor": 0
      },
      "text/plain": [
       "  0%|          | 0/20 [00:00<?, ?it/s]"
      ]
     },
     "metadata": {},
     "output_type": "display_data"
    },
    {
     "name": "stdout",
     "output_type": "stream",
     "text": [
      "INFO:tensorflow:Assets written to: models/text_model_group_1/text_model_1/assets\n"
     ]
    },
    {
     "name": "stderr",
     "output_type": "stream",
     "text": [
      "INFO:tensorflow:Assets written to: models/text_model_group_1/text_model_1/assets\n"
     ]
    },
    {
     "name": "stdout",
     "output_type": "stream",
     "text": [
      "\n",
      "2'th label prediction started\n",
      "count_one 144\n",
      "count_zero 144\n",
      "Epoch 1/6\n",
      "9/9 [==============================] - 1s 25ms/step - loss: 0.6987 - acc: 0.5174\n",
      "Epoch 2/6\n",
      "9/9 [==============================] - 0s 11ms/step - loss: 0.6168 - acc: 0.9479\n",
      "Epoch 3/6\n",
      "9/9 [==============================] - 0s 10ms/step - loss: 0.4908 - acc: 1.0000\n",
      "Epoch 4/6\n",
      "9/9 [==============================] - 0s 10ms/step - loss: 0.2921 - acc: 0.9965\n",
      "Epoch 5/6\n",
      "9/9 [==============================] - 0s 10ms/step - loss: 0.1106 - acc: 1.0000\n",
      "Epoch 6/6\n",
      "9/9 [==============================] - 0s 10ms/step - loss: 0.0312 - acc: 1.0000\n",
      "Predicting 2th label...\n"
     ]
    },
    {
     "data": {
      "application/vnd.jupyter.widget-view+json": {
       "model_id": "9bfb38d662e34daeb7c89f1a234df10a",
       "version_major": 2,
       "version_minor": 0
      },
      "text/plain": [
       "  0%|          | 0/20 [00:00<?, ?it/s]"
      ]
     },
     "metadata": {},
     "output_type": "display_data"
    },
    {
     "name": "stdout",
     "output_type": "stream",
     "text": [
      "INFO:tensorflow:Assets written to: models/text_model_group_1/text_model_2/assets\n"
     ]
    },
    {
     "name": "stderr",
     "output_type": "stream",
     "text": [
      "INFO:tensorflow:Assets written to: models/text_model_group_1/text_model_2/assets\n"
     ]
    },
    {
     "name": "stdout",
     "output_type": "stream",
     "text": [
      "\n",
      "3'th label prediction started\n",
      "count_one 362\n",
      "count_zero 362\n",
      "Epoch 1/6\n",
      "23/23 [==============================] - 1s 39ms/step - loss: 0.6698 - acc: 0.5525\n",
      "Epoch 2/6\n",
      "23/23 [==============================] - 0s 10ms/step - loss: 0.4402 - acc: 0.8398\n",
      "Epoch 3/6\n",
      "23/23 [==============================] - 0s 10ms/step - loss: 0.2174 - acc: 0.9420\n",
      "Epoch 4/6\n",
      "23/23 [==============================] - 0s 10ms/step - loss: 0.0543 - acc: 0.9917\n",
      "Epoch 5/6\n",
      "23/23 [==============================] - 0s 10ms/step - loss: 0.0109 - acc: 1.0000\n",
      "Epoch 6/6\n",
      "23/23 [==============================] - 0s 10ms/step - loss: 0.0043 - acc: 1.0000\n",
      "Predicting 3th label...\n"
     ]
    },
    {
     "data": {
      "application/vnd.jupyter.widget-view+json": {
       "model_id": "57ea8e87868d4c8294e010d5244a8ee5",
       "version_major": 2,
       "version_minor": 0
      },
      "text/plain": [
       "  0%|          | 0/20 [00:00<?, ?it/s]"
      ]
     },
     "metadata": {},
     "output_type": "display_data"
    },
    {
     "name": "stdout",
     "output_type": "stream",
     "text": [
      "INFO:tensorflow:Assets written to: models/text_model_group_1/text_model_3/assets\n"
     ]
    },
    {
     "name": "stderr",
     "output_type": "stream",
     "text": [
      "INFO:tensorflow:Assets written to: models/text_model_group_1/text_model_3/assets\n"
     ]
    },
    {
     "name": "stdout",
     "output_type": "stream",
     "text": [
      "\n",
      "4'th label prediction started\n",
      "count_one 640\n",
      "count_zero 640\n",
      "Epoch 1/6\n",
      "40/40 [==============================] - 2s 35ms/step - loss: 0.5903 - acc: 0.7047\n",
      "Epoch 2/6\n",
      "40/40 [==============================] - 0s 10ms/step - loss: 0.2814 - acc: 0.8891\n",
      "Epoch 3/6\n",
      "40/40 [==============================] - 0s 11ms/step - loss: 0.1050 - acc: 0.9734\n",
      "Epoch 4/6\n",
      "40/40 [==============================] - 0s 11ms/step - loss: 0.0210 - acc: 0.9984\n",
      "Epoch 5/6\n",
      "40/40 [==============================] - 0s 11ms/step - loss: 0.0116 - acc: 0.9992\n",
      "Epoch 6/6\n",
      "40/40 [==============================] - 0s 11ms/step - loss: 0.0121 - acc: 0.9977\n",
      "Predicting 4th label...\n"
     ]
    },
    {
     "data": {
      "application/vnd.jupyter.widget-view+json": {
       "model_id": "60ae27e0cfab470bac624b491c80c239",
       "version_major": 2,
       "version_minor": 0
      },
      "text/plain": [
       "  0%|          | 0/20 [00:00<?, ?it/s]"
      ]
     },
     "metadata": {},
     "output_type": "display_data"
    },
    {
     "name": "stdout",
     "output_type": "stream",
     "text": [
      "INFO:tensorflow:Assets written to: models/text_model_group_1/text_model_4/assets\n"
     ]
    },
    {
     "name": "stderr",
     "output_type": "stream",
     "text": [
      "INFO:tensorflow:Assets written to: models/text_model_group_1/text_model_4/assets\n"
     ]
    },
    {
     "name": "stdout",
     "output_type": "stream",
     "text": [
      "\n",
      "5'th label prediction started\n",
      "count_one 1485\n",
      "count_zero 1485\n",
      "Epoch 1/6\n",
      "93/93 [==============================] - 4s 36ms/step - loss: 0.6101 - acc: 0.6963\n",
      "Epoch 2/6\n",
      "93/93 [==============================] - 1s 11ms/step - loss: 0.2404 - acc: 0.9077\n",
      "Epoch 3/6\n",
      "93/93 [==============================] - 1s 11ms/step - loss: 0.0488 - acc: 0.9892\n",
      "Epoch 4/6\n",
      "93/93 [==============================] - 1s 11ms/step - loss: 0.0162 - acc: 0.9970\n",
      "Epoch 5/6\n",
      "93/93 [==============================] - 1s 11ms/step - loss: 0.0034 - acc: 1.0000\n",
      "Epoch 6/6\n",
      "93/93 [==============================] - 1s 11ms/step - loss: 0.0010 - acc: 1.0000\n",
      "Predicting 5th label...\n"
     ]
    },
    {
     "data": {
      "application/vnd.jupyter.widget-view+json": {
       "model_id": "617c1fb77cf040edbc264a6769417565",
       "version_major": 2,
       "version_minor": 0
      },
      "text/plain": [
       "  0%|          | 0/20 [00:00<?, ?it/s]"
      ]
     },
     "metadata": {},
     "output_type": "display_data"
    },
    {
     "name": "stdout",
     "output_type": "stream",
     "text": [
      "INFO:tensorflow:Assets written to: models/text_model_group_1/text_model_5/assets\n"
     ]
    },
    {
     "name": "stderr",
     "output_type": "stream",
     "text": [
      "INFO:tensorflow:Assets written to: models/text_model_group_1/text_model_5/assets\n"
     ]
    },
    {
     "name": "stdout",
     "output_type": "stream",
     "text": [
      "\n",
      "6'th label prediction started\n",
      "count_one 65\n",
      "count_zero 65\n",
      "Epoch 1/6\n",
      "5/5 [==============================] - 1s 26ms/step - loss: 0.7074 - acc: 0.5077\n",
      "Epoch 2/6\n",
      "5/5 [==============================] - 0s 10ms/step - loss: 0.6320 - acc: 0.8846\n",
      "Epoch 3/6\n",
      "5/5 [==============================] - 0s 10ms/step - loss: 0.5621 - acc: 1.0000\n",
      "Epoch 4/6\n",
      "5/5 [==============================] - 0s 10ms/step - loss: 0.4569 - acc: 1.0000\n",
      "Epoch 5/6\n",
      "5/5 [==============================] - 0s 11ms/step - loss: 0.3208 - acc: 1.0000\n",
      "Epoch 6/6\n",
      "5/5 [==============================] - 0s 10ms/step - loss: 0.1832 - acc: 1.0000\n",
      "Predicting 6th label...\n"
     ]
    },
    {
     "data": {
      "application/vnd.jupyter.widget-view+json": {
       "model_id": "d7b5fe0a19594b0a81551898e9fd6c3d",
       "version_major": 2,
       "version_minor": 0
      },
      "text/plain": [
       "  0%|          | 0/20 [00:00<?, ?it/s]"
      ]
     },
     "metadata": {},
     "output_type": "display_data"
    },
    {
     "name": "stdout",
     "output_type": "stream",
     "text": [
      "INFO:tensorflow:Assets written to: models/text_model_group_1/text_model_6/assets\n"
     ]
    },
    {
     "name": "stderr",
     "output_type": "stream",
     "text": [
      "INFO:tensorflow:Assets written to: models/text_model_group_1/text_model_6/assets\n"
     ]
    },
    {
     "name": "stdout",
     "output_type": "stream",
     "text": [
      "\n",
      "7'th label prediction started\n",
      "count_one 69\n",
      "count_zero 69\n",
      "Epoch 1/6\n",
      "5/5 [==============================] - 1s 33ms/step - loss: 0.7028 - acc: 0.4855\n",
      "Epoch 2/6\n",
      "5/5 [==============================] - 0s 9ms/step - loss: 0.6397 - acc: 0.9058\n",
      "Epoch 3/6\n",
      "5/5 [==============================] - 0s 10ms/step - loss: 0.5743 - acc: 0.9928\n",
      "Epoch 4/6\n",
      "5/5 [==============================] - 0s 10ms/step - loss: 0.4751 - acc: 1.0000\n",
      "Epoch 5/6\n",
      "5/5 [==============================] - 0s 10ms/step - loss: 0.3479 - acc: 1.0000\n",
      "Epoch 6/6\n",
      "5/5 [==============================] - 0s 11ms/step - loss: 0.2115 - acc: 1.0000\n",
      "Predicting 7th label...\n"
     ]
    },
    {
     "data": {
      "application/vnd.jupyter.widget-view+json": {
       "model_id": "8424c73087924e0487247df28c0351b8",
       "version_major": 2,
       "version_minor": 0
      },
      "text/plain": [
       "  0%|          | 0/20 [00:00<?, ?it/s]"
      ]
     },
     "metadata": {},
     "output_type": "display_data"
    },
    {
     "name": "stdout",
     "output_type": "stream",
     "text": [
      "INFO:tensorflow:Assets written to: models/text_model_group_1/text_model_7/assets\n"
     ]
    },
    {
     "name": "stderr",
     "output_type": "stream",
     "text": [
      "INFO:tensorflow:Assets written to: models/text_model_group_1/text_model_7/assets\n"
     ]
    },
    {
     "name": "stdout",
     "output_type": "stream",
     "text": [
      "\n",
      "8'th label prediction started\n",
      "count_one 372\n",
      "count_zero 372\n",
      "Epoch 1/6\n",
      "24/24 [==============================] - 1s 26ms/step - loss: 0.6805 - acc: 0.5699\n",
      "Epoch 2/6\n",
      "24/24 [==============================] - 0s 11ms/step - loss: 0.5080 - acc: 0.7527\n",
      "Epoch 3/6\n",
      "24/24 [==============================] - 0s 11ms/step - loss: 0.2044 - acc: 0.9489\n",
      "Epoch 4/6\n",
      "24/24 [==============================] - 0s 11ms/step - loss: 0.0522 - acc: 0.9946\n",
      "Epoch 5/6\n",
      "24/24 [==============================] - 0s 11ms/step - loss: 0.0099 - acc: 1.0000\n",
      "Epoch 6/6\n",
      "24/24 [==============================] - 0s 11ms/step - loss: 0.0032 - acc: 1.0000\n",
      "Predicting 8th label...\n"
     ]
    },
    {
     "data": {
      "application/vnd.jupyter.widget-view+json": {
       "model_id": "a7a9e051b1034fb689a98e743b490407",
       "version_major": 2,
       "version_minor": 0
      },
      "text/plain": [
       "  0%|          | 0/20 [00:00<?, ?it/s]"
      ]
     },
     "metadata": {},
     "output_type": "display_data"
    },
    {
     "name": "stdout",
     "output_type": "stream",
     "text": [
      "INFO:tensorflow:Assets written to: models/text_model_group_1/text_model_8/assets\n"
     ]
    },
    {
     "name": "stderr",
     "output_type": "stream",
     "text": [
      "INFO:tensorflow:Assets written to: models/text_model_group_1/text_model_8/assets\n"
     ]
    },
    {
     "name": "stdout",
     "output_type": "stream",
     "text": [
      "\n",
      "9'th label prediction started\n",
      "count_one 1428\n",
      "count_zero 1428\n",
      "Epoch 1/6\n",
      "90/90 [==============================] - 2s 19ms/step - loss: 0.5725 - acc: 0.7360\n",
      "Epoch 2/6\n",
      "90/90 [==============================] - 1s 11ms/step - loss: 0.1917 - acc: 0.9279\n",
      "Epoch 3/6\n",
      "90/90 [==============================] - 1s 11ms/step - loss: 0.0317 - acc: 0.9944\n",
      "Epoch 4/6\n",
      "90/90 [==============================] - 1s 10ms/step - loss: 0.0072 - acc: 0.9993\n",
      "Epoch 5/6\n",
      "90/90 [==============================] - 1s 10ms/step - loss: 0.0029 - acc: 1.0000\n",
      "Epoch 6/6\n",
      "90/90 [==============================] - 1s 11ms/step - loss: 0.0013 - acc: 1.0000\n",
      "Predicting 9th label...\n"
     ]
    },
    {
     "data": {
      "application/vnd.jupyter.widget-view+json": {
       "model_id": "651e28194b584f8e9b762f0e308e9e9d",
       "version_major": 2,
       "version_minor": 0
      },
      "text/plain": [
       "  0%|          | 0/20 [00:00<?, ?it/s]"
      ]
     },
     "metadata": {},
     "output_type": "display_data"
    },
    {
     "name": "stdout",
     "output_type": "stream",
     "text": [
      "INFO:tensorflow:Assets written to: models/text_model_group_1/text_model_9/assets\n"
     ]
    },
    {
     "name": "stderr",
     "output_type": "stream",
     "text": [
      "INFO:tensorflow:Assets written to: models/text_model_group_1/text_model_9/assets\n"
     ]
    },
    {
     "name": "stdout",
     "output_type": "stream",
     "text": [
      "\n",
      "10'th label prediction started\n",
      "count_one 7381\n",
      "count_zero 7381\n",
      "Epoch 1/6\n",
      "462/462 [==============================] - 10s 20ms/step - loss: 0.5049 - acc: 0.7542\n",
      "Epoch 2/6\n",
      "462/462 [==============================] - 5s 11ms/step - loss: 0.3132 - acc: 0.8769\n",
      "Epoch 3/6\n",
      "462/462 [==============================] - 5s 10ms/step - loss: 0.1322 - acc: 0.9583\n",
      "Epoch 4/6\n",
      "462/462 [==============================] - 5s 11ms/step - loss: 0.0470 - acc: 0.9858\n",
      "Epoch 5/6\n",
      "462/462 [==============================] - 5s 11ms/step - loss: 0.0438 - acc: 0.9872\n",
      "Epoch 6/6\n",
      "462/462 [==============================] - 5s 11ms/step - loss: 0.0605 - acc: 0.9818\n",
      "Predicting 10th label...\n"
     ]
    },
    {
     "data": {
      "application/vnd.jupyter.widget-view+json": {
       "model_id": "57112bdaf710476ab85dc89d29fbb77b",
       "version_major": 2,
       "version_minor": 0
      },
      "text/plain": [
       "  0%|          | 0/20 [00:00<?, ?it/s]"
      ]
     },
     "metadata": {},
     "output_type": "display_data"
    },
    {
     "name": "stdout",
     "output_type": "stream",
     "text": [
      "INFO:tensorflow:Assets written to: models/text_model_group_1/text_model_10/assets\n"
     ]
    },
    {
     "name": "stderr",
     "output_type": "stream",
     "text": [
      "INFO:tensorflow:Assets written to: models/text_model_group_1/text_model_10/assets\n"
     ]
    },
    {
     "name": "stdout",
     "output_type": "stream",
     "text": [
      "\n",
      "11'th label prediction started\n",
      "count_one 6253\n",
      "count_zero 6253\n",
      "Epoch 1/6\n",
      "391/391 [==============================] - 5s 12ms/step - loss: 0.4998 - acc: 0.7586\n",
      "Epoch 2/6\n",
      "391/391 [==============================] - 4s 11ms/step - loss: 0.2921 - acc: 0.8796\n",
      "Epoch 3/6\n",
      "391/391 [==============================] - 4s 11ms/step - loss: 0.1095 - acc: 0.9654\n",
      "Epoch 4/6\n",
      "391/391 [==============================] - 4s 11ms/step - loss: 0.0359 - acc: 0.9889\n",
      "Epoch 5/6\n",
      "391/391 [==============================] - 4s 11ms/step - loss: 0.0448 - acc: 0.9870\n",
      "Epoch 6/6\n",
      "391/391 [==============================] - 4s 11ms/step - loss: 0.0535 - acc: 0.9806\n",
      "Predicting 11th label...\n"
     ]
    },
    {
     "data": {
      "application/vnd.jupyter.widget-view+json": {
       "model_id": "234415d9ce054380886916d44d053982",
       "version_major": 2,
       "version_minor": 0
      },
      "text/plain": [
       "  0%|          | 0/20 [00:00<?, ?it/s]"
      ]
     },
     "metadata": {},
     "output_type": "display_data"
    },
    {
     "name": "stdout",
     "output_type": "stream",
     "text": [
      "INFO:tensorflow:Assets written to: models/text_model_group_1/text_model_11/assets\n"
     ]
    },
    {
     "name": "stderr",
     "output_type": "stream",
     "text": [
      "INFO:tensorflow:Assets written to: models/text_model_group_1/text_model_11/assets\n"
     ]
    },
    {
     "name": "stdout",
     "output_type": "stream",
     "text": [
      "\n",
      "12'th label prediction started\n",
      "count_one 284\n",
      "count_zero 284\n",
      "Epoch 1/6\n",
      "18/18 [==============================] - 1s 16ms/step - loss: 0.6538 - acc: 0.6144\n",
      "Epoch 2/6\n",
      "18/18 [==============================] - 0s 11ms/step - loss: 0.3705 - acc: 0.8979\n",
      "Epoch 3/6\n",
      "18/18 [==============================] - 0s 10ms/step - loss: 0.1461 - acc: 0.9507\n",
      "Epoch 4/6\n",
      "18/18 [==============================] - 0s 10ms/step - loss: 0.0362 - acc: 0.9982\n",
      "Epoch 5/6\n",
      "18/18 [==============================] - 0s 11ms/step - loss: 0.0097 - acc: 0.9982\n",
      "Epoch 6/6\n",
      "18/18 [==============================] - 0s 11ms/step - loss: 0.0033 - acc: 1.0000\n",
      "Predicting 12th label...\n"
     ]
    },
    {
     "data": {
      "application/vnd.jupyter.widget-view+json": {
       "model_id": "73b3ed56446a4b23ac0136541df608ab",
       "version_major": 2,
       "version_minor": 0
      },
      "text/plain": [
       "  0%|          | 0/20 [00:00<?, ?it/s]"
      ]
     },
     "metadata": {},
     "output_type": "display_data"
    },
    {
     "name": "stdout",
     "output_type": "stream",
     "text": [
      "INFO:tensorflow:Assets written to: models/text_model_group_1/text_model_12/assets\n"
     ]
    },
    {
     "name": "stderr",
     "output_type": "stream",
     "text": [
      "INFO:tensorflow:Assets written to: models/text_model_group_1/text_model_12/assets\n"
     ]
    },
    {
     "name": "stdout",
     "output_type": "stream",
     "text": [
      "\n",
      "13'th label prediction started\n",
      "count_one 86\n",
      "count_zero 86\n",
      "Epoch 1/6\n",
      "6/6 [==============================] - 1s 28ms/step - loss: 0.6957 - acc: 0.4942\n",
      "Epoch 2/6\n",
      "6/6 [==============================] - 0s 9ms/step - loss: 0.6192 - acc: 0.9651\n",
      "Epoch 3/6\n",
      "6/6 [==============================] - 0s 10ms/step - loss: 0.5140 - acc: 1.0000\n",
      "Epoch 4/6\n",
      "6/6 [==============================] - 0s 11ms/step - loss: 0.3612 - acc: 1.0000\n",
      "Epoch 5/6\n",
      "6/6 [==============================] - 0s 10ms/step - loss: 0.1997 - acc: 1.0000\n",
      "Epoch 6/6\n",
      "6/6 [==============================] - 0s 9ms/step - loss: 0.0844 - acc: 1.0000\n",
      "Predicting 13th label...\n"
     ]
    },
    {
     "data": {
      "application/vnd.jupyter.widget-view+json": {
       "model_id": "9b22da6a5b1c4f1397b6974d8b537e30",
       "version_major": 2,
       "version_minor": 0
      },
      "text/plain": [
       "  0%|          | 0/20 [00:00<?, ?it/s]"
      ]
     },
     "metadata": {},
     "output_type": "display_data"
    },
    {
     "name": "stdout",
     "output_type": "stream",
     "text": [
      "INFO:tensorflow:Assets written to: models/text_model_group_1/text_model_13/assets\n"
     ]
    },
    {
     "name": "stderr",
     "output_type": "stream",
     "text": [
      "INFO:tensorflow:Assets written to: models/text_model_group_1/text_model_13/assets\n"
     ]
    },
    {
     "name": "stdout",
     "output_type": "stream",
     "text": [
      "\n",
      "14'th label prediction started\n",
      "count_one 4850\n",
      "count_zero 4850\n",
      "Epoch 1/6\n",
      "304/304 [==============================] - 5s 13ms/step - loss: 0.4386 - acc: 0.7989\n",
      "Epoch 2/6\n",
      "304/304 [==============================] - 3s 11ms/step - loss: 0.2329 - acc: 0.9076\n",
      "Epoch 3/6\n",
      "304/304 [==============================] - 3s 11ms/step - loss: 0.0779 - acc: 0.9746\n",
      "Epoch 4/6\n",
      "304/304 [==============================] - 3s 11ms/step - loss: 0.0180 - acc: 0.9965\n",
      "Epoch 5/6\n",
      "304/304 [==============================] - 3s 11ms/step - loss: 0.0194 - acc: 0.9940\n",
      "Epoch 6/6\n",
      "304/304 [==============================] - 3s 11ms/step - loss: 0.0244 - acc: 0.9925\n",
      "Predicting 14th label...\n"
     ]
    },
    {
     "data": {
      "application/vnd.jupyter.widget-view+json": {
       "model_id": "b0415b8846de4dbca3baf75cd9942158",
       "version_major": 2,
       "version_minor": 0
      },
      "text/plain": [
       "  0%|          | 0/20 [00:00<?, ?it/s]"
      ]
     },
     "metadata": {},
     "output_type": "display_data"
    },
    {
     "name": "stdout",
     "output_type": "stream",
     "text": [
      "INFO:tensorflow:Assets written to: models/text_model_group_1/text_model_14/assets\n"
     ]
    },
    {
     "name": "stderr",
     "output_type": "stream",
     "text": [
      "INFO:tensorflow:Assets written to: models/text_model_group_1/text_model_14/assets\n"
     ]
    },
    {
     "name": "stdout",
     "output_type": "stream",
     "text": [
      "\n",
      "15'th label prediction started\n",
      "count_one 77\n",
      "count_zero 77\n",
      "Epoch 1/6\n",
      "5/5 [==============================] - 1s 35ms/step - loss: 0.6956 - acc: 0.4675\n",
      "Epoch 2/6\n",
      "5/5 [==============================] - 0s 11ms/step - loss: 0.6286 - acc: 0.9870\n",
      "Epoch 3/6\n",
      "5/5 [==============================] - 0s 11ms/step - loss: 0.5438 - acc: 1.0000\n",
      "Epoch 4/6\n",
      "5/5 [==============================] - 0s 12ms/step - loss: 0.4167 - acc: 1.0000\n",
      "Epoch 5/6\n",
      "5/5 [==============================] - 0s 11ms/step - loss: 0.2730 - acc: 1.0000\n",
      "Epoch 6/6\n",
      "5/5 [==============================] - 0s 10ms/step - loss: 0.1456 - acc: 1.0000\n",
      "Predicting 15th label...\n"
     ]
    },
    {
     "data": {
      "application/vnd.jupyter.widget-view+json": {
       "model_id": "3ac40b19ffd04d86a683caad8f6aca98",
       "version_major": 2,
       "version_minor": 0
      },
      "text/plain": [
       "  0%|          | 0/20 [00:00<?, ?it/s]"
      ]
     },
     "metadata": {},
     "output_type": "display_data"
    },
    {
     "name": "stdout",
     "output_type": "stream",
     "text": [
      "INFO:tensorflow:Assets written to: models/text_model_group_1/text_model_15/assets\n"
     ]
    },
    {
     "name": "stderr",
     "output_type": "stream",
     "text": [
      "INFO:tensorflow:Assets written to: models/text_model_group_1/text_model_15/assets\n"
     ]
    },
    {
     "name": "stdout",
     "output_type": "stream",
     "text": [
      "\n",
      "16'th label prediction started\n",
      "count_one 3487\n",
      "count_zero 3487\n",
      "Epoch 1/6\n",
      "218/218 [==============================] - 3s 13ms/step - loss: 0.4654 - acc: 0.7833\n",
      "Epoch 2/6\n",
      "218/218 [==============================] - 2s 11ms/step - loss: 0.2025 - acc: 0.9230\n",
      "Epoch 3/6\n",
      "218/218 [==============================] - 2s 11ms/step - loss: 0.0543 - acc: 0.9848\n",
      "Epoch 4/6\n",
      "218/218 [==============================] - 2s 11ms/step - loss: 0.0075 - acc: 0.9990\n",
      "Epoch 5/6\n",
      "218/218 [==============================] - 2s 11ms/step - loss: 0.0028 - acc: 0.9996\n",
      "Epoch 6/6\n",
      "218/218 [==============================] - 2s 11ms/step - loss: 0.0019 - acc: 0.9997\n",
      "Predicting 16th label...\n"
     ]
    },
    {
     "data": {
      "application/vnd.jupyter.widget-view+json": {
       "model_id": "1bc266515a774da9bd4199411b183745",
       "version_major": 2,
       "version_minor": 0
      },
      "text/plain": [
       "  0%|          | 0/20 [00:00<?, ?it/s]"
      ]
     },
     "metadata": {},
     "output_type": "display_data"
    },
    {
     "name": "stdout",
     "output_type": "stream",
     "text": [
      "INFO:tensorflow:Assets written to: models/text_model_group_1/text_model_16/assets\n"
     ]
    },
    {
     "name": "stderr",
     "output_type": "stream",
     "text": [
      "INFO:tensorflow:Assets written to: models/text_model_group_1/text_model_16/assets\n"
     ]
    },
    {
     "name": "stdout",
     "output_type": "stream",
     "text": [
      "\n",
      "17'th label prediction started\n",
      "count_one 231\n",
      "count_zero 231\n",
      "Epoch 1/6\n",
      "15/15 [==============================] - 1s 19ms/step - loss: 0.6907 - acc: 0.5584\n",
      "Epoch 2/6\n",
      "15/15 [==============================] - 0s 11ms/step - loss: 0.5756 - acc: 0.9221\n",
      "Epoch 3/6\n",
      "15/15 [==============================] - 0s 11ms/step - loss: 0.3097 - acc: 0.9957\n",
      "Epoch 4/6\n",
      "15/15 [==============================] - 0s 11ms/step - loss: 0.0719 - acc: 1.0000\n",
      "Epoch 5/6\n",
      "15/15 [==============================] - 0s 10ms/step - loss: 0.0098 - acc: 1.0000\n",
      "Epoch 6/6\n",
      "15/15 [==============================] - 0s 11ms/step - loss: 0.0028 - acc: 1.0000\n",
      "Predicting 17th label...\n"
     ]
    },
    {
     "data": {
      "application/vnd.jupyter.widget-view+json": {
       "model_id": "fd1a82890acf482f870f4917a6cfcca0",
       "version_major": 2,
       "version_minor": 0
      },
      "text/plain": [
       "  0%|          | 0/20 [00:00<?, ?it/s]"
      ]
     },
     "metadata": {},
     "output_type": "display_data"
    },
    {
     "name": "stdout",
     "output_type": "stream",
     "text": [
      "INFO:tensorflow:Assets written to: models/text_model_group_1/text_model_17/assets\n"
     ]
    },
    {
     "name": "stderr",
     "output_type": "stream",
     "text": [
      "INFO:tensorflow:Assets written to: models/text_model_group_1/text_model_17/assets\n"
     ]
    },
    {
     "name": "stdout",
     "output_type": "stream",
     "text": [
      "\n",
      "18'th label prediction started\n",
      "count_one 1434\n",
      "count_zero 1434\n",
      "Epoch 1/6\n",
      "90/90 [==============================] - 2s 12ms/step - loss: 0.5955 - acc: 0.7015\n",
      "Epoch 2/6\n",
      "90/90 [==============================] - 1s 11ms/step - loss: 0.2370 - acc: 0.9093\n",
      "Epoch 3/6\n",
      "90/90 [==============================] - 1s 11ms/step - loss: 0.0463 - acc: 0.9899\n",
      "Epoch 4/6\n",
      "90/90 [==============================] - 1s 10ms/step - loss: 0.0094 - acc: 0.9990\n",
      "Epoch 5/6\n",
      "90/90 [==============================] - 1s 11ms/step - loss: 0.0040 - acc: 1.0000\n",
      "Epoch 6/6\n",
      "90/90 [==============================] - 1s 11ms/step - loss: 0.0011 - acc: 1.0000\n",
      "Predicting 18th label...\n"
     ]
    },
    {
     "data": {
      "application/vnd.jupyter.widget-view+json": {
       "model_id": "8ea90efd408f4f089fcb0eb75b63e248",
       "version_major": 2,
       "version_minor": 0
      },
      "text/plain": [
       "  0%|          | 0/20 [00:00<?, ?it/s]"
      ]
     },
     "metadata": {},
     "output_type": "display_data"
    },
    {
     "name": "stdout",
     "output_type": "stream",
     "text": [
      "INFO:tensorflow:Assets written to: models/text_model_group_1/text_model_18/assets\n"
     ]
    },
    {
     "name": "stderr",
     "output_type": "stream",
     "text": [
      "INFO:tensorflow:Assets written to: models/text_model_group_1/text_model_18/assets\n"
     ]
    },
    {
     "name": "stdout",
     "output_type": "stream",
     "text": [
      "\n",
      "19'th label prediction started\n",
      "count_one 78\n",
      "count_zero 78\n",
      "Epoch 1/6\n",
      "5/5 [==============================] - 1s 45ms/step - loss: 0.6973 - acc: 0.4615\n",
      "Epoch 2/6\n",
      "5/5 [==============================] - 0s 11ms/step - loss: 0.6382 - acc: 1.0000\n",
      "Epoch 3/6\n",
      "5/5 [==============================] - 0s 10ms/step - loss: 0.5675 - acc: 1.0000\n",
      "Epoch 4/6\n",
      "5/5 [==============================] - 0s 11ms/step - loss: 0.4621 - acc: 1.0000\n",
      "Epoch 5/6\n",
      "5/5 [==============================] - 0s 11ms/step - loss: 0.3235 - acc: 1.0000\n",
      "Epoch 6/6\n",
      "5/5 [==============================] - 0s 11ms/step - loss: 0.1894 - acc: 1.0000\n",
      "Predicting 19th label...\n"
     ]
    },
    {
     "data": {
      "application/vnd.jupyter.widget-view+json": {
       "model_id": "4637993fbb38490da4256aeaace08dbf",
       "version_major": 2,
       "version_minor": 0
      },
      "text/plain": [
       "  0%|          | 0/20 [00:00<?, ?it/s]"
      ]
     },
     "metadata": {},
     "output_type": "display_data"
    },
    {
     "name": "stdout",
     "output_type": "stream",
     "text": [
      "INFO:tensorflow:Assets written to: models/text_model_group_1/text_model_19/assets\n"
     ]
    },
    {
     "name": "stderr",
     "output_type": "stream",
     "text": [
      "INFO:tensorflow:Assets written to: models/text_model_group_1/text_model_19/assets\n"
     ]
    },
    {
     "name": "stdout",
     "output_type": "stream",
     "text": [
      "\n",
      "20'th label prediction started\n",
      "count_one 151\n",
      "count_zero 151\n",
      "Epoch 1/6\n",
      "10/10 [==============================] - 1s 21ms/step - loss: 0.7098 - acc: 0.4536\n",
      "Epoch 2/6\n",
      "10/10 [==============================] - 0s 10ms/step - loss: 0.6111 - acc: 0.9603\n",
      "Epoch 3/6\n",
      "10/10 [==============================] - 0s 10ms/step - loss: 0.4501 - acc: 0.9735\n",
      "Epoch 4/6\n",
      "10/10 [==============================] - 0s 9ms/step - loss: 0.2120 - acc: 0.9768\n",
      "Epoch 5/6\n",
      "10/10 [==============================] - 0s 10ms/step - loss: 0.0724 - acc: 0.9934\n",
      "Epoch 6/6\n",
      "10/10 [==============================] - 0s 11ms/step - loss: 0.0212 - acc: 1.0000\n",
      "Predicting 20th label...\n"
     ]
    },
    {
     "data": {
      "application/vnd.jupyter.widget-view+json": {
       "model_id": "54bdfa68ddd540b6b5d1b77dbf7093c2",
       "version_major": 2,
       "version_minor": 0
      },
      "text/plain": [
       "  0%|          | 0/20 [00:00<?, ?it/s]"
      ]
     },
     "metadata": {},
     "output_type": "display_data"
    },
    {
     "name": "stdout",
     "output_type": "stream",
     "text": [
      "INFO:tensorflow:Assets written to: models/text_model_group_1/text_model_20/assets\n"
     ]
    },
    {
     "name": "stderr",
     "output_type": "stream",
     "text": [
      "INFO:tensorflow:Assets written to: models/text_model_group_1/text_model_20/assets\n"
     ]
    },
    {
     "name": "stdout",
     "output_type": "stream",
     "text": [
      "\n",
      "21'th label prediction started\n",
      "count_one 1685\n",
      "count_zero 1685\n",
      "Epoch 1/6\n",
      "106/106 [==============================] - 2s 12ms/step - loss: 0.4925 - acc: 0.7724\n",
      "Epoch 2/6\n",
      "106/106 [==============================] - 1s 11ms/step - loss: 0.2031 - acc: 0.9252\n",
      "Epoch 3/6\n",
      "106/106 [==============================] - 1s 11ms/step - loss: 0.0536 - acc: 0.9849\n",
      "Epoch 4/6\n",
      "106/106 [==============================] - 1s 11ms/step - loss: 0.0251 - acc: 0.9932\n",
      "Epoch 5/6\n",
      "106/106 [==============================] - 1s 11ms/step - loss: 0.0105 - acc: 0.9979\n",
      "Epoch 6/6\n",
      "106/106 [==============================] - 1s 11ms/step - loss: 0.0019 - acc: 1.0000\n",
      "Predicting 21th label...\n"
     ]
    },
    {
     "data": {
      "application/vnd.jupyter.widget-view+json": {
       "model_id": "e9e638a9f20542aabe4a1e8761de2fab",
       "version_major": 2,
       "version_minor": 0
      },
      "text/plain": [
       "  0%|          | 0/20 [00:00<?, ?it/s]"
      ]
     },
     "metadata": {},
     "output_type": "display_data"
    },
    {
     "name": "stdout",
     "output_type": "stream",
     "text": [
      "INFO:tensorflow:Assets written to: models/text_model_group_1/text_model_21/assets\n"
     ]
    },
    {
     "name": "stderr",
     "output_type": "stream",
     "text": [
      "INFO:tensorflow:Assets written to: models/text_model_group_1/text_model_21/assets\n"
     ]
    },
    {
     "name": "stdout",
     "output_type": "stream",
     "text": [
      "\n",
      "22'th label prediction started\n",
      "count_one 106\n",
      "count_zero 106\n",
      "Epoch 1/6\n",
      "7/7 [==============================] - 1s 31ms/step - loss: 0.6866 - acc: 0.5283\n",
      "Epoch 2/6\n",
      "7/7 [==============================] - 0s 11ms/step - loss: 0.5784 - acc: 0.9387\n",
      "Epoch 3/6\n",
      "7/7 [==============================] - 0s 11ms/step - loss: 0.4362 - acc: 0.9764\n",
      "Epoch 4/6\n",
      "7/7 [==============================] - 0s 11ms/step - loss: 0.2708 - acc: 0.9906\n",
      "Epoch 5/6\n",
      "7/7 [==============================] - 0s 11ms/step - loss: 0.1510 - acc: 0.9906\n",
      "Epoch 6/6\n",
      "7/7 [==============================] - 0s 10ms/step - loss: 0.0743 - acc: 0.9906\n",
      "Predicting 22th label...\n"
     ]
    },
    {
     "data": {
      "application/vnd.jupyter.widget-view+json": {
       "model_id": "cb25c186008241dc803c7bfe989219d3",
       "version_major": 2,
       "version_minor": 0
      },
      "text/plain": [
       "  0%|          | 0/20 [00:00<?, ?it/s]"
      ]
     },
     "metadata": {},
     "output_type": "display_data"
    },
    {
     "name": "stdout",
     "output_type": "stream",
     "text": [
      "INFO:tensorflow:Assets written to: models/text_model_group_1/text_model_22/assets\n"
     ]
    },
    {
     "name": "stderr",
     "output_type": "stream",
     "text": [
      "INFO:tensorflow:Assets written to: models/text_model_group_1/text_model_22/assets\n"
     ]
    },
    {
     "name": "stdout",
     "output_type": "stream",
     "text": [
      "\n",
      "23'th label prediction started\n",
      "count_one 1797\n",
      "count_zero 1797\n",
      "Epoch 1/6\n",
      "113/113 [==============================] - 2s 15ms/step - loss: 0.5354 - acc: 0.7315\n",
      "Epoch 2/6\n",
      "113/113 [==============================] - 1s 11ms/step - loss: 0.2569 - acc: 0.9032\n",
      "Epoch 3/6\n",
      "113/113 [==============================] - 1s 10ms/step - loss: 0.0764 - acc: 0.9791\n",
      "Epoch 4/6\n",
      "113/113 [==============================] - 1s 10ms/step - loss: 0.0161 - acc: 0.9978\n",
      "Epoch 5/6\n",
      "113/113 [==============================] - 1s 11ms/step - loss: 0.0040 - acc: 1.0000\n",
      "Epoch 6/6\n",
      "113/113 [==============================] - 1s 11ms/step - loss: 0.0021 - acc: 1.0000\n",
      "Predicting 23th label...\n"
     ]
    },
    {
     "data": {
      "application/vnd.jupyter.widget-view+json": {
       "model_id": "3612ead8b78342c397973d75a5419fff",
       "version_major": 2,
       "version_minor": 0
      },
      "text/plain": [
       "  0%|          | 0/20 [00:00<?, ?it/s]"
      ]
     },
     "metadata": {},
     "output_type": "display_data"
    },
    {
     "name": "stdout",
     "output_type": "stream",
     "text": [
      "INFO:tensorflow:Assets written to: models/text_model_group_1/text_model_23/assets\n"
     ]
    },
    {
     "name": "stderr",
     "output_type": "stream",
     "text": [
      "INFO:tensorflow:Assets written to: models/text_model_group_1/text_model_23/assets\n"
     ]
    },
    {
     "name": "stdout",
     "output_type": "stream",
     "text": [
      "\n",
      "24'th label prediction started\n",
      "count_one 244\n",
      "count_zero 244\n",
      "Epoch 1/6\n",
      "16/16 [==============================] - 1s 16ms/step - loss: 0.6900 - acc: 0.5123\n",
      "Epoch 2/6\n",
      "16/16 [==============================] - 0s 10ms/step - loss: 0.5799 - acc: 0.9590\n",
      "Epoch 3/6\n",
      "16/16 [==============================] - 0s 11ms/step - loss: 0.3023 - acc: 0.9939\n",
      "Epoch 4/6\n",
      "16/16 [==============================] - 0s 11ms/step - loss: 0.0645 - acc: 0.9980\n",
      "Epoch 5/6\n",
      "16/16 [==============================] - 0s 10ms/step - loss: 0.0099 - acc: 1.0000\n",
      "Epoch 6/6\n",
      "16/16 [==============================] - 0s 10ms/step - loss: 0.0032 - acc: 1.0000\n",
      "Predicting 24th label...\n"
     ]
    },
    {
     "data": {
      "application/vnd.jupyter.widget-view+json": {
       "model_id": "0ecfac76c1fe425391fa83623f00b0e3",
       "version_major": 2,
       "version_minor": 0
      },
      "text/plain": [
       "  0%|          | 0/20 [00:00<?, ?it/s]"
      ]
     },
     "metadata": {},
     "output_type": "display_data"
    },
    {
     "name": "stdout",
     "output_type": "stream",
     "text": [
      "INFO:tensorflow:Assets written to: models/text_model_group_1/text_model_24/assets\n"
     ]
    },
    {
     "name": "stderr",
     "output_type": "stream",
     "text": [
      "INFO:tensorflow:Assets written to: models/text_model_group_1/text_model_24/assets\n"
     ]
    },
    {
     "name": "stdout",
     "output_type": "stream",
     "text": [
      "\n",
      "25'th label prediction started\n",
      "count_one 89\n",
      "count_zero 89\n",
      "Epoch 1/6\n",
      "6/6 [==============================] - 1s 31ms/step - loss: 0.6885 - acc: 0.5337\n",
      "Epoch 2/6\n",
      "6/6 [==============================] - 0s 9ms/step - loss: 0.6174 - acc: 0.9831\n",
      "Epoch 3/6\n",
      "6/6 [==============================] - 0s 11ms/step - loss: 0.4989 - acc: 1.0000\n",
      "Epoch 4/6\n",
      "6/6 [==============================] - 0s 11ms/step - loss: 0.3355 - acc: 1.0000\n",
      "Epoch 5/6\n",
      "6/6 [==============================] - 0s 10ms/step - loss: 0.1700 - acc: 1.0000\n",
      "Epoch 6/6\n",
      "6/6 [==============================] - 0s 9ms/step - loss: 0.0654 - acc: 1.0000\n",
      "Predicting 25th label...\n"
     ]
    },
    {
     "data": {
      "application/vnd.jupyter.widget-view+json": {
       "model_id": "5f30926d5bb74e1d81850765ab95a5a3",
       "version_major": 2,
       "version_minor": 0
      },
      "text/plain": [
       "  0%|          | 0/20 [00:00<?, ?it/s]"
      ]
     },
     "metadata": {},
     "output_type": "display_data"
    },
    {
     "name": "stdout",
     "output_type": "stream",
     "text": [
      "INFO:tensorflow:Assets written to: models/text_model_group_1/text_model_25/assets\n"
     ]
    },
    {
     "name": "stderr",
     "output_type": "stream",
     "text": [
      "INFO:tensorflow:Assets written to: models/text_model_group_1/text_model_25/assets\n"
     ]
    },
    {
     "name": "stdout",
     "output_type": "stream",
     "text": [
      "\n",
      "26'th label prediction started\n",
      "count_one 1033\n",
      "count_zero 1033\n",
      "Epoch 1/6\n",
      "65/65 [==============================] - 2s 16ms/step - loss: 0.5761 - acc: 0.7241\n",
      "Epoch 2/6\n",
      "65/65 [==============================] - 1s 11ms/step - loss: 0.2373 - acc: 0.8988\n",
      "Epoch 3/6\n",
      "65/65 [==============================] - 1s 11ms/step - loss: 0.0484 - acc: 0.9894\n",
      "Epoch 4/6\n",
      "65/65 [==============================] - 1s 11ms/step - loss: 0.0114 - acc: 0.9990\n",
      "Epoch 5/6\n",
      "65/65 [==============================] - 1s 11ms/step - loss: 0.0029 - acc: 1.0000\n",
      "Epoch 6/6\n",
      "65/65 [==============================] - 1s 11ms/step - loss: 0.0013 - acc: 1.0000\n",
      "Predicting 26th label...\n"
     ]
    },
    {
     "data": {
      "application/vnd.jupyter.widget-view+json": {
       "model_id": "215e0f3c0ab34dc0aea8bcb4b5dfbb9d",
       "version_major": 2,
       "version_minor": 0
      },
      "text/plain": [
       "  0%|          | 0/20 [00:00<?, ?it/s]"
      ]
     },
     "metadata": {},
     "output_type": "display_data"
    },
    {
     "name": "stdout",
     "output_type": "stream",
     "text": [
      "INFO:tensorflow:Assets written to: models/text_model_group_1/text_model_26/assets\n"
     ]
    },
    {
     "name": "stderr",
     "output_type": "stream",
     "text": [
      "INFO:tensorflow:Assets written to: models/text_model_group_1/text_model_26/assets\n"
     ]
    },
    {
     "name": "stdout",
     "output_type": "stream",
     "text": [
      "\n",
      "27'th label prediction started\n",
      "count_one 295\n",
      "count_zero 295\n",
      "Epoch 1/6\n",
      "19/19 [==============================] - 1s 17ms/step - loss: 0.6939 - acc: 0.5458\n",
      "Epoch 2/6\n",
      "19/19 [==============================] - 0s 10ms/step - loss: 0.5734 - acc: 0.8424\n",
      "Epoch 3/6\n",
      "19/19 [==============================] - 0s 9ms/step - loss: 0.2556 - acc: 0.9729\n",
      "Epoch 4/6\n",
      "19/19 [==============================] - 0s 10ms/step - loss: 0.0488 - acc: 0.9966\n",
      "Epoch 5/6\n",
      "19/19 [==============================] - 0s 11ms/step - loss: 0.0073 - acc: 1.0000\n",
      "Epoch 6/6\n",
      "19/19 [==============================] - 0s 11ms/step - loss: 0.0025 - acc: 1.0000\n",
      "Predicting 27th label...\n"
     ]
    },
    {
     "data": {
      "application/vnd.jupyter.widget-view+json": {
       "model_id": "511caa45f7f24950a2e8dc5b476cb1eb",
       "version_major": 2,
       "version_minor": 0
      },
      "text/plain": [
       "  0%|          | 0/20 [00:00<?, ?it/s]"
      ]
     },
     "metadata": {},
     "output_type": "display_data"
    },
    {
     "name": "stdout",
     "output_type": "stream",
     "text": [
      "INFO:tensorflow:Assets written to: models/text_model_group_1/text_model_27/assets\n"
     ]
    },
    {
     "name": "stderr",
     "output_type": "stream",
     "text": [
      "INFO:tensorflow:Assets written to: models/text_model_group_1/text_model_27/assets\n"
     ]
    },
    {
     "name": "stdout",
     "output_type": "stream",
     "text": [
      "\n",
      "28'th label prediction started\n",
      "count_one 4389\n",
      "count_zero 4389\n",
      "Epoch 1/6\n",
      "275/275 [==============================] - 4s 11ms/step - loss: 0.4624 - acc: 0.7846\n",
      "Epoch 2/6\n",
      "275/275 [==============================] - 3s 11ms/step - loss: 0.2388 - acc: 0.9072\n",
      "Epoch 3/6\n",
      "275/275 [==============================] - 3s 10ms/step - loss: 0.0797 - acc: 0.9772\n",
      "Epoch 4/6\n",
      "275/275 [==============================] - 3s 10ms/step - loss: 0.0191 - acc: 0.9962\n",
      "Epoch 5/6\n",
      "275/275 [==============================] - 3s 11ms/step - loss: 0.0039 - acc: 0.9993\n",
      "Epoch 6/6\n",
      "275/275 [==============================] - 3s 10ms/step - loss: 0.0017 - acc: 0.9997\n",
      "Predicting 28th label...\n"
     ]
    },
    {
     "data": {
      "application/vnd.jupyter.widget-view+json": {
       "model_id": "a84bc71a823d40cbba48c4e575d9e1b5",
       "version_major": 2,
       "version_minor": 0
      },
      "text/plain": [
       "  0%|          | 0/20 [00:00<?, ?it/s]"
      ]
     },
     "metadata": {},
     "output_type": "display_data"
    },
    {
     "name": "stdout",
     "output_type": "stream",
     "text": [
      "INFO:tensorflow:Assets written to: models/text_model_group_1/text_model_28/assets\n"
     ]
    },
    {
     "name": "stderr",
     "output_type": "stream",
     "text": [
      "INFO:tensorflow:Assets written to: models/text_model_group_1/text_model_28/assets\n"
     ]
    },
    {
     "name": "stdout",
     "output_type": "stream",
     "text": [
      "\n",
      "29'th label prediction started\n",
      "count_one 98\n",
      "count_zero 98\n",
      "Epoch 1/6\n",
      "7/7 [==============================] - 1s 69ms/step - loss: 0.6997 - acc: 0.4439\n",
      "Epoch 2/6\n",
      "7/7 [==============================] - 0s 11ms/step - loss: 0.6315 - acc: 0.9082\n",
      "Epoch 3/6\n",
      "7/7 [==============================] - 0s 12ms/step - loss: 0.5494 - acc: 0.9898\n",
      "Epoch 4/6\n",
      "7/7 [==============================] - 0s 10ms/step - loss: 0.4053 - acc: 1.0000\n",
      "Epoch 5/6\n",
      "7/7 [==============================] - 0s 10ms/step - loss: 0.2340 - acc: 1.0000\n",
      "Epoch 6/6\n",
      "7/7 [==============================] - 0s 12ms/step - loss: 0.1022 - acc: 1.0000\n",
      "Predicting 29th label...\n"
     ]
    },
    {
     "data": {
      "application/vnd.jupyter.widget-view+json": {
       "model_id": "f721616a945b44b4b933207ae460b6b7",
       "version_major": 2,
       "version_minor": 0
      },
      "text/plain": [
       "  0%|          | 0/20 [00:00<?, ?it/s]"
      ]
     },
     "metadata": {},
     "output_type": "display_data"
    },
    {
     "name": "stdout",
     "output_type": "stream",
     "text": [
      "INFO:tensorflow:Assets written to: models/text_model_group_1/text_model_29/assets\n"
     ]
    },
    {
     "name": "stderr",
     "output_type": "stream",
     "text": [
      "INFO:tensorflow:Assets written to: models/text_model_group_1/text_model_29/assets\n"
     ]
    },
    {
     "name": "stdout",
     "output_type": "stream",
     "text": [
      "\n",
      "30'th label prediction started\n",
      "count_one 380\n",
      "count_zero 380\n",
      "Epoch 1/6\n",
      "24/24 [==============================] - 1s 15ms/step - loss: 0.6871 - acc: 0.5539\n",
      "Epoch 2/6\n",
      "24/24 [==============================] - 0s 11ms/step - loss: 0.5377 - acc: 0.7553\n",
      "Epoch 3/6\n",
      "24/24 [==============================] - 0s 11ms/step - loss: 0.2216 - acc: 0.9711\n",
      "Epoch 4/6\n",
      "24/24 [==============================] - 0s 10ms/step - loss: 0.0335 - acc: 0.9974\n",
      "Epoch 5/6\n",
      "24/24 [==============================] - 0s 11ms/step - loss: 0.0057 - acc: 1.0000\n",
      "Epoch 6/6\n",
      "24/24 [==============================] - 0s 11ms/step - loss: 0.0024 - acc: 1.0000\n",
      "Predicting 30th label...\n"
     ]
    },
    {
     "data": {
      "application/vnd.jupyter.widget-view+json": {
       "model_id": "9f99702d39214510bfbdcc807a7f6d21",
       "version_major": 2,
       "version_minor": 0
      },
      "text/plain": [
       "  0%|          | 0/20 [00:00<?, ?it/s]"
      ]
     },
     "metadata": {},
     "output_type": "display_data"
    },
    {
     "name": "stdout",
     "output_type": "stream",
     "text": [
      "INFO:tensorflow:Assets written to: models/text_model_group_1/text_model_30/assets\n"
     ]
    },
    {
     "name": "stderr",
     "output_type": "stream",
     "text": [
      "INFO:tensorflow:Assets written to: models/text_model_group_1/text_model_30/assets\n"
     ]
    },
    {
     "name": "stdout",
     "output_type": "stream",
     "text": [
      "\n",
      "31'th label prediction started\n",
      "count_one 2164\n",
      "count_zero 2164\n",
      "Epoch 1/6\n",
      "136/136 [==============================] - 2s 11ms/step - loss: 0.5294 - acc: 0.7308\n",
      "Epoch 2/6\n",
      "136/136 [==============================] - 1s 11ms/step - loss: 0.2107 - acc: 0.9175\n",
      "Epoch 3/6\n",
      "136/136 [==============================] - 1s 11ms/step - loss: 0.0500 - acc: 0.9859\n",
      "Epoch 4/6\n",
      "136/136 [==============================] - 1s 11ms/step - loss: 0.0056 - acc: 0.9995\n",
      "Epoch 5/6\n",
      "136/136 [==============================] - 1s 11ms/step - loss: 0.0015 - acc: 1.0000\n",
      "Epoch 6/6\n",
      "136/136 [==============================] - 1s 10ms/step - loss: 8.1430e-04 - acc: 1.0000\n",
      "Predicting 31th label...\n"
     ]
    },
    {
     "data": {
      "application/vnd.jupyter.widget-view+json": {
       "model_id": "0d6e54a5fbbc43178f10b5b238d1ae74",
       "version_major": 2,
       "version_minor": 0
      },
      "text/plain": [
       "  0%|          | 0/20 [00:00<?, ?it/s]"
      ]
     },
     "metadata": {},
     "output_type": "display_data"
    },
    {
     "name": "stdout",
     "output_type": "stream",
     "text": [
      "INFO:tensorflow:Assets written to: models/text_model_group_1/text_model_31/assets\n"
     ]
    },
    {
     "name": "stderr",
     "output_type": "stream",
     "text": [
      "INFO:tensorflow:Assets written to: models/text_model_group_1/text_model_31/assets\n"
     ]
    },
    {
     "name": "stdout",
     "output_type": "stream",
     "text": [
      "\n",
      "32'th label prediction started\n",
      "count_one 2551\n",
      "count_zero 2551\n",
      "Epoch 1/6\n",
      "160/160 [==============================] - 2s 11ms/step - loss: 0.6057 - acc: 0.6742\n",
      "Epoch 2/6\n",
      "160/160 [==============================] - 2s 11ms/step - loss: 0.3683 - acc: 0.8544\n",
      "Epoch 3/6\n",
      "160/160 [==============================] - 2s 11ms/step - loss: 0.1254 - acc: 0.9633\n",
      "Epoch 4/6\n",
      "160/160 [==============================] - 2s 11ms/step - loss: 0.0265 - acc: 0.9943\n",
      "Epoch 5/6\n",
      "160/160 [==============================] - 2s 11ms/step - loss: 0.0109 - acc: 0.9978\n",
      "Epoch 6/6\n",
      "160/160 [==============================] - 2s 11ms/step - loss: 0.0025 - acc: 1.0000\n",
      "Predicting 32th label...\n"
     ]
    },
    {
     "data": {
      "application/vnd.jupyter.widget-view+json": {
       "model_id": "348854e8a0a447bb8059ea9c01053089",
       "version_major": 2,
       "version_minor": 0
      },
      "text/plain": [
       "  0%|          | 0/20 [00:00<?, ?it/s]"
      ]
     },
     "metadata": {},
     "output_type": "display_data"
    },
    {
     "name": "stdout",
     "output_type": "stream",
     "text": [
      "INFO:tensorflow:Assets written to: models/text_model_group_1/text_model_32/assets\n"
     ]
    },
    {
     "name": "stderr",
     "output_type": "stream",
     "text": [
      "INFO:tensorflow:Assets written to: models/text_model_group_1/text_model_32/assets\n"
     ]
    },
    {
     "name": "stdout",
     "output_type": "stream",
     "text": [
      "\n",
      "33'th label prediction started\n",
      "count_one 69\n",
      "count_zero 69\n",
      "Epoch 1/6\n",
      "5/5 [==============================] - 1s 31ms/step - loss: 0.7121 - acc: 0.4130\n",
      "Epoch 2/6\n",
      "5/5 [==============================] - 0s 10ms/step - loss: 0.6388 - acc: 0.8623\n",
      "Epoch 3/6\n",
      "5/5 [==============================] - 0s 10ms/step - loss: 0.5792 - acc: 1.0000\n",
      "Epoch 4/6\n",
      "5/5 [==============================] - 0s 11ms/step - loss: 0.4902 - acc: 1.0000\n",
      "Epoch 5/6\n",
      "5/5 [==============================] - 0s 11ms/step - loss: 0.3662 - acc: 1.0000\n",
      "Epoch 6/6\n",
      "5/5 [==============================] - 0s 10ms/step - loss: 0.2227 - acc: 1.0000\n",
      "Predicting 33th label...\n"
     ]
    },
    {
     "data": {
      "application/vnd.jupyter.widget-view+json": {
       "model_id": "90b90801f8074075bab1c5934af7863e",
       "version_major": 2,
       "version_minor": 0
      },
      "text/plain": [
       "  0%|          | 0/20 [00:00<?, ?it/s]"
      ]
     },
     "metadata": {},
     "output_type": "display_data"
    },
    {
     "name": "stdout",
     "output_type": "stream",
     "text": [
      "INFO:tensorflow:Assets written to: models/text_model_group_1/text_model_33/assets\n"
     ]
    },
    {
     "name": "stderr",
     "output_type": "stream",
     "text": [
      "INFO:tensorflow:Assets written to: models/text_model_group_1/text_model_33/assets\n"
     ]
    },
    {
     "name": "stdout",
     "output_type": "stream",
     "text": [
      "\n",
      "34'th label prediction started\n",
      "count_one 348\n",
      "count_zero 348\n",
      "Epoch 1/6\n",
      "22/22 [==============================] - 1s 16ms/step - loss: 0.6823 - acc: 0.5761\n",
      "Epoch 2/6\n",
      "22/22 [==============================] - 0s 11ms/step - loss: 0.5209 - acc: 0.7759\n",
      "Epoch 3/6\n",
      "22/22 [==============================] - 0s 10ms/step - loss: 0.2631 - acc: 0.9267\n",
      "Epoch 4/6\n",
      "22/22 [==============================] - 0s 10ms/step - loss: 0.0743 - acc: 0.9856\n",
      "Epoch 5/6\n",
      "22/22 [==============================] - 0s 11ms/step - loss: 0.0212 - acc: 1.0000\n",
      "Epoch 6/6\n",
      "22/22 [==============================] - 0s 11ms/step - loss: 0.0054 - acc: 1.0000\n",
      "Predicting 34th label...\n"
     ]
    },
    {
     "data": {
      "application/vnd.jupyter.widget-view+json": {
       "model_id": "4288609751404e88bed862da64a78340",
       "version_major": 2,
       "version_minor": 0
      },
      "text/plain": [
       "  0%|          | 0/20 [00:00<?, ?it/s]"
      ]
     },
     "metadata": {},
     "output_type": "display_data"
    },
    {
     "name": "stdout",
     "output_type": "stream",
     "text": [
      "INFO:tensorflow:Assets written to: models/text_model_group_1/text_model_34/assets\n"
     ]
    },
    {
     "name": "stderr",
     "output_type": "stream",
     "text": [
      "INFO:tensorflow:Assets written to: models/text_model_group_1/text_model_34/assets\n"
     ]
    },
    {
     "name": "stdout",
     "output_type": "stream",
     "text": [
      "\n",
      "35'th label prediction started\n",
      "count_one 213\n",
      "count_zero 213\n",
      "Epoch 1/6\n",
      "14/14 [==============================] - 1s 19ms/step - loss: 0.6993 - acc: 0.5070\n",
      "Epoch 2/6\n",
      "14/14 [==============================] - 0s 10ms/step - loss: 0.6155 - acc: 0.6972\n",
      "Epoch 3/6\n",
      "14/14 [==============================] - 0s 11ms/step - loss: 0.4236 - acc: 1.0000\n",
      "Epoch 4/6\n",
      "14/14 [==============================] - 0s 11ms/step - loss: 0.1723 - acc: 1.0000\n",
      "Epoch 5/6\n",
      "14/14 [==============================] - 0s 11ms/step - loss: 0.0384 - acc: 1.0000\n",
      "Epoch 6/6\n",
      "14/14 [==============================] - 0s 10ms/step - loss: 0.0098 - acc: 1.0000\n",
      "Predicting 35th label...\n"
     ]
    },
    {
     "data": {
      "application/vnd.jupyter.widget-view+json": {
       "model_id": "3b52b39a8a034e999078785dee7f14f5",
       "version_major": 2,
       "version_minor": 0
      },
      "text/plain": [
       "  0%|          | 0/20 [00:00<?, ?it/s]"
      ]
     },
     "metadata": {},
     "output_type": "display_data"
    },
    {
     "name": "stdout",
     "output_type": "stream",
     "text": [
      "INFO:tensorflow:Assets written to: models/text_model_group_1/text_model_35/assets\n"
     ]
    },
    {
     "name": "stderr",
     "output_type": "stream",
     "text": [
      "INFO:tensorflow:Assets written to: models/text_model_group_1/text_model_35/assets\n"
     ]
    },
    {
     "name": "stdout",
     "output_type": "stream",
     "text": [
      "\n",
      "36'th label prediction started\n",
      "count_one 74\n",
      "count_zero 74\n",
      "Epoch 1/6\n",
      "5/5 [==============================] - 1s 37ms/step - loss: 0.6992 - acc: 0.4865\n",
      "Epoch 2/6\n",
      "5/5 [==============================] - 0s 11ms/step - loss: 0.6386 - acc: 0.9324\n",
      "Epoch 3/6\n",
      "5/5 [==============================] - 0s 10ms/step - loss: 0.5683 - acc: 0.9865\n",
      "Epoch 4/6\n",
      "5/5 [==============================] - 0s 11ms/step - loss: 0.4637 - acc: 1.0000\n",
      "Epoch 5/6\n",
      "5/5 [==============================] - 0s 11ms/step - loss: 0.3325 - acc: 1.0000\n",
      "Epoch 6/6\n",
      "5/5 [==============================] - 0s 11ms/step - loss: 0.1994 - acc: 1.0000\n",
      "Predicting 36th label...\n"
     ]
    },
    {
     "data": {
      "application/vnd.jupyter.widget-view+json": {
       "model_id": "7a9b654d8f6746329638c92d686be1bd",
       "version_major": 2,
       "version_minor": 0
      },
      "text/plain": [
       "  0%|          | 0/20 [00:00<?, ?it/s]"
      ]
     },
     "metadata": {},
     "output_type": "display_data"
    },
    {
     "name": "stdout",
     "output_type": "stream",
     "text": [
      "INFO:tensorflow:Assets written to: models/text_model_group_1/text_model_36/assets\n"
     ]
    },
    {
     "name": "stderr",
     "output_type": "stream",
     "text": [
      "INFO:tensorflow:Assets written to: models/text_model_group_1/text_model_36/assets\n"
     ]
    },
    {
     "name": "stdout",
     "output_type": "stream",
     "text": [
      "\n",
      "37'th label prediction started\n",
      "count_one 231\n",
      "count_zero 231\n",
      "Epoch 1/6\n",
      "15/15 [==============================] - 1s 11ms/step - loss: 0.6931 - acc: 0.5087\n",
      "Epoch 2/6\n",
      "15/15 [==============================] - 0s 11ms/step - loss: 0.6084 - acc: 0.8766\n",
      "Epoch 3/6\n",
      "15/15 [==============================] - 0s 10ms/step - loss: 0.3667 - acc: 0.9632\n",
      "Epoch 4/6\n",
      "15/15 [==============================] - 0s 11ms/step - loss: 0.1274 - acc: 0.9762\n",
      "Epoch 5/6\n",
      "15/15 [==============================] - 0s 11ms/step - loss: 0.0240 - acc: 1.0000\n",
      "Epoch 6/6\n",
      "15/15 [==============================] - 0s 11ms/step - loss: 0.0057 - acc: 1.0000\n",
      "Predicting 37th label...\n"
     ]
    },
    {
     "data": {
      "application/vnd.jupyter.widget-view+json": {
       "model_id": "097328a006a448b685bfd60e57ab03bc",
       "version_major": 2,
       "version_minor": 0
      },
      "text/plain": [
       "  0%|          | 0/20 [00:00<?, ?it/s]"
      ]
     },
     "metadata": {},
     "output_type": "display_data"
    },
    {
     "name": "stdout",
     "output_type": "stream",
     "text": [
      "INFO:tensorflow:Assets written to: models/text_model_group_1/text_model_37/assets\n"
     ]
    },
    {
     "name": "stderr",
     "output_type": "stream",
     "text": [
      "INFO:tensorflow:Assets written to: models/text_model_group_1/text_model_37/assets\n"
     ]
    },
    {
     "name": "stdout",
     "output_type": "stream",
     "text": [
      "\n",
      "38'th label prediction started\n",
      "count_one 377\n",
      "count_zero 377\n",
      "Epoch 1/6\n",
      "24/24 [==============================] - 1s 11ms/step - loss: 0.6591 - acc: 0.6141\n",
      "Epoch 2/6\n",
      "24/24 [==============================] - 0s 11ms/step - loss: 0.3645 - acc: 0.9019\n",
      "Epoch 3/6\n",
      "24/24 [==============================] - 0s 11ms/step - loss: 0.0961 - acc: 0.9881\n",
      "Epoch 4/6\n",
      "24/24 [==============================] - 0s 11ms/step - loss: 0.0157 - acc: 0.9987\n",
      "Epoch 5/6\n",
      "24/24 [==============================] - 0s 11ms/step - loss: 0.0039 - acc: 1.0000\n",
      "Epoch 6/6\n",
      "24/24 [==============================] - 0s 11ms/step - loss: 0.0019 - acc: 1.0000\n",
      "Predicting 38th label...\n"
     ]
    },
    {
     "data": {
      "application/vnd.jupyter.widget-view+json": {
       "model_id": "7d4a7b539d4a49d3b864b3fa411a7aff",
       "version_major": 2,
       "version_minor": 0
      },
      "text/plain": [
       "  0%|          | 0/20 [00:00<?, ?it/s]"
      ]
     },
     "metadata": {},
     "output_type": "display_data"
    },
    {
     "name": "stdout",
     "output_type": "stream",
     "text": [
      "INFO:tensorflow:Assets written to: models/text_model_group_1/text_model_38/assets\n"
     ]
    },
    {
     "name": "stderr",
     "output_type": "stream",
     "text": [
      "INFO:tensorflow:Assets written to: models/text_model_group_1/text_model_38/assets\n"
     ]
    },
    {
     "name": "stdout",
     "output_type": "stream",
     "text": [
      "\n",
      "39'th label prediction started\n",
      "count_one 82\n",
      "count_zero 82\n",
      "Epoch 1/6\n",
      "6/6 [==============================] - 1s 26ms/step - loss: 0.6950 - acc: 0.4878\n",
      "Epoch 2/6\n",
      "6/6 [==============================] - 0s 10ms/step - loss: 0.6232 - acc: 0.8780\n",
      "Epoch 3/6\n",
      "6/6 [==============================] - 0s 11ms/step - loss: 0.5233 - acc: 0.9817\n",
      "Epoch 4/6\n",
      "6/6 [==============================] - 0s 12ms/step - loss: 0.3831 - acc: 0.9939\n",
      "Epoch 5/6\n",
      "6/6 [==============================] - 0s 11ms/step - loss: 0.2291 - acc: 0.9939\n",
      "Epoch 6/6\n",
      "6/6 [==============================] - 0s 11ms/step - loss: 0.1180 - acc: 0.9939\n",
      "Predicting 39th label...\n"
     ]
    },
    {
     "data": {
      "application/vnd.jupyter.widget-view+json": {
       "model_id": "9577a0915bc04d64985f189fee3b8d50",
       "version_major": 2,
       "version_minor": 0
      },
      "text/plain": [
       "  0%|          | 0/20 [00:00<?, ?it/s]"
      ]
     },
     "metadata": {},
     "output_type": "display_data"
    },
    {
     "name": "stdout",
     "output_type": "stream",
     "text": [
      "INFO:tensorflow:Assets written to: models/text_model_group_1/text_model_39/assets\n"
     ]
    },
    {
     "name": "stderr",
     "output_type": "stream",
     "text": [
      "INFO:tensorflow:Assets written to: models/text_model_group_1/text_model_39/assets\n"
     ]
    },
    {
     "name": "stdout",
     "output_type": "stream",
     "text": [
      "\n",
      "40'th label prediction started\n",
      "count_one 2066\n",
      "count_zero 2066\n",
      "Epoch 1/6\n",
      "130/130 [==============================] - 2s 12ms/step - loss: 0.5649 - acc: 0.7251\n",
      "Epoch 2/6\n",
      "130/130 [==============================] - 1s 11ms/step - loss: 0.2260 - acc: 0.9085\n",
      "Epoch 3/6\n",
      "130/130 [==============================] - 1s 11ms/step - loss: 0.0484 - acc: 0.9872\n",
      "Epoch 4/6\n",
      "130/130 [==============================] - 1s 11ms/step - loss: 0.0066 - acc: 0.9993\n",
      "Epoch 5/6\n",
      "130/130 [==============================] - 1s 11ms/step - loss: 0.0019 - acc: 1.0000\n",
      "Epoch 6/6\n",
      "130/130 [==============================] - 1s 11ms/step - loss: 0.0011 - acc: 1.0000\n",
      "Predicting 40th label...\n"
     ]
    },
    {
     "data": {
      "application/vnd.jupyter.widget-view+json": {
       "model_id": "71c5eaebdd9b431da6394be3a640f0e3",
       "version_major": 2,
       "version_minor": 0
      },
      "text/plain": [
       "  0%|          | 0/20 [00:00<?, ?it/s]"
      ]
     },
     "metadata": {},
     "output_type": "display_data"
    },
    {
     "name": "stdout",
     "output_type": "stream",
     "text": [
      "INFO:tensorflow:Assets written to: models/text_model_group_1/text_model_40/assets\n"
     ]
    },
    {
     "name": "stderr",
     "output_type": "stream",
     "text": [
      "INFO:tensorflow:Assets written to: models/text_model_group_1/text_model_40/assets\n"
     ]
    },
    {
     "name": "stdout",
     "output_type": "stream",
     "text": [
      "\n",
      "41'th label prediction started\n",
      "count_one 327\n",
      "count_zero 327\n",
      "Epoch 1/6\n",
      "21/21 [==============================] - 1s 11ms/step - loss: 0.6802 - acc: 0.5291\n",
      "Epoch 2/6\n",
      "21/21 [==============================] - 0s 10ms/step - loss: 0.4660 - acc: 0.9021\n",
      "Epoch 3/6\n",
      "21/21 [==============================] - 0s 11ms/step - loss: 0.1291 - acc: 0.9847\n",
      "Epoch 4/6\n",
      "21/21 [==============================] - 0s 10ms/step - loss: 0.0269 - acc: 0.9985\n",
      "Epoch 5/6\n",
      "21/21 [==============================] - 0s 11ms/step - loss: 0.0107 - acc: 0.9985\n",
      "Epoch 6/6\n",
      "21/21 [==============================] - 0s 11ms/step - loss: 0.0026 - acc: 1.0000\n",
      "Predicting 41th label...\n"
     ]
    },
    {
     "data": {
      "application/vnd.jupyter.widget-view+json": {
       "model_id": "3cb6307ab6f54ad2bfee120c69cee22a",
       "version_major": 2,
       "version_minor": 0
      },
      "text/plain": [
       "  0%|          | 0/20 [00:00<?, ?it/s]"
      ]
     },
     "metadata": {},
     "output_type": "display_data"
    },
    {
     "name": "stdout",
     "output_type": "stream",
     "text": [
      "INFO:tensorflow:Assets written to: models/text_model_group_1/text_model_41/assets\n"
     ]
    },
    {
     "name": "stderr",
     "output_type": "stream",
     "text": [
      "INFO:tensorflow:Assets written to: models/text_model_group_1/text_model_41/assets\n"
     ]
    },
    {
     "name": "stdout",
     "output_type": "stream",
     "text": [
      "\n",
      "42'th label prediction started\n",
      "count_one 79\n",
      "count_zero 79\n",
      "Epoch 1/6\n",
      "5/5 [==============================] - 1s 41ms/step - loss: 0.6973 - acc: 0.4873\n",
      "Epoch 2/6\n",
      "5/5 [==============================] - 0s 11ms/step - loss: 0.6439 - acc: 0.9494\n",
      "Epoch 3/6\n",
      "5/5 [==============================] - 0s 11ms/step - loss: 0.5795 - acc: 1.0000\n",
      "Epoch 4/6\n",
      "5/5 [==============================] - 0s 12ms/step - loss: 0.4826 - acc: 1.0000\n",
      "Epoch 5/6\n",
      "5/5 [==============================] - 0s 10ms/step - loss: 0.3490 - acc: 1.0000\n",
      "Epoch 6/6\n",
      "5/5 [==============================] - 0s 11ms/step - loss: 0.2205 - acc: 1.0000\n",
      "Predicting 42th label...\n"
     ]
    },
    {
     "data": {
      "application/vnd.jupyter.widget-view+json": {
       "model_id": "9876c7ae512c407084d7bb377c766adb",
       "version_major": 2,
       "version_minor": 0
      },
      "text/plain": [
       "  0%|          | 0/20 [00:00<?, ?it/s]"
      ]
     },
     "metadata": {},
     "output_type": "display_data"
    },
    {
     "name": "stdout",
     "output_type": "stream",
     "text": [
      "INFO:tensorflow:Assets written to: models/text_model_group_1/text_model_42/assets\n"
     ]
    },
    {
     "name": "stderr",
     "output_type": "stream",
     "text": [
      "INFO:tensorflow:Assets written to: models/text_model_group_1/text_model_42/assets\n"
     ]
    },
    {
     "name": "stdout",
     "output_type": "stream",
     "text": [
      "\n",
      "43'th label prediction started\n",
      "count_one 1307\n",
      "count_zero 1307\n",
      "Epoch 1/6\n",
      "82/82 [==============================] - 2s 15ms/step - loss: 0.4718 - acc: 0.7915\n",
      "Epoch 2/6\n",
      "82/82 [==============================] - 1s 11ms/step - loss: 0.1160 - acc: 0.9560\n",
      "Epoch 3/6\n",
      "82/82 [==============================] - 1s 10ms/step - loss: 0.0203 - acc: 0.9958\n",
      "Epoch 4/6\n",
      "82/82 [==============================] - 1s 10ms/step - loss: 0.0038 - acc: 0.9996\n",
      "Epoch 5/6\n",
      "82/82 [==============================] - 1s 11ms/step - loss: 8.3382e-04 - acc: 1.0000\n",
      "Epoch 6/6\n",
      "82/82 [==============================] - 1s 11ms/step - loss: 4.8399e-04 - acc: 1.0000\n",
      "Predicting 43th label...\n"
     ]
    },
    {
     "data": {
      "application/vnd.jupyter.widget-view+json": {
       "model_id": "c363616ecb3e42c381379ea0bdb142cc",
       "version_major": 2,
       "version_minor": 0
      },
      "text/plain": [
       "  0%|          | 0/20 [00:00<?, ?it/s]"
      ]
     },
     "metadata": {},
     "output_type": "display_data"
    },
    {
     "name": "stdout",
     "output_type": "stream",
     "text": [
      "INFO:tensorflow:Assets written to: models/text_model_group_1/text_model_43/assets\n"
     ]
    },
    {
     "name": "stderr",
     "output_type": "stream",
     "text": [
      "INFO:tensorflow:Assets written to: models/text_model_group_1/text_model_43/assets\n"
     ]
    },
    {
     "name": "stdout",
     "output_type": "stream",
     "text": [
      "\n",
      "44'th label prediction started\n",
      "count_one 502\n",
      "count_zero 502\n",
      "Epoch 1/6\n",
      "32/32 [==============================] - 1s 11ms/step - loss: 0.6863 - acc: 0.5627\n",
      "Epoch 2/6\n",
      "32/32 [==============================] - 0s 10ms/step - loss: 0.4718 - acc: 0.8167\n",
      "Epoch 3/6\n",
      "32/32 [==============================] - 0s 10ms/step - loss: 0.1316 - acc: 0.9741\n",
      "Epoch 4/6\n",
      "32/32 [==============================] - 0s 11ms/step - loss: 0.0140 - acc: 1.0000\n",
      "Epoch 5/6\n",
      "32/32 [==============================] - 0s 10ms/step - loss: 0.0043 - acc: 1.0000\n",
      "Epoch 6/6\n",
      "32/32 [==============================] - 0s 11ms/step - loss: 0.0016 - acc: 1.0000\n",
      "Predicting 44th label...\n"
     ]
    },
    {
     "data": {
      "application/vnd.jupyter.widget-view+json": {
       "model_id": "d3f7d27ded984ca085f2d1c31afbd2ce",
       "version_major": 2,
       "version_minor": 0
      },
      "text/plain": [
       "  0%|          | 0/20 [00:00<?, ?it/s]"
      ]
     },
     "metadata": {},
     "output_type": "display_data"
    },
    {
     "name": "stdout",
     "output_type": "stream",
     "text": [
      "INFO:tensorflow:Assets written to: models/text_model_group_1/text_model_44/assets\n"
     ]
    },
    {
     "name": "stderr",
     "output_type": "stream",
     "text": [
      "INFO:tensorflow:Assets written to: models/text_model_group_1/text_model_44/assets\n"
     ]
    },
    {
     "name": "stdout",
     "output_type": "stream",
     "text": [
      "\n",
      "45'th label prediction started\n",
      "count_one 2479\n",
      "count_zero 2479\n",
      "Epoch 1/6\n",
      "155/155 [==============================] - 3s 13ms/step - loss: 0.5048 - acc: 0.7533\n",
      "Epoch 2/6\n",
      "155/155 [==============================] - 2s 11ms/step - loss: 0.2358 - acc: 0.9064\n",
      "Epoch 3/6\n",
      "155/155 [==============================] - 2s 11ms/step - loss: 0.0685 - acc: 0.9798\n",
      "Epoch 4/6\n",
      "155/155 [==============================] - 2s 11ms/step - loss: 0.0100 - acc: 0.9986\n",
      "Epoch 5/6\n",
      "155/155 [==============================] - 2s 11ms/step - loss: 0.0018 - acc: 1.0000\n",
      "Epoch 6/6\n",
      "155/155 [==============================] - 2s 11ms/step - loss: 9.0424e-04 - acc: 1.0000\n",
      "Predicting 45th label...\n"
     ]
    },
    {
     "data": {
      "application/vnd.jupyter.widget-view+json": {
       "model_id": "97776de842864911907c8a1be6b91e71",
       "version_major": 2,
       "version_minor": 0
      },
      "text/plain": [
       "  0%|          | 0/20 [00:00<?, ?it/s]"
      ]
     },
     "metadata": {},
     "output_type": "display_data"
    },
    {
     "name": "stdout",
     "output_type": "stream",
     "text": [
      "INFO:tensorflow:Assets written to: models/text_model_group_1/text_model_45/assets\n"
     ]
    },
    {
     "name": "stderr",
     "output_type": "stream",
     "text": [
      "INFO:tensorflow:Assets written to: models/text_model_group_1/text_model_45/assets\n"
     ]
    },
    {
     "name": "stdout",
     "output_type": "stream",
     "text": [
      "\n",
      "46'th label prediction started\n",
      "count_one 613\n",
      "count_zero 613\n",
      "Epoch 1/6\n",
      "39/39 [==============================] - 1s 11ms/step - loss: 0.6741 - acc: 0.5563\n",
      "Epoch 2/6\n",
      "39/39 [==============================] - 0s 10ms/step - loss: 0.4298 - acc: 0.8328\n",
      "Epoch 3/6\n",
      "39/39 [==============================] - 0s 10ms/step - loss: 0.1327 - acc: 0.9723\n",
      "Epoch 4/6\n",
      "39/39 [==============================] - 0s 11ms/step - loss: 0.0162 - acc: 0.9992\n",
      "Epoch 5/6\n",
      "39/39 [==============================] - 0s 11ms/step - loss: 0.0044 - acc: 1.0000\n",
      "Epoch 6/6\n",
      "39/39 [==============================] - 0s 11ms/step - loss: 0.0019 - acc: 1.0000\n",
      "Predicting 46th label...\n"
     ]
    },
    {
     "data": {
      "application/vnd.jupyter.widget-view+json": {
       "model_id": "28d478ef2cee4373afd513ce0a8fe866",
       "version_major": 2,
       "version_minor": 0
      },
      "text/plain": [
       "  0%|          | 0/20 [00:00<?, ?it/s]"
      ]
     },
     "metadata": {},
     "output_type": "display_data"
    },
    {
     "name": "stdout",
     "output_type": "stream",
     "text": [
      "INFO:tensorflow:Assets written to: models/text_model_group_1/text_model_46/assets\n"
     ]
    },
    {
     "name": "stderr",
     "output_type": "stream",
     "text": [
      "INFO:tensorflow:Assets written to: models/text_model_group_1/text_model_46/assets\n"
     ]
    },
    {
     "name": "stdout",
     "output_type": "stream",
     "text": [
      "\n",
      "47'th label prediction started\n",
      "count_one 299\n",
      "count_zero 299\n",
      "Epoch 1/6\n",
      "19/19 [==============================] - 1s 16ms/step - loss: 0.6949 - acc: 0.5334\n",
      "Epoch 2/6\n",
      "19/19 [==============================] - 0s 11ms/step - loss: 0.5722 - acc: 0.7860\n",
      "Epoch 3/6\n",
      "19/19 [==============================] - 0s 11ms/step - loss: 0.2631 - acc: 0.9548\n",
      "Epoch 4/6\n",
      "19/19 [==============================] - 0s 11ms/step - loss: 0.0511 - acc: 0.9916\n",
      "Epoch 5/6\n",
      "19/19 [==============================] - 0s 10ms/step - loss: 0.0097 - acc: 1.0000\n",
      "Epoch 6/6\n",
      "19/19 [==============================] - 0s 11ms/step - loss: 0.0032 - acc: 1.0000\n",
      "Predicting 47th label...\n"
     ]
    },
    {
     "data": {
      "application/vnd.jupyter.widget-view+json": {
       "model_id": "91c44b6700cf40b88e0ed55f544d372e",
       "version_major": 2,
       "version_minor": 0
      },
      "text/plain": [
       "  0%|          | 0/20 [00:00<?, ?it/s]"
      ]
     },
     "metadata": {},
     "output_type": "display_data"
    },
    {
     "name": "stdout",
     "output_type": "stream",
     "text": [
      "INFO:tensorflow:Assets written to: models/text_model_group_1/text_model_47/assets\n"
     ]
    },
    {
     "name": "stderr",
     "output_type": "stream",
     "text": [
      "INFO:tensorflow:Assets written to: models/text_model_group_1/text_model_47/assets\n"
     ]
    },
    {
     "name": "stdout",
     "output_type": "stream",
     "text": [
      "\n",
      "48'th label prediction started\n",
      "count_one 330\n",
      "count_zero 330\n",
      "Epoch 1/6\n",
      "21/21 [==============================] - 1s 16ms/step - loss: 0.6890 - acc: 0.5273\n",
      "Epoch 2/6\n",
      "21/21 [==============================] - 0s 10ms/step - loss: 0.5282 - acc: 0.9000\n",
      "Epoch 3/6\n",
      "21/21 [==============================] - 0s 10ms/step - loss: 0.1673 - acc: 0.9848\n",
      "Epoch 4/6\n",
      "21/21 [==============================] - 0s 11ms/step - loss: 0.0197 - acc: 1.0000\n",
      "Epoch 5/6\n",
      "21/21 [==============================] - 0s 11ms/step - loss: 0.0047 - acc: 1.0000\n",
      "Epoch 6/6\n",
      "21/21 [==============================] - 0s 11ms/step - loss: 0.0019 - acc: 1.0000\n",
      "Predicting 48th label...\n"
     ]
    },
    {
     "data": {
      "application/vnd.jupyter.widget-view+json": {
       "model_id": "0e58d9d82b2849c4bd326e3415aa8c8e",
       "version_major": 2,
       "version_minor": 0
      },
      "text/plain": [
       "  0%|          | 0/20 [00:00<?, ?it/s]"
      ]
     },
     "metadata": {},
     "output_type": "display_data"
    },
    {
     "name": "stdout",
     "output_type": "stream",
     "text": [
      "INFO:tensorflow:Assets written to: models/text_model_group_1/text_model_48/assets\n"
     ]
    },
    {
     "name": "stderr",
     "output_type": "stream",
     "text": [
      "INFO:tensorflow:Assets written to: models/text_model_group_1/text_model_48/assets\n"
     ]
    },
    {
     "name": "stdout",
     "output_type": "stream",
     "text": [
      "\n",
      "49'th label prediction started\n",
      "count_one 82\n",
      "count_zero 82\n",
      "Epoch 1/6\n",
      "6/6 [==============================] - 1s 11ms/step - loss: 0.6966 - acc: 0.4573\n",
      "Epoch 2/6\n",
      "6/6 [==============================] - 0s 9ms/step - loss: 0.6230 - acc: 0.9695\n",
      "Epoch 3/6\n",
      "6/6 [==============================] - 0s 9ms/step - loss: 0.5230 - acc: 1.0000\n",
      "Epoch 4/6\n",
      "6/6 [==============================] - 0s 9ms/step - loss: 0.3854 - acc: 1.0000\n",
      "Epoch 5/6\n",
      "6/6 [==============================] - 0s 10ms/step - loss: 0.2385 - acc: 1.0000\n",
      "Epoch 6/6\n",
      "6/6 [==============================] - 0s 11ms/step - loss: 0.1222 - acc: 1.0000\n",
      "Predicting 49th label...\n"
     ]
    },
    {
     "data": {
      "application/vnd.jupyter.widget-view+json": {
       "model_id": "1ea36af5504e43eea395b745079dc615",
       "version_major": 2,
       "version_minor": 0
      },
      "text/plain": [
       "  0%|          | 0/20 [00:00<?, ?it/s]"
      ]
     },
     "metadata": {},
     "output_type": "display_data"
    },
    {
     "name": "stdout",
     "output_type": "stream",
     "text": [
      "INFO:tensorflow:Assets written to: models/text_model_group_1/text_model_49/assets\n"
     ]
    },
    {
     "name": "stderr",
     "output_type": "stream",
     "text": [
      "INFO:tensorflow:Assets written to: models/text_model_group_1/text_model_49/assets\n"
     ]
    },
    {
     "name": "stdout",
     "output_type": "stream",
     "text": [
      "\n",
      "50'th label prediction started\n",
      "count_one 271\n",
      "count_zero 271\n",
      "Epoch 1/6\n",
      "17/17 [==============================] - 1s 18ms/step - loss: 0.6898 - acc: 0.4945\n",
      "Epoch 2/6\n",
      "17/17 [==============================] - 0s 10ms/step - loss: 0.5445 - acc: 0.9373\n",
      "Epoch 3/6\n",
      "17/17 [==============================] - 0s 10ms/step - loss: 0.2544 - acc: 0.9705\n",
      "Epoch 4/6\n",
      "17/17 [==============================] - 0s 11ms/step - loss: 0.0575 - acc: 0.9982\n",
      "Epoch 5/6\n",
      "17/17 [==============================] - 0s 11ms/step - loss: 0.0088 - acc: 1.0000\n",
      "Epoch 6/6\n",
      "17/17 [==============================] - 0s 11ms/step - loss: 0.0029 - acc: 1.0000\n",
      "Predicting 50th label...\n"
     ]
    },
    {
     "data": {
      "application/vnd.jupyter.widget-view+json": {
       "model_id": "4761faa4e6704cc681d81576d09807ff",
       "version_major": 2,
       "version_minor": 0
      },
      "text/plain": [
       "  0%|          | 0/20 [00:00<?, ?it/s]"
      ]
     },
     "metadata": {},
     "output_type": "display_data"
    },
    {
     "name": "stdout",
     "output_type": "stream",
     "text": [
      "INFO:tensorflow:Assets written to: models/text_model_group_1/text_model_50/assets\n"
     ]
    },
    {
     "name": "stderr",
     "output_type": "stream",
     "text": [
      "INFO:tensorflow:Assets written to: models/text_model_group_1/text_model_50/assets\n"
     ]
    },
    {
     "name": "stdout",
     "output_type": "stream",
     "text": [
      "\n",
      "51'th label prediction started\n",
      "count_one 1116\n",
      "count_zero 1116\n",
      "Epoch 1/6\n",
      "70/70 [==============================] - 1s 12ms/step - loss: 0.6465 - acc: 0.6259\n",
      "Epoch 2/6\n",
      "70/70 [==============================] - 1s 11ms/step - loss: 0.4491 - acc: 0.8132\n",
      "Epoch 3/6\n",
      "70/70 [==============================] - 1s 11ms/step - loss: 0.1584 - acc: 0.9556\n",
      "Epoch 4/6\n",
      "70/70 [==============================] - 1s 11ms/step - loss: 0.0193 - acc: 0.9973\n",
      "Epoch 5/6\n",
      "70/70 [==============================] - 1s 11ms/step - loss: 0.0067 - acc: 1.0000\n",
      "Epoch 6/6\n",
      "70/70 [==============================] - 1s 11ms/step - loss: 0.0041 - acc: 1.0000\n",
      "Predicting 51th label...\n"
     ]
    },
    {
     "data": {
      "application/vnd.jupyter.widget-view+json": {
       "model_id": "86e26957960148d484419795a0e73421",
       "version_major": 2,
       "version_minor": 0
      },
      "text/plain": [
       "  0%|          | 0/20 [00:00<?, ?it/s]"
      ]
     },
     "metadata": {},
     "output_type": "display_data"
    },
    {
     "name": "stdout",
     "output_type": "stream",
     "text": [
      "INFO:tensorflow:Assets written to: models/text_model_group_1/text_model_51/assets\n"
     ]
    },
    {
     "name": "stderr",
     "output_type": "stream",
     "text": [
      "INFO:tensorflow:Assets written to: models/text_model_group_1/text_model_51/assets\n"
     ]
    },
    {
     "name": "stdout",
     "output_type": "stream",
     "text": [
      "\n",
      "52'th label prediction started\n",
      "count_one 92\n",
      "count_zero 92\n",
      "Epoch 1/6\n",
      "6/6 [==============================] - 1s 35ms/step - loss: 0.6933 - acc: 0.5000\n",
      "Epoch 2/6\n",
      "6/6 [==============================] - 0s 10ms/step - loss: 0.6108 - acc: 0.9783\n",
      "Epoch 3/6\n",
      "6/6 [==============================] - 0s 10ms/step - loss: 0.4974 - acc: 1.0000\n",
      "Epoch 4/6\n",
      "6/6 [==============================] - 0s 12ms/step - loss: 0.3309 - acc: 1.0000\n",
      "Epoch 5/6\n",
      "6/6 [==============================] - 0s 11ms/step - loss: 0.1732 - acc: 1.0000\n",
      "Epoch 6/6\n",
      "6/6 [==============================] - 0s 10ms/step - loss: 0.0706 - acc: 1.0000\n",
      "Predicting 52th label...\n"
     ]
    },
    {
     "data": {
      "application/vnd.jupyter.widget-view+json": {
       "model_id": "f4477be20dbb4f1d942d835c6153ab64",
       "version_major": 2,
       "version_minor": 0
      },
      "text/plain": [
       "  0%|          | 0/20 [00:00<?, ?it/s]"
      ]
     },
     "metadata": {},
     "output_type": "display_data"
    },
    {
     "name": "stdout",
     "output_type": "stream",
     "text": [
      "INFO:tensorflow:Assets written to: models/text_model_group_1/text_model_52/assets\n"
     ]
    },
    {
     "name": "stderr",
     "output_type": "stream",
     "text": [
      "INFO:tensorflow:Assets written to: models/text_model_group_1/text_model_52/assets\n"
     ]
    },
    {
     "name": "stdout",
     "output_type": "stream",
     "text": [
      "\n",
      "53'th label prediction started\n",
      "count_one 601\n",
      "count_zero 601\n",
      "Epoch 1/6\n",
      "38/38 [==============================] - 1s 11ms/step - loss: 0.6562 - acc: 0.5990\n",
      "Epoch 2/6\n",
      "38/38 [==============================] - 0s 11ms/step - loss: 0.3996 - acc: 0.8461\n",
      "Epoch 3/6\n",
      "38/38 [==============================] - 0s 11ms/step - loss: 0.1163 - acc: 0.9775\n",
      "Epoch 4/6\n",
      "38/38 [==============================] - 0s 10ms/step - loss: 0.0133 - acc: 1.0000\n",
      "Epoch 5/6\n",
      "38/38 [==============================] - 0s 11ms/step - loss: 0.0076 - acc: 1.0000\n",
      "Epoch 6/6\n",
      "38/38 [==============================] - 0s 11ms/step - loss: 0.0049 - acc: 1.0000\n",
      "Predicting 53th label...\n"
     ]
    },
    {
     "data": {
      "application/vnd.jupyter.widget-view+json": {
       "model_id": "0b8c151b3d53466e847811ff04a84cd8",
       "version_major": 2,
       "version_minor": 0
      },
      "text/plain": [
       "  0%|          | 0/20 [00:00<?, ?it/s]"
      ]
     },
     "metadata": {},
     "output_type": "display_data"
    },
    {
     "name": "stdout",
     "output_type": "stream",
     "text": [
      "INFO:tensorflow:Assets written to: models/text_model_group_1/text_model_53/assets\n"
     ]
    },
    {
     "name": "stderr",
     "output_type": "stream",
     "text": [
      "INFO:tensorflow:Assets written to: models/text_model_group_1/text_model_53/assets\n"
     ]
    },
    {
     "name": "stdout",
     "output_type": "stream",
     "text": [
      "\n",
      "54'th label prediction started\n",
      "count_one 194\n",
      "count_zero 194\n",
      "Epoch 1/6\n",
      "13/13 [==============================] - 1s 33ms/step - loss: 0.7002 - acc: 0.4897\n",
      "Epoch 2/6\n",
      "13/13 [==============================] - 0s 10ms/step - loss: 0.5807 - acc: 0.8479\n",
      "Epoch 3/6\n",
      "13/13 [==============================] - 0s 10ms/step - loss: 0.3380 - acc: 0.9897\n",
      "Epoch 4/6\n",
      "13/13 [==============================] - 0s 10ms/step - loss: 0.1073 - acc: 0.9948\n",
      "Epoch 5/6\n",
      "13/13 [==============================] - 0s 11ms/step - loss: 0.0268 - acc: 0.9974\n",
      "Epoch 6/6\n",
      "13/13 [==============================] - 0s 11ms/step - loss: 0.0067 - acc: 1.0000\n",
      "Predicting 54th label...\n"
     ]
    },
    {
     "data": {
      "application/vnd.jupyter.widget-view+json": {
       "model_id": "ec561261da984afc8df9e273c4e15b56",
       "version_major": 2,
       "version_minor": 0
      },
      "text/plain": [
       "  0%|          | 0/20 [00:00<?, ?it/s]"
      ]
     },
     "metadata": {},
     "output_type": "display_data"
    },
    {
     "name": "stdout",
     "output_type": "stream",
     "text": [
      "INFO:tensorflow:Assets written to: models/text_model_group_1/text_model_54/assets\n"
     ]
    },
    {
     "name": "stderr",
     "output_type": "stream",
     "text": [
      "INFO:tensorflow:Assets written to: models/text_model_group_1/text_model_54/assets\n"
     ]
    },
    {
     "name": "stdout",
     "output_type": "stream",
     "text": [
      "\n",
      "55'th label prediction started\n",
      "count_one 101\n",
      "count_zero 101\n",
      "Epoch 1/6\n",
      "7/7 [==============================] - 1s 11ms/step - loss: 0.7035 - acc: 0.4505\n",
      "Epoch 2/6\n",
      "7/7 [==============================] - 0s 10ms/step - loss: 0.6346 - acc: 0.9406\n",
      "Epoch 3/6\n",
      "7/7 [==============================] - 0s 11ms/step - loss: 0.5485 - acc: 0.9901\n",
      "Epoch 4/6\n",
      "7/7 [==============================] - 0s 10ms/step - loss: 0.4064 - acc: 0.9950\n",
      "Epoch 5/6\n",
      "7/7 [==============================] - 0s 11ms/step - loss: 0.2257 - acc: 1.0000\n",
      "Epoch 6/6\n",
      "7/7 [==============================] - 0s 11ms/step - loss: 0.0928 - acc: 1.0000\n",
      "Predicting 55th label...\n"
     ]
    },
    {
     "data": {
      "application/vnd.jupyter.widget-view+json": {
       "model_id": "5b59844e31114b01b4f88a9109234392",
       "version_major": 2,
       "version_minor": 0
      },
      "text/plain": [
       "  0%|          | 0/20 [00:00<?, ?it/s]"
      ]
     },
     "metadata": {},
     "output_type": "display_data"
    },
    {
     "name": "stdout",
     "output_type": "stream",
     "text": [
      "INFO:tensorflow:Assets written to: models/text_model_group_1/text_model_55/assets\n"
     ]
    },
    {
     "name": "stderr",
     "output_type": "stream",
     "text": [
      "INFO:tensorflow:Assets written to: models/text_model_group_1/text_model_55/assets\n"
     ]
    },
    {
     "name": "stdout",
     "output_type": "stream",
     "text": [
      "\n",
      "56'th label prediction started\n",
      "count_one 3732\n",
      "count_zero 3732\n",
      "Epoch 1/6\n",
      "234/234 [==============================] - 3s 12ms/step - loss: 0.4246 - acc: 0.8167\n",
      "Epoch 2/6\n",
      "234/234 [==============================] - 3s 11ms/step - loss: 0.1687 - acc: 0.9401\n",
      "Epoch 3/6\n",
      "234/234 [==============================] - 2s 10ms/step - loss: 0.0465 - acc: 0.9874\n",
      "Epoch 4/6\n",
      "234/234 [==============================] - 2s 11ms/step - loss: 0.0088 - acc: 0.9983\n",
      "Epoch 5/6\n",
      "234/234 [==============================] - 2s 11ms/step - loss: 0.0022 - acc: 0.9997\n",
      "Epoch 6/6\n",
      "234/234 [==============================] - 3s 11ms/step - loss: 9.1627e-04 - acc: 0.9999\n",
      "Predicting 56th label...\n"
     ]
    },
    {
     "data": {
      "application/vnd.jupyter.widget-view+json": {
       "model_id": "51407336526d43a69a92af6e6122036f",
       "version_major": 2,
       "version_minor": 0
      },
      "text/plain": [
       "  0%|          | 0/20 [00:00<?, ?it/s]"
      ]
     },
     "metadata": {},
     "output_type": "display_data"
    },
    {
     "name": "stdout",
     "output_type": "stream",
     "text": [
      "INFO:tensorflow:Assets written to: models/text_model_group_1/text_model_56/assets\n"
     ]
    },
    {
     "name": "stderr",
     "output_type": "stream",
     "text": [
      "INFO:tensorflow:Assets written to: models/text_model_group_1/text_model_56/assets\n"
     ]
    },
    {
     "name": "stdout",
     "output_type": "stream",
     "text": [
      "\n",
      "57'th label prediction started\n",
      "count_one 1628\n",
      "count_zero 1628\n",
      "Epoch 1/6\n",
      "102/102 [==============================] - 2s 12ms/step - loss: 0.4396 - acc: 0.8271\n",
      "Epoch 2/6\n",
      "102/102 [==============================] - 1s 11ms/step - loss: 0.1152 - acc: 0.9641\n",
      "Epoch 3/6\n",
      "102/102 [==============================] - 1s 11ms/step - loss: 0.0250 - acc: 0.9951\n",
      "Epoch 4/6\n",
      "102/102 [==============================] - 1s 11ms/step - loss: 0.0058 - acc: 0.9997\n",
      "Epoch 5/6\n",
      "102/102 [==============================] - 1s 11ms/step - loss: 0.0014 - acc: 1.0000\n",
      "Epoch 6/6\n",
      "102/102 [==============================] - 1s 11ms/step - loss: 8.7522e-04 - acc: 1.0000\n",
      "Predicting 57th label...\n"
     ]
    },
    {
     "data": {
      "application/vnd.jupyter.widget-view+json": {
       "model_id": "359bfd2d4c864af587aab39130b87998",
       "version_major": 2,
       "version_minor": 0
      },
      "text/plain": [
       "  0%|          | 0/20 [00:00<?, ?it/s]"
      ]
     },
     "metadata": {},
     "output_type": "display_data"
    },
    {
     "name": "stdout",
     "output_type": "stream",
     "text": [
      "INFO:tensorflow:Assets written to: models/text_model_group_1/text_model_57/assets\n"
     ]
    },
    {
     "name": "stderr",
     "output_type": "stream",
     "text": [
      "INFO:tensorflow:Assets written to: models/text_model_group_1/text_model_57/assets\n"
     ]
    },
    {
     "name": "stdout",
     "output_type": "stream",
     "text": [
      "\n",
      "58'th label prediction started\n",
      "count_one 535\n",
      "count_zero 535\n",
      "Epoch 1/6\n",
      "34/34 [==============================] - 1s 11ms/step - loss: 0.6365 - acc: 0.6421\n",
      "Epoch 2/6\n",
      "34/34 [==============================] - 0s 10ms/step - loss: 0.2303 - acc: 0.9449\n",
      "Epoch 3/6\n",
      "34/34 [==============================] - 0s 11ms/step - loss: 0.0550 - acc: 0.9879\n",
      "Epoch 4/6\n",
      "34/34 [==============================] - 0s 11ms/step - loss: 0.0122 - acc: 0.9991\n",
      "Epoch 5/6\n",
      "34/34 [==============================] - 0s 10ms/step - loss: 0.0061 - acc: 1.0000\n",
      "Epoch 6/6\n",
      "34/34 [==============================] - 0s 11ms/step - loss: 0.0016 - acc: 1.0000\n",
      "Predicting 58th label...\n"
     ]
    },
    {
     "data": {
      "application/vnd.jupyter.widget-view+json": {
       "model_id": "5911f5aacaba4f72b8ccb719dbd9dac0",
       "version_major": 2,
       "version_minor": 0
      },
      "text/plain": [
       "  0%|          | 0/20 [00:00<?, ?it/s]"
      ]
     },
     "metadata": {},
     "output_type": "display_data"
    },
    {
     "name": "stdout",
     "output_type": "stream",
     "text": [
      "INFO:tensorflow:Assets written to: models/text_model_group_1/text_model_58/assets\n"
     ]
    },
    {
     "name": "stderr",
     "output_type": "stream",
     "text": [
      "INFO:tensorflow:Assets written to: models/text_model_group_1/text_model_58/assets\n"
     ]
    },
    {
     "name": "stdout",
     "output_type": "stream",
     "text": [
      "\n",
      "59'th label prediction started\n",
      "count_one 341\n",
      "count_zero 341\n",
      "Epoch 1/6\n",
      "22/22 [==============================] - 1s 11ms/step - loss: 0.6599 - acc: 0.6525\n",
      "Epoch 2/6\n",
      "22/22 [==============================] - 0s 11ms/step - loss: 0.3458 - acc: 0.9501\n",
      "Epoch 3/6\n",
      "22/22 [==============================] - 0s 11ms/step - loss: 0.0970 - acc: 0.9721\n",
      "Epoch 4/6\n",
      "22/22 [==============================] - 0s 11ms/step - loss: 0.0218 - acc: 0.9985\n",
      "Epoch 5/6\n",
      "22/22 [==============================] - 0s 11ms/step - loss: 0.0064 - acc: 1.0000\n",
      "Epoch 6/6\n",
      "22/22 [==============================] - 0s 11ms/step - loss: 0.0020 - acc: 1.0000\n",
      "Predicting 59th label...\n"
     ]
    },
    {
     "data": {
      "application/vnd.jupyter.widget-view+json": {
       "model_id": "84c8c16793c74b8ba16b13b17815f5a4",
       "version_major": 2,
       "version_minor": 0
      },
      "text/plain": [
       "  0%|          | 0/20 [00:00<?, ?it/s]"
      ]
     },
     "metadata": {},
     "output_type": "display_data"
    },
    {
     "name": "stdout",
     "output_type": "stream",
     "text": [
      "INFO:tensorflow:Assets written to: models/text_model_group_1/text_model_59/assets\n"
     ]
    },
    {
     "name": "stderr",
     "output_type": "stream",
     "text": [
      "INFO:tensorflow:Assets written to: models/text_model_group_1/text_model_59/assets\n"
     ]
    },
    {
     "name": "stdout",
     "output_type": "stream",
     "text": [
      "\n",
      "60'th label prediction started\n",
      "count_one 77\n",
      "count_zero 77\n",
      "Epoch 1/6\n",
      "5/5 [==============================] - 1s 40ms/step - loss: 0.7021 - acc: 0.5065\n",
      "Epoch 2/6\n",
      "5/5 [==============================] - 0s 11ms/step - loss: 0.6444 - acc: 0.8636\n",
      "Epoch 3/6\n",
      "5/5 [==============================] - 0s 11ms/step - loss: 0.5757 - acc: 1.0000\n",
      "Epoch 4/6\n",
      "5/5 [==============================] - 0s 11ms/step - loss: 0.4694 - acc: 1.0000\n",
      "Epoch 5/6\n",
      "5/5 [==============================] - 0s 11ms/step - loss: 0.3240 - acc: 1.0000\n",
      "Epoch 6/6\n",
      "5/5 [==============================] - 0s 10ms/step - loss: 0.1797 - acc: 1.0000\n",
      "Predicting 60th label...\n"
     ]
    },
    {
     "data": {
      "application/vnd.jupyter.widget-view+json": {
       "model_id": "1c16e25d77de4c329deefb93bfd607d0",
       "version_major": 2,
       "version_minor": 0
      },
      "text/plain": [
       "  0%|          | 0/20 [00:00<?, ?it/s]"
      ]
     },
     "metadata": {},
     "output_type": "display_data"
    },
    {
     "name": "stdout",
     "output_type": "stream",
     "text": [
      "INFO:tensorflow:Assets written to: models/text_model_group_1/text_model_60/assets\n"
     ]
    },
    {
     "name": "stderr",
     "output_type": "stream",
     "text": [
      "INFO:tensorflow:Assets written to: models/text_model_group_1/text_model_60/assets\n"
     ]
    },
    {
     "name": "stdout",
     "output_type": "stream",
     "text": [
      "\n",
      "61'th label prediction started\n",
      "count_one 559\n",
      "count_zero 559\n",
      "Epoch 1/6\n",
      "35/35 [==============================] - 1s 14ms/step - loss: 0.6624 - acc: 0.5778\n",
      "Epoch 2/6\n",
      "35/35 [==============================] - 0s 11ms/step - loss: 0.3766 - acc: 0.8882\n",
      "Epoch 3/6\n",
      "35/35 [==============================] - 0s 11ms/step - loss: 0.0716 - acc: 0.9911\n",
      "Epoch 4/6\n",
      "35/35 [==============================] - 0s 11ms/step - loss: 0.0069 - acc: 1.0000\n",
      "Epoch 5/6\n",
      "35/35 [==============================] - 0s 11ms/step - loss: 0.0026 - acc: 1.0000\n",
      "Epoch 6/6\n",
      "35/35 [==============================] - 0s 11ms/step - loss: 0.0013 - acc: 1.0000\n",
      "Predicting 61th label...\n"
     ]
    },
    {
     "data": {
      "application/vnd.jupyter.widget-view+json": {
       "model_id": "f3f89019dca74e2d947dc26ad2053503",
       "version_major": 2,
       "version_minor": 0
      },
      "text/plain": [
       "  0%|          | 0/20 [00:00<?, ?it/s]"
      ]
     },
     "metadata": {},
     "output_type": "display_data"
    },
    {
     "name": "stdout",
     "output_type": "stream",
     "text": [
      "INFO:tensorflow:Assets written to: models/text_model_group_1/text_model_61/assets\n"
     ]
    },
    {
     "name": "stderr",
     "output_type": "stream",
     "text": [
      "INFO:tensorflow:Assets written to: models/text_model_group_1/text_model_61/assets\n"
     ]
    },
    {
     "name": "stdout",
     "output_type": "stream",
     "text": [
      "\n",
      "62'th label prediction started\n",
      "count_one 730\n",
      "count_zero 730\n",
      "Epoch 1/6\n",
      "46/46 [==============================] - 1s 10ms/step - loss: 0.6676 - acc: 0.5705\n",
      "Epoch 2/6\n",
      "46/46 [==============================] - 0s 10ms/step - loss: 0.3602 - acc: 0.8870\n",
      "Epoch 3/6\n",
      "46/46 [==============================] - 0s 10ms/step - loss: 0.0741 - acc: 0.9842\n",
      "Epoch 4/6\n",
      "46/46 [==============================] - 1s 11ms/step - loss: 0.0133 - acc: 0.9986\n",
      "Epoch 5/6\n",
      "46/46 [==============================] - 1s 11ms/step - loss: 0.0025 - acc: 1.0000\n",
      "Epoch 6/6\n",
      "46/46 [==============================] - 1s 11ms/step - loss: 0.0012 - acc: 1.0000\n",
      "Predicting 62th label...\n"
     ]
    },
    {
     "data": {
      "application/vnd.jupyter.widget-view+json": {
       "model_id": "15eeb049d4e14f7caf8c8c861ef19bac",
       "version_major": 2,
       "version_minor": 0
      },
      "text/plain": [
       "  0%|          | 0/20 [00:00<?, ?it/s]"
      ]
     },
     "metadata": {},
     "output_type": "display_data"
    },
    {
     "name": "stdout",
     "output_type": "stream",
     "text": [
      "INFO:tensorflow:Assets written to: models/text_model_group_1/text_model_62/assets\n"
     ]
    },
    {
     "name": "stderr",
     "output_type": "stream",
     "text": [
      "INFO:tensorflow:Assets written to: models/text_model_group_1/text_model_62/assets\n"
     ]
    },
    {
     "name": "stdout",
     "output_type": "stream",
     "text": [
      "\n",
      "63'th label prediction started\n",
      "count_one 125\n",
      "count_zero 125\n",
      "Epoch 1/6\n",
      "8/8 [==============================] - 1s 27ms/step - loss: 0.6917 - acc: 0.5240\n",
      "Epoch 2/6\n",
      "8/8 [==============================] - 0s 12ms/step - loss: 0.6321 - acc: 0.9600\n",
      "Epoch 3/6\n",
      "8/8 [==============================] - 0s 11ms/step - loss: 0.5275 - acc: 0.9920\n",
      "Epoch 4/6\n",
      "8/8 [==============================] - 0s 11ms/step - loss: 0.3403 - acc: 1.0000\n",
      "Epoch 5/6\n",
      "8/8 [==============================] - 0s 11ms/step - loss: 0.1560 - acc: 0.9960\n",
      "Epoch 6/6\n",
      "8/8 [==============================] - 0s 11ms/step - loss: 0.0511 - acc: 1.0000\n",
      "Predicting 63th label...\n"
     ]
    },
    {
     "data": {
      "application/vnd.jupyter.widget-view+json": {
       "model_id": "666803b2254b4bf8a706278616aa9a70",
       "version_major": 2,
       "version_minor": 0
      },
      "text/plain": [
       "  0%|          | 0/20 [00:00<?, ?it/s]"
      ]
     },
     "metadata": {},
     "output_type": "display_data"
    },
    {
     "name": "stdout",
     "output_type": "stream",
     "text": [
      "INFO:tensorflow:Assets written to: models/text_model_group_1/text_model_63/assets\n"
     ]
    },
    {
     "name": "stderr",
     "output_type": "stream",
     "text": [
      "INFO:tensorflow:Assets written to: models/text_model_group_1/text_model_63/assets\n"
     ]
    },
    {
     "name": "stdout",
     "output_type": "stream",
     "text": [
      "\n",
      "64'th label prediction started\n",
      "count_one 81\n",
      "count_zero 81\n",
      "Epoch 1/6\n",
      "6/6 [==============================] - 1s 12ms/step - loss: 0.7017 - acc: 0.4753\n",
      "Epoch 2/6\n",
      "6/6 [==============================] - 0s 11ms/step - loss: 0.6280 - acc: 0.9691\n",
      "Epoch 3/6\n",
      "6/6 [==============================] - 0s 10ms/step - loss: 0.5518 - acc: 1.0000\n",
      "Epoch 4/6\n",
      "6/6 [==============================] - 0s 11ms/step - loss: 0.4322 - acc: 1.0000\n",
      "Epoch 5/6\n",
      "6/6 [==============================] - 0s 11ms/step - loss: 0.2876 - acc: 1.0000\n",
      "Epoch 6/6\n",
      "6/6 [==============================] - 0s 11ms/step - loss: 0.1508 - acc: 1.0000\n",
      "Predicting 64th label...\n"
     ]
    },
    {
     "data": {
      "application/vnd.jupyter.widget-view+json": {
       "model_id": "3655bf2ffa344701a3aeb9f56dfa23cd",
       "version_major": 2,
       "version_minor": 0
      },
      "text/plain": [
       "  0%|          | 0/20 [00:00<?, ?it/s]"
      ]
     },
     "metadata": {},
     "output_type": "display_data"
    },
    {
     "name": "stdout",
     "output_type": "stream",
     "text": [
      "INFO:tensorflow:Assets written to: models/text_model_group_1/text_model_64/assets\n"
     ]
    },
    {
     "name": "stderr",
     "output_type": "stream",
     "text": [
      "INFO:tensorflow:Assets written to: models/text_model_group_1/text_model_64/assets\n"
     ]
    },
    {
     "name": "stdout",
     "output_type": "stream",
     "text": [
      "\n",
      "65'th label prediction started\n",
      "count_one 484\n",
      "count_zero 484\n",
      "Epoch 1/6\n",
      "31/31 [==============================] - 1s 17ms/step - loss: 0.6687 - acc: 0.5651\n",
      "Epoch 2/6\n",
      "31/31 [==============================] - 0s 11ms/step - loss: 0.4618 - acc: 0.8171\n",
      "Epoch 3/6\n",
      "31/31 [==============================] - 0s 11ms/step - loss: 0.1730 - acc: 0.9638\n",
      "Epoch 4/6\n",
      "31/31 [==============================] - 0s 11ms/step - loss: 0.0249 - acc: 0.9990\n",
      "Epoch 5/6\n",
      "31/31 [==============================] - 0s 11ms/step - loss: 0.0052 - acc: 1.0000\n",
      "Epoch 6/6\n",
      "31/31 [==============================] - 0s 11ms/step - loss: 0.0021 - acc: 1.0000\n",
      "Predicting 65th label...\n"
     ]
    },
    {
     "data": {
      "application/vnd.jupyter.widget-view+json": {
       "model_id": "0a76b2be160f4f40834a6fe2e6feef7c",
       "version_major": 2,
       "version_minor": 0
      },
      "text/plain": [
       "  0%|          | 0/20 [00:00<?, ?it/s]"
      ]
     },
     "metadata": {},
     "output_type": "display_data"
    },
    {
     "name": "stdout",
     "output_type": "stream",
     "text": [
      "INFO:tensorflow:Assets written to: models/text_model_group_1/text_model_65/assets\n"
     ]
    },
    {
     "name": "stderr",
     "output_type": "stream",
     "text": [
      "INFO:tensorflow:Assets written to: models/text_model_group_1/text_model_65/assets\n"
     ]
    },
    {
     "name": "stdout",
     "output_type": "stream",
     "text": [
      "\n",
      "66'th label prediction started\n",
      "count_one 86\n",
      "count_zero 86\n",
      "Epoch 1/6\n",
      "6/6 [==============================] - 1s 11ms/step - loss: 0.7009 - acc: 0.4244\n",
      "Epoch 2/6\n",
      "6/6 [==============================] - 0s 9ms/step - loss: 0.6398 - acc: 0.9826\n",
      "Epoch 3/6\n",
      "6/6 [==============================] - 0s 9ms/step - loss: 0.5621 - acc: 1.0000\n",
      "Epoch 4/6\n",
      "6/6 [==============================] - 0s 9ms/step - loss: 0.4393 - acc: 1.0000\n",
      "Epoch 5/6\n",
      "6/6 [==============================] - 0s 10ms/step - loss: 0.2917 - acc: 1.0000\n",
      "Epoch 6/6\n",
      "6/6 [==============================] - 0s 10ms/step - loss: 0.1518 - acc: 1.0000\n",
      "Predicting 66th label...\n"
     ]
    },
    {
     "data": {
      "application/vnd.jupyter.widget-view+json": {
       "model_id": "bd63b46653044fc2911d7c14bc4d04ca",
       "version_major": 2,
       "version_minor": 0
      },
      "text/plain": [
       "  0%|          | 0/20 [00:00<?, ?it/s]"
      ]
     },
     "metadata": {},
     "output_type": "display_data"
    },
    {
     "name": "stdout",
     "output_type": "stream",
     "text": [
      "INFO:tensorflow:Assets written to: models/text_model_group_1/text_model_66/assets\n"
     ]
    },
    {
     "name": "stderr",
     "output_type": "stream",
     "text": [
      "INFO:tensorflow:Assets written to: models/text_model_group_1/text_model_66/assets\n"
     ]
    },
    {
     "name": "stdout",
     "output_type": "stream",
     "text": [
      "\n",
      "67'th label prediction started\n",
      "count_one 445\n",
      "count_zero 445\n",
      "Epoch 1/6\n",
      "28/28 [==============================] - 1s 15ms/step - loss: 0.6852 - acc: 0.5281\n",
      "Epoch 2/6\n",
      "28/28 [==============================] - 0s 11ms/step - loss: 0.4740 - acc: 0.9461\n",
      "Epoch 3/6\n",
      "28/28 [==============================] - 0s 10ms/step - loss: 0.0957 - acc: 0.9933\n",
      "Epoch 4/6\n",
      "28/28 [==============================] - 0s 10ms/step - loss: 0.0072 - acc: 1.0000\n",
      "Epoch 5/6\n",
      "28/28 [==============================] - 0s 11ms/step - loss: 0.0022 - acc: 1.0000\n",
      "Epoch 6/6\n",
      "28/28 [==============================] - 0s 11ms/step - loss: 0.0011 - acc: 1.0000\n",
      "Predicting 67th label...\n"
     ]
    },
    {
     "data": {
      "application/vnd.jupyter.widget-view+json": {
       "model_id": "4d7deca972c347f894803c3e4b87fc81",
       "version_major": 2,
       "version_minor": 0
      },
      "text/plain": [
       "  0%|          | 0/20 [00:00<?, ?it/s]"
      ]
     },
     "metadata": {},
     "output_type": "display_data"
    },
    {
     "name": "stdout",
     "output_type": "stream",
     "text": [
      "INFO:tensorflow:Assets written to: models/text_model_group_1/text_model_67/assets\n"
     ]
    },
    {
     "name": "stderr",
     "output_type": "stream",
     "text": [
      "INFO:tensorflow:Assets written to: models/text_model_group_1/text_model_67/assets\n"
     ]
    },
    {
     "name": "stdout",
     "output_type": "stream",
     "text": [
      "\n",
      "68'th label prediction started\n",
      "count_one 191\n",
      "count_zero 191\n",
      "Epoch 1/6\n",
      "12/12 [==============================] - 1s 10ms/step - loss: 0.6988 - acc: 0.4921\n",
      "Epoch 2/6\n",
      "12/12 [==============================] - 0s 11ms/step - loss: 0.6268 - acc: 0.8717\n",
      "Epoch 3/6\n",
      "12/12 [==============================] - 0s 10ms/step - loss: 0.4466 - acc: 0.9948\n",
      "Epoch 4/6\n",
      "12/12 [==============================] - 0s 10ms/step - loss: 0.1801 - acc: 1.0000\n",
      "Epoch 5/6\n",
      "12/12 [==============================] - 0s 11ms/step - loss: 0.0352 - acc: 1.0000\n",
      "Epoch 6/6\n",
      "12/12 [==============================] - 0s 10ms/step - loss: 0.0070 - acc: 1.0000\n",
      "Predicting 68th label...\n"
     ]
    },
    {
     "data": {
      "application/vnd.jupyter.widget-view+json": {
       "model_id": "a342df87e6c041109974c1017ae29914",
       "version_major": 2,
       "version_minor": 0
      },
      "text/plain": [
       "  0%|          | 0/20 [00:00<?, ?it/s]"
      ]
     },
     "metadata": {},
     "output_type": "display_data"
    },
    {
     "name": "stdout",
     "output_type": "stream",
     "text": [
      "INFO:tensorflow:Assets written to: models/text_model_group_1/text_model_68/assets\n"
     ]
    },
    {
     "name": "stderr",
     "output_type": "stream",
     "text": [
      "INFO:tensorflow:Assets written to: models/text_model_group_1/text_model_68/assets\n"
     ]
    },
    {
     "name": "stdout",
     "output_type": "stream",
     "text": [
      "\n",
      "69'th label prediction started\n",
      "count_one 1983\n",
      "count_zero 1983\n",
      "Epoch 1/6\n",
      "124/124 [==============================] - 2s 11ms/step - loss: 0.4216 - acc: 0.7927\n",
      "Epoch 2/6\n",
      "124/124 [==============================] - 1s 11ms/step - loss: 0.1527 - acc: 0.9476\n",
      "Epoch 3/6\n",
      "124/124 [==============================] - 1s 11ms/step - loss: 0.0274 - acc: 0.9950\n",
      "Epoch 4/6\n",
      "124/124 [==============================] - 1s 11ms/step - loss: 0.0030 - acc: 0.9995\n",
      "Epoch 5/6\n",
      "124/124 [==============================] - 1s 11ms/step - loss: 8.6027e-04 - acc: 1.0000\n",
      "Epoch 6/6\n",
      "124/124 [==============================] - 1s 11ms/step - loss: 4.0152e-04 - acc: 1.0000\n",
      "Predicting 69th label...\n"
     ]
    },
    {
     "data": {
      "application/vnd.jupyter.widget-view+json": {
       "model_id": "a685dbc5ccde468492cf685ffd9f8468",
       "version_major": 2,
       "version_minor": 0
      },
      "text/plain": [
       "  0%|          | 0/20 [00:00<?, ?it/s]"
      ]
     },
     "metadata": {},
     "output_type": "display_data"
    },
    {
     "name": "stdout",
     "output_type": "stream",
     "text": [
      "INFO:tensorflow:Assets written to: models/text_model_group_1/text_model_69/assets\n"
     ]
    },
    {
     "name": "stderr",
     "output_type": "stream",
     "text": [
      "INFO:tensorflow:Assets written to: models/text_model_group_1/text_model_69/assets\n"
     ]
    },
    {
     "name": "stdout",
     "output_type": "stream",
     "text": [
      "\n",
      "70'th label prediction started\n",
      "count_one 206\n",
      "count_zero 206\n",
      "Epoch 1/6\n",
      "13/13 [==============================] - 1s 20ms/step - loss: 0.6860 - acc: 0.5364\n",
      "Epoch 2/6\n",
      "13/13 [==============================] - 0s 10ms/step - loss: 0.5499 - acc: 0.9539\n",
      "Epoch 3/6\n",
      "13/13 [==============================] - 0s 11ms/step - loss: 0.2877 - acc: 0.9733\n",
      "Epoch 4/6\n",
      "13/13 [==============================] - 0s 10ms/step - loss: 0.0936 - acc: 0.9879\n",
      "Epoch 5/6\n",
      "13/13 [==============================] - 0s 11ms/step - loss: 0.0192 - acc: 0.9976\n",
      "Epoch 6/6\n",
      "13/13 [==============================] - 0s 11ms/step - loss: 0.0051 - acc: 1.0000\n",
      "Predicting 70th label...\n"
     ]
    },
    {
     "data": {
      "application/vnd.jupyter.widget-view+json": {
       "model_id": "b5e37b72c6584cd89b6cc18966fd65b6",
       "version_major": 2,
       "version_minor": 0
      },
      "text/plain": [
       "  0%|          | 0/20 [00:00<?, ?it/s]"
      ]
     },
     "metadata": {},
     "output_type": "display_data"
    },
    {
     "name": "stdout",
     "output_type": "stream",
     "text": [
      "INFO:tensorflow:Assets written to: models/text_model_group_1/text_model_70/assets\n"
     ]
    },
    {
     "name": "stderr",
     "output_type": "stream",
     "text": [
      "INFO:tensorflow:Assets written to: models/text_model_group_1/text_model_70/assets\n"
     ]
    },
    {
     "name": "stdout",
     "output_type": "stream",
     "text": [
      "\n",
      "71'th label prediction started\n",
      "count_one 84\n",
      "count_zero 84\n",
      "Epoch 1/6\n",
      "6/6 [==============================] - 1s 11ms/step - loss: 0.6991 - acc: 0.5000\n",
      "Epoch 2/6\n",
      "6/6 [==============================] - 0s 9ms/step - loss: 0.6254 - acc: 0.9464\n",
      "Epoch 3/6\n",
      "6/6 [==============================] - 0s 9ms/step - loss: 0.5443 - acc: 0.9881\n",
      "Epoch 4/6\n",
      "6/6 [==============================] - 0s 11ms/step - loss: 0.4136 - acc: 1.0000\n",
      "Epoch 5/6\n",
      "6/6 [==============================] - 0s 11ms/step - loss: 0.2544 - acc: 1.0000\n",
      "Epoch 6/6\n",
      "6/6 [==============================] - 0s 10ms/step - loss: 0.1245 - acc: 1.0000\n",
      "Predicting 71th label...\n"
     ]
    },
    {
     "data": {
      "application/vnd.jupyter.widget-view+json": {
       "model_id": "c9d536e96d6b4ae68a2348243ba78011",
       "version_major": 2,
       "version_minor": 0
      },
      "text/plain": [
       "  0%|          | 0/20 [00:00<?, ?it/s]"
      ]
     },
     "metadata": {},
     "output_type": "display_data"
    },
    {
     "name": "stdout",
     "output_type": "stream",
     "text": [
      "INFO:tensorflow:Assets written to: models/text_model_group_1/text_model_71/assets\n"
     ]
    },
    {
     "name": "stderr",
     "output_type": "stream",
     "text": [
      "INFO:tensorflow:Assets written to: models/text_model_group_1/text_model_71/assets\n"
     ]
    },
    {
     "name": "stdout",
     "output_type": "stream",
     "text": [
      "\n",
      "72'th label prediction started\n",
      "count_one 126\n",
      "count_zero 126\n",
      "Epoch 1/6\n",
      "8/8 [==============================] - 1s 12ms/step - loss: 0.6915 - acc: 0.5556\n",
      "Epoch 2/6\n",
      "8/8 [==============================] - 0s 10ms/step - loss: 0.6064 - acc: 0.9841\n",
      "Epoch 3/6\n",
      "8/8 [==============================] - 0s 10ms/step - loss: 0.4446 - acc: 1.0000\n",
      "Epoch 4/6\n",
      "8/8 [==============================] - 0s 11ms/step - loss: 0.2209 - acc: 1.0000\n",
      "Epoch 5/6\n",
      "8/8 [==============================] - 0s 11ms/step - loss: 0.0710 - acc: 1.0000\n",
      "Epoch 6/6\n",
      "8/8 [==============================] - 0s 11ms/step - loss: 0.0200 - acc: 1.0000\n",
      "Predicting 72th label...\n"
     ]
    },
    {
     "data": {
      "application/vnd.jupyter.widget-view+json": {
       "model_id": "799d3cf353df4dcba5ce6283a5e3be68",
       "version_major": 2,
       "version_minor": 0
      },
      "text/plain": [
       "  0%|          | 0/20 [00:00<?, ?it/s]"
      ]
     },
     "metadata": {},
     "output_type": "display_data"
    },
    {
     "name": "stdout",
     "output_type": "stream",
     "text": [
      "INFO:tensorflow:Assets written to: models/text_model_group_1/text_model_72/assets\n"
     ]
    },
    {
     "name": "stderr",
     "output_type": "stream",
     "text": [
      "INFO:tensorflow:Assets written to: models/text_model_group_1/text_model_72/assets\n"
     ]
    },
    {
     "name": "stdout",
     "output_type": "stream",
     "text": [
      "\n",
      "73'th label prediction started\n",
      "count_one 88\n",
      "count_zero 88\n",
      "Epoch 1/6\n",
      "6/6 [==============================] - 1s 30ms/step - loss: 0.6953 - acc: 0.4943\n",
      "Epoch 2/6\n",
      "6/6 [==============================] - 0s 11ms/step - loss: 0.6307 - acc: 0.9886\n",
      "Epoch 3/6\n",
      "6/6 [==============================] - 0s 11ms/step - loss: 0.5366 - acc: 1.0000\n",
      "Epoch 4/6\n",
      "6/6 [==============================] - 0s 10ms/step - loss: 0.3937 - acc: 0.9943\n",
      "Epoch 5/6\n",
      "6/6 [==============================] - 0s 11ms/step - loss: 0.2241 - acc: 1.0000\n",
      "Epoch 6/6\n",
      "6/6 [==============================] - 0s 11ms/step - loss: 0.0973 - acc: 1.0000\n",
      "Predicting 73th label...\n"
     ]
    },
    {
     "data": {
      "application/vnd.jupyter.widget-view+json": {
       "model_id": "13f47236db4c4a9f988a51c21d4a5b37",
       "version_major": 2,
       "version_minor": 0
      },
      "text/plain": [
       "  0%|          | 0/20 [00:00<?, ?it/s]"
      ]
     },
     "metadata": {},
     "output_type": "display_data"
    },
    {
     "name": "stdout",
     "output_type": "stream",
     "text": [
      "INFO:tensorflow:Assets written to: models/text_model_group_1/text_model_73/assets\n"
     ]
    },
    {
     "name": "stderr",
     "output_type": "stream",
     "text": [
      "INFO:tensorflow:Assets written to: models/text_model_group_1/text_model_73/assets\n"
     ]
    },
    {
     "name": "stdout",
     "output_type": "stream",
     "text": [
      "\n",
      "74'th label prediction started\n",
      "count_one 493\n",
      "count_zero 493\n",
      "Epoch 1/6\n",
      "31/31 [==============================] - 1s 11ms/step - loss: 0.6774 - acc: 0.5619\n",
      "Epoch 2/6\n",
      "31/31 [==============================] - 0s 11ms/step - loss: 0.4546 - acc: 0.8438\n",
      "Epoch 3/6\n",
      "31/31 [==============================] - 0s 11ms/step - loss: 0.1135 - acc: 0.9848\n",
      "Epoch 4/6\n",
      "31/31 [==============================] - 0s 11ms/step - loss: 0.0195 - acc: 0.9980\n",
      "Epoch 5/6\n",
      "31/31 [==============================] - 0s 11ms/step - loss: 0.0071 - acc: 0.9990\n",
      "Epoch 6/6\n",
      "31/31 [==============================] - 0s 10ms/step - loss: 0.0018 - acc: 1.0000\n",
      "Predicting 74th label...\n"
     ]
    },
    {
     "data": {
      "application/vnd.jupyter.widget-view+json": {
       "model_id": "c5c0221b98864d6f9c519ceb3ef144a7",
       "version_major": 2,
       "version_minor": 0
      },
      "text/plain": [
       "  0%|          | 0/20 [00:00<?, ?it/s]"
      ]
     },
     "metadata": {},
     "output_type": "display_data"
    },
    {
     "name": "stdout",
     "output_type": "stream",
     "text": [
      "INFO:tensorflow:Assets written to: models/text_model_group_1/text_model_74/assets\n"
     ]
    },
    {
     "name": "stderr",
     "output_type": "stream",
     "text": [
      "INFO:tensorflow:Assets written to: models/text_model_group_1/text_model_74/assets\n"
     ]
    },
    {
     "name": "stdout",
     "output_type": "stream",
     "text": [
      "\n",
      "75'th label prediction started\n",
      "count_one 140\n",
      "count_zero 140\n",
      "Epoch 1/6\n",
      "9/9 [==============================] - 1s 12ms/step - loss: 0.6984 - acc: 0.5071\n",
      "Epoch 2/6\n",
      "9/9 [==============================] - 0s 11ms/step - loss: 0.6383 - acc: 0.9393\n",
      "Epoch 3/6\n",
      "9/9 [==============================] - 0s 11ms/step - loss: 0.5244 - acc: 1.0000\n",
      "Epoch 4/6\n",
      "9/9 [==============================] - 0s 12ms/step - loss: 0.3331 - acc: 1.0000\n",
      "Epoch 5/6\n",
      "9/9 [==============================] - 0s 11ms/step - loss: 0.1402 - acc: 1.0000\n",
      "Epoch 6/6\n",
      "9/9 [==============================] - 0s 11ms/step - loss: 0.0375 - acc: 1.0000\n",
      "Predicting 75th label...\n"
     ]
    },
    {
     "data": {
      "application/vnd.jupyter.widget-view+json": {
       "model_id": "7b76577b2e87436e9504760c98f2cd42",
       "version_major": 2,
       "version_minor": 0
      },
      "text/plain": [
       "  0%|          | 0/20 [00:00<?, ?it/s]"
      ]
     },
     "metadata": {},
     "output_type": "display_data"
    },
    {
     "name": "stdout",
     "output_type": "stream",
     "text": [
      "INFO:tensorflow:Assets written to: models/text_model_group_1/text_model_75/assets\n"
     ]
    },
    {
     "name": "stderr",
     "output_type": "stream",
     "text": [
      "INFO:tensorflow:Assets written to: models/text_model_group_1/text_model_75/assets\n"
     ]
    },
    {
     "name": "stdout",
     "output_type": "stream",
     "text": [
      "\n",
      "76'th label prediction started\n",
      "count_one 218\n",
      "count_zero 218\n",
      "Epoch 1/6\n",
      "14/14 [==============================] - 1s 19ms/step - loss: 0.7040 - acc: 0.5023\n",
      "Epoch 2/6\n",
      "14/14 [==============================] - 0s 12ms/step - loss: 0.6080 - acc: 0.9289\n",
      "Epoch 3/6\n",
      "14/14 [==============================] - 0s 11ms/step - loss: 0.4009 - acc: 0.9541\n",
      "Epoch 4/6\n",
      "14/14 [==============================] - 0s 11ms/step - loss: 0.1701 - acc: 0.9885\n",
      "Epoch 5/6\n",
      "14/14 [==============================] - 0s 11ms/step - loss: 0.0412 - acc: 1.0000\n",
      "Epoch 6/6\n",
      "14/14 [==============================] - 0s 11ms/step - loss: 0.0091 - acc: 1.0000\n",
      "Predicting 76th label...\n"
     ]
    },
    {
     "data": {
      "application/vnd.jupyter.widget-view+json": {
       "model_id": "b3fb85cd4db54e438ffcf5953eb69ca4",
       "version_major": 2,
       "version_minor": 0
      },
      "text/plain": [
       "  0%|          | 0/20 [00:00<?, ?it/s]"
      ]
     },
     "metadata": {},
     "output_type": "display_data"
    },
    {
     "name": "stdout",
     "output_type": "stream",
     "text": [
      "INFO:tensorflow:Assets written to: models/text_model_group_1/text_model_76/assets\n"
     ]
    },
    {
     "name": "stderr",
     "output_type": "stream",
     "text": [
      "INFO:tensorflow:Assets written to: models/text_model_group_1/text_model_76/assets\n"
     ]
    },
    {
     "name": "stdout",
     "output_type": "stream",
     "text": [
      "\n",
      "77'th label prediction started\n",
      "count_one 146\n",
      "count_zero 146\n",
      "Epoch 1/6\n",
      "10/10 [==============================] - 1s 19ms/step - loss: 0.7050 - acc: 0.4932\n",
      "Epoch 2/6\n",
      "10/10 [==============================] - 0s 11ms/step - loss: 0.6217 - acc: 0.7534\n",
      "Epoch 3/6\n",
      "10/10 [==============================] - 0s 11ms/step - loss: 0.5006 - acc: 0.9863\n",
      "Epoch 4/6\n",
      "10/10 [==============================] - 0s 11ms/step - loss: 0.2946 - acc: 1.0000\n",
      "Epoch 5/6\n",
      "10/10 [==============================] - 0s 11ms/step - loss: 0.1097 - acc: 1.0000\n",
      "Epoch 6/6\n",
      "10/10 [==============================] - 0s 11ms/step - loss: 0.0288 - acc: 1.0000\n",
      "Predicting 77th label...\n"
     ]
    },
    {
     "data": {
      "application/vnd.jupyter.widget-view+json": {
       "model_id": "7c1b61e10c6e4bf4abc1793f1b5ec987",
       "version_major": 2,
       "version_minor": 0
      },
      "text/plain": [
       "  0%|          | 0/20 [00:00<?, ?it/s]"
      ]
     },
     "metadata": {},
     "output_type": "display_data"
    },
    {
     "name": "stdout",
     "output_type": "stream",
     "text": [
      "INFO:tensorflow:Assets written to: models/text_model_group_1/text_model_77/assets\n"
     ]
    },
    {
     "name": "stderr",
     "output_type": "stream",
     "text": [
      "INFO:tensorflow:Assets written to: models/text_model_group_1/text_model_77/assets\n"
     ]
    },
    {
     "name": "stdout",
     "output_type": "stream",
     "text": [
      "\n",
      "78'th label prediction started\n",
      "count_one 102\n",
      "count_zero 102\n",
      "Epoch 1/6\n",
      "7/7 [==============================] - 1s 12ms/step - loss: 0.6988 - acc: 0.5049\n",
      "Epoch 2/6\n",
      "7/7 [==============================] - 0s 11ms/step - loss: 0.6385 - acc: 0.9265\n",
      "Epoch 3/6\n",
      "7/7 [==============================] - 0s 11ms/step - loss: 0.5495 - acc: 1.0000\n",
      "Epoch 4/6\n",
      "7/7 [==============================] - 0s 10ms/step - loss: 0.3940 - acc: 1.0000\n",
      "Epoch 5/6\n",
      "7/7 [==============================] - 0s 10ms/step - loss: 0.2125 - acc: 1.0000\n",
      "Epoch 6/6\n",
      "7/7 [==============================] - 0s 10ms/step - loss: 0.0786 - acc: 1.0000\n",
      "Predicting 78th label...\n"
     ]
    },
    {
     "data": {
      "application/vnd.jupyter.widget-view+json": {
       "model_id": "b42e8de92bb349faae8638ac3a557eb8",
       "version_major": 2,
       "version_minor": 0
      },
      "text/plain": [
       "  0%|          | 0/20 [00:00<?, ?it/s]"
      ]
     },
     "metadata": {},
     "output_type": "display_data"
    },
    {
     "name": "stdout",
     "output_type": "stream",
     "text": [
      "INFO:tensorflow:Assets written to: models/text_model_group_1/text_model_78/assets\n"
     ]
    },
    {
     "name": "stderr",
     "output_type": "stream",
     "text": [
      "INFO:tensorflow:Assets written to: models/text_model_group_1/text_model_78/assets\n"
     ]
    },
    {
     "name": "stdout",
     "output_type": "stream",
     "text": [
      "\n",
      "79'th label prediction started\n",
      "count_one 276\n",
      "count_zero 276\n",
      "Epoch 1/6\n",
      "18/18 [==============================] - 1s 11ms/step - loss: 0.6943 - acc: 0.5290\n",
      "Epoch 2/6\n",
      "18/18 [==============================] - 0s 11ms/step - loss: 0.6056 - acc: 0.8062\n",
      "Epoch 3/6\n",
      "18/18 [==============================] - 0s 11ms/step - loss: 0.3189 - acc: 0.9982\n",
      "Epoch 4/6\n",
      "18/18 [==============================] - 0s 11ms/step - loss: 0.0569 - acc: 0.9982\n",
      "Epoch 5/6\n",
      "18/18 [==============================] - 0s 11ms/step - loss: 0.0067 - acc: 1.0000\n",
      "Epoch 6/6\n",
      "18/18 [==============================] - 0s 11ms/step - loss: 0.0023 - acc: 1.0000\n",
      "Predicting 79th label...\n"
     ]
    },
    {
     "data": {
      "application/vnd.jupyter.widget-view+json": {
       "model_id": "e713673a77ad43489e5829575b4a778a",
       "version_major": 2,
       "version_minor": 0
      },
      "text/plain": [
       "  0%|          | 0/20 [00:00<?, ?it/s]"
      ]
     },
     "metadata": {},
     "output_type": "display_data"
    },
    {
     "name": "stdout",
     "output_type": "stream",
     "text": [
      "INFO:tensorflow:Assets written to: models/text_model_group_1/text_model_79/assets\n"
     ]
    },
    {
     "name": "stderr",
     "output_type": "stream",
     "text": [
      "INFO:tensorflow:Assets written to: models/text_model_group_1/text_model_79/assets\n"
     ]
    },
    {
     "name": "stdout",
     "output_type": "stream",
     "text": [
      "\n",
      "80'th label prediction started\n",
      "count_one 447\n",
      "count_zero 447\n",
      "Epoch 1/6\n",
      "28/28 [==============================] - 1s 16ms/step - loss: 0.6770 - acc: 0.5570\n",
      "Epoch 2/6\n",
      "28/28 [==============================] - 0s 11ms/step - loss: 0.4328 - acc: 0.8624\n",
      "Epoch 3/6\n",
      "28/28 [==============================] - 0s 11ms/step - loss: 0.1464 - acc: 0.9497\n",
      "Epoch 4/6\n",
      "28/28 [==============================] - 0s 11ms/step - loss: 0.0234 - acc: 1.0000\n",
      "Epoch 5/6\n",
      "28/28 [==============================] - 0s 11ms/step - loss: 0.0056 - acc: 1.0000\n",
      "Epoch 6/6\n",
      "28/28 [==============================] - 0s 11ms/step - loss: 0.0023 - acc: 1.0000\n",
      "Predicting 80th label...\n"
     ]
    },
    {
     "data": {
      "application/vnd.jupyter.widget-view+json": {
       "model_id": "609531f0e1cc4157ae32a2e3b8f73161",
       "version_major": 2,
       "version_minor": 0
      },
      "text/plain": [
       "  0%|          | 0/20 [00:00<?, ?it/s]"
      ]
     },
     "metadata": {},
     "output_type": "display_data"
    },
    {
     "name": "stdout",
     "output_type": "stream",
     "text": [
      "INFO:tensorflow:Assets written to: models/text_model_group_1/text_model_80/assets\n"
     ]
    },
    {
     "name": "stderr",
     "output_type": "stream",
     "text": [
      "INFO:tensorflow:Assets written to: models/text_model_group_1/text_model_80/assets\n"
     ]
    },
    {
     "name": "stdout",
     "output_type": "stream",
     "text": [
      "\n",
      "81'th label prediction started\n",
      "count_one 924\n",
      "count_zero 924\n",
      "Epoch 1/6\n",
      "58/58 [==============================] - 1s 13ms/step - loss: 0.5882 - acc: 0.7067\n",
      "Epoch 2/6\n",
      "58/58 [==============================] - 1s 11ms/step - loss: 0.2451 - acc: 0.8994\n",
      "Epoch 3/6\n",
      "58/58 [==============================] - 1s 11ms/step - loss: 0.0374 - acc: 0.9930\n",
      "Epoch 4/6\n",
      "58/58 [==============================] - 1s 11ms/step - loss: 0.0046 - acc: 1.0000\n",
      "Epoch 5/6\n",
      "58/58 [==============================] - 1s 11ms/step - loss: 0.0019 - acc: 1.0000\n",
      "Epoch 6/6\n",
      "58/58 [==============================] - 1s 11ms/step - loss: 9.7876e-04 - acc: 1.0000\n",
      "Predicting 81th label...\n"
     ]
    },
    {
     "data": {
      "application/vnd.jupyter.widget-view+json": {
       "model_id": "f87607530d244f1f8c26f59fbc96080d",
       "version_major": 2,
       "version_minor": 0
      },
      "text/plain": [
       "  0%|          | 0/20 [00:00<?, ?it/s]"
      ]
     },
     "metadata": {},
     "output_type": "display_data"
    },
    {
     "name": "stdout",
     "output_type": "stream",
     "text": [
      "INFO:tensorflow:Assets written to: models/text_model_group_1/text_model_81/assets\n"
     ]
    },
    {
     "name": "stderr",
     "output_type": "stream",
     "text": [
      "INFO:tensorflow:Assets written to: models/text_model_group_1/text_model_81/assets\n"
     ]
    },
    {
     "name": "stdout",
     "output_type": "stream",
     "text": [
      "\n",
      "82'th label prediction started\n",
      "count_one 538\n",
      "count_zero 538\n",
      "Epoch 1/6\n",
      "34/34 [==============================] - 1s 14ms/step - loss: 0.6120 - acc: 0.6608\n",
      "Epoch 2/6\n",
      "34/34 [==============================] - 0s 11ms/step - loss: 0.2776 - acc: 0.8866\n",
      "Epoch 3/6\n",
      "34/34 [==============================] - 0s 11ms/step - loss: 0.0828 - acc: 0.9796\n",
      "Epoch 4/6\n",
      "34/34 [==============================] - 0s 11ms/step - loss: 0.0105 - acc: 1.0000\n",
      "Epoch 5/6\n",
      "34/34 [==============================] - 0s 11ms/step - loss: 0.0034 - acc: 1.0000\n",
      "Epoch 6/6\n",
      "34/34 [==============================] - 0s 11ms/step - loss: 0.0016 - acc: 1.0000\n",
      "Predicting 82th label...\n"
     ]
    },
    {
     "data": {
      "application/vnd.jupyter.widget-view+json": {
       "model_id": "8eccc401853446adba20e46010a7372a",
       "version_major": 2,
       "version_minor": 0
      },
      "text/plain": [
       "  0%|          | 0/20 [00:00<?, ?it/s]"
      ]
     },
     "metadata": {},
     "output_type": "display_data"
    },
    {
     "name": "stdout",
     "output_type": "stream",
     "text": [
      "INFO:tensorflow:Assets written to: models/text_model_group_1/text_model_82/assets\n"
     ]
    },
    {
     "name": "stderr",
     "output_type": "stream",
     "text": [
      "INFO:tensorflow:Assets written to: models/text_model_group_1/text_model_82/assets\n"
     ]
    },
    {
     "name": "stdout",
     "output_type": "stream",
     "text": [
      "\n",
      "83'th label prediction started\n",
      "count_one 112\n",
      "count_zero 112\n",
      "Epoch 1/6\n",
      "7/7 [==============================] - 1s 12ms/step - loss: 0.6888 - acc: 0.5312\n",
      "Epoch 2/6\n",
      "7/7 [==============================] - 0s 10ms/step - loss: 0.6086 - acc: 0.9911\n",
      "Epoch 3/6\n",
      "7/7 [==============================] - 0s 9ms/step - loss: 0.4707 - acc: 1.0000\n",
      "Epoch 4/6\n",
      "7/7 [==============================] - 0s 10ms/step - loss: 0.2861 - acc: 1.0000\n",
      "Epoch 5/6\n",
      "7/7 [==============================] - 0s 11ms/step - loss: 0.1242 - acc: 1.0000\n",
      "Epoch 6/6\n",
      "7/7 [==============================] - 0s 9ms/step - loss: 0.0410 - acc: 1.0000\n",
      "Predicting 83th label...\n"
     ]
    },
    {
     "data": {
      "application/vnd.jupyter.widget-view+json": {
       "model_id": "ccef23a4f08948328a9d41d5cb38e308",
       "version_major": 2,
       "version_minor": 0
      },
      "text/plain": [
       "  0%|          | 0/20 [00:00<?, ?it/s]"
      ]
     },
     "metadata": {},
     "output_type": "display_data"
    },
    {
     "name": "stdout",
     "output_type": "stream",
     "text": [
      "INFO:tensorflow:Assets written to: models/text_model_group_1/text_model_83/assets\n"
     ]
    },
    {
     "name": "stderr",
     "output_type": "stream",
     "text": [
      "INFO:tensorflow:Assets written to: models/text_model_group_1/text_model_83/assets\n"
     ]
    },
    {
     "name": "stdout",
     "output_type": "stream",
     "text": [
      "\n",
      "84'th label prediction started\n",
      "count_one 891\n",
      "count_zero 891\n",
      "Epoch 1/6\n",
      "56/56 [==============================] - 1s 13ms/step - loss: 0.5540 - acc: 0.7323\n",
      "Epoch 2/6\n",
      "56/56 [==============================] - 1s 11ms/step - loss: 0.2263 - acc: 0.9046\n",
      "Epoch 3/6\n",
      "56/56 [==============================] - 1s 11ms/step - loss: 0.0525 - acc: 0.9865\n",
      "Epoch 4/6\n",
      "56/56 [==============================] - 1s 10ms/step - loss: 0.0182 - acc: 0.9978\n",
      "Epoch 5/6\n",
      "56/56 [==============================] - 1s 11ms/step - loss: 0.0089 - acc: 0.9978\n",
      "Epoch 6/6\n",
      "56/56 [==============================] - 1s 11ms/step - loss: 0.0013 - acc: 1.0000\n",
      "Predicting 84th label...\n"
     ]
    },
    {
     "data": {
      "application/vnd.jupyter.widget-view+json": {
       "model_id": "cdbd83c99aad4ff0bb36fa8a7fccf416",
       "version_major": 2,
       "version_minor": 0
      },
      "text/plain": [
       "  0%|          | 0/20 [00:00<?, ?it/s]"
      ]
     },
     "metadata": {},
     "output_type": "display_data"
    },
    {
     "name": "stdout",
     "output_type": "stream",
     "text": [
      "INFO:tensorflow:Assets written to: models/text_model_group_1/text_model_84/assets\n"
     ]
    },
    {
     "name": "stderr",
     "output_type": "stream",
     "text": [
      "INFO:tensorflow:Assets written to: models/text_model_group_1/text_model_84/assets\n"
     ]
    },
    {
     "name": "stdout",
     "output_type": "stream",
     "text": [
      "\n",
      "85'th label prediction started\n",
      "count_one 256\n",
      "count_zero 256\n",
      "Epoch 1/6\n",
      "16/16 [==============================] - 1s 12ms/step - loss: 0.7045 - acc: 0.5137\n",
      "Epoch 2/6\n",
      "16/16 [==============================] - 0s 10ms/step - loss: 0.6266 - acc: 0.8789\n",
      "Epoch 3/6\n",
      "16/16 [==============================] - 0s 10ms/step - loss: 0.4349 - acc: 0.9980\n",
      "Epoch 4/6\n",
      "16/16 [==============================] - 0s 11ms/step - loss: 0.1445 - acc: 0.9980\n",
      "Epoch 5/6\n",
      "16/16 [==============================] - 0s 11ms/step - loss: 0.0200 - acc: 1.0000\n",
      "Epoch 6/6\n",
      "16/16 [==============================] - 0s 10ms/step - loss: 0.0044 - acc: 1.0000\n",
      "Predicting 85th label...\n"
     ]
    },
    {
     "data": {
      "application/vnd.jupyter.widget-view+json": {
       "model_id": "543f5688eedb4d1db92fec382a5bcded",
       "version_major": 2,
       "version_minor": 0
      },
      "text/plain": [
       "  0%|          | 0/20 [00:00<?, ?it/s]"
      ]
     },
     "metadata": {},
     "output_type": "display_data"
    },
    {
     "name": "stdout",
     "output_type": "stream",
     "text": [
      "INFO:tensorflow:Assets written to: models/text_model_group_1/text_model_85/assets\n"
     ]
    },
    {
     "name": "stderr",
     "output_type": "stream",
     "text": [
      "INFO:tensorflow:Assets written to: models/text_model_group_1/text_model_85/assets\n"
     ]
    },
    {
     "name": "stdout",
     "output_type": "stream",
     "text": [
      "\n",
      "86'th label prediction started\n",
      "count_one 209\n",
      "count_zero 209\n",
      "Epoch 1/6\n",
      "14/14 [==============================] - 1s 11ms/step - loss: 0.7119 - acc: 0.4833\n",
      "Epoch 2/6\n",
      "14/14 [==============================] - 0s 10ms/step - loss: 0.6224 - acc: 0.9426\n",
      "Epoch 3/6\n",
      "14/14 [==============================] - 0s 11ms/step - loss: 0.4610 - acc: 0.9498\n",
      "Epoch 4/6\n",
      "14/14 [==============================] - 0s 11ms/step - loss: 0.2366 - acc: 0.9761\n",
      "Epoch 5/6\n",
      "14/14 [==============================] - 0s 10ms/step - loss: 0.0685 - acc: 1.0000\n",
      "Epoch 6/6\n",
      "14/14 [==============================] - 0s 10ms/step - loss: 0.0168 - acc: 1.0000\n",
      "Predicting 86th label...\n"
     ]
    },
    {
     "data": {
      "application/vnd.jupyter.widget-view+json": {
       "model_id": "2ff62240d15248ffbced560105a58b9f",
       "version_major": 2,
       "version_minor": 0
      },
      "text/plain": [
       "  0%|          | 0/20 [00:00<?, ?it/s]"
      ]
     },
     "metadata": {},
     "output_type": "display_data"
    },
    {
     "name": "stdout",
     "output_type": "stream",
     "text": [
      "INFO:tensorflow:Assets written to: models/text_model_group_1/text_model_86/assets\n"
     ]
    },
    {
     "name": "stderr",
     "output_type": "stream",
     "text": [
      "INFO:tensorflow:Assets written to: models/text_model_group_1/text_model_86/assets\n"
     ]
    },
    {
     "name": "stdout",
     "output_type": "stream",
     "text": [
      "\n",
      "87'th label prediction started\n",
      "count_one 389\n",
      "count_zero 389\n",
      "Epoch 1/6\n",
      "25/25 [==============================] - 1s 10ms/step - loss: 0.6550 - acc: 0.7095\n",
      "Epoch 2/6\n",
      "25/25 [==============================] - 0s 10ms/step - loss: 0.3012 - acc: 0.9152\n",
      "Epoch 3/6\n",
      "25/25 [==============================] - 0s 11ms/step - loss: 0.1022 - acc: 0.9653\n",
      "Epoch 4/6\n",
      "25/25 [==============================] - 0s 10ms/step - loss: 0.0280 - acc: 0.9974\n",
      "Epoch 5/6\n",
      "25/25 [==============================] - 0s 10ms/step - loss: 0.0064 - acc: 1.0000\n",
      "Epoch 6/6\n",
      "25/25 [==============================] - 0s 11ms/step - loss: 0.0027 - acc: 1.0000\n",
      "Predicting 87th label...\n"
     ]
    },
    {
     "data": {
      "application/vnd.jupyter.widget-view+json": {
       "model_id": "1fc279cbe08a45fc99a1730928c4460f",
       "version_major": 2,
       "version_minor": 0
      },
      "text/plain": [
       "  0%|          | 0/20 [00:00<?, ?it/s]"
      ]
     },
     "metadata": {},
     "output_type": "display_data"
    },
    {
     "name": "stdout",
     "output_type": "stream",
     "text": [
      "INFO:tensorflow:Assets written to: models/text_model_group_1/text_model_87/assets\n"
     ]
    },
    {
     "name": "stderr",
     "output_type": "stream",
     "text": [
      "INFO:tensorflow:Assets written to: models/text_model_group_1/text_model_87/assets\n"
     ]
    },
    {
     "name": "stdout",
     "output_type": "stream",
     "text": [
      "\n",
      "88'th label prediction started\n",
      "count_one 385\n",
      "count_zero 385\n",
      "Epoch 1/6\n",
      "25/25 [==============================] - 1s 18ms/step - loss: 0.6793 - acc: 0.5948\n",
      "Epoch 2/6\n",
      "25/25 [==============================] - 0s 10ms/step - loss: 0.4821 - acc: 0.9260\n",
      "Epoch 3/6\n",
      "25/25 [==============================] - 0s 11ms/step - loss: 0.1349 - acc: 0.9857\n",
      "Epoch 4/6\n",
      "25/25 [==============================] - 0s 11ms/step - loss: 0.0171 - acc: 0.9987\n",
      "Epoch 5/6\n",
      "25/25 [==============================] - 0s 11ms/step - loss: 0.0045 - acc: 1.0000\n",
      "Epoch 6/6\n",
      "25/25 [==============================] - 0s 10ms/step - loss: 0.0018 - acc: 1.0000\n",
      "Predicting 88th label...\n"
     ]
    },
    {
     "data": {
      "application/vnd.jupyter.widget-view+json": {
       "model_id": "95c8bc009f03419e8a46c5d9120a149c",
       "version_major": 2,
       "version_minor": 0
      },
      "text/plain": [
       "  0%|          | 0/20 [00:00<?, ?it/s]"
      ]
     },
     "metadata": {},
     "output_type": "display_data"
    },
    {
     "name": "stdout",
     "output_type": "stream",
     "text": [
      "INFO:tensorflow:Assets written to: models/text_model_group_1/text_model_88/assets\n"
     ]
    },
    {
     "name": "stderr",
     "output_type": "stream",
     "text": [
      "INFO:tensorflow:Assets written to: models/text_model_group_1/text_model_88/assets\n"
     ]
    },
    {
     "name": "stdout",
     "output_type": "stream",
     "text": [
      "\n",
      "89'th label prediction started\n",
      "count_one 270\n",
      "count_zero 270\n",
      "Epoch 1/6\n",
      "17/17 [==============================] - 1s 11ms/step - loss: 0.6946 - acc: 0.5537\n",
      "Epoch 2/6\n",
      "17/17 [==============================] - 0s 10ms/step - loss: 0.5714 - acc: 0.7741\n",
      "Epoch 3/6\n",
      "17/17 [==============================] - 0s 11ms/step - loss: 0.2980 - acc: 0.9278\n",
      "Epoch 4/6\n",
      "17/17 [==============================] - 0s 11ms/step - loss: 0.1122 - acc: 0.9796\n",
      "Epoch 5/6\n",
      "17/17 [==============================] - 0s 11ms/step - loss: 0.0293 - acc: 0.9981\n",
      "Epoch 6/6\n",
      "17/17 [==============================] - 0s 10ms/step - loss: 0.0066 - acc: 1.0000\n",
      "Predicting 89th label...\n"
     ]
    },
    {
     "data": {
      "application/vnd.jupyter.widget-view+json": {
       "model_id": "24f8af6d1c9d48ff954a612dcfe536b4",
       "version_major": 2,
       "version_minor": 0
      },
      "text/plain": [
       "  0%|          | 0/20 [00:00<?, ?it/s]"
      ]
     },
     "metadata": {},
     "output_type": "display_data"
    },
    {
     "name": "stdout",
     "output_type": "stream",
     "text": [
      "INFO:tensorflow:Assets written to: models/text_model_group_1/text_model_89/assets\n"
     ]
    },
    {
     "name": "stderr",
     "output_type": "stream",
     "text": [
      "INFO:tensorflow:Assets written to: models/text_model_group_1/text_model_89/assets\n"
     ]
    },
    {
     "name": "stdout",
     "output_type": "stream",
     "text": [
      "\n",
      "90'th label prediction started\n",
      "count_one 413\n",
      "count_zero 413\n",
      "Epoch 1/6\n",
      "26/26 [==============================] - 1s 11ms/step - loss: 0.6905 - acc: 0.5412\n",
      "Epoch 2/6\n",
      "26/26 [==============================] - 0s 12ms/step - loss: 0.5711 - acc: 0.7470\n",
      "Epoch 3/6\n",
      "26/26 [==============================] - 0s 11ms/step - loss: 0.2431 - acc: 0.9649\n",
      "Epoch 4/6\n",
      "26/26 [==============================] - 0s 11ms/step - loss: 0.0311 - acc: 0.9964\n",
      "Epoch 5/6\n",
      "26/26 [==============================] - 0s 10ms/step - loss: 0.0050 - acc: 1.0000\n",
      "Epoch 6/6\n",
      "26/26 [==============================] - 0s 11ms/step - loss: 0.0021 - acc: 1.0000\n",
      "Predicting 90th label...\n"
     ]
    },
    {
     "data": {
      "application/vnd.jupyter.widget-view+json": {
       "model_id": "5e5924994b9d47a79cae590ed90f89c6",
       "version_major": 2,
       "version_minor": 0
      },
      "text/plain": [
       "  0%|          | 0/20 [00:00<?, ?it/s]"
      ]
     },
     "metadata": {},
     "output_type": "display_data"
    },
    {
     "name": "stdout",
     "output_type": "stream",
     "text": [
      "INFO:tensorflow:Assets written to: models/text_model_group_1/text_model_90/assets\n"
     ]
    },
    {
     "name": "stderr",
     "output_type": "stream",
     "text": [
      "INFO:tensorflow:Assets written to: models/text_model_group_1/text_model_90/assets\n"
     ]
    },
    {
     "name": "stdout",
     "output_type": "stream",
     "text": [
      "\n",
      "91'th label prediction started\n",
      "count_one 293\n",
      "count_zero 293\n",
      "Epoch 1/6\n",
      "19/19 [==============================] - 1s 11ms/step - loss: 0.7015 - acc: 0.5324\n",
      "Epoch 2/6\n",
      "19/19 [==============================] - 0s 11ms/step - loss: 0.6308 - acc: 0.7287\n",
      "Epoch 3/6\n",
      "19/19 [==============================] - 0s 11ms/step - loss: 0.3651 - acc: 0.9932\n",
      "Epoch 4/6\n",
      "19/19 [==============================] - 0s 11ms/step - loss: 0.0815 - acc: 0.9949\n",
      "Epoch 5/6\n",
      "19/19 [==============================] - 0s 11ms/step - loss: 0.0111 - acc: 1.0000\n",
      "Epoch 6/6\n",
      "19/19 [==============================] - 0s 11ms/step - loss: 0.0033 - acc: 1.0000\n",
      "Predicting 91th label...\n"
     ]
    },
    {
     "data": {
      "application/vnd.jupyter.widget-view+json": {
       "model_id": "f32c9d4aeadb45d6b30e55e571ca60c5",
       "version_major": 2,
       "version_minor": 0
      },
      "text/plain": [
       "  0%|          | 0/20 [00:00<?, ?it/s]"
      ]
     },
     "metadata": {},
     "output_type": "display_data"
    },
    {
     "name": "stdout",
     "output_type": "stream",
     "text": [
      "INFO:tensorflow:Assets written to: models/text_model_group_1/text_model_91/assets\n"
     ]
    },
    {
     "name": "stderr",
     "output_type": "stream",
     "text": [
      "INFO:tensorflow:Assets written to: models/text_model_group_1/text_model_91/assets\n"
     ]
    },
    {
     "name": "stdout",
     "output_type": "stream",
     "text": [
      "\n",
      "92'th label prediction started\n",
      "count_one 354\n",
      "count_zero 354\n",
      "Epoch 1/6\n",
      "23/23 [==============================] - 1s 16ms/step - loss: 0.6967 - acc: 0.5410\n",
      "Epoch 2/6\n",
      "23/23 [==============================] - 0s 11ms/step - loss: 0.5055 - acc: 0.8206\n",
      "Epoch 3/6\n",
      "23/23 [==============================] - 0s 11ms/step - loss: 0.1901 - acc: 0.9562\n",
      "Epoch 4/6\n",
      "23/23 [==============================] - 0s 11ms/step - loss: 0.0424 - acc: 0.9929\n",
      "Epoch 5/6\n",
      "23/23 [==============================] - 0s 11ms/step - loss: 0.0076 - acc: 1.0000\n",
      "Epoch 6/6\n",
      "23/23 [==============================] - 0s 11ms/step - loss: 0.0032 - acc: 1.0000\n",
      "Predicting 92th label...\n"
     ]
    },
    {
     "data": {
      "application/vnd.jupyter.widget-view+json": {
       "model_id": "2fcfee51c8a347dfad938de00df0ac32",
       "version_major": 2,
       "version_minor": 0
      },
      "text/plain": [
       "  0%|          | 0/20 [00:00<?, ?it/s]"
      ]
     },
     "metadata": {},
     "output_type": "display_data"
    },
    {
     "name": "stdout",
     "output_type": "stream",
     "text": [
      "INFO:tensorflow:Assets written to: models/text_model_group_1/text_model_92/assets\n"
     ]
    },
    {
     "name": "stderr",
     "output_type": "stream",
     "text": [
      "INFO:tensorflow:Assets written to: models/text_model_group_1/text_model_92/assets\n"
     ]
    },
    {
     "name": "stdout",
     "output_type": "stream",
     "text": [
      "\n",
      "93'th label prediction started\n",
      "count_one 442\n",
      "count_zero 442\n",
      "Epoch 1/6\n",
      "28/28 [==============================] - 1s 11ms/step - loss: 0.6718 - acc: 0.5735\n",
      "Epoch 2/6\n",
      "28/28 [==============================] - 0s 11ms/step - loss: 0.4618 - acc: 0.8473\n",
      "Epoch 3/6\n",
      "28/28 [==============================] - 0s 10ms/step - loss: 0.1254 - acc: 0.9819\n",
      "Epoch 4/6\n",
      "28/28 [==============================] - 0s 11ms/step - loss: 0.0156 - acc: 0.9989\n",
      "Epoch 5/6\n",
      "28/28 [==============================] - 0s 11ms/step - loss: 0.0041 - acc: 1.0000\n",
      "Epoch 6/6\n",
      "28/28 [==============================] - 0s 11ms/step - loss: 0.0018 - acc: 1.0000\n",
      "Predicting 93th label...\n"
     ]
    },
    {
     "data": {
      "application/vnd.jupyter.widget-view+json": {
       "model_id": "10783a16f810485b857a7ab64b10895e",
       "version_major": 2,
       "version_minor": 0
      },
      "text/plain": [
       "  0%|          | 0/20 [00:00<?, ?it/s]"
      ]
     },
     "metadata": {},
     "output_type": "display_data"
    },
    {
     "name": "stdout",
     "output_type": "stream",
     "text": [
      "INFO:tensorflow:Assets written to: models/text_model_group_1/text_model_93/assets\n"
     ]
    },
    {
     "name": "stderr",
     "output_type": "stream",
     "text": [
      "INFO:tensorflow:Assets written to: models/text_model_group_1/text_model_93/assets\n"
     ]
    },
    {
     "name": "stdout",
     "output_type": "stream",
     "text": [
      "\n",
      "94'th label prediction started\n",
      "count_one 212\n",
      "count_zero 212\n",
      "Epoch 1/6\n",
      "14/14 [==============================] - 1s 11ms/step - loss: 0.6967 - acc: 0.5165\n",
      "Epoch 2/6\n",
      "14/14 [==============================] - 0s 10ms/step - loss: 0.5855 - acc: 0.9670\n",
      "Epoch 3/6\n",
      "14/14 [==============================] - 0s 10ms/step - loss: 0.3186 - acc: 0.9929\n",
      "Epoch 4/6\n",
      "14/14 [==============================] - 0s 10ms/step - loss: 0.0831 - acc: 0.9953\n",
      "Epoch 5/6\n",
      "14/14 [==============================] - 0s 10ms/step - loss: 0.0172 - acc: 0.9976\n",
      "Epoch 6/6\n",
      "14/14 [==============================] - 0s 11ms/step - loss: 0.0042 - acc: 1.0000\n",
      "Predicting 94th label...\n"
     ]
    },
    {
     "data": {
      "application/vnd.jupyter.widget-view+json": {
       "model_id": "764fd8aaa4024ab2b8a5bd8a1e8f9600",
       "version_major": 2,
       "version_minor": 0
      },
      "text/plain": [
       "  0%|          | 0/20 [00:00<?, ?it/s]"
      ]
     },
     "metadata": {},
     "output_type": "display_data"
    },
    {
     "name": "stdout",
     "output_type": "stream",
     "text": [
      "INFO:tensorflow:Assets written to: models/text_model_group_1/text_model_94/assets\n"
     ]
    },
    {
     "name": "stderr",
     "output_type": "stream",
     "text": [
      "INFO:tensorflow:Assets written to: models/text_model_group_1/text_model_94/assets\n"
     ]
    },
    {
     "name": "stdout",
     "output_type": "stream",
     "text": [
      "\n",
      "95'th label prediction started\n",
      "count_one 386\n",
      "count_zero 386\n",
      "Epoch 1/6\n",
      "25/25 [==============================] - 1s 15ms/step - loss: 0.6705 - acc: 0.5959\n",
      "Epoch 2/6\n",
      "25/25 [==============================] - 0s 10ms/step - loss: 0.4536 - acc: 0.8368\n",
      "Epoch 3/6\n",
      "25/25 [==============================] - 0s 10ms/step - loss: 0.1535 - acc: 0.9624\n",
      "Epoch 4/6\n",
      "25/25 [==============================] - 0s 11ms/step - loss: 0.0305 - acc: 0.9961\n",
      "Epoch 5/6\n",
      "25/25 [==============================] - 0s 11ms/step - loss: 0.0062 - acc: 1.0000\n",
      "Epoch 6/6\n",
      "25/25 [==============================] - 0s 11ms/step - loss: 0.0026 - acc: 1.0000\n",
      "Predicting 95th label...\n"
     ]
    },
    {
     "data": {
      "application/vnd.jupyter.widget-view+json": {
       "model_id": "6d22d041653d46e48ca1d22770afbfd3",
       "version_major": 2,
       "version_minor": 0
      },
      "text/plain": [
       "  0%|          | 0/20 [00:00<?, ?it/s]"
      ]
     },
     "metadata": {},
     "output_type": "display_data"
    },
    {
     "name": "stdout",
     "output_type": "stream",
     "text": [
      "INFO:tensorflow:Assets written to: models/text_model_group_1/text_model_95/assets\n"
     ]
    },
    {
     "name": "stderr",
     "output_type": "stream",
     "text": [
      "INFO:tensorflow:Assets written to: models/text_model_group_1/text_model_95/assets\n"
     ]
    },
    {
     "name": "stdout",
     "output_type": "stream",
     "text": [
      "\n",
      "96'th label prediction started\n",
      "count_one 175\n",
      "count_zero 175\n",
      "Epoch 1/6\n",
      "11/11 [==============================] - 1s 11ms/step - loss: 0.6923 - acc: 0.5057\n",
      "Epoch 2/6\n",
      "11/11 [==============================] - 0s 10ms/step - loss: 0.6066 - acc: 0.9600\n",
      "Epoch 3/6\n",
      "11/11 [==============================] - 0s 11ms/step - loss: 0.4214 - acc: 0.9771\n",
      "Epoch 4/6\n",
      "11/11 [==============================] - 0s 11ms/step - loss: 0.1880 - acc: 0.9800\n",
      "Epoch 5/6\n",
      "11/11 [==============================] - 0s 11ms/step - loss: 0.0597 - acc: 0.9914\n",
      "Epoch 6/6\n",
      "11/11 [==============================] - 0s 10ms/step - loss: 0.0132 - acc: 1.0000\n",
      "Predicting 96th label...\n"
     ]
    },
    {
     "data": {
      "application/vnd.jupyter.widget-view+json": {
       "model_id": "18fbf5f63c5b458782df272656201d90",
       "version_major": 2,
       "version_minor": 0
      },
      "text/plain": [
       "  0%|          | 0/20 [00:00<?, ?it/s]"
      ]
     },
     "metadata": {},
     "output_type": "display_data"
    },
    {
     "name": "stdout",
     "output_type": "stream",
     "text": [
      "INFO:tensorflow:Assets written to: models/text_model_group_1/text_model_96/assets\n"
     ]
    },
    {
     "name": "stderr",
     "output_type": "stream",
     "text": [
      "INFO:tensorflow:Assets written to: models/text_model_group_1/text_model_96/assets\n"
     ]
    },
    {
     "name": "stdout",
     "output_type": "stream",
     "text": [
      "\n",
      "97'th label prediction started\n",
      "count_one 161\n",
      "count_zero 161\n",
      "Epoch 1/6\n",
      "11/11 [==============================] - 1s 19ms/step - loss: 0.6932 - acc: 0.5248\n",
      "Epoch 2/6\n",
      "11/11 [==============================] - 0s 11ms/step - loss: 0.6034 - acc: 0.7205\n",
      "Epoch 3/6\n",
      "11/11 [==============================] - 0s 10ms/step - loss: 0.4514 - acc: 1.0000\n",
      "Epoch 4/6\n",
      "11/11 [==============================] - 0s 11ms/step - loss: 0.2248 - acc: 0.9969\n",
      "Epoch 5/6\n",
      "11/11 [==============================] - 0s 11ms/step - loss: 0.0733 - acc: 0.9969\n",
      "Epoch 6/6\n",
      "11/11 [==============================] - 0s 11ms/step - loss: 0.0194 - acc: 1.0000\n",
      "Predicting 97th label...\n"
     ]
    },
    {
     "data": {
      "application/vnd.jupyter.widget-view+json": {
       "model_id": "a179872cd2e8449d898cdae667246908",
       "version_major": 2,
       "version_minor": 0
      },
      "text/plain": [
       "  0%|          | 0/20 [00:00<?, ?it/s]"
      ]
     },
     "metadata": {},
     "output_type": "display_data"
    },
    {
     "name": "stdout",
     "output_type": "stream",
     "text": [
      "INFO:tensorflow:Assets written to: models/text_model_group_1/text_model_97/assets\n"
     ]
    },
    {
     "name": "stderr",
     "output_type": "stream",
     "text": [
      "INFO:tensorflow:Assets written to: models/text_model_group_1/text_model_97/assets\n"
     ]
    },
    {
     "name": "stdout",
     "output_type": "stream",
     "text": [
      "\n",
      "98'th label prediction started\n",
      "count_one 117\n",
      "count_zero 117\n",
      "Epoch 1/6\n",
      "8/8 [==============================] - 1s 11ms/step - loss: 0.6965 - acc: 0.4829\n",
      "Epoch 2/6\n",
      "8/8 [==============================] - 0s 10ms/step - loss: 0.6365 - acc: 0.7735\n",
      "Epoch 3/6\n",
      "8/8 [==============================] - 0s 10ms/step - loss: 0.5524 - acc: 0.9786\n",
      "Epoch 4/6\n",
      "8/8 [==============================] - 0s 10ms/step - loss: 0.3948 - acc: 0.9957\n",
      "Epoch 5/6\n",
      "8/8 [==============================] - 0s 10ms/step - loss: 0.2046 - acc: 0.9957\n",
      "Epoch 6/6\n",
      "8/8 [==============================] - 0s 12ms/step - loss: 0.0766 - acc: 1.0000\n",
      "Predicting 98th label...\n"
     ]
    },
    {
     "data": {
      "application/vnd.jupyter.widget-view+json": {
       "model_id": "394e1fdb56bf4e2ab246dceb3831b1a4",
       "version_major": 2,
       "version_minor": 0
      },
      "text/plain": [
       "  0%|          | 0/20 [00:00<?, ?it/s]"
      ]
     },
     "metadata": {},
     "output_type": "display_data"
    },
    {
     "name": "stdout",
     "output_type": "stream",
     "text": [
      "INFO:tensorflow:Assets written to: models/text_model_group_1/text_model_98/assets\n"
     ]
    },
    {
     "name": "stderr",
     "output_type": "stream",
     "text": [
      "INFO:tensorflow:Assets written to: models/text_model_group_1/text_model_98/assets\n"
     ]
    },
    {
     "name": "stdout",
     "output_type": "stream",
     "text": [
      "\n",
      "99'th label prediction started\n",
      "count_one 344\n",
      "count_zero 344\n",
      "Epoch 1/6\n",
      "22/22 [==============================] - 1s 11ms/step - loss: 0.6950 - acc: 0.5523\n",
      "Epoch 2/6\n",
      "22/22 [==============================] - 0s 11ms/step - loss: 0.5372 - acc: 0.8110\n",
      "Epoch 3/6\n",
      "22/22 [==============================] - 0s 11ms/step - loss: 0.2056 - acc: 0.9637\n",
      "Epoch 4/6\n",
      "22/22 [==============================] - 0s 11ms/step - loss: 0.0441 - acc: 0.9942\n",
      "Epoch 5/6\n",
      "22/22 [==============================] - 0s 11ms/step - loss: 0.0084 - acc: 1.0000\n",
      "Epoch 6/6\n",
      "22/22 [==============================] - 0s 12ms/step - loss: 0.0029 - acc: 1.0000\n",
      "Predicting 99th label...\n"
     ]
    },
    {
     "data": {
      "application/vnd.jupyter.widget-view+json": {
       "model_id": "3d44c943135444bfb08d13bea0e64394",
       "version_major": 2,
       "version_minor": 0
      },
      "text/plain": [
       "  0%|          | 0/20 [00:00<?, ?it/s]"
      ]
     },
     "metadata": {},
     "output_type": "display_data"
    },
    {
     "name": "stdout",
     "output_type": "stream",
     "text": [
      "INFO:tensorflow:Assets written to: models/text_model_group_1/text_model_99/assets\n"
     ]
    },
    {
     "name": "stderr",
     "output_type": "stream",
     "text": [
      "INFO:tensorflow:Assets written to: models/text_model_group_1/text_model_99/assets\n"
     ]
    },
    {
     "name": "stdout",
     "output_type": "stream",
     "text": [
      "\n",
      "100'th label prediction started\n",
      "count_one 197\n",
      "count_zero 197\n",
      "Epoch 1/6\n",
      "13/13 [==============================] - 1s 11ms/step - loss: 0.6957 - acc: 0.5431\n",
      "Epoch 2/6\n",
      "13/13 [==============================] - 0s 10ms/step - loss: 0.5154 - acc: 0.9518\n",
      "Epoch 3/6\n",
      "13/13 [==============================] - 0s 11ms/step - loss: 0.2461 - acc: 0.9365\n",
      "Epoch 4/6\n",
      "13/13 [==============================] - 0s 11ms/step - loss: 0.0997 - acc: 0.9924\n",
      "Epoch 5/6\n",
      "13/13 [==============================] - 0s 10ms/step - loss: 0.0427 - acc: 0.9949\n",
      "Epoch 6/6\n",
      "13/13 [==============================] - 0s 11ms/step - loss: 0.0146 - acc: 0.9975\n",
      "Predicting 100th label...\n"
     ]
    },
    {
     "data": {
      "application/vnd.jupyter.widget-view+json": {
       "model_id": "db058893ba8741ca9b516e69e1b8c138",
       "version_major": 2,
       "version_minor": 0
      },
      "text/plain": [
       "  0%|          | 0/20 [00:00<?, ?it/s]"
      ]
     },
     "metadata": {},
     "output_type": "display_data"
    },
    {
     "name": "stdout",
     "output_type": "stream",
     "text": [
      "INFO:tensorflow:Assets written to: models/text_model_group_1/text_model_100/assets\n"
     ]
    },
    {
     "name": "stderr",
     "output_type": "stream",
     "text": [
      "INFO:tensorflow:Assets written to: models/text_model_group_1/text_model_100/assets\n"
     ]
    },
    {
     "name": "stdout",
     "output_type": "stream",
     "text": [
      "\n",
      "101'th label prediction started\n",
      "count_one 587\n",
      "count_zero 587\n",
      "Epoch 1/6\n",
      "37/37 [==============================] - 1s 14ms/step - loss: 0.6896 - acc: 0.5767\n",
      "Epoch 2/6\n",
      "37/37 [==============================] - 0s 10ms/step - loss: 0.5427 - acc: 0.7121\n",
      "Epoch 3/6\n",
      "37/37 [==============================] - 0s 11ms/step - loss: 0.2434 - acc: 0.9208\n",
      "Epoch 4/6\n",
      "37/37 [==============================] - 0s 11ms/step - loss: 0.0487 - acc: 0.9932\n",
      "Epoch 5/6\n",
      "37/37 [==============================] - 0s 11ms/step - loss: 0.0125 - acc: 0.9991\n",
      "Epoch 6/6\n",
      "37/37 [==============================] - 0s 11ms/step - loss: 0.0061 - acc: 1.0000\n",
      "Predicting 101th label...\n"
     ]
    },
    {
     "data": {
      "application/vnd.jupyter.widget-view+json": {
       "model_id": "c96727e809bc4ec894656974da1e2107",
       "version_major": 2,
       "version_minor": 0
      },
      "text/plain": [
       "  0%|          | 0/20 [00:00<?, ?it/s]"
      ]
     },
     "metadata": {},
     "output_type": "display_data"
    },
    {
     "name": "stdout",
     "output_type": "stream",
     "text": [
      "INFO:tensorflow:Assets written to: models/text_model_group_1/text_model_101/assets\n"
     ]
    },
    {
     "name": "stderr",
     "output_type": "stream",
     "text": [
      "INFO:tensorflow:Assets written to: models/text_model_group_1/text_model_101/assets\n"
     ]
    },
    {
     "name": "stdout",
     "output_type": "stream",
     "text": [
      "\n",
      "102'th label prediction started\n",
      "count_one 241\n",
      "count_zero 241\n",
      "Epoch 1/6\n",
      "16/16 [==============================] - 1s 10ms/step - loss: 0.6936 - acc: 0.5311\n",
      "Epoch 2/6\n",
      "16/16 [==============================] - 0s 11ms/step - loss: 0.6191 - acc: 0.8651\n",
      "Epoch 3/6\n",
      "16/16 [==============================] - 0s 10ms/step - loss: 0.4228 - acc: 0.9813\n",
      "Epoch 4/6\n",
      "16/16 [==============================] - 0s 10ms/step - loss: 0.1637 - acc: 0.9876\n",
      "Epoch 5/6\n",
      "16/16 [==============================] - 0s 11ms/step - loss: 0.0376 - acc: 0.9979\n",
      "Epoch 6/6\n",
      "16/16 [==============================] - 0s 10ms/step - loss: 0.0094 - acc: 1.0000\n",
      "Predicting 102th label...\n"
     ]
    },
    {
     "data": {
      "application/vnd.jupyter.widget-view+json": {
       "model_id": "ce3dbc4b74f74293892960c15bb23933",
       "version_major": 2,
       "version_minor": 0
      },
      "text/plain": [
       "  0%|          | 0/20 [00:00<?, ?it/s]"
      ]
     },
     "metadata": {},
     "output_type": "display_data"
    },
    {
     "name": "stdout",
     "output_type": "stream",
     "text": [
      "INFO:tensorflow:Assets written to: models/text_model_group_1/text_model_102/assets\n"
     ]
    },
    {
     "name": "stderr",
     "output_type": "stream",
     "text": [
      "INFO:tensorflow:Assets written to: models/text_model_group_1/text_model_102/assets\n"
     ]
    },
    {
     "name": "stdout",
     "output_type": "stream",
     "text": [
      "\n",
      "103'th label prediction started\n",
      "count_one 321\n",
      "count_zero 321\n",
      "Epoch 1/6\n",
      "21/21 [==============================] - 1s 11ms/step - loss: 0.6901 - acc: 0.5327\n",
      "Epoch 2/6\n",
      "21/21 [==============================] - 0s 11ms/step - loss: 0.5959 - acc: 0.7866\n",
      "Epoch 3/6\n",
      "21/21 [==============================] - 0s 11ms/step - loss: 0.3175 - acc: 0.9813\n",
      "Epoch 4/6\n",
      "21/21 [==============================] - 0s 11ms/step - loss: 0.0709 - acc: 0.9953\n",
      "Epoch 5/6\n",
      "21/21 [==============================] - 0s 11ms/step - loss: 0.0106 - acc: 1.0000\n",
      "Epoch 6/6\n",
      "21/21 [==============================] - 0s 11ms/step - loss: 0.0037 - acc: 1.0000\n",
      "Predicting 103th label...\n"
     ]
    },
    {
     "data": {
      "application/vnd.jupyter.widget-view+json": {
       "model_id": "32e0c97f1bb44532be620c704ac1bc13",
       "version_major": 2,
       "version_minor": 0
      },
      "text/plain": [
       "  0%|          | 0/20 [00:00<?, ?it/s]"
      ]
     },
     "metadata": {},
     "output_type": "display_data"
    },
    {
     "name": "stdout",
     "output_type": "stream",
     "text": [
      "INFO:tensorflow:Assets written to: models/text_model_group_1/text_model_103/assets\n"
     ]
    },
    {
     "name": "stderr",
     "output_type": "stream",
     "text": [
      "INFO:tensorflow:Assets written to: models/text_model_group_1/text_model_103/assets\n"
     ]
    },
    {
     "name": "stdout",
     "output_type": "stream",
     "text": [
      "\n",
      "104'th label prediction started\n",
      "count_one 172\n",
      "count_zero 172\n",
      "Epoch 1/6\n",
      "11/11 [==============================] - 1s 11ms/step - loss: 0.7052 - acc: 0.4738\n",
      "Epoch 2/6\n",
      "11/11 [==============================] - 0s 11ms/step - loss: 0.6182 - acc: 0.9128\n",
      "Epoch 3/6\n",
      "11/11 [==============================] - 0s 12ms/step - loss: 0.4818 - acc: 1.0000\n",
      "Epoch 4/6\n",
      "11/11 [==============================] - 0s 12ms/step - loss: 0.2554 - acc: 1.0000\n",
      "Epoch 5/6\n",
      "11/11 [==============================] - 0s 11ms/step - loss: 0.0807 - acc: 1.0000\n",
      "Epoch 6/6\n",
      "11/11 [==============================] - 0s 11ms/step - loss: 0.0196 - acc: 1.0000\n",
      "Predicting 104th label...\n"
     ]
    },
    {
     "data": {
      "application/vnd.jupyter.widget-view+json": {
       "model_id": "9c2be4a4eebf4f46bca4b56ee772431f",
       "version_major": 2,
       "version_minor": 0
      },
      "text/plain": [
       "  0%|          | 0/20 [00:00<?, ?it/s]"
      ]
     },
     "metadata": {},
     "output_type": "display_data"
    },
    {
     "name": "stdout",
     "output_type": "stream",
     "text": [
      "INFO:tensorflow:Assets written to: models/text_model_group_1/text_model_104/assets\n"
     ]
    },
    {
     "name": "stderr",
     "output_type": "stream",
     "text": [
      "INFO:tensorflow:Assets written to: models/text_model_group_1/text_model_104/assets\n"
     ]
    },
    {
     "name": "stdout",
     "output_type": "stream",
     "text": [
      "\n",
      "105'th label prediction started\n",
      "count_one 187\n",
      "count_zero 187\n",
      "Epoch 1/6\n",
      "12/12 [==============================] - 1s 20ms/step - loss: 0.7080 - acc: 0.5080\n",
      "Epoch 2/6\n",
      "12/12 [==============================] - 0s 11ms/step - loss: 0.6297 - acc: 0.9171\n",
      "Epoch 3/6\n",
      "12/12 [==============================] - 0s 11ms/step - loss: 0.4853 - acc: 1.0000\n",
      "Epoch 4/6\n",
      "12/12 [==============================] - 0s 11ms/step - loss: 0.2484 - acc: 0.9973\n",
      "Epoch 5/6\n",
      "12/12 [==============================] - 0s 11ms/step - loss: 0.0694 - acc: 0.9973\n",
      "Epoch 6/6\n",
      "12/12 [==============================] - 0s 11ms/step - loss: 0.0162 - acc: 1.0000\n",
      "Predicting 105th label...\n"
     ]
    },
    {
     "data": {
      "application/vnd.jupyter.widget-view+json": {
       "model_id": "ccc794d11ad64d3d8aef589d6eebc670",
       "version_major": 2,
       "version_minor": 0
      },
      "text/plain": [
       "  0%|          | 0/20 [00:00<?, ?it/s]"
      ]
     },
     "metadata": {},
     "output_type": "display_data"
    },
    {
     "name": "stdout",
     "output_type": "stream",
     "text": [
      "INFO:tensorflow:Assets written to: models/text_model_group_1/text_model_105/assets\n"
     ]
    },
    {
     "name": "stderr",
     "output_type": "stream",
     "text": [
      "INFO:tensorflow:Assets written to: models/text_model_group_1/text_model_105/assets\n"
     ]
    },
    {
     "name": "stdout",
     "output_type": "stream",
     "text": [
      "\n",
      "106'th label prediction started\n",
      "count_one 128\n",
      "count_zero 128\n",
      "Epoch 1/6\n",
      "8/8 [==============================] - 1s 11ms/step - loss: 0.6975 - acc: 0.4844\n",
      "Epoch 2/6\n",
      "8/8 [==============================] - 0s 11ms/step - loss: 0.6225 - acc: 0.9805\n",
      "Epoch 3/6\n",
      "8/8 [==============================] - 0s 10ms/step - loss: 0.4977 - acc: 1.0000\n",
      "Epoch 4/6\n",
      "8/8 [==============================] - 0s 10ms/step - loss: 0.3093 - acc: 1.0000\n",
      "Epoch 5/6\n",
      "8/8 [==============================] - 0s 10ms/step - loss: 0.1248 - acc: 1.0000\n",
      "Epoch 6/6\n",
      "8/8 [==============================] - 0s 11ms/step - loss: 0.0333 - acc: 1.0000\n",
      "Predicting 106th label...\n"
     ]
    },
    {
     "data": {
      "application/vnd.jupyter.widget-view+json": {
       "model_id": "4f5ec61a94f948fb9eb0f36ac19cb3f7",
       "version_major": 2,
       "version_minor": 0
      },
      "text/plain": [
       "  0%|          | 0/20 [00:00<?, ?it/s]"
      ]
     },
     "metadata": {},
     "output_type": "display_data"
    },
    {
     "name": "stdout",
     "output_type": "stream",
     "text": [
      "INFO:tensorflow:Assets written to: models/text_model_group_1/text_model_106/assets\n"
     ]
    },
    {
     "name": "stderr",
     "output_type": "stream",
     "text": [
      "INFO:tensorflow:Assets written to: models/text_model_group_1/text_model_106/assets\n"
     ]
    },
    {
     "name": "stdout",
     "output_type": "stream",
     "text": [
      "\n",
      "107'th label prediction started\n",
      "count_one 191\n",
      "count_zero 191\n",
      "Epoch 1/6\n",
      "12/12 [==============================] - 1s 12ms/step - loss: 0.6965 - acc: 0.4921\n",
      "Epoch 2/6\n",
      "12/12 [==============================] - 0s 11ms/step - loss: 0.6078 - acc: 0.9869\n",
      "Epoch 3/6\n",
      "12/12 [==============================] - 0s 11ms/step - loss: 0.4190 - acc: 0.9974\n",
      "Epoch 4/6\n",
      "12/12 [==============================] - 0s 11ms/step - loss: 0.1621 - acc: 1.0000\n",
      "Epoch 5/6\n",
      "12/12 [==============================] - 0s 10ms/step - loss: 0.0332 - acc: 1.0000\n",
      "Epoch 6/6\n",
      "12/12 [==============================] - 0s 10ms/step - loss: 0.0070 - acc: 1.0000\n",
      "Predicting 107th label...\n"
     ]
    },
    {
     "data": {
      "application/vnd.jupyter.widget-view+json": {
       "model_id": "46e536f6e6244a4b858e03770f96db50",
       "version_major": 2,
       "version_minor": 0
      },
      "text/plain": [
       "  0%|          | 0/20 [00:00<?, ?it/s]"
      ]
     },
     "metadata": {},
     "output_type": "display_data"
    },
    {
     "name": "stdout",
     "output_type": "stream",
     "text": [
      "INFO:tensorflow:Assets written to: models/text_model_group_1/text_model_107/assets\n"
     ]
    },
    {
     "name": "stderr",
     "output_type": "stream",
     "text": [
      "INFO:tensorflow:Assets written to: models/text_model_group_1/text_model_107/assets\n"
     ]
    },
    {
     "name": "stdout",
     "output_type": "stream",
     "text": [
      "\n",
      "108'th label prediction started\n",
      "count_one 326\n",
      "count_zero 326\n",
      "Epoch 1/6\n",
      "21/21 [==============================] - 1s 11ms/step - loss: 0.6693 - acc: 0.5798\n",
      "Epoch 2/6\n",
      "21/21 [==============================] - 0s 10ms/step - loss: 0.4303 - acc: 0.9294\n",
      "Epoch 3/6\n",
      "21/21 [==============================] - 0s 10ms/step - loss: 0.1373 - acc: 0.9525\n",
      "Epoch 4/6\n",
      "21/21 [==============================] - 0s 10ms/step - loss: 0.0260 - acc: 0.9954\n",
      "Epoch 5/6\n",
      "21/21 [==============================] - 0s 10ms/step - loss: 0.0061 - acc: 1.0000\n",
      "Epoch 6/6\n",
      "21/21 [==============================] - 0s 11ms/step - loss: 0.0028 - acc: 1.0000\n",
      "Predicting 108th label...\n"
     ]
    },
    {
     "data": {
      "application/vnd.jupyter.widget-view+json": {
       "model_id": "345e6c584b5e4ff29332ea4a7e8124d7",
       "version_major": 2,
       "version_minor": 0
      },
      "text/plain": [
       "  0%|          | 0/20 [00:00<?, ?it/s]"
      ]
     },
     "metadata": {},
     "output_type": "display_data"
    },
    {
     "name": "stdout",
     "output_type": "stream",
     "text": [
      "INFO:tensorflow:Assets written to: models/text_model_group_1/text_model_108/assets\n"
     ]
    },
    {
     "name": "stderr",
     "output_type": "stream",
     "text": [
      "INFO:tensorflow:Assets written to: models/text_model_group_1/text_model_108/assets\n"
     ]
    },
    {
     "name": "stdout",
     "output_type": "stream",
     "text": [
      "\n",
      "109'th label prediction started\n",
      "count_one 1754\n",
      "count_zero 1754\n",
      "Epoch 1/6\n",
      "110/110 [==============================] - 2s 11ms/step - loss: 0.5164 - acc: 0.7586\n",
      "Epoch 2/6\n",
      "110/110 [==============================] - 1s 11ms/step - loss: 0.1811 - acc: 0.9347\n",
      "Epoch 3/6\n",
      "110/110 [==============================] - 1s 10ms/step - loss: 0.0497 - acc: 0.9875\n",
      "Epoch 4/6\n",
      "110/110 [==============================] - 1s 10ms/step - loss: 0.0085 - acc: 0.9986\n",
      "Epoch 5/6\n",
      "110/110 [==============================] - 1s 10ms/step - loss: 0.0018 - acc: 0.9997\n",
      "Epoch 6/6\n",
      "110/110 [==============================] - 1s 11ms/step - loss: 8.4361e-04 - acc: 1.0000\n",
      "Predicting 109th label...\n"
     ]
    },
    {
     "data": {
      "application/vnd.jupyter.widget-view+json": {
       "model_id": "3087a94a647e41edb53988e4bbeaa668",
       "version_major": 2,
       "version_minor": 0
      },
      "text/plain": [
       "  0%|          | 0/20 [00:00<?, ?it/s]"
      ]
     },
     "metadata": {},
     "output_type": "display_data"
    },
    {
     "name": "stdout",
     "output_type": "stream",
     "text": [
      "INFO:tensorflow:Assets written to: models/text_model_group_1/text_model_109/assets\n"
     ]
    },
    {
     "name": "stderr",
     "output_type": "stream",
     "text": [
      "INFO:tensorflow:Assets written to: models/text_model_group_1/text_model_109/assets\n"
     ]
    },
    {
     "name": "stdout",
     "output_type": "stream",
     "text": [
      "\n",
      "110'th label prediction started\n",
      "count_one 78\n",
      "count_zero 78\n",
      "Epoch 1/6\n",
      "5/5 [==============================] - 1s 44ms/step - loss: 0.6988 - acc: 0.4872\n",
      "Epoch 2/6\n",
      "5/5 [==============================] - 0s 10ms/step - loss: 0.6428 - acc: 0.9103\n",
      "Epoch 3/6\n",
      "5/5 [==============================] - 0s 10ms/step - loss: 0.5777 - acc: 1.0000\n",
      "Epoch 4/6\n",
      "5/5 [==============================] - 0s 10ms/step - loss: 0.4827 - acc: 1.0000\n",
      "Epoch 5/6\n",
      "5/5 [==============================] - 0s 10ms/step - loss: 0.3533 - acc: 1.0000\n",
      "Epoch 6/6\n",
      "5/5 [==============================] - 0s 11ms/step - loss: 0.2199 - acc: 1.0000\n",
      "Predicting 110th label...\n"
     ]
    },
    {
     "data": {
      "application/vnd.jupyter.widget-view+json": {
       "model_id": "29054893157d436b94e825f4c48979af",
       "version_major": 2,
       "version_minor": 0
      },
      "text/plain": [
       "  0%|          | 0/20 [00:00<?, ?it/s]"
      ]
     },
     "metadata": {},
     "output_type": "display_data"
    },
    {
     "name": "stdout",
     "output_type": "stream",
     "text": [
      "INFO:tensorflow:Assets written to: models/text_model_group_1/text_model_110/assets\n"
     ]
    },
    {
     "name": "stderr",
     "output_type": "stream",
     "text": [
      "INFO:tensorflow:Assets written to: models/text_model_group_1/text_model_110/assets\n"
     ]
    },
    {
     "name": "stdout",
     "output_type": "stream",
     "text": [
      "\n",
      "111'th label prediction started\n",
      "count_one 94\n",
      "count_zero 94\n",
      "Epoch 1/6\n",
      "6/6 [==============================] - 1s 32ms/step - loss: 0.6947 - acc: 0.5053\n",
      "Epoch 2/6\n",
      "6/6 [==============================] - 0s 10ms/step - loss: 0.6239 - acc: 0.9947\n",
      "Epoch 3/6\n",
      "6/6 [==============================] - 0s 10ms/step - loss: 0.5197 - acc: 1.0000\n",
      "Epoch 4/6\n",
      "6/6 [==============================] - 0s 11ms/step - loss: 0.3661 - acc: 1.0000\n",
      "Epoch 5/6\n",
      "6/6 [==============================] - 0s 10ms/step - loss: 0.1974 - acc: 1.0000\n",
      "Epoch 6/6\n",
      "6/6 [==============================] - 0s 11ms/step - loss: 0.0831 - acc: 1.0000\n",
      "Predicting 111th label...\n"
     ]
    },
    {
     "data": {
      "application/vnd.jupyter.widget-view+json": {
       "model_id": "5bbb0608cb0a47d7ac5f5fd58c9acb96",
       "version_major": 2,
       "version_minor": 0
      },
      "text/plain": [
       "  0%|          | 0/20 [00:00<?, ?it/s]"
      ]
     },
     "metadata": {},
     "output_type": "display_data"
    },
    {
     "name": "stdout",
     "output_type": "stream",
     "text": [
      "INFO:tensorflow:Assets written to: models/text_model_group_1/text_model_111/assets\n"
     ]
    },
    {
     "name": "stderr",
     "output_type": "stream",
     "text": [
      "INFO:tensorflow:Assets written to: models/text_model_group_1/text_model_111/assets\n"
     ]
    },
    {
     "name": "stdout",
     "output_type": "stream",
     "text": [
      "\n",
      "112'th label prediction started\n",
      "count_one 1658\n",
      "count_zero 1658\n",
      "Epoch 1/6\n",
      "104/104 [==============================] - 2s 11ms/step - loss: 0.5571 - acc: 0.7247\n",
      "Epoch 2/6\n",
      "104/104 [==============================] - 1s 11ms/step - loss: 0.2242 - acc: 0.9150\n",
      "Epoch 3/6\n",
      "104/104 [==============================] - 1s 11ms/step - loss: 0.0479 - acc: 0.9894\n",
      "Epoch 4/6\n",
      "104/104 [==============================] - 1s 11ms/step - loss: 0.0095 - acc: 0.9991\n",
      "Epoch 5/6\n",
      "104/104 [==============================] - 1s 11ms/step - loss: 0.0029 - acc: 1.0000\n",
      "Epoch 6/6\n",
      "104/104 [==============================] - 1s 11ms/step - loss: 9.6697e-04 - acc: 1.0000\n",
      "Predicting 112th label...\n"
     ]
    },
    {
     "data": {
      "application/vnd.jupyter.widget-view+json": {
       "model_id": "66175a9320624e80872af35f6015efac",
       "version_major": 2,
       "version_minor": 0
      },
      "text/plain": [
       "  0%|          | 0/20 [00:00<?, ?it/s]"
      ]
     },
     "metadata": {},
     "output_type": "display_data"
    },
    {
     "name": "stdout",
     "output_type": "stream",
     "text": [
      "INFO:tensorflow:Assets written to: models/text_model_group_1/text_model_112/assets\n"
     ]
    },
    {
     "name": "stderr",
     "output_type": "stream",
     "text": [
      "INFO:tensorflow:Assets written to: models/text_model_group_1/text_model_112/assets\n"
     ]
    },
    {
     "name": "stdout",
     "output_type": "stream",
     "text": [
      "\n",
      "113'th label prediction started\n",
      "count_one 116\n",
      "count_zero 116\n",
      "Epoch 1/6\n",
      "8/8 [==============================] - 1s 22ms/step - loss: 0.6999 - acc: 0.4698\n",
      "Epoch 2/6\n",
      "8/8 [==============================] - 0s 10ms/step - loss: 0.6317 - acc: 0.8362\n",
      "Epoch 3/6\n",
      "8/8 [==============================] - 0s 10ms/step - loss: 0.5459 - acc: 0.9914\n",
      "Epoch 4/6\n",
      "8/8 [==============================] - 0s 10ms/step - loss: 0.3906 - acc: 1.0000\n",
      "Epoch 5/6\n",
      "8/8 [==============================] - 0s 11ms/step - loss: 0.2074 - acc: 1.0000\n",
      "Epoch 6/6\n",
      "8/8 [==============================] - 0s 11ms/step - loss: 0.0779 - acc: 1.0000\n",
      "Predicting 113th label...\n"
     ]
    },
    {
     "data": {
      "application/vnd.jupyter.widget-view+json": {
       "model_id": "09252e6ef7464dea9b397271ba5029dc",
       "version_major": 2,
       "version_minor": 0
      },
      "text/plain": [
       "  0%|          | 0/20 [00:00<?, ?it/s]"
      ]
     },
     "metadata": {},
     "output_type": "display_data"
    },
    {
     "name": "stdout",
     "output_type": "stream",
     "text": [
      "INFO:tensorflow:Assets written to: models/text_model_group_1/text_model_113/assets\n"
     ]
    },
    {
     "name": "stderr",
     "output_type": "stream",
     "text": [
      "INFO:tensorflow:Assets written to: models/text_model_group_1/text_model_113/assets\n"
     ]
    },
    {
     "name": "stdout",
     "output_type": "stream",
     "text": [
      "\n",
      "114'th label prediction started\n",
      "count_one 110\n",
      "count_zero 110\n",
      "Epoch 1/6\n",
      "7/7 [==============================] - 1s 12ms/step - loss: 0.7038 - acc: 0.4545\n",
      "Epoch 2/6\n",
      "7/7 [==============================] - 0s 11ms/step - loss: 0.6109 - acc: 0.9364\n",
      "Epoch 3/6\n",
      "7/7 [==============================] - 0s 11ms/step - loss: 0.4963 - acc: 0.9818\n",
      "Epoch 4/6\n",
      "7/7 [==============================] - 0s 11ms/step - loss: 0.3243 - acc: 0.9864\n",
      "Epoch 5/6\n",
      "7/7 [==============================] - 0s 11ms/step - loss: 0.1611 - acc: 0.9955\n",
      "Epoch 6/6\n",
      "7/7 [==============================] - 0s 11ms/step - loss: 0.0618 - acc: 1.0000\n",
      "Predicting 114th label...\n"
     ]
    },
    {
     "data": {
      "application/vnd.jupyter.widget-view+json": {
       "model_id": "30b8e108c012494f9d464c57d7cfa9bf",
       "version_major": 2,
       "version_minor": 0
      },
      "text/plain": [
       "  0%|          | 0/20 [00:00<?, ?it/s]"
      ]
     },
     "metadata": {},
     "output_type": "display_data"
    },
    {
     "name": "stdout",
     "output_type": "stream",
     "text": [
      "INFO:tensorflow:Assets written to: models/text_model_group_1/text_model_114/assets\n"
     ]
    },
    {
     "name": "stderr",
     "output_type": "stream",
     "text": [
      "INFO:tensorflow:Assets written to: models/text_model_group_1/text_model_114/assets\n"
     ]
    },
    {
     "name": "stdout",
     "output_type": "stream",
     "text": [
      "\n",
      "115'th label prediction started\n",
      "count_one 129\n",
      "count_zero 129\n",
      "Epoch 1/6\n",
      "9/9 [==============================] - 1s 11ms/step - loss: 0.6962 - acc: 0.4961\n",
      "Epoch 2/6\n",
      "9/9 [==============================] - 0s 11ms/step - loss: 0.5715 - acc: 0.9729\n",
      "Epoch 3/6\n",
      "9/9 [==============================] - 0s 11ms/step - loss: 0.3645 - acc: 1.0000\n",
      "Epoch 4/6\n",
      "9/9 [==============================] - 0s 10ms/step - loss: 0.1559 - acc: 1.0000\n",
      "Epoch 5/6\n",
      "9/9 [==============================] - 0s 11ms/step - loss: 0.0580 - acc: 1.0000\n",
      "Epoch 6/6\n",
      "9/9 [==============================] - 0s 11ms/step - loss: 0.0207 - acc: 1.0000\n",
      "Predicting 115th label...\n"
     ]
    },
    {
     "data": {
      "application/vnd.jupyter.widget-view+json": {
       "model_id": "b98817febbc248dd8961068fbfe657dd",
       "version_major": 2,
       "version_minor": 0
      },
      "text/plain": [
       "  0%|          | 0/20 [00:00<?, ?it/s]"
      ]
     },
     "metadata": {},
     "output_type": "display_data"
    },
    {
     "name": "stdout",
     "output_type": "stream",
     "text": [
      "INFO:tensorflow:Assets written to: models/text_model_group_1/text_model_115/assets\n"
     ]
    },
    {
     "name": "stderr",
     "output_type": "stream",
     "text": [
      "INFO:tensorflow:Assets written to: models/text_model_group_1/text_model_115/assets\n"
     ]
    },
    {
     "name": "stdout",
     "output_type": "stream",
     "text": [
      "\n",
      "116'th label prediction started\n",
      "count_one 81\n",
      "count_zero 81\n",
      "Epoch 1/6\n",
      "6/6 [==============================] - 1s 69ms/step - loss: 0.6976 - acc: 0.4630\n",
      "Epoch 2/6\n",
      "6/6 [==============================] - 0s 11ms/step - loss: 0.6398 - acc: 0.9815\n",
      "Epoch 3/6\n",
      "6/6 [==============================] - 0s 10ms/step - loss: 0.5674 - acc: 1.0000\n",
      "Epoch 4/6\n",
      "6/6 [==============================] - 0s 11ms/step - loss: 0.4494 - acc: 1.0000\n",
      "Epoch 5/6\n",
      "6/6 [==============================] - 0s 11ms/step - loss: 0.3080 - acc: 1.0000\n",
      "Epoch 6/6\n",
      "6/6 [==============================] - 0s 10ms/step - loss: 0.1694 - acc: 1.0000\n",
      "Predicting 116th label...\n"
     ]
    },
    {
     "data": {
      "application/vnd.jupyter.widget-view+json": {
       "model_id": "d566004381994fceae2a4819a1cb7cb1",
       "version_major": 2,
       "version_minor": 0
      },
      "text/plain": [
       "  0%|          | 0/20 [00:00<?, ?it/s]"
      ]
     },
     "metadata": {},
     "output_type": "display_data"
    },
    {
     "name": "stdout",
     "output_type": "stream",
     "text": [
      "INFO:tensorflow:Assets written to: models/text_model_group_1/text_model_116/assets\n"
     ]
    },
    {
     "name": "stderr",
     "output_type": "stream",
     "text": [
      "INFO:tensorflow:Assets written to: models/text_model_group_1/text_model_116/assets\n"
     ]
    },
    {
     "name": "stdout",
     "output_type": "stream",
     "text": [
      "\n",
      "117'th label prediction started\n",
      "count_one 226\n",
      "count_zero 226\n",
      "Epoch 1/6\n",
      "15/15 [==============================] - 1s 17ms/step - loss: 0.7027 - acc: 0.4867\n",
      "Epoch 2/6\n",
      "15/15 [==============================] - 0s 11ms/step - loss: 0.6015 - acc: 0.9403\n",
      "Epoch 3/6\n",
      "15/15 [==============================] - 0s 11ms/step - loss: 0.3701 - acc: 0.9602\n",
      "Epoch 4/6\n",
      "15/15 [==============================] - 0s 11ms/step - loss: 0.1354 - acc: 0.9889: 0s - loss: 0.1911 - acc: 0.98\n",
      "Epoch 5/6\n",
      "15/15 [==============================] - 0s 11ms/step - loss: 0.0396 - acc: 0.9956\n",
      "Epoch 6/6\n",
      "15/15 [==============================] - 0s 11ms/step - loss: 0.0095 - acc: 1.0000\n",
      "Predicting 117th label...\n"
     ]
    },
    {
     "data": {
      "application/vnd.jupyter.widget-view+json": {
       "model_id": "89ee534bde364ab5a15a251671e69f77",
       "version_major": 2,
       "version_minor": 0
      },
      "text/plain": [
       "  0%|          | 0/20 [00:00<?, ?it/s]"
      ]
     },
     "metadata": {},
     "output_type": "display_data"
    },
    {
     "name": "stdout",
     "output_type": "stream",
     "text": [
      "INFO:tensorflow:Assets written to: models/text_model_group_1/text_model_117/assets\n"
     ]
    },
    {
     "name": "stderr",
     "output_type": "stream",
     "text": [
      "INFO:tensorflow:Assets written to: models/text_model_group_1/text_model_117/assets\n"
     ]
    },
    {
     "name": "stdout",
     "output_type": "stream",
     "text": [
      "\n",
      "118'th label prediction started\n",
      "count_one 789\n",
      "count_zero 789\n",
      "Epoch 1/6\n",
      "50/50 [==============================] - 1s 18ms/step - loss: 0.6667 - acc: 0.6052\n",
      "Epoch 2/6\n",
      "50/50 [==============================] - 1s 10ms/step - loss: 0.3252 - acc: 0.9100\n",
      "Epoch 3/6\n",
      "50/50 [==============================] - 1s 11ms/step - loss: 0.0443 - acc: 0.9924\n",
      "Epoch 4/6\n",
      "50/50 [==============================] - 1s 11ms/step - loss: 0.0071 - acc: 1.0000\n",
      "Epoch 5/6\n",
      "50/50 [==============================] - 1s 11ms/step - loss: 0.0017 - acc: 1.0000\n",
      "Epoch 6/6\n",
      "50/50 [==============================] - 1s 11ms/step - loss: 9.2315e-04 - acc: 1.0000\n",
      "Predicting 118th label...\n"
     ]
    },
    {
     "data": {
      "application/vnd.jupyter.widget-view+json": {
       "model_id": "9d8d88a81a9947f292b76f3ac8d73664",
       "version_major": 2,
       "version_minor": 0
      },
      "text/plain": [
       "  0%|          | 0/20 [00:00<?, ?it/s]"
      ]
     },
     "metadata": {},
     "output_type": "display_data"
    },
    {
     "name": "stdout",
     "output_type": "stream",
     "text": [
      "INFO:tensorflow:Assets written to: models/text_model_group_1/text_model_118/assets\n"
     ]
    },
    {
     "name": "stderr",
     "output_type": "stream",
     "text": [
      "INFO:tensorflow:Assets written to: models/text_model_group_1/text_model_118/assets\n"
     ]
    },
    {
     "name": "stdout",
     "output_type": "stream",
     "text": [
      "\n",
      "119'th label prediction started\n",
      "count_one 176\n",
      "count_zero 176\n",
      "Epoch 1/6\n",
      "11/11 [==============================] - 1s 12ms/step - loss: 0.6808 - acc: 0.6193\n",
      "Epoch 2/6\n",
      "11/11 [==============================] - 0s 9ms/step - loss: 0.5319 - acc: 0.9574\n",
      "Epoch 3/6\n",
      "11/11 [==============================] - 0s 10ms/step - loss: 0.2817 - acc: 0.9830\n",
      "Epoch 4/6\n",
      "11/11 [==============================] - 0s 11ms/step - loss: 0.1109 - acc: 0.9886\n",
      "Epoch 5/6\n",
      "11/11 [==============================] - 0s 10ms/step - loss: 0.0241 - acc: 1.0000\n",
      "Epoch 6/6\n",
      "11/11 [==============================] - 0s 10ms/step - loss: 0.0076 - acc: 1.0000\n",
      "Predicting 119th label...\n"
     ]
    },
    {
     "data": {
      "application/vnd.jupyter.widget-view+json": {
       "model_id": "ab2d2a05afde42518af5d5f99c1f66bd",
       "version_major": 2,
       "version_minor": 0
      },
      "text/plain": [
       "  0%|          | 0/20 [00:00<?, ?it/s]"
      ]
     },
     "metadata": {},
     "output_type": "display_data"
    },
    {
     "name": "stdout",
     "output_type": "stream",
     "text": [
      "INFO:tensorflow:Assets written to: models/text_model_group_1/text_model_119/assets\n"
     ]
    },
    {
     "name": "stderr",
     "output_type": "stream",
     "text": [
      "INFO:tensorflow:Assets written to: models/text_model_group_1/text_model_119/assets\n"
     ]
    },
    {
     "name": "stdout",
     "output_type": "stream",
     "text": [
      "\n",
      "120'th label prediction started\n",
      "count_one 68\n",
      "count_zero 68\n",
      "Epoch 1/6\n",
      "5/5 [==============================] - 1s 11ms/step - loss: 0.6953 - acc: 0.4412\n",
      "Epoch 2/6\n",
      "5/5 [==============================] - 0s 10ms/step - loss: 0.6379 - acc: 0.9044\n",
      "Epoch 3/6\n",
      "5/5 [==============================] - 0s 11ms/step - loss: 0.5662 - acc: 0.9706\n",
      "Epoch 4/6\n",
      "5/5 [==============================] - 0s 10ms/step - loss: 0.4555 - acc: 1.0000\n",
      "Epoch 5/6\n",
      "5/5 [==============================] - 0s 10ms/step - loss: 0.3226 - acc: 1.0000\n",
      "Epoch 6/6\n",
      "5/5 [==============================] - 0s 9ms/step - loss: 0.1944 - acc: 1.0000\n",
      "Predicting 120th label...\n"
     ]
    },
    {
     "data": {
      "application/vnd.jupyter.widget-view+json": {
       "model_id": "f862b25cfe6b4fe68ef62624c6f39f36",
       "version_major": 2,
       "version_minor": 0
      },
      "text/plain": [
       "  0%|          | 0/20 [00:00<?, ?it/s]"
      ]
     },
     "metadata": {},
     "output_type": "display_data"
    },
    {
     "name": "stdout",
     "output_type": "stream",
     "text": [
      "INFO:tensorflow:Assets written to: models/text_model_group_1/text_model_120/assets\n"
     ]
    },
    {
     "name": "stderr",
     "output_type": "stream",
     "text": [
      "INFO:tensorflow:Assets written to: models/text_model_group_1/text_model_120/assets\n"
     ]
    },
    {
     "name": "stdout",
     "output_type": "stream",
     "text": [
      "\n",
      "121'th label prediction started\n",
      "count_one 115\n",
      "count_zero 115\n",
      "Epoch 1/6\n",
      "8/8 [==============================] - 1s 23ms/step - loss: 0.7200 - acc: 0.5130\n",
      "Epoch 2/6\n",
      "8/8 [==============================] - 0s 11ms/step - loss: 0.5886 - acc: 0.9478\n",
      "Epoch 3/6\n",
      "8/8 [==============================] - 0s 11ms/step - loss: 0.4793 - acc: 0.9870\n",
      "Epoch 4/6\n",
      "8/8 [==============================] - 0s 10ms/step - loss: 0.2922 - acc: 0.9957\n",
      "Epoch 5/6\n",
      "8/8 [==============================] - 0s 10ms/step - loss: 0.1359 - acc: 1.0000\n",
      "Epoch 6/6\n",
      "8/8 [==============================] - 0s 10ms/step - loss: 0.0511 - acc: 1.0000\n",
      "Predicting 121th label...\n"
     ]
    },
    {
     "data": {
      "application/vnd.jupyter.widget-view+json": {
       "model_id": "1e675b49f24f4676925364216bdad0f9",
       "version_major": 2,
       "version_minor": 0
      },
      "text/plain": [
       "  0%|          | 0/20 [00:00<?, ?it/s]"
      ]
     },
     "metadata": {},
     "output_type": "display_data"
    },
    {
     "name": "stdout",
     "output_type": "stream",
     "text": [
      "INFO:tensorflow:Assets written to: models/text_model_group_1/text_model_121/assets\n"
     ]
    },
    {
     "name": "stderr",
     "output_type": "stream",
     "text": [
      "INFO:tensorflow:Assets written to: models/text_model_group_1/text_model_121/assets\n"
     ]
    },
    {
     "name": "stdout",
     "output_type": "stream",
     "text": [
      "\n",
      "122'th label prediction started\n",
      "count_one 171\n",
      "count_zero 171\n",
      "Epoch 1/6\n",
      "11/11 [==============================] - 1s 25ms/step - loss: 0.6892 - acc: 0.5322\n",
      "Epoch 2/6\n",
      "11/11 [==============================] - 0s 12ms/step - loss: 0.5703 - acc: 0.9737\n",
      "Epoch 3/6\n",
      "11/11 [==============================] - 0s 11ms/step - loss: 0.3324 - acc: 0.9854\n",
      "Epoch 4/6\n",
      "11/11 [==============================] - 0s 11ms/step - loss: 0.1247 - acc: 0.9825\n",
      "Epoch 5/6\n",
      "11/11 [==============================] - 0s 11ms/step - loss: 0.0367 - acc: 0.9942\n",
      "Epoch 6/6\n",
      "11/11 [==============================] - 0s 10ms/step - loss: 0.0084 - acc: 1.0000\n",
      "Predicting 122th label...\n"
     ]
    },
    {
     "data": {
      "application/vnd.jupyter.widget-view+json": {
       "model_id": "5d9a88114caa460baa6369abdd219d7a",
       "version_major": 2,
       "version_minor": 0
      },
      "text/plain": [
       "  0%|          | 0/20 [00:00<?, ?it/s]"
      ]
     },
     "metadata": {},
     "output_type": "display_data"
    },
    {
     "name": "stdout",
     "output_type": "stream",
     "text": [
      "INFO:tensorflow:Assets written to: models/text_model_group_1/text_model_122/assets\n"
     ]
    },
    {
     "name": "stderr",
     "output_type": "stream",
     "text": [
      "INFO:tensorflow:Assets written to: models/text_model_group_1/text_model_122/assets\n"
     ]
    },
    {
     "name": "stdout",
     "output_type": "stream",
     "text": [
      "\n",
      "123'th label prediction started\n",
      "count_one 62\n",
      "count_zero 62\n",
      "Epoch 1/6\n",
      "4/4 [==============================] - 1s 13ms/step - loss: 0.7000 - acc: 0.4758\n",
      "Epoch 2/6\n",
      "4/4 [==============================] - 0s 10ms/step - loss: 0.6330 - acc: 0.8548\n",
      "Epoch 3/6\n",
      "4/4 [==============================] - 0s 12ms/step - loss: 0.5632 - acc: 1.0000\n",
      "Epoch 4/6\n",
      "4/4 [==============================] - 0s 11ms/step - loss: 0.4582 - acc: 1.0000\n",
      "Epoch 5/6\n",
      "4/4 [==============================] - 0s 11ms/step - loss: 0.3349 - acc: 1.0000\n",
      "Epoch 6/6\n",
      "4/4 [==============================] - 0s 11ms/step - loss: 0.2012 - acc: 1.0000\n",
      "Predicting 123th label...\n"
     ]
    },
    {
     "data": {
      "application/vnd.jupyter.widget-view+json": {
       "model_id": "21ff8da16c6945b8bb61232764caabd6",
       "version_major": 2,
       "version_minor": 0
      },
      "text/plain": [
       "  0%|          | 0/20 [00:00<?, ?it/s]"
      ]
     },
     "metadata": {},
     "output_type": "display_data"
    },
    {
     "name": "stdout",
     "output_type": "stream",
     "text": [
      "INFO:tensorflow:Assets written to: models/text_model_group_1/text_model_123/assets\n"
     ]
    },
    {
     "name": "stderr",
     "output_type": "stream",
     "text": [
      "INFO:tensorflow:Assets written to: models/text_model_group_1/text_model_123/assets\n"
     ]
    },
    {
     "name": "stdout",
     "output_type": "stream",
     "text": [
      "\n",
      "124'th label prediction started\n",
      "count_one 72\n",
      "count_zero 72\n",
      "Epoch 1/6\n",
      "5/5 [==============================] - 1s 38ms/step - loss: 0.7096 - acc: 0.4931\n",
      "Epoch 2/6\n",
      "5/5 [==============================] - 0s 10ms/step - loss: 0.6240 - acc: 0.8958\n",
      "Epoch 3/6\n",
      "5/5 [==============================] - 0s 10ms/step - loss: 0.5652 - acc: 0.9792\n",
      "Epoch 4/6\n",
      "5/5 [==============================] - 0s 11ms/step - loss: 0.4546 - acc: 1.0000\n",
      "Epoch 5/6\n",
      "5/5 [==============================] - 0s 11ms/step - loss: 0.3189 - acc: 1.0000\n",
      "Epoch 6/6\n",
      "5/5 [==============================] - 0s 11ms/step - loss: 0.1821 - acc: 1.0000\n",
      "Predicting 124th label...\n"
     ]
    },
    {
     "data": {
      "application/vnd.jupyter.widget-view+json": {
       "model_id": "280375f2acdd4ab0b69798a5b32290b3",
       "version_major": 2,
       "version_minor": 0
      },
      "text/plain": [
       "  0%|          | 0/20 [00:00<?, ?it/s]"
      ]
     },
     "metadata": {},
     "output_type": "display_data"
    },
    {
     "name": "stdout",
     "output_type": "stream",
     "text": [
      "INFO:tensorflow:Assets written to: models/text_model_group_1/text_model_124/assets\n"
     ]
    },
    {
     "name": "stderr",
     "output_type": "stream",
     "text": [
      "INFO:tensorflow:Assets written to: models/text_model_group_1/text_model_124/assets\n"
     ]
    },
    {
     "name": "stdout",
     "output_type": "stream",
     "text": [
      "\n",
      "125'th label prediction started\n",
      "count_one 162\n",
      "count_zero 162\n",
      "Epoch 1/6\n",
      "11/11 [==============================] - 1s 11ms/step - loss: 0.6994 - acc: 0.4907\n",
      "Epoch 2/6\n",
      "11/11 [==============================] - 0s 10ms/step - loss: 0.6232 - acc: 0.6296\n",
      "Epoch 3/6\n",
      "11/11 [==============================] - 0s 10ms/step - loss: 0.4885 - acc: 0.9753\n",
      "Epoch 4/6\n",
      "11/11 [==============================] - 0s 10ms/step - loss: 0.2566 - acc: 1.0000\n",
      "Epoch 5/6\n",
      "11/11 [==============================] - 0s 10ms/step - loss: 0.0827 - acc: 1.0000\n",
      "Epoch 6/6\n",
      "11/11 [==============================] - 0s 10ms/step - loss: 0.0205 - acc: 1.0000\n",
      "Predicting 125th label...\n"
     ]
    },
    {
     "data": {
      "application/vnd.jupyter.widget-view+json": {
       "model_id": "599abd28cabc465180ad10d020396bba",
       "version_major": 2,
       "version_minor": 0
      },
      "text/plain": [
       "  0%|          | 0/20 [00:00<?, ?it/s]"
      ]
     },
     "metadata": {},
     "output_type": "display_data"
    },
    {
     "name": "stdout",
     "output_type": "stream",
     "text": [
      "INFO:tensorflow:Assets written to: models/text_model_group_1/text_model_125/assets\n"
     ]
    },
    {
     "name": "stderr",
     "output_type": "stream",
     "text": [
      "INFO:tensorflow:Assets written to: models/text_model_group_1/text_model_125/assets\n"
     ]
    },
    {
     "name": "stdout",
     "output_type": "stream",
     "text": [
      "\n",
      "126'th label prediction started\n",
      "count_one 514\n",
      "count_zero 514\n",
      "Epoch 1/6\n",
      "33/33 [==============================] - 1s 11ms/step - loss: 0.6802 - acc: 0.6245\n",
      "Epoch 2/6\n",
      "33/33 [==============================] - 0s 11ms/step - loss: 0.4044 - acc: 0.9455\n",
      "Epoch 3/6\n",
      "33/33 [==============================] - 0s 11ms/step - loss: 0.0508 - acc: 0.9932\n",
      "Epoch 4/6\n",
      "33/33 [==============================] - 0s 11ms/step - loss: 0.0041 - acc: 1.0000\n",
      "Epoch 5/6\n",
      "33/33 [==============================] - 0s 11ms/step - loss: 0.0014 - acc: 1.0000\n",
      "Epoch 6/6\n",
      "33/33 [==============================] - 0s 10ms/step - loss: 8.4953e-04 - acc: 1.0000\n",
      "Predicting 126th label...\n"
     ]
    },
    {
     "data": {
      "application/vnd.jupyter.widget-view+json": {
       "model_id": "eb0a7fa6bbc54aaf86f8d10495eedebe",
       "version_major": 2,
       "version_minor": 0
      },
      "text/plain": [
       "  0%|          | 0/20 [00:00<?, ?it/s]"
      ]
     },
     "metadata": {},
     "output_type": "display_data"
    },
    {
     "name": "stdout",
     "output_type": "stream",
     "text": [
      "INFO:tensorflow:Assets written to: models/text_model_group_1/text_model_126/assets\n"
     ]
    },
    {
     "name": "stderr",
     "output_type": "stream",
     "text": [
      "INFO:tensorflow:Assets written to: models/text_model_group_1/text_model_126/assets\n"
     ]
    },
    {
     "name": "stdout",
     "output_type": "stream",
     "text": [
      "\n",
      "127'th label prediction started\n",
      "count_one 779\n",
      "count_zero 779\n",
      "Epoch 1/6\n",
      "49/49 [==============================] - 1s 13ms/step - loss: 0.5395 - acc: 0.7632\n",
      "Epoch 2/6\n",
      "49/49 [==============================] - 1s 11ms/step - loss: 0.1486 - acc: 0.9448\n",
      "Epoch 3/6\n",
      "49/49 [==============================] - 1s 11ms/step - loss: 0.0182 - acc: 0.9987\n",
      "Epoch 4/6\n",
      "49/49 [==============================] - 1s 11ms/step - loss: 0.0035 - acc: 1.0000\n",
      "Epoch 5/6\n",
      "49/49 [==============================] - 1s 11ms/step - loss: 0.0013 - acc: 1.0000\n",
      "Epoch 6/6\n",
      "49/49 [==============================] - 1s 12ms/step - loss: 7.2374e-04 - acc: 1.0000\n",
      "Predicting 127th label...\n"
     ]
    },
    {
     "data": {
      "application/vnd.jupyter.widget-view+json": {
       "model_id": "ed9f312b7fad4b91abe8e4d8c2b79bc6",
       "version_major": 2,
       "version_minor": 0
      },
      "text/plain": [
       "  0%|          | 0/20 [00:00<?, ?it/s]"
      ]
     },
     "metadata": {},
     "output_type": "display_data"
    },
    {
     "name": "stdout",
     "output_type": "stream",
     "text": [
      "INFO:tensorflow:Assets written to: models/text_model_group_1/text_model_127/assets\n"
     ]
    },
    {
     "name": "stderr",
     "output_type": "stream",
     "text": [
      "INFO:tensorflow:Assets written to: models/text_model_group_1/text_model_127/assets\n"
     ]
    },
    {
     "name": "stdout",
     "output_type": "stream",
     "text": [
      "\n",
      "128'th label prediction started\n",
      "count_one 139\n",
      "count_zero 139\n",
      "Epoch 1/6\n",
      "9/9 [==============================] - 1s 12ms/step - loss: 0.7045 - acc: 0.4856\n",
      "Epoch 2/6\n",
      "9/9 [==============================] - 0s 11ms/step - loss: 0.6290 - acc: 0.7914\n",
      "Epoch 3/6\n",
      "9/9 [==============================] - 0s 12ms/step - loss: 0.5191 - acc: 1.0000\n",
      "Epoch 4/6\n",
      "9/9 [==============================] - 0s 11ms/step - loss: 0.3301 - acc: 1.0000\n",
      "Epoch 5/6\n",
      "9/9 [==============================] - 0s 11ms/step - loss: 0.1406 - acc: 1.0000\n",
      "Epoch 6/6\n",
      "9/9 [==============================] - 0s 12ms/step - loss: 0.0415 - acc: 1.0000\n",
      "Predicting 128th label...\n"
     ]
    },
    {
     "data": {
      "application/vnd.jupyter.widget-view+json": {
       "model_id": "bab23ecfe4ca4925b6328bb9d73683c4",
       "version_major": 2,
       "version_minor": 0
      },
      "text/plain": [
       "  0%|          | 0/20 [00:00<?, ?it/s]"
      ]
     },
     "metadata": {},
     "output_type": "display_data"
    },
    {
     "name": "stdout",
     "output_type": "stream",
     "text": [
      "INFO:tensorflow:Assets written to: models/text_model_group_1/text_model_128/assets\n"
     ]
    },
    {
     "name": "stderr",
     "output_type": "stream",
     "text": [
      "INFO:tensorflow:Assets written to: models/text_model_group_1/text_model_128/assets\n"
     ]
    },
    {
     "name": "stdout",
     "output_type": "stream",
     "text": [
      "\n",
      "129'th label prediction started\n",
      "count_one 60\n",
      "count_zero 60\n",
      "Epoch 1/6\n",
      "4/4 [==============================] - 1s 13ms/step - loss: 0.6928 - acc: 0.5583\n",
      "Epoch 2/6\n",
      "4/4 [==============================] - 0s 11ms/step - loss: 0.6374 - acc: 0.9750\n",
      "Epoch 3/6\n",
      "4/4 [==============================] - 0s 10ms/step - loss: 0.5656 - acc: 1.0000\n",
      "Epoch 4/6\n",
      "4/4 [==============================] - 0s 10ms/step - loss: 0.4593 - acc: 1.0000\n",
      "Epoch 5/6\n",
      "4/4 [==============================] - 0s 12ms/step - loss: 0.3401 - acc: 1.0000\n",
      "Epoch 6/6\n",
      "4/4 [==============================] - 0s 10ms/step - loss: 0.2078 - acc: 1.0000\n",
      "Predicting 129th label...\n"
     ]
    },
    {
     "data": {
      "application/vnd.jupyter.widget-view+json": {
       "model_id": "33230f891f2f449aafc5e28fb9541b92",
       "version_major": 2,
       "version_minor": 0
      },
      "text/plain": [
       "  0%|          | 0/20 [00:00<?, ?it/s]"
      ]
     },
     "metadata": {},
     "output_type": "display_data"
    },
    {
     "name": "stdout",
     "output_type": "stream",
     "text": [
      "INFO:tensorflow:Assets written to: models/text_model_group_1/text_model_129/assets\n"
     ]
    },
    {
     "name": "stderr",
     "output_type": "stream",
     "text": [
      "INFO:tensorflow:Assets written to: models/text_model_group_1/text_model_129/assets\n"
     ]
    },
    {
     "name": "stdout",
     "output_type": "stream",
     "text": [
      "\n",
      "130'th label prediction started\n",
      "count_one 438\n",
      "count_zero 438\n",
      "Epoch 1/6\n",
      "28/28 [==============================] - 1s 14ms/step - loss: 0.6862 - acc: 0.5217\n",
      "Epoch 2/6\n",
      "28/28 [==============================] - 0s 11ms/step - loss: 0.4682 - acc: 0.9064\n",
      "Epoch 3/6\n",
      "28/28 [==============================] - 0s 11ms/step - loss: 0.1166 - acc: 0.9840\n",
      "Epoch 4/6\n",
      "28/28 [==============================] - 0s 11ms/step - loss: 0.0112 - acc: 0.9989\n",
      "Epoch 5/6\n",
      "28/28 [==============================] - 0s 12ms/step - loss: 0.0033 - acc: 1.0000\n",
      "Epoch 6/6\n",
      "28/28 [==============================] - 0s 11ms/step - loss: 0.0018 - acc: 1.0000\n",
      "Predicting 130th label...\n"
     ]
    },
    {
     "data": {
      "application/vnd.jupyter.widget-view+json": {
       "model_id": "a7a8083ff5fa48749c4e6f3dc87b6b4c",
       "version_major": 2,
       "version_minor": 0
      },
      "text/plain": [
       "  0%|          | 0/20 [00:00<?, ?it/s]"
      ]
     },
     "metadata": {},
     "output_type": "display_data"
    },
    {
     "name": "stdout",
     "output_type": "stream",
     "text": [
      "INFO:tensorflow:Assets written to: models/text_model_group_1/text_model_130/assets\n"
     ]
    },
    {
     "name": "stderr",
     "output_type": "stream",
     "text": [
      "INFO:tensorflow:Assets written to: models/text_model_group_1/text_model_130/assets\n"
     ]
    },
    {
     "name": "stdout",
     "output_type": "stream",
     "text": [
      "\n",
      "131'th label prediction started\n",
      "count_one 110\n",
      "count_zero 110\n",
      "Epoch 1/6\n",
      "7/7 [==============================] - 1s 12ms/step - loss: 0.7105 - acc: 0.4636\n",
      "Epoch 2/6\n",
      "7/7 [==============================] - 0s 11ms/step - loss: 0.6426 - acc: 0.9455\n",
      "Epoch 3/6\n",
      "7/7 [==============================] - 0s 11ms/step - loss: 0.5696 - acc: 1.0000\n",
      "Epoch 4/6\n",
      "7/7 [==============================] - 0s 11ms/step - loss: 0.4339 - acc: 1.0000\n",
      "Epoch 5/6\n",
      "7/7 [==============================] - 0s 11ms/step - loss: 0.2538 - acc: 1.0000\n",
      "Epoch 6/6\n",
      "7/7 [==============================] - 0s 11ms/step - loss: 0.1035 - acc: 1.0000\n",
      "Predicting 131th label...\n"
     ]
    },
    {
     "data": {
      "application/vnd.jupyter.widget-view+json": {
       "model_id": "269e54ad44474009a9607c8b52f1c814",
       "version_major": 2,
       "version_minor": 0
      },
      "text/plain": [
       "  0%|          | 0/20 [00:00<?, ?it/s]"
      ]
     },
     "metadata": {},
     "output_type": "display_data"
    },
    {
     "name": "stdout",
     "output_type": "stream",
     "text": [
      "INFO:tensorflow:Assets written to: models/text_model_group_1/text_model_131/assets\n"
     ]
    },
    {
     "name": "stderr",
     "output_type": "stream",
     "text": [
      "INFO:tensorflow:Assets written to: models/text_model_group_1/text_model_131/assets\n"
     ]
    },
    {
     "name": "stdout",
     "output_type": "stream",
     "text": [
      "\n",
      "132'th label prediction started\n",
      "count_one 177\n",
      "count_zero 177\n",
      "Epoch 1/6\n",
      "12/12 [==============================] - 1s 17ms/step - loss: 0.7103 - acc: 0.5056\n",
      "Epoch 2/6\n",
      "12/12 [==============================] - 0s 10ms/step - loss: 0.6392 - acc: 0.9859\n",
      "Epoch 3/6\n",
      "12/12 [==============================] - 0s 11ms/step - loss: 0.5279 - acc: 1.0000\n",
      "Epoch 4/6\n",
      "12/12 [==============================] - 0s 12ms/step - loss: 0.3015 - acc: 1.0000\n",
      "Epoch 5/6\n",
      "12/12 [==============================] - 0s 11ms/step - loss: 0.0988 - acc: 1.0000\n",
      "Epoch 6/6\n",
      "12/12 [==============================] - 0s 11ms/step - loss: 0.0223 - acc: 1.0000\n",
      "Predicting 132th label...\n"
     ]
    },
    {
     "data": {
      "application/vnd.jupyter.widget-view+json": {
       "model_id": "056e5c95b6f2432fbaa09a1525abe54b",
       "version_major": 2,
       "version_minor": 0
      },
      "text/plain": [
       "  0%|          | 0/20 [00:00<?, ?it/s]"
      ]
     },
     "metadata": {},
     "output_type": "display_data"
    },
    {
     "name": "stdout",
     "output_type": "stream",
     "text": [
      "INFO:tensorflow:Assets written to: models/text_model_group_1/text_model_132/assets\n"
     ]
    },
    {
     "name": "stderr",
     "output_type": "stream",
     "text": [
      "INFO:tensorflow:Assets written to: models/text_model_group_1/text_model_132/assets\n"
     ]
    },
    {
     "name": "stdout",
     "output_type": "stream",
     "text": [
      "\n",
      "133'th label prediction started\n",
      "count_one 261\n",
      "count_zero 261\n",
      "Epoch 1/6\n",
      "17/17 [==============================] - 1s 11ms/step - loss: 0.7012 - acc: 0.4579\n",
      "Epoch 2/6\n",
      "17/17 [==============================] - 0s 9ms/step - loss: 0.6351 - acc: 0.8257\n",
      "Epoch 3/6\n",
      "17/17 [==============================] - 0s 10ms/step - loss: 0.4528 - acc: 0.9904\n",
      "Epoch 4/6\n",
      "17/17 [==============================] - 0s 11ms/step - loss: 0.1695 - acc: 1.0000\n",
      "Epoch 5/6\n",
      "17/17 [==============================] - 0s 11ms/step - loss: 0.0309 - acc: 1.0000\n",
      "Epoch 6/6\n",
      "17/17 [==============================] - 0s 11ms/step - loss: 0.0069 - acc: 1.0000\n",
      "Predicting 133th label...\n"
     ]
    },
    {
     "data": {
      "application/vnd.jupyter.widget-view+json": {
       "model_id": "d21e961ce2ae41b7b719780dc0211252",
       "version_major": 2,
       "version_minor": 0
      },
      "text/plain": [
       "  0%|          | 0/20 [00:00<?, ?it/s]"
      ]
     },
     "metadata": {},
     "output_type": "display_data"
    },
    {
     "name": "stdout",
     "output_type": "stream",
     "text": [
      "INFO:tensorflow:Assets written to: models/text_model_group_1/text_model_133/assets\n"
     ]
    },
    {
     "name": "stderr",
     "output_type": "stream",
     "text": [
      "INFO:tensorflow:Assets written to: models/text_model_group_1/text_model_133/assets\n"
     ]
    },
    {
     "name": "stdout",
     "output_type": "stream",
     "text": [
      "\n",
      "134'th label prediction started\n",
      "count_one 484\n",
      "count_zero 484\n",
      "Epoch 1/6\n",
      "31/31 [==============================] - 1s 11ms/step - loss: 0.6581 - acc: 0.6157\n",
      "Epoch 2/6\n",
      "31/31 [==============================] - 0s 10ms/step - loss: 0.3220 - acc: 0.9091\n",
      "Epoch 3/6\n",
      "31/31 [==============================] - 0s 10ms/step - loss: 0.0938 - acc: 0.9824\n",
      "Epoch 4/6\n",
      "31/31 [==============================] - 0s 11ms/step - loss: 0.0123 - acc: 0.9990\n",
      "Epoch 5/6\n",
      "31/31 [==============================] - 0s 11ms/step - loss: 0.0051 - acc: 1.0000\n",
      "Epoch 6/6\n",
      "31/31 [==============================] - 0s 11ms/step - loss: 0.0020 - acc: 1.0000\n",
      "Predicting 134th label...\n"
     ]
    },
    {
     "data": {
      "application/vnd.jupyter.widget-view+json": {
       "model_id": "0044d68c23dd49618fd7bccff771a070",
       "version_major": 2,
       "version_minor": 0
      },
      "text/plain": [
       "  0%|          | 0/20 [00:00<?, ?it/s]"
      ]
     },
     "metadata": {},
     "output_type": "display_data"
    },
    {
     "name": "stdout",
     "output_type": "stream",
     "text": [
      "INFO:tensorflow:Assets written to: models/text_model_group_1/text_model_134/assets\n"
     ]
    },
    {
     "name": "stderr",
     "output_type": "stream",
     "text": [
      "INFO:tensorflow:Assets written to: models/text_model_group_1/text_model_134/assets\n"
     ]
    },
    {
     "name": "stdout",
     "output_type": "stream",
     "text": [
      "\n",
      "135'th label prediction started\n",
      "count_one 161\n",
      "count_zero 161\n",
      "Epoch 1/6\n",
      "11/11 [==============================] - 1s 11ms/step - loss: 0.7011 - acc: 0.4814\n",
      "Epoch 2/6\n",
      "11/11 [==============================] - 0s 11ms/step - loss: 0.5630 - acc: 0.9627\n",
      "Epoch 3/6\n",
      "11/11 [==============================] - 0s 10ms/step - loss: 0.3516 - acc: 0.9938\n",
      "Epoch 4/6\n",
      "11/11 [==============================] - 0s 11ms/step - loss: 0.1327 - acc: 1.0000\n",
      "Epoch 5/6\n",
      "11/11 [==============================] - 0s 11ms/step - loss: 0.0350 - acc: 1.0000\n",
      "Epoch 6/6\n",
      "11/11 [==============================] - 0s 10ms/step - loss: 0.0098 - acc: 1.0000\n",
      "Predicting 135th label...\n"
     ]
    },
    {
     "data": {
      "application/vnd.jupyter.widget-view+json": {
       "model_id": "506afd2c4d654c97a5304d25cdfc8f51",
       "version_major": 2,
       "version_minor": 0
      },
      "text/plain": [
       "  0%|          | 0/20 [00:00<?, ?it/s]"
      ]
     },
     "metadata": {},
     "output_type": "display_data"
    },
    {
     "name": "stdout",
     "output_type": "stream",
     "text": [
      "INFO:tensorflow:Assets written to: models/text_model_group_1/text_model_135/assets\n"
     ]
    },
    {
     "name": "stderr",
     "output_type": "stream",
     "text": [
      "INFO:tensorflow:Assets written to: models/text_model_group_1/text_model_135/assets\n"
     ]
    },
    {
     "name": "stdout",
     "output_type": "stream",
     "text": [
      "\n",
      "136'th label prediction started\n",
      "count_one 353\n",
      "count_zero 353\n",
      "Epoch 1/6\n",
      "23/23 [==============================] - 1s 11ms/step - loss: 0.7016 - acc: 0.5170\n",
      "Epoch 2/6\n",
      "23/23 [==============================] - 0s 11ms/step - loss: 0.6530 - acc: 0.7068\n",
      "Epoch 3/6\n",
      "23/23 [==============================] - 0s 10ms/step - loss: 0.4527 - acc: 0.9504\n",
      "Epoch 4/6\n",
      "23/23 [==============================] - 0s 11ms/step - loss: 0.1514 - acc: 0.9816\n",
      "Epoch 5/6\n",
      "23/23 [==============================] - 0s 10ms/step - loss: 0.0248 - acc: 1.0000\n",
      "Epoch 6/6\n",
      "23/23 [==============================] - 0s 11ms/step - loss: 0.0065 - acc: 1.0000\n",
      "Predicting 136th label...\n"
     ]
    },
    {
     "data": {
      "application/vnd.jupyter.widget-view+json": {
       "model_id": "a272bf50b1e041858b21cf00904926a6",
       "version_major": 2,
       "version_minor": 0
      },
      "text/plain": [
       "  0%|          | 0/20 [00:00<?, ?it/s]"
      ]
     },
     "metadata": {},
     "output_type": "display_data"
    },
    {
     "name": "stdout",
     "output_type": "stream",
     "text": [
      "INFO:tensorflow:Assets written to: models/text_model_group_1/text_model_136/assets\n"
     ]
    },
    {
     "name": "stderr",
     "output_type": "stream",
     "text": [
      "INFO:tensorflow:Assets written to: models/text_model_group_1/text_model_136/assets\n"
     ]
    },
    {
     "name": "stdout",
     "output_type": "stream",
     "text": [
      "\n",
      "137'th label prediction started\n",
      "count_one 499\n",
      "count_zero 499\n",
      "Epoch 1/6\n",
      "32/32 [==============================] - 1s 19ms/step - loss: 0.6851 - acc: 0.5671\n",
      "Epoch 2/6\n",
      "32/32 [==============================] - 0s 11ms/step - loss: 0.5363 - acc: 0.7355\n",
      "Epoch 3/6\n",
      "32/32 [==============================] - 0s 10ms/step - loss: 0.1966 - acc: 0.9439\n",
      "Epoch 4/6\n",
      "32/32 [==============================] - 0s 11ms/step - loss: 0.0253 - acc: 0.9980\n",
      "Epoch 5/6\n",
      "32/32 [==============================] - 0s 11ms/step - loss: 0.0098 - acc: 1.0000\n",
      "Epoch 6/6\n",
      "32/32 [==============================] - 0s 11ms/step - loss: 0.0025 - acc: 1.0000\n",
      "Predicting 137th label...\n"
     ]
    },
    {
     "data": {
      "application/vnd.jupyter.widget-view+json": {
       "model_id": "08e299ca98784d27b2d6d6d8d70d4a60",
       "version_major": 2,
       "version_minor": 0
      },
      "text/plain": [
       "  0%|          | 0/20 [00:00<?, ?it/s]"
      ]
     },
     "metadata": {},
     "output_type": "display_data"
    },
    {
     "name": "stdout",
     "output_type": "stream",
     "text": [
      "INFO:tensorflow:Assets written to: models/text_model_group_1/text_model_137/assets\n"
     ]
    },
    {
     "name": "stderr",
     "output_type": "stream",
     "text": [
      "INFO:tensorflow:Assets written to: models/text_model_group_1/text_model_137/assets\n"
     ]
    },
    {
     "name": "stdout",
     "output_type": "stream",
     "text": [
      "\n",
      "138'th label prediction started\n",
      "count_one 243\n",
      "count_zero 243\n",
      "Epoch 1/6\n",
      "16/16 [==============================] - 1s 11ms/step - loss: 0.6960 - acc: 0.5247\n",
      "Epoch 2/6\n",
      "16/16 [==============================] - 0s 10ms/step - loss: 0.5902 - acc: 0.8333\n",
      "Epoch 3/6\n",
      "16/16 [==============================] - 0s 11ms/step - loss: 0.3336 - acc: 0.9609\n",
      "Epoch 4/6\n",
      "16/16 [==============================] - 0s 10ms/step - loss: 0.1018 - acc: 0.9938\n",
      "Epoch 5/6\n",
      "16/16 [==============================] - 0s 11ms/step - loss: 0.0191 - acc: 1.0000\n",
      "Epoch 6/6\n",
      "16/16 [==============================] - 0s 10ms/step - loss: 0.0062 - acc: 1.0000\n",
      "Predicting 138th label...\n"
     ]
    },
    {
     "data": {
      "application/vnd.jupyter.widget-view+json": {
       "model_id": "0186582a53a74d8b882495924d5c040b",
       "version_major": 2,
       "version_minor": 0
      },
      "text/plain": [
       "  0%|          | 0/20 [00:00<?, ?it/s]"
      ]
     },
     "metadata": {},
     "output_type": "display_data"
    },
    {
     "name": "stdout",
     "output_type": "stream",
     "text": [
      "INFO:tensorflow:Assets written to: models/text_model_group_1/text_model_138/assets\n"
     ]
    },
    {
     "name": "stderr",
     "output_type": "stream",
     "text": [
      "INFO:tensorflow:Assets written to: models/text_model_group_1/text_model_138/assets\n"
     ]
    },
    {
     "name": "stdout",
     "output_type": "stream",
     "text": [
      "\n",
      "139'th label prediction started\n",
      "count_one 354\n",
      "count_zero 354\n",
      "Epoch 1/6\n",
      "23/23 [==============================] - 1s 11ms/step - loss: 0.6654 - acc: 0.5494\n",
      "Epoch 2/6\n",
      "23/23 [==============================] - 0s 11ms/step - loss: 0.4143 - acc: 0.8686\n",
      "Epoch 3/6\n",
      "23/23 [==============================] - 0s 11ms/step - loss: 0.1452 - acc: 0.9689\n",
      "Epoch 4/6\n",
      "23/23 [==============================] - 0s 11ms/step - loss: 0.0297 - acc: 0.9986\n",
      "Epoch 5/6\n",
      "23/23 [==============================] - 0s 10ms/step - loss: 0.0064 - acc: 1.0000\n",
      "Epoch 6/6\n",
      "23/23 [==============================] - 0s 11ms/step - loss: 0.0024 - acc: 1.0000\n",
      "Predicting 139th label...\n"
     ]
    },
    {
     "data": {
      "application/vnd.jupyter.widget-view+json": {
       "model_id": "610b0f6458844d5a904535092c1478ca",
       "version_major": 2,
       "version_minor": 0
      },
      "text/plain": [
       "  0%|          | 0/20 [00:00<?, ?it/s]"
      ]
     },
     "metadata": {},
     "output_type": "display_data"
    },
    {
     "name": "stdout",
     "output_type": "stream",
     "text": [
      "INFO:tensorflow:Assets written to: models/text_model_group_1/text_model_139/assets\n"
     ]
    },
    {
     "name": "stderr",
     "output_type": "stream",
     "text": [
      "INFO:tensorflow:Assets written to: models/text_model_group_1/text_model_139/assets\n"
     ]
    },
    {
     "name": "stdout",
     "output_type": "stream",
     "text": [
      "\n",
      "140'th label prediction started\n",
      "count_one 124\n",
      "count_zero 124\n",
      "Epoch 1/6\n",
      "8/8 [==============================] - 1s 11ms/step - loss: 0.6901 - acc: 0.5484\n",
      "Epoch 2/6\n",
      "8/8 [==============================] - 0s 11ms/step - loss: 0.6076 - acc: 0.9476\n",
      "Epoch 3/6\n",
      "8/8 [==============================] - 0s 10ms/step - loss: 0.4478 - acc: 1.0000\n",
      "Epoch 4/6\n",
      "8/8 [==============================] - 0s 11ms/step - loss: 0.2292 - acc: 1.0000\n",
      "Epoch 5/6\n",
      "8/8 [==============================] - 0s 11ms/step - loss: 0.0757 - acc: 1.0000\n",
      "Epoch 6/6\n",
      "8/8 [==============================] - 0s 11ms/step - loss: 0.0199 - acc: 1.0000\n",
      "Predicting 140th label...\n"
     ]
    },
    {
     "data": {
      "application/vnd.jupyter.widget-view+json": {
       "model_id": "85b653eef1f4496e8c1a593bcbc912f3",
       "version_major": 2,
       "version_minor": 0
      },
      "text/plain": [
       "  0%|          | 0/20 [00:00<?, ?it/s]"
      ]
     },
     "metadata": {},
     "output_type": "display_data"
    },
    {
     "name": "stdout",
     "output_type": "stream",
     "text": [
      "INFO:tensorflow:Assets written to: models/text_model_group_1/text_model_140/assets\n"
     ]
    },
    {
     "name": "stderr",
     "output_type": "stream",
     "text": [
      "INFO:tensorflow:Assets written to: models/text_model_group_1/text_model_140/assets\n"
     ]
    },
    {
     "name": "stdout",
     "output_type": "stream",
     "text": [
      "\n",
      "141'th label prediction started\n",
      "count_one 351\n",
      "count_zero 351\n",
      "Epoch 1/6\n",
      "22/22 [==============================] - 1s 11ms/step - loss: 0.5832 - acc: 0.7806\n",
      "Epoch 2/6\n",
      "22/22 [==============================] - 0s 11ms/step - loss: 0.1757 - acc: 0.9487\n",
      "Epoch 3/6\n",
      "22/22 [==============================] - 0s 11ms/step - loss: 0.0463 - acc: 0.9915\n",
      "Epoch 4/6\n",
      "22/22 [==============================] - 0s 11ms/step - loss: 0.0103 - acc: 0.9986\n",
      "Epoch 5/6\n",
      "22/22 [==============================] - 0s 10ms/step - loss: 0.0027 - acc: 1.0000\n",
      "Epoch 6/6\n",
      "22/22 [==============================] - 0s 11ms/step - loss: 0.0014 - acc: 1.0000\n",
      "Predicting 141th label...\n"
     ]
    },
    {
     "data": {
      "application/vnd.jupyter.widget-view+json": {
       "model_id": "c307afa423de4729ba362f10e82180a2",
       "version_major": 2,
       "version_minor": 0
      },
      "text/plain": [
       "  0%|          | 0/20 [00:00<?, ?it/s]"
      ]
     },
     "metadata": {},
     "output_type": "display_data"
    },
    {
     "name": "stdout",
     "output_type": "stream",
     "text": [
      "INFO:tensorflow:Assets written to: models/text_model_group_1/text_model_141/assets\n"
     ]
    },
    {
     "name": "stderr",
     "output_type": "stream",
     "text": [
      "INFO:tensorflow:Assets written to: models/text_model_group_1/text_model_141/assets\n"
     ]
    },
    {
     "name": "stdout",
     "output_type": "stream",
     "text": [
      "\n",
      "142'th label prediction started\n",
      "count_one 320\n",
      "count_zero 320\n",
      "Epoch 1/6\n",
      "20/20 [==============================] - 1s 11ms/step - loss: 0.6940 - acc: 0.5188\n",
      "Epoch 2/6\n",
      "20/20 [==============================] - 0s 11ms/step - loss: 0.5457 - acc: 0.8578\n",
      "Epoch 3/6\n",
      "20/20 [==============================] - 0s 11ms/step - loss: 0.2646 - acc: 0.9453\n",
      "Epoch 4/6\n",
      "20/20 [==============================] - 0s 10ms/step - loss: 0.0707 - acc: 0.9906\n",
      "Epoch 5/6\n",
      "20/20 [==============================] - 0s 10ms/step - loss: 0.0125 - acc: 1.0000\n",
      "Epoch 6/6\n",
      "20/20 [==============================] - 0s 11ms/step - loss: 0.0034 - acc: 1.0000\n",
      "Predicting 142th label...\n"
     ]
    },
    {
     "data": {
      "application/vnd.jupyter.widget-view+json": {
       "model_id": "2a8b56e0521c4dd3b063d666bbcb6aac",
       "version_major": 2,
       "version_minor": 0
      },
      "text/plain": [
       "  0%|          | 0/20 [00:00<?, ?it/s]"
      ]
     },
     "metadata": {},
     "output_type": "display_data"
    },
    {
     "name": "stdout",
     "output_type": "stream",
     "text": [
      "INFO:tensorflow:Assets written to: models/text_model_group_1/text_model_142/assets\n"
     ]
    },
    {
     "name": "stderr",
     "output_type": "stream",
     "text": [
      "INFO:tensorflow:Assets written to: models/text_model_group_1/text_model_142/assets\n"
     ]
    },
    {
     "name": "stdout",
     "output_type": "stream",
     "text": [
      "\n",
      "143'th label prediction started\n",
      "count_one 100\n",
      "count_zero 100\n",
      "Epoch 1/6\n",
      "7/7 [==============================] - 1s 11ms/step - loss: 0.6979 - acc: 0.5050\n",
      "Epoch 2/6\n",
      "7/7 [==============================] - 0s 11ms/step - loss: 0.6261 - acc: 1.0000\n",
      "Epoch 3/6\n",
      "7/7 [==============================] - 0s 11ms/step - loss: 0.5293 - acc: 1.0000\n",
      "Epoch 4/6\n",
      "7/7 [==============================] - 0s 11ms/step - loss: 0.3679 - acc: 1.0000\n",
      "Epoch 5/6\n",
      "7/7 [==============================] - 0s 10ms/step - loss: 0.1922 - acc: 1.0000\n",
      "Epoch 6/6\n",
      "7/7 [==============================] - 0s 11ms/step - loss: 0.0736 - acc: 1.0000\n",
      "Predicting 143th label...\n"
     ]
    },
    {
     "data": {
      "application/vnd.jupyter.widget-view+json": {
       "model_id": "3f126144e3f44e4a8836fc139c0b49cd",
       "version_major": 2,
       "version_minor": 0
      },
      "text/plain": [
       "  0%|          | 0/20 [00:00<?, ?it/s]"
      ]
     },
     "metadata": {},
     "output_type": "display_data"
    },
    {
     "name": "stdout",
     "output_type": "stream",
     "text": [
      "INFO:tensorflow:Assets written to: models/text_model_group_1/text_model_143/assets\n"
     ]
    },
    {
     "name": "stderr",
     "output_type": "stream",
     "text": [
      "INFO:tensorflow:Assets written to: models/text_model_group_1/text_model_143/assets\n"
     ]
    },
    {
     "name": "stdout",
     "output_type": "stream",
     "text": [
      "\n",
      "144'th label prediction started\n",
      "count_one 305\n",
      "count_zero 305\n",
      "Epoch 1/6\n",
      "20/20 [==============================] - 1s 15ms/step - loss: 0.6875 - acc: 0.5410\n",
      "Epoch 2/6\n",
      "20/20 [==============================] - 0s 10ms/step - loss: 0.5586 - acc: 0.9246\n",
      "Epoch 3/6\n",
      "20/20 [==============================] - 0s 11ms/step - loss: 0.2222 - acc: 0.9902\n",
      "Epoch 4/6\n",
      "20/20 [==============================] - 0s 11ms/step - loss: 0.0322 - acc: 0.9984\n",
      "Epoch 5/6\n",
      "20/20 [==============================] - 0s 11ms/step - loss: 0.0050 - acc: 1.0000\n",
      "Epoch 6/6\n",
      "20/20 [==============================] - 0s 11ms/step - loss: 0.0020 - acc: 1.0000\n",
      "Predicting 144th label...\n"
     ]
    },
    {
     "data": {
      "application/vnd.jupyter.widget-view+json": {
       "model_id": "75e1cd474079417ab83dcd1208ca27cf",
       "version_major": 2,
       "version_minor": 0
      },
      "text/plain": [
       "  0%|          | 0/20 [00:00<?, ?it/s]"
      ]
     },
     "metadata": {},
     "output_type": "display_data"
    },
    {
     "name": "stdout",
     "output_type": "stream",
     "text": [
      "INFO:tensorflow:Assets written to: models/text_model_group_1/text_model_144/assets\n"
     ]
    },
    {
     "name": "stderr",
     "output_type": "stream",
     "text": [
      "INFO:tensorflow:Assets written to: models/text_model_group_1/text_model_144/assets\n"
     ]
    },
    {
     "name": "stdout",
     "output_type": "stream",
     "text": [
      "\n",
      "145'th label prediction started\n",
      "count_one 84\n",
      "count_zero 84\n",
      "Epoch 1/6\n",
      "6/6 [==============================] - 1s 12ms/step - loss: 0.6977 - acc: 0.4881\n",
      "Epoch 2/6\n",
      "6/6 [==============================] - 0s 11ms/step - loss: 0.6184 - acc: 0.9881\n",
      "Epoch 3/6\n",
      "6/6 [==============================] - 0s 11ms/step - loss: 0.5101 - acc: 1.0000\n",
      "Epoch 4/6\n",
      "6/6 [==============================] - 0s 9ms/step - loss: 0.3463 - acc: 1.0000\n",
      "Epoch 5/6\n",
      "6/6 [==============================] - 0s 11ms/step - loss: 0.1785 - acc: 1.0000\n",
      "Epoch 6/6\n",
      "6/6 [==============================] - 0s 11ms/step - loss: 0.0745 - acc: 1.0000\n",
      "Predicting 145th label...\n"
     ]
    },
    {
     "data": {
      "application/vnd.jupyter.widget-view+json": {
       "model_id": "be90b0c343064e9bba88adcbcf4e6f15",
       "version_major": 2,
       "version_minor": 0
      },
      "text/plain": [
       "  0%|          | 0/20 [00:00<?, ?it/s]"
      ]
     },
     "metadata": {},
     "output_type": "display_data"
    },
    {
     "name": "stdout",
     "output_type": "stream",
     "text": [
      "INFO:tensorflow:Assets written to: models/text_model_group_1/text_model_145/assets\n"
     ]
    },
    {
     "name": "stderr",
     "output_type": "stream",
     "text": [
      "INFO:tensorflow:Assets written to: models/text_model_group_1/text_model_145/assets\n"
     ]
    },
    {
     "name": "stdout",
     "output_type": "stream",
     "text": [
      "\n",
      "146'th label prediction started\n",
      "count_one 87\n",
      "count_zero 87\n",
      "Epoch 1/6\n",
      "6/6 [==============================] - 1s 11ms/step - loss: 0.7024 - acc: 0.5000\n",
      "Epoch 2/6\n",
      "6/6 [==============================] - 0s 11ms/step - loss: 0.6330 - acc: 0.9425\n",
      "Epoch 3/6\n",
      "6/6 [==============================] - 0s 11ms/step - loss: 0.5560 - acc: 0.9828\n",
      "Epoch 4/6\n",
      "6/6 [==============================] - 0s 11ms/step - loss: 0.4350 - acc: 0.9943\n",
      "Epoch 5/6\n",
      "6/6 [==============================] - 0s 10ms/step - loss: 0.2825 - acc: 1.0000\n",
      "Epoch 6/6\n",
      "6/6 [==============================] - 0s 11ms/step - loss: 0.1475 - acc: 1.0000\n",
      "Predicting 146th label...\n"
     ]
    },
    {
     "data": {
      "application/vnd.jupyter.widget-view+json": {
       "model_id": "3a3c2f255e2441a98a97c95b27926611",
       "version_major": 2,
       "version_minor": 0
      },
      "text/plain": [
       "  0%|          | 0/20 [00:00<?, ?it/s]"
      ]
     },
     "metadata": {},
     "output_type": "display_data"
    },
    {
     "name": "stdout",
     "output_type": "stream",
     "text": [
      "INFO:tensorflow:Assets written to: models/text_model_group_1/text_model_146/assets\n"
     ]
    },
    {
     "name": "stderr",
     "output_type": "stream",
     "text": [
      "INFO:tensorflow:Assets written to: models/text_model_group_1/text_model_146/assets\n"
     ]
    },
    {
     "name": "stdout",
     "output_type": "stream",
     "text": [
      "\n",
      "147'th label prediction started\n",
      "count_one 97\n",
      "count_zero 97\n",
      "Epoch 1/6\n",
      "7/7 [==============================] - 1s 23ms/step - loss: 0.7193 - acc: 0.4227\n",
      "Epoch 2/6\n",
      "7/7 [==============================] - 0s 10ms/step - loss: 0.5858 - acc: 0.9433\n",
      "Epoch 3/6\n",
      "7/7 [==============================] - 0s 10ms/step - loss: 0.4519 - acc: 0.9897\n",
      "Epoch 4/6\n",
      "7/7 [==============================] - 0s 10ms/step - loss: 0.2833 - acc: 0.9897\n",
      "Epoch 5/6\n",
      "7/7 [==============================] - 0s 10ms/step - loss: 0.1507 - acc: 0.9897\n",
      "Epoch 6/6\n",
      "7/7 [==============================] - 0s 9ms/step - loss: 0.0688 - acc: 1.0000\n",
      "Predicting 147th label...\n"
     ]
    },
    {
     "data": {
      "application/vnd.jupyter.widget-view+json": {
       "model_id": "c4fcee680b864ab8a8c6e719963bc48f",
       "version_major": 2,
       "version_minor": 0
      },
      "text/plain": [
       "  0%|          | 0/20 [00:00<?, ?it/s]"
      ]
     },
     "metadata": {},
     "output_type": "display_data"
    },
    {
     "name": "stdout",
     "output_type": "stream",
     "text": [
      "INFO:tensorflow:Assets written to: models/text_model_group_1/text_model_147/assets\n"
     ]
    },
    {
     "name": "stderr",
     "output_type": "stream",
     "text": [
      "INFO:tensorflow:Assets written to: models/text_model_group_1/text_model_147/assets\n"
     ]
    },
    {
     "name": "stdout",
     "output_type": "stream",
     "text": [
      "\n",
      "148'th label prediction started\n",
      "count_one 162\n",
      "count_zero 162\n",
      "Epoch 1/6\n",
      "11/11 [==============================] - 1s 18ms/step - loss: 0.6937 - acc: 0.4815\n",
      "Epoch 2/6\n",
      "11/11 [==============================] - 0s 9ms/step - loss: 0.6139 - acc: 0.7716\n",
      "Epoch 3/6\n",
      "11/11 [==============================] - 0s 10ms/step - loss: 0.4305 - acc: 0.9784\n",
      "Epoch 4/6\n",
      "11/11 [==============================] - 0s 10ms/step - loss: 0.1911 - acc: 0.9846\n",
      "Epoch 5/6\n",
      "11/11 [==============================] - 0s 10ms/step - loss: 0.0586 - acc: 0.9938\n",
      "Epoch 6/6\n",
      "11/11 [==============================] - 0s 11ms/step - loss: 0.0163 - acc: 1.0000\n",
      "Predicting 148th label...\n"
     ]
    },
    {
     "data": {
      "application/vnd.jupyter.widget-view+json": {
       "model_id": "0c742469f4544d6ea238dee386bd89db",
       "version_major": 2,
       "version_minor": 0
      },
      "text/plain": [
       "  0%|          | 0/20 [00:00<?, ?it/s]"
      ]
     },
     "metadata": {},
     "output_type": "display_data"
    },
    {
     "name": "stdout",
     "output_type": "stream",
     "text": [
      "INFO:tensorflow:Assets written to: models/text_model_group_1/text_model_148/assets\n"
     ]
    },
    {
     "name": "stderr",
     "output_type": "stream",
     "text": [
      "INFO:tensorflow:Assets written to: models/text_model_group_1/text_model_148/assets\n"
     ]
    },
    {
     "name": "stdout",
     "output_type": "stream",
     "text": [
      "\n",
      "149'th label prediction started\n",
      "count_one 154\n",
      "count_zero 154\n",
      "Epoch 1/6\n",
      "10/10 [==============================] - 1s 11ms/step - loss: 0.6902 - acc: 0.5065\n",
      "Epoch 2/6\n",
      "10/10 [==============================] - 0s 11ms/step - loss: 0.5901 - acc: 0.9773\n",
      "Epoch 3/6\n",
      "10/10 [==============================] - 0s 11ms/step - loss: 0.3973 - acc: 0.9903\n",
      "Epoch 4/6\n",
      "10/10 [==============================] - 0s 11ms/step - loss: 0.1864 - acc: 0.9968\n",
      "Epoch 5/6\n",
      "10/10 [==============================] - 0s 11ms/step - loss: 0.0650 - acc: 0.9968\n",
      "Epoch 6/6\n",
      "10/10 [==============================] - 0s 11ms/step - loss: 0.0169 - acc: 1.0000\n",
      "Predicting 149th label...\n"
     ]
    },
    {
     "data": {
      "application/vnd.jupyter.widget-view+json": {
       "model_id": "f7ecf5b09b744d9db4c2fb42b51acdd1",
       "version_major": 2,
       "version_minor": 0
      },
      "text/plain": [
       "  0%|          | 0/20 [00:00<?, ?it/s]"
      ]
     },
     "metadata": {},
     "output_type": "display_data"
    },
    {
     "name": "stdout",
     "output_type": "stream",
     "text": [
      "INFO:tensorflow:Assets written to: models/text_model_group_1/text_model_149/assets\n"
     ]
    },
    {
     "name": "stderr",
     "output_type": "stream",
     "text": [
      "INFO:tensorflow:Assets written to: models/text_model_group_1/text_model_149/assets\n"
     ]
    },
    {
     "name": "stdout",
     "output_type": "stream",
     "text": [
      "\n",
      "150'th label prediction started\n",
      "count_one 86\n",
      "count_zero 86\n",
      "Epoch 1/6\n",
      "6/6 [==============================] - 1s 12ms/step - loss: 0.7091 - acc: 0.4070\n",
      "Epoch 2/6\n",
      "6/6 [==============================] - 0s 11ms/step - loss: 0.6431 - acc: 0.9535\n",
      "Epoch 3/6\n",
      "6/6 [==============================] - 0s 10ms/step - loss: 0.5784 - acc: 0.9767\n",
      "Epoch 4/6\n",
      "6/6 [==============================] - 0s 9ms/step - loss: 0.4758 - acc: 1.0000\n",
      "Epoch 5/6\n",
      "6/6 [==============================] - 0s 10ms/step - loss: 0.3334 - acc: 1.0000\n",
      "Epoch 6/6\n",
      "6/6 [==============================] - 0s 11ms/step - loss: 0.1931 - acc: 1.0000\n",
      "Predicting 150th label...\n"
     ]
    },
    {
     "data": {
      "application/vnd.jupyter.widget-view+json": {
       "model_id": "01dd6bb301b84d689f97be320d241798",
       "version_major": 2,
       "version_minor": 0
      },
      "text/plain": [
       "  0%|          | 0/20 [00:00<?, ?it/s]"
      ]
     },
     "metadata": {},
     "output_type": "display_data"
    },
    {
     "name": "stdout",
     "output_type": "stream",
     "text": [
      "INFO:tensorflow:Assets written to: models/text_model_group_1/text_model_150/assets\n"
     ]
    },
    {
     "name": "stderr",
     "output_type": "stream",
     "text": [
      "INFO:tensorflow:Assets written to: models/text_model_group_1/text_model_150/assets\n"
     ]
    },
    {
     "name": "stdout",
     "output_type": "stream",
     "text": [
      "\n",
      "151'th label prediction started\n",
      "count_one 151\n",
      "count_zero 151\n",
      "Epoch 1/6\n",
      "10/10 [==============================] - 1s 11ms/step - loss: 0.6956 - acc: 0.4702\n",
      "Epoch 2/6\n",
      "10/10 [==============================] - 0s 11ms/step - loss: 0.6249 - acc: 0.9834\n",
      "Epoch 3/6\n",
      "10/10 [==============================] - 0s 11ms/step - loss: 0.4959 - acc: 1.0000\n",
      "Epoch 4/6\n",
      "10/10 [==============================] - 0s 10ms/step - loss: 0.2797 - acc: 1.0000\n",
      "Epoch 5/6\n",
      "10/10 [==============================] - 0s 11ms/step - loss: 0.0935 - acc: 1.0000\n",
      "Epoch 6/6\n",
      "10/10 [==============================] - 0s 10ms/step - loss: 0.0232 - acc: 1.0000\n",
      "Predicting 151th label...\n"
     ]
    },
    {
     "data": {
      "application/vnd.jupyter.widget-view+json": {
       "model_id": "6268a18de4224f34b6d4350e2d6f872b",
       "version_major": 2,
       "version_minor": 0
      },
      "text/plain": [
       "  0%|          | 0/20 [00:00<?, ?it/s]"
      ]
     },
     "metadata": {},
     "output_type": "display_data"
    },
    {
     "name": "stdout",
     "output_type": "stream",
     "text": [
      "INFO:tensorflow:Assets written to: models/text_model_group_1/text_model_151/assets\n"
     ]
    },
    {
     "name": "stderr",
     "output_type": "stream",
     "text": [
      "INFO:tensorflow:Assets written to: models/text_model_group_1/text_model_151/assets\n"
     ]
    },
    {
     "name": "stdout",
     "output_type": "stream",
     "text": [
      "\n",
      "152'th label prediction started\n",
      "count_one 204\n",
      "count_zero 204\n",
      "Epoch 1/6\n",
      "13/13 [==============================] - 1s 12ms/step - loss: 0.6953 - acc: 0.5123\n",
      "Epoch 2/6\n",
      "13/13 [==============================] - 0s 11ms/step - loss: 0.5395 - acc: 0.9657\n",
      "Epoch 3/6\n",
      "13/13 [==============================] - 0s 11ms/step - loss: 0.2660 - acc: 0.9828\n",
      "Epoch 4/6\n",
      "13/13 [==============================] - 0s 10ms/step - loss: 0.0722 - acc: 0.9951\n",
      "Epoch 5/6\n",
      "13/13 [==============================] - 0s 11ms/step - loss: 0.0129 - acc: 1.0000\n",
      "Epoch 6/6\n",
      "13/13 [==============================] - 0s 10ms/step - loss: 0.0040 - acc: 1.0000\n",
      "Predicting 152th label...\n"
     ]
    },
    {
     "data": {
      "application/vnd.jupyter.widget-view+json": {
       "model_id": "759c4c5d4e0b4114abc6ce7f46b804ad",
       "version_major": 2,
       "version_minor": 0
      },
      "text/plain": [
       "  0%|          | 0/20 [00:00<?, ?it/s]"
      ]
     },
     "metadata": {},
     "output_type": "display_data"
    },
    {
     "name": "stdout",
     "output_type": "stream",
     "text": [
      "INFO:tensorflow:Assets written to: models/text_model_group_1/text_model_152/assets\n"
     ]
    },
    {
     "name": "stderr",
     "output_type": "stream",
     "text": [
      "INFO:tensorflow:Assets written to: models/text_model_group_1/text_model_152/assets\n"
     ]
    },
    {
     "name": "stdout",
     "output_type": "stream",
     "text": [
      "\n",
      "153'th label prediction started\n",
      "count_one 89\n",
      "count_zero 89\n",
      "Epoch 1/6\n",
      "6/6 [==============================] - 1s 12ms/step - loss: 0.6914 - acc: 0.5112\n",
      "Epoch 2/6\n",
      "6/6 [==============================] - 0s 11ms/step - loss: 0.6268 - acc: 1.0000\n",
      "Epoch 3/6\n",
      "6/6 [==============================] - 0s 11ms/step - loss: 0.5292 - acc: 1.0000\n",
      "Epoch 4/6\n",
      "6/6 [==============================] - 0s 11ms/step - loss: 0.3806 - acc: 1.0000\n",
      "Epoch 5/6\n",
      "6/6 [==============================] - 0s 10ms/step - loss: 0.2123 - acc: 1.0000\n",
      "Epoch 6/6\n",
      "6/6 [==============================] - 0s 11ms/step - loss: 0.0909 - acc: 1.0000\n",
      "Predicting 153th label...\n"
     ]
    },
    {
     "data": {
      "application/vnd.jupyter.widget-view+json": {
       "model_id": "8e3a8094ab07439e86c4ec3af0c68bd5",
       "version_major": 2,
       "version_minor": 0
      },
      "text/plain": [
       "  0%|          | 0/20 [00:00<?, ?it/s]"
      ]
     },
     "metadata": {},
     "output_type": "display_data"
    },
    {
     "name": "stdout",
     "output_type": "stream",
     "text": [
      "INFO:tensorflow:Assets written to: models/text_model_group_1/text_model_153/assets\n"
     ]
    },
    {
     "name": "stderr",
     "output_type": "stream",
     "text": [
      "INFO:tensorflow:Assets written to: models/text_model_group_1/text_model_153/assets\n"
     ]
    },
    {
     "name": "stdout",
     "output_type": "stream",
     "text": [
      "\n",
      "154'th label prediction started\n",
      "count_one 318\n",
      "count_zero 318\n",
      "Epoch 1/6\n",
      "20/20 [==============================] - 2s 12ms/step - loss: 0.6812 - acc: 0.5472\n",
      "Epoch 2/6\n",
      "20/20 [==============================] - 0s 11ms/step - loss: 0.4468 - acc: 0.9591\n",
      "Epoch 3/6\n",
      "20/20 [==============================] - 0s 10ms/step - loss: 0.1609 - acc: 0.9544\n",
      "Epoch 4/6\n",
      "20/20 [==============================] - 0s 10ms/step - loss: 0.0286 - acc: 0.9984\n",
      "Epoch 5/6\n",
      "20/20 [==============================] - 0s 11ms/step - loss: 0.0052 - acc: 1.0000\n",
      "Epoch 6/6\n",
      "20/20 [==============================] - 0s 11ms/step - loss: 0.0019 - acc: 1.0000\n",
      "Predicting 154th label...\n"
     ]
    },
    {
     "data": {
      "application/vnd.jupyter.widget-view+json": {
       "model_id": "dc95718357254ad989184f7ec898b47c",
       "version_major": 2,
       "version_minor": 0
      },
      "text/plain": [
       "  0%|          | 0/20 [00:00<?, ?it/s]"
      ]
     },
     "metadata": {},
     "output_type": "display_data"
    },
    {
     "name": "stdout",
     "output_type": "stream",
     "text": [
      "INFO:tensorflow:Assets written to: models/text_model_group_1/text_model_154/assets\n"
     ]
    },
    {
     "name": "stderr",
     "output_type": "stream",
     "text": [
      "INFO:tensorflow:Assets written to: models/text_model_group_1/text_model_154/assets\n"
     ]
    },
    {
     "name": "stdout",
     "output_type": "stream",
     "text": [
      "\n",
      "155'th label prediction started\n",
      "count_one 91\n",
      "count_zero 91\n",
      "Epoch 1/6\n",
      "6/6 [==============================] - 1s 32ms/step - loss: 0.7022 - acc: 0.5055\n",
      "Epoch 2/6\n",
      "6/6 [==============================] - 0s 10ms/step - loss: 0.6410 - acc: 0.9286\n",
      "Epoch 3/6\n",
      "6/6 [==============================] - 0s 10ms/step - loss: 0.5646 - acc: 0.9945\n",
      "Epoch 4/6\n",
      "6/6 [==============================] - 0s 9ms/step - loss: 0.4399 - acc: 1.0000\n",
      "Epoch 5/6\n",
      "6/6 [==============================] - 0s 11ms/step - loss: 0.2797 - acc: 1.0000\n",
      "Epoch 6/6\n",
      "6/6 [==============================] - 0s 11ms/step - loss: 0.1483 - acc: 1.0000\n",
      "Predicting 155th label...\n"
     ]
    },
    {
     "data": {
      "application/vnd.jupyter.widget-view+json": {
       "model_id": "3a9ce31a09a94c1496d63757ff2058de",
       "version_major": 2,
       "version_minor": 0
      },
      "text/plain": [
       "  0%|          | 0/20 [00:00<?, ?it/s]"
      ]
     },
     "metadata": {},
     "output_type": "display_data"
    },
    {
     "name": "stdout",
     "output_type": "stream",
     "text": [
      "INFO:tensorflow:Assets written to: models/text_model_group_1/text_model_155/assets\n"
     ]
    },
    {
     "name": "stderr",
     "output_type": "stream",
     "text": [
      "INFO:tensorflow:Assets written to: models/text_model_group_1/text_model_155/assets\n"
     ]
    },
    {
     "name": "stdout",
     "output_type": "stream",
     "text": [
      "\n",
      "156'th label prediction started\n",
      "count_one 317\n",
      "count_zero 317\n",
      "Epoch 1/6\n",
      "20/20 [==============================] - 1s 11ms/step - loss: 0.6621 - acc: 0.5647\n",
      "Epoch 2/6\n",
      "20/20 [==============================] - 0s 10ms/step - loss: 0.3767 - acc: 0.9606\n",
      "Epoch 3/6\n",
      "20/20 [==============================] - 0s 12ms/step - loss: 0.1213 - acc: 0.9811\n",
      "Epoch 4/6\n",
      "20/20 [==============================] - 0s 11ms/step - loss: 0.0233 - acc: 0.9984\n",
      "Epoch 5/6\n",
      "20/20 [==============================] - 0s 11ms/step - loss: 0.0047 - acc: 1.0000\n",
      "Epoch 6/6\n",
      "20/20 [==============================] - 0s 11ms/step - loss: 0.0022 - acc: 1.0000\n",
      "Predicting 156th label...\n"
     ]
    },
    {
     "data": {
      "application/vnd.jupyter.widget-view+json": {
       "model_id": "401d67ea399046d98e46b07eec06b041",
       "version_major": 2,
       "version_minor": 0
      },
      "text/plain": [
       "  0%|          | 0/20 [00:00<?, ?it/s]"
      ]
     },
     "metadata": {},
     "output_type": "display_data"
    },
    {
     "name": "stdout",
     "output_type": "stream",
     "text": [
      "INFO:tensorflow:Assets written to: models/text_model_group_1/text_model_156/assets\n"
     ]
    },
    {
     "name": "stderr",
     "output_type": "stream",
     "text": [
      "INFO:tensorflow:Assets written to: models/text_model_group_1/text_model_156/assets\n"
     ]
    },
    {
     "name": "stdout",
     "output_type": "stream",
     "text": [
      "\n",
      "157'th label prediction started\n",
      "count_one 493\n",
      "count_zero 493\n",
      "Epoch 1/6\n",
      "31/31 [==============================] - 1s 15ms/step - loss: 0.6723 - acc: 0.5791\n",
      "Epoch 2/6\n",
      "31/31 [==============================] - 0s 11ms/step - loss: 0.4010 - acc: 0.8854\n",
      "Epoch 3/6\n",
      "31/31 [==============================] - 0s 11ms/step - loss: 0.0907 - acc: 0.9929\n",
      "Epoch 4/6\n",
      "31/31 [==============================] - 0s 11ms/step - loss: 0.0088 - acc: 0.9990\n",
      "Epoch 5/6\n",
      "31/31 [==============================] - 0s 11ms/step - loss: 0.0027 - acc: 1.0000\n",
      "Epoch 6/6\n",
      "31/31 [==============================] - 0s 10ms/step - loss: 0.0014 - acc: 1.0000\n",
      "Predicting 157th label...\n"
     ]
    },
    {
     "data": {
      "application/vnd.jupyter.widget-view+json": {
       "model_id": "82bd16c86229448c9c7bb32666075540",
       "version_major": 2,
       "version_minor": 0
      },
      "text/plain": [
       "  0%|          | 0/20 [00:00<?, ?it/s]"
      ]
     },
     "metadata": {},
     "output_type": "display_data"
    },
    {
     "name": "stdout",
     "output_type": "stream",
     "text": [
      "INFO:tensorflow:Assets written to: models/text_model_group_1/text_model_157/assets\n"
     ]
    },
    {
     "name": "stderr",
     "output_type": "stream",
     "text": [
      "INFO:tensorflow:Assets written to: models/text_model_group_1/text_model_157/assets\n"
     ]
    },
    {
     "name": "stdout",
     "output_type": "stream",
     "text": [
      "\n",
      "158'th label prediction started\n",
      "count_one 98\n",
      "count_zero 98\n",
      "Epoch 1/6\n",
      "7/7 [==============================] - 1s 11ms/step - loss: 0.6880 - acc: 0.5306\n",
      "Epoch 2/6\n",
      "7/7 [==============================] - 0s 11ms/step - loss: 0.5810 - acc: 0.9796\n",
      "Epoch 3/6\n",
      "7/7 [==============================] - 0s 11ms/step - loss: 0.4047 - acc: 0.9949\n",
      "Epoch 4/6\n",
      "7/7 [==============================] - 0s 12ms/step - loss: 0.2018 - acc: 0.9949\n",
      "Epoch 5/6\n",
      "7/7 [==============================] - 0s 10ms/step - loss: 0.0711 - acc: 1.0000\n",
      "Epoch 6/6\n",
      "7/7 [==============================] - 0s 10ms/step - loss: 0.0231 - acc: 1.0000\n",
      "Predicting 158th label...\n"
     ]
    },
    {
     "data": {
      "application/vnd.jupyter.widget-view+json": {
       "model_id": "a03902a030b3421090ab0e2cbc2427a7",
       "version_major": 2,
       "version_minor": 0
      },
      "text/plain": [
       "  0%|          | 0/20 [00:00<?, ?it/s]"
      ]
     },
     "metadata": {},
     "output_type": "display_data"
    },
    {
     "name": "stdout",
     "output_type": "stream",
     "text": [
      "INFO:tensorflow:Assets written to: models/text_model_group_1/text_model_158/assets\n"
     ]
    },
    {
     "name": "stderr",
     "output_type": "stream",
     "text": [
      "INFO:tensorflow:Assets written to: models/text_model_group_1/text_model_158/assets\n"
     ]
    },
    {
     "name": "stdout",
     "output_type": "stream",
     "text": [
      "\n",
      "159'th label prediction started\n",
      "count_one 117\n",
      "count_zero 117\n",
      "Epoch 1/6\n",
      "8/8 [==============================] - 1s 11ms/step - loss: 0.6959 - acc: 0.5214\n",
      "Epoch 2/6\n",
      "8/8 [==============================] - 0s 11ms/step - loss: 0.6131 - acc: 0.9188\n",
      "Epoch 3/6\n",
      "8/8 [==============================] - 0s 11ms/step - loss: 0.4819 - acc: 0.9872\n",
      "Epoch 4/6\n",
      "8/8 [==============================] - 0s 11ms/step - loss: 0.2841 - acc: 0.9872\n",
      "Epoch 5/6\n",
      "8/8 [==============================] - 0s 10ms/step - loss: 0.1229 - acc: 0.9915\n",
      "Epoch 6/6\n",
      "8/8 [==============================] - 0s 11ms/step - loss: 0.0413 - acc: 1.0000\n",
      "Predicting 159th label...\n"
     ]
    },
    {
     "data": {
      "application/vnd.jupyter.widget-view+json": {
       "model_id": "326e2fe0e41f4fd183d218ccf25e90f8",
       "version_major": 2,
       "version_minor": 0
      },
      "text/plain": [
       "  0%|          | 0/20 [00:00<?, ?it/s]"
      ]
     },
     "metadata": {},
     "output_type": "display_data"
    },
    {
     "name": "stdout",
     "output_type": "stream",
     "text": [
      "INFO:tensorflow:Assets written to: models/text_model_group_1/text_model_159/assets\n"
     ]
    },
    {
     "name": "stderr",
     "output_type": "stream",
     "text": [
      "INFO:tensorflow:Assets written to: models/text_model_group_1/text_model_159/assets\n"
     ]
    },
    {
     "name": "stdout",
     "output_type": "stream",
     "text": [
      "\n",
      "160'th label prediction started\n",
      "count_one 276\n",
      "count_zero 276\n",
      "Epoch 1/6\n",
      "18/18 [==============================] - 1s 11ms/step - loss: 0.6733 - acc: 0.5453\n",
      "Epoch 2/6\n",
      "18/18 [==============================] - 0s 11ms/step - loss: 0.4374 - acc: 0.8623\n",
      "Epoch 3/6\n",
      "18/18 [==============================] - 0s 11ms/step - loss: 0.2171 - acc: 0.8841\n",
      "Epoch 4/6\n",
      "18/18 [==============================] - 0s 9ms/step - loss: 0.0676 - acc: 0.9964\n",
      "Epoch 5/6\n",
      "18/18 [==============================] - 0s 10ms/step - loss: 0.0169 - acc: 1.0000\n",
      "Epoch 6/6\n",
      "18/18 [==============================] - 0s 11ms/step - loss: 0.0047 - acc: 1.0000\n",
      "Predicting 160th label...\n"
     ]
    },
    {
     "data": {
      "application/vnd.jupyter.widget-view+json": {
       "model_id": "46f1edd96340441fb55af74526c6d634",
       "version_major": 2,
       "version_minor": 0
      },
      "text/plain": [
       "  0%|          | 0/20 [00:00<?, ?it/s]"
      ]
     },
     "metadata": {},
     "output_type": "display_data"
    },
    {
     "name": "stdout",
     "output_type": "stream",
     "text": [
      "INFO:tensorflow:Assets written to: models/text_model_group_1/text_model_160/assets\n"
     ]
    },
    {
     "name": "stderr",
     "output_type": "stream",
     "text": [
      "INFO:tensorflow:Assets written to: models/text_model_group_1/text_model_160/assets\n"
     ]
    },
    {
     "name": "stdout",
     "output_type": "stream",
     "text": [
      "\n",
      "161'th label prediction started\n",
      "count_one 236\n",
      "count_zero 236\n",
      "Epoch 1/6\n",
      "15/15 [==============================] - 1s 11ms/step - loss: 0.6873 - acc: 0.5445\n",
      "Epoch 2/6\n",
      "15/15 [==============================] - 0s 12ms/step - loss: 0.5570 - acc: 0.8559\n",
      "Epoch 3/6\n",
      "15/15 [==============================] - 0s 11ms/step - loss: 0.2719 - acc: 0.9936\n",
      "Epoch 4/6\n",
      "15/15 [==============================] - 0s 10ms/step - loss: 0.0638 - acc: 0.9979\n",
      "Epoch 5/6\n",
      "15/15 [==============================] - 0s 10ms/step - loss: 0.0106 - acc: 1.0000\n",
      "Epoch 6/6\n",
      "15/15 [==============================] - 0s 11ms/step - loss: 0.0035 - acc: 1.0000\n",
      "Predicting 161th label...\n"
     ]
    },
    {
     "data": {
      "application/vnd.jupyter.widget-view+json": {
       "model_id": "db568d82205e4015a56ae0a32878e813",
       "version_major": 2,
       "version_minor": 0
      },
      "text/plain": [
       "  0%|          | 0/20 [00:00<?, ?it/s]"
      ]
     },
     "metadata": {},
     "output_type": "display_data"
    },
    {
     "name": "stdout",
     "output_type": "stream",
     "text": [
      "INFO:tensorflow:Assets written to: models/text_model_group_1/text_model_161/assets\n"
     ]
    },
    {
     "name": "stderr",
     "output_type": "stream",
     "text": [
      "INFO:tensorflow:Assets written to: models/text_model_group_1/text_model_161/assets\n"
     ]
    },
    {
     "name": "stdout",
     "output_type": "stream",
     "text": [
      "\n",
      "162'th label prediction started\n",
      "count_one 79\n",
      "count_zero 79\n",
      "Epoch 1/6\n",
      "5/5 [==============================] - 1s 12ms/step - loss: 0.6943 - acc: 0.4937\n",
      "Epoch 2/6\n",
      "5/5 [==============================] - 0s 11ms/step - loss: 0.6432 - acc: 0.9430\n",
      "Epoch 3/6\n",
      "5/5 [==============================] - 0s 11ms/step - loss: 0.5651 - acc: 1.0000\n",
      "Epoch 4/6\n",
      "5/5 [==============================] - 0s 11ms/step - loss: 0.4387 - acc: 1.0000\n",
      "Epoch 5/6\n",
      "5/5 [==============================] - 0s 12ms/step - loss: 0.2921 - acc: 1.0000\n",
      "Epoch 6/6\n",
      "5/5 [==============================] - 0s 11ms/step - loss: 0.1541 - acc: 1.0000\n",
      "Predicting 162th label...\n"
     ]
    },
    {
     "data": {
      "application/vnd.jupyter.widget-view+json": {
       "model_id": "f9e1c601824f412aa10573abe18e7be9",
       "version_major": 2,
       "version_minor": 0
      },
      "text/plain": [
       "  0%|          | 0/20 [00:00<?, ?it/s]"
      ]
     },
     "metadata": {},
     "output_type": "display_data"
    },
    {
     "name": "stdout",
     "output_type": "stream",
     "text": [
      "INFO:tensorflow:Assets written to: models/text_model_group_1/text_model_162/assets\n"
     ]
    },
    {
     "name": "stderr",
     "output_type": "stream",
     "text": [
      "INFO:tensorflow:Assets written to: models/text_model_group_1/text_model_162/assets\n"
     ]
    },
    {
     "name": "stdout",
     "output_type": "stream",
     "text": [
      "\n",
      "163'th label prediction started\n",
      "count_one 136\n",
      "count_zero 136\n",
      "Epoch 1/6\n",
      "9/9 [==============================] - 1s 24ms/step - loss: 0.6909 - acc: 0.5625\n",
      "Epoch 2/6\n",
      "9/9 [==============================] - 0s 11ms/step - loss: 0.6162 - acc: 0.9522\n",
      "Epoch 3/6\n",
      "9/9 [==============================] - 0s 11ms/step - loss: 0.4799 - acc: 1.0000\n",
      "Epoch 4/6\n",
      "9/9 [==============================] - 0s 11ms/step - loss: 0.2670 - acc: 1.0000\n",
      "Epoch 5/6\n",
      "9/9 [==============================] - 0s 10ms/step - loss: 0.0915 - acc: 1.0000\n",
      "Epoch 6/6\n",
      "9/9 [==============================] - 0s 11ms/step - loss: 0.0243 - acc: 1.0000\n",
      "Predicting 163th label...\n"
     ]
    },
    {
     "data": {
      "application/vnd.jupyter.widget-view+json": {
       "model_id": "c8716fe53dd7484d8033a32354e7d369",
       "version_major": 2,
       "version_minor": 0
      },
      "text/plain": [
       "  0%|          | 0/20 [00:00<?, ?it/s]"
      ]
     },
     "metadata": {},
     "output_type": "display_data"
    },
    {
     "name": "stdout",
     "output_type": "stream",
     "text": [
      "INFO:tensorflow:Assets written to: models/text_model_group_1/text_model_163/assets\n"
     ]
    },
    {
     "name": "stderr",
     "output_type": "stream",
     "text": [
      "INFO:tensorflow:Assets written to: models/text_model_group_1/text_model_163/assets\n"
     ]
    },
    {
     "name": "stdout",
     "output_type": "stream",
     "text": [
      "\n",
      "164'th label prediction started\n",
      "count_one 328\n",
      "count_zero 328\n",
      "Epoch 1/6\n",
      "21/21 [==============================] - 1s 11ms/step - loss: 0.6659 - acc: 0.5976\n",
      "Epoch 2/6\n",
      "21/21 [==============================] - 0s 11ms/step - loss: 0.3890 - acc: 0.8979\n",
      "Epoch 3/6\n",
      "21/21 [==============================] - 0s 11ms/step - loss: 0.1651 - acc: 0.9421\n",
      "Epoch 4/6\n",
      "21/21 [==============================] - 0s 11ms/step - loss: 0.0340 - acc: 0.9985\n",
      "Epoch 5/6\n",
      "21/21 [==============================] - 0s 11ms/step - loss: 0.0070 - acc: 1.0000\n",
      "Epoch 6/6\n",
      "21/21 [==============================] - 0s 11ms/step - loss: 0.0027 - acc: 1.0000\n",
      "Predicting 164th label...\n"
     ]
    },
    {
     "data": {
      "application/vnd.jupyter.widget-view+json": {
       "model_id": "faae450fa050445aa45605706c33941c",
       "version_major": 2,
       "version_minor": 0
      },
      "text/plain": [
       "  0%|          | 0/20 [00:00<?, ?it/s]"
      ]
     },
     "metadata": {},
     "output_type": "display_data"
    },
    {
     "name": "stdout",
     "output_type": "stream",
     "text": [
      "INFO:tensorflow:Assets written to: models/text_model_group_1/text_model_164/assets\n"
     ]
    },
    {
     "name": "stderr",
     "output_type": "stream",
     "text": [
      "INFO:tensorflow:Assets written to: models/text_model_group_1/text_model_164/assets\n"
     ]
    },
    {
     "name": "stdout",
     "output_type": "stream",
     "text": [
      "\n",
      "165'th label prediction started\n",
      "count_one 141\n",
      "count_zero 141\n",
      "Epoch 1/6\n",
      "9/9 [==============================] - 1s 11ms/step - loss: 0.7081 - acc: 0.4504\n",
      "Epoch 2/6\n",
      "9/9 [==============================] - 0s 10ms/step - loss: 0.6191 - acc: 0.9504\n",
      "Epoch 3/6\n",
      "9/9 [==============================] - 0s 10ms/step - loss: 0.4865 - acc: 0.9681\n",
      "Epoch 4/6\n",
      "9/9 [==============================] - 0s 11ms/step - loss: 0.2730 - acc: 0.9787\n",
      "Epoch 5/6\n",
      "9/9 [==============================] - 0s 11ms/step - loss: 0.1170 - acc: 0.9823\n",
      "Epoch 6/6\n",
      "9/9 [==============================] - 0s 11ms/step - loss: 0.0419 - acc: 0.9965\n",
      "Predicting 165th label...\n"
     ]
    },
    {
     "data": {
      "application/vnd.jupyter.widget-view+json": {
       "model_id": "76b2abc9c8db478bb8b11db7b3d5f142",
       "version_major": 2,
       "version_minor": 0
      },
      "text/plain": [
       "  0%|          | 0/20 [00:00<?, ?it/s]"
      ]
     },
     "metadata": {},
     "output_type": "display_data"
    },
    {
     "name": "stdout",
     "output_type": "stream",
     "text": [
      "INFO:tensorflow:Assets written to: models/text_model_group_1/text_model_165/assets\n"
     ]
    },
    {
     "name": "stderr",
     "output_type": "stream",
     "text": [
      "INFO:tensorflow:Assets written to: models/text_model_group_1/text_model_165/assets\n"
     ]
    },
    {
     "name": "stdout",
     "output_type": "stream",
     "text": [
      "\n",
      "166'th label prediction started\n",
      "count_one 381\n",
      "count_zero 381\n",
      "Epoch 1/6\n",
      "24/24 [==============================] - 1s 11ms/step - loss: 0.6910 - acc: 0.5341\n",
      "Epoch 2/6\n",
      "24/24 [==============================] - 0s 11ms/step - loss: 0.5550 - acc: 0.8163\n",
      "Epoch 3/6\n",
      "24/24 [==============================] - 0s 11ms/step - loss: 0.2242 - acc: 0.9777\n",
      "Epoch 4/6\n",
      "24/24 [==============================] - 0s 11ms/step - loss: 0.0368 - acc: 0.9974\n",
      "Epoch 5/6\n",
      "24/24 [==============================] - 0s 11ms/step - loss: 0.0081 - acc: 1.0000\n",
      "Epoch 6/6\n",
      "24/24 [==============================] - 0s 11ms/step - loss: 0.0029 - acc: 1.0000\n",
      "Predicting 166th label...\n"
     ]
    },
    {
     "data": {
      "application/vnd.jupyter.widget-view+json": {
       "model_id": "ad3b22d1b6e44aad87c7597e2a3e6002",
       "version_major": 2,
       "version_minor": 0
      },
      "text/plain": [
       "  0%|          | 0/20 [00:00<?, ?it/s]"
      ]
     },
     "metadata": {},
     "output_type": "display_data"
    },
    {
     "name": "stdout",
     "output_type": "stream",
     "text": [
      "INFO:tensorflow:Assets written to: models/text_model_group_1/text_model_166/assets\n"
     ]
    },
    {
     "name": "stderr",
     "output_type": "stream",
     "text": [
      "INFO:tensorflow:Assets written to: models/text_model_group_1/text_model_166/assets\n"
     ]
    },
    {
     "name": "stdout",
     "output_type": "stream",
     "text": [
      "\n",
      "167'th label prediction started\n",
      "count_one 342\n",
      "count_zero 342\n",
      "Epoch 1/6\n",
      "22/22 [==============================] - 1s 11ms/step - loss: 0.6913 - acc: 0.5439\n",
      "Epoch 2/6\n",
      "22/22 [==============================] - 0s 10ms/step - loss: 0.5416 - acc: 0.7500\n",
      "Epoch 3/6\n",
      "22/22 [==============================] - 0s 10ms/step - loss: 0.2321 - acc: 0.9298\n",
      "Epoch 4/6\n",
      "22/22 [==============================] - 0s 11ms/step - loss: 0.0507 - acc: 0.9927\n",
      "Epoch 5/6\n",
      "22/22 [==============================] - 0s 11ms/step - loss: 0.0091 - acc: 1.0000\n",
      "Epoch 6/6\n",
      "22/22 [==============================] - 0s 11ms/step - loss: 0.0033 - acc: 1.0000\n",
      "Predicting 167th label...\n"
     ]
    },
    {
     "data": {
      "application/vnd.jupyter.widget-view+json": {
       "model_id": "38fb4cbf350b4824950af7d56f2890e9",
       "version_major": 2,
       "version_minor": 0
      },
      "text/plain": [
       "  0%|          | 0/20 [00:00<?, ?it/s]"
      ]
     },
     "metadata": {},
     "output_type": "display_data"
    },
    {
     "name": "stdout",
     "output_type": "stream",
     "text": [
      "INFO:tensorflow:Assets written to: models/text_model_group_1/text_model_167/assets\n"
     ]
    },
    {
     "name": "stderr",
     "output_type": "stream",
     "text": [
      "INFO:tensorflow:Assets written to: models/text_model_group_1/text_model_167/assets\n"
     ]
    },
    {
     "name": "stdout",
     "output_type": "stream",
     "text": [
      "\n",
      "168'th label prediction started\n",
      "count_one 112\n",
      "count_zero 112\n",
      "Epoch 1/6\n",
      "7/7 [==============================] - 1s 12ms/step - loss: 0.6973 - acc: 0.4509\n",
      "Epoch 2/6\n",
      "7/7 [==============================] - 0s 11ms/step - loss: 0.5842 - acc: 0.9821\n",
      "Epoch 3/6\n",
      "7/7 [==============================] - 0s 9ms/step - loss: 0.4335 - acc: 1.0000\n",
      "Epoch 4/6\n",
      "7/7 [==============================] - 0s 11ms/step - loss: 0.2344 - acc: 1.0000\n",
      "Epoch 5/6\n",
      "7/7 [==============================] - 0s 11ms/step - loss: 0.0889 - acc: 1.0000\n",
      "Epoch 6/6\n",
      "7/7 [==============================] - 0s 11ms/step - loss: 0.0284 - acc: 1.0000\n",
      "Predicting 168th label...\n"
     ]
    },
    {
     "data": {
      "application/vnd.jupyter.widget-view+json": {
       "model_id": "81da171fc839414c83b300ae86539207",
       "version_major": 2,
       "version_minor": 0
      },
      "text/plain": [
       "  0%|          | 0/20 [00:00<?, ?it/s]"
      ]
     },
     "metadata": {},
     "output_type": "display_data"
    },
    {
     "name": "stdout",
     "output_type": "stream",
     "text": [
      "INFO:tensorflow:Assets written to: models/text_model_group_1/text_model_168/assets\n"
     ]
    },
    {
     "name": "stderr",
     "output_type": "stream",
     "text": [
      "INFO:tensorflow:Assets written to: models/text_model_group_1/text_model_168/assets\n"
     ]
    },
    {
     "name": "stdout",
     "output_type": "stream",
     "text": [
      "\n",
      "169'th label prediction started\n",
      "count_one 659\n",
      "count_zero 659\n",
      "Epoch 1/6\n",
      "42/42 [==============================] - 1s 12ms/step - loss: 0.6059 - acc: 0.6768\n",
      "Epoch 2/6\n",
      "42/42 [==============================] - 0s 10ms/step - loss: 0.2296 - acc: 0.9181\n",
      "Epoch 3/6\n",
      "42/42 [==============================] - 0s 11ms/step - loss: 0.0414 - acc: 0.9917\n",
      "Epoch 4/6\n",
      "42/42 [==============================] - 0s 11ms/step - loss: 0.0051 - acc: 1.0000\n",
      "Epoch 5/6\n",
      "42/42 [==============================] - 0s 10ms/step - loss: 0.0016 - acc: 1.0000\n",
      "Epoch 6/6\n",
      "42/42 [==============================] - 0s 11ms/step - loss: 7.5641e-04 - acc: 1.0000\n",
      "Predicting 169th label...\n"
     ]
    },
    {
     "data": {
      "application/vnd.jupyter.widget-view+json": {
       "model_id": "b63b8c236e054f3c80c46075b9c1e23e",
       "version_major": 2,
       "version_minor": 0
      },
      "text/plain": [
       "  0%|          | 0/20 [00:00<?, ?it/s]"
      ]
     },
     "metadata": {},
     "output_type": "display_data"
    },
    {
     "name": "stdout",
     "output_type": "stream",
     "text": [
      "INFO:tensorflow:Assets written to: models/text_model_group_1/text_model_169/assets\n"
     ]
    },
    {
     "name": "stderr",
     "output_type": "stream",
     "text": [
      "INFO:tensorflow:Assets written to: models/text_model_group_1/text_model_169/assets\n"
     ]
    },
    {
     "name": "stdout",
     "output_type": "stream",
     "text": [
      "\n",
      "170'th label prediction started\n",
      "count_one 92\n",
      "count_zero 92\n",
      "Epoch 1/6\n",
      "6/6 [==============================] - 1s 13ms/step - loss: 0.7074 - acc: 0.5000\n",
      "Epoch 2/6\n",
      "6/6 [==============================] - 0s 12ms/step - loss: 0.6316 - acc: 0.9674\n",
      "Epoch 3/6\n",
      "6/6 [==============================] - 0s 10ms/step - loss: 0.5559 - acc: 0.9946\n",
      "Epoch 4/6\n",
      "6/6 [==============================] - 0s 10ms/step - loss: 0.4244 - acc: 1.0000\n",
      "Epoch 5/6\n",
      "6/6 [==============================] - 0s 11ms/step - loss: 0.2619 - acc: 1.0000\n",
      "Epoch 6/6\n",
      "6/6 [==============================] - 0s 11ms/step - loss: 0.1237 - acc: 1.0000\n",
      "Predicting 170th label...\n"
     ]
    },
    {
     "data": {
      "application/vnd.jupyter.widget-view+json": {
       "model_id": "792fc628e7244747a69248c0e9b476c4",
       "version_major": 2,
       "version_minor": 0
      },
      "text/plain": [
       "  0%|          | 0/20 [00:00<?, ?it/s]"
      ]
     },
     "metadata": {},
     "output_type": "display_data"
    },
    {
     "name": "stdout",
     "output_type": "stream",
     "text": [
      "INFO:tensorflow:Assets written to: models/text_model_group_1/text_model_170/assets\n"
     ]
    },
    {
     "name": "stderr",
     "output_type": "stream",
     "text": [
      "INFO:tensorflow:Assets written to: models/text_model_group_1/text_model_170/assets\n"
     ]
    },
    {
     "name": "stdout",
     "output_type": "stream",
     "text": [
      "\n",
      "171'th label prediction started\n",
      "count_one 151\n",
      "count_zero 151\n",
      "Epoch 1/6\n",
      "10/10 [==============================] - 1s 10ms/step - loss: 0.6927 - acc: 0.5066\n",
      "Epoch 2/6\n",
      "10/10 [==============================] - 0s 10ms/step - loss: 0.6156 - acc: 1.0000\n",
      "Epoch 3/6\n",
      "10/10 [==============================] - 0s 10ms/step - loss: 0.4578 - acc: 1.0000\n",
      "Epoch 4/6\n",
      "10/10 [==============================] - 0s 10ms/step - loss: 0.2192 - acc: 1.0000\n",
      "Epoch 5/6\n",
      "10/10 [==============================] - 0s 11ms/step - loss: 0.0587 - acc: 1.0000\n",
      "Epoch 6/6\n",
      "10/10 [==============================] - 0s 10ms/step - loss: 0.0120 - acc: 1.0000\n",
      "Predicting 171th label...\n"
     ]
    },
    {
     "data": {
      "application/vnd.jupyter.widget-view+json": {
       "model_id": "e3ae670eb472415f8b358c8069b65d42",
       "version_major": 2,
       "version_minor": 0
      },
      "text/plain": [
       "  0%|          | 0/20 [00:00<?, ?it/s]"
      ]
     },
     "metadata": {},
     "output_type": "display_data"
    },
    {
     "name": "stdout",
     "output_type": "stream",
     "text": [
      "INFO:tensorflow:Assets written to: models/text_model_group_1/text_model_171/assets\n"
     ]
    },
    {
     "name": "stderr",
     "output_type": "stream",
     "text": [
      "INFO:tensorflow:Assets written to: models/text_model_group_1/text_model_171/assets\n"
     ]
    },
    {
     "name": "stdout",
     "output_type": "stream",
     "text": [
      "\n",
      "172'th label prediction started\n",
      "count_one 128\n",
      "count_zero 128\n",
      "Epoch 1/6\n",
      "8/8 [==============================] - 1s 12ms/step - loss: 0.6958 - acc: 0.5312\n",
      "Epoch 2/6\n",
      "8/8 [==============================] - 0s 11ms/step - loss: 0.6268 - acc: 0.9180\n",
      "Epoch 3/6\n",
      "8/8 [==============================] - 0s 11ms/step - loss: 0.5048 - acc: 0.9961\n",
      "Epoch 4/6\n",
      "8/8 [==============================] - 0s 11ms/step - loss: 0.3109 - acc: 1.0000\n",
      "Epoch 5/6\n",
      "8/8 [==============================] - 0s 10ms/step - loss: 0.1269 - acc: 1.0000\n",
      "Epoch 6/6\n",
      "8/8 [==============================] - 0s 11ms/step - loss: 0.0379 - acc: 1.0000\n",
      "Predicting 172th label...\n"
     ]
    },
    {
     "data": {
      "application/vnd.jupyter.widget-view+json": {
       "model_id": "4a3c98c9fe964f4c95c688ffd9a39095",
       "version_major": 2,
       "version_minor": 0
      },
      "text/plain": [
       "  0%|          | 0/20 [00:00<?, ?it/s]"
      ]
     },
     "metadata": {},
     "output_type": "display_data"
    },
    {
     "name": "stdout",
     "output_type": "stream",
     "text": [
      "INFO:tensorflow:Assets written to: models/text_model_group_1/text_model_172/assets\n"
     ]
    },
    {
     "name": "stderr",
     "output_type": "stream",
     "text": [
      "INFO:tensorflow:Assets written to: models/text_model_group_1/text_model_172/assets\n"
     ]
    },
    {
     "name": "stdout",
     "output_type": "stream",
     "text": [
      "\n",
      "173'th label prediction started\n",
      "count_one 203\n",
      "count_zero 203\n",
      "Epoch 1/6\n",
      "13/13 [==============================] - 1s 10ms/step - loss: 0.6947 - acc: 0.5049\n",
      "Epoch 2/6\n",
      "13/13 [==============================] - 0s 11ms/step - loss: 0.6199 - acc: 0.9039\n",
      "Epoch 3/6\n",
      "13/13 [==============================] - 0s 11ms/step - loss: 0.4525 - acc: 1.0000\n",
      "Epoch 4/6\n",
      "13/13 [==============================] - 0s 11ms/step - loss: 0.1974 - acc: 1.0000\n",
      "Epoch 5/6\n",
      "13/13 [==============================] - 0s 11ms/step - loss: 0.0425 - acc: 1.0000\n",
      "Epoch 6/6\n",
      "13/13 [==============================] - 0s 11ms/step - loss: 0.0095 - acc: 1.0000\n",
      "Predicting 173th label...\n"
     ]
    },
    {
     "data": {
      "application/vnd.jupyter.widget-view+json": {
       "model_id": "92dc52d798c54683b86d4a266f5d21b8",
       "version_major": 2,
       "version_minor": 0
      },
      "text/plain": [
       "  0%|          | 0/20 [00:00<?, ?it/s]"
      ]
     },
     "metadata": {},
     "output_type": "display_data"
    },
    {
     "name": "stdout",
     "output_type": "stream",
     "text": [
      "INFO:tensorflow:Assets written to: models/text_model_group_1/text_model_173/assets\n"
     ]
    },
    {
     "name": "stderr",
     "output_type": "stream",
     "text": [
      "INFO:tensorflow:Assets written to: models/text_model_group_1/text_model_173/assets\n"
     ]
    },
    {
     "name": "stdout",
     "output_type": "stream",
     "text": [
      "\n",
      "174'th label prediction started\n",
      "count_one 350\n",
      "count_zero 350\n",
      "Epoch 1/6\n",
      "22/22 [==============================] - 1s 11ms/step - loss: 0.6766 - acc: 0.5743\n",
      "Epoch 2/6\n",
      "22/22 [==============================] - 0s 11ms/step - loss: 0.4732 - acc: 0.8457\n",
      "Epoch 3/6\n",
      "22/22 [==============================] - 0s 10ms/step - loss: 0.1582 - acc: 0.9786\n",
      "Epoch 4/6\n",
      "22/22 [==============================] - 0s 11ms/step - loss: 0.0271 - acc: 0.9986\n",
      "Epoch 5/6\n",
      "22/22 [==============================] - 0s 11ms/step - loss: 0.0062 - acc: 1.0000\n",
      "Epoch 6/6\n",
      "22/22 [==============================] - 0s 10ms/step - loss: 0.0025 - acc: 1.0000\n",
      "Predicting 174th label...\n"
     ]
    },
    {
     "data": {
      "application/vnd.jupyter.widget-view+json": {
       "model_id": "ac9018d054b54028aff4f65476a5e17c",
       "version_major": 2,
       "version_minor": 0
      },
      "text/plain": [
       "  0%|          | 0/20 [00:00<?, ?it/s]"
      ]
     },
     "metadata": {},
     "output_type": "display_data"
    },
    {
     "name": "stdout",
     "output_type": "stream",
     "text": [
      "INFO:tensorflow:Assets written to: models/text_model_group_1/text_model_174/assets\n"
     ]
    },
    {
     "name": "stderr",
     "output_type": "stream",
     "text": [
      "INFO:tensorflow:Assets written to: models/text_model_group_1/text_model_174/assets\n"
     ]
    },
    {
     "name": "stdout",
     "output_type": "stream",
     "text": [
      "\n",
      "175'th label prediction started\n",
      "count_one 151\n",
      "count_zero 151\n",
      "Epoch 1/6\n",
      "10/10 [==============================] - 1s 12ms/step - loss: 0.7008 - acc: 0.5000\n",
      "Epoch 2/6\n",
      "10/10 [==============================] - 0s 10ms/step - loss: 0.6202 - acc: 0.9305\n",
      "Epoch 3/6\n",
      "10/10 [==============================] - 0s 11ms/step - loss: 0.4766 - acc: 1.0000\n",
      "Epoch 4/6\n",
      "10/10 [==============================] - 0s 11ms/step - loss: 0.2536 - acc: 1.0000\n",
      "Epoch 5/6\n",
      "10/10 [==============================] - 0s 11ms/step - loss: 0.0772 - acc: 1.0000\n",
      "Epoch 6/6\n",
      "10/10 [==============================] - 0s 11ms/step - loss: 0.0180 - acc: 1.0000\n",
      "Predicting 175th label...\n"
     ]
    },
    {
     "data": {
      "application/vnd.jupyter.widget-view+json": {
       "model_id": "2ddfccb495d34444abe9fa3c5595753b",
       "version_major": 2,
       "version_minor": 0
      },
      "text/plain": [
       "  0%|          | 0/20 [00:00<?, ?it/s]"
      ]
     },
     "metadata": {},
     "output_type": "display_data"
    },
    {
     "name": "stdout",
     "output_type": "stream",
     "text": [
      "INFO:tensorflow:Assets written to: models/text_model_group_1/text_model_175/assets\n"
     ]
    },
    {
     "name": "stderr",
     "output_type": "stream",
     "text": [
      "INFO:tensorflow:Assets written to: models/text_model_group_1/text_model_175/assets\n"
     ]
    },
    {
     "name": "stdout",
     "output_type": "stream",
     "text": [
      "\n",
      "176'th label prediction started\n",
      "count_one 243\n",
      "count_zero 243\n",
      "Epoch 1/6\n",
      "16/16 [==============================] - 1s 11ms/step - loss: 0.6902 - acc: 0.4979\n",
      "Epoch 2/6\n",
      "16/16 [==============================] - 0s 10ms/step - loss: 0.5590 - acc: 0.9609\n",
      "Epoch 3/6\n",
      "16/16 [==============================] - 0s 10ms/step - loss: 0.2485 - acc: 0.9959\n",
      "Epoch 4/6\n",
      "16/16 [==============================] - 0s 10ms/step - loss: 0.0445 - acc: 0.9979\n",
      "Epoch 5/6\n",
      "16/16 [==============================] - 0s 11ms/step - loss: 0.0070 - acc: 1.0000\n",
      "Epoch 6/6\n",
      "16/16 [==============================] - 0s 11ms/step - loss: 0.0027 - acc: 1.0000\n",
      "Predicting 176th label...\n"
     ]
    },
    {
     "data": {
      "application/vnd.jupyter.widget-view+json": {
       "model_id": "2b18646c836c4c8e852d47e9c8712376",
       "version_major": 2,
       "version_minor": 0
      },
      "text/plain": [
       "  0%|          | 0/20 [00:00<?, ?it/s]"
      ]
     },
     "metadata": {},
     "output_type": "display_data"
    },
    {
     "name": "stdout",
     "output_type": "stream",
     "text": [
      "INFO:tensorflow:Assets written to: models/text_model_group_1/text_model_176/assets\n"
     ]
    },
    {
     "name": "stderr",
     "output_type": "stream",
     "text": [
      "INFO:tensorflow:Assets written to: models/text_model_group_1/text_model_176/assets\n"
     ]
    },
    {
     "name": "stdout",
     "output_type": "stream",
     "text": [
      "\n",
      "177'th label prediction started\n",
      "count_one 137\n",
      "count_zero 137\n",
      "Epoch 1/6\n",
      "9/9 [==============================] - 1s 23ms/step - loss: 0.6985 - acc: 0.4672\n",
      "Epoch 2/6\n",
      "9/9 [==============================] - 0s 11ms/step - loss: 0.6190 - acc: 0.9197\n",
      "Epoch 3/6\n",
      "9/9 [==============================] - 0s 11ms/step - loss: 0.4933 - acc: 1.0000\n",
      "Epoch 4/6\n",
      "9/9 [==============================] - 0s 11ms/step - loss: 0.2911 - acc: 1.0000\n",
      "Epoch 5/6\n",
      "9/9 [==============================] - 0s 12ms/step - loss: 0.1124 - acc: 1.0000\n",
      "Epoch 6/6\n",
      "9/9 [==============================] - 0s 12ms/step - loss: 0.0326 - acc: 1.0000\n",
      "Predicting 177th label...\n"
     ]
    },
    {
     "data": {
      "application/vnd.jupyter.widget-view+json": {
       "model_id": "5cca13d1fbd74236846549311ff67706",
       "version_major": 2,
       "version_minor": 0
      },
      "text/plain": [
       "  0%|          | 0/20 [00:00<?, ?it/s]"
      ]
     },
     "metadata": {},
     "output_type": "display_data"
    },
    {
     "name": "stdout",
     "output_type": "stream",
     "text": [
      "INFO:tensorflow:Assets written to: models/text_model_group_1/text_model_177/assets\n"
     ]
    },
    {
     "name": "stderr",
     "output_type": "stream",
     "text": [
      "INFO:tensorflow:Assets written to: models/text_model_group_1/text_model_177/assets\n"
     ]
    },
    {
     "name": "stdout",
     "output_type": "stream",
     "text": [
      "\n",
      "178'th label prediction started\n",
      "count_one 110\n",
      "count_zero 110\n",
      "Epoch 1/6\n",
      "7/7 [==============================] - 1s 12ms/step - loss: 0.6904 - acc: 0.5182\n",
      "Epoch 2/6\n",
      "7/7 [==============================] - 0s 12ms/step - loss: 0.6169 - acc: 0.9909\n",
      "Epoch 3/6\n",
      "7/7 [==============================] - 0s 10ms/step - loss: 0.4971 - acc: 1.0000\n",
      "Epoch 4/6\n",
      "7/7 [==============================] - 0s 11ms/step - loss: 0.3192 - acc: 1.0000\n",
      "Epoch 5/6\n",
      "7/7 [==============================] - 0s 11ms/step - loss: 0.1505 - acc: 1.0000\n",
      "Epoch 6/6\n",
      "7/7 [==============================] - 0s 11ms/step - loss: 0.0519 - acc: 1.0000\n",
      "Predicting 178th label...\n"
     ]
    },
    {
     "data": {
      "application/vnd.jupyter.widget-view+json": {
       "model_id": "6353b124f99649a4ad2dd92886721888",
       "version_major": 2,
       "version_minor": 0
      },
      "text/plain": [
       "  0%|          | 0/20 [00:00<?, ?it/s]"
      ]
     },
     "metadata": {},
     "output_type": "display_data"
    },
    {
     "name": "stdout",
     "output_type": "stream",
     "text": [
      "INFO:tensorflow:Assets written to: models/text_model_group_1/text_model_178/assets\n"
     ]
    },
    {
     "name": "stderr",
     "output_type": "stream",
     "text": [
      "INFO:tensorflow:Assets written to: models/text_model_group_1/text_model_178/assets\n"
     ]
    },
    {
     "name": "stdout",
     "output_type": "stream",
     "text": [
      "\n",
      "179'th label prediction started\n",
      "count_one 77\n",
      "count_zero 77\n",
      "Epoch 1/6\n",
      "5/5 [==============================] - 1s 13ms/step - loss: 0.6995 - acc: 0.5000\n",
      "Epoch 2/6\n",
      "5/5 [==============================] - 0s 11ms/step - loss: 0.6358 - acc: 0.9481\n",
      "Epoch 3/6\n",
      "5/5 [==============================] - 0s 11ms/step - loss: 0.5639 - acc: 0.9935\n",
      "Epoch 4/6\n",
      "5/5 [==============================] - 0s 10ms/step - loss: 0.4509 - acc: 0.9935\n",
      "Epoch 5/6\n",
      "5/5 [==============================] - 0s 10ms/step - loss: 0.3123 - acc: 0.9935\n",
      "Epoch 6/6\n",
      "5/5 [==============================] - 0s 9ms/step - loss: 0.1801 - acc: 0.9935\n",
      "Predicting 179th label...\n"
     ]
    },
    {
     "data": {
      "application/vnd.jupyter.widget-view+json": {
       "model_id": "42cb70a8110f4450a3d787e44ae3403a",
       "version_major": 2,
       "version_minor": 0
      },
      "text/plain": [
       "  0%|          | 0/20 [00:00<?, ?it/s]"
      ]
     },
     "metadata": {},
     "output_type": "display_data"
    },
    {
     "name": "stdout",
     "output_type": "stream",
     "text": [
      "INFO:tensorflow:Assets written to: models/text_model_group_1/text_model_179/assets\n"
     ]
    },
    {
     "name": "stderr",
     "output_type": "stream",
     "text": [
      "INFO:tensorflow:Assets written to: models/text_model_group_1/text_model_179/assets\n"
     ]
    },
    {
     "name": "stdout",
     "output_type": "stream",
     "text": [
      "\n",
      "180'th label prediction started\n",
      "count_one 156\n",
      "count_zero 156\n",
      "Epoch 1/6\n",
      "10/10 [==============================] - 1s 12ms/step - loss: 0.6954 - acc: 0.5096\n",
      "Epoch 2/6\n",
      "10/10 [==============================] - 0s 11ms/step - loss: 0.6138 - acc: 0.8910\n",
      "Epoch 3/6\n",
      "10/10 [==============================] - 0s 10ms/step - loss: 0.4479 - acc: 0.9968\n",
      "Epoch 4/6\n",
      "10/10 [==============================] - 0s 11ms/step - loss: 0.2068 - acc: 0.9936\n",
      "Epoch 5/6\n",
      "10/10 [==============================] - 0s 10ms/step - loss: 0.0575 - acc: 1.0000\n",
      "Epoch 6/6\n",
      "10/10 [==============================] - 0s 10ms/step - loss: 0.0135 - acc: 1.0000\n",
      "Predicting 180th label...\n"
     ]
    },
    {
     "data": {
      "application/vnd.jupyter.widget-view+json": {
       "model_id": "d933ff1e984f43c0b40eed77f86d16e7",
       "version_major": 2,
       "version_minor": 0
      },
      "text/plain": [
       "  0%|          | 0/20 [00:00<?, ?it/s]"
      ]
     },
     "metadata": {},
     "output_type": "display_data"
    },
    {
     "name": "stdout",
     "output_type": "stream",
     "text": [
      "INFO:tensorflow:Assets written to: models/text_model_group_1/text_model_180/assets\n"
     ]
    },
    {
     "name": "stderr",
     "output_type": "stream",
     "text": [
      "INFO:tensorflow:Assets written to: models/text_model_group_1/text_model_180/assets\n"
     ]
    },
    {
     "name": "stdout",
     "output_type": "stream",
     "text": [
      "\n",
      "181'th label prediction started\n",
      "count_one 279\n",
      "count_zero 279\n",
      "Epoch 1/6\n",
      "18/18 [==============================] - 1s 11ms/step - loss: 0.6883 - acc: 0.5430\n",
      "Epoch 2/6\n",
      "18/18 [==============================] - 0s 10ms/step - loss: 0.5644 - acc: 0.8226\n",
      "Epoch 3/6\n",
      "18/18 [==============================] - 0s 11ms/step - loss: 0.2530 - acc: 0.9964\n",
      "Epoch 4/6\n",
      "18/18 [==============================] - 0s 11ms/step - loss: 0.0475 - acc: 0.9982\n",
      "Epoch 5/6\n",
      "18/18 [==============================] - 0s 10ms/step - loss: 0.0076 - acc: 1.0000\n",
      "Epoch 6/6\n",
      "18/18 [==============================] - 0s 10ms/step - loss: 0.0027 - acc: 1.0000\n",
      "Predicting 181th label...\n"
     ]
    },
    {
     "data": {
      "application/vnd.jupyter.widget-view+json": {
       "model_id": "354a41e761274188aabb894c83b39aba",
       "version_major": 2,
       "version_minor": 0
      },
      "text/plain": [
       "  0%|          | 0/20 [00:00<?, ?it/s]"
      ]
     },
     "metadata": {},
     "output_type": "display_data"
    },
    {
     "name": "stdout",
     "output_type": "stream",
     "text": [
      "INFO:tensorflow:Assets written to: models/text_model_group_1/text_model_181/assets\n"
     ]
    },
    {
     "name": "stderr",
     "output_type": "stream",
     "text": [
      "INFO:tensorflow:Assets written to: models/text_model_group_1/text_model_181/assets\n"
     ]
    },
    {
     "name": "stdout",
     "output_type": "stream",
     "text": [
      "\n",
      "182'th label prediction started\n",
      "count_one 207\n",
      "count_zero 207\n",
      "Epoch 1/6\n",
      "13/13 [==============================] - 1s 23ms/step - loss: 0.6979 - acc: 0.5362\n",
      "Epoch 2/6\n",
      "13/13 [==============================] - 0s 10ms/step - loss: 0.6138 - acc: 0.8478\n",
      "Epoch 3/6\n",
      "13/13 [==============================] - 0s 10ms/step - loss: 0.4000 - acc: 0.9976\n",
      "Epoch 4/6\n",
      "13/13 [==============================] - 0s 11ms/step - loss: 0.1327 - acc: 0.9976\n",
      "Epoch 5/6\n",
      "13/13 [==============================] - 0s 10ms/step - loss: 0.0243 - acc: 0.9976\n",
      "Epoch 6/6\n",
      "13/13 [==============================] - 0s 10ms/step - loss: 0.0054 - acc: 1.0000\n",
      "Predicting 182th label...\n"
     ]
    },
    {
     "data": {
      "application/vnd.jupyter.widget-view+json": {
       "model_id": "7f4b006d830142889817a8cd29ebe297",
       "version_major": 2,
       "version_minor": 0
      },
      "text/plain": [
       "  0%|          | 0/20 [00:00<?, ?it/s]"
      ]
     },
     "metadata": {},
     "output_type": "display_data"
    },
    {
     "name": "stdout",
     "output_type": "stream",
     "text": [
      "INFO:tensorflow:Assets written to: models/text_model_group_1/text_model_182/assets\n"
     ]
    },
    {
     "name": "stderr",
     "output_type": "stream",
     "text": [
      "INFO:tensorflow:Assets written to: models/text_model_group_1/text_model_182/assets\n"
     ]
    },
    {
     "name": "stdout",
     "output_type": "stream",
     "text": [
      "\n",
      "183'th label prediction started\n",
      "count_one 273\n",
      "count_zero 273\n",
      "Epoch 1/6\n",
      "18/18 [==============================] - 1s 16ms/step - loss: 0.6950 - acc: 0.5330\n",
      "Epoch 2/6\n",
      "18/18 [==============================] - 0s 11ms/step - loss: 0.5842 - acc: 0.6886\n",
      "Epoch 3/6\n",
      "18/18 [==============================] - 0s 11ms/step - loss: 0.2902 - acc: 0.9799\n",
      "Epoch 4/6\n",
      "18/18 [==============================] - 0s 11ms/step - loss: 0.0678 - acc: 0.9963\n",
      "Epoch 5/6\n",
      "18/18 [==============================] - 0s 11ms/step - loss: 0.0112 - acc: 1.0000\n",
      "Epoch 6/6\n",
      "18/18 [==============================] - 0s 11ms/step - loss: 0.0036 - acc: 1.0000\n",
      "Predicting 183th label...\n"
     ]
    },
    {
     "data": {
      "application/vnd.jupyter.widget-view+json": {
       "model_id": "3e8eb6a7bda04832a4dd3a5b9ddbe8d6",
       "version_major": 2,
       "version_minor": 0
      },
      "text/plain": [
       "  0%|          | 0/20 [00:00<?, ?it/s]"
      ]
     },
     "metadata": {},
     "output_type": "display_data"
    },
    {
     "name": "stdout",
     "output_type": "stream",
     "text": [
      "INFO:tensorflow:Assets written to: models/text_model_group_1/text_model_183/assets\n"
     ]
    },
    {
     "name": "stderr",
     "output_type": "stream",
     "text": [
      "INFO:tensorflow:Assets written to: models/text_model_group_1/text_model_183/assets\n"
     ]
    },
    {
     "name": "stdout",
     "output_type": "stream",
     "text": [
      "\n",
      "184'th label prediction started\n",
      "count_one 226\n",
      "count_zero 226\n",
      "Epoch 1/6\n",
      "15/15 [==============================] - 1s 11ms/step - loss: 0.6910 - acc: 0.5398\n",
      "Epoch 2/6\n",
      "15/15 [==============================] - 0s 10ms/step - loss: 0.5846 - acc: 0.9690\n",
      "Epoch 3/6\n",
      "15/15 [==============================] - 0s 12ms/step - loss: 0.3363 - acc: 0.9912\n",
      "Epoch 4/6\n",
      "15/15 [==============================] - 0s 10ms/step - loss: 0.0999 - acc: 0.9934\n",
      "Epoch 5/6\n",
      "15/15 [==============================] - 0s 11ms/step - loss: 0.0193 - acc: 1.0000\n",
      "Epoch 6/6\n",
      "15/15 [==============================] - 0s 10ms/step - loss: 0.0054 - acc: 1.0000\n",
      "Predicting 184th label...\n"
     ]
    },
    {
     "data": {
      "application/vnd.jupyter.widget-view+json": {
       "model_id": "44c91be400fd4b22b89752c7edaa0301",
       "version_major": 2,
       "version_minor": 0
      },
      "text/plain": [
       "  0%|          | 0/20 [00:00<?, ?it/s]"
      ]
     },
     "metadata": {},
     "output_type": "display_data"
    },
    {
     "name": "stdout",
     "output_type": "stream",
     "text": [
      "INFO:tensorflow:Assets written to: models/text_model_group_1/text_model_184/assets\n"
     ]
    },
    {
     "name": "stderr",
     "output_type": "stream",
     "text": [
      "INFO:tensorflow:Assets written to: models/text_model_group_1/text_model_184/assets\n"
     ]
    },
    {
     "name": "stdout",
     "output_type": "stream",
     "text": [
      "\n",
      "185'th label prediction started\n",
      "count_one 136\n",
      "count_zero 136\n",
      "Epoch 1/6\n",
      "9/9 [==============================] - 1s 10ms/step - loss: 0.6968 - acc: 0.4963\n",
      "Epoch 2/6\n",
      "9/9 [==============================] - 0s 11ms/step - loss: 0.6246 - acc: 0.9596\n",
      "Epoch 3/6\n",
      "9/9 [==============================] - 0s 10ms/step - loss: 0.4961 - acc: 1.0000\n",
      "Epoch 4/6\n",
      "9/9 [==============================] - 0s 11ms/step - loss: 0.2958 - acc: 0.9963\n",
      "Epoch 5/6\n",
      "9/9 [==============================] - 0s 12ms/step - loss: 0.1167 - acc: 1.0000\n",
      "Epoch 6/6\n",
      "9/9 [==============================] - 0s 12ms/step - loss: 0.0331 - acc: 1.0000\n",
      "Predicting 185th label...\n"
     ]
    },
    {
     "data": {
      "application/vnd.jupyter.widget-view+json": {
       "model_id": "cfbe9af2a61e4a2a9be40d7c82ef2fa1",
       "version_major": 2,
       "version_minor": 0
      },
      "text/plain": [
       "  0%|          | 0/20 [00:00<?, ?it/s]"
      ]
     },
     "metadata": {},
     "output_type": "display_data"
    },
    {
     "name": "stdout",
     "output_type": "stream",
     "text": [
      "INFO:tensorflow:Assets written to: models/text_model_group_1/text_model_185/assets\n"
     ]
    },
    {
     "name": "stderr",
     "output_type": "stream",
     "text": [
      "INFO:tensorflow:Assets written to: models/text_model_group_1/text_model_185/assets\n"
     ]
    },
    {
     "name": "stdout",
     "output_type": "stream",
     "text": [
      "\n",
      "186'th label prediction started\n",
      "count_one 111\n",
      "count_zero 111\n",
      "Epoch 1/6\n",
      "7/7 [==============================] - 1s 12ms/step - loss: 0.7002 - acc: 0.4955\n",
      "Epoch 2/6\n",
      "7/7 [==============================] - 0s 12ms/step - loss: 0.6254 - acc: 0.9279\n",
      "Epoch 3/6\n",
      "7/7 [==============================] - 0s 12ms/step - loss: 0.5211 - acc: 0.9910\n",
      "Epoch 4/6\n",
      "7/7 [==============================] - 0s 11ms/step - loss: 0.3383 - acc: 1.0000\n",
      "Epoch 5/6\n",
      "7/7 [==============================] - 0s 11ms/step - loss: 0.1602 - acc: 1.0000\n",
      "Epoch 6/6\n",
      "7/7 [==============================] - 0s 10ms/step - loss: 0.0546 - acc: 1.0000\n",
      "Predicting 186th label...\n"
     ]
    },
    {
     "data": {
      "application/vnd.jupyter.widget-view+json": {
       "model_id": "167db06a39ce49eb941de33d210faeef",
       "version_major": 2,
       "version_minor": 0
      },
      "text/plain": [
       "  0%|          | 0/20 [00:00<?, ?it/s]"
      ]
     },
     "metadata": {},
     "output_type": "display_data"
    },
    {
     "name": "stdout",
     "output_type": "stream",
     "text": [
      "INFO:tensorflow:Assets written to: models/text_model_group_1/text_model_186/assets\n"
     ]
    },
    {
     "name": "stderr",
     "output_type": "stream",
     "text": [
      "INFO:tensorflow:Assets written to: models/text_model_group_1/text_model_186/assets\n"
     ]
    },
    {
     "name": "stdout",
     "output_type": "stream",
     "text": [
      "\n",
      "187'th label prediction started\n",
      "count_one 228\n",
      "count_zero 228\n",
      "Epoch 1/6\n",
      "15/15 [==============================] - 1s 17ms/step - loss: 0.6899 - acc: 0.5307\n",
      "Epoch 2/6\n",
      "15/15 [==============================] - 0s 10ms/step - loss: 0.5429 - acc: 0.9320\n",
      "Epoch 3/6\n",
      "15/15 [==============================] - 0s 11ms/step - loss: 0.2458 - acc: 0.9868\n",
      "Epoch 4/6\n",
      "15/15 [==============================] - 0s 11ms/step - loss: 0.0629 - acc: 0.9956\n",
      "Epoch 5/6\n",
      "15/15 [==============================] - 0s 11ms/step - loss: 0.0134 - acc: 0.9978\n",
      "Epoch 6/6\n",
      "15/15 [==============================] - 0s 10ms/step - loss: 0.0039 - acc: 1.0000\n",
      "Predicting 187th label...\n"
     ]
    },
    {
     "data": {
      "application/vnd.jupyter.widget-view+json": {
       "model_id": "7364c3f1ef704903b69e4a406deb9519",
       "version_major": 2,
       "version_minor": 0
      },
      "text/plain": [
       "  0%|          | 0/20 [00:00<?, ?it/s]"
      ]
     },
     "metadata": {},
     "output_type": "display_data"
    },
    {
     "name": "stdout",
     "output_type": "stream",
     "text": [
      "INFO:tensorflow:Assets written to: models/text_model_group_1/text_model_187/assets\n"
     ]
    },
    {
     "name": "stderr",
     "output_type": "stream",
     "text": [
      "INFO:tensorflow:Assets written to: models/text_model_group_1/text_model_187/assets\n"
     ]
    },
    {
     "name": "stdout",
     "output_type": "stream",
     "text": [
      "\n",
      "188'th label prediction started\n",
      "count_one 314\n",
      "count_zero 314\n",
      "Epoch 1/6\n",
      "20/20 [==============================] - 1s 16ms/step - loss: 0.6851 - acc: 0.5653\n",
      "Epoch 2/6\n",
      "20/20 [==============================] - 0s 12ms/step - loss: 0.5151 - acc: 0.8312\n",
      "Epoch 3/6\n",
      "20/20 [==============================] - 0s 11ms/step - loss: 0.2118 - acc: 0.9522\n",
      "Epoch 4/6\n",
      "20/20 [==============================] - 0s 11ms/step - loss: 0.0526 - acc: 0.9904\n",
      "Epoch 5/6\n",
      "20/20 [==============================] - 0s 11ms/step - loss: 0.0107 - acc: 1.0000\n",
      "Epoch 6/6\n",
      "20/20 [==============================] - 0s 12ms/step - loss: 0.0037 - acc: 1.0000\n",
      "Predicting 188th label...\n"
     ]
    },
    {
     "data": {
      "application/vnd.jupyter.widget-view+json": {
       "model_id": "7291190e6531482c95af1494bee7c1aa",
       "version_major": 2,
       "version_minor": 0
      },
      "text/plain": [
       "  0%|          | 0/20 [00:00<?, ?it/s]"
      ]
     },
     "metadata": {},
     "output_type": "display_data"
    },
    {
     "name": "stdout",
     "output_type": "stream",
     "text": [
      "INFO:tensorflow:Assets written to: models/text_model_group_1/text_model_188/assets\n"
     ]
    },
    {
     "name": "stderr",
     "output_type": "stream",
     "text": [
      "INFO:tensorflow:Assets written to: models/text_model_group_1/text_model_188/assets\n"
     ]
    },
    {
     "name": "stdout",
     "output_type": "stream",
     "text": [
      "\n",
      "189'th label prediction started\n",
      "count_one 57\n",
      "count_zero 57\n",
      "Epoch 1/6\n",
      "4/4 [==============================] - 1s 41ms/step - loss: 0.6980 - acc: 0.5088\n",
      "Epoch 2/6\n",
      "4/4 [==============================] - 0s 10ms/step - loss: 0.6351 - acc: 0.9737\n",
      "Epoch 3/6\n",
      "4/4 [==============================] - 0s 10ms/step - loss: 0.5661 - acc: 1.0000\n",
      "Epoch 4/6\n",
      "4/4 [==============================] - 0s 10ms/step - loss: 0.4682 - acc: 1.0000\n",
      "Epoch 5/6\n",
      "4/4 [==============================] - 0s 11ms/step - loss: 0.3542 - acc: 1.0000\n",
      "Epoch 6/6\n",
      "4/4 [==============================] - 0s 10ms/step - loss: 0.2268 - acc: 1.0000\n",
      "Predicting 189th label...\n"
     ]
    },
    {
     "data": {
      "application/vnd.jupyter.widget-view+json": {
       "model_id": "7d01630398e847ad9c5cd35287d792b5",
       "version_major": 2,
       "version_minor": 0
      },
      "text/plain": [
       "  0%|          | 0/20 [00:00<?, ?it/s]"
      ]
     },
     "metadata": {},
     "output_type": "display_data"
    },
    {
     "name": "stdout",
     "output_type": "stream",
     "text": [
      "INFO:tensorflow:Assets written to: models/text_model_group_1/text_model_189/assets\n"
     ]
    },
    {
     "name": "stderr",
     "output_type": "stream",
     "text": [
      "INFO:tensorflow:Assets written to: models/text_model_group_1/text_model_189/assets\n"
     ]
    },
    {
     "name": "stdout",
     "output_type": "stream",
     "text": [
      "\n",
      "190'th label prediction started\n",
      "count_one 181\n",
      "count_zero 181\n",
      "Epoch 1/6\n",
      "12/12 [==============================] - 1s 12ms/step - loss: 0.6965 - acc: 0.5083\n",
      "Epoch 2/6\n",
      "12/12 [==============================] - 0s 11ms/step - loss: 0.6045 - acc: 0.9586\n",
      "Epoch 3/6\n",
      "12/12 [==============================] - 0s 11ms/step - loss: 0.4089 - acc: 0.9945\n",
      "Epoch 4/6\n",
      "12/12 [==============================] - 0s 10ms/step - loss: 0.1583 - acc: 0.9972\n",
      "Epoch 5/6\n",
      "12/12 [==============================] - 0s 11ms/step - loss: 0.0336 - acc: 1.0000\n",
      "Epoch 6/6\n",
      "12/12 [==============================] - 0s 11ms/step - loss: 0.0076 - acc: 1.0000\n",
      "Predicting 190th label...\n"
     ]
    },
    {
     "data": {
      "application/vnd.jupyter.widget-view+json": {
       "model_id": "eb40243d3bfa492eaf1cf743047eae90",
       "version_major": 2,
       "version_minor": 0
      },
      "text/plain": [
       "  0%|          | 0/20 [00:00<?, ?it/s]"
      ]
     },
     "metadata": {},
     "output_type": "display_data"
    },
    {
     "name": "stdout",
     "output_type": "stream",
     "text": [
      "INFO:tensorflow:Assets written to: models/text_model_group_1/text_model_190/assets\n"
     ]
    },
    {
     "name": "stderr",
     "output_type": "stream",
     "text": [
      "INFO:tensorflow:Assets written to: models/text_model_group_1/text_model_190/assets\n"
     ]
    },
    {
     "name": "stdout",
     "output_type": "stream",
     "text": [
      "\n",
      "191'th label prediction started\n",
      "count_one 92\n",
      "count_zero 92\n",
      "Epoch 1/6\n",
      "6/6 [==============================] - 1s 12ms/step - loss: 0.6925 - acc: 0.5109\n",
      "Epoch 2/6\n",
      "6/6 [==============================] - 0s 10ms/step - loss: 0.6361 - acc: 1.0000\n",
      "Epoch 3/6\n",
      "6/6 [==============================] - 0s 11ms/step - loss: 0.5475 - acc: 1.0000\n",
      "Epoch 4/6\n",
      "6/6 [==============================] - 0s 11ms/step - loss: 0.4168 - acc: 1.0000\n",
      "Epoch 5/6\n",
      "6/6 [==============================] - 0s 11ms/step - loss: 0.2463 - acc: 1.0000\n",
      "Epoch 6/6\n",
      "6/6 [==============================] - 0s 11ms/step - loss: 0.1097 - acc: 1.0000\n",
      "Predicting 191th label...\n"
     ]
    },
    {
     "data": {
      "application/vnd.jupyter.widget-view+json": {
       "model_id": "8b8ca359a48a45a39e75add9e311fb46",
       "version_major": 2,
       "version_minor": 0
      },
      "text/plain": [
       "  0%|          | 0/20 [00:00<?, ?it/s]"
      ]
     },
     "metadata": {},
     "output_type": "display_data"
    },
    {
     "name": "stdout",
     "output_type": "stream",
     "text": [
      "INFO:tensorflow:Assets written to: models/text_model_group_1/text_model_191/assets\n"
     ]
    },
    {
     "name": "stderr",
     "output_type": "stream",
     "text": [
      "INFO:tensorflow:Assets written to: models/text_model_group_1/text_model_191/assets\n"
     ]
    },
    {
     "name": "stdout",
     "output_type": "stream",
     "text": [
      "\n",
      "192'th label prediction started\n",
      "count_one 109\n",
      "count_zero 109\n",
      "Epoch 1/6\n",
      "7/7 [==============================] - 1s 11ms/step - loss: 0.6810 - acc: 0.6284\n",
      "Epoch 2/6\n",
      "7/7 [==============================] - 0s 12ms/step - loss: 0.5630 - acc: 0.9954\n",
      "Epoch 3/6\n",
      "7/7 [==============================] - 0s 11ms/step - loss: 0.3638 - acc: 0.9954\n",
      "Epoch 4/6\n",
      "7/7 [==============================] - 0s 11ms/step - loss: 0.1784 - acc: 1.0000\n",
      "Epoch 5/6\n",
      "7/7 [==============================] - 0s 11ms/step - loss: 0.0668 - acc: 1.0000\n",
      "Epoch 6/6\n",
      "7/7 [==============================] - 0s 11ms/step - loss: 0.0208 - acc: 1.0000\n",
      "Predicting 192th label...\n"
     ]
    },
    {
     "data": {
      "application/vnd.jupyter.widget-view+json": {
       "model_id": "e8fdc71f199f4f25aae8fd0d61a32043",
       "version_major": 2,
       "version_minor": 0
      },
      "text/plain": [
       "  0%|          | 0/20 [00:00<?, ?it/s]"
      ]
     },
     "metadata": {},
     "output_type": "display_data"
    },
    {
     "name": "stdout",
     "output_type": "stream",
     "text": [
      "INFO:tensorflow:Assets written to: models/text_model_group_1/text_model_192/assets\n"
     ]
    },
    {
     "name": "stderr",
     "output_type": "stream",
     "text": [
      "INFO:tensorflow:Assets written to: models/text_model_group_1/text_model_192/assets\n"
     ]
    },
    {
     "name": "stdout",
     "output_type": "stream",
     "text": [
      "\n",
      "193'th label prediction started\n",
      "count_one 132\n",
      "count_zero 132\n",
      "Epoch 1/6\n",
      "9/9 [==============================] - 1s 11ms/step - loss: 0.6950 - acc: 0.4508\n",
      "Epoch 2/6\n",
      "9/9 [==============================] - 0s 10ms/step - loss: 0.6116 - acc: 0.8333\n",
      "Epoch 3/6\n",
      "9/9 [==============================] - 0s 11ms/step - loss: 0.4745 - acc: 0.9962\n",
      "Epoch 4/6\n",
      "9/9 [==============================] - 0s 11ms/step - loss: 0.2669 - acc: 0.9962\n",
      "Epoch 5/6\n",
      "9/9 [==============================] - 0s 11ms/step - loss: 0.0981 - acc: 0.9962\n",
      "Epoch 6/6\n",
      "9/9 [==============================] - 0s 11ms/step - loss: 0.0317 - acc: 1.0000\n",
      "Predicting 193th label...\n"
     ]
    },
    {
     "data": {
      "application/vnd.jupyter.widget-view+json": {
       "model_id": "b7c7f0c92df04e5f9e9553bc339edbc5",
       "version_major": 2,
       "version_minor": 0
      },
      "text/plain": [
       "  0%|          | 0/20 [00:00<?, ?it/s]"
      ]
     },
     "metadata": {},
     "output_type": "display_data"
    },
    {
     "name": "stdout",
     "output_type": "stream",
     "text": [
      "INFO:tensorflow:Assets written to: models/text_model_group_1/text_model_193/assets\n"
     ]
    },
    {
     "name": "stderr",
     "output_type": "stream",
     "text": [
      "INFO:tensorflow:Assets written to: models/text_model_group_1/text_model_193/assets\n"
     ]
    },
    {
     "name": "stdout",
     "output_type": "stream",
     "text": [
      "\n",
      "194'th label prediction started\n",
      "count_one 183\n",
      "count_zero 183\n",
      "Epoch 1/6\n",
      "12/12 [==============================] - 1s 11ms/step - loss: 0.7018 - acc: 0.4699\n",
      "Epoch 2/6\n",
      "12/12 [==============================] - 0s 11ms/step - loss: 0.5855 - acc: 0.9863\n",
      "Epoch 3/6\n",
      "12/12 [==============================] - 0s 11ms/step - loss: 0.3453 - acc: 0.9973\n",
      "Epoch 4/6\n",
      "12/12 [==============================] - 0s 11ms/step - loss: 0.1097 - acc: 0.9973\n",
      "Epoch 5/6\n",
      "12/12 [==============================] - 0s 11ms/step - loss: 0.0225 - acc: 1.0000\n",
      "Epoch 6/6\n",
      "12/12 [==============================] - 0s 11ms/step - loss: 0.0060 - acc: 1.0000\n",
      "Predicting 194th label...\n"
     ]
    },
    {
     "data": {
      "application/vnd.jupyter.widget-view+json": {
       "model_id": "b5e62fe917c14a5981270ebdb5de7281",
       "version_major": 2,
       "version_minor": 0
      },
      "text/plain": [
       "  0%|          | 0/20 [00:00<?, ?it/s]"
      ]
     },
     "metadata": {},
     "output_type": "display_data"
    },
    {
     "name": "stdout",
     "output_type": "stream",
     "text": [
      "INFO:tensorflow:Assets written to: models/text_model_group_1/text_model_194/assets\n"
     ]
    },
    {
     "name": "stderr",
     "output_type": "stream",
     "text": [
      "INFO:tensorflow:Assets written to: models/text_model_group_1/text_model_194/assets\n"
     ]
    },
    {
     "name": "stdout",
     "output_type": "stream",
     "text": [
      "\n",
      "195'th label prediction started\n",
      "count_one 194\n",
      "count_zero 194\n",
      "Epoch 1/6\n",
      "13/13 [==============================] - 1s 11ms/step - loss: 0.6928 - acc: 0.4948\n",
      "Epoch 2/6\n",
      "13/13 [==============================] - 0s 10ms/step - loss: 0.5836 - acc: 0.8943\n",
      "Epoch 3/6\n",
      "13/13 [==============================] - 0s 10ms/step - loss: 0.3269 - acc: 0.9768\n",
      "Epoch 4/6\n",
      "13/13 [==============================] - 0s 12ms/step - loss: 0.1113 - acc: 0.9871\n",
      "Epoch 5/6\n",
      "13/13 [==============================] - 0s 11ms/step - loss: 0.0265 - acc: 1.0000\n",
      "Epoch 6/6\n",
      "13/13 [==============================] - 0s 11ms/step - loss: 0.0064 - acc: 1.0000\n",
      "Predicting 195th label...\n"
     ]
    },
    {
     "data": {
      "application/vnd.jupyter.widget-view+json": {
       "model_id": "bed1a45e2e694a2ca3be0ea94c32e32a",
       "version_major": 2,
       "version_minor": 0
      },
      "text/plain": [
       "  0%|          | 0/20 [00:00<?, ?it/s]"
      ]
     },
     "metadata": {},
     "output_type": "display_data"
    },
    {
     "name": "stdout",
     "output_type": "stream",
     "text": [
      "INFO:tensorflow:Assets written to: models/text_model_group_1/text_model_195/assets\n"
     ]
    },
    {
     "name": "stderr",
     "output_type": "stream",
     "text": [
      "INFO:tensorflow:Assets written to: models/text_model_group_1/text_model_195/assets\n"
     ]
    },
    {
     "name": "stdout",
     "output_type": "stream",
     "text": [
      "\n",
      "196'th label prediction started\n",
      "count_one 77\n",
      "count_zero 77\n",
      "Epoch 1/6\n",
      "5/5 [==============================] - 1s 12ms/step - loss: 0.6942 - acc: 0.5195\n",
      "Epoch 2/6\n",
      "5/5 [==============================] - 0s 10ms/step - loss: 0.6299 - acc: 1.0000\n",
      "Epoch 3/6\n",
      "5/5 [==============================] - 0s 11ms/step - loss: 0.5453 - acc: 1.0000\n",
      "Epoch 4/6\n",
      "5/5 [==============================] - 0s 11ms/step - loss: 0.4256 - acc: 1.0000\n",
      "Epoch 5/6\n",
      "5/5 [==============================] - 0s 10ms/step - loss: 0.2788 - acc: 1.0000\n",
      "Epoch 6/6\n",
      "5/5 [==============================] - 0s 10ms/step - loss: 0.1436 - acc: 1.0000\n",
      "Predicting 196th label...\n"
     ]
    },
    {
     "data": {
      "application/vnd.jupyter.widget-view+json": {
       "model_id": "c837c2ee7f60402a859e24d71a7f0e7f",
       "version_major": 2,
       "version_minor": 0
      },
      "text/plain": [
       "  0%|          | 0/20 [00:00<?, ?it/s]"
      ]
     },
     "metadata": {},
     "output_type": "display_data"
    },
    {
     "name": "stdout",
     "output_type": "stream",
     "text": [
      "INFO:tensorflow:Assets written to: models/text_model_group_1/text_model_196/assets\n"
     ]
    },
    {
     "name": "stderr",
     "output_type": "stream",
     "text": [
      "INFO:tensorflow:Assets written to: models/text_model_group_1/text_model_196/assets\n"
     ]
    },
    {
     "name": "stdout",
     "output_type": "stream",
     "text": [
      "\n",
      "197'th label prediction started\n",
      "count_one 58\n",
      "count_zero 58\n",
      "Epoch 1/6\n",
      "4/4 [==============================] - 1s 12ms/step - loss: 0.7007 - acc: 0.4310\n",
      "Epoch 2/6\n",
      "4/4 [==============================] - 0s 10ms/step - loss: 0.6371 - acc: 0.9483\n",
      "Epoch 3/6\n",
      "4/4 [==============================] - 0s 11ms/step - loss: 0.5744 - acc: 1.0000\n",
      "Epoch 4/6\n",
      "4/4 [==============================] - 0s 11ms/step - loss: 0.4886 - acc: 1.0000\n",
      "Epoch 5/6\n",
      "4/4 [==============================] - 0s 9ms/step - loss: 0.3761 - acc: 1.0000\n",
      "Epoch 6/6\n",
      "4/4 [==============================] - 0s 11ms/step - loss: 0.2576 - acc: 1.0000\n",
      "Predicting 197th label...\n"
     ]
    },
    {
     "data": {
      "application/vnd.jupyter.widget-view+json": {
       "model_id": "d09dfb78661a4d0e82f08cc3c2ed3c0d",
       "version_major": 2,
       "version_minor": 0
      },
      "text/plain": [
       "  0%|          | 0/20 [00:00<?, ?it/s]"
      ]
     },
     "metadata": {},
     "output_type": "display_data"
    },
    {
     "name": "stdout",
     "output_type": "stream",
     "text": [
      "INFO:tensorflow:Assets written to: models/text_model_group_1/text_model_197/assets\n"
     ]
    },
    {
     "name": "stderr",
     "output_type": "stream",
     "text": [
      "INFO:tensorflow:Assets written to: models/text_model_group_1/text_model_197/assets\n"
     ]
    },
    {
     "name": "stdout",
     "output_type": "stream",
     "text": [
      "\n",
      "198'th label prediction started\n",
      "count_one 100\n",
      "count_zero 100\n",
      "Epoch 1/6\n",
      "7/7 [==============================] - 1s 11ms/step - loss: 0.6968 - acc: 0.5000\n",
      "Epoch 2/6\n",
      "7/7 [==============================] - 0s 11ms/step - loss: 0.6278 - acc: 0.9400\n",
      "Epoch 3/6\n",
      "7/7 [==============================] - 0s 11ms/step - loss: 0.5496 - acc: 0.9950\n",
      "Epoch 4/6\n",
      "7/7 [==============================] - 0s 11ms/step - loss: 0.4107 - acc: 1.0000\n",
      "Epoch 5/6\n",
      "7/7 [==============================] - 0s 11ms/step - loss: 0.2412 - acc: 1.0000\n",
      "Epoch 6/6\n",
      "7/7 [==============================] - 0s 11ms/step - loss: 0.1050 - acc: 1.0000\n",
      "Predicting 198th label...\n"
     ]
    },
    {
     "data": {
      "application/vnd.jupyter.widget-view+json": {
       "model_id": "a2dc0fb37e064e7d9bdafc99a3a6a9d6",
       "version_major": 2,
       "version_minor": 0
      },
      "text/plain": [
       "  0%|          | 0/20 [00:00<?, ?it/s]"
      ]
     },
     "metadata": {},
     "output_type": "display_data"
    },
    {
     "name": "stdout",
     "output_type": "stream",
     "text": [
      "INFO:tensorflow:Assets written to: models/text_model_group_1/text_model_198/assets\n"
     ]
    },
    {
     "name": "stderr",
     "output_type": "stream",
     "text": [
      "INFO:tensorflow:Assets written to: models/text_model_group_1/text_model_198/assets\n"
     ]
    },
    {
     "name": "stdout",
     "output_type": "stream",
     "text": [
      "\n",
      "199'th label prediction started\n",
      "count_one 93\n",
      "count_zero 93\n",
      "Epoch 1/6\n",
      "6/6 [==============================] - 1s 13ms/step - loss: 0.7166 - acc: 0.4355\n",
      "Epoch 2/6\n",
      "6/6 [==============================] - 0s 12ms/step - loss: 0.6212 - acc: 0.8817\n",
      "Epoch 3/6\n",
      "6/6 [==============================] - 0s 11ms/step - loss: 0.5349 - acc: 0.9892\n",
      "Epoch 4/6\n",
      "6/6 [==============================] - 0s 11ms/step - loss: 0.4035 - acc: 0.9946\n",
      "Epoch 5/6\n",
      "6/6 [==============================] - 0s 11ms/step - loss: 0.2493 - acc: 1.0000\n",
      "Epoch 6/6\n",
      "6/6 [==============================] - 0s 11ms/step - loss: 0.1219 - acc: 1.0000\n",
      "Predicting 199th label...\n"
     ]
    },
    {
     "data": {
      "application/vnd.jupyter.widget-view+json": {
       "model_id": "916a87bb72504ca3a3cbda72daf7b6c7",
       "version_major": 2,
       "version_minor": 0
      },
      "text/plain": [
       "  0%|          | 0/20 [00:00<?, ?it/s]"
      ]
     },
     "metadata": {},
     "output_type": "display_data"
    },
    {
     "name": "stdout",
     "output_type": "stream",
     "text": [
      "INFO:tensorflow:Assets written to: models/text_model_group_1/text_model_199/assets\n"
     ]
    },
    {
     "name": "stderr",
     "output_type": "stream",
     "text": [
      "INFO:tensorflow:Assets written to: models/text_model_group_1/text_model_199/assets\n"
     ]
    },
    {
     "name": "stdout",
     "output_type": "stream",
     "text": [
      "\n",
      "200'th label prediction started\n",
      "count_one 61\n",
      "count_zero 61\n",
      "Epoch 1/6\n",
      "4/4 [==============================] - 1s 52ms/step - loss: 0.7024 - acc: 0.4754\n",
      "Epoch 2/6\n",
      "4/4 [==============================] - 0s 11ms/step - loss: 0.6480 - acc: 0.8525\n",
      "Epoch 3/6\n",
      "4/4 [==============================] - 0s 12ms/step - loss: 0.5942 - acc: 1.0000\n",
      "Epoch 4/6\n",
      "4/4 [==============================] - 0s 11ms/step - loss: 0.5235 - acc: 1.0000\n",
      "Epoch 5/6\n",
      "4/4 [==============================] - 0s 10ms/step - loss: 0.4270 - acc: 1.0000\n",
      "Epoch 6/6\n",
      "4/4 [==============================] - 0s 10ms/step - loss: 0.3135 - acc: 1.0000\n",
      "Predicting 200th label...\n"
     ]
    },
    {
     "data": {
      "application/vnd.jupyter.widget-view+json": {
       "model_id": "2585fe8a6ad04318ac040c6128520ee6",
       "version_major": 2,
       "version_minor": 0
      },
      "text/plain": [
       "  0%|          | 0/20 [00:00<?, ?it/s]"
      ]
     },
     "metadata": {},
     "output_type": "display_data"
    },
    {
     "name": "stdout",
     "output_type": "stream",
     "text": [
      "INFO:tensorflow:Assets written to: models/text_model_group_1/text_model_200/assets\n"
     ]
    },
    {
     "name": "stderr",
     "output_type": "stream",
     "text": [
      "INFO:tensorflow:Assets written to: models/text_model_group_1/text_model_200/assets\n"
     ]
    },
    {
     "name": "stdout",
     "output_type": "stream",
     "text": [
      "\n",
      "201'th label prediction started\n",
      "count_one 74\n",
      "count_zero 74\n",
      "Epoch 1/6\n",
      "5/5 [==============================] - 1s 12ms/step - loss: 0.6928 - acc: 0.5135\n",
      "Epoch 2/6\n",
      "5/5 [==============================] - 0s 11ms/step - loss: 0.6312 - acc: 0.9797\n",
      "Epoch 3/6\n",
      "5/5 [==============================] - 0s 11ms/step - loss: 0.5415 - acc: 1.0000\n",
      "Epoch 4/6\n",
      "5/5 [==============================] - 0s 11ms/step - loss: 0.4214 - acc: 1.0000\n",
      "Epoch 5/6\n",
      "5/5 [==============================] - 0s 10ms/step - loss: 0.2804 - acc: 1.0000\n",
      "Epoch 6/6\n",
      "5/5 [==============================] - 0s 11ms/step - loss: 0.1617 - acc: 1.0000\n",
      "Predicting 201th label...\n"
     ]
    },
    {
     "data": {
      "application/vnd.jupyter.widget-view+json": {
       "model_id": "6b5843d4500e47309db44d9c4054a8dd",
       "version_major": 2,
       "version_minor": 0
      },
      "text/plain": [
       "  0%|          | 0/20 [00:00<?, ?it/s]"
      ]
     },
     "metadata": {},
     "output_type": "display_data"
    },
    {
     "name": "stdout",
     "output_type": "stream",
     "text": [
      "INFO:tensorflow:Assets written to: models/text_model_group_1/text_model_201/assets\n"
     ]
    },
    {
     "name": "stderr",
     "output_type": "stream",
     "text": [
      "INFO:tensorflow:Assets written to: models/text_model_group_1/text_model_201/assets\n"
     ]
    },
    {
     "name": "stdout",
     "output_type": "stream",
     "text": [
      "\n",
      "202'th label prediction started\n",
      "count_one 73\n",
      "count_zero 73\n",
      "Epoch 1/6\n",
      "5/5 [==============================] - 1s 11ms/step - loss: 0.6974 - acc: 0.4726\n",
      "Epoch 2/6\n",
      "5/5 [==============================] - 0s 9ms/step - loss: 0.6313 - acc: 0.9726\n",
      "Epoch 3/6\n",
      "5/5 [==============================] - 0s 9ms/step - loss: 0.5541 - acc: 1.0000\n",
      "Epoch 4/6\n",
      "5/5 [==============================] - 0s 10ms/step - loss: 0.4415 - acc: 1.0000\n",
      "Epoch 5/6\n",
      "5/5 [==============================] - 0s 10ms/step - loss: 0.3019 - acc: 1.0000\n",
      "Epoch 6/6\n",
      "5/5 [==============================] - 0s 9ms/step - loss: 0.1697 - acc: 1.0000\n",
      "Predicting 202th label...\n"
     ]
    },
    {
     "data": {
      "application/vnd.jupyter.widget-view+json": {
       "model_id": "139f2fc77d3343f2a0ce427a016971a4",
       "version_major": 2,
       "version_minor": 0
      },
      "text/plain": [
       "  0%|          | 0/20 [00:00<?, ?it/s]"
      ]
     },
     "metadata": {},
     "output_type": "display_data"
    },
    {
     "name": "stdout",
     "output_type": "stream",
     "text": [
      "INFO:tensorflow:Assets written to: models/text_model_group_1/text_model_202/assets\n"
     ]
    },
    {
     "name": "stderr",
     "output_type": "stream",
     "text": [
      "INFO:tensorflow:Assets written to: models/text_model_group_1/text_model_202/assets\n"
     ]
    },
    {
     "name": "stdout",
     "output_type": "stream",
     "text": [
      "\n",
      "203'th label prediction started\n",
      "count_one 74\n",
      "count_zero 74\n",
      "Epoch 1/6\n",
      "5/5 [==============================] - 1s 12ms/step - loss: 0.6995 - acc: 0.4459\n",
      "Epoch 2/6\n",
      "5/5 [==============================] - 0s 10ms/step - loss: 0.6306 - acc: 0.9865\n",
      "Epoch 3/6\n",
      "5/5 [==============================] - 0s 11ms/step - loss: 0.5486 - acc: 1.0000\n",
      "Epoch 4/6\n",
      "5/5 [==============================] - 0s 10ms/step - loss: 0.4332 - acc: 1.0000\n",
      "Epoch 5/6\n",
      "5/5 [==============================] - 0s 10ms/step - loss: 0.3004 - acc: 1.0000\n",
      "Epoch 6/6\n",
      "5/5 [==============================] - 0s 9ms/step - loss: 0.1704 - acc: 1.0000\n",
      "Predicting 203th label...\n"
     ]
    },
    {
     "data": {
      "application/vnd.jupyter.widget-view+json": {
       "model_id": "baf5e0aea7fb49b082c9d0978f0377a2",
       "version_major": 2,
       "version_minor": 0
      },
      "text/plain": [
       "  0%|          | 0/20 [00:00<?, ?it/s]"
      ]
     },
     "metadata": {},
     "output_type": "display_data"
    },
    {
     "name": "stdout",
     "output_type": "stream",
     "text": [
      "INFO:tensorflow:Assets written to: models/text_model_group_1/text_model_203/assets\n"
     ]
    },
    {
     "name": "stderr",
     "output_type": "stream",
     "text": [
      "INFO:tensorflow:Assets written to: models/text_model_group_1/text_model_203/assets\n"
     ]
    },
    {
     "name": "stdout",
     "output_type": "stream",
     "text": [
      "\n",
      "204'th label prediction started\n",
      "count_one 110\n",
      "count_zero 110\n",
      "Epoch 1/6\n",
      "7/7 [==============================] - 1s 12ms/step - loss: 0.6922 - acc: 0.5227\n",
      "Epoch 2/6\n",
      "7/7 [==============================] - 0s 12ms/step - loss: 0.6132 - acc: 0.9909\n",
      "Epoch 3/6\n",
      "7/7 [==============================] - 0s 10ms/step - loss: 0.4803 - acc: 1.0000\n",
      "Epoch 4/6\n",
      "7/7 [==============================] - 0s 11ms/step - loss: 0.2941 - acc: 1.0000\n",
      "Epoch 5/6\n",
      "7/7 [==============================] - 0s 11ms/step - loss: 0.1256 - acc: 1.0000\n",
      "Epoch 6/6\n",
      "7/7 [==============================] - 0s 10ms/step - loss: 0.0404 - acc: 1.0000\n",
      "Predicting 204th label...\n"
     ]
    },
    {
     "data": {
      "application/vnd.jupyter.widget-view+json": {
       "model_id": "5fcabb79b211469e9ea92de1aad097ad",
       "version_major": 2,
       "version_minor": 0
      },
      "text/plain": [
       "  0%|          | 0/20 [00:00<?, ?it/s]"
      ]
     },
     "metadata": {},
     "output_type": "display_data"
    },
    {
     "name": "stdout",
     "output_type": "stream",
     "text": [
      "INFO:tensorflow:Assets written to: models/text_model_group_1/text_model_204/assets\n"
     ]
    },
    {
     "name": "stderr",
     "output_type": "stream",
     "text": [
      "INFO:tensorflow:Assets written to: models/text_model_group_1/text_model_204/assets\n"
     ]
    },
    {
     "name": "stdout",
     "output_type": "stream",
     "text": [
      "\n",
      "205'th label prediction started\n",
      "count_one 81\n",
      "count_zero 81\n",
      "Epoch 1/6\n",
      "6/6 [==============================] - 1s 12ms/step - loss: 0.6889 - acc: 0.5000\n",
      "Epoch 2/6\n",
      "6/6 [==============================] - 0s 10ms/step - loss: 0.6027 - acc: 1.0000\n",
      "Epoch 3/6\n",
      "6/6 [==============================] - 0s 10ms/step - loss: 0.4642 - acc: 1.0000\n",
      "Epoch 4/6\n",
      "6/6 [==============================] - 0s 12ms/step - loss: 0.2835 - acc: 1.0000\n",
      "Epoch 5/6\n",
      "6/6 [==============================] - 0s 11ms/step - loss: 0.1288 - acc: 1.0000\n",
      "Epoch 6/6\n",
      "6/6 [==============================] - 0s 10ms/step - loss: 0.0540 - acc: 1.0000\n",
      "Predicting 205th label...\n"
     ]
    },
    {
     "data": {
      "application/vnd.jupyter.widget-view+json": {
       "model_id": "12e1ba142d1c45f987d7bd65b124934c",
       "version_major": 2,
       "version_minor": 0
      },
      "text/plain": [
       "  0%|          | 0/20 [00:00<?, ?it/s]"
      ]
     },
     "metadata": {},
     "output_type": "display_data"
    },
    {
     "name": "stdout",
     "output_type": "stream",
     "text": [
      "INFO:tensorflow:Assets written to: models/text_model_group_1/text_model_205/assets\n"
     ]
    },
    {
     "name": "stderr",
     "output_type": "stream",
     "text": [
      "INFO:tensorflow:Assets written to: models/text_model_group_1/text_model_205/assets\n"
     ]
    },
    {
     "name": "stdout",
     "output_type": "stream",
     "text": [
      "\n",
      "206'th label prediction started\n",
      "count_one 114\n",
      "count_zero 114\n",
      "Epoch 1/6\n",
      "8/8 [==============================] - 1s 12ms/step - loss: 0.6977 - acc: 0.4693\n",
      "Epoch 2/6\n",
      "8/8 [==============================] - 0s 10ms/step - loss: 0.6190 - acc: 0.9912\n",
      "Epoch 3/6\n",
      "8/8 [==============================] - 0s 9ms/step - loss: 0.5090 - acc: 1.0000\n",
      "Epoch 4/6\n",
      "8/8 [==============================] - 0s 9ms/step - loss: 0.3334 - acc: 1.0000\n",
      "Epoch 5/6\n",
      "8/8 [==============================] - 0s 10ms/step - loss: 0.1579 - acc: 1.0000\n",
      "Epoch 6/6\n",
      "8/8 [==============================] - 0s 10ms/step - loss: 0.0518 - acc: 1.0000\n",
      "Predicting 206th label...\n"
     ]
    },
    {
     "data": {
      "application/vnd.jupyter.widget-view+json": {
       "model_id": "c315a4d599ce43639e9e855f05e3dfc9",
       "version_major": 2,
       "version_minor": 0
      },
      "text/plain": [
       "  0%|          | 0/20 [00:00<?, ?it/s]"
      ]
     },
     "metadata": {},
     "output_type": "display_data"
    },
    {
     "name": "stdout",
     "output_type": "stream",
     "text": [
      "INFO:tensorflow:Assets written to: models/text_model_group_1/text_model_206/assets\n"
     ]
    },
    {
     "name": "stderr",
     "output_type": "stream",
     "text": [
      "INFO:tensorflow:Assets written to: models/text_model_group_1/text_model_206/assets\n"
     ]
    },
    {
     "name": "stdout",
     "output_type": "stream",
     "text": [
      "\n",
      "207'th label prediction started\n",
      "count_one 71\n",
      "count_zero 71\n",
      "Epoch 1/6\n",
      "5/5 [==============================] - 1s 12ms/step - loss: 0.6911 - acc: 0.5070\n",
      "Epoch 2/6\n",
      "5/5 [==============================] - 0s 9ms/step - loss: 0.5914 - acc: 0.9859\n",
      "Epoch 3/6\n",
      "5/5 [==============================] - 0s 10ms/step - loss: 0.4651 - acc: 1.0000\n",
      "Epoch 4/6\n",
      "5/5 [==============================] - 0s 9ms/step - loss: 0.3088 - acc: 1.0000\n",
      "Epoch 5/6\n",
      "5/5 [==============================] - 0s 10ms/step - loss: 0.1645 - acc: 1.0000\n",
      "Epoch 6/6\n",
      "5/5 [==============================] - 0s 10ms/step - loss: 0.0791 - acc: 1.0000\n",
      "Predicting 207th label...\n"
     ]
    },
    {
     "data": {
      "application/vnd.jupyter.widget-view+json": {
       "model_id": "2fc67619475343b699b3928796f6cad2",
       "version_major": 2,
       "version_minor": 0
      },
      "text/plain": [
       "  0%|          | 0/20 [00:00<?, ?it/s]"
      ]
     },
     "metadata": {},
     "output_type": "display_data"
    },
    {
     "name": "stdout",
     "output_type": "stream",
     "text": [
      "INFO:tensorflow:Assets written to: models/text_model_group_1/text_model_207/assets\n"
     ]
    },
    {
     "name": "stderr",
     "output_type": "stream",
     "text": [
      "INFO:tensorflow:Assets written to: models/text_model_group_1/text_model_207/assets\n"
     ]
    },
    {
     "name": "stdout",
     "output_type": "stream",
     "text": [
      "\n",
      "208'th label prediction started\n",
      "count_one 97\n",
      "count_zero 97\n",
      "Epoch 1/6\n",
      "7/7 [==============================] - 1s 11ms/step - loss: 0.7217 - acc: 0.5052\n",
      "Epoch 2/6\n",
      "7/7 [==============================] - 0s 10ms/step - loss: 0.6241 - acc: 0.8454\n",
      "Epoch 3/6\n",
      "7/7 [==============================] - 0s 9ms/step - loss: 0.5402 - acc: 0.9897\n",
      "Epoch 4/6\n",
      "7/7 [==============================] - 0s 11ms/step - loss: 0.3963 - acc: 0.9897\n",
      "Epoch 5/6\n",
      "7/7 [==============================] - 0s 10ms/step - loss: 0.2298 - acc: 0.9897\n",
      "Epoch 6/6\n",
      "7/7 [==============================] - 0s 11ms/step - loss: 0.1138 - acc: 0.9948\n",
      "Predicting 208th label...\n"
     ]
    },
    {
     "data": {
      "application/vnd.jupyter.widget-view+json": {
       "model_id": "371e69a9de804f4bbe26f37d7020872f",
       "version_major": 2,
       "version_minor": 0
      },
      "text/plain": [
       "  0%|          | 0/20 [00:00<?, ?it/s]"
      ]
     },
     "metadata": {},
     "output_type": "display_data"
    },
    {
     "name": "stdout",
     "output_type": "stream",
     "text": [
      "INFO:tensorflow:Assets written to: models/text_model_group_1/text_model_208/assets\n"
     ]
    },
    {
     "name": "stderr",
     "output_type": "stream",
     "text": [
      "INFO:tensorflow:Assets written to: models/text_model_group_1/text_model_208/assets\n"
     ]
    },
    {
     "name": "stdout",
     "output_type": "stream",
     "text": [
      "\n",
      "209'th label prediction started\n",
      "count_one 75\n",
      "count_zero 75\n",
      "Epoch 1/6\n",
      "5/5 [==============================] - 1s 11ms/step - loss: 0.6948 - acc: 0.4667\n",
      "Epoch 2/6\n",
      "5/5 [==============================] - 0s 10ms/step - loss: 0.6410 - acc: 1.0000\n",
      "Epoch 3/6\n",
      "5/5 [==============================] - 0s 10ms/step - loss: 0.5585 - acc: 1.0000\n",
      "Epoch 4/6\n",
      "5/5 [==============================] - 0s 10ms/step - loss: 0.4409 - acc: 1.0000\n",
      "Epoch 5/6\n",
      "5/5 [==============================] - 0s 11ms/step - loss: 0.2875 - acc: 1.0000\n",
      "Epoch 6/6\n",
      "5/5 [==============================] - 0s 11ms/step - loss: 0.1515 - acc: 1.0000\n",
      "Predicting 209th label...\n"
     ]
    },
    {
     "data": {
      "application/vnd.jupyter.widget-view+json": {
       "model_id": "e387d764ba3b4af8a2795400a7e9b64e",
       "version_major": 2,
       "version_minor": 0
      },
      "text/plain": [
       "  0%|          | 0/20 [00:00<?, ?it/s]"
      ]
     },
     "metadata": {},
     "output_type": "display_data"
    },
    {
     "name": "stdout",
     "output_type": "stream",
     "text": [
      "INFO:tensorflow:Assets written to: models/text_model_group_1/text_model_209/assets\n"
     ]
    },
    {
     "name": "stderr",
     "output_type": "stream",
     "text": [
      "INFO:tensorflow:Assets written to: models/text_model_group_1/text_model_209/assets\n"
     ]
    },
    {
     "name": "stdout",
     "output_type": "stream",
     "text": [
      "\n",
      "210'th label prediction started\n",
      "count_one 77\n",
      "count_zero 77\n",
      "Epoch 1/6\n",
      "5/5 [==============================] - 1s 12ms/step - loss: 0.7004 - acc: 0.4870\n",
      "Epoch 2/6\n",
      "5/5 [==============================] - 0s 11ms/step - loss: 0.6312 - acc: 0.8961\n",
      "Epoch 3/6\n",
      "5/5 [==============================] - 0s 11ms/step - loss: 0.5572 - acc: 1.0000\n",
      "Epoch 4/6\n",
      "5/5 [==============================] - 0s 11ms/step - loss: 0.4538 - acc: 1.0000\n",
      "Epoch 5/6\n",
      "5/5 [==============================] - 0s 10ms/step - loss: 0.3257 - acc: 1.0000\n",
      "Epoch 6/6\n",
      "5/5 [==============================] - 0s 11ms/step - loss: 0.1988 - acc: 1.0000\n",
      "Predicting 210th label...\n"
     ]
    },
    {
     "data": {
      "application/vnd.jupyter.widget-view+json": {
       "model_id": "3c964f4583564e2ab5288e072dee0a37",
       "version_major": 2,
       "version_minor": 0
      },
      "text/plain": [
       "  0%|          | 0/20 [00:00<?, ?it/s]"
      ]
     },
     "metadata": {},
     "output_type": "display_data"
    },
    {
     "name": "stdout",
     "output_type": "stream",
     "text": [
      "INFO:tensorflow:Assets written to: models/text_model_group_1/text_model_210/assets\n"
     ]
    },
    {
     "name": "stderr",
     "output_type": "stream",
     "text": [
      "INFO:tensorflow:Assets written to: models/text_model_group_1/text_model_210/assets\n"
     ]
    },
    {
     "name": "stdout",
     "output_type": "stream",
     "text": [
      "\n",
      "211'th label prediction started\n",
      "count_one 114\n",
      "count_zero 114\n",
      "Epoch 1/6\n",
      "8/8 [==============================] - 1s 21ms/step - loss: 0.6929 - acc: 0.5175\n",
      "Epoch 2/6\n",
      "8/8 [==============================] - 0s 9ms/step - loss: 0.6077 - acc: 0.9561\n",
      "Epoch 3/6\n",
      "8/8 [==============================] - 0s 11ms/step - loss: 0.4760 - acc: 0.9956\n",
      "Epoch 4/6\n",
      "8/8 [==============================] - 0s 10ms/step - loss: 0.2831 - acc: 1.0000\n",
      "Epoch 5/6\n",
      "8/8 [==============================] - 0s 10ms/step - loss: 0.1146 - acc: 1.0000\n",
      "Epoch 6/6\n",
      "8/8 [==============================] - 0s 11ms/step - loss: 0.0354 - acc: 1.0000\n",
      "Predicting 211th label...\n"
     ]
    },
    {
     "data": {
      "application/vnd.jupyter.widget-view+json": {
       "model_id": "2d28ec4d26f24d00a0a67a5e8fce364e",
       "version_major": 2,
       "version_minor": 0
      },
      "text/plain": [
       "  0%|          | 0/20 [00:00<?, ?it/s]"
      ]
     },
     "metadata": {},
     "output_type": "display_data"
    },
    {
     "name": "stdout",
     "output_type": "stream",
     "text": [
      "INFO:tensorflow:Assets written to: models/text_model_group_1/text_model_211/assets\n"
     ]
    },
    {
     "name": "stderr",
     "output_type": "stream",
     "text": [
      "INFO:tensorflow:Assets written to: models/text_model_group_1/text_model_211/assets\n"
     ]
    },
    {
     "name": "stdout",
     "output_type": "stream",
     "text": [
      "\n",
      "212'th label prediction started\n",
      "count_one 82\n",
      "count_zero 82\n",
      "Epoch 1/6\n",
      "6/6 [==============================] - 1s 12ms/step - loss: 0.6955 - acc: 0.4695\n",
      "Epoch 2/6\n",
      "6/6 [==============================] - 0s 10ms/step - loss: 0.6376 - acc: 0.9756\n",
      "Epoch 3/6\n",
      "6/6 [==============================] - 0s 11ms/step - loss: 0.5683 - acc: 1.0000\n",
      "Epoch 4/6\n",
      "6/6 [==============================] - 0s 10ms/step - loss: 0.4539 - acc: 1.0000\n",
      "Epoch 5/6\n",
      "6/6 [==============================] - 0s 9ms/step - loss: 0.3067 - acc: 1.0000\n",
      "Epoch 6/6\n",
      "6/6 [==============================] - 0s 11ms/step - loss: 0.1630 - acc: 1.0000\n",
      "Predicting 212th label...\n"
     ]
    },
    {
     "data": {
      "application/vnd.jupyter.widget-view+json": {
       "model_id": "4ff3ce086cd640d7bb047a4657128fc1",
       "version_major": 2,
       "version_minor": 0
      },
      "text/plain": [
       "  0%|          | 0/20 [00:00<?, ?it/s]"
      ]
     },
     "metadata": {},
     "output_type": "display_data"
    },
    {
     "name": "stdout",
     "output_type": "stream",
     "text": [
      "INFO:tensorflow:Assets written to: models/text_model_group_1/text_model_212/assets\n"
     ]
    },
    {
     "name": "stderr",
     "output_type": "stream",
     "text": [
      "INFO:tensorflow:Assets written to: models/text_model_group_1/text_model_212/assets\n"
     ]
    },
    {
     "name": "stdout",
     "output_type": "stream",
     "text": [
      "\n",
      "213'th label prediction started\n",
      "count_one 63\n",
      "count_zero 63\n",
      "Epoch 1/6\n",
      "4/4 [==============================] - 1s 12ms/step - loss: 0.6985 - acc: 0.4444\n",
      "Epoch 2/6\n",
      "4/4 [==============================] - 0s 10ms/step - loss: 0.6508 - acc: 0.9762\n",
      "Epoch 3/6\n",
      "4/4 [==============================] - 0s 10ms/step - loss: 0.5924 - acc: 1.0000\n",
      "Epoch 4/6\n",
      "4/4 [==============================] - 0s 11ms/step - loss: 0.4966 - acc: 1.0000\n",
      "Epoch 5/6\n",
      "4/4 [==============================] - 0s 11ms/step - loss: 0.3758 - acc: 1.0000\n",
      "Epoch 6/6\n",
      "4/4 [==============================] - 0s 11ms/step - loss: 0.2402 - acc: 1.0000\n",
      "Predicting 213th label...\n"
     ]
    },
    {
     "data": {
      "application/vnd.jupyter.widget-view+json": {
       "model_id": "9e5288fa494a4ea482ea6450d79cfd55",
       "version_major": 2,
       "version_minor": 0
      },
      "text/plain": [
       "  0%|          | 0/20 [00:00<?, ?it/s]"
      ]
     },
     "metadata": {},
     "output_type": "display_data"
    },
    {
     "name": "stdout",
     "output_type": "stream",
     "text": [
      "INFO:tensorflow:Assets written to: models/text_model_group_1/text_model_213/assets\n"
     ]
    },
    {
     "name": "stderr",
     "output_type": "stream",
     "text": [
      "INFO:tensorflow:Assets written to: models/text_model_group_1/text_model_213/assets\n"
     ]
    },
    {
     "name": "stdout",
     "output_type": "stream",
     "text": [
      "\n",
      "214'th label prediction started\n",
      "count_one 145\n",
      "count_zero 145\n",
      "Epoch 1/6\n",
      "10/10 [==============================] - 1s 11ms/step - loss: 0.6934 - acc: 0.5138\n",
      "Epoch 2/6\n",
      "10/10 [==============================] - 0s 10ms/step - loss: 0.6281 - acc: 0.9897\n",
      "Epoch 3/6\n",
      "10/10 [==============================] - 0s 11ms/step - loss: 0.5090 - acc: 1.0000\n",
      "Epoch 4/6\n",
      "10/10 [==============================] - 0s 10ms/step - loss: 0.3018 - acc: 1.0000\n",
      "Epoch 5/6\n",
      "10/10 [==============================] - 0s 11ms/step - loss: 0.1108 - acc: 1.0000\n",
      "Epoch 6/6\n",
      "10/10 [==============================] - 0s 10ms/step - loss: 0.0290 - acc: 1.0000\n",
      "Predicting 214th label...\n"
     ]
    },
    {
     "data": {
      "application/vnd.jupyter.widget-view+json": {
       "model_id": "6a9c590c1e70415e961eb8b98a5a065c",
       "version_major": 2,
       "version_minor": 0
      },
      "text/plain": [
       "  0%|          | 0/20 [00:00<?, ?it/s]"
      ]
     },
     "metadata": {},
     "output_type": "display_data"
    },
    {
     "name": "stdout",
     "output_type": "stream",
     "text": [
      "INFO:tensorflow:Assets written to: models/text_model_group_1/text_model_214/assets\n"
     ]
    },
    {
     "name": "stderr",
     "output_type": "stream",
     "text": [
      "INFO:tensorflow:Assets written to: models/text_model_group_1/text_model_214/assets\n"
     ]
    },
    {
     "name": "stdout",
     "output_type": "stream",
     "text": [
      "\n",
      "215'th label prediction started\n",
      "count_one 89\n",
      "count_zero 89\n",
      "Epoch 1/6\n",
      "6/6 [==============================] - 1s 12ms/step - loss: 0.6927 - acc: 0.5056\n",
      "Epoch 2/6\n",
      "6/6 [==============================] - 0s 10ms/step - loss: 0.6311 - acc: 0.9213\n",
      "Epoch 3/6\n",
      "6/6 [==============================] - 0s 10ms/step - loss: 0.5330 - acc: 1.0000\n",
      "Epoch 4/6\n",
      "6/6 [==============================] - 0s 11ms/step - loss: 0.3818 - acc: 1.0000\n",
      "Epoch 5/6\n",
      "6/6 [==============================] - 0s 10ms/step - loss: 0.2142 - acc: 1.0000\n",
      "Epoch 6/6\n",
      "6/6 [==============================] - 0s 10ms/step - loss: 0.0912 - acc: 1.0000\n",
      "Predicting 215th label...\n"
     ]
    },
    {
     "data": {
      "application/vnd.jupyter.widget-view+json": {
       "model_id": "161479d29be84041a0b4786425882b77",
       "version_major": 2,
       "version_minor": 0
      },
      "text/plain": [
       "  0%|          | 0/20 [00:00<?, ?it/s]"
      ]
     },
     "metadata": {},
     "output_type": "display_data"
    },
    {
     "name": "stdout",
     "output_type": "stream",
     "text": [
      "INFO:tensorflow:Assets written to: models/text_model_group_1/text_model_215/assets\n"
     ]
    },
    {
     "name": "stderr",
     "output_type": "stream",
     "text": [
      "INFO:tensorflow:Assets written to: models/text_model_group_1/text_model_215/assets\n"
     ]
    },
    {
     "name": "stdout",
     "output_type": "stream",
     "text": [
      "\n",
      "216'th label prediction started\n",
      "count_one 111\n",
      "count_zero 111\n",
      "Epoch 1/6\n",
      "7/7 [==============================] - 1s 11ms/step - loss: 0.6976 - acc: 0.4685\n",
      "Epoch 2/6\n",
      "7/7 [==============================] - 0s 9ms/step - loss: 0.5904 - acc: 0.9685\n",
      "Epoch 3/6\n",
      "7/7 [==============================] - 0s 10ms/step - loss: 0.4347 - acc: 1.0000\n",
      "Epoch 4/6\n",
      "7/7 [==============================] - 0s 11ms/step - loss: 0.2279 - acc: 1.0000\n",
      "Epoch 5/6\n",
      "7/7 [==============================] - 0s 11ms/step - loss: 0.0840 - acc: 1.0000\n",
      "Epoch 6/6\n",
      "7/7 [==============================] - 0s 12ms/step - loss: 0.0283 - acc: 1.0000\n",
      "Predicting 216th label...\n"
     ]
    },
    {
     "data": {
      "application/vnd.jupyter.widget-view+json": {
       "model_id": "16a9e7c83d784fca98a9686c8b400a28",
       "version_major": 2,
       "version_minor": 0
      },
      "text/plain": [
       "  0%|          | 0/20 [00:00<?, ?it/s]"
      ]
     },
     "metadata": {},
     "output_type": "display_data"
    },
    {
     "name": "stdout",
     "output_type": "stream",
     "text": [
      "INFO:tensorflow:Assets written to: models/text_model_group_1/text_model_216/assets\n"
     ]
    },
    {
     "name": "stderr",
     "output_type": "stream",
     "text": [
      "INFO:tensorflow:Assets written to: models/text_model_group_1/text_model_216/assets\n"
     ]
    },
    {
     "name": "stdout",
     "output_type": "stream",
     "text": [
      "\n",
      "217'th label prediction started\n",
      "count_one 87\n",
      "count_zero 87\n",
      "Epoch 1/6\n",
      "6/6 [==============================] - 1s 11ms/step - loss: 0.7000 - acc: 0.4655\n",
      "Epoch 2/6\n",
      "6/6 [==============================] - 0s 11ms/step - loss: 0.6261 - acc: 0.9368\n",
      "Epoch 3/6\n",
      "6/6 [==============================] - 0s 11ms/step - loss: 0.5387 - acc: 1.0000\n",
      "Epoch 4/6\n",
      "6/6 [==============================] - 0s 11ms/step - loss: 0.3795 - acc: 1.0000\n",
      "Epoch 5/6\n",
      "6/6 [==============================] - 0s 10ms/step - loss: 0.2100 - acc: 1.0000\n",
      "Epoch 6/6\n",
      "6/6 [==============================] - 0s 11ms/step - loss: 0.0879 - acc: 1.0000\n",
      "Predicting 217th label...\n"
     ]
    },
    {
     "data": {
      "application/vnd.jupyter.widget-view+json": {
       "model_id": "f5fd6e5fe8ab43ef82e187b4d37e25b1",
       "version_major": 2,
       "version_minor": 0
      },
      "text/plain": [
       "  0%|          | 0/20 [00:00<?, ?it/s]"
      ]
     },
     "metadata": {},
     "output_type": "display_data"
    },
    {
     "name": "stdout",
     "output_type": "stream",
     "text": [
      "INFO:tensorflow:Assets written to: models/text_model_group_1/text_model_217/assets\n"
     ]
    },
    {
     "name": "stderr",
     "output_type": "stream",
     "text": [
      "INFO:tensorflow:Assets written to: models/text_model_group_1/text_model_217/assets\n"
     ]
    },
    {
     "name": "stdout",
     "output_type": "stream",
     "text": [
      "\n",
      "218'th label prediction started\n",
      "count_one 108\n",
      "count_zero 108\n",
      "Epoch 1/6\n",
      "7/7 [==============================] - 1s 12ms/step - loss: 0.6905 - acc: 0.4954\n",
      "Epoch 2/6\n",
      "7/7 [==============================] - 0s 11ms/step - loss: 0.6204 - acc: 1.0000\n",
      "Epoch 3/6\n",
      "7/7 [==============================] - 0s 10ms/step - loss: 0.5054 - acc: 0.9954\n",
      "Epoch 4/6\n",
      "7/7 [==============================] - 0s 11ms/step - loss: 0.3246 - acc: 1.0000\n",
      "Epoch 5/6\n",
      "7/7 [==============================] - 0s 11ms/step - loss: 0.1507 - acc: 1.0000\n",
      "Epoch 6/6\n",
      "7/7 [==============================] - 0s 11ms/step - loss: 0.0519 - acc: 1.0000\n",
      "Predicting 218th label...\n"
     ]
    },
    {
     "data": {
      "application/vnd.jupyter.widget-view+json": {
       "model_id": "78b1f1e26e9f4c36b2d47d24e5c85bdc",
       "version_major": 2,
       "version_minor": 0
      },
      "text/plain": [
       "  0%|          | 0/20 [00:00<?, ?it/s]"
      ]
     },
     "metadata": {},
     "output_type": "display_data"
    },
    {
     "name": "stdout",
     "output_type": "stream",
     "text": [
      "INFO:tensorflow:Assets written to: models/text_model_group_1/text_model_218/assets\n"
     ]
    },
    {
     "name": "stderr",
     "output_type": "stream",
     "text": [
      "INFO:tensorflow:Assets written to: models/text_model_group_1/text_model_218/assets\n"
     ]
    },
    {
     "name": "stdout",
     "output_type": "stream",
     "text": [
      "\n",
      "219'th label prediction started\n",
      "count_one 63\n",
      "count_zero 63\n",
      "Epoch 1/6\n",
      "4/4 [==============================] - 1s 13ms/step - loss: 0.7085 - acc: 0.4603\n",
      "Epoch 2/6\n",
      "4/4 [==============================] - 0s 11ms/step - loss: 0.6285 - acc: 0.5873\n",
      "Epoch 3/6\n",
      "4/4 [==============================] - 0s 10ms/step - loss: 0.5452 - acc: 1.0000\n",
      "Epoch 4/6\n",
      "4/4 [==============================] - 0s 10ms/step - loss: 0.4333 - acc: 1.0000\n",
      "Epoch 5/6\n",
      "4/4 [==============================] - 0s 10ms/step - loss: 0.3137 - acc: 1.0000\n",
      "Epoch 6/6\n",
      "4/4 [==============================] - 0s 11ms/step - loss: 0.2008 - acc: 1.0000\n",
      "Predicting 219th label...\n"
     ]
    },
    {
     "data": {
      "application/vnd.jupyter.widget-view+json": {
       "model_id": "4b3c2774d1e941d1b6842c8587fa5c39",
       "version_major": 2,
       "version_minor": 0
      },
      "text/plain": [
       "  0%|          | 0/20 [00:00<?, ?it/s]"
      ]
     },
     "metadata": {},
     "output_type": "display_data"
    },
    {
     "name": "stdout",
     "output_type": "stream",
     "text": [
      "INFO:tensorflow:Assets written to: models/text_model_group_1/text_model_219/assets\n"
     ]
    },
    {
     "name": "stderr",
     "output_type": "stream",
     "text": [
      "INFO:tensorflow:Assets written to: models/text_model_group_1/text_model_219/assets\n"
     ]
    },
    {
     "name": "stdout",
     "output_type": "stream",
     "text": [
      "\n",
      "220'th label prediction started\n",
      "count_one 62\n",
      "count_zero 62\n",
      "Epoch 1/6\n",
      "4/4 [==============================] - 1s 12ms/step - loss: 0.6895 - acc: 0.5565\n",
      "Epoch 2/6\n",
      "4/4 [==============================] - 0s 9ms/step - loss: 0.6271 - acc: 0.9919\n",
      "Epoch 3/6\n",
      "4/4 [==============================] - 0s 11ms/step - loss: 0.5410 - acc: 1.0000\n",
      "Epoch 4/6\n",
      "4/4 [==============================] - 0s 11ms/step - loss: 0.4326 - acc: 1.0000\n",
      "Epoch 5/6\n",
      "4/4 [==============================] - 0s 9ms/step - loss: 0.3060 - acc: 1.0000\n",
      "Epoch 6/6\n",
      "4/4 [==============================] - 0s 10ms/step - loss: 0.1847 - acc: 1.0000\n",
      "Predicting 220th label...\n"
     ]
    },
    {
     "data": {
      "application/vnd.jupyter.widget-view+json": {
       "model_id": "4601faede730415aae40fac21e8095d5",
       "version_major": 2,
       "version_minor": 0
      },
      "text/plain": [
       "  0%|          | 0/20 [00:00<?, ?it/s]"
      ]
     },
     "metadata": {},
     "output_type": "display_data"
    },
    {
     "name": "stdout",
     "output_type": "stream",
     "text": [
      "INFO:tensorflow:Assets written to: models/text_model_group_1/text_model_220/assets\n"
     ]
    },
    {
     "name": "stderr",
     "output_type": "stream",
     "text": [
      "INFO:tensorflow:Assets written to: models/text_model_group_1/text_model_220/assets\n"
     ]
    }
   ],
   "source": [
    "import sys\n",
    "import os\n",
    "import nltk\n",
    "from nltk.corpus import reuters\n",
    "from sklearn.preprocessing import MultiLabelBinarizer\n",
    "import numpy as np\n",
    "import random\n",
    "import math\n",
    "from sklearn.metrics import accuracy_score\n",
    "from sklearn.metrics import precision_score\n",
    "from sklearn.metrics import recall_score\n",
    "from sklearn.metrics import f1_score\n",
    "from sklearn.metrics import precision_recall_fscore_support\n",
    "from sklearn.metrics import hamming_loss\n",
    "import statistics \n",
    "\n",
    "\n",
    "whole_predictions = []\n",
    "whole_real_predictions = []\n",
    "whole_threshold_predictions = []\n",
    "\n",
    "one=0\n",
    "\n",
    "#predict for each label individualy\n",
    "\n",
    "for i in range(len(y_list_train[0])):\n",
    "    print(\"\\n\" + str(i)+\"\\'th label prediction started\")\n",
    "    count_zero=0\n",
    "    count_one=0\n",
    "    new_label=[]\n",
    "    new_tokenized_data_train=[]\n",
    "    label = column(y_list_train,i)\n",
    "    count_one=sum(label)\n",
    "    print(\"count_one\",count_one)\n",
    "    \n",
    "    for k in range(len(label)):\n",
    "        if count_zero< count_one and label[k]==0:\n",
    "            new_label.append(0)\n",
    "            new_tokenized_data_train.append(tokenized_data_train[k])\n",
    "            count_zero=count_zero+1\n",
    "        if label[k]==1:\n",
    "            new_label.append(1)\n",
    "            new_tokenized_data_train.append(tokenized_data_train[k])\n",
    "\n",
    "            \n",
    "    print(\"count_zero\",count_zero)        \n",
    "    data_with_len = [[data,new_label[j],len(data)]\n",
    "                     for j,data in enumerate(new_tokenized_data_train)]\n",
    "\n",
    "    data_with_len.sort(key=lambda x: x[2])\n",
    "    sorted_data_labels = [(data_lab[0], data_lab[1]) for data_lab in data_with_len]\n",
    "    processed_dataset = tf.data.Dataset.from_generator(lambda: sorted_data_labels, output_types=(tf.int32, tf.int32))\n",
    "    BATCH_SIZE = 32\n",
    "    batched_dataset = processed_dataset.padded_batch(BATCH_SIZE, padded_shapes=((None, ), ()))\n",
    "    TOTAL_BATCHES = math.ceil(len(sorted_data_labels) / BATCH_SIZE)\n",
    "#     TEST_BATCHES = TOTAL_BATCHES // TOTAL_BATCHES\n",
    "#     batched_dataset.shuffle(TOTAL_BATCHES)\n",
    "#     test_data = batched_dataset.take(TEST_BATCHES)\n",
    "#     train_data = batched_dataset.skip(TEST_BATCHES)\n",
    "    train_data = batched_dataset\n",
    "    \n",
    "   \n",
    "    VOCAB_LENGTH = len(tokenizer.vocab)\n",
    "    EMB_DIM = 260\n",
    "    CNN_FILTERS = 50\n",
    "    DNN_UNITS = 256\n",
    "    OUTPUT_CLASSES = 2\n",
    "\n",
    "    DROPOUT_RATE = 0.2\n",
    "\n",
    "    NB_EPOCHS = 6\n",
    "\n",
    "    text_model = TEXT_MODEL(vocabulary_size=VOCAB_LENGTH,\n",
    "                        embedding_dimensions=EMB_DIM,\n",
    "                        cnn_filters=CNN_FILTERS,\n",
    "                        dnn_units=DNN_UNITS,\n",
    "                        model_output_classes=OUTPUT_CLASSES,\n",
    "                        dropout_rate=DROPOUT_RATE)\n",
    "\n",
    "    if OUTPUT_CLASSES == 2:\n",
    "        text_model.compile(loss=\"binary_crossentropy\",\n",
    "                           optimizer=\"adam\",\n",
    "                           metrics=[\"acc\"])\n",
    "    else:\n",
    "        text_model.compile(loss=\"sparse_categorical_crossentropy\",\n",
    "                           optimizer=\"adam\",\n",
    "                           metrics=[\"sparse_categorical_acc\"])\n",
    "\n",
    "    text_model.fit(train_data, epochs=NB_EPOCHS)\n",
    "\n",
    "    self_label_predictions = []\n",
    "    self_threshold_predictions = []\n",
    "    self_label_real_values = []\n",
    "    print(\"Predicting \" + str(i) + \"th label...\")\n",
    "    \n",
    "    PREDICTION_BATCH_SIZE = 512\n",
    "    \n",
    "    for chunk in tqdm(list(chunks(tokenized_data_test, PREDICTION_BATCH_SIZE))):\n",
    "#         if e%2==0:\n",
    "#             progress(e,len(tokenized_data_test))\n",
    "#         print(\"type(chunk[0]): {0}\".format(type(chunk[0])))\n",
    "    \n",
    "        processed_chunk_dataset = tf.data.Dataset.from_generator(lambda: chunk, output_types=(tf.int32))\n",
    "        batched_chunk_dataset = processed_chunk_dataset.padded_batch(PREDICTION_BATCH_SIZE, padded_shapes=(None,))\n",
    "    \n",
    "        rows = text_model.predict(batched_chunk_dataset, batch_size=len(chunk))\n",
    "        for res in rows:\n",
    "            self_label_real_values.append(res[0])\n",
    "\n",
    "            if res[0] > 0.93:\n",
    "                self_threshold_predictions.append(res[0])\n",
    "            else :\n",
    "                self_threshold_predictions.append(0.0)\n",
    "\n",
    "    whole_threshold_predictions.append(self_threshold_predictions)\n",
    "    whole_real_predictions.append(self_label_real_values)\n",
    "    \n",
    "    text_model.save('models/text_model_group_1/text_model_{0}'.format(i))\n"
   ]
  },
  {
   "cell_type": "code",
   "execution_count": 16,
   "metadata": {
    "papermill": {
     "duration": null,
     "end_time": null,
     "exception": null,
     "start_time": null,
     "status": "pending"
    },
    "tags": []
   },
   "outputs": [
    {
     "data": {
      "application/vnd.jupyter.widget-view+json": {
       "model_id": "541deaaa112640e49737967b65603f2c",
       "version_major": 2,
       "version_minor": 0
      },
      "text/plain": [
       "  0%|          | 0/10000 [00:00<?, ?it/s]"
      ]
     },
     "metadata": {},
     "output_type": "display_data"
    },
    {
     "name": "stdout",
     "output_type": "stream",
     "text": [
      "\n",
      "\n",
      "Recall@3 = 0.5160500000000012\n",
      "Precision@3 = 0.4148166666666688\n",
      "f1score@3 = 0.44646666666667445\n"
     ]
    },
    {
     "data": {
      "application/vnd.jupyter.widget-view+json": {
       "model_id": "2fab06e581a0467994d4d8c63805b5c0",
       "version_major": 2,
       "version_minor": 0
      },
      "text/plain": [
       "  0%|          | 0/10000 [00:00<?, ?it/s]"
      ]
     },
     "metadata": {},
     "output_type": "display_data"
    },
    {
     "name": "stdout",
     "output_type": "stream",
     "text": [
      "\n",
      "\n",
      "Recall@5 = 0.5796016666666749\n",
      "Precision@5 = 0.33399166666666247\n",
      "f1score@5 = 0.3993073015872945\n"
     ]
    },
    {
     "data": {
      "application/vnd.jupyter.widget-view+json": {
       "model_id": "9a286becd2af4423b1b666a466fee227",
       "version_major": 2,
       "version_minor": 0
      },
      "text/plain": [
       "  0%|          | 0/10000 [00:00<?, ?it/s]"
      ]
     },
     "metadata": {},
     "output_type": "display_data"
    },
    {
     "name": "stdout",
     "output_type": "stream",
     "text": [
      "\n",
      "\n",
      "Recall@10 = 0.7186965476190545\n",
      "Precision@10 = 0.23630412698412037\n",
      "f1score@10 = 0.331525567546492\n"
     ]
    }
   ],
   "source": [
    "whole_threshold_predictions = list(map(list, zip(*whole_threshold_predictions)))\n",
    "whole_real_predictions = list(map(list, zip(*whole_real_predictions)))\n",
    "\n",
    "\n",
    "\n",
    "\n",
    "        \n",
    "#@k Formulas :\n",
    "K_list= [3,5,10]\n",
    "for U in range(len(K_list)):\n",
    "    K_tag_y_list_test = []\n",
    "    k = K_list[U]\n",
    "    sigma_recalls = 0\n",
    "    sigma_precisions = 0\n",
    "    sigma_f1score = 0\n",
    "\n",
    "    K_tag_y_list_test = y_list_test\n",
    "    for f in tqdm(range(len(K_tag_y_list_test))):\n",
    "#         progress(f,len(K_tag_y_list_test))\n",
    "        currentitem = np.array(whole_threshold_predictions[f])\n",
    "\n",
    "        top_k_indexes = (-currentitem).argsort()[:k]\n",
    "        \n",
    "        for C in top_k_indexes:\n",
    "            if whole_threshold_predictions[f][C] == 0.0 :\n",
    "                top_k_indexes = top_k_indexes[top_k_indexes != C]\n",
    "      \n",
    "        intercep = 0\n",
    "        for numb in top_k_indexes:\n",
    "            if K_tag_y_list_test[f][numb] == 1 :\n",
    "                intercep += 1\n",
    "        num_of_exists_tags = np.count_nonzero(K_tag_y_list_test[f] == 1)\n",
    "\n",
    "        if len(top_k_indexes) == 0 :\n",
    "            self_recall_k=0\n",
    "        elif len(top_k_indexes) >= num_of_exists_tags :\n",
    "            self_recall_k = intercep / num_of_exists_tags\n",
    "        elif len(top_k_indexes) < num_of_exists_tags :\n",
    "            self_recall_k = intercep / len(top_k_indexes)\n",
    "        if len(top_k_indexes)==0:\n",
    "             self_precisions_k=0 \n",
    "        else:    \n",
    "            self_precisions_k = intercep / len(top_k_indexes)\n",
    "        if self_precisions_k==0 and self_recall_k==0:\n",
    "            self_f1_score_k=0\n",
    "        else:    \n",
    "            self_f1_score_k = 2 * ((self_precisions_k*self_recall_k)/(self_precisions_k+self_recall_k))\n",
    "        sigma_recalls += self_recall_k\n",
    "        sigma_precisions += self_precisions_k\n",
    "        sigma_f1score += self_f1_score_k\n",
    "\n",
    "    recall_k = sigma_recalls / len(K_tag_y_list_test)\n",
    "    precisions_k = sigma_precisions / len(K_tag_y_list_test)\n",
    "    f1score_k = sigma_f1score / len(K_tag_y_list_test)\n",
    "    print(\"\\n\")\n",
    "    print(\"Recall@\"+ str(K_list[U])+\" = \" + str(recall_k))\n",
    "    print(\"Precision@\"+ str(K_list[U])+\" = \" + str(precisions_k))\n",
    "    print(\"f1score@\"+ str(K_list[U])+\" = \" + str(f1score_k))"
   ]
  },
  {
   "cell_type": "code",
   "execution_count": 17,
   "metadata": {
    "papermill": {
     "duration": null,
     "end_time": null,
     "exception": null,
     "start_time": null,
     "status": "pending"
    },
    "tags": []
   },
   "outputs": [
    {
     "name": "stdout",
     "output_type": "stream",
     "text": [
      "Model: \"text_model\"\n",
      "_________________________________________________________________\n",
      "Layer (type)                 Output Shape              Param #   \n",
      "=================================================================\n",
      "embedding_220 (Embedding)    multiple                  7935720   \n",
      "_________________________________________________________________\n",
      "conv1d_660 (Conv1D)          multiple                  26050     \n",
      "_________________________________________________________________\n",
      "conv1d_661 (Conv1D)          multiple                  39050     \n",
      "_________________________________________________________________\n",
      "conv1d_662 (Conv1D)          multiple                  52050     \n",
      "_________________________________________________________________\n",
      "global_max_pooling1d_220 (Gl multiple                  0         \n",
      "_________________________________________________________________\n",
      "dense_440 (Dense)            multiple                  38656     \n",
      "_________________________________________________________________\n",
      "dropout_220 (Dropout)        multiple                  0         \n",
      "_________________________________________________________________\n",
      "dense_441 (Dense)            multiple                  257       \n",
      "=================================================================\n",
      "Total params: 8,091,783\n",
      "Trainable params: 8,091,783\n",
      "Non-trainable params: 0\n",
      "_________________________________________________________________\n"
     ]
    }
   ],
   "source": [
    "text_model.summary()"
   ]
  },
  {
   "cell_type": "code",
   "execution_count": 18,
   "metadata": {},
   "outputs": [],
   "source": [
    "# text_model.save('models/text_model_1')"
   ]
  },
  {
   "cell_type": "code",
   "execution_count": 19,
   "metadata": {},
   "outputs": [
    {
     "data": {
      "text/plain": [
       "['Systems-Administration',\n",
       " 'Information-Management',\n",
       " 'Issue-Tracking',\n",
       " 'PHP',\n",
       " 'php-classes',\n",
       " 'Security',\n",
       " 'LDAP',\n",
       " 'SQL',\n",
       " 'Operating-Systems',\n",
       " 'Monitoring',\n",
       " 'Software-Development',\n",
       " 'Internet',\n",
       " 'FTP',\n",
       " 'Mirroring',\n",
       " 'Web',\n",
       " 'Web-Application',\n",
       " 'Communications',\n",
       " 'Telephony',\n",
       " 'Office/Business',\n",
       " 'Point-Of-Sale',\n",
       " 'Game',\n",
       " 'Database',\n",
       " 'MySQL',\n",
       " 'Desktop-Environment',\n",
       " 'Terminals',\n",
       " 'Terminal-Emulators/X-Terminals',\n",
       " 'Site-Management',\n",
       " 'Log-Analysis',\n",
       " 'Libraries',\n",
       " 'Benchmark',\n",
       " 'Logging',\n",
       " 'Networking',\n",
       " 'Utilities',\n",
       " 'PDF',\n",
       " 'Java',\n",
       " 'Embedded-Systems',\n",
       " 'C++',\n",
       " 'Library',\n",
       " 'Interpreters',\n",
       " 'Command-Line',\n",
       " 'Scientific/Engineering',\n",
       " 'Version-Control',\n",
       " 'C',\n",
       " 'Email',\n",
       " 'Filters',\n",
       " 'Dynamic-Content',\n",
       " 'CGI-Tools/Libraries',\n",
       " 'groupware',\n",
       " 'Scheduling',\n",
       " 'Office-Suites',\n",
       " 'News/Diary',\n",
       " 'GPL',\n",
       " 'Address-Book',\n",
       " 'Front-Ends',\n",
       " 'Email-Clients-(MUA)',\n",
       " 'Workflow-Frameworks',\n",
       " 'multimedia',\n",
       " 'Sound/Audio',\n",
       " 'Players',\n",
       " 'MP3',\n",
       " 'HTML',\n",
       " 'Testing',\n",
       " 'Archiving',\n",
       " 'Network',\n",
       " 'Server',\n",
       " 'Linux',\n",
       " 'Windows',\n",
       " 'Financial',\n",
       " 'Accounting',\n",
       " 'Games/Entertainment',\n",
       " 'Role-Playing',\n",
       " 'Real-Time-Strategy',\n",
       " 'MIDI',\n",
       " 'music',\n",
       " 'Visualization',\n",
       " 'POSIX',\n",
       " 'Debuggers',\n",
       " 'Integrated-Development-Environments-(IDE)',\n",
       " 'Home-Automation',\n",
       " 'Artificial-Intelligence',\n",
       " 'HTTP-Servers',\n",
       " 'Markup',\n",
       " 'XML',\n",
       " 'Object-Brokering',\n",
       " 'Java-Libraries',\n",
       " 'Clustering/Distributed-Networks',\n",
       " 'Document-Repositories',\n",
       " 'Python-Modules',\n",
       " 'Hardware',\n",
       " 'Database-Engines/Servers',\n",
       " 'Build-Tools',\n",
       " 'Quality-Assurance',\n",
       " 'Firewalls',\n",
       " 'Cryptography',\n",
       " 'Proxy-Servers',\n",
       " 'Compilers',\n",
       " 'Python',\n",
       " 'Compression',\n",
       " 'Packaging',\n",
       " 'backup',\n",
       " 'DNS',\n",
       " 'Application-Frameworks',\n",
       " 'API',\n",
       " 'Installation/Setup',\n",
       " 'Software-Distribution',\n",
       " 'Software-Distribution-Tools',\n",
       " 'Astronomy',\n",
       " 'Simulation',\n",
       " 'Puzzle-Games',\n",
       " 'Graphics',\n",
       " 'GUI',\n",
       " 'Games',\n",
       " 'Text-Processing',\n",
       " 'Medical-Science',\n",
       " 'CMS',\n",
       " 'Wiki',\n",
       " 'GPLv3',\n",
       " 'Linux-Distributions',\n",
       " 'education',\n",
       " 'Emulators',\n",
       " 'Unix',\n",
       " 'IMAP',\n",
       " 'CD-Audio',\n",
       " 'CD-Writing',\n",
       " 'CD-Ripping',\n",
       " 'Boot',\n",
       " 'Mathematics',\n",
       " 'Chat',\n",
       " 'Diagnostics',\n",
       " 'CRM',\n",
       " 'File-Sharing',\n",
       " 'Recovery-Tools',\n",
       " 'Bioinformatics',\n",
       " 'tools',\n",
       " 'GNOME',\n",
       " 'POP3',\n",
       " 'User-Interfaces',\n",
       " 'Code-Generators',\n",
       " 'Browsers',\n",
       " 'Filesystems',\n",
       " 'Usenet-News',\n",
       " 'IRC',\n",
       " 'HTML/XHTML',\n",
       " 'Electronic-Design-Automation-(EDA)',\n",
       " 'Editors',\n",
       " 'fonts',\n",
       " 'Indexing',\n",
       " 'php-class',\n",
       " 'Shells',\n",
       " 'File-Managers',\n",
       " 'Metadata/Semantic-Models',\n",
       " 'Records-Management',\n",
       " 'Post-Office',\n",
       " 'First-Person-Shooters',\n",
       " 'Arcade',\n",
       " 'Development',\n",
       " 'Window-Manager',\n",
       " 'Text-Editors',\n",
       " 'CVS',\n",
       " 'JavaScript',\n",
       " 'Perl-Modules',\n",
       " 'Widget-Sets',\n",
       " 'GPLv2',\n",
       " 'Analysis',\n",
       " 'KDE',\n",
       " 'framework',\n",
       " 'Documentation',\n",
       " 'Indexing/Search',\n",
       " 'Applets',\n",
       " 'Video',\n",
       " 'Physics',\n",
       " 'Linguistic',\n",
       " 'General',\n",
       " 'Other/Nonlisted-Topic',\n",
       " 'Viewers',\n",
       " 'Bug-Tracking',\n",
       " 'Capture',\n",
       " 'Conferencing',\n",
       " 'Computer-Aided-Instruction-(CAI)',\n",
       " 'Perl',\n",
       " 'Display',\n",
       " 'Presentation',\n",
       " 'printing',\n",
       " 'Conversion',\n",
       " 'Graphics-Conversion',\n",
       " 'LGPL',\n",
       " 'Geographical',\n",
       " '3D-Rendering',\n",
       " 'Operating-System-Kernels',\n",
       " 'Vector-Based',\n",
       " 'Message-Boards',\n",
       " 'Audio',\n",
       " 'TeX/LaTeX',\n",
       " '3D-Modeling',\n",
       " 'Mail-Transport-Agents',\n",
       " 'Turn-Based-Strategy',\n",
       " 'Speech',\n",
       " 'Word-Processors',\n",
       " 'Chemistry',\n",
       " 'CD-Based',\n",
       " 'Localization',\n",
       " 'Mailing-List-Servers',\n",
       " 'Freeware',\n",
       " 'Link-Checking',\n",
       " 'Capture/Recording',\n",
       " 'Subversion',\n",
       " 'mud',\n",
       " 'Emacs',\n",
       " 'XSL/XSLT',\n",
       " 'Ham-Radio',\n",
       " 'Internationalization',\n",
       " 'Internet-Phone',\n",
       " 'BSD-Original',\n",
       " 'Digital-Camera',\n",
       " 'Artistic-Software',\n",
       " 'Sound-Synthesis',\n",
       " 'Window-Maker',\n",
       " 'Ruby-Modules',\n",
       " 'BBS',\n",
       " 'GNUstep',\n",
       " 'AOL-Instant-Messenger']"
      ]
     },
     "execution_count": 19,
     "metadata": {},
     "output_type": "execute_result"
    }
   ],
   "source": [
    "tags"
   ]
  },
  {
   "cell_type": "code",
   "execution_count": 20,
   "metadata": {},
   "outputs": [],
   "source": [
    "labels_dict = dict(list(enumerate(tags)))"
   ]
  },
  {
   "cell_type": "code",
   "execution_count": 21,
   "metadata": {},
   "outputs": [],
   "source": [
    "# import json\n",
    "# with open('labels.json', 'w') as jsonfile:\n",
    "#     json.dump(labels_dict, jsonfile)"
   ]
  },
  {
   "cell_type": "code",
   "execution_count": null,
   "metadata": {},
   "outputs": [],
   "source": []
  }
 ],
 "metadata": {
  "kernelspec": {
   "display_name": "Python 3 (ipykernel)",
   "language": "python",
   "name": "python3"
  },
  "language_info": {
   "codemirror_mode": {
    "name": "ipython",
    "version": 3
   },
   "file_extension": ".py",
   "mimetype": "text/x-python",
   "name": "python",
   "nbconvert_exporter": "python",
   "pygments_lexer": "ipython3",
   "version": "3.7.3"
  },
  "papermill": {
   "duration": null,
   "end_time": null,
   "environment_variables": {},
   "exception": null,
   "input_path": "__notebook__.ipynb",
   "output_path": "__notebook__.ipynb",
   "parameters": {},
   "start_time": "2021-01-06T14:24:18.249969",
   "version": "1.2.1"
  }
 },
 "nbformat": 4,
 "nbformat_minor": 4
}
